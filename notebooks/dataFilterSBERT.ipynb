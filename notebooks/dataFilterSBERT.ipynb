{
 "cells": [
  {
   "cell_type": "markdown",
   "metadata": {},
   "source": [
    "# Init libs and functions"
   ]
  },
  {
   "cell_type": "code",
   "execution_count": 8,
   "metadata": {},
   "outputs": [],
   "source": [
    "import os\n",
    "import time\n",
    "\n",
    "import numpy as np\n",
    "import pandas as pd\n",
    "import plotly.express as px\n",
    "from scipy.spatial import distance\n",
    "\n",
    "from sklearn.metrics import classification_report\n",
    "\n",
    "import transformers\n",
    "from transformers import pipeline\n",
    "\n",
    "import sentence_transformers \n",
    "from sentence_transformers import SentenceTransformer"
   ]
  },
  {
   "cell_type": "code",
   "execution_count": 2,
   "metadata": {},
   "outputs": [
    {
     "data": {
      "application/vnd.jupyter.widget-view+json": {
       "model_id": "d80c8772b1f843c58e37fe94aa88f050",
       "version_major": 2,
       "version_minor": 0
      },
      "text/plain": [
       "HBox(children=(HTML(value='Downloading'), FloatProgress(value=0.0, max=968.0), HTML(value='')))"
      ]
     },
     "metadata": {},
     "output_type": "display_data"
    },
    {
     "name": "stdout",
     "output_type": "stream",
     "text": [
      "\n"
     ]
    },
    {
     "data": {
      "application/vnd.jupyter.widget-view+json": {
       "model_id": "3cb00f09c9614b83a582ddffbf0814a6",
       "version_major": 2,
       "version_minor": 0
      },
      "text/plain": [
       "HBox(children=(HTML(value='Downloading'), FloatProgress(value=0.0, max=3786.0), HTML(value='')))"
      ]
     },
     "metadata": {},
     "output_type": "display_data"
    },
    {
     "name": "stdout",
     "output_type": "stream",
     "text": [
      "\n"
     ]
    },
    {
     "data": {
      "application/vnd.jupyter.widget-view+json": {
       "model_id": "f8ade48acccd4b9987f2f06433265afa",
       "version_major": 2,
       "version_minor": 0
      },
      "text/plain": [
       "HBox(children=(HTML(value='Downloading'), FloatProgress(value=0.0, max=645.0), HTML(value='')))"
      ]
     },
     "metadata": {},
     "output_type": "display_data"
    },
    {
     "name": "stdout",
     "output_type": "stream",
     "text": [
      "\n"
     ]
    },
    {
     "data": {
      "application/vnd.jupyter.widget-view+json": {
       "model_id": "1e031f3d460c4391844cce4e389c4a8c",
       "version_major": 2,
       "version_minor": 0
      },
      "text/plain": [
       "HBox(children=(HTML(value='Downloading'), FloatProgress(value=0.0, max=122.0), HTML(value='')))"
      ]
     },
     "metadata": {},
     "output_type": "display_data"
    },
    {
     "name": "stdout",
     "output_type": "stream",
     "text": [
      "\n"
     ]
    },
    {
     "data": {
      "application/vnd.jupyter.widget-view+json": {
       "model_id": "05a6faad2f7946e089435cb8213e1f5c",
       "version_major": 2,
       "version_minor": 0
      },
      "text/plain": [
       "HBox(children=(HTML(value='Downloading'), FloatProgress(value=0.0, max=229.0), HTML(value='')))"
      ]
     },
     "metadata": {},
     "output_type": "display_data"
    },
    {
     "name": "stdout",
     "output_type": "stream",
     "text": [
      "\n"
     ]
    },
    {
     "data": {
      "application/vnd.jupyter.widget-view+json": {
       "model_id": "45aa282141b640cab9de50847044da31",
       "version_major": 2,
       "version_minor": 0
      },
      "text/plain": [
       "HBox(children=(HTML(value='Downloading'), FloatProgress(value=0.0, max=470693617.0), HTML(value='')))"
      ]
     },
     "metadata": {},
     "output_type": "display_data"
    },
    {
     "name": "stdout",
     "output_type": "stream",
     "text": [
      "\n"
     ]
    },
    {
     "data": {
      "application/vnd.jupyter.widget-view+json": {
       "model_id": "2605fa8d6e314a3898558002a2a45bbe",
       "version_major": 2,
       "version_minor": 0
      },
      "text/plain": [
       "HBox(children=(HTML(value='Downloading'), FloatProgress(value=0.0, max=53.0), HTML(value='')))"
      ]
     },
     "metadata": {},
     "output_type": "display_data"
    },
    {
     "name": "stdout",
     "output_type": "stream",
     "text": [
      "\n"
     ]
    },
    {
     "data": {
      "application/vnd.jupyter.widget-view+json": {
       "model_id": "e05d3cd2d318446f8a856f92a7dd72c4",
       "version_major": 2,
       "version_minor": 0
      },
      "text/plain": [
       "HBox(children=(HTML(value='Downloading'), FloatProgress(value=0.0, max=5069051.0), HTML(value='')))"
      ]
     },
     "metadata": {},
     "output_type": "display_data"
    },
    {
     "name": "stdout",
     "output_type": "stream",
     "text": [
      "\n"
     ]
    },
    {
     "data": {
      "application/vnd.jupyter.widget-view+json": {
       "model_id": "50006befddaf42989201bbee8da47163",
       "version_major": 2,
       "version_minor": 0
      },
      "text/plain": [
       "HBox(children=(HTML(value='Downloading'), FloatProgress(value=0.0, max=239.0), HTML(value='')))"
      ]
     },
     "metadata": {},
     "output_type": "display_data"
    },
    {
     "name": "stdout",
     "output_type": "stream",
     "text": [
      "\n"
     ]
    },
    {
     "data": {
      "application/vnd.jupyter.widget-view+json": {
       "model_id": "0a6fe78c266942ae82e3ef220e9a7020",
       "version_major": 2,
       "version_minor": 0
      },
      "text/plain": [
       "HBox(children=(HTML(value='Downloading'), FloatProgress(value=0.0, max=9081518.0), HTML(value='')))"
      ]
     },
     "metadata": {},
     "output_type": "display_data"
    },
    {
     "name": "stdout",
     "output_type": "stream",
     "text": [
      "\n"
     ]
    },
    {
     "data": {
      "application/vnd.jupyter.widget-view+json": {
       "model_id": "d8be44cdf652461594e2b8f249f9aa4d",
       "version_major": 2,
       "version_minor": 0
      },
      "text/plain": [
       "HBox(children=(HTML(value='Downloading'), FloatProgress(value=0.0, max=480.0), HTML(value='')))"
      ]
     },
     "metadata": {},
     "output_type": "display_data"
    },
    {
     "name": "stdout",
     "output_type": "stream",
     "text": [
      "\n"
     ]
    },
    {
     "data": {
      "application/vnd.jupyter.widget-view+json": {
       "model_id": "234c32f8afa543e7ae9c3556bed9a0bc",
       "version_major": 2,
       "version_minor": 0
      },
      "text/plain": [
       "HBox(children=(HTML(value='Downloading'), FloatProgress(value=0.0, max=14763234.0), HTML(value='')))"
      ]
     },
     "metadata": {},
     "output_type": "display_data"
    },
    {
     "name": "stdout",
     "output_type": "stream",
     "text": [
      "\n"
     ]
    },
    {
     "data": {
      "application/vnd.jupyter.widget-view+json": {
       "model_id": "32e09fbe55834873ac96b255bf512969",
       "version_major": 2,
       "version_minor": 0
      },
      "text/plain": [
       "HBox(children=(HTML(value='Downloading'), FloatProgress(value=0.0, max=190.0), HTML(value='')))"
      ]
     },
     "metadata": {},
     "output_type": "display_data"
    },
    {
     "name": "stdout",
     "output_type": "stream",
     "text": [
      "\n"
     ]
    }
   ],
   "source": [
    "semantic_classifier_model = SentenceTransformer('sentence-transformers/paraphrase-multilingual-MiniLM-L12-v2')"
   ]
  },
  {
   "cell_type": "code",
   "execution_count": 25,
   "metadata": {},
   "outputs": [],
   "source": [
    "\"\"\"\n",
    "df - data with labeled data (columns: data, label)\n",
    "candidate labels - list with zero-shot classes\n",
    "classifier - function to classify with two arguments: text, list of classes\n",
    "threshold - acceptable confidence of classification, if lower then marked as advertisement\n",
    "debug - how often index is printed\n",
    "adv_labels - avertisement labels in df\n",
    "cand_adv_index - indexes of avertisement classes from candidate labels list\n",
    "debug_all - print information about misclassified data\n",
    "\n",
    "\"\"\"\n",
    "def check_candidates_multilabeled(df, candidate_labels, classifier, threshold, debug, avd_labels, cand_adv_index, debug_all = False):\n",
    "    new_true = list() # объединяем все нерекламные классы в один, реклама в другой\n",
    "    pred_true = list()\n",
    "    not_catched = list()\n",
    "    for index, row in df.iterrows():\n",
    "        if index % debug == 0:\n",
    "            print('index = ', index)    \n",
    "        \n",
    "        val = 0\n",
    "        for true_avd_label in avd_labels:\n",
    "            if true_avd_label in row['label']: # если хотя бы один рекламный тэг\n",
    "                val = 1\n",
    "                # print('YES', true_avd_label, 'in', row['label'])\n",
    "                break\n",
    "        new_true.append(val)\n",
    "        \n",
    "        res = classifier(row['data'], candidate_labels)\n",
    "        if res['scores'][0] > threshold:\n",
    "            val = 0\n",
    "            for ind in cand_adv_index:\n",
    "                if res['labels'][0] == candidate_labels[ind]: # равен лейблу, который относится к рекламному (food, ...)\n",
    "                    val = 1\n",
    "                    break\n",
    "            pred_true.append(val)\n",
    "        else:\n",
    "            pred_true.append(1) # не хватило уверенности в классификации события, помечаем как реклама\n",
    "        \n",
    "        if new_true[-1] == 1 and pred_true[-1] == 0:\n",
    "            not_catched.append(index)\n",
    "        \n",
    "        #debug\n",
    "        if new_true[-1] != pred_true[-1]:\n",
    "            if debug_all:\n",
    "                content = res['sequence'].replace('\\n','')\n",
    "                print(f\"{row['label']} orig: {new_true[-1]} ({row['label']}) pred: {pred_true[-1]} ({res['labels'][0]}) {content}\")\n",
    "    return new_true, pred_true, not_catched"
   ]
  },
  {
   "cell_type": "code",
   "execution_count": 5,
   "metadata": {},
   "outputs": [],
   "source": [
    "def classifier_semantic(text, targets, model = semantic_classifier_model):\n",
    "    target_emb = model.encode(targets)\n",
    "    text_emb = model.encode(text)\n",
    "    \n",
    "    probs = [ 1 - distance.cosine(text_emb, t) for t in target_emb]\n",
    "    probs = probs / sum(probs)\n",
    "    \n",
    "    response = dict()\n",
    "    for p, t in zip(probs, targets):\n",
    "        response[t] = p \n",
    "    \n",
    "    temp = dict(sorted(response.items(), key=lambda item: item[1], reverse=True))\n",
    "    response = dict()\n",
    "    response['sequence'] = text\n",
    "    response['scores'] = list(temp.values())\n",
    "    response['labels'] = list(temp.keys())\n",
    "    \n",
    "    return response"
   ]
  },
  {
   "cell_type": "code",
   "execution_count": 6,
   "metadata": {},
   "outputs": [
    {
     "data": {
      "text/plain": [
       "{'sequence': 'запись в директ',\n",
       " 'scores': [0.477551522198239, 0.2766563765912658, 0.24579210121049522],\n",
       " 'labels': ['запись', 'описание события', 'услуги']}"
      ]
     },
     "execution_count": 6,
     "metadata": {},
     "output_type": "execute_result"
    }
   ],
   "source": [
    "classifier_semantic('запись в директ', ['услуги', 'запись', 'описание события'])"
   ]
  },
  {
   "cell_type": "markdown",
   "metadata": {},
   "source": [
    "# Load dataset"
   ]
  },
  {
   "cell_type": "code",
   "execution_count": 11,
   "metadata": {},
   "outputs": [],
   "source": [
    "df_lp = pd.read_csv('data_toloka.csv')"
   ]
  },
  {
   "cell_type": "code",
   "execution_count": 12,
   "metadata": {},
   "outputs": [],
   "source": [
    "df_lp['data'] = df_lp['caption']"
   ]
  },
  {
   "cell_type": "code",
   "execution_count": 13,
   "metadata": {},
   "outputs": [],
   "source": [
    "# delete incorrect \"other\"\n",
    "def delete_tag(x, tag='other'):\n",
    "    x = x.replace('#' + tag, '').replace('_other','TEMP').replace('other','').replace('TEMP','_other')\n",
    "    if x[0] == '#':\n",
    "        return x[1:]\n",
    "    else:\n",
    "        return x"
   ]
  },
  {
   "cell_type": "code",
   "execution_count": 14,
   "metadata": {},
   "outputs": [],
   "source": [
    "df_lp.label[df_lp.label.str.contains('#other') | df_lp.label.str.contains('other#')] = df_lp[df_lp.label.str.contains('#other') | df_lp.label.str.contains('other#')].label.apply(delete_tag)"
   ]
  },
  {
   "cell_type": "code",
   "execution_count": 15,
   "metadata": {},
   "outputs": [],
   "source": [
    "# delete trash\n",
    "df_cleaned = df_lp[~df_lp.label.str.contains('trash')]"
   ]
  },
  {
   "cell_type": "code",
   "execution_count": 17,
   "metadata": {},
   "outputs": [
    {
     "data": {
      "text/plain": [
       "(2987, 3)"
      ]
     },
     "execution_count": 17,
     "metadata": {},
     "output_type": "execute_result"
    }
   ],
   "source": [
    "df_cleaned.shape"
   ]
  },
  {
   "cell_type": "markdown",
   "metadata": {},
   "source": [
    "# Test"
   ]
  },
  {
   "cell_type": "code",
   "execution_count": 20,
   "metadata": {},
   "outputs": [],
   "source": [
    "adver_labs = ['adv_event', 'adv_other', 'food', 'other', 'retrospective_event', 'future_events' ]"
   ]
  },
  {
   "cell_type": "code",
   "execution_count": 21,
   "metadata": {},
   "outputs": [],
   "source": [
    "candidate_labs = [\n",
    "    'other',\n",
    "    'food',\n",
    "    'advertisement spam promotion',\n",
    "    'music concert', \n",
    "    'exhibition', \n",
    "    'festival',\n",
    "    'conference',\n",
    "    'calendar holiday',\n",
    "    'sport event',\n",
    "    'flashmob', \n",
    "    'accident',\n",
    "    'stroll walking',\n",
    "    'wedding birthday',\n",
    "    'event']"
   ]
  },
  {
   "cell_type": "code",
   "execution_count": 22,
   "metadata": {},
   "outputs": [
    {
     "name": "stdout",
     "output_type": "stream",
     "text": [
      "index =  0\n",
      "index =  2000\n",
      "index =  4000\n",
      "index =  5000\n",
      "              precision    recall  f1-score   support\n",
      "\n",
      "  не реклама       0.32      0.94      0.48       673\n",
      "     реклама       0.96      0.41      0.58      2314\n",
      "\n",
      "    accuracy                           0.53      2987\n",
      "   macro avg       0.64      0.68      0.53      2987\n",
      "weighted avg       0.82      0.53      0.55      2987\n",
      "\n"
     ]
    }
   ],
   "source": [
    "y_tr, y_pred, missed_adv = check_candidates_multilabeled(df_cleaned, candidate_labs, classifier_semantic, 0, 1000, adver_labs,[0, 1, 2], False)\n",
    "report = classification_report(y_tr, y_pred, target_names=['не реклама', 'реклама'])\n",
    "print(report)"
   ]
  },
  {
   "cell_type": "markdown",
   "metadata": {},
   "source": [
    "Best recall for class 1"
   ]
  },
  {
   "cell_type": "code",
   "execution_count": 23,
   "metadata": {},
   "outputs": [],
   "source": [
    "candidate_labs = [\n",
    "    'other',\n",
    "    'food',\n",
    "    'advertisement spam',\n",
    "    'music concert', \n",
    "    'exhibition', \n",
    "    'festival',\n",
    "    'conference',\n",
    "    'calendar holiday',\n",
    "    'sport event',\n",
    "    'flashmob', \n",
    "    'accident',\n",
    "    'stroll walking',\n",
    "    'wedding birthday',\n",
    "    'private event',\n",
    "    'public event']"
   ]
  },
  {
   "cell_type": "code",
   "execution_count": 24,
   "metadata": {},
   "outputs": [
    {
     "name": "stdout",
     "output_type": "stream",
     "text": [
      "index =  0\n",
      "index =  2000\n",
      "index =  4000\n",
      "index =  5000\n",
      "              precision    recall  f1-score   support\n",
      "\n",
      "  не реклама       0.33      0.93      0.49       673\n",
      "     реклама       0.96      0.46      0.62      2314\n",
      "\n",
      "    accuracy                           0.56      2987\n",
      "   macro avg       0.65      0.69      0.56      2987\n",
      "weighted avg       0.82      0.56      0.59      2987\n",
      "\n"
     ]
    }
   ],
   "source": [
    "y_tr, y_pred, missed_adv = check_candidates_multilabeled(df_cleaned, candidate_labs, classifier_semantic, 0, 1000, adver_labs,[0, 1, 2], False)\n",
    "report = classification_report(y_tr, y_pred, target_names=['не реклама', 'реклама'])\n",
    "print(report)"
   ]
  },
  {
   "cell_type": "markdown",
   "metadata": {},
   "source": [
    "Best precision with higher recall for class 2"
   ]
  },
  {
   "cell_type": "code",
   "execution_count": 26,
   "metadata": {},
   "outputs": [],
   "source": [
    "candidate_labs = [\n",
    "    'other',\n",
    "    'food',\n",
    "    'advertisement',\n",
    "    'spam',\n",
    "    'promotion',\n",
    "    'music concert', \n",
    "    'exhibition', \n",
    "    'festival',\n",
    "    'conference',\n",
    "    'calendar holiday',\n",
    "    'sport event',\n",
    "    'flashmob', \n",
    "    'accident',\n",
    "    'stroll walking',\n",
    "    'wedding birthday',\n",
    "    'private event',\n",
    "    'public event']"
   ]
  },
  {
   "cell_type": "code",
   "execution_count": 27,
   "metadata": {},
   "outputs": [
    {
     "name": "stdout",
     "output_type": "stream",
     "text": [
      "index =  0\n",
      "index =  2000\n",
      "index =  4000\n",
      "index =  5000\n",
      "              precision    recall  f1-score   support\n",
      "\n",
      "  не реклама       0.35      0.84      0.50       673\n",
      "     реклама       0.92      0.55      0.69      2314\n",
      "\n",
      "    accuracy                           0.62      2987\n",
      "   macro avg       0.64      0.70      0.60      2987\n",
      "weighted avg       0.79      0.62      0.65      2987\n",
      "\n"
     ]
    }
   ],
   "source": [
    "y_tr, y_pred, missed_adv = check_candidates_multilabeled(df_cleaned, candidate_labs, classifier_semantic, 0, 1000, adver_labs,[0, 1, 2, 3, 4], False)\n",
    "report = classification_report(y_tr, y_pred, target_names=['не реклама', 'реклама'])\n",
    "print(report)"
   ]
  },
  {
   "cell_type": "markdown",
   "metadata": {},
   "source": [
    "Best f-score for class 1"
   ]
  },
  {
   "cell_type": "code",
   "execution_count": null,
   "metadata": {},
   "outputs": [],
   "source": []
  }
 ],
 "metadata": {
  "kernelspec": {
   "display_name": "Python 3",
   "language": "python",
   "name": "python3"
  },
  "language_info": {
   "codemirror_mode": {
    "name": "ipython",
    "version": 3
   },
   "file_extension": ".py",
   "mimetype": "text/x-python",
   "name": "python",
   "nbconvert_exporter": "python",
   "pygments_lexer": "ipython3",
   "version": "3.8.5"
  }
 },
 "nbformat": 4,
 "nbformat_minor": 4
}
