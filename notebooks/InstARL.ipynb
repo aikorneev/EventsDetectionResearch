{
  "nbformat": 4,
  "nbformat_minor": 5,
  "metadata": {
    "kernelspec": {
      "display_name": "Python 3",
      "language": "python",
      "name": "python3"
    },
    "language_info": {
      "codemirror_mode": {
        "name": "ipython",
        "version": 3
      },
      "file_extension": ".py",
      "mimetype": "text/x-python",
      "name": "python",
      "nbconvert_exporter": "python",
      "pygments_lexer": "ipython3",
      "version": "3.8.8"
    },
    "colab": {
      "name": "InstARL.ipynb",
      "provenance": []
    }
  },
  "cells": [
    {
      "cell_type": "code",
      "metadata": {
        "id": "1ba9ff4c"
      },
      "source": [
        "import apyori"
      ],
      "id": "1ba9ff4c",
      "execution_count": null,
      "outputs": []
    },
    {
      "cell_type": "code",
      "metadata": {
        "id": "f1cdc05d"
      },
      "source": [
        "import pandas as pd\n",
        "import numpy as np\n",
        "import re"
      ],
      "id": "f1cdc05d",
      "execution_count": null,
      "outputs": []
    },
    {
      "cell_type": "code",
      "metadata": {
        "id": "6315d7c9"
      },
      "source": [
        "df0 = pd.read_csv('../../data/spb_posts_2019.csv', sep=',')"
      ],
      "id": "6315d7c9",
      "execution_count": null,
      "outputs": []
    },
    {
      "cell_type": "code",
      "metadata": {
        "id": "68bade95"
      },
      "source": [
        "df = df0"
      ],
      "id": "68bade95",
      "execution_count": null,
      "outputs": []
    },
    {
      "cell_type": "code",
      "metadata": {
        "id": "c3e83331"
      },
      "source": [
        "df = df.dropna()"
      ],
      "id": "c3e83331",
      "execution_count": null,
      "outputs": []
    },
    {
      "cell_type": "code",
      "metadata": {
        "id": "2972436a"
      },
      "source": [
        "def change_endline(x):\n",
        "    return x.replace('\\n',' ')"
      ],
      "id": "2972436a",
      "execution_count": null,
      "outputs": []
    },
    {
      "cell_type": "code",
      "metadata": {
        "id": "41ceae42",
        "outputId": "29b7d17e-68d9-4c24-9bbe-36464b09c708"
      },
      "source": [
        "df['caption'] = df['caption'].apply(change_endline)"
      ],
      "id": "41ceae42",
      "execution_count": null,
      "outputs": [
        {
          "name": "stderr",
          "output_type": "stream",
          "text": [
            "<ipython-input-8-b35854d849bd>:1: SettingWithCopyWarning: \n",
            "A value is trying to be set on a copy of a slice from a DataFrame.\n",
            "Try using .loc[row_indexer,col_indexer] = value instead\n",
            "\n",
            "See the caveats in the documentation: https://pandas.pydata.org/pandas-docs/stable/user_guide/indexing.html#returning-a-view-versus-a-copy\n",
            "  df['caption'] = df['caption'].apply(change_endline)\n"
          ]
        }
      ]
    },
    {
      "cell_type": "code",
      "metadata": {
        "id": "383021d7"
      },
      "source": [
        "def extract_hashtags(x):\n",
        "    x = x.replace('#', ' #')\n",
        "    tags = re.findall(r'(#\\S+?)\\s', x)\n",
        "    return tags if len(tags) else np.nan"
      ],
      "id": "383021d7",
      "execution_count": null,
      "outputs": []
    },
    {
      "cell_type": "code",
      "metadata": {
        "id": "f1b71431",
        "outputId": "ab7ccc23-e056-4b2f-d757-44bf550059d3"
      },
      "source": [
        "df['hashtags'] = df['caption'].apply(extract_hashtags)"
      ],
      "id": "f1b71431",
      "execution_count": null,
      "outputs": [
        {
          "name": "stderr",
          "output_type": "stream",
          "text": [
            "<ipython-input-10-729f407e40bb>:1: SettingWithCopyWarning: \n",
            "A value is trying to be set on a copy of a slice from a DataFrame.\n",
            "Try using .loc[row_indexer,col_indexer] = value instead\n",
            "\n",
            "See the caveats in the documentation: https://pandas.pydata.org/pandas-docs/stable/user_guide/indexing.html#returning-a-view-versus-a-copy\n",
            "  df['hashtags'] = df['caption'].apply(extract_hashtags)\n"
          ]
        }
      ]
    },
    {
      "cell_type": "code",
      "metadata": {
        "id": "4c76d852"
      },
      "source": [
        "df = df.dropna()"
      ],
      "id": "4c76d852",
      "execution_count": null,
      "outputs": []
    },
    {
      "cell_type": "code",
      "metadata": {
        "scrolled": true,
        "id": "bcb91a65",
        "outputId": "7908b1e9-d0b6-4f7f-edf4-548bd3a113e0"
      },
      "source": [
        "# остались только те, где есть хэш-тэги\n",
        "df"
      ],
      "id": "bcb91a65",
      "execution_count": null,
      "outputs": [
        {
          "data": {
            "text/html": [
              "<div>\n",
              "<style scoped>\n",
              "    .dataframe tbody tr th:only-of-type {\n",
              "        vertical-align: middle;\n",
              "    }\n",
              "\n",
              "    .dataframe tbody tr th {\n",
              "        vertical-align: top;\n",
              "    }\n",
              "\n",
              "    .dataframe thead th {\n",
              "        text-align: right;\n",
              "    }\n",
              "</style>\n",
              "<table border=\"1\" class=\"dataframe\">\n",
              "  <thead>\n",
              "    <tr style=\"text-align: right;\">\n",
              "      <th></th>\n",
              "      <th>id</th>\n",
              "      <th>shortcode</th>\n",
              "      <th>imageurl</th>\n",
              "      <th>isvideo</th>\n",
              "      <th>caption</th>\n",
              "      <th>commentscount</th>\n",
              "      <th>timestamp</th>\n",
              "      <th>likescount</th>\n",
              "      <th>isad</th>\n",
              "      <th>authorid</th>\n",
              "      <th>locationid</th>\n",
              "      <th>lat</th>\n",
              "      <th>lon</th>\n",
              "      <th>hashtags</th>\n",
              "    </tr>\n",
              "  </thead>\n",
              "  <tbody>\n",
              "    <tr>\n",
              "      <th>0</th>\n",
              "      <td>2100487392867125154</td>\n",
              "      <td>B0mbierCAei</td>\n",
              "      <td>https://scontent-dfw5-1.cdninstagram.com/v/t51...</td>\n",
              "      <td>f</td>\n",
              "      <td>DEATH 💀GUITARIST 🎸DANCING 💃 UNIQUE CONTENT 🔥 М...</td>\n",
              "      <td>3</td>\n",
              "      <td>1564617631</td>\n",
              "      <td>50</td>\n",
              "      <td>f</td>\n",
              "      <td>2895837725</td>\n",
              "      <td>409734806</td>\n",
              "      <td>60.002420</td>\n",
              "      <td>30.296490</td>\n",
              "      <td>[#мертвый, #гитарист, #гитара, #прыгун, #death...</td>\n",
              "    </tr>\n",
              "    <tr>\n",
              "      <th>3</th>\n",
              "      <td>2101062776215474217</td>\n",
              "      <td>B0oeXaLHpAp</td>\n",
              "      <td>https://scontent-dfw5-2.cdninstagram.com/v/t51...</td>\n",
              "      <td>f</td>\n",
              "      <td>Мои девочки 💛❤️💜 Такие редкие и долгожданные в...</td>\n",
              "      <td>3</td>\n",
              "      <td>1564686222</td>\n",
              "      <td>74</td>\n",
              "      <td>f</td>\n",
              "      <td>654993988</td>\n",
              "      <td>1020316384</td>\n",
              "      <td>59.957330</td>\n",
              "      <td>30.297810</td>\n",
              "      <td>[#13летвместе]</td>\n",
              "    </tr>\n",
              "    <tr>\n",
              "      <th>5</th>\n",
              "      <td>2100490830881135651</td>\n",
              "      <td>B0mcUgkopwj</td>\n",
              "      <td>https://scontent-dfw5-1.cdninstagram.com/v/t51...</td>\n",
              "      <td>f</td>\n",
              "      <td>Мы с Петром проверяем кто во сколько просыпает...</td>\n",
              "      <td>4</td>\n",
              "      <td>1564618041</td>\n",
              "      <td>144</td>\n",
              "      <td>f</td>\n",
              "      <td>208777983</td>\n",
              "      <td>1991970784229637</td>\n",
              "      <td>59.950163</td>\n",
              "      <td>30.315356</td>\n",
              "      <td>[#ставьлайк]</td>\n",
              "    </tr>\n",
              "    <tr>\n",
              "      <th>7</th>\n",
              "      <td>2100301459588903831</td>\n",
              "      <td>B0lxQy0B_OX</td>\n",
              "      <td>https://scontent-sea1-1.cdninstagram.com/v/t51...</td>\n",
              "      <td>t</td>\n",
              "      <td>MarkHockey - территория вратарей! 👍🏻 По вопрос...</td>\n",
              "      <td>5</td>\n",
              "      <td>1564634856</td>\n",
              "      <td>188</td>\n",
              "      <td>f</td>\n",
              "      <td>1099063802</td>\n",
              "      <td>411430829</td>\n",
              "      <td>59.921501</td>\n",
              "      <td>30.467902</td>\n",
              "      <td>[#markhockey, #mh, #markwear, #hockey, #khl, #...</td>\n",
              "    </tr>\n",
              "    <tr>\n",
              "      <th>8</th>\n",
              "      <td>2100489264618828711</td>\n",
              "      <td>B0mb9t4IHOn</td>\n",
              "      <td>https://scontent-dfw5-2.cdninstagram.com/v/t51...</td>\n",
              "      <td>f</td>\n",
              "      <td>#детали #единорог #единорогпиньята #единорожка...</td>\n",
              "      <td>0</td>\n",
              "      <td>1564617854</td>\n",
              "      <td>7</td>\n",
              "      <td>f</td>\n",
              "      <td>180487090</td>\n",
              "      <td>594287207</td>\n",
              "      <td>59.877330</td>\n",
              "      <td>30.318980</td>\n",
              "      <td>[#детали, #единорог, #единорогпиньята, #единор...</td>\n",
              "    </tr>\n",
              "    <tr>\n",
              "      <th>...</th>\n",
              "      <td>...</td>\n",
              "      <td>...</td>\n",
              "      <td>...</td>\n",
              "      <td>...</td>\n",
              "      <td>...</td>\n",
              "      <td>...</td>\n",
              "      <td>...</td>\n",
              "      <td>...</td>\n",
              "      <td>...</td>\n",
              "      <td>...</td>\n",
              "      <td>...</td>\n",
              "      <td>...</td>\n",
              "      <td>...</td>\n",
              "      <td>...</td>\n",
              "    </tr>\n",
              "    <tr>\n",
              "      <th>7759923</th>\n",
              "      <td>2031253672851326072</td>\n",
              "      <td>BwwdnQTAsR4</td>\n",
              "      <td>https://scontent-dfw5-2.cdninstagram.com/v/t51...</td>\n",
              "      <td>f</td>\n",
              "      <td>💛Питер... как это не странно, но я уже скучаю....</td>\n",
              "      <td>5</td>\n",
              "      <td>1556364328</td>\n",
              "      <td>127</td>\n",
              "      <td>f</td>\n",
              "      <td>641568821</td>\n",
              "      <td>226091755</td>\n",
              "      <td>59.971781</td>\n",
              "      <td>30.259442</td>\n",
              "      <td>[#санктпетербург, #скучаюспб, #питер, #крестов...</td>\n",
              "    </tr>\n",
              "    <tr>\n",
              "      <th>7759926</th>\n",
              "      <td>2031206110870801771</td>\n",
              "      <td>BwwSzIwDo1r</td>\n",
              "      <td>https://scontent-dfw5-2.cdninstagram.com/v/t51...</td>\n",
              "      <td>f</td>\n",
              "      <td>Коротко и ёмко об идеальной субботе. #СанктПет...</td>\n",
              "      <td>2</td>\n",
              "      <td>1556358659</td>\n",
              "      <td>43</td>\n",
              "      <td>f</td>\n",
              "      <td>306906698</td>\n",
              "      <td>226091755</td>\n",
              "      <td>59.971781</td>\n",
              "      <td>30.259442</td>\n",
              "      <td>[#СанктПетербург, #крестовский, #выходные, #су...</td>\n",
              "    </tr>\n",
              "    <tr>\n",
              "      <th>7759927</th>\n",
              "      <td>2031151080009010240</td>\n",
              "      <td>BwwGSVRFoxA</td>\n",
              "      <td>https://scontent-dfw5-2.cdninstagram.com/v/t51...</td>\n",
              "      <td>f</td>\n",
              "      <td>СЦЕНАРИИ МОЕЙ МЕЧТЫ ⭐️ ⭐️ Сегодня на своём онл...</td>\n",
              "      <td>93</td>\n",
              "      <td>1556352098</td>\n",
              "      <td>1758</td>\n",
              "      <td>f</td>\n",
              "      <td>1930430096</td>\n",
              "      <td>226091755</td>\n",
              "      <td>59.971781</td>\n",
              "      <td>30.259442</td>\n",
              "      <td>[#коучспб, #психологонлайн, #софиявеларди, #за...</td>\n",
              "    </tr>\n",
              "    <tr>\n",
              "      <th>7759928</th>\n",
              "      <td>2031118233699991176</td>\n",
              "      <td>Bwv-0Wwgb6I</td>\n",
              "      <td>https://scontent-dfw5-1.cdninstagram.com/v/t51...</td>\n",
              "      <td>f</td>\n",
              "      <td>Доброе субботнее утро 🌞 ,Красотки 👑 ⠀ В прошлы...</td>\n",
              "      <td>91</td>\n",
              "      <td>1556348183</td>\n",
              "      <td>2215</td>\n",
              "      <td>f</td>\n",
              "      <td>5885545914</td>\n",
              "      <td>226091755</td>\n",
              "      <td>59.971781</td>\n",
              "      <td>30.259442</td>\n",
              "      <td>[#dragonmask_enjoli, #enjoli, #маскадлялица, #...</td>\n",
              "    </tr>\n",
              "    <tr>\n",
              "      <th>7759932</th>\n",
              "      <td>2031511031872078611</td>\n",
              "      <td>BwxYIUkBcMT</td>\n",
              "      <td>https://scontent-sea1-1.cdninstagram.com/v/t51...</td>\n",
              "      <td>t</td>\n",
              "      <td>Остаются лишь достойные! ☝🏻 . . . . . . . . . ...</td>\n",
              "      <td>1</td>\n",
              "      <td>1556395204</td>\n",
              "      <td>55</td>\n",
              "      <td>f</td>\n",
              "      <td>1652113598</td>\n",
              "      <td>975640715953353</td>\n",
              "      <td>59.968285</td>\n",
              "      <td>30.246246</td>\n",
              "      <td>[#друзья, #остаютсялишьвоспоминания, #достойны...</td>\n",
              "    </tr>\n",
              "  </tbody>\n",
              "</table>\n",
              "<p>3470297 rows × 14 columns</p>\n",
              "</div>"
            ],
            "text/plain": [
              "                          id    shortcode  \\\n",
              "0        2100487392867125154  B0mbierCAei   \n",
              "3        2101062776215474217  B0oeXaLHpAp   \n",
              "5        2100490830881135651  B0mcUgkopwj   \n",
              "7        2100301459588903831  B0lxQy0B_OX   \n",
              "8        2100489264618828711  B0mb9t4IHOn   \n",
              "...                      ...          ...   \n",
              "7759923  2031253672851326072  BwwdnQTAsR4   \n",
              "7759926  2031206110870801771  BwwSzIwDo1r   \n",
              "7759927  2031151080009010240  BwwGSVRFoxA   \n",
              "7759928  2031118233699991176  Bwv-0Wwgb6I   \n",
              "7759932  2031511031872078611  BwxYIUkBcMT   \n",
              "\n",
              "                                                  imageurl isvideo  \\\n",
              "0        https://scontent-dfw5-1.cdninstagram.com/v/t51...       f   \n",
              "3        https://scontent-dfw5-2.cdninstagram.com/v/t51...       f   \n",
              "5        https://scontent-dfw5-1.cdninstagram.com/v/t51...       f   \n",
              "7        https://scontent-sea1-1.cdninstagram.com/v/t51...       t   \n",
              "8        https://scontent-dfw5-2.cdninstagram.com/v/t51...       f   \n",
              "...                                                    ...     ...   \n",
              "7759923  https://scontent-dfw5-2.cdninstagram.com/v/t51...       f   \n",
              "7759926  https://scontent-dfw5-2.cdninstagram.com/v/t51...       f   \n",
              "7759927  https://scontent-dfw5-2.cdninstagram.com/v/t51...       f   \n",
              "7759928  https://scontent-dfw5-1.cdninstagram.com/v/t51...       f   \n",
              "7759932  https://scontent-sea1-1.cdninstagram.com/v/t51...       t   \n",
              "\n",
              "                                                   caption  commentscount  \\\n",
              "0        DEATH 💀GUITARIST 🎸DANCING 💃 UNIQUE CONTENT 🔥 М...              3   \n",
              "3        Мои девочки 💛❤️💜 Такие редкие и долгожданные в...              3   \n",
              "5        Мы с Петром проверяем кто во сколько просыпает...              4   \n",
              "7        MarkHockey - территория вратарей! 👍🏻 По вопрос...              5   \n",
              "8        #детали #единорог #единорогпиньята #единорожка...              0   \n",
              "...                                                    ...            ...   \n",
              "7759923  💛Питер... как это не странно, но я уже скучаю....              5   \n",
              "7759926  Коротко и ёмко об идеальной субботе. #СанктПет...              2   \n",
              "7759927  СЦЕНАРИИ МОЕЙ МЕЧТЫ ⭐️ ⭐️ Сегодня на своём онл...             93   \n",
              "7759928  Доброе субботнее утро 🌞 ,Красотки 👑 ⠀ В прошлы...             91   \n",
              "7759932  Остаются лишь достойные! ☝🏻 . . . . . . . . . ...              1   \n",
              "\n",
              "          timestamp  likescount isad    authorid        locationid        lat  \\\n",
              "0        1564617631          50    f  2895837725         409734806  60.002420   \n",
              "3        1564686222          74    f   654993988        1020316384  59.957330   \n",
              "5        1564618041         144    f   208777983  1991970784229637  59.950163   \n",
              "7        1564634856         188    f  1099063802         411430829  59.921501   \n",
              "8        1564617854           7    f   180487090         594287207  59.877330   \n",
              "...             ...         ...  ...         ...               ...        ...   \n",
              "7759923  1556364328         127    f   641568821         226091755  59.971781   \n",
              "7759926  1556358659          43    f   306906698         226091755  59.971781   \n",
              "7759927  1556352098        1758    f  1930430096         226091755  59.971781   \n",
              "7759928  1556348183        2215    f  5885545914         226091755  59.971781   \n",
              "7759932  1556395204          55    f  1652113598   975640715953353  59.968285   \n",
              "\n",
              "               lon                                           hashtags  \n",
              "0        30.296490  [#мертвый, #гитарист, #гитара, #прыгун, #death...  \n",
              "3        30.297810                                     [#13летвместе]  \n",
              "5        30.315356                                       [#ставьлайк]  \n",
              "7        30.467902  [#markhockey, #mh, #markwear, #hockey, #khl, #...  \n",
              "8        30.318980  [#детали, #единорог, #единорогпиньята, #единор...  \n",
              "...            ...                                                ...  \n",
              "7759923  30.259442  [#санктпетербург, #скучаюспб, #питер, #крестов...  \n",
              "7759926  30.259442  [#СанктПетербург, #крестовский, #выходные, #су...  \n",
              "7759927  30.259442  [#коучспб, #психологонлайн, #софиявеларди, #за...  \n",
              "7759928  30.259442  [#dragonmask_enjoli, #enjoli, #маскадлялица, #...  \n",
              "7759932  30.246246  [#друзья, #остаютсялишьвоспоминания, #достойны...  \n",
              "\n",
              "[3470297 rows x 14 columns]"
            ]
          },
          "execution_count": 12,
          "metadata": {},
          "output_type": "execute_result"
        }
      ]
    },
    {
      "cell_type": "code",
      "metadata": {
        "id": "63196938"
      },
      "source": [
        "# too long\n",
        "transactions = []\n",
        "#for i in range(0, df.shape[0]): \n",
        "for i in range(0, 10): \n",
        "    transactions.append(df.values[i,13])"
      ],
      "id": "63196938",
      "execution_count": null,
      "outputs": []
    },
    {
      "cell_type": "code",
      "metadata": {
        "id": "362d77d1"
      },
      "source": [
        "transactions = df['hashtags'].tolist()"
      ],
      "id": "362d77d1",
      "execution_count": null,
      "outputs": []
    },
    {
      "cell_type": "code",
      "metadata": {
        "id": "c0de2498",
        "outputId": "f4540f25-0dd3-4fc2-95e6-4b51f27d9ba4"
      },
      "source": [
        "transactions[1:4]"
      ],
      "id": "c0de2498",
      "execution_count": null,
      "outputs": [
        {
          "data": {
            "text/plain": [
              "[['#13летвместе'],\n",
              " ['#ставьлайк'],\n",
              " ['#markhockey',\n",
              "  '#mh',\n",
              "  '#markwear',\n",
              "  '#hockey',\n",
              "  '#khl',\n",
              "  '#vhl',\n",
              "  '#mhl',\n",
              "  '#nhl',\n",
              "  '#goalie',\n",
              "  '#хоккей',\n",
              "  '#кхл',\n",
              "  '#вхл',\n",
              "  '#мхл',\n",
              "  '#нхл',\n",
              "  '#одеждадляхоккеистов',\n",
              "  '#мынастиле',\n",
              "  '#streetwear',\n",
              "  '#urbanwear',\n",
              "  '#customgear',\n",
              "  '#madeincanada',\n",
              "  '#вратарскаяформа']]"
            ]
          },
          "execution_count": 129,
          "metadata": {},
          "output_type": "execute_result"
        }
      ]
    },
    {
      "cell_type": "code",
      "metadata": {
        "id": "6e445886",
        "outputId": "bc140398-6b62-47d3-aa5d-3d0787ded9d7"
      },
      "source": [
        "%%time\n",
        "result10 = list(apyori.apriori(transactions, min_support = 0.05, min_confidence = 0.75, min_lift = 1.2, min_length = 2))\n",
        "result10"
      ],
      "id": "6e445886",
      "execution_count": null,
      "outputs": [
        {
          "name": "stdout",
          "output_type": "stream",
          "text": [
            "CPU times: user 41.9 s, sys: 1.32 s, total: 43.3 s\n",
            "Wall time: 43.4 s\n"
          ]
        },
        {
          "data": {
            "text/plain": [
              "[]"
            ]
          },
          "execution_count": 141,
          "metadata": {},
          "output_type": "execute_result"
        }
      ]
    },
    {
      "cell_type": "code",
      "metadata": {
        "id": "a1514295",
        "outputId": "e8019c1d-9fad-4fb8-ad96-d8f66d3fee66"
      },
      "source": [
        "%%time\n",
        "result2 = list(apyori.apriori(transactions, min_support = 0.005, min_confidence = 0.75, min_lift = 1.2, min_length = 2))"
      ],
      "id": "a1514295",
      "execution_count": null,
      "outputs": [
        {
          "name": "stdout",
          "output_type": "stream",
          "text": [
            "CPU times: user 50.5 s, sys: 1.35 s, total: 51.8 s\n",
            "Wall time: 52 s\n"
          ]
        }
      ]
    },
    {
      "cell_type": "code",
      "metadata": {
        "scrolled": true,
        "id": "aea43ab5",
        "outputId": "6f31fae9-8fa8-447b-b444-6d9a7b97e6d1"
      },
      "source": [
        "temp = []\n",
        "for i in range(len(result2)):\n",
        "  temp.append([str(list(result2[i][0])), result2[i][1], result2[i][2][0][2], result2[i][2][0][3]])\n",
        "\n",
        "apyori_inst_spb0005 = pd.DataFrame(temp, columns = ['items', 'support', 'confidence', 'lift'])\n",
        "apyori_inst_spb0005.sort_values(by=['confidence'], ascending=False)"
      ],
      "id": "aea43ab5",
      "execution_count": null,
      "outputs": [
        {
          "data": {
            "text/html": [
              "<div>\n",
              "<style scoped>\n",
              "    .dataframe tbody tr th:only-of-type {\n",
              "        vertical-align: middle;\n",
              "    }\n",
              "\n",
              "    .dataframe tbody tr th {\n",
              "        vertical-align: top;\n",
              "    }\n",
              "\n",
              "    .dataframe thead th {\n",
              "        text-align: right;\n",
              "    }\n",
              "</style>\n",
              "<table border=\"1\" class=\"dataframe\">\n",
              "  <thead>\n",
              "    <tr style=\"text-align: right;\">\n",
              "      <th></th>\n",
              "      <th>items</th>\n",
              "      <th>support</th>\n",
              "      <th>confidence</th>\n",
              "      <th>lift</th>\n",
              "    </tr>\n",
              "  </thead>\n",
              "  <tbody>\n",
              "    <tr>\n",
              "      <th>2</th>\n",
              "      <td>['#маникюр', '#педикюр']</td>\n",
              "      <td>0.008437</td>\n",
              "      <td>0.840452</td>\n",
              "      <td>31.486770</td>\n",
              "    </tr>\n",
              "    <tr>\n",
              "      <th>8</th>\n",
              "      <td>['#санктпетербург', '#saintpetersburg', '#пите...</td>\n",
              "      <td>0.005614</td>\n",
              "      <td>0.812656</td>\n",
              "      <td>10.307373</td>\n",
              "    </tr>\n",
              "    <tr>\n",
              "      <th>0</th>\n",
              "      <td>['#vscocam', '#vsco']</td>\n",
              "      <td>0.005830</td>\n",
              "      <td>0.807625</td>\n",
              "      <td>70.931029</td>\n",
              "    </tr>\n",
              "    <tr>\n",
              "      <th>7</th>\n",
              "      <td>['#spb', '#санктпетербург', '#saintpetersburg'...</td>\n",
              "      <td>0.006748</td>\n",
              "      <td>0.806738</td>\n",
              "      <td>10.232311</td>\n",
              "    </tr>\n",
              "    <tr>\n",
              "      <th>4</th>\n",
              "      <td>['#маникюрспб', '#педикюрспб']</td>\n",
              "      <td>0.007052</td>\n",
              "      <td>0.800484</td>\n",
              "      <td>24.008828</td>\n",
              "    </tr>\n",
              "    <tr>\n",
              "      <th>3</th>\n",
              "      <td>['#маникюрспб', '#маникюрпитер']</td>\n",
              "      <td>0.005383</td>\n",
              "      <td>0.795986</td>\n",
              "      <td>23.873924</td>\n",
              "    </tr>\n",
              "    <tr>\n",
              "      <th>9</th>\n",
              "      <td>['#spb', '#санктпетербург', '#питер', '#спб']</td>\n",
              "      <td>0.006975</td>\n",
              "      <td>0.773298</td>\n",
              "      <td>7.826408</td>\n",
              "    </tr>\n",
              "    <tr>\n",
              "      <th>6</th>\n",
              "      <td>['#spb', '#санктпетербург', '#saintpetersburg'...</td>\n",
              "      <td>0.005074</td>\n",
              "      <td>0.769533</td>\n",
              "      <td>9.760419</td>\n",
              "    </tr>\n",
              "    <tr>\n",
              "      <th>1</th>\n",
              "      <td>['#маникюрспб', '#гельлакспб']</td>\n",
              "      <td>0.009403</td>\n",
              "      <td>0.761233</td>\n",
              "      <td>22.831566</td>\n",
              "    </tr>\n",
              "    <tr>\n",
              "      <th>5</th>\n",
              "      <td>['#санктпетербург', '#saintpetersburg', '#спб']</td>\n",
              "      <td>0.009352</td>\n",
              "      <td>0.755570</td>\n",
              "      <td>9.583315</td>\n",
              "    </tr>\n",
              "  </tbody>\n",
              "</table>\n",
              "</div>"
            ],
            "text/plain": [
              "                                               items   support  confidence  \\\n",
              "2                           ['#маникюр', '#педикюр']  0.008437    0.840452   \n",
              "8  ['#санктпетербург', '#saintpetersburg', '#пите...  0.005614    0.812656   \n",
              "0                              ['#vscocam', '#vsco']  0.005830    0.807625   \n",
              "7  ['#spb', '#санктпетербург', '#saintpetersburg'...  0.006748    0.806738   \n",
              "4                     ['#маникюрспб', '#педикюрспб']  0.007052    0.800484   \n",
              "3                   ['#маникюрспб', '#маникюрпитер']  0.005383    0.795986   \n",
              "9      ['#spb', '#санктпетербург', '#питер', '#спб']  0.006975    0.773298   \n",
              "6  ['#spb', '#санктпетербург', '#saintpetersburg'...  0.005074    0.769533   \n",
              "1                     ['#маникюрспб', '#гельлакспб']  0.009403    0.761233   \n",
              "5    ['#санктпетербург', '#saintpetersburg', '#спб']  0.009352    0.755570   \n",
              "\n",
              "        lift  \n",
              "2  31.486770  \n",
              "8  10.307373  \n",
              "0  70.931029  \n",
              "7  10.232311  \n",
              "4  24.008828  \n",
              "3  23.873924  \n",
              "9   7.826408  \n",
              "6   9.760419  \n",
              "1  22.831566  \n",
              "5   9.583315  "
            ]
          },
          "execution_count": 145,
          "metadata": {},
          "output_type": "execute_result"
        }
      ]
    },
    {
      "cell_type": "code",
      "metadata": {
        "id": "fa86d774"
      },
      "source": [
        "apyori_inst_spb0005.to_csv(\"../../data/apyori_inst_spb0005.csv\")"
      ],
      "id": "fa86d774",
      "execution_count": null,
      "outputs": []
    },
    {
      "cell_type": "code",
      "metadata": {
        "id": "9226e937",
        "outputId": "c96012e5-4793-45db-98b0-6040901e4257"
      },
      "source": [
        "%%time\n",
        "result3 = list(apyori.apriori(transactions, min_support = 0.004, min_confidence = 0.75, min_lift = 1.2, min_length = 2))"
      ],
      "id": "9226e937",
      "execution_count": null,
      "outputs": [
        {
          "name": "stdout",
          "output_type": "stream",
          "text": [
            "CPU times: user 55.4 s, sys: 1.88 s, total: 57.2 s\n",
            "Wall time: 57.4 s\n"
          ]
        }
      ]
    },
    {
      "cell_type": "code",
      "metadata": {
        "id": "b2820fc1",
        "outputId": "d7a6894f-aec9-4638-f84c-4b49c538b15f"
      },
      "source": [
        "temp = []\n",
        "for i in range(len(result3)):\n",
        "  temp.append([str(list(result3[i][0])), result3[i][1], result3[i][2][0][2], result3[i][2][0][3]])\n",
        "\n",
        "apyori_inst_spb0004 = pd.DataFrame(temp, columns = ['items', 'support', 'confidence', 'lift'])\n",
        "apyori_inst_spb0004.sort_values(by=['confidence'], ascending=False)"
      ],
      "id": "b2820fc1",
      "execution_count": null,
      "outputs": [
        {
          "data": {
            "text/html": [
              "<div>\n",
              "<style scoped>\n",
              "    .dataframe tbody tr th:only-of-type {\n",
              "        vertical-align: middle;\n",
              "    }\n",
              "\n",
              "    .dataframe tbody tr th {\n",
              "        vertical-align: top;\n",
              "    }\n",
              "\n",
              "    .dataframe thead th {\n",
              "        text-align: right;\n",
              "    }\n",
              "</style>\n",
              "<table border=\"1\" class=\"dataframe\">\n",
              "  <thead>\n",
              "    <tr style=\"text-align: right;\">\n",
              "      <th></th>\n",
              "      <th>items</th>\n",
              "      <th>support</th>\n",
              "      <th>confidence</th>\n",
              "      <th>lift</th>\n",
              "    </tr>\n",
              "  </thead>\n",
              "  <tbody>\n",
              "    <tr>\n",
              "      <th>14</th>\n",
              "      <td>['#спб', '#маникюр', '#педикюр']</td>\n",
              "      <td>0.004159</td>\n",
              "      <td>0.921348</td>\n",
              "      <td>34.517460</td>\n",
              "    </tr>\n",
              "    <tr>\n",
              "      <th>6</th>\n",
              "      <td>['#spb', '#спб', '#piter']</td>\n",
              "      <td>0.004328</td>\n",
              "      <td>0.861246</td>\n",
              "      <td>13.702086</td>\n",
              "    </tr>\n",
              "    <tr>\n",
              "      <th>3</th>\n",
              "      <td>['#маникюр', '#педикюр']</td>\n",
              "      <td>0.008437</td>\n",
              "      <td>0.840452</td>\n",
              "      <td>31.486770</td>\n",
              "    </tr>\n",
              "    <tr>\n",
              "      <th>8</th>\n",
              "      <td>['#спб', '#питер', '#piter']</td>\n",
              "      <td>0.004223</td>\n",
              "      <td>0.840261</td>\n",
              "      <td>11.238993</td>\n",
              "    </tr>\n",
              "    <tr>\n",
              "      <th>11</th>\n",
              "      <td>['#маникюрспб', '#гельлакспб', '#ногтиспб']</td>\n",
              "      <td>0.004655</td>\n",
              "      <td>0.836483</td>\n",
              "      <td>25.088546</td>\n",
              "    </tr>\n",
              "    <tr>\n",
              "      <th>7</th>\n",
              "      <td>['#санктпетербург', '#питер', '#piter']</td>\n",
              "      <td>0.004010</td>\n",
              "      <td>0.823422</td>\n",
              "      <td>11.013749</td>\n",
              "    </tr>\n",
              "    <tr>\n",
              "      <th>17</th>\n",
              "      <td>['#санктпетербург', '#saintpetersburg', '#пите...</td>\n",
              "      <td>0.005614</td>\n",
              "      <td>0.812656</td>\n",
              "      <td>10.307373</td>\n",
              "    </tr>\n",
              "    <tr>\n",
              "      <th>0</th>\n",
              "      <td>['#vscocam', '#vsco']</td>\n",
              "      <td>0.005830</td>\n",
              "      <td>0.807625</td>\n",
              "      <td>70.931029</td>\n",
              "    </tr>\n",
              "    <tr>\n",
              "      <th>16</th>\n",
              "      <td>['#spb', '#санктпетербург', '#saintpetersburg'...</td>\n",
              "      <td>0.006748</td>\n",
              "      <td>0.806738</td>\n",
              "      <td>10.232311</td>\n",
              "    </tr>\n",
              "    <tr>\n",
              "      <th>19</th>\n",
              "      <td>['#saintpetersburg', '#питер', '#санктпетербур...</td>\n",
              "      <td>0.004093</td>\n",
              "      <td>0.806644</td>\n",
              "      <td>8.163897</td>\n",
              "    </tr>\n",
              "    <tr>\n",
              "      <th>10</th>\n",
              "      <td>['#гельлак', '#маникюр', '#ногти']</td>\n",
              "      <td>0.004796</td>\n",
              "      <td>0.802420</td>\n",
              "      <td>30.061933</td>\n",
              "    </tr>\n",
              "    <tr>\n",
              "      <th>5</th>\n",
              "      <td>['#маникюрспб', '#педикюрспб']</td>\n",
              "      <td>0.007052</td>\n",
              "      <td>0.800484</td>\n",
              "      <td>24.008828</td>\n",
              "    </tr>\n",
              "    <tr>\n",
              "      <th>4</th>\n",
              "      <td>['#маникюрспб', '#маникюрпитер']</td>\n",
              "      <td>0.005383</td>\n",
              "      <td>0.795986</td>\n",
              "      <td>23.873924</td>\n",
              "    </tr>\n",
              "    <tr>\n",
              "      <th>1</th>\n",
              "      <td>['#шеллак', '#гельлак']</td>\n",
              "      <td>0.004061</td>\n",
              "      <td>0.780226</td>\n",
              "      <td>55.091061</td>\n",
              "    </tr>\n",
              "    <tr>\n",
              "      <th>18</th>\n",
              "      <td>['#spb', '#санктпетербург', '#питер', '#спб']</td>\n",
              "      <td>0.006975</td>\n",
              "      <td>0.773298</td>\n",
              "      <td>7.826408</td>\n",
              "    </tr>\n",
              "    <tr>\n",
              "      <th>15</th>\n",
              "      <td>['#spb', '#санктпетербург', '#saintpetersburg'...</td>\n",
              "      <td>0.005074</td>\n",
              "      <td>0.769533</td>\n",
              "      <td>9.760419</td>\n",
              "    </tr>\n",
              "    <tr>\n",
              "      <th>2</th>\n",
              "      <td>['#маникюрспб', '#гельлакспб']</td>\n",
              "      <td>0.009403</td>\n",
              "      <td>0.761233</td>\n",
              "      <td>22.831566</td>\n",
              "    </tr>\n",
              "    <tr>\n",
              "      <th>13</th>\n",
              "      <td>['#маникюрспб', '#маникюр', '#ногтиспб']</td>\n",
              "      <td>0.004105</td>\n",
              "      <td>0.756840</td>\n",
              "      <td>22.699818</td>\n",
              "    </tr>\n",
              "    <tr>\n",
              "      <th>9</th>\n",
              "      <td>['#санктпетербург', '#saintpetersburg', '#спб']</td>\n",
              "      <td>0.009352</td>\n",
              "      <td>0.755570</td>\n",
              "      <td>9.583315</td>\n",
              "    </tr>\n",
              "    <tr>\n",
              "      <th>12</th>\n",
              "      <td>['#маникюрспб', '#маникюр', '#ногти']</td>\n",
              "      <td>0.004919</td>\n",
              "      <td>0.750671</td>\n",
              "      <td>28.123177</td>\n",
              "    </tr>\n",
              "  </tbody>\n",
              "</table>\n",
              "</div>"
            ],
            "text/plain": [
              "                                                items   support  confidence  \\\n",
              "14                   ['#спб', '#маникюр', '#педикюр']  0.004159    0.921348   \n",
              "6                          ['#spb', '#спб', '#piter']  0.004328    0.861246   \n",
              "3                            ['#маникюр', '#педикюр']  0.008437    0.840452   \n",
              "8                        ['#спб', '#питер', '#piter']  0.004223    0.840261   \n",
              "11        ['#маникюрспб', '#гельлакспб', '#ногтиспб']  0.004655    0.836483   \n",
              "7             ['#санктпетербург', '#питер', '#piter']  0.004010    0.823422   \n",
              "17  ['#санктпетербург', '#saintpetersburg', '#пите...  0.005614    0.812656   \n",
              "0                               ['#vscocam', '#vsco']  0.005830    0.807625   \n",
              "16  ['#spb', '#санктпетербург', '#saintpetersburg'...  0.006748    0.806738   \n",
              "19  ['#saintpetersburg', '#питер', '#санктпетербур...  0.004093    0.806644   \n",
              "10                 ['#гельлак', '#маникюр', '#ногти']  0.004796    0.802420   \n",
              "5                      ['#маникюрспб', '#педикюрспб']  0.007052    0.800484   \n",
              "4                    ['#маникюрспб', '#маникюрпитер']  0.005383    0.795986   \n",
              "1                             ['#шеллак', '#гельлак']  0.004061    0.780226   \n",
              "18      ['#spb', '#санктпетербург', '#питер', '#спб']  0.006975    0.773298   \n",
              "15  ['#spb', '#санктпетербург', '#saintpetersburg'...  0.005074    0.769533   \n",
              "2                      ['#маникюрспб', '#гельлакспб']  0.009403    0.761233   \n",
              "13           ['#маникюрспб', '#маникюр', '#ногтиспб']  0.004105    0.756840   \n",
              "9     ['#санктпетербург', '#saintpetersburg', '#спб']  0.009352    0.755570   \n",
              "12              ['#маникюрспб', '#маникюр', '#ногти']  0.004919    0.750671   \n",
              "\n",
              "         lift  \n",
              "14  34.517460  \n",
              "6   13.702086  \n",
              "3   31.486770  \n",
              "8   11.238993  \n",
              "11  25.088546  \n",
              "7   11.013749  \n",
              "17  10.307373  \n",
              "0   70.931029  \n",
              "16  10.232311  \n",
              "19   8.163897  \n",
              "10  30.061933  \n",
              "5   24.008828  \n",
              "4   23.873924  \n",
              "1   55.091061  \n",
              "18   7.826408  \n",
              "15   9.760419  \n",
              "2   22.831566  \n",
              "13  22.699818  \n",
              "9    9.583315  \n",
              "12  28.123177  "
            ]
          },
          "execution_count": 153,
          "metadata": {},
          "output_type": "execute_result"
        }
      ]
    },
    {
      "cell_type": "code",
      "metadata": {
        "id": "6fe8f00c"
      },
      "source": [
        "apyori_inst_spb0004.to_csv(\"../../data/apyori_inst_spb0004.csv\")"
      ],
      "id": "6fe8f00c",
      "execution_count": null,
      "outputs": []
    },
    {
      "cell_type": "code",
      "metadata": {
        "id": "10ba93aa"
      },
      "source": [
        "%%time\n",
        "result4 = list(apyori.apriori(transactions, min_support = 0.003, min_confidence = 0.75, min_lift = 1.2, min_length = 2))"
      ],
      "id": "10ba93aa",
      "execution_count": null,
      "outputs": []
    },
    {
      "cell_type": "code",
      "metadata": {
        "id": "f422af86"
      },
      "source": [
        "temp = []\n",
        "for i in range(len(result4)):\n",
        "  temp.append([str(list(result4[i][0])), result4[i][1], result4[i][2][0][2], result4[i][2][0][3]])\n",
        "\n",
        "apyori_inst_spb0003 = pd.DataFrame(temp, columns = ['items', 'support', 'confidence', 'lift'])\n",
        "apyori_inst_spb0003.sort_values(by=['confidence'], ascending=False)"
      ],
      "id": "f422af86",
      "execution_count": null,
      "outputs": []
    },
    {
      "cell_type": "code",
      "metadata": {
        "id": "d114bd95"
      },
      "source": [
        "apyori_inst_spb0003.to_csv(\"../../data/apyori_inst_spb0003.csv\")"
      ],
      "id": "d114bd95",
      "execution_count": null,
      "outputs": []
    }
  ]
}