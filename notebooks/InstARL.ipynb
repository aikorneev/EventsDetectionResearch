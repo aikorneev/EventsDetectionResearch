{
 "cells": [
  {
   "cell_type": "code",
   "execution_count": 1,
   "id": "1ba9ff4c",
   "metadata": {},
   "outputs": [],
   "source": [
    "import apyori"
   ]
  },
  {
   "cell_type": "code",
   "execution_count": 44,
   "id": "f1cdc05d",
   "metadata": {},
   "outputs": [],
   "source": [
    "import pandas as pd\n",
    "import numpy as np\n",
    "import re\n",
    "import matplotlib.pyplot as plt"
   ]
  },
  {
   "cell_type": "code",
   "execution_count": 3,
   "id": "3c41f8b9",
   "metadata": {},
   "outputs": [
    {
     "name": "stdout",
     "output_type": "stream",
     "text": [
      "['.Trash-0', '.ipynb_checkpoints', 'Untitled.ipynb', 'InstARL.ipynb']\n",
      "['apyori_inst_spb003092.csv', 'instagram_posts', 'apyori_inst_spb00035.csv', 'apyori_inst_spbf.csv', 'apyori_inst_spb00031.csv', 'apyori_inst_spb0004.csv', 'apyori_inst_spb003095.csv', 'spb_posts_2019.csv', 'kudago_data', 'apyori_inst_spb003091.csv', 'apyori_inst_spb0005.csv', 'apyory']\n"
     ]
    }
   ],
   "source": [
    "#df = pd.read_csv('./events.csv', sep=',')\n",
    "import os\n",
    "import sys\n",
    "print(os.listdir('./'))\n",
    "print(os.listdir('../../data'))"
   ]
  },
  {
   "cell_type": "markdown",
   "id": "5259fedd",
   "metadata": {},
   "source": [
    "# FOR SPB 2019"
   ]
  },
  {
   "cell_type": "code",
   "execution_count": 4,
   "id": "6315d7c9",
   "metadata": {},
   "outputs": [],
   "source": [
    "df0 = pd.read_csv('../../data/spb_posts_2019.csv', sep=',')"
   ]
  },
  {
   "cell_type": "code",
   "execution_count": 5,
   "id": "4b77563f",
   "metadata": {},
   "outputs": [],
   "source": [
    "spb_supports = dict()"
   ]
  },
  {
   "cell_type": "code",
   "execution_count": 6,
   "id": "68bade95",
   "metadata": {},
   "outputs": [],
   "source": [
    "df = df0"
   ]
  },
  {
   "cell_type": "code",
   "execution_count": 7,
   "id": "acc87bd4",
   "metadata": {},
   "outputs": [],
   "source": [
    "def change_endline(x):\n",
    "    return x.replace('\\n',' ')\n",
    "\n",
    "def extract_hashtags(x):\n",
    "    x = x.replace('#', ' #')\n",
    "    tags = re.findall(r'(#\\S+?)\\s', x)\n",
    "    #tags = set(re.findall(r'(#\\S+?)\\s', x)) #exclude the same tags\n",
    "    #normalize hashtags\n",
    "    return tags if len(tags) else np.nan\n",
    "\n",
    "def prepare_db(df):\n",
    "    df = df.dropna()\n",
    "    df['caption'] = df['caption'].apply(change_endline)\n",
    "    df['hashtags'] = df['caption'].apply(extract_hashtags)\n",
    "    df = df.dropna()\n",
    "    return df"
   ]
  },
  {
   "cell_type": "code",
   "execution_count": 8,
   "id": "bcb91a65",
   "metadata": {
    "scrolled": true
   },
   "outputs": [
    {
     "name": "stderr",
     "output_type": "stream",
     "text": [
      "<ipython-input-7-417349c8d962>:13: SettingWithCopyWarning: \n",
      "A value is trying to be set on a copy of a slice from a DataFrame.\n",
      "Try using .loc[row_indexer,col_indexer] = value instead\n",
      "\n",
      "See the caveats in the documentation: https://pandas.pydata.org/pandas-docs/stable/user_guide/indexing.html#returning-a-view-versus-a-copy\n",
      "  df['caption'] = df['caption'].apply(change_endline)\n",
      "<ipython-input-7-417349c8d962>:14: SettingWithCopyWarning: \n",
      "A value is trying to be set on a copy of a slice from a DataFrame.\n",
      "Try using .loc[row_indexer,col_indexer] = value instead\n",
      "\n",
      "See the caveats in the documentation: https://pandas.pydata.org/pandas-docs/stable/user_guide/indexing.html#returning-a-view-versus-a-copy\n",
      "  df['hashtags'] = df['caption'].apply(extract_hashtags)\n"
     ]
    },
    {
     "data": {
      "text/html": [
       "<div>\n",
       "<style scoped>\n",
       "    .dataframe tbody tr th:only-of-type {\n",
       "        vertical-align: middle;\n",
       "    }\n",
       "\n",
       "    .dataframe tbody tr th {\n",
       "        vertical-align: top;\n",
       "    }\n",
       "\n",
       "    .dataframe thead th {\n",
       "        text-align: right;\n",
       "    }\n",
       "</style>\n",
       "<table border=\"1\" class=\"dataframe\">\n",
       "  <thead>\n",
       "    <tr style=\"text-align: right;\">\n",
       "      <th></th>\n",
       "      <th>id</th>\n",
       "      <th>shortcode</th>\n",
       "      <th>imageurl</th>\n",
       "      <th>isvideo</th>\n",
       "      <th>caption</th>\n",
       "      <th>commentscount</th>\n",
       "      <th>timestamp</th>\n",
       "      <th>likescount</th>\n",
       "      <th>isad</th>\n",
       "      <th>authorid</th>\n",
       "      <th>locationid</th>\n",
       "      <th>lat</th>\n",
       "      <th>lon</th>\n",
       "      <th>hashtags</th>\n",
       "    </tr>\n",
       "  </thead>\n",
       "  <tbody>\n",
       "    <tr>\n",
       "      <th>0</th>\n",
       "      <td>2100487392867125154</td>\n",
       "      <td>B0mbierCAei</td>\n",
       "      <td>https://scontent-dfw5-1.cdninstagram.com/v/t51...</td>\n",
       "      <td>f</td>\n",
       "      <td>DEATH 💀GUITARIST 🎸DANCING 💃 UNIQUE CONTENT 🔥 М...</td>\n",
       "      <td>3</td>\n",
       "      <td>1564617631</td>\n",
       "      <td>50</td>\n",
       "      <td>f</td>\n",
       "      <td>2895837725</td>\n",
       "      <td>409734806</td>\n",
       "      <td>60.002420</td>\n",
       "      <td>30.296490</td>\n",
       "      <td>[#мертвый, #гитарист, #гитара, #прыгун, #death...</td>\n",
       "    </tr>\n",
       "    <tr>\n",
       "      <th>3</th>\n",
       "      <td>2101062776215474217</td>\n",
       "      <td>B0oeXaLHpAp</td>\n",
       "      <td>https://scontent-dfw5-2.cdninstagram.com/v/t51...</td>\n",
       "      <td>f</td>\n",
       "      <td>Мои девочки 💛❤️💜 Такие редкие и долгожданные в...</td>\n",
       "      <td>3</td>\n",
       "      <td>1564686222</td>\n",
       "      <td>74</td>\n",
       "      <td>f</td>\n",
       "      <td>654993988</td>\n",
       "      <td>1020316384</td>\n",
       "      <td>59.957330</td>\n",
       "      <td>30.297810</td>\n",
       "      <td>[#13летвместе]</td>\n",
       "    </tr>\n",
       "    <tr>\n",
       "      <th>5</th>\n",
       "      <td>2100490830881135651</td>\n",
       "      <td>B0mcUgkopwj</td>\n",
       "      <td>https://scontent-dfw5-1.cdninstagram.com/v/t51...</td>\n",
       "      <td>f</td>\n",
       "      <td>Мы с Петром проверяем кто во сколько просыпает...</td>\n",
       "      <td>4</td>\n",
       "      <td>1564618041</td>\n",
       "      <td>144</td>\n",
       "      <td>f</td>\n",
       "      <td>208777983</td>\n",
       "      <td>1991970784229637</td>\n",
       "      <td>59.950163</td>\n",
       "      <td>30.315356</td>\n",
       "      <td>[#ставьлайк]</td>\n",
       "    </tr>\n",
       "    <tr>\n",
       "      <th>7</th>\n",
       "      <td>2100301459588903831</td>\n",
       "      <td>B0lxQy0B_OX</td>\n",
       "      <td>https://scontent-sea1-1.cdninstagram.com/v/t51...</td>\n",
       "      <td>t</td>\n",
       "      <td>MarkHockey - территория вратарей! 👍🏻 По вопрос...</td>\n",
       "      <td>5</td>\n",
       "      <td>1564634856</td>\n",
       "      <td>188</td>\n",
       "      <td>f</td>\n",
       "      <td>1099063802</td>\n",
       "      <td>411430829</td>\n",
       "      <td>59.921501</td>\n",
       "      <td>30.467902</td>\n",
       "      <td>[#markhockey, #mh, #markwear, #hockey, #khl, #...</td>\n",
       "    </tr>\n",
       "    <tr>\n",
       "      <th>8</th>\n",
       "      <td>2100489264618828711</td>\n",
       "      <td>B0mb9t4IHOn</td>\n",
       "      <td>https://scontent-dfw5-2.cdninstagram.com/v/t51...</td>\n",
       "      <td>f</td>\n",
       "      <td>#детали #единорог #единорогпиньята #единорожка...</td>\n",
       "      <td>0</td>\n",
       "      <td>1564617854</td>\n",
       "      <td>7</td>\n",
       "      <td>f</td>\n",
       "      <td>180487090</td>\n",
       "      <td>594287207</td>\n",
       "      <td>59.877330</td>\n",
       "      <td>30.318980</td>\n",
       "      <td>[#детали, #единорог, #единорогпиньята, #единор...</td>\n",
       "    </tr>\n",
       "    <tr>\n",
       "      <th>...</th>\n",
       "      <td>...</td>\n",
       "      <td>...</td>\n",
       "      <td>...</td>\n",
       "      <td>...</td>\n",
       "      <td>...</td>\n",
       "      <td>...</td>\n",
       "      <td>...</td>\n",
       "      <td>...</td>\n",
       "      <td>...</td>\n",
       "      <td>...</td>\n",
       "      <td>...</td>\n",
       "      <td>...</td>\n",
       "      <td>...</td>\n",
       "      <td>...</td>\n",
       "    </tr>\n",
       "    <tr>\n",
       "      <th>7759923</th>\n",
       "      <td>2031253672851326072</td>\n",
       "      <td>BwwdnQTAsR4</td>\n",
       "      <td>https://scontent-dfw5-2.cdninstagram.com/v/t51...</td>\n",
       "      <td>f</td>\n",
       "      <td>💛Питер... как это не странно, но я уже скучаю....</td>\n",
       "      <td>5</td>\n",
       "      <td>1556364328</td>\n",
       "      <td>127</td>\n",
       "      <td>f</td>\n",
       "      <td>641568821</td>\n",
       "      <td>226091755</td>\n",
       "      <td>59.971781</td>\n",
       "      <td>30.259442</td>\n",
       "      <td>[#санктпетербург, #скучаюспб, #питер, #крестов...</td>\n",
       "    </tr>\n",
       "    <tr>\n",
       "      <th>7759926</th>\n",
       "      <td>2031206110870801771</td>\n",
       "      <td>BwwSzIwDo1r</td>\n",
       "      <td>https://scontent-dfw5-2.cdninstagram.com/v/t51...</td>\n",
       "      <td>f</td>\n",
       "      <td>Коротко и ёмко об идеальной субботе. #СанктПет...</td>\n",
       "      <td>2</td>\n",
       "      <td>1556358659</td>\n",
       "      <td>43</td>\n",
       "      <td>f</td>\n",
       "      <td>306906698</td>\n",
       "      <td>226091755</td>\n",
       "      <td>59.971781</td>\n",
       "      <td>30.259442</td>\n",
       "      <td>[#СанктПетербург, #крестовский, #выходные, #су...</td>\n",
       "    </tr>\n",
       "    <tr>\n",
       "      <th>7759927</th>\n",
       "      <td>2031151080009010240</td>\n",
       "      <td>BwwGSVRFoxA</td>\n",
       "      <td>https://scontent-dfw5-2.cdninstagram.com/v/t51...</td>\n",
       "      <td>f</td>\n",
       "      <td>СЦЕНАРИИ МОЕЙ МЕЧТЫ ⭐️ ⭐️ Сегодня на своём онл...</td>\n",
       "      <td>93</td>\n",
       "      <td>1556352098</td>\n",
       "      <td>1758</td>\n",
       "      <td>f</td>\n",
       "      <td>1930430096</td>\n",
       "      <td>226091755</td>\n",
       "      <td>59.971781</td>\n",
       "      <td>30.259442</td>\n",
       "      <td>[#коучспб, #психологонлайн, #софиявеларди, #за...</td>\n",
       "    </tr>\n",
       "    <tr>\n",
       "      <th>7759928</th>\n",
       "      <td>2031118233699991176</td>\n",
       "      <td>Bwv-0Wwgb6I</td>\n",
       "      <td>https://scontent-dfw5-1.cdninstagram.com/v/t51...</td>\n",
       "      <td>f</td>\n",
       "      <td>Доброе субботнее утро 🌞 ,Красотки 👑 ⠀ В прошлы...</td>\n",
       "      <td>91</td>\n",
       "      <td>1556348183</td>\n",
       "      <td>2215</td>\n",
       "      <td>f</td>\n",
       "      <td>5885545914</td>\n",
       "      <td>226091755</td>\n",
       "      <td>59.971781</td>\n",
       "      <td>30.259442</td>\n",
       "      <td>[#dragonmask_enjoli, #enjoli, #маскадлялица, #...</td>\n",
       "    </tr>\n",
       "    <tr>\n",
       "      <th>7759932</th>\n",
       "      <td>2031511031872078611</td>\n",
       "      <td>BwxYIUkBcMT</td>\n",
       "      <td>https://scontent-sea1-1.cdninstagram.com/v/t51...</td>\n",
       "      <td>t</td>\n",
       "      <td>Остаются лишь достойные! ☝🏻 . . . . . . . . . ...</td>\n",
       "      <td>1</td>\n",
       "      <td>1556395204</td>\n",
       "      <td>55</td>\n",
       "      <td>f</td>\n",
       "      <td>1652113598</td>\n",
       "      <td>975640715953353</td>\n",
       "      <td>59.968285</td>\n",
       "      <td>30.246246</td>\n",
       "      <td>[#друзья, #остаютсялишьвоспоминания, #достойны...</td>\n",
       "    </tr>\n",
       "  </tbody>\n",
       "</table>\n",
       "<p>3470297 rows × 14 columns</p>\n",
       "</div>"
      ],
      "text/plain": [
       "                          id    shortcode  \\\n",
       "0        2100487392867125154  B0mbierCAei   \n",
       "3        2101062776215474217  B0oeXaLHpAp   \n",
       "5        2100490830881135651  B0mcUgkopwj   \n",
       "7        2100301459588903831  B0lxQy0B_OX   \n",
       "8        2100489264618828711  B0mb9t4IHOn   \n",
       "...                      ...          ...   \n",
       "7759923  2031253672851326072  BwwdnQTAsR4   \n",
       "7759926  2031206110870801771  BwwSzIwDo1r   \n",
       "7759927  2031151080009010240  BwwGSVRFoxA   \n",
       "7759928  2031118233699991176  Bwv-0Wwgb6I   \n",
       "7759932  2031511031872078611  BwxYIUkBcMT   \n",
       "\n",
       "                                                  imageurl isvideo  \\\n",
       "0        https://scontent-dfw5-1.cdninstagram.com/v/t51...       f   \n",
       "3        https://scontent-dfw5-2.cdninstagram.com/v/t51...       f   \n",
       "5        https://scontent-dfw5-1.cdninstagram.com/v/t51...       f   \n",
       "7        https://scontent-sea1-1.cdninstagram.com/v/t51...       t   \n",
       "8        https://scontent-dfw5-2.cdninstagram.com/v/t51...       f   \n",
       "...                                                    ...     ...   \n",
       "7759923  https://scontent-dfw5-2.cdninstagram.com/v/t51...       f   \n",
       "7759926  https://scontent-dfw5-2.cdninstagram.com/v/t51...       f   \n",
       "7759927  https://scontent-dfw5-2.cdninstagram.com/v/t51...       f   \n",
       "7759928  https://scontent-dfw5-1.cdninstagram.com/v/t51...       f   \n",
       "7759932  https://scontent-sea1-1.cdninstagram.com/v/t51...       t   \n",
       "\n",
       "                                                   caption  commentscount  \\\n",
       "0        DEATH 💀GUITARIST 🎸DANCING 💃 UNIQUE CONTENT 🔥 М...              3   \n",
       "3        Мои девочки 💛❤️💜 Такие редкие и долгожданные в...              3   \n",
       "5        Мы с Петром проверяем кто во сколько просыпает...              4   \n",
       "7        MarkHockey - территория вратарей! 👍🏻 По вопрос...              5   \n",
       "8        #детали #единорог #единорогпиньята #единорожка...              0   \n",
       "...                                                    ...            ...   \n",
       "7759923  💛Питер... как это не странно, но я уже скучаю....              5   \n",
       "7759926  Коротко и ёмко об идеальной субботе. #СанктПет...              2   \n",
       "7759927  СЦЕНАРИИ МОЕЙ МЕЧТЫ ⭐️ ⭐️ Сегодня на своём онл...             93   \n",
       "7759928  Доброе субботнее утро 🌞 ,Красотки 👑 ⠀ В прошлы...             91   \n",
       "7759932  Остаются лишь достойные! ☝🏻 . . . . . . . . . ...              1   \n",
       "\n",
       "          timestamp  likescount isad    authorid        locationid        lat  \\\n",
       "0        1564617631          50    f  2895837725         409734806  60.002420   \n",
       "3        1564686222          74    f   654993988        1020316384  59.957330   \n",
       "5        1564618041         144    f   208777983  1991970784229637  59.950163   \n",
       "7        1564634856         188    f  1099063802         411430829  59.921501   \n",
       "8        1564617854           7    f   180487090         594287207  59.877330   \n",
       "...             ...         ...  ...         ...               ...        ...   \n",
       "7759923  1556364328         127    f   641568821         226091755  59.971781   \n",
       "7759926  1556358659          43    f   306906698         226091755  59.971781   \n",
       "7759927  1556352098        1758    f  1930430096         226091755  59.971781   \n",
       "7759928  1556348183        2215    f  5885545914         226091755  59.971781   \n",
       "7759932  1556395204          55    f  1652113598   975640715953353  59.968285   \n",
       "\n",
       "               lon                                           hashtags  \n",
       "0        30.296490  [#мертвый, #гитарист, #гитара, #прыгун, #death...  \n",
       "3        30.297810                                     [#13летвместе]  \n",
       "5        30.315356                                       [#ставьлайк]  \n",
       "7        30.467902  [#markhockey, #mh, #markwear, #hockey, #khl, #...  \n",
       "8        30.318980  [#детали, #единорог, #единорогпиньята, #единор...  \n",
       "...            ...                                                ...  \n",
       "7759923  30.259442  [#санктпетербург, #скучаюспб, #питер, #крестов...  \n",
       "7759926  30.259442  [#СанктПетербург, #крестовский, #выходные, #су...  \n",
       "7759927  30.259442  [#коучспб, #психологонлайн, #софиявеларди, #за...  \n",
       "7759928  30.259442  [#dragonmask_enjoli, #enjoli, #маскадлялица, #...  \n",
       "7759932  30.246246  [#друзья, #остаютсялишьвоспоминания, #достойны...  \n",
       "\n",
       "[3470297 rows x 14 columns]"
      ]
     },
     "execution_count": 8,
     "metadata": {},
     "output_type": "execute_result"
    }
   ],
   "source": [
    "# we have only posts with hashtags\n",
    "df = prepare_db(df)\n",
    "df"
   ]
  },
  {
   "cell_type": "code",
   "execution_count": 9,
   "id": "362d77d1",
   "metadata": {},
   "outputs": [],
   "source": [
    "transactions = df['hashtags'].tolist()\n",
    "post_count = df.shape[0]"
   ]
  },
  {
   "cell_type": "code",
   "execution_count": 10,
   "id": "da8d0cfc",
   "metadata": {},
   "outputs": [],
   "source": [
    "def do_apriori(transactions, support, confidence = 0.75, lift = 1.2):\n",
    "    result = list(apyori.apriori(transactions, min_support=support, min_confidence=confidence, min_lift=lift, min_length = 2))\n",
    "    temp = []\n",
    "    for i in range(len(result)):\n",
    "      temp.append([list(result[i][0]), result[i][1], result[i][2][0][2], result[i][2][0][3]])\n",
    "    result_df = pd.DataFrame(temp, columns = ['items', 'support', 'confidence', 'lift'])\n",
    "    tags_set = set(result_df['items'].sum())\n",
    "    return result_df, tags_set"
   ]
  },
  {
   "cell_type": "code",
   "execution_count": 11,
   "id": "582d950e",
   "metadata": {},
   "outputs": [
    {
     "name": "stdout",
     "output_type": "stream",
     "text": [
      "CPU times: user 5min 24s, sys: 3.66 s, total: 5min 27s\n",
      "Wall time: 5min 28s\n"
     ]
    }
   ],
   "source": [
    "%%time\n",
    "#0.003092 - original (5 mins)\n",
    "result_df, tags = do_apriori(transactions, 0.003092)"
   ]
  },
  {
   "cell_type": "code",
   "execution_count": 12,
   "id": "4682a39c",
   "metadata": {},
   "outputs": [],
   "source": [
    "def delete_tags(df, tags, original_post_count):\n",
    "    def _delete_tags(x):\n",
    "        # set of post hastags - set of adv hastags\n",
    "        new_x = set(x) - tags\n",
    "        return new_x if len(new_x) else np.nan\n",
    "    df['hashtags'] = df['hashtags'].apply(_delete_tags)\n",
    "    prev_shape = df.shape[0]\n",
    "    df = df.dropna()\n",
    "    new_shape = df.shape[0]\n",
    "    print(prev_shape - new_shape, ' posts were deleted, percentage:', (prev_shape - new_shape)/original_post_count)\n",
    "    return df"
   ]
  },
  {
   "cell_type": "code",
   "execution_count": 13,
   "id": "1fed0a53",
   "metadata": {},
   "outputs": [
    {
     "name": "stdout",
     "output_type": "stream",
     "text": [
      "37915  posts were deleted, percentage: 0.010925577839591251\n"
     ]
    }
   ],
   "source": [
    "df = delete_tags(df, tags, post_count)"
   ]
  },
  {
   "cell_type": "markdown",
   "id": "6eb7a839",
   "metadata": {},
   "source": [
    "Now min_support is less than before, so we can find more sensitive rules"
   ]
  },
  {
   "cell_type": "code",
   "execution_count": 14,
   "id": "c272eb7a",
   "metadata": {},
   "outputs": [],
   "source": [
    "transactions = df['hashtags'].tolist()"
   ]
  },
  {
   "cell_type": "code",
   "execution_count": 15,
   "id": "11e07842",
   "metadata": {},
   "outputs": [
    {
     "name": "stdout",
     "output_type": "stream",
     "text": [
      "CPU times: user 4min 21s, sys: 3.66 s, total: 4min 25s\n",
      "Wall time: 4min 26s\n"
     ]
    }
   ],
   "source": [
    "%%time\n",
    "#0.0028 - 1 min\n",
    "#0.002783 - 1 min\n",
    "#0.0027825 - 1.5 min\n",
    "#0.0027823 - 4 mins\n",
    "result_df2, tags2 = do_apriori(transactions, 0.0027823)"
   ]
  },
  {
   "cell_type": "code",
   "execution_count": 16,
   "id": "3c978a89",
   "metadata": {},
   "outputs": [
    {
     "name": "stderr",
     "output_type": "stream",
     "text": [
      "<ipython-input-12-cd39839da4f1>:6: SettingWithCopyWarning: \n",
      "A value is trying to be set on a copy of a slice from a DataFrame.\n",
      "Try using .loc[row_indexer,col_indexer] = value instead\n",
      "\n",
      "See the caveats in the documentation: https://pandas.pydata.org/pandas-docs/stable/user_guide/indexing.html#returning-a-view-versus-a-copy\n",
      "  df['hashtags'] = df['hashtags'].apply(_delete_tags)\n"
     ]
    },
    {
     "name": "stdout",
     "output_type": "stream",
     "text": [
      "499  posts were deleted, percentage: 0.0001437917273363058\n"
     ]
    }
   ],
   "source": [
    "df = delete_tags(df, tags2, post_count)"
   ]
  },
  {
   "cell_type": "markdown",
   "id": "8fb91cf5",
   "metadata": {},
   "source": [
    "Постов, которые содержали только эти хэштеги мало. Возможно, имеет смысл удалять любые, которые содержат хотя бы n штук из перечня, чтоб была возможность контролировать чувствительность."
   ]
  },
  {
   "cell_type": "code",
   "execution_count": 17,
   "id": "bb24d2b4",
   "metadata": {},
   "outputs": [],
   "source": [
    "transactions = df['hashtags'].tolist()"
   ]
  },
  {
   "cell_type": "code",
   "execution_count": 18,
   "id": "9f480703",
   "metadata": {},
   "outputs": [
    {
     "name": "stdout",
     "output_type": "stream",
     "text": [
      "CPU times: user 1min 2s, sys: 2.86 s, total: 1min 5s\n",
      "Wall time: 1min 5s\n"
     ]
    }
   ],
   "source": [
    "%%time\n",
    "#0.0027823 - 1 min\n",
    "#0.0026 - 1.5 - new 120 entries\n",
    "result_df3, tags3 = do_apriori(transactions, 0.0025)"
   ]
  },
  {
   "cell_type": "code",
   "execution_count": 19,
   "id": "485d87ab",
   "metadata": {},
   "outputs": [
    {
     "name": "stdout",
     "output_type": "stream",
     "text": [
      "8773  posts were deleted, percentage: 0.0025280256992413043\n"
     ]
    }
   ],
   "source": [
    "df = delete_tags(df, tags3, post_count)"
   ]
  },
  {
   "cell_type": "code",
   "execution_count": 20,
   "id": "3957a80e",
   "metadata": {},
   "outputs": [],
   "source": [
    "transactions = df['hashtags'].tolist()"
   ]
  },
  {
   "cell_type": "code",
   "execution_count": 21,
   "id": "d6096672",
   "metadata": {},
   "outputs": [
    {
     "name": "stdout",
     "output_type": "stream",
     "text": [
      "CPU times: user 2min 46s, sys: 3.51 s, total: 2min 49s\n",
      "Wall time: 2min 50s\n"
     ]
    }
   ],
   "source": [
    "%%time\n",
    "#0.001 - 2 min\n",
    "result_df4, tags4 = do_apriori(transactions, 0.001)"
   ]
  },
  {
   "cell_type": "code",
   "execution_count": 22,
   "id": "b21c62c9",
   "metadata": {},
   "outputs": [
    {
     "name": "stdout",
     "output_type": "stream",
     "text": [
      "3859  posts were deleted, percentage: 0.0011120085687190463\n"
     ]
    }
   ],
   "source": [
    "df = delete_tags(df, tags4, post_count)"
   ]
  },
  {
   "cell_type": "code",
   "execution_count": 23,
   "id": "26959aba",
   "metadata": {},
   "outputs": [],
   "source": [
    "transactions = df['hashtags'].tolist()"
   ]
  },
  {
   "cell_type": "code",
   "execution_count": 24,
   "id": "04ae2b31",
   "metadata": {},
   "outputs": [
    {
     "name": "stdout",
     "output_type": "stream",
     "text": [
      "CPU times: user 2min 2s, sys: 4.29 s, total: 2min 7s\n",
      "Wall time: 2min 7s\n"
     ]
    }
   ],
   "source": [
    "%%time\n",
    "#0.001 - 2 min\n",
    "result_df5, tags5 = do_apriori(transactions, 0.0009)"
   ]
  },
  {
   "cell_type": "code",
   "execution_count": 25,
   "id": "5f7810eb",
   "metadata": {},
   "outputs": [
    {
     "name": "stdout",
     "output_type": "stream",
     "text": [
      "784  posts were deleted, percentage: 0.0002259172629893061\n"
     ]
    }
   ],
   "source": [
    "df = delete_tags(df, tags5, post_count)"
   ]
  },
  {
   "cell_type": "code",
   "execution_count": 26,
   "id": "5e72a064",
   "metadata": {},
   "outputs": [],
   "source": [
    "transactions = df['hashtags'].tolist()"
   ]
  },
  {
   "cell_type": "code",
   "execution_count": 27,
   "id": "7b55ce4a",
   "metadata": {},
   "outputs": [
    {
     "name": "stdout",
     "output_type": "stream",
     "text": [
      "CPU times: user 3min 4s, sys: 3.88 s, total: 3min 8s\n",
      "Wall time: 3min 9s\n"
     ]
    }
   ],
   "source": [
    "%%time\n",
    "#0.001 - 2 min\n",
    "result_df6, tags6 = do_apriori(transactions, 0.0008)"
   ]
  },
  {
   "cell_type": "code",
   "execution_count": 28,
   "id": "903018e8",
   "metadata": {},
   "outputs": [
    {
     "name": "stdout",
     "output_type": "stream",
     "text": [
      "462  posts were deleted, percentage: 0.0001331298156901268\n"
     ]
    }
   ],
   "source": [
    "df = delete_tags(df, tags6, post_count)"
   ]
  },
  {
   "cell_type": "code",
   "execution_count": 29,
   "id": "8f88a9e1",
   "metadata": {},
   "outputs": [],
   "source": [
    "transactions = df['hashtags'].tolist()"
   ]
  },
  {
   "cell_type": "code",
   "execution_count": 30,
   "id": "b0fc08d9",
   "metadata": {},
   "outputs": [
    {
     "name": "stdout",
     "output_type": "stream",
     "text": [
      "CPU times: user 10min 33s, sys: 8.19 s, total: 10min 41s\n",
      "Wall time: 10min 43s\n"
     ]
    }
   ],
   "source": [
    "%%time\n",
    "#0.001 - 2 min\n",
    "result_df7, tags7 = do_apriori(transactions, 0.0006)"
   ]
  },
  {
   "cell_type": "code",
   "execution_count": 31,
   "id": "eb370917",
   "metadata": {},
   "outputs": [
    {
     "name": "stdout",
     "output_type": "stream",
     "text": [
      "2300  posts were deleted, percentage: 0.0006627674807084236\n"
     ]
    }
   ],
   "source": [
    "df = delete_tags(df, tags7, post_count)"
   ]
  },
  {
   "cell_type": "markdown",
   "id": "8633e104",
   "metadata": {},
   "source": [
    "Plots creating"
   ]
  },
  {
   "cell_type": "code",
   "execution_count": 42,
   "id": "e4ad8931",
   "metadata": {},
   "outputs": [],
   "source": [
    "spb_rules_df =  pd.concat([result_df, result_df2, result_df3, result_df4, result_df5, result_df6, result_df7])"
   ]
  },
  {
   "cell_type": "code",
   "execution_count": 43,
   "id": "774b36a0",
   "metadata": {},
   "outputs": [
    {
     "data": {
      "text/html": [
       "<div>\n",
       "<style scoped>\n",
       "    .dataframe tbody tr th:only-of-type {\n",
       "        vertical-align: middle;\n",
       "    }\n",
       "\n",
       "    .dataframe tbody tr th {\n",
       "        vertical-align: top;\n",
       "    }\n",
       "\n",
       "    .dataframe thead th {\n",
       "        text-align: right;\n",
       "    }\n",
       "</style>\n",
       "<table border=\"1\" class=\"dataframe\">\n",
       "  <thead>\n",
       "    <tr style=\"text-align: right;\">\n",
       "      <th></th>\n",
       "      <th>items</th>\n",
       "      <th>support</th>\n",
       "      <th>confidence</th>\n",
       "      <th>lift</th>\n",
       "    </tr>\n",
       "  </thead>\n",
       "  <tbody>\n",
       "    <tr>\n",
       "      <th>166</th>\n",
       "      <td>[#likes, #l4l, #likesforlikes]</td>\n",
       "      <td>0.000600</td>\n",
       "      <td>0.813889</td>\n",
       "      <td>807.745729</td>\n",
       "    </tr>\n",
       "    <tr>\n",
       "      <th>159</th>\n",
       "      <td>[#likebackteam, #liker, #l4l]</td>\n",
       "      <td>0.000600</td>\n",
       "      <td>0.778959</td>\n",
       "      <td>1086.286003</td>\n",
       "    </tr>\n",
       "    <tr>\n",
       "      <th>96</th>\n",
       "      <td>[#drawing, #artist, #art]</td>\n",
       "      <td>0.000600</td>\n",
       "      <td>0.900790</td>\n",
       "      <td>60.647769</td>\n",
       "    </tr>\n",
       "    <tr>\n",
       "      <th>533</th>\n",
       "      <td>[#likebackteam, #likes4likes, #l4l, #likesforl...</td>\n",
       "      <td>0.000601</td>\n",
       "      <td>0.779719</td>\n",
       "      <td>1243.042573</td>\n",
       "    </tr>\n",
       "    <tr>\n",
       "      <th>1</th>\n",
       "      <td>[#artlife, #artwork]</td>\n",
       "      <td>0.000601</td>\n",
       "      <td>0.810576</td>\n",
       "      <td>351.370118</td>\n",
       "    </tr>\n",
       "    <tr>\n",
       "      <th>...</th>\n",
       "      <td>...</td>\n",
       "      <td>...</td>\n",
       "      <td>...</td>\n",
       "      <td>...</td>\n",
       "    </tr>\n",
       "    <tr>\n",
       "      <th>940</th>\n",
       "      <td>[#питер, #спб, #spb, #санктпетербург]</td>\n",
       "      <td>0.006975</td>\n",
       "      <td>0.773298</td>\n",
       "      <td>7.826408</td>\n",
       "    </tr>\n",
       "    <tr>\n",
       "      <th>150</th>\n",
       "      <td>[#педикюрспб, #маникюрспб]</td>\n",
       "      <td>0.007052</td>\n",
       "      <td>0.800484</td>\n",
       "      <td>24.008828</td>\n",
       "    </tr>\n",
       "    <tr>\n",
       "      <th>143</th>\n",
       "      <td>[#педикюр, #маникюр]</td>\n",
       "      <td>0.008437</td>\n",
       "      <td>0.840452</td>\n",
       "      <td>31.486770</td>\n",
       "    </tr>\n",
       "    <tr>\n",
       "      <th>214</th>\n",
       "      <td>[#спб, #saintpetersburg, #санктпетербург]</td>\n",
       "      <td>0.009352</td>\n",
       "      <td>0.755570</td>\n",
       "      <td>9.583315</td>\n",
       "    </tr>\n",
       "    <tr>\n",
       "      <th>34</th>\n",
       "      <td>[#гельлакспб, #маникюрспб]</td>\n",
       "      <td>0.009403</td>\n",
       "      <td>0.761233</td>\n",
       "      <td>22.831566</td>\n",
       "    </tr>\n",
       "  </tbody>\n",
       "</table>\n",
       "<p>10804 rows × 4 columns</p>\n",
       "</div>"
      ],
      "text/plain": [
       "                                                 items   support  confidence  \\\n",
       "166                     [#likes, #l4l, #likesforlikes]  0.000600    0.813889   \n",
       "159                      [#likebackteam, #liker, #l4l]  0.000600    0.778959   \n",
       "96                           [#drawing, #artist, #art]  0.000600    0.900790   \n",
       "533  [#likebackteam, #likes4likes, #l4l, #likesforl...  0.000601    0.779719   \n",
       "1                                 [#artlife, #artwork]  0.000601    0.810576   \n",
       "..                                                 ...       ...         ...   \n",
       "940              [#питер, #спб, #spb, #санктпетербург]  0.006975    0.773298   \n",
       "150                         [#педикюрспб, #маникюрспб]  0.007052    0.800484   \n",
       "143                               [#педикюр, #маникюр]  0.008437    0.840452   \n",
       "214          [#спб, #saintpetersburg, #санктпетербург]  0.009352    0.755570   \n",
       "34                          [#гельлакспб, #маникюрспб]  0.009403    0.761233   \n",
       "\n",
       "            lift  \n",
       "166   807.745729  \n",
       "159  1086.286003  \n",
       "96     60.647769  \n",
       "533  1243.042573  \n",
       "1     351.370118  \n",
       "..           ...  \n",
       "940     7.826408  \n",
       "150    24.008828  \n",
       "143    31.486770  \n",
       "214     9.583315  \n",
       "34     22.831566  \n",
       "\n",
       "[10804 rows x 4 columns]"
      ]
     },
     "execution_count": 43,
     "metadata": {},
     "output_type": "execute_result"
    }
   ],
   "source": [
    "spb_rules_df.sort_values(by=['support'])"
   ]
  },
  {
   "cell_type": "code",
   "execution_count": null,
   "id": "6c8b8c1b",
   "metadata": {},
   "outputs": [],
   "source": [
    "# support cuts: 0.003092, 0.0027823, 0.0025, 0.001, 0.0009, 0.0008, 0.0006"
   ]
  },
  {
   "cell_type": "code",
   "execution_count": 67,
   "id": "24dcbddd",
   "metadata": {},
   "outputs": [
    {
     "data": {
      "image/png": "[encoded data removed]",
      "text/plain": [
       "<Figure size 720x504 with 1 Axes>"
      ]
     },
     "metadata": {
      "needs_background": "light"
     },
     "output_type": "display_data"
    }
   ],
   "source": [
    "plt.figure(figsize=(10, 7))\n",
    "ax = plt.axes()\n",
    "ax.scatter(spb_rules_df['support'], spb_rules_df['confidence'], c='blue')\n",
    "\n",
    "for sup in [0.003092, 0.0027823, 0.0025, 0.001, 0.0009, 0.0008, 0.0006]:\n",
    "    ax.plot([sup, sup], [0.75, 1], c='red')\n",
    "\n",
    "    ax.set_xlabel('support')\n",
    "ax.set_ylabel('confidence')\n",
    "plt.show()"
   ]
  },
  {
   "cell_type": "code",
   "execution_count": 69,
   "id": "4fb8d2ad",
   "metadata": {},
   "outputs": [
    {
     "data": {
      "image/png": "[encoded data removed]",
      "text/plain": [
       "<Figure size 720x504 with 1 Axes>"
      ]
     },
     "metadata": {
      "needs_background": "light"
     },
     "output_type": "display_data"
    }
   ],
   "source": [
    "plt.figure(figsize=(10, 7))\n",
    "ax = plt.axes()\n",
    "ax.scatter(spb_rules_df['support'], spb_rules_df['lift'], c='blue')\n",
    "\n",
    "for sup in [0.003092, 0.0027823, 0.0025, 0.001, 0.0009, 0.0008, 0.0006]:\n",
    "    ax.plot([sup, sup], [0, 1600], c='red')\n",
    "\n",
    "    ax.set_xlabel('support')\n",
    "ax.set_ylabel('confidence')\n",
    "plt.show()"
   ]
  },
  {
   "cell_type": "code",
   "execution_count": 77,
   "id": "cc165e61",
   "metadata": {},
   "outputs": [
    {
     "data": {
      "image/png": "[encoded data removed]",
      "text/plain": [
       "<Figure size 720x504 with 1 Axes>"
      ]
     },
     "metadata": {
      "needs_background": "light"
     },
     "output_type": "display_data"
    }
   ],
   "source": [
    "plt.figure(figsize=(10, 7))\n",
    "ax = plt.axes()\n",
    "for sup in [0.003092, 0.0027823, 0.0025, 0.001, 0.0009, 0.0008, 0.0006]:\n",
    "    ax.plot([sup, sup], [0, 4000], c='red')\n",
    "ax.hist(spb_rules_df['support'], bins = 300)\n",
    "plt.show()"
   ]
  },
  {
   "cell_type": "markdown",
   "id": "de12208c",
   "metadata": {},
   "source": [
    "# LONDON 2019"
   ]
  },
  {
   "cell_type": "code",
   "execution_count": null,
   "id": "55a48e72",
   "metadata": {},
   "outputs": [],
   "source": [
    "df_london = pd.read_csv('../../data/instagram_posts/london_posts_2019.csv', sep=',')\n",
    "df = df_london\n",
    "df"
   ]
  },
  {
   "cell_type": "code",
   "execution_count": null,
   "id": "a368b6ea",
   "metadata": {},
   "outputs": [],
   "source": [
    "df = df.dropna()\n",
    "df['caption'] = df['caption'].apply(change_endline)\n",
    "df['hashtags'] = df['caption'].apply(extract_hashtags)\n",
    "df = df.dropna()"
   ]
  },
  {
   "cell_type": "code",
   "execution_count": null,
   "id": "b509c812",
   "metadata": {},
   "outputs": [],
   "source": [
    "transactions = df['hashtags'].tolist()\n",
    "post_count = df.shape[0]\n",
    "transactions[1:4]"
   ]
  },
  {
   "cell_type": "markdown",
   "id": "de9d9df0",
   "metadata": {},
   "source": [
    "layer 1"
   ]
  },
  {
   "cell_type": "code",
   "execution_count": null,
   "id": "b30388d0",
   "metadata": {},
   "outputs": [],
   "source": [
    "%%time\n",
    "# min support is foind iteratively to prevent large computations\n",
    "result8 = list(apyori.apriori(transactions, min_support = 0.004, min_confidence = 0.75, min_lift = 1.2, min_length = 2))"
   ]
  },
  {
   "cell_type": "code",
   "execution_count": null,
   "id": "06054b1b",
   "metadata": {},
   "outputs": [],
   "source": [
    "temp = []\n",
    "for i in range(len(result8)):\n",
    "  temp.append([list(result8[i][0]), result8[i][1], result8[i][2][0][2], result8[i][2][0][3]])\n",
    "\n",
    "apyori_inst_london = pd.DataFrame(temp, columns = ['items', 'support', 'confidence', 'lift'])\n",
    "apyori_inst_london.sort_values(by=['confidence'], ascending=False)"
   ]
  },
  {
   "cell_type": "code",
   "execution_count": null,
   "id": "021338b8",
   "metadata": {},
   "outputs": [],
   "source": [
    "adv_tags = set(apyori_inst_london['items'].sum())\n",
    "df['hashtags'] = df['hashtags'].apply(delete_adv)\n",
    "adv_tags"
   ]
  },
  {
   "cell_type": "code",
   "execution_count": null,
   "id": "f0d5ecaa",
   "metadata": {},
   "outputs": [],
   "source": [
    "prev_shape = df.shape[0]\n",
    "df = df.dropna()\n",
    "new_shape = df.shape[0]\n",
    "print(prev_shape - new_shape, ' posts were deleted, percentage:', (prev_shape - new_shape)/post_count)"
   ]
  },
  {
   "cell_type": "markdown",
   "id": "d72bed9d",
   "metadata": {},
   "source": [
    "layer 2"
   ]
  },
  {
   "cell_type": "code",
   "execution_count": null,
   "id": "6f929fcf",
   "metadata": {},
   "outputs": [],
   "source": [
    "transactions = df['hashtags'].tolist()"
   ]
  },
  {
   "cell_type": "code",
   "execution_count": null,
   "id": "498b70ba",
   "metadata": {},
   "outputs": [],
   "source": [
    "%%time\n",
    "# min support is foind iteratively to prevent large computations\n",
    "result8 = list(apyori.apriori(transactions, min_support = 0.002, min_confidence = 0.75, min_lift = 1.2, min_length = 2))"
   ]
  },
  {
   "cell_type": "code",
   "execution_count": null,
   "id": "4eec4e0c",
   "metadata": {},
   "outputs": [],
   "source": [
    "temp = []\n",
    "for i in range(len(result8)):\n",
    "  temp.append([list(result8[i][0]), result8[i][1], result8[i][2][0][2], result8[i][2][0][3]])\n",
    "\n",
    "apyori_inst_london = pd.DataFrame(temp, columns = ['items', 'support', 'confidence', 'lift'])\n",
    "apyori_inst_london.sort_values(by=['confidence'], ascending=False)"
   ]
  },
  {
   "cell_type": "code",
   "execution_count": null,
   "id": "efde6bc3",
   "metadata": {},
   "outputs": [],
   "source": [
    "adv_tags = set(apyori_inst_london['items'].sum())\n",
    "df['hashtags'] = df['hashtags'].apply(delete_adv)\n",
    "adv_tags"
   ]
  },
  {
   "cell_type": "code",
   "execution_count": null,
   "id": "30b659e5",
   "metadata": {},
   "outputs": [],
   "source": [
    "prev_shape = df.shape[0]\n",
    "df = df.dropna()\n",
    "new_shape = df.shape[0]\n",
    "print(prev_shape - new_shape, ' posts were deleted, percentage:', (prev_shape - new_shape)/post_count)"
   ]
  },
  {
   "cell_type": "markdown",
   "id": "ef60d1e1",
   "metadata": {},
   "source": [
    "layer 3"
   ]
  },
  {
   "cell_type": "code",
   "execution_count": null,
   "id": "a5f7de33",
   "metadata": {},
   "outputs": [],
   "source": [
    "transactions = df['hashtags'].tolist()"
   ]
  },
  {
   "cell_type": "code",
   "execution_count": null,
   "id": "758b7707",
   "metadata": {},
   "outputs": [],
   "source": [
    "%%time\n",
    "# min support is foind iteratively to prevent large computations\n",
    "result8 = list(apyori.apriori(transactions, min_support = 0.001, min_confidence = 0.75, min_lift = 1.2, min_length = 2))"
   ]
  },
  {
   "cell_type": "code",
   "execution_count": null,
   "id": "8b2d1b9f",
   "metadata": {},
   "outputs": [],
   "source": [
    "temp = []\n",
    "for i in range(len(result8)):\n",
    "  temp.append([list(result8[i][0]), result8[i][1], result8[i][2][0][2], result8[i][2][0][3]])\n",
    "\n",
    "apyori_inst_london = pd.DataFrame(temp, columns = ['items', 'support', 'confidence', 'lift'])\n",
    "apyori_inst_london.sort_values(by=['support'], ascending=False)"
   ]
  },
  {
   "cell_type": "code",
   "execution_count": null,
   "id": "264aa75c",
   "metadata": {},
   "outputs": [],
   "source": [
    "adv_tags = set(apyori_inst_london['items'].sum())\n",
    "df['hashtags'] = df['hashtags'].apply(delete_adv)\n",
    "adv_tags"
   ]
  },
  {
   "cell_type": "code",
   "execution_count": null,
   "id": "94a3a181",
   "metadata": {},
   "outputs": [],
   "source": [
    "prev_shape = df.shape[0]\n",
    "df = df.dropna()\n",
    "new_shape = df.shape[0]\n",
    "print(prev_shape - new_shape, ' posts were deleted, percentage:', (prev_shape - new_shape)/post_count)"
   ]
  },
  {
   "cell_type": "markdown",
   "id": "66bdcc1a",
   "metadata": {},
   "source": [
    "layer 4"
   ]
  },
  {
   "cell_type": "code",
   "execution_count": null,
   "id": "03bc1fcc",
   "metadata": {},
   "outputs": [],
   "source": [
    "transactions = df['hashtags'].tolist()"
   ]
  },
  {
   "cell_type": "code",
   "execution_count": null,
   "id": "e66cf93b",
   "metadata": {},
   "outputs": [],
   "source": [
    "%%time\n",
    "# min support is foind iteratively to prevent large computations\n",
    "result8 = list(apyori.apriori(transactions, min_support = 0.0005, min_confidence = 0.75, min_lift = 1.2, min_length = 2))"
   ]
  },
  {
   "cell_type": "code",
   "execution_count": null,
   "id": "14ff4877",
   "metadata": {},
   "outputs": [],
   "source": [
    "temp = []\n",
    "for i in range(len(result8)):\n",
    "  temp.append([list(result8[i][0]), result8[i][1], result8[i][2][0][2], result8[i][2][0][3]])\n",
    "\n",
    "apyori_inst_london = pd.DataFrame(temp, columns = ['items', 'support', 'confidence', 'lift'])\n",
    "apyori_inst_london.sort_values(by=['confidence'], ascending=False)"
   ]
  },
  {
   "cell_type": "code",
   "execution_count": null,
   "id": "67af55af",
   "metadata": {},
   "outputs": [],
   "source": [
    "adv_tags = set(apyori_inst_london['items'].sum())\n",
    "df['hashtags'] = df['hashtags'].apply(delete_adv)\n",
    "adv_tags"
   ]
  },
  {
   "cell_type": "code",
   "execution_count": null,
   "id": "09d794cb",
   "metadata": {},
   "outputs": [],
   "source": [
    "prev_shape = df.shape[0]\n",
    "df = df.dropna()\n",
    "new_shape = df.shape[0]\n",
    "print(prev_shape - new_shape, ' posts were deleted, percentage:', (prev_shape - new_shape)/post_count)"
   ]
  },
  {
   "cell_type": "markdown",
   "id": "739475b8",
   "metadata": {},
   "source": [
    "# MOSCOW 2019"
   ]
  },
  {
   "cell_type": "code",
   "execution_count": null,
   "id": "3a1b7f49",
   "metadata": {},
   "outputs": [],
   "source": [
    "df_moscow = pd.read_csv('../../data/instagram_posts/moscow_posts_2019.csv', sep=',')\n",
    "df = df_moscow\n",
    "df"
   ]
  },
  {
   "cell_type": "code",
   "execution_count": null,
   "id": "4075cd26",
   "metadata": {},
   "outputs": [],
   "source": [
    "df = df.dropna()\n",
    "df['caption'] = df['caption'].apply(change_endline)\n",
    "df['hashtags'] = df['caption'].apply(extract_hashtags)\n",
    "df = df.dropna()\n",
    "transactions = df['hashtags'].tolist()\n",
    "post_count = df.shape[0]\n",
    "transactions[1:4]"
   ]
  },
  {
   "cell_type": "markdown",
   "id": "76bbf481",
   "metadata": {},
   "source": [
    "layer 1"
   ]
  },
  {
   "cell_type": "code",
   "execution_count": null,
   "id": "d544d317",
   "metadata": {},
   "outputs": [],
   "source": [
    "%%time\n",
    "# min support is foind iteratively to prevent large computations\n",
    "result8 = list(apyori.apriori(transactions, min_support = 0.003, min_confidence = 0.75, min_lift = 1.2, min_length = 2))"
   ]
  },
  {
   "cell_type": "code",
   "execution_count": null,
   "id": "dd460180",
   "metadata": {},
   "outputs": [],
   "source": [
    "temp = []\n",
    "for i in range(len(result8)):\n",
    "  temp.append([list(result8[i][0]), result8[i][1], result8[i][2][0][2], result8[i][2][0][3]])\n",
    "\n",
    "apyori_inst_moscow = pd.DataFrame(temp, columns = ['items', 'support', 'confidence', 'lift'])\n",
    "apyori_inst_moscow.sort_values(by=['confidence'], ascending=False)"
   ]
  },
  {
   "cell_type": "code",
   "execution_count": null,
   "id": "ef60feca",
   "metadata": {},
   "outputs": [],
   "source": [
    "adv_tags = set(apyori_inst_moscow['items'].sum())\n",
    "df['hashtags'] = df['hashtags'].apply(delete_adv)\n",
    "adv_tags"
   ]
  },
  {
   "cell_type": "code",
   "execution_count": null,
   "id": "a6680a35",
   "metadata": {},
   "outputs": [],
   "source": [
    "prev_shape = df.shape[0]\n",
    "df = df.dropna()\n",
    "new_shape = df.shape[0]\n",
    "print(prev_shape - new_shape, ' posts were deleted, percentage:', (prev_shape - new_shape)/post_count)"
   ]
  },
  {
   "cell_type": "markdown",
   "id": "79212ccd",
   "metadata": {},
   "source": [
    "layer 2"
   ]
  },
  {
   "cell_type": "code",
   "execution_count": null,
   "id": "4924ec10",
   "metadata": {},
   "outputs": [],
   "source": [
    "transactions = df['hashtags'].tolist()"
   ]
  },
  {
   "cell_type": "code",
   "execution_count": null,
   "id": "db855bb3",
   "metadata": {},
   "outputs": [],
   "source": [
    "%%time\n",
    "# min support is foind iteratively to prevent large computations\n",
    "result8 = list(apyori.apriori(transactions, min_support = 0.002, min_confidence = 0.75, min_lift = 1.2, min_length = 2))"
   ]
  },
  {
   "cell_type": "code",
   "execution_count": null,
   "id": "e8736499",
   "metadata": {},
   "outputs": [],
   "source": [
    "temp = []\n",
    "for i in range(len(result8)):\n",
    "  temp.append([list(result8[i][0]), result8[i][1], result8[i][2][0][2], result8[i][2][0][3]])\n",
    "\n",
    "apyori_inst_moscow = pd.DataFrame(temp, columns = ['items', 'support', 'confidence', 'lift'])\n",
    "apyori_inst_moscow.sort_values(by=['confidence'], ascending=False)"
   ]
  },
  {
   "cell_type": "code",
   "execution_count": null,
   "id": "5b7ccac0",
   "metadata": {},
   "outputs": [],
   "source": [
    "adv_tags = set(apyori_inst_moscow['items'].sum())\n",
    "df['hashtags'] = df['hashtags'].apply(delete_adv)\n",
    "adv_tags"
   ]
  },
  {
   "cell_type": "code",
   "execution_count": null,
   "id": "a5f98a9d",
   "metadata": {},
   "outputs": [],
   "source": [
    "prev_shape = df.shape[0]\n",
    "df = df.dropna()\n",
    "new_shape = df.shape[0]\n",
    "print(prev_shape - new_shape, ' posts were deleted, percentage:', (prev_shape - new_shape)/post_count)"
   ]
  },
  {
   "cell_type": "markdown",
   "id": "ce0bfb1f",
   "metadata": {},
   "source": [
    "layer 3"
   ]
  },
  {
   "cell_type": "code",
   "execution_count": null,
   "id": "1eae3c64",
   "metadata": {},
   "outputs": [],
   "source": [
    "transactions = df['hashtags'].tolist()"
   ]
  },
  {
   "cell_type": "code",
   "execution_count": null,
   "id": "7134a8c8",
   "metadata": {},
   "outputs": [],
   "source": [
    "%%time\n",
    "# min support is foind iteratively to prevent large computations\n",
    "result8 = list(apyori.apriori(transactions, min_support = 0.001, min_confidence = 0.75, min_lift = 1.2, min_length = 2))"
   ]
  },
  {
   "cell_type": "code",
   "execution_count": null,
   "id": "6e51e154",
   "metadata": {},
   "outputs": [],
   "source": [
    "temp = []\n",
    "for i in range(len(result8)):\n",
    "  temp.append([list(result8[i][0]), result8[i][1], result8[i][2][0][2], result8[i][2][0][3]])\n",
    "\n",
    "apyori_inst_moscow = pd.DataFrame(temp, columns = ['items', 'support', 'confidence', 'lift'])\n",
    "apyori_inst_moscow.sort_values(by=['confidence'], ascending=False)"
   ]
  },
  {
   "cell_type": "code",
   "execution_count": null,
   "id": "6ef65b5a",
   "metadata": {},
   "outputs": [],
   "source": [
    "adv_tags = set(apyori_inst_moscow['items'].sum())\n",
    "df['hashtags'] = df['hashtags'].apply(delete_adv)\n",
    "adv_tags"
   ]
  },
  {
   "cell_type": "code",
   "execution_count": null,
   "id": "192ecac2",
   "metadata": {},
   "outputs": [],
   "source": [
    "prev_shape = df.shape[0]\n",
    "df = df.dropna()\n",
    "new_shape = df.shape[0]\n",
    "print(prev_shape - new_shape, ' posts were deleted, percentage:', (prev_shape - new_shape)/post_count)"
   ]
  },
  {
   "cell_type": "markdown",
   "id": "61f6ac75",
   "metadata": {},
   "source": [
    "layer 4"
   ]
  },
  {
   "cell_type": "code",
   "execution_count": null,
   "id": "76d83a24",
   "metadata": {},
   "outputs": [],
   "source": [
    "transactions = df['hashtags'].tolist()"
   ]
  },
  {
   "cell_type": "code",
   "execution_count": null,
   "id": "0695f623",
   "metadata": {},
   "outputs": [],
   "source": [
    "%%time\n",
    "# min support is foind iteratively to prevent large computations\n",
    "result8 = list(apyori.apriori(transactions, min_support = 0.0009, min_confidence = 0.75, min_lift = 1.2, min_length = 2))"
   ]
  },
  {
   "cell_type": "code",
   "execution_count": null,
   "id": "9e2b5b75",
   "metadata": {},
   "outputs": [],
   "source": [
    "temp = []\n",
    "for i in range(len(result8)):\n",
    "  temp.append([list(result8[i][0]), result8[i][1], result8[i][2][0][2], result8[i][2][0][3]])\n",
    "\n",
    "apyori_inst_moscow = pd.DataFrame(temp, columns = ['items', 'support', 'confidence', 'lift'])\n",
    "apyori_inst_moscow.sort_values(by=['confidence'], ascending=False)"
   ]
  },
  {
   "cell_type": "code",
   "execution_count": null,
   "id": "9f67f1b0",
   "metadata": {},
   "outputs": [],
   "source": [
    "adv_tags = set(apyori_inst_moscow['items'].sum())\n",
    "df['hashtags'] = df['hashtags'].apply(delete_adv)\n",
    "adv_tags"
   ]
  },
  {
   "cell_type": "code",
   "execution_count": null,
   "id": "d34dddd7",
   "metadata": {},
   "outputs": [],
   "source": [
    "prev_shape = df.shape[0]\n",
    "df = df.dropna()\n",
    "new_shape = df.shape[0]\n",
    "print(prev_shape - new_shape, ' posts were deleted, percentage:', (prev_shape - new_shape)/post_count)"
   ]
  },
  {
   "cell_type": "markdown",
   "id": "cad6ffe4",
   "metadata": {},
   "source": [
    "# NYC 2019"
   ]
  },
  {
   "cell_type": "code",
   "execution_count": null,
   "id": "ded1f34b",
   "metadata": {},
   "outputs": [],
   "source": [
    "df_nyc = pd.read_csv('../../data/instagram_posts/nyc_posts_2019.csv', sep=',')\n",
    "df = df_nyc\n",
    "df"
   ]
  },
  {
   "cell_type": "code",
   "execution_count": null,
   "id": "9d2212f9",
   "metadata": {},
   "outputs": [],
   "source": [
    "df = df.dropna()\n",
    "df['caption'] = df['caption'].apply(change_endline)\n",
    "df['hashtags'] = df['caption'].apply(extract_hashtags)\n",
    "df = df.dropna()\n",
    "transactions = df['hashtags'].tolist()\n",
    "post_count = df.shape[0]\n",
    "transactions[1:4]"
   ]
  },
  {
   "cell_type": "markdown",
   "id": "958e8ec1",
   "metadata": {},
   "source": [
    "layer 1"
   ]
  },
  {
   "cell_type": "code",
   "execution_count": null,
   "id": "f88cf1fa",
   "metadata": {},
   "outputs": [],
   "source": [
    "%%time\n",
    "# min support is foind iteratively to prevent large computations\n",
    "result8 = list(apyori.apriori(transactions, min_support = 0.004, min_confidence = 0.75, min_lift = 1.2, min_length = 2))"
   ]
  },
  {
   "cell_type": "code",
   "execution_count": null,
   "id": "aa3d8fab",
   "metadata": {},
   "outputs": [],
   "source": [
    "temp = []\n",
    "for i in range(len(result8)):\n",
    "  temp.append([list(result8[i][0]), result8[i][1], result8[i][2][0][2], result8[i][2][0][3]])\n",
    "\n",
    "apyori_inst_moscow = pd.DataFrame(temp, columns = ['items', 'support', 'confidence', 'lift'])\n",
    "apyori_inst_moscow.sort_values(by=['confidence'], ascending=False)"
   ]
  },
  {
   "cell_type": "code",
   "execution_count": null,
   "id": "9e6afe68",
   "metadata": {},
   "outputs": [],
   "source": [
    "adv_tags = set(apyori_inst_moscow['items'].sum())\n",
    "df['hashtags'] = df['hashtags'].apply(delete_adv)\n",
    "adv_tags"
   ]
  },
  {
   "cell_type": "code",
   "execution_count": null,
   "id": "c4e61f8d",
   "metadata": {},
   "outputs": [],
   "source": [
    "prev_shape = df.shape[0]\n",
    "df = df.dropna()\n",
    "new_shape = df.shape[0]\n",
    "print(prev_shape - new_shape, ' posts were deleted, percentage:', (prev_shape - new_shape)/post_count)"
   ]
  },
  {
   "cell_type": "markdown",
   "id": "668c35f6",
   "metadata": {},
   "source": [
    "layer 2"
   ]
  },
  {
   "cell_type": "code",
   "execution_count": null,
   "id": "20defff6",
   "metadata": {},
   "outputs": [],
   "source": [
    "transactions = df['hashtags'].tolist()"
   ]
  },
  {
   "cell_type": "code",
   "execution_count": null,
   "id": "7c2baeed",
   "metadata": {},
   "outputs": [],
   "source": [
    "%%time\n",
    "# min support is foind iteratively to prevent large computations\n",
    "result8 = list(apyori.apriori(transactions, min_support = 0.002, min_confidence = 0.75, min_lift = 1.2, min_length = 2))"
   ]
  },
  {
   "cell_type": "code",
   "execution_count": null,
   "id": "5c3a77ff",
   "metadata": {},
   "outputs": [],
   "source": [
    "temp = []\n",
    "for i in range(len(result8)):\n",
    "  temp.append([list(result8[i][0]), result8[i][1], result8[i][2][0][2], result8[i][2][0][3]])\n",
    "\n",
    "apyori_inst_moscow = pd.DataFrame(temp, columns = ['items', 'support', 'confidence', 'lift'])\n",
    "apyori_inst_moscow.sort_values(by=['confidence'], ascending=False)"
   ]
  },
  {
   "cell_type": "code",
   "execution_count": null,
   "id": "c8ef2680",
   "metadata": {},
   "outputs": [],
   "source": [
    "adv_tags = set(apyori_inst_moscow['items'].sum())\n",
    "df['hashtags'] = df['hashtags'].apply(delete_adv)\n",
    "adv_tags"
   ]
  },
  {
   "cell_type": "code",
   "execution_count": null,
   "id": "8d98e4c0",
   "metadata": {},
   "outputs": [],
   "source": [
    "prev_shape = df.shape[0]\n",
    "df = df.dropna()\n",
    "new_shape = df.shape[0]\n",
    "print(prev_shape - new_shape, ' posts were deleted, percentage:', (prev_shape - new_shape)/post_count)"
   ]
  },
  {
   "cell_type": "markdown",
   "id": "31bb17cc",
   "metadata": {},
   "source": [
    "layer 3"
   ]
  },
  {
   "cell_type": "code",
   "execution_count": null,
   "id": "44a06e71",
   "metadata": {},
   "outputs": [],
   "source": [
    "transactions = df['hashtags'].tolist()"
   ]
  },
  {
   "cell_type": "code",
   "execution_count": null,
   "id": "a5d1e2c2",
   "metadata": {},
   "outputs": [],
   "source": [
    "%%time\n",
    "# min support is foind iteratively to prevent large computations\n",
    "result8 = list(apyori.apriori(transactions, min_support = 0.001, min_confidence = 0.75, min_lift = 1.2, min_length = 2))"
   ]
  },
  {
   "cell_type": "code",
   "execution_count": null,
   "id": "4402befe",
   "metadata": {},
   "outputs": [],
   "source": [
    "temp = []\n",
    "for i in range(len(result8)):\n",
    "  temp.append([list(result8[i][0]), result8[i][1], result8[i][2][0][2], result8[i][2][0][3]])\n",
    "\n",
    "apyori_inst_moscow = pd.DataFrame(temp, columns = ['items', 'support', 'confidence', 'lift'])\n",
    "apyori_inst_moscow.sort_values(by=['confidence'], ascending=False)"
   ]
  },
  {
   "cell_type": "code",
   "execution_count": null,
   "id": "70dc5699",
   "metadata": {},
   "outputs": [],
   "source": [
    "adv_tags = set(apyori_inst_moscow['items'].sum())\n",
    "df['hashtags'] = df['hashtags'].apply(delete_adv)\n",
    "adv_tags"
   ]
  },
  {
   "cell_type": "code",
   "execution_count": null,
   "id": "a731727d",
   "metadata": {},
   "outputs": [],
   "source": [
    "prev_shape = df.shape[0]\n",
    "df = df.dropna()\n",
    "new_shape = df.shape[0]\n",
    "print(prev_shape - new_shape, ' posts were deleted, percentage:', (prev_shape - new_shape)/post_count)"
   ]
  },
  {
   "cell_type": "markdown",
   "id": "b525fe6c",
   "metadata": {},
   "source": [
    "layer 4"
   ]
  },
  {
   "cell_type": "code",
   "execution_count": null,
   "id": "e7a75fdd",
   "metadata": {},
   "outputs": [],
   "source": [
    "transactions = df['hashtags'].tolist()"
   ]
  },
  {
   "cell_type": "code",
   "execution_count": null,
   "id": "d9ad1b59",
   "metadata": {},
   "outputs": [],
   "source": [
    "%%time\n",
    "# min support is foind iteratively to prevent large computations\n",
    "result8 = list(apyori.apriori(transactions, min_support = 0.0009, min_confidence = 0.75, min_lift = 1.2, min_length = 2))"
   ]
  },
  {
   "cell_type": "code",
   "execution_count": null,
   "id": "17aa5c55",
   "metadata": {},
   "outputs": [],
   "source": [
    "temp = []\n",
    "for i in range(len(result8)):\n",
    "  temp.append([list(result8[i][0]), result8[i][1], result8[i][2][0][2], result8[i][2][0][3]])\n",
    "\n",
    "apyori_inst_moscow = pd.DataFrame(temp, columns = ['items', 'support', 'confidence', 'lift'])\n",
    "apyori_inst_moscow.sort_values(by=['confidence'], ascending=False)"
   ]
  },
  {
   "cell_type": "code",
   "execution_count": null,
   "id": "0af9c098",
   "metadata": {},
   "outputs": [],
   "source": [
    "adv_tags = set(apyori_inst_moscow['items'].sum())\n",
    "df['hashtags'] = df['hashtags'].apply(delete_adv)\n",
    "adv_tags"
   ]
  },
  {
   "cell_type": "code",
   "execution_count": null,
   "id": "f432c6ae",
   "metadata": {},
   "outputs": [],
   "source": [
    "prev_shape = df.shape[0]\n",
    "df = df.dropna()\n",
    "new_shape = df.shape[0]\n",
    "print(prev_shape - new_shape, ' posts were deleted, percentage:', (prev_shape - new_shape)/post_count)"
   ]
  },
  {
   "cell_type": "code",
   "execution_count": null,
   "id": "20091a32",
   "metadata": {},
   "outputs": [],
   "source": []
  },
  {
   "cell_type": "code",
   "execution_count": null,
   "id": "9c4ca48e",
   "metadata": {},
   "outputs": [],
   "source": []
  },
  {
   "cell_type": "code",
   "execution_count": null,
   "id": "b4a20905",
   "metadata": {},
   "outputs": [],
   "source": []
  },
  {
   "cell_type": "code",
   "execution_count": null,
   "id": "55650e5b",
   "metadata": {},
   "outputs": [],
   "source": []
  }
 ],
 "metadata": {
  "kernelspec": {
   "display_name": "Python 3",
   "language": "python",
   "name": "python3"
  },
  "language_info": {
   "codemirror_mode": {
    "name": "ipython",
    "version": 3
   },
   "file_extension": ".py",
   "mimetype": "text/x-python",
   "name": "python",
   "nbconvert_exporter": "python",
   "pygments_lexer": "ipython3",
   "version": "3.8.8"
  }
 },
 "nbformat": 4,
 "nbformat_minor": 5
}
