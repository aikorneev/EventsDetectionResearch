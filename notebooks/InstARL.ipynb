{
 "cells": [
  {
   "cell_type": "code",
   "execution_count": 3,
   "id": "1ba9ff4c",
   "metadata": {},
   "outputs": [],
   "source": [
    "import apyori"
   ]
  },
  {
   "cell_type": "code",
   "execution_count": 4,
   "id": "f1cdc05d",
   "metadata": {},
   "outputs": [],
   "source": [
    "import pandas as pd\n",
    "import numpy as np\n",
    "import re\n",
    "import matplotlib.pyplot as plt"
   ]
  },
  {
   "cell_type": "code",
   "execution_count": 5,
   "id": "3c41f8b9",
   "metadata": {},
   "outputs": [
    {
     "name": "stdout",
     "output_type": "stream",
     "text": [
      "['.Trash-0', '.ipynb_checkpoints', 'dfs_list.csv', 'Untitled.ipynb', 'InstARL.ipynb']\n",
      "['apyori_inst_spb003092.csv', 'instagram_posts', 'apyori_inst_spb00035.csv', 'apyori_inst_spbf.csv', 'apyori_inst_spb00031.csv', 'apyori_inst_spb0004.csv', 'apyori_inst_spb003095.csv', 'spb_posts_2019.csv', 'kudago_data', 'apyori_inst_spb003091.csv', 'apyori_inst_spb0005.csv', 'apyory']\n"
     ]
    }
   ],
   "source": [
    "#df = pd.read_csv('./events.csv', sep=',')\n",
    "import os\n",
    "import sys\n",
    "print(os.listdir('./'))\n",
    "print(os.listdir('../../data'))"
   ]
  },
  {
   "cell_type": "markdown",
   "id": "5259fedd",
   "metadata": {},
   "source": [
    "# FOR SPB 2019"
   ]
  },
  {
   "cell_type": "code",
   "execution_count": 6,
   "id": "6315d7c9",
   "metadata": {},
   "outputs": [],
   "source": [
    "df0 = pd.read_csv('../../data/spb_posts_2019.csv', sep=',')"
   ]
  },
  {
   "cell_type": "code",
   "execution_count": 7,
   "id": "68bade95",
   "metadata": {},
   "outputs": [],
   "source": [
    "df = df0"
   ]
  },
  {
   "cell_type": "code",
   "execution_count": 8,
   "id": "acc87bd4",
   "metadata": {},
   "outputs": [],
   "source": [
    "def change_endline(x):\n",
    "    return x.replace('\\n',' ')\n",
    "\n",
    "def extract_hashtags(x):\n",
    "    x = x.replace('#', ' #')\n",
    "    tags = re.findall(r'(#\\S+?)\\s', x)\n",
    "    #tags = set(re.findall(r'(#\\S+?)\\s', x)) #exclude the same tags\n",
    "    #normalize hashtags\n",
    "    return tags if len(tags) else np.nan\n",
    "\n",
    "def prepare_db(df):\n",
    "    df = df.dropna()\n",
    "    df['caption'] = df['caption'].apply(change_endline)\n",
    "    df['hashtags'] = df['caption'].apply(extract_hashtags)\n",
    "    df = df.dropna()\n",
    "    return df"
   ]
  },
  {
   "cell_type": "code",
   "execution_count": 9,
   "id": "bcb91a65",
   "metadata": {
    "scrolled": true
   },
   "outputs": [
    {
     "name": "stderr",
     "output_type": "stream",
     "text": [
      "<ipython-input-8-417349c8d962>:13: SettingWithCopyWarning: \n",
      "A value is trying to be set on a copy of a slice from a DataFrame.\n",
      "Try using .loc[row_indexer,col_indexer] = value instead\n",
      "\n",
      "See the caveats in the documentation: https://pandas.pydata.org/pandas-docs/stable/user_guide/indexing.html#returning-a-view-versus-a-copy\n",
      "  df['caption'] = df['caption'].apply(change_endline)\n",
      "<ipython-input-8-417349c8d962>:14: SettingWithCopyWarning: \n",
      "A value is trying to be set on a copy of a slice from a DataFrame.\n",
      "Try using .loc[row_indexer,col_indexer] = value instead\n",
      "\n",
      "See the caveats in the documentation: https://pandas.pydata.org/pandas-docs/stable/user_guide/indexing.html#returning-a-view-versus-a-copy\n",
      "  df['hashtags'] = df['caption'].apply(extract_hashtags)\n"
     ]
    },
    {
     "data": {
      "text/html": [
       "<div>\n",
       "<style scoped>\n",
       "    .dataframe tbody tr th:only-of-type {\n",
       "        vertical-align: middle;\n",
       "    }\n",
       "\n",
       "    .dataframe tbody tr th {\n",
       "        vertical-align: top;\n",
       "    }\n",
       "\n",
       "    .dataframe thead th {\n",
       "        text-align: right;\n",
       "    }\n",
       "</style>\n",
       "<table border=\"1\" class=\"dataframe\">\n",
       "  <thead>\n",
       "    <tr style=\"text-align: right;\">\n",
       "      <th></th>\n",
       "      <th>id</th>\n",
       "      <th>shortcode</th>\n",
       "      <th>imageurl</th>\n",
       "      <th>isvideo</th>\n",
       "      <th>caption</th>\n",
       "      <th>commentscount</th>\n",
       "      <th>timestamp</th>\n",
       "      <th>likescount</th>\n",
       "      <th>isad</th>\n",
       "      <th>authorid</th>\n",
       "      <th>locationid</th>\n",
       "      <th>lat</th>\n",
       "      <th>lon</th>\n",
       "      <th>hashtags</th>\n",
       "    </tr>\n",
       "  </thead>\n",
       "  <tbody>\n",
       "    <tr>\n",
       "      <th>0</th>\n",
       "      <td>2100487392867125154</td>\n",
       "      <td>B0mbierCAei</td>\n",
       "      <td>https://scontent-dfw5-1.cdninstagram.com/v/t51...</td>\n",
       "      <td>f</td>\n",
       "      <td>DEATH 💀GUITARIST 🎸DANCING 💃 UNIQUE CONTENT 🔥 М...</td>\n",
       "      <td>3</td>\n",
       "      <td>1564617631</td>\n",
       "      <td>50</td>\n",
       "      <td>f</td>\n",
       "      <td>2895837725</td>\n",
       "      <td>409734806</td>\n",
       "      <td>60.002420</td>\n",
       "      <td>30.296490</td>\n",
       "      <td>[#мертвый, #гитарист, #гитара, #прыгун, #death...</td>\n",
       "    </tr>\n",
       "    <tr>\n",
       "      <th>3</th>\n",
       "      <td>2101062776215474217</td>\n",
       "      <td>B0oeXaLHpAp</td>\n",
       "      <td>https://scontent-dfw5-2.cdninstagram.com/v/t51...</td>\n",
       "      <td>f</td>\n",
       "      <td>Мои девочки 💛❤️💜 Такие редкие и долгожданные в...</td>\n",
       "      <td>3</td>\n",
       "      <td>1564686222</td>\n",
       "      <td>74</td>\n",
       "      <td>f</td>\n",
       "      <td>654993988</td>\n",
       "      <td>1020316384</td>\n",
       "      <td>59.957330</td>\n",
       "      <td>30.297810</td>\n",
       "      <td>[#13летвместе]</td>\n",
       "    </tr>\n",
       "    <tr>\n",
       "      <th>5</th>\n",
       "      <td>2100490830881135651</td>\n",
       "      <td>B0mcUgkopwj</td>\n",
       "      <td>https://scontent-dfw5-1.cdninstagram.com/v/t51...</td>\n",
       "      <td>f</td>\n",
       "      <td>Мы с Петром проверяем кто во сколько просыпает...</td>\n",
       "      <td>4</td>\n",
       "      <td>1564618041</td>\n",
       "      <td>144</td>\n",
       "      <td>f</td>\n",
       "      <td>208777983</td>\n",
       "      <td>1991970784229637</td>\n",
       "      <td>59.950163</td>\n",
       "      <td>30.315356</td>\n",
       "      <td>[#ставьлайк]</td>\n",
       "    </tr>\n",
       "    <tr>\n",
       "      <th>7</th>\n",
       "      <td>2100301459588903831</td>\n",
       "      <td>B0lxQy0B_OX</td>\n",
       "      <td>https://scontent-sea1-1.cdninstagram.com/v/t51...</td>\n",
       "      <td>t</td>\n",
       "      <td>MarkHockey - территория вратарей! 👍🏻 По вопрос...</td>\n",
       "      <td>5</td>\n",
       "      <td>1564634856</td>\n",
       "      <td>188</td>\n",
       "      <td>f</td>\n",
       "      <td>1099063802</td>\n",
       "      <td>411430829</td>\n",
       "      <td>59.921501</td>\n",
       "      <td>30.467902</td>\n",
       "      <td>[#markhockey, #mh, #markwear, #hockey, #khl, #...</td>\n",
       "    </tr>\n",
       "    <tr>\n",
       "      <th>8</th>\n",
       "      <td>2100489264618828711</td>\n",
       "      <td>B0mb9t4IHOn</td>\n",
       "      <td>https://scontent-dfw5-2.cdninstagram.com/v/t51...</td>\n",
       "      <td>f</td>\n",
       "      <td>#детали #единорог #единорогпиньята #единорожка...</td>\n",
       "      <td>0</td>\n",
       "      <td>1564617854</td>\n",
       "      <td>7</td>\n",
       "      <td>f</td>\n",
       "      <td>180487090</td>\n",
       "      <td>594287207</td>\n",
       "      <td>59.877330</td>\n",
       "      <td>30.318980</td>\n",
       "      <td>[#детали, #единорог, #единорогпиньята, #единор...</td>\n",
       "    </tr>\n",
       "    <tr>\n",
       "      <th>...</th>\n",
       "      <td>...</td>\n",
       "      <td>...</td>\n",
       "      <td>...</td>\n",
       "      <td>...</td>\n",
       "      <td>...</td>\n",
       "      <td>...</td>\n",
       "      <td>...</td>\n",
       "      <td>...</td>\n",
       "      <td>...</td>\n",
       "      <td>...</td>\n",
       "      <td>...</td>\n",
       "      <td>...</td>\n",
       "      <td>...</td>\n",
       "      <td>...</td>\n",
       "    </tr>\n",
       "    <tr>\n",
       "      <th>7759923</th>\n",
       "      <td>2031253672851326072</td>\n",
       "      <td>BwwdnQTAsR4</td>\n",
       "      <td>https://scontent-dfw5-2.cdninstagram.com/v/t51...</td>\n",
       "      <td>f</td>\n",
       "      <td>💛Питер... как это не странно, но я уже скучаю....</td>\n",
       "      <td>5</td>\n",
       "      <td>1556364328</td>\n",
       "      <td>127</td>\n",
       "      <td>f</td>\n",
       "      <td>641568821</td>\n",
       "      <td>226091755</td>\n",
       "      <td>59.971781</td>\n",
       "      <td>30.259442</td>\n",
       "      <td>[#санктпетербург, #скучаюспб, #питер, #крестов...</td>\n",
       "    </tr>\n",
       "    <tr>\n",
       "      <th>7759926</th>\n",
       "      <td>2031206110870801771</td>\n",
       "      <td>BwwSzIwDo1r</td>\n",
       "      <td>https://scontent-dfw5-2.cdninstagram.com/v/t51...</td>\n",
       "      <td>f</td>\n",
       "      <td>Коротко и ёмко об идеальной субботе. #СанктПет...</td>\n",
       "      <td>2</td>\n",
       "      <td>1556358659</td>\n",
       "      <td>43</td>\n",
       "      <td>f</td>\n",
       "      <td>306906698</td>\n",
       "      <td>226091755</td>\n",
       "      <td>59.971781</td>\n",
       "      <td>30.259442</td>\n",
       "      <td>[#СанктПетербург, #крестовский, #выходные, #су...</td>\n",
       "    </tr>\n",
       "    <tr>\n",
       "      <th>7759927</th>\n",
       "      <td>2031151080009010240</td>\n",
       "      <td>BwwGSVRFoxA</td>\n",
       "      <td>https://scontent-dfw5-2.cdninstagram.com/v/t51...</td>\n",
       "      <td>f</td>\n",
       "      <td>СЦЕНАРИИ МОЕЙ МЕЧТЫ ⭐️ ⭐️ Сегодня на своём онл...</td>\n",
       "      <td>93</td>\n",
       "      <td>1556352098</td>\n",
       "      <td>1758</td>\n",
       "      <td>f</td>\n",
       "      <td>1930430096</td>\n",
       "      <td>226091755</td>\n",
       "      <td>59.971781</td>\n",
       "      <td>30.259442</td>\n",
       "      <td>[#коучспб, #психологонлайн, #софиявеларди, #за...</td>\n",
       "    </tr>\n",
       "    <tr>\n",
       "      <th>7759928</th>\n",
       "      <td>2031118233699991176</td>\n",
       "      <td>Bwv-0Wwgb6I</td>\n",
       "      <td>https://scontent-dfw5-1.cdninstagram.com/v/t51...</td>\n",
       "      <td>f</td>\n",
       "      <td>Доброе субботнее утро 🌞 ,Красотки 👑 ⠀ В прошлы...</td>\n",
       "      <td>91</td>\n",
       "      <td>1556348183</td>\n",
       "      <td>2215</td>\n",
       "      <td>f</td>\n",
       "      <td>5885545914</td>\n",
       "      <td>226091755</td>\n",
       "      <td>59.971781</td>\n",
       "      <td>30.259442</td>\n",
       "      <td>[#dragonmask_enjoli, #enjoli, #маскадлялица, #...</td>\n",
       "    </tr>\n",
       "    <tr>\n",
       "      <th>7759932</th>\n",
       "      <td>2031511031872078611</td>\n",
       "      <td>BwxYIUkBcMT</td>\n",
       "      <td>https://scontent-sea1-1.cdninstagram.com/v/t51...</td>\n",
       "      <td>t</td>\n",
       "      <td>Остаются лишь достойные! ☝🏻 . . . . . . . . . ...</td>\n",
       "      <td>1</td>\n",
       "      <td>1556395204</td>\n",
       "      <td>55</td>\n",
       "      <td>f</td>\n",
       "      <td>1652113598</td>\n",
       "      <td>975640715953353</td>\n",
       "      <td>59.968285</td>\n",
       "      <td>30.246246</td>\n",
       "      <td>[#друзья, #остаютсялишьвоспоминания, #достойны...</td>\n",
       "    </tr>\n",
       "  </tbody>\n",
       "</table>\n",
       "<p>3470297 rows × 14 columns</p>\n",
       "</div>"
      ],
      "text/plain": [
       "                          id    shortcode  \\\n",
       "0        2100487392867125154  B0mbierCAei   \n",
       "3        2101062776215474217  B0oeXaLHpAp   \n",
       "5        2100490830881135651  B0mcUgkopwj   \n",
       "7        2100301459588903831  B0lxQy0B_OX   \n",
       "8        2100489264618828711  B0mb9t4IHOn   \n",
       "...                      ...          ...   \n",
       "7759923  2031253672851326072  BwwdnQTAsR4   \n",
       "7759926  2031206110870801771  BwwSzIwDo1r   \n",
       "7759927  2031151080009010240  BwwGSVRFoxA   \n",
       "7759928  2031118233699991176  Bwv-0Wwgb6I   \n",
       "7759932  2031511031872078611  BwxYIUkBcMT   \n",
       "\n",
       "                                                  imageurl isvideo  \\\n",
       "0        https://scontent-dfw5-1.cdninstagram.com/v/t51...       f   \n",
       "3        https://scontent-dfw5-2.cdninstagram.com/v/t51...       f   \n",
       "5        https://scontent-dfw5-1.cdninstagram.com/v/t51...       f   \n",
       "7        https://scontent-sea1-1.cdninstagram.com/v/t51...       t   \n",
       "8        https://scontent-dfw5-2.cdninstagram.com/v/t51...       f   \n",
       "...                                                    ...     ...   \n",
       "7759923  https://scontent-dfw5-2.cdninstagram.com/v/t51...       f   \n",
       "7759926  https://scontent-dfw5-2.cdninstagram.com/v/t51...       f   \n",
       "7759927  https://scontent-dfw5-2.cdninstagram.com/v/t51...       f   \n",
       "7759928  https://scontent-dfw5-1.cdninstagram.com/v/t51...       f   \n",
       "7759932  https://scontent-sea1-1.cdninstagram.com/v/t51...       t   \n",
       "\n",
       "                                                   caption  commentscount  \\\n",
       "0        DEATH 💀GUITARIST 🎸DANCING 💃 UNIQUE CONTENT 🔥 М...              3   \n",
       "3        Мои девочки 💛❤️💜 Такие редкие и долгожданные в...              3   \n",
       "5        Мы с Петром проверяем кто во сколько просыпает...              4   \n",
       "7        MarkHockey - территория вратарей! 👍🏻 По вопрос...              5   \n",
       "8        #детали #единорог #единорогпиньята #единорожка...              0   \n",
       "...                                                    ...            ...   \n",
       "7759923  💛Питер... как это не странно, но я уже скучаю....              5   \n",
       "7759926  Коротко и ёмко об идеальной субботе. #СанктПет...              2   \n",
       "7759927  СЦЕНАРИИ МОЕЙ МЕЧТЫ ⭐️ ⭐️ Сегодня на своём онл...             93   \n",
       "7759928  Доброе субботнее утро 🌞 ,Красотки 👑 ⠀ В прошлы...             91   \n",
       "7759932  Остаются лишь достойные! ☝🏻 . . . . . . . . . ...              1   \n",
       "\n",
       "          timestamp  likescount isad    authorid        locationid        lat  \\\n",
       "0        1564617631          50    f  2895837725         409734806  60.002420   \n",
       "3        1564686222          74    f   654993988        1020316384  59.957330   \n",
       "5        1564618041         144    f   208777983  1991970784229637  59.950163   \n",
       "7        1564634856         188    f  1099063802         411430829  59.921501   \n",
       "8        1564617854           7    f   180487090         594287207  59.877330   \n",
       "...             ...         ...  ...         ...               ...        ...   \n",
       "7759923  1556364328         127    f   641568821         226091755  59.971781   \n",
       "7759926  1556358659          43    f   306906698         226091755  59.971781   \n",
       "7759927  1556352098        1758    f  1930430096         226091755  59.971781   \n",
       "7759928  1556348183        2215    f  5885545914         226091755  59.971781   \n",
       "7759932  1556395204          55    f  1652113598   975640715953353  59.968285   \n",
       "\n",
       "               lon                                           hashtags  \n",
       "0        30.296490  [#мертвый, #гитарист, #гитара, #прыгун, #death...  \n",
       "3        30.297810                                     [#13летвместе]  \n",
       "5        30.315356                                       [#ставьлайк]  \n",
       "7        30.467902  [#markhockey, #mh, #markwear, #hockey, #khl, #...  \n",
       "8        30.318980  [#детали, #единорог, #единорогпиньята, #единор...  \n",
       "...            ...                                                ...  \n",
       "7759923  30.259442  [#санктпетербург, #скучаюспб, #питер, #крестов...  \n",
       "7759926  30.259442  [#СанктПетербург, #крестовский, #выходные, #су...  \n",
       "7759927  30.259442  [#коучспб, #психологонлайн, #софиявеларди, #за...  \n",
       "7759928  30.259442  [#dragonmask_enjoli, #enjoli, #маскадлялица, #...  \n",
       "7759932  30.246246  [#друзья, #остаютсялишьвоспоминания, #достойны...  \n",
       "\n",
       "[3470297 rows x 14 columns]"
      ]
     },
     "execution_count": 9,
     "metadata": {},
     "output_type": "execute_result"
    }
   ],
   "source": [
    "# we have only posts with hashtags\n",
    "df = prepare_db(df)\n",
    "df"
   ]
  },
  {
   "cell_type": "code",
   "execution_count": 10,
   "id": "362d77d1",
   "metadata": {},
   "outputs": [],
   "source": [
    "transactions = df['hashtags'].tolist()\n",
    "post_count = df.shape[0]"
   ]
  },
  {
   "cell_type": "code",
   "execution_count": 11,
   "id": "da8d0cfc",
   "metadata": {},
   "outputs": [],
   "source": [
    "def do_apriori(transactions, support, confidence = 0.75, lift = 1.2):\n",
    "    result = list(apyori.apriori(transactions, min_support=support, min_confidence=confidence, min_lift=lift, min_length = 2))\n",
    "    temp = []\n",
    "    for i in range(len(result)):\n",
    "      temp.append([list(result[i][0]), result[i][1], result[i][2][0][2], result[i][2][0][3]])\n",
    "    result_df = pd.DataFrame(temp, columns = ['items', 'support', 'confidence', 'lift'])\n",
    "    try:\n",
    "        tags_set = set(result_df['items'].sum())\n",
    "    except:\n",
    "        tags_set = 0\n",
    "    return result_df, tags_set"
   ]
  },
  {
   "cell_type": "code",
   "execution_count": 12,
   "id": "cf74e7bf",
   "metadata": {},
   "outputs": [],
   "source": [
    "def delete_tags(df, tags, original_post_count):\n",
    "    def _delete_tags(x):\n",
    "        # set of post hastags - set of adv hastags\n",
    "        new_x = set(x) - tags\n",
    "        return new_x if len(new_x) else np.nan\n",
    "    df['hashtags'] = df['hashtags'].apply(_delete_tags)\n",
    "    prev_shape = df.shape[0]\n",
    "    df = df.dropna()\n",
    "    new_shape = df.shape[0]\n",
    "    print(prev_shape - new_shape, ' posts were deleted, percentage:', (prev_shape - new_shape)/original_post_count)\n",
    "    return df"
   ]
  },
  {
   "cell_type": "markdown",
   "id": "5c4ece69",
   "metadata": {},
   "source": [
    "# Apriori with preset step for min support"
   ]
  },
  {
   "cell_type": "code",
   "execution_count": 22,
   "id": "1b12b413",
   "metadata": {},
   "outputs": [],
   "source": [
    "import time"
   ]
  },
  {
   "cell_type": "code",
   "execution_count": 24,
   "id": "d3600952",
   "metadata": {},
   "outputs": [],
   "source": [
    "import signal\n",
    "from contextlib import contextmanager\n",
    "\n",
    "class TimeoutException(Exception): pass\n",
    "\n",
    "@contextmanager\n",
    "def time_limit(seconds):\n",
    "    def signal_handler(signum, frame):\n",
    "        raise TimeoutException(\"Timed out!\")\n",
    "    signal.signal(signal.SIGALRM, signal_handler)\n",
    "    signal.alarm(seconds)\n",
    "    try:\n",
    "        yield\n",
    "    finally:\n",
    "        signal.alarm(0)"
   ]
  },
  {
   "cell_type": "code",
   "execution_count": 29,
   "id": "5bb946d1",
   "metadata": {},
   "outputs": [
    {
     "name": "stdout",
     "output_type": "stream",
     "text": [
      "25380  posts were deleted, percentage: 0.007313495069730343\n",
      "for support  0.0039000000000000003 : 78.76271295547485  seconds\n",
      "count of found rules: 20\n",
      "for support  0.0038000000000000004 : 48.01353073120117  seconds\n",
      "count of found rules: 0\n",
      "for support  0.0037000000000000006 : 56.13253831863403  seconds\n",
      "count of found rules: 0\n"
     ]
    },
    {
     "name": "stderr",
     "output_type": "stream",
     "text": [
      "<ipython-input-21-cd39839da4f1>:6: SettingWithCopyWarning: \n",
      "A value is trying to be set on a copy of a slice from a DataFrame.\n",
      "Try using .loc[row_indexer,col_indexer] = value instead\n",
      "\n",
      "See the caveats in the documentation: https://pandas.pydata.org/pandas-docs/stable/user_guide/indexing.html#returning-a-view-versus-a-copy\n",
      "  df['hashtags'] = df['hashtags'].apply(_delete_tags)\n"
     ]
    },
    {
     "name": "stdout",
     "output_type": "stream",
     "text": [
      "212  posts were deleted, percentage: 6.108987213486339e-05\n",
      "for support  0.0036000000000000008 : 69.29469394683838  seconds\n",
      "count of found rules: 4\n",
      "for support  0.003500000000000001 : 63.188048362731934  seconds\n",
      "count of found rules: 0\n",
      "34  posts were deleted, percentage: 9.797432323515826e-06\n",
      "for support  0.003400000000000001 : 67.82536625862122  seconds\n",
      "count of found rules: 2\n",
      "31  posts were deleted, percentage: 8.932953000852664e-06\n",
      "for support  0.0033000000000000013 : 73.24260091781616  seconds\n",
      "count of found rules: 1\n",
      "397  posts were deleted, percentage: 0.00011439943036575832\n",
      "for support  0.0032000000000000015 : 77.1400203704834  seconds\n",
      "count of found rules: 5\n",
      "10770  posts were deleted, percentage: 0.0031034807683607483\n",
      "for support  0.0031000000000000016 : 256.58605337142944  seconds\n",
      "count of found rules: 1013\n",
      "for support  0.003000000000000002 : 64.737957239151  seconds\n",
      "count of found rules: 0\n",
      "488  posts were deleted, percentage: 0.0001406219698198742\n",
      "for support  0.002900000000000002 : 71.40866684913635  seconds\n",
      "count of found rules: 4\n",
      "5  posts were deleted, percentage: 1.4407988711052685e-06\n",
      "for support  0.002800000000000002 : 75.18918418884277  seconds\n",
      "count of found rules: 3\n",
      "Timed out!\n",
      "old support: 0.0027000000000000023 step was 0.0001\n",
      "new support: 0.002800000000000002 new step 1e-05\n",
      "for support  0.002790000000000002 : 57.42576217651367  seconds\n",
      "count of found rules: 0\n",
      "Timed out!\n",
      "old support: 0.0026900000000000023 step was 0.0001\n",
      "new support: 0.002790000000000002 new step 1e-05\n",
      "5  posts were deleted, percentage: 1.4407988711052685e-06\n",
      "for support  0.002780000000000002 : 76.08580493927002  seconds\n",
      "count of found rules: 123\n",
      "8771  posts were deleted, percentage: 0.002527449379692862\n",
      "for support  0.0026800000000000023 : 79.17465448379517  seconds\n",
      "count of found rules: 11\n",
      "for support  0.0025800000000000024 : 67.0300624370575  seconds\n",
      "count of found rules: 0\n",
      "for support  0.0024800000000000026 : 59.92474174499512  seconds\n",
      "count of found rules: 0\n",
      "for support  0.0023800000000000028 : 61.14315700531006  seconds\n",
      "count of found rules: 0\n",
      "for support  0.002280000000000003 : 50.233814001083374  seconds\n",
      "count of found rules: 0\n",
      "78  posts were deleted, percentage: 2.247646238924219e-05\n",
      "for support  0.002180000000000003 : 84.89604234695435  seconds\n",
      "count of found rules: 1\n",
      "45  posts were deleted, percentage: 1.2967189839947417e-05\n",
      "for support  0.0020800000000000033 : 88.64756298065186  seconds\n",
      "count of found rules: 1\n",
      "405  posts were deleted, percentage: 0.00011670470855952675\n",
      "for support  0.0019800000000000035 : 90.47906041145325  seconds\n",
      "count of found rules: 2\n",
      "260  posts were deleted, percentage: 7.492154129747396e-05\n",
      "for support  0.0018800000000000034 : 89.22915840148926  seconds\n",
      "count of found rules: 2\n",
      "89  posts were deleted, percentage: 2.564621990567378e-05\n",
      "for support  0.0017800000000000034 : 93.27267050743103  seconds\n",
      "count of found rules: 1\n",
      "for support  0.0016800000000000033 : 73.17888116836548  seconds\n",
      "count of found rules: 0\n",
      "20  posts were deleted, percentage: 5.763195484421074e-06\n",
      "for support  0.0015800000000000033 : 102.09757852554321  seconds\n",
      "count of found rules: 2\n",
      "701  posts were deleted, percentage: 0.00020200000172895864\n",
      "for support  0.0014800000000000032 : 106.6209363937378  seconds\n",
      "count of found rules: 3\n",
      "for support  0.0013800000000000032 : 97.83796691894531  seconds\n",
      "count of found rules: 0\n",
      "407  posts were deleted, percentage: 0.00011728102810796885\n",
      "for support  0.0012800000000000031 : 107.54639053344727  seconds\n",
      "count of found rules: 3\n",
      "246  posts were deleted, percentage: 7.088730445837922e-05\n",
      "for support  0.001180000000000003 : 119.0780680179596  seconds\n",
      "count of found rules: 2\n",
      "487  posts were deleted, percentage: 0.00014033381004565314\n",
      "for support  0.001080000000000003 : 125.58690094947815  seconds\n",
      "count of found rules: 9\n",
      "564  posts were deleted, percentage: 0.0001625221126606743\n",
      "for support  0.000980000000000003 : 145.27476048469543  seconds\n",
      "count of found rules: 3\n",
      "778  posts were deleted, percentage: 0.0002241883043439798\n",
      "for support  0.000880000000000003 : 141.16896843910217  seconds\n",
      "count of found rules: 12\n",
      "Timed out!\n",
      "old support: 0.0007800000000000029 step was 0.0001\n",
      "new support: 0.000880000000000003 new step 1e-05\n",
      "for support  0.0008700000000000029 : 122.95899939537048  seconds\n",
      "count of found rules: 0\n",
      "Timed out!\n",
      "old support: 0.0007700000000000029 step was 0.0001\n",
      "new support: 0.0008700000000000029 new step 1e-05\n",
      "139  posts were deleted, percentage: 4.0054208616726466e-05\n",
      "for support  0.0008600000000000029 : 148.21718072891235  seconds\n",
      "count of found rules: 26\n",
      "Timed out!\n",
      "old support: 0.0007600000000000029 step was 0.0001\n",
      "new support: 0.0008600000000000029 new step 1e-05\n",
      "24  posts were deleted, percentage: 6.915834581305289e-06\n",
      "for support  0.0008500000000000029 : 149.69545769691467  seconds\n",
      "count of found rules: 1\n",
      "569  posts were deleted, percentage: 0.00016396291153177955\n",
      "for support  0.0007500000000000028 : 185.75820136070251  seconds\n",
      "count of found rules: 560\n",
      "3645  posts were deleted, percentage: 0.0010503423770357409\n",
      "for support  0.0006500000000000028 : 197.77995204925537  seconds\n",
      "count of found rules: 29\n",
      "624  posts were deleted, percentage: 0.00017981169911393752\n",
      "for support  0.0005500000000000027 : 235.67115235328674  seconds\n",
      "count of found rules: 140\n",
      "Timed out!\n",
      "old support: 0.00045000000000000275 step was 0.0001\n",
      "new support: 0.0005500000000000027 new step 1e-05\n",
      "163  posts were deleted, percentage: 4.697004319803175e-05\n",
      "for support  0.0005400000000000027 : 227.63301420211792  seconds\n",
      "count of found rules: 3\n",
      "Timed out!\n",
      "old support: 0.0004400000000000027 step was 0.0001\n",
      "new support: 0.0005400000000000027 new step 1e-05\n",
      "69  posts were deleted, percentage: 1.9883024421252705e-05\n",
      "for support  0.0005300000000000027 : 228.80918073654175  seconds\n",
      "count of found rules: 2\n",
      "Timed out!\n",
      "old support: 0.0004300000000000027 step was 0.0001\n",
      "new support: 0.0005300000000000027 new step 1e-05\n",
      "5  posts were deleted, percentage: 1.4407988711052685e-06\n",
      "for support  0.0005200000000000027 : 235.50225520133972  seconds\n",
      "count of found rules: 1\n",
      "Timed out!\n",
      "old support: 0.0004200000000000027 step was 0.0001\n",
      "new support: 0.0005200000000000027 new step 1e-05\n",
      "339  posts were deleted, percentage: 9.768616346093721e-05\n",
      "for support  0.0005100000000000026 : 243.2337510585785  seconds\n",
      "count of found rules: 4\n",
      "Timed out!\n",
      "old support: 0.00041000000000000265 step was 0.0001\n",
      "new support: 0.0005100000000000026 new step 1e-05\n",
      "367  posts were deleted, percentage: 0.00010575463713912671\n",
      "for support  0.0005000000000000026 : 257.4637358188629  seconds\n",
      "count of found rules: 4\n",
      "Timed out!\n",
      "old support: 0.0004000000000000026 step was 0.0001\n",
      "new support: 0.0005000000000000026 new step 1e-05\n",
      "23  posts were deleted, percentage: 6.627674807084235e-06\n",
      "for support  0.0004900000000000026 : 256.33766865730286  seconds\n",
      "count of found rules: 1\n",
      "total time 8734.512961626053\n"
     ]
    }
   ],
   "source": [
    "step_val_original = 0.0001\n",
    "step_val = step_val_original\n",
    "\n",
    "supp = 0.004\n",
    "starting_point = time.time()\n",
    "dfs_list = list()\n",
    "\n",
    "# stopping condition? \n",
    "while supp > 0.0005:\n",
    "    supp -= step_val\n",
    "    \n",
    "    time_start = time.time()\n",
    "    try:\n",
    "        with time_limit(300):\n",
    "            result_df, tags = do_apriori(transactions, supp)\n",
    "    except TimeoutException as e:\n",
    "        print(\"Timed out!\")\n",
    "        print('old support:', supp, 'step was', step_val)\n",
    "        supp += step_val\n",
    "        step_val = step_val/10\n",
    "        print('new support:', supp, 'new step', step_val)\n",
    "        continue\n",
    "        \n",
    "    dfs_list.append(result_df)\n",
    "    if tags:\n",
    "        df = delete_tags(df, tags, post_count)\n",
    "        transactions = df['hashtags'].tolist()\n",
    "    \n",
    "    step_val = step_val_original\n",
    "    print('for support ', supp, ':', time.time() - time_start, ' seconds')\n",
    "    print('count of found rules:', result_df.shape[0])\n",
    "    \n",
    "print('total time', time.time() - starting_point)"
   ]
  },
  {
   "cell_type": "code",
   "execution_count": 30,
   "id": "4d2a1c79",
   "metadata": {},
   "outputs": [],
   "source": [
    "# попробовать то же самое, но без удаление, а переименованием\n",
    "dataframes = pd.concat(dfs_list)\n",
    "dataframes.to_csv('dfs_list.csv')"
   ]
  },
  {
   "cell_type": "markdown",
   "id": "8ed4f37a",
   "metadata": {},
   "source": [
    "# Apriori with preset step for min supporе (with rename function)"
   ]
  },
  {
   "cell_type": "code",
   "execution_count": 13,
   "id": "20292259",
   "metadata": {},
   "outputs": [],
   "source": [
    "import time"
   ]
  },
  {
   "cell_type": "code",
   "execution_count": 14,
   "id": "a2ea657c",
   "metadata": {},
   "outputs": [],
   "source": [
    "import signal\n",
    "from contextlib import contextmanager\n",
    "\n",
    "class TimeoutException(Exception): pass\n",
    "\n",
    "@contextmanager\n",
    "def time_limit(seconds):\n",
    "    def signal_handler(signum, frame):\n",
    "        raise TimeoutException(\"Timed out!\")\n",
    "    signal.signal(signal.SIGALRM, signal_handler)\n",
    "    signal.alarm(seconds)\n",
    "    try:\n",
    "        yield\n",
    "    finally:\n",
    "        signal.alarm(0)"
   ]
  },
  {
   "cell_type": "code",
   "execution_count": 15,
   "id": "a5100a11",
   "metadata": {},
   "outputs": [],
   "source": [
    "uniq_num = 0"
   ]
  },
  {
   "cell_type": "code",
   "execution_count": 16,
   "id": "02e65cb0",
   "metadata": {},
   "outputs": [],
   "source": [
    "def _rename_tags(x, tags):\n",
    "    global uniq_num\n",
    "    x = set(x)\n",
    "    for tag in tags:\n",
    "        if tag in x:\n",
    "            x.remove(tag)\n",
    "            x.add('renamed_tag' + str(uniq_num))\n",
    "            uniq_num = uniq_num + 1\n",
    "    return x\n",
    "\n",
    "def rename_tags(_df, tags):\n",
    "    global uniq_num\n",
    "    old_num = uniq_num\n",
    "    _df['hashtags'] = _df['hashtags'].apply(_rename_tags, args=(tags, ))\n",
    "    print(uniq_num - old_num, ' were renamed to unique names')\n",
    "    return _df"
   ]
  },
  {
   "cell_type": "code",
   "execution_count": 17,
   "id": "03840e9b",
   "metadata": {},
   "outputs": [
    {
     "name": "stdout",
     "output_type": "stream",
     "text": [
      "1882317  were renamed to unique names\n",
      "for support  0.0039000000000000003 : 103.08285689353943  seconds\n",
      "count of found rules: 20\n",
      "for support  0.0038000000000000004 : 88.43804597854614  seconds\n",
      "count of found rules: 0\n",
      "for support  0.0037000000000000006 : 82.53218388557434  seconds\n",
      "count of found rules: 0\n",
      "103991  were renamed to unique names\n",
      "for support  0.0036000000000000008 : 92.39466071128845  seconds\n",
      "count of found rules: 3\n",
      "for support  0.003500000000000001 : 70.32949829101562  seconds\n",
      "count of found rules: 0\n",
      "75511  were renamed to unique names\n",
      "for support  0.003400000000000001 : 95.50443434715271  seconds\n",
      "count of found rules: 2\n",
      "27005  were renamed to unique names\n",
      "for support  0.0033000000000000013 : 95.23887896537781  seconds\n",
      "count of found rules: 1\n",
      "29741  were renamed to unique names\n",
      "for support  0.0032000000000000015 : 101.0592999458313  seconds\n",
      "count of found rules: 1\n",
      "258324  were renamed to unique names\n",
      "for support  0.0031000000000000016 : 99.13325238227844  seconds\n",
      "count of found rules: 44\n",
      "for support  0.003000000000000002 : 78.0578122138977  seconds\n",
      "count of found rules: 0\n",
      "24925  were renamed to unique names\n",
      "for support  0.002900000000000002 : 100.95502495765686  seconds\n",
      "count of found rules: 1\n",
      "83291  were renamed to unique names\n",
      "for support  0.002800000000000002 : 100.58874440193176  seconds\n",
      "count of found rules: 4\n",
      "Timed out!\n",
      "new support: 0.002800000000000002 new step 1e-05\n",
      "for support  0.002790000000000002 : 85.82001829147339  seconds\n",
      "count of found rules: 0\n",
      "Timed out!\n",
      "new support: 0.002790000000000002 new step 1e-05\n",
      "for support  0.002780000000000002 : 81.64881205558777  seconds\n",
      "count of found rules: 0\n",
      "Timed out!\n",
      "new support: 0.002780000000000002 new step 1e-05\n",
      "for support  0.002770000000000002 : 78.68837523460388  seconds\n",
      "count of found rules: 0\n",
      "Timed out!\n",
      "new support: 0.002770000000000002 new step 1e-05\n",
      "for support  0.002760000000000002 : 81.74980926513672  seconds\n",
      "count of found rules: 0\n",
      "Timed out!\n",
      "new support: 0.002760000000000002 new step 1e-05\n",
      "124520  were renamed to unique names\n",
      "for support  0.002750000000000002 : 111.37380003929138  seconds\n",
      "count of found rules: 250\n",
      "38183  were renamed to unique names\n",
      "for support  0.002650000000000002 : 103.73944401741028  seconds\n",
      "count of found rules: 11\n",
      "for support  0.0025500000000000024 : 85.08102107048035  seconds\n",
      "count of found rules: 0\n",
      "for support  0.0024500000000000025 : 86.58247256278992  seconds\n",
      "count of found rules: 0\n",
      "for support  0.0023500000000000027 : 90.85151958465576  seconds\n",
      "count of found rules: 0\n",
      "for support  0.002250000000000003 : 88.40662574768066  seconds\n",
      "count of found rules: 0\n",
      "101547  were renamed to unique names\n",
      "for support  0.002150000000000003 : 105.22502422332764  seconds\n",
      "count of found rules: 1\n",
      "33773  were renamed to unique names\n",
      "for support  0.002050000000000003 : 113.66106843948364  seconds\n",
      "count of found rules: 1\n",
      "80746  were renamed to unique names\n",
      "for support  0.0019500000000000032 : 121.43758845329285  seconds\n",
      "count of found rules: 2\n",
      "73852  were renamed to unique names\n",
      "for support  0.0018500000000000031 : 117.39593625068665  seconds\n",
      "count of found rules: 2\n",
      "86042  were renamed to unique names\n",
      "for support  0.001750000000000003 : 124.28023338317871  seconds\n",
      "count of found rules: 1\n",
      "15838  were renamed to unique names\n",
      "for support  0.001650000000000003 : 123.85681533813477  seconds\n",
      "count of found rules: 1\n",
      "145435  were renamed to unique names\n",
      "for support  0.001550000000000003 : 129.45222854614258  seconds\n",
      "count of found rules: 2\n",
      "for support  0.001450000000000003 : 125.09338092803955  seconds\n",
      "count of found rules: 0\n",
      "for support  0.0013500000000000029 : 119.14129424095154  seconds\n",
      "count of found rules: 0\n",
      "54129  were renamed to unique names\n",
      "for support  0.0012500000000000028 : 138.25988864898682  seconds\n",
      "count of found rules: 3\n",
      "132715  were renamed to unique names\n",
      "for support  0.0011500000000000028 : 157.13760042190552  seconds\n",
      "count of found rules: 4\n",
      "198197  were renamed to unique names\n",
      "for support  0.0010500000000000028 : 161.5672070980072  seconds\n",
      "count of found rules: 8\n",
      "230347  were renamed to unique names\n",
      "for support  0.0009500000000000027 : 172.00349402427673  seconds\n",
      "count of found rules: 5\n",
      "131724  were renamed to unique names\n",
      "for support  0.0008500000000000027 : 194.05501198768616  seconds\n",
      "count of found rules: 12\n",
      "Timed out!\n",
      "new support: 0.0008500000000000027 new step 1e-05\n",
      "15418  were renamed to unique names\n",
      "for support  0.0008400000000000026 : 176.02294826507568  seconds\n",
      "count of found rules: 1\n",
      "Timed out!\n",
      "new support: 0.0008400000000000026 new step 1e-05\n",
      "16124  were renamed to unique names\n",
      "for support  0.0008300000000000026 : 190.44008421897888  seconds\n",
      "count of found rules: 1\n",
      "272138  were renamed to unique names\n",
      "for support  0.0007300000000000026 : 229.75422596931458  seconds\n",
      "count of found rules: 564\n",
      "388568  were renamed to unique names\n",
      "for support  0.0006300000000000025 : 246.73358130455017  seconds\n",
      "count of found rules: 24\n",
      "189244  were renamed to unique names\n",
      "for support  0.0005300000000000025 : 292.6830360889435  seconds\n",
      "count of found rules: 261\n",
      "Timed out!\n",
      "new support: 0.0005300000000000025 new step 1e-05\n",
      "35513  were renamed to unique names\n",
      "for support  0.0005200000000000024 : 272.43611454963684  seconds\n",
      "count of found rules: 2\n",
      "Timed out!\n",
      "new support: 0.0005200000000000024 new step 1e-05\n",
      "19735  were renamed to unique names\n",
      "for support  0.0005100000000000024 : 282.78293085098267  seconds\n",
      "count of found rules: 2\n",
      "Timed out!\n",
      "new support: 0.0005100000000000024 new step 1e-05\n",
      "64293  were renamed to unique names\n",
      "for support  0.0005000000000000024 : 282.02821683883667  seconds\n",
      "count of found rules: 5\n",
      "Timed out!\n",
      "new support: 0.0005000000000000024 new step 1e-05\n",
      "51050  were renamed to unique names\n",
      "for support  0.0004900000000000024 : 293.94945335388184  seconds\n",
      "count of found rules: 3\n",
      "Timed out!\n",
      "new support: 0.0004900000000000024 new step 1e-05\n",
      "70482  were renamed to unique names\n",
      "for support  0.00048000000000000234 : 292.8986704349518  seconds\n",
      "count of found rules: 4\n",
      "Timed out!\n",
      "new support: 0.00048000000000000234 new step 1e-05\n",
      "122031  were renamed to unique names\n",
      "for support  0.0004700000000000023 : 296.41579365730286  seconds\n",
      "count of found rules: 17\n",
      "Timed out!\n",
      "new support: 0.0004700000000000023 new step 1e-05\n",
      "20487  were renamed to unique names\n",
      "for support  0.0004600000000000023 : 307.36100029945374  seconds\n",
      "count of found rules: 8\n",
      "Timed out!\n",
      "new support: 0.0004600000000000023 new step 1e-05\n",
      "117717  were renamed to unique names\n",
      "for support  0.00045000000000000226 : 307.3398928642273  seconds\n",
      "count of found rules: 6\n",
      "Timed out!\n",
      "new support: 0.00045000000000000226 new step 1e-05\n",
      "27043  were renamed to unique names\n",
      "for support  0.00044000000000000224 : 307.72067737579346  seconds\n",
      "count of found rules: 5\n",
      "Timed out!\n",
      "new support: 0.00044000000000000224 new step 1e-05\n",
      "Timed out!\n",
      "new support: 0.00044000000000000224 new step 1.0000000000000002e-06\n",
      "for support  0.0004390000000000022 : 292.1151821613312  seconds\n",
      "count of found rules: 0\n",
      "Timed out!\n",
      "new support: 0.0004390000000000022 new step 1e-05\n",
      "Timed out!\n",
      "new support: 0.0004390000000000022 new step 1.0000000000000002e-06\n",
      "Timed out!\n",
      "new support: 0.0004390000000000022 new step 1.0000000000000002e-07\n",
      "for support  0.0004389000000000022 : 290.701247215271  seconds\n",
      "count of found rules: 0\n",
      "Timed out!\n",
      "new support: 0.0004389000000000022 new step 1e-05\n",
      "Timed out!\n",
      "new support: 0.0004389000000000022 new step 1.0000000000000002e-06\n",
      "Timed out!\n",
      "new support: 0.0004389000000000022 new step 1.0000000000000002e-07\n",
      "Timed out!\n",
      "new support: 0.0004389000000000022 new step 1.0000000000000002e-08\n",
      "for support  0.0004388900000000022 : 290.6772084236145  seconds\n",
      "count of found rules: 0\n",
      "Timed out!\n",
      "new support: 0.0004388900000000022 new step 1e-05\n",
      "Timed out!\n",
      "new support: 0.0004388900000000022 new step 1.0000000000000002e-06\n",
      "3897  were renamed to unique names\n",
      "for support  0.0004378900000000022 : 303.4041383266449  seconds\n",
      "count of found rules: 1\n",
      "Timed out!\n",
      "new support: 0.0004378900000000022 new step 1e-05\n",
      "56489  were renamed to unique names\n",
      "for support  0.00042789000000000217 : 319.7640278339386  seconds\n",
      "count of found rules: 12\n",
      "Timed out!\n",
      "new support: 0.00042789000000000217 new step 1e-05\n",
      "Timed out!\n",
      "new support: 0.00042789000000000217 new step 1.0000000000000002e-06\n",
      "Timed out!\n",
      "new support: 0.00042789000000000217 new step 1.0000000000000002e-07\n",
      "Timed out!\n",
      "new support: 0.00042789000000000217 new step 1.0000000000000002e-08\n",
      "Timed out!\n",
      "new support: 0.00042789000000000217 new step 1.0000000000000003e-09\n",
      "Timed out!\n",
      "new support: 0.00042789000000000217 new step 1.0000000000000003e-10\n",
      "Timed out!\n",
      "new support: 0.00042789000000000217 new step 1.0000000000000003e-11\n",
      "Timed out!\n",
      "new support: 0.00042789000000000217 new step 1.0000000000000002e-12\n",
      "for support  0.00042788999900000217 : 298.119238615036  seconds\n",
      "count of found rules: 0\n",
      "Timed out!\n",
      "new support: 0.00042788999900000217 new step 1e-05\n",
      "Timed out!\n",
      "new support: 0.00042788999900000217 new step 1.0000000000000002e-06\n",
      "11919  were renamed to unique names\n",
      "for support  0.00042688999900000215 : 313.8924653530121  seconds\n",
      "count of found rules: 1\n",
      "Timed out!\n",
      "new support: 0.00042688999900000215 new step 1e-05\n",
      "Timed out!\n",
      "new support: 0.00042688999900000215 new step 1.0000000000000002e-06\n",
      "Timed out!\n",
      "new support: 0.00042688999900000215 new step 1.0000000000000002e-07\n",
      "for support  0.00042678999900000214 : 294.5963034629822  seconds\n",
      "count of found rules: 0\n",
      "Timed out!\n",
      "new support: 0.00042678999900000214 new step 1e-05\n",
      "Timed out!\n",
      "new support: 0.00042678999900000214 new step 1.0000000000000002e-06\n",
      "Timed out!\n",
      "new support: 0.00042678999900000214 new step 1.0000000000000002e-07\n",
      "Timed out!\n",
      "new support: 0.00042678999900000214 new step 1.0000000000000002e-08\n",
      "Timed out!\n",
      "new support: 0.00042678999900000214 new step 1.0000000000000003e-09\n",
      "Timed out!\n",
      "new support: 0.00042678999900000214 new step 1.0000000000000003e-10\n",
      "Timed out!\n",
      "new support: 0.00042678999900000214 new step 1.0000000000000003e-11\n",
      "Timed out!\n",
      "new support: 0.00042678999900000214 new step 1.0000000000000002e-12\n",
      "Timed out!\n",
      "new support: 0.00042678999900000214 new step 1.0000000000000002e-13\n",
      "Timed out!\n",
      "new support: 0.00042678999900000214 new step 1.0000000000000002e-14\n",
      "for support  0.00042678999899000217 : 292.3503556251526  seconds\n",
      "count of found rules: 0\n",
      "Timed out!\n",
      "new support: 0.00042678999899000217 new step 1e-05\n",
      "Timed out!\n",
      "new support: 0.00042678999899000217 new step 1.0000000000000002e-06\n",
      "Timed out!\n",
      "new support: 0.00042678999899000217 new step 1.0000000000000002e-07\n",
      "60977  were renamed to unique names\n",
      "for support  0.00042668999899000216 : 317.51374197006226  seconds\n",
      "count of found rules: 2\n",
      "Timed out!\n",
      "new support: 0.00042668999899000216 new step 1e-05\n",
      "Timed out!\n",
      "new support: 0.00042668999899000216 new step 1.0000000000000002e-06\n",
      "Timed out!\n",
      "new support: 0.00042668999899000216 new step 1.0000000000000002e-07\n",
      "for support  0.00042658999899000216 : 298.34761905670166  seconds\n",
      "count of found rules: 0\n",
      "Timed out!\n",
      "new support: 0.00042658999899000216 new step 1e-05\n",
      "Timed out!\n",
      "new support: 0.00042658999899000216 new step 1.0000000000000002e-06\n",
      "for support  0.00042558999899000214 : 296.47719287872314  seconds\n",
      "count of found rules: 0\n",
      "Timed out!\n",
      "new support: 0.00042558999899000214 new step 1e-05\n",
      "Timed out!\n",
      "new support: 0.00042558999899000214 new step 1.0000000000000002e-06\n"
     ]
    },
    {
     "ename": "KeyboardInterrupt",
     "evalue": "",
     "output_type": "error",
     "traceback": [
      "\u001b[0;31m\u001b[0m",
      "\u001b[0;31mKeyboardInterrupt\u001b[0mTraceback (most recent call last)",
      "\u001b[0;32m<ipython-input-17-8ba0bbef64d5>\u001b[0m in \u001b[0;36m<module>\u001b[0;34m\u001b[0m\n\u001b[1;32m     14\u001b[0m     \u001b[0;32mtry\u001b[0m\u001b[0;34m:\u001b[0m\u001b[0;34m\u001b[0m\u001b[0;34m\u001b[0m\u001b[0m\n\u001b[1;32m     15\u001b[0m         \u001b[0;32mwith\u001b[0m \u001b[0mtime_limit\u001b[0m\u001b[0;34m(\u001b[0m\u001b[0;36m300\u001b[0m\u001b[0;34m)\u001b[0m\u001b[0;34m:\u001b[0m\u001b[0;34m\u001b[0m\u001b[0;34m\u001b[0m\u001b[0m\n\u001b[0;32m---> 16\u001b[0;31m             \u001b[0mresult_df\u001b[0m\u001b[0;34m,\u001b[0m \u001b[0mtags\u001b[0m \u001b[0;34m=\u001b[0m \u001b[0mdo_apriori\u001b[0m\u001b[0;34m(\u001b[0m\u001b[0mtransactions\u001b[0m\u001b[0;34m,\u001b[0m \u001b[0msupp\u001b[0m\u001b[0;34m)\u001b[0m\u001b[0;34m\u001b[0m\u001b[0;34m\u001b[0m\u001b[0m\n\u001b[0m\u001b[1;32m     17\u001b[0m     \u001b[0;32mexcept\u001b[0m \u001b[0mTimeoutException\u001b[0m \u001b[0;32mas\u001b[0m \u001b[0me\u001b[0m\u001b[0;34m:\u001b[0m\u001b[0;34m\u001b[0m\u001b[0;34m\u001b[0m\u001b[0m\n\u001b[1;32m     18\u001b[0m         \u001b[0mprint\u001b[0m\u001b[0;34m(\u001b[0m\u001b[0;34m\"Timed out!\"\u001b[0m\u001b[0;34m)\u001b[0m\u001b[0;34m\u001b[0m\u001b[0;34m\u001b[0m\u001b[0m\n",
      "\u001b[0;32m<ipython-input-11-5ed70f4d4034>\u001b[0m in \u001b[0;36mdo_apriori\u001b[0;34m(transactions, support, confidence, lift)\u001b[0m\n\u001b[1;32m      1\u001b[0m \u001b[0;32mdef\u001b[0m \u001b[0mdo_apriori\u001b[0m\u001b[0;34m(\u001b[0m\u001b[0mtransactions\u001b[0m\u001b[0;34m,\u001b[0m \u001b[0msupport\u001b[0m\u001b[0;34m,\u001b[0m \u001b[0mconfidence\u001b[0m \u001b[0;34m=\u001b[0m \u001b[0;36m0.75\u001b[0m\u001b[0;34m,\u001b[0m \u001b[0mlift\u001b[0m \u001b[0;34m=\u001b[0m \u001b[0;36m1.2\u001b[0m\u001b[0;34m)\u001b[0m\u001b[0;34m:\u001b[0m\u001b[0;34m\u001b[0m\u001b[0;34m\u001b[0m\u001b[0m\n\u001b[0;32m----> 2\u001b[0;31m     \u001b[0mresult\u001b[0m \u001b[0;34m=\u001b[0m \u001b[0mlist\u001b[0m\u001b[0;34m(\u001b[0m\u001b[0mapyori\u001b[0m\u001b[0;34m.\u001b[0m\u001b[0mapriori\u001b[0m\u001b[0;34m(\u001b[0m\u001b[0mtransactions\u001b[0m\u001b[0;34m,\u001b[0m \u001b[0mmin_support\u001b[0m\u001b[0;34m=\u001b[0m\u001b[0msupport\u001b[0m\u001b[0;34m,\u001b[0m \u001b[0mmin_confidence\u001b[0m\u001b[0;34m=\u001b[0m\u001b[0mconfidence\u001b[0m\u001b[0;34m,\u001b[0m \u001b[0mmin_lift\u001b[0m\u001b[0;34m=\u001b[0m\u001b[0mlift\u001b[0m\u001b[0;34m,\u001b[0m \u001b[0mmin_length\u001b[0m \u001b[0;34m=\u001b[0m \u001b[0;36m2\u001b[0m\u001b[0;34m)\u001b[0m\u001b[0;34m)\u001b[0m\u001b[0;34m\u001b[0m\u001b[0;34m\u001b[0m\u001b[0m\n\u001b[0m\u001b[1;32m      3\u001b[0m     \u001b[0mtemp\u001b[0m \u001b[0;34m=\u001b[0m \u001b[0;34m[\u001b[0m\u001b[0;34m]\u001b[0m\u001b[0;34m\u001b[0m\u001b[0;34m\u001b[0m\u001b[0m\n\u001b[1;32m      4\u001b[0m     \u001b[0;32mfor\u001b[0m \u001b[0mi\u001b[0m \u001b[0;32min\u001b[0m \u001b[0mrange\u001b[0m\u001b[0;34m(\u001b[0m\u001b[0mlen\u001b[0m\u001b[0;34m(\u001b[0m\u001b[0mresult\u001b[0m\u001b[0;34m)\u001b[0m\u001b[0;34m)\u001b[0m\u001b[0;34m:\u001b[0m\u001b[0;34m\u001b[0m\u001b[0;34m\u001b[0m\u001b[0m\n\u001b[1;32m      5\u001b[0m       \u001b[0mtemp\u001b[0m\u001b[0;34m.\u001b[0m\u001b[0mappend\u001b[0m\u001b[0;34m(\u001b[0m\u001b[0;34m[\u001b[0m\u001b[0mlist\u001b[0m\u001b[0;34m(\u001b[0m\u001b[0mresult\u001b[0m\u001b[0;34m[\u001b[0m\u001b[0mi\u001b[0m\u001b[0;34m]\u001b[0m\u001b[0;34m[\u001b[0m\u001b[0;36m0\u001b[0m\u001b[0;34m]\u001b[0m\u001b[0;34m)\u001b[0m\u001b[0;34m,\u001b[0m \u001b[0mresult\u001b[0m\u001b[0;34m[\u001b[0m\u001b[0mi\u001b[0m\u001b[0;34m]\u001b[0m\u001b[0;34m[\u001b[0m\u001b[0;36m1\u001b[0m\u001b[0;34m]\u001b[0m\u001b[0;34m,\u001b[0m \u001b[0mresult\u001b[0m\u001b[0;34m[\u001b[0m\u001b[0mi\u001b[0m\u001b[0;34m]\u001b[0m\u001b[0;34m[\u001b[0m\u001b[0;36m2\u001b[0m\u001b[0;34m]\u001b[0m\u001b[0;34m[\u001b[0m\u001b[0;36m0\u001b[0m\u001b[0;34m]\u001b[0m\u001b[0;34m[\u001b[0m\u001b[0;36m2\u001b[0m\u001b[0;34m]\u001b[0m\u001b[0;34m,\u001b[0m \u001b[0mresult\u001b[0m\u001b[0;34m[\u001b[0m\u001b[0mi\u001b[0m\u001b[0;34m]\u001b[0m\u001b[0;34m[\u001b[0m\u001b[0;36m2\u001b[0m\u001b[0;34m]\u001b[0m\u001b[0;34m[\u001b[0m\u001b[0;36m0\u001b[0m\u001b[0;34m]\u001b[0m\u001b[0;34m[\u001b[0m\u001b[0;36m3\u001b[0m\u001b[0;34m]\u001b[0m\u001b[0;34m]\u001b[0m\u001b[0;34m)\u001b[0m\u001b[0;34m\u001b[0m\u001b[0;34m\u001b[0m\u001b[0m\n",
      "\u001b[0;32m/opt/conda/lib/python3.8/site-packages/apyori.py\u001b[0m in \u001b[0;36mapriori\u001b[0;34m(transactions, **kwargs)\u001b[0m\n\u001b[1;32m    279\u001b[0m \u001b[0;34m\u001b[0m\u001b[0m\n\u001b[1;32m    280\u001b[0m     \u001b[0;31m# Calculate supports.\u001b[0m\u001b[0;34m\u001b[0m\u001b[0;34m\u001b[0m\u001b[0;34m\u001b[0m\u001b[0m\n\u001b[0;32m--> 281\u001b[0;31m     \u001b[0mtransaction_manager\u001b[0m \u001b[0;34m=\u001b[0m \u001b[0mTransactionManager\u001b[0m\u001b[0;34m.\u001b[0m\u001b[0mcreate\u001b[0m\u001b[0;34m(\u001b[0m\u001b[0mtransactions\u001b[0m\u001b[0;34m)\u001b[0m\u001b[0;34m\u001b[0m\u001b[0;34m\u001b[0m\u001b[0m\n\u001b[0m\u001b[1;32m    282\u001b[0m     support_records = _gen_support_records(\n\u001b[1;32m    283\u001b[0m         transaction_manager, min_support, max_length=max_length)\n",
      "\u001b[0;32m/opt/conda/lib/python3.8/site-packages/apyori.py\u001b[0m in \u001b[0;36mcreate\u001b[0;34m(transactions)\u001b[0m\n\u001b[1;32m    119\u001b[0m         \u001b[0;32mif\u001b[0m \u001b[0misinstance\u001b[0m\u001b[0;34m(\u001b[0m\u001b[0mtransactions\u001b[0m\u001b[0;34m,\u001b[0m \u001b[0mTransactionManager\u001b[0m\u001b[0;34m)\u001b[0m\u001b[0;34m:\u001b[0m\u001b[0;34m\u001b[0m\u001b[0;34m\u001b[0m\u001b[0m\n\u001b[1;32m    120\u001b[0m             \u001b[0;32mreturn\u001b[0m \u001b[0mtransactions\u001b[0m\u001b[0;34m\u001b[0m\u001b[0;34m\u001b[0m\u001b[0m\n\u001b[0;32m--> 121\u001b[0;31m         \u001b[0;32mreturn\u001b[0m \u001b[0mTransactionManager\u001b[0m\u001b[0;34m(\u001b[0m\u001b[0mtransactions\u001b[0m\u001b[0;34m)\u001b[0m\u001b[0;34m\u001b[0m\u001b[0;34m\u001b[0m\u001b[0m\n\u001b[0m\u001b[1;32m    122\u001b[0m \u001b[0;34m\u001b[0m\u001b[0m\n\u001b[1;32m    123\u001b[0m \u001b[0;34m\u001b[0m\u001b[0m\n",
      "\u001b[0;32m/opt/conda/lib/python3.8/site-packages/apyori.py\u001b[0m in \u001b[0;36m__init__\u001b[0;34m(self, transactions)\u001b[0m\n\u001b[1;32m     42\u001b[0m \u001b[0;34m\u001b[0m\u001b[0m\n\u001b[1;32m     43\u001b[0m         \u001b[0;32mfor\u001b[0m \u001b[0mtransaction\u001b[0m \u001b[0;32min\u001b[0m \u001b[0mtransactions\u001b[0m\u001b[0;34m:\u001b[0m\u001b[0;34m\u001b[0m\u001b[0;34m\u001b[0m\u001b[0m\n\u001b[0;32m---> 44\u001b[0;31m             \u001b[0mself\u001b[0m\u001b[0;34m.\u001b[0m\u001b[0madd_transaction\u001b[0m\u001b[0;34m(\u001b[0m\u001b[0mtransaction\u001b[0m\u001b[0;34m)\u001b[0m\u001b[0;34m\u001b[0m\u001b[0;34m\u001b[0m\u001b[0m\n\u001b[0m\u001b[1;32m     45\u001b[0m \u001b[0;34m\u001b[0m\u001b[0m\n\u001b[1;32m     46\u001b[0m     \u001b[0;32mdef\u001b[0m \u001b[0madd_transaction\u001b[0m\u001b[0;34m(\u001b[0m\u001b[0mself\u001b[0m\u001b[0;34m,\u001b[0m \u001b[0mtransaction\u001b[0m\u001b[0;34m)\u001b[0m\u001b[0;34m:\u001b[0m\u001b[0;34m\u001b[0m\u001b[0;34m\u001b[0m\u001b[0m\n",
      "\u001b[0;32m/opt/conda/lib/python3.8/site-packages/apyori.py\u001b[0m in \u001b[0;36madd_transaction\u001b[0;34m(self, transaction)\u001b[0m\n\u001b[1;32m     54\u001b[0m             \u001b[0;32mif\u001b[0m \u001b[0mitem\u001b[0m \u001b[0;32mnot\u001b[0m \u001b[0;32min\u001b[0m \u001b[0mself\u001b[0m\u001b[0;34m.\u001b[0m\u001b[0m__transaction_index_map\u001b[0m\u001b[0;34m:\u001b[0m\u001b[0;34m\u001b[0m\u001b[0;34m\u001b[0m\u001b[0m\n\u001b[1;32m     55\u001b[0m                 \u001b[0mself\u001b[0m\u001b[0;34m.\u001b[0m\u001b[0m__items\u001b[0m\u001b[0;34m.\u001b[0m\u001b[0mappend\u001b[0m\u001b[0;34m(\u001b[0m\u001b[0mitem\u001b[0m\u001b[0;34m)\u001b[0m\u001b[0;34m\u001b[0m\u001b[0;34m\u001b[0m\u001b[0m\n\u001b[0;32m---> 56\u001b[0;31m                 \u001b[0mself\u001b[0m\u001b[0;34m.\u001b[0m\u001b[0m__transaction_index_map\u001b[0m\u001b[0;34m[\u001b[0m\u001b[0mitem\u001b[0m\u001b[0;34m]\u001b[0m \u001b[0;34m=\u001b[0m \u001b[0mset\u001b[0m\u001b[0;34m(\u001b[0m\u001b[0;34m)\u001b[0m\u001b[0;34m\u001b[0m\u001b[0;34m\u001b[0m\u001b[0m\n\u001b[0m\u001b[1;32m     57\u001b[0m             \u001b[0mself\u001b[0m\u001b[0;34m.\u001b[0m\u001b[0m__transaction_index_map\u001b[0m\u001b[0;34m[\u001b[0m\u001b[0mitem\u001b[0m\u001b[0;34m]\u001b[0m\u001b[0;34m.\u001b[0m\u001b[0madd\u001b[0m\u001b[0;34m(\u001b[0m\u001b[0mself\u001b[0m\u001b[0;34m.\u001b[0m\u001b[0m__num_transaction\u001b[0m\u001b[0;34m)\u001b[0m\u001b[0;34m\u001b[0m\u001b[0;34m\u001b[0m\u001b[0m\n\u001b[1;32m     58\u001b[0m         \u001b[0mself\u001b[0m\u001b[0;34m.\u001b[0m\u001b[0m__num_transaction\u001b[0m \u001b[0;34m+=\u001b[0m \u001b[0;36m1\u001b[0m\u001b[0;34m\u001b[0m\u001b[0;34m\u001b[0m\u001b[0m\n",
      "\u001b[0;31mKeyboardInterrupt\u001b[0m: "
     ]
    }
   ],
   "source": [
    "step_val_original = 0.0001\n",
    "step_val = step_val_original\n",
    "\n",
    "supp = 0.004\n",
    "starting_point = time.time()\n",
    "dfs_list = list()\n",
    "supp_list = list()\n",
    "\n",
    "# stopping condition? \n",
    "while supp > 0.0001:\n",
    "    supp -= step_val\n",
    "    \n",
    "    time_start = time.time()\n",
    "    try:\n",
    "        with time_limit(300):\n",
    "            result_df, tags = do_apriori(transactions, supp)\n",
    "    except TimeoutException as e:\n",
    "        print(\"Timed out!\")\n",
    "        supp += step_val\n",
    "        step_val = step_val/10\n",
    "        print('new support:', supp, 'new step', step_val)\n",
    "        continue\n",
    "        \n",
    "    dfs_list.append(result_df)\n",
    "    supp_list.append(supp)\n",
    "    if tags:\n",
    "        df = rename_tags(df, tags)\n",
    "        transactions = df['hashtags'].tolist()\n",
    "    \n",
    "    step_val = step_val_original\n",
    "    print('for support ', supp, ':', time.time() - time_start, ' seconds')\n",
    "    print('count of found rules:', result_df.shape[0])\n",
    "    \n",
    "print('total time', time.time() - starting_point)"
   ]
  },
  {
   "cell_type": "code",
   "execution_count": 40,
   "id": "5fb6b935",
   "metadata": {},
   "outputs": [],
   "source": [
    "supports_df = pd.DataFrame(supp_list, columns=['support'])\n",
    "supports_df.to_csv('supp_list_rename.csv')"
   ]
  },
  {
   "cell_type": "code",
   "execution_count": 26,
   "id": "6020933e",
   "metadata": {},
   "outputs": [],
   "source": [
    "dfs_lists_not_empty = list()\n",
    "for it in dfs_list:\n",
    "    if it.shape[0] != 0:\n",
    "        dfs_lists_not_empty.append(it)"
   ]
  },
  {
   "cell_type": "code",
   "execution_count": 41,
   "id": "330517a1",
   "metadata": {},
   "outputs": [],
   "source": [
    "dataframes = pd.concat(dfs_lists_not_empty)\n",
    "dataframes.to_csv('dfs_list_rename.csv')"
   ]
  },
  {
   "cell_type": "markdown",
   "id": "3be140c4",
   "metadata": {},
   "source": [
    "creating plots"
   ]
  },
  {
   "cell_type": "code",
   "execution_count": 44,
   "id": "ac1688f6",
   "metadata": {},
   "outputs": [
    {
     "data": {
      "image/png": "[encoded data removed]",
      "text/plain": [
       "<Figure size 1440x504 with 1 Axes>"
      ]
     },
     "metadata": {
      "needs_background": "light"
     },
     "output_type": "display_data"
    }
   ],
   "source": [
    "plt.figure(figsize=(20, 7))\n",
    "ax = plt.axes()\n",
    "ax.scatter(dataframes['support'], dataframes['confidence'], c='blue')\n",
    "\n",
    "for sup in supp_list:\n",
    "    ax.plot([sup, sup], [0.75, 1], c='red')\n",
    "\n",
    "ax.set_xlabel('support')\n",
    "ax.set_ylabel('confidence')\n",
    "plt.show()"
   ]
  },
  {
   "cell_type": "code",
   "execution_count": 47,
   "id": "9d5d484f",
   "metadata": {},
   "outputs": [
    {
     "data": {
      "image/png": "[encoded data removed]",
      "text/plain": [
       "<Figure size 1440x504 with 1 Axes>"
      ]
     },
     "metadata": {
      "needs_background": "light"
     },
     "output_type": "display_data"
    }
   ],
   "source": [
    "plt.figure(figsize=(20, 7))\n",
    "ax = plt.axes()\n",
    "ax.scatter(dataframes['support'], dataframes['lift'], c='blue')\n",
    "\n",
    "for sup in supp_list:\n",
    "    ax.plot([sup, sup], [0, 2000], c='red')\n",
    "\n",
    "ax.set_xlabel('support')\n",
    "ax.set_ylabel('lift')\n",
    "plt.show()"
   ]
  },
  {
   "cell_type": "code",
   "execution_count": 54,
   "id": "16ef8393",
   "metadata": {},
   "outputs": [
    {
     "data": {
      "image/png": "[encoded data removed]",
      "text/plain": [
       "<Figure size 720x504 with 1 Axes>"
      ]
     },
     "metadata": {
      "needs_background": "light"
     },
     "output_type": "display_data"
    }
   ],
   "source": [
    "plt.figure(figsize=(10, 7))\n",
    "ax = plt.axes()\n",
    "ax.hist(dataframes['support'], bins = 300)\n",
    "#for sup in supp_list:\n",
    "#    ax.plot([sup, sup], [0, 500], c='red')\n",
    "\n",
    "plt.show()"
   ]
  },
  {
   "cell_type": "markdown",
   "id": "83fd5556",
   "metadata": {},
   "source": [
    "# Apriori with empirically found steps"
   ]
  },
  {
   "cell_type": "code",
   "execution_count": null,
   "id": "582d950e",
   "metadata": {},
   "outputs": [],
   "source": [
    "%%time\n",
    "#0.003092 - original (5 mins)\n",
    "result_df, tags = do_apriori(transactions, 0.003092)"
   ]
  },
  {
   "cell_type": "code",
   "execution_count": null,
   "id": "1fed0a53",
   "metadata": {},
   "outputs": [],
   "source": [
    "df = delete_tags(df, tags, post_count)"
   ]
  },
  {
   "cell_type": "markdown",
   "id": "6eb7a839",
   "metadata": {},
   "source": [
    "Now min_support is less than before, so we can find more sensitive rules"
   ]
  },
  {
   "cell_type": "code",
   "execution_count": null,
   "id": "c272eb7a",
   "metadata": {},
   "outputs": [],
   "source": [
    "transactions = df['hashtags'].tolist()"
   ]
  },
  {
   "cell_type": "code",
   "execution_count": null,
   "id": "11e07842",
   "metadata": {},
   "outputs": [],
   "source": [
    "%%time\n",
    "#0.0028 - 1 min\n",
    "#0.002783 - 1 min\n",
    "#0.0027825 - 1.5 min\n",
    "#0.0027823 - 4 mins\n",
    "result_df2, tags2 = do_apriori(transactions, 0.0027823)"
   ]
  },
  {
   "cell_type": "code",
   "execution_count": null,
   "id": "3c978a89",
   "metadata": {},
   "outputs": [],
   "source": [
    "df = delete_tags(df, tags2, post_count)"
   ]
  },
  {
   "cell_type": "markdown",
   "id": "8fb91cf5",
   "metadata": {},
   "source": [
    "Постов, которые содержали только эти хэштеги мало. Возможно, имеет смысл удалять любые, которые содержат хотя бы n штук из перечня, чтоб была возможность контролировать чувствительность."
   ]
  },
  {
   "cell_type": "code",
   "execution_count": null,
   "id": "bb24d2b4",
   "metadata": {},
   "outputs": [],
   "source": [
    "transactions = df['hashtags'].tolist()"
   ]
  },
  {
   "cell_type": "code",
   "execution_count": null,
   "id": "9f480703",
   "metadata": {},
   "outputs": [],
   "source": [
    "%%time\n",
    "#0.0027823 - 1 min\n",
    "#0.0026 - 1.5 - new 120 entries\n",
    "result_df3, tags3 = do_apriori(transactions, 0.0025)"
   ]
  },
  {
   "cell_type": "code",
   "execution_count": null,
   "id": "485d87ab",
   "metadata": {},
   "outputs": [],
   "source": [
    "df = delete_tags(df, tags3, post_count)"
   ]
  },
  {
   "cell_type": "code",
   "execution_count": null,
   "id": "3957a80e",
   "metadata": {},
   "outputs": [],
   "source": [
    "transactions = df['hashtags'].tolist()"
   ]
  },
  {
   "cell_type": "code",
   "execution_count": null,
   "id": "d6096672",
   "metadata": {},
   "outputs": [],
   "source": [
    "%%time\n",
    "#0.001 - 2 min\n",
    "result_df4, tags4 = do_apriori(transactions, 0.001)"
   ]
  },
  {
   "cell_type": "code",
   "execution_count": null,
   "id": "b21c62c9",
   "metadata": {},
   "outputs": [],
   "source": [
    "df = delete_tags(df, tags4, post_count)"
   ]
  },
  {
   "cell_type": "code",
   "execution_count": null,
   "id": "26959aba",
   "metadata": {},
   "outputs": [],
   "source": [
    "transactions = df['hashtags'].tolist()"
   ]
  },
  {
   "cell_type": "code",
   "execution_count": null,
   "id": "04ae2b31",
   "metadata": {},
   "outputs": [],
   "source": [
    "%%time\n",
    "#0.001 - 2 min\n",
    "result_df5, tags5 = do_apriori(transactions, 0.0009)"
   ]
  },
  {
   "cell_type": "code",
   "execution_count": null,
   "id": "5f7810eb",
   "metadata": {},
   "outputs": [],
   "source": [
    "df = delete_tags(df, tags5, post_count)"
   ]
  },
  {
   "cell_type": "code",
   "execution_count": null,
   "id": "5e72a064",
   "metadata": {},
   "outputs": [],
   "source": [
    "transactions = df['hashtags'].tolist()"
   ]
  },
  {
   "cell_type": "code",
   "execution_count": null,
   "id": "7b55ce4a",
   "metadata": {},
   "outputs": [],
   "source": [
    "%%time\n",
    "#0.001 - 2 min\n",
    "result_df6, tags6 = do_apriori(transactions, 0.0008)"
   ]
  },
  {
   "cell_type": "code",
   "execution_count": null,
   "id": "903018e8",
   "metadata": {},
   "outputs": [],
   "source": [
    "df = delete_tags(df, tags6, post_count)"
   ]
  },
  {
   "cell_type": "code",
   "execution_count": null,
   "id": "8f88a9e1",
   "metadata": {},
   "outputs": [],
   "source": [
    "transactions = df['hashtags'].tolist()"
   ]
  },
  {
   "cell_type": "code",
   "execution_count": null,
   "id": "b0fc08d9",
   "metadata": {},
   "outputs": [],
   "source": [
    "%%time\n",
    "#0.001 - 2 min\n",
    "result_df7, tags7 = do_apriori(transactions, 0.0006)"
   ]
  },
  {
   "cell_type": "code",
   "execution_count": null,
   "id": "eb370917",
   "metadata": {},
   "outputs": [],
   "source": [
    "df = delete_tags(df, tags7, post_count)"
   ]
  },
  {
   "cell_type": "markdown",
   "id": "8633e104",
   "metadata": {},
   "source": [
    "Plots creating"
   ]
  },
  {
   "cell_type": "code",
   "execution_count": null,
   "id": "e4ad8931",
   "metadata": {},
   "outputs": [],
   "source": [
    "spb_rules_df =  pd.concat([result_df, result_df2, result_df3, result_df4, result_df5, result_df6, result_df7])"
   ]
  },
  {
   "cell_type": "code",
   "execution_count": null,
   "id": "774b36a0",
   "metadata": {},
   "outputs": [],
   "source": [
    "spb_rules_df.sort_values(by=['support'])"
   ]
  },
  {
   "cell_type": "code",
   "execution_count": null,
   "id": "6c8b8c1b",
   "metadata": {},
   "outputs": [],
   "source": [
    "# support cuts: 0.003092, 0.0027823, 0.0025, 0.001, 0.0009, 0.0008, 0.0006"
   ]
  },
  {
   "cell_type": "code",
   "execution_count": null,
   "id": "24dcbddd",
   "metadata": {},
   "outputs": [],
   "source": [
    "plt.figure(figsize=(10, 7))\n",
    "ax = plt.axes()\n",
    "ax.scatter(spb_rules_df['support'], spb_rules_df['confidence'], c='blue')\n",
    "\n",
    "for sup in [0.003092, 0.0027823, 0.0025, 0.001, 0.0009, 0.0008, 0.0006]:\n",
    "    ax.plot([sup, sup], [0.75, 1], c='red')\n",
    "\n",
    "    ax.set_xlabel('support')\n",
    "ax.set_ylabel('confidence')\n",
    "plt.show()"
   ]
  },
  {
   "cell_type": "code",
   "execution_count": null,
   "id": "4fb8d2ad",
   "metadata": {},
   "outputs": [],
   "source": [
    "plt.figure(figsize=(10, 7))\n",
    "ax = plt.axes()\n",
    "ax.scatter(spb_rules_df['support'], spb_rules_df['lift'], c='blue')\n",
    "\n",
    "for sup in [0.003092, 0.0027823, 0.0025, 0.001, 0.0009, 0.0008, 0.0006]:\n",
    "    ax.plot([sup, sup], [0, 1600], c='red')\n",
    "\n",
    "    ax.set_xlabel('support')\n",
    "ax.set_ylabel('confidence')\n",
    "plt.show()"
   ]
  },
  {
   "cell_type": "code",
   "execution_count": null,
   "id": "cc165e61",
   "metadata": {
    "scrolled": false
   },
   "outputs": [],
   "source": [
    "plt.figure(figsize=(10, 7))\n",
    "ax = plt.axes()\n",
    "for sup in [0.003092, 0.0027823, 0.0025, 0.001, 0.0009, 0.0008, 0.0006]:\n",
    "    ax.plot([sup, sup], [0, 4000], c='red')\n",
    "ax.hist(spb_rules_df['support'], bins = 300)\n",
    "plt.show()"
   ]
  },
  {
   "cell_type": "markdown",
   "id": "3124465d",
   "metadata": {},
   "source": [
    "SPb analysis, but with tags renaming to save support values for different apriori launches"
   ]
  },
  {
   "cell_type": "code",
   "execution_count": 8,
   "id": "ec650336",
   "metadata": {},
   "outputs": [],
   "source": [
    "transactions = df['hashtags'].tolist()\n",
    "post_count = df.shape[0]"
   ]
  },
  {
   "cell_type": "code",
   "execution_count": 15,
   "id": "756fc74f",
   "metadata": {},
   "outputs": [
    {
     "name": "stdout",
     "output_type": "stream",
     "text": [
      "CPU times: user 5min 17s, sys: 4.77 s, total: 5min 21s\n",
      "Wall time: 5min 22s\n"
     ]
    }
   ],
   "source": [
    "%%time\n",
    "#0.003092 - original (5 mins)\n",
    "result_df, tags = do_apriori(transactions, 0.003092)"
   ]
  },
  {
   "cell_type": "code",
   "execution_count": 32,
   "id": "fe5a6f69",
   "metadata": {},
   "outputs": [],
   "source": [
    "uniq_num = 0"
   ]
  },
  {
   "cell_type": "code",
   "execution_count": 55,
   "id": "374aa700",
   "metadata": {},
   "outputs": [],
   "source": [
    "def _rename_tags(x, tags):\n",
    "    global uniq_num\n",
    "    x = set(x)\n",
    "    for tag in tags:\n",
    "        if tag in x:\n",
    "            x.remove(tag)\n",
    "            x.add('renamed_tag' + str(uniq_num))\n",
    "            uniq_num = uniq_num + 1\n",
    "    return x\n",
    "\n",
    "def rename_tags(_df, tags):\n",
    "    global uniq_num\n",
    "    old_num = uniq_num\n",
    "    _df['hashtags'] = _df['hashtags'].apply(_rename_tags, args=(tags, ))\n",
    "    print(uniq_num - old_num, ' were renamed to unique names')\n",
    "    return _df"
   ]
  },
  {
   "cell_type": "code",
   "execution_count": 34,
   "id": "b3bba81b",
   "metadata": {},
   "outputs": [
    {
     "data": {
      "text/plain": [
       "['#детали',\n",
       " '#единорог',\n",
       " '#единорогпиньята',\n",
       " '#единорожка',\n",
       " '#еждинорогпиньятаспб',\n",
       " '#заказпиньят',\n",
       " '#пиньята',\n",
       " '#пиньятаспб',\n",
       " '#пиньятаединорож',\n",
       " '#спб',\n",
       " '#санктпетербург',\n",
       " '#чтоподарить',\n",
       " '#заказ',\n",
       " '#подарок']"
      ]
     },
     "execution_count": 34,
     "metadata": {},
     "output_type": "execute_result"
    }
   ],
   "source": [
    "df.loc[8]['hashtags']"
   ]
  },
  {
   "cell_type": "code",
   "execution_count": 35,
   "id": "f5ed0dc2",
   "metadata": {},
   "outputs": [
    {
     "name": "stdout",
     "output_type": "stream",
     "text": [
      "2516830  were renamed to unique names\n"
     ]
    }
   ],
   "source": [
    "df = rename_tags(df, tags)"
   ]
  },
  {
   "cell_type": "code",
   "execution_count": 36,
   "id": "8b7efe61",
   "metadata": {},
   "outputs": [
    {
     "data": {
      "text/plain": [
       "{'#детали',\n",
       " '#единорог',\n",
       " '#единорогпиньята',\n",
       " '#единорожка',\n",
       " '#еждинорогпиньятаспб',\n",
       " '#заказ',\n",
       " '#заказпиньят',\n",
       " '#пиньята',\n",
       " '#пиньятаединорож',\n",
       " '#пиньятаспб',\n",
       " '#подарок',\n",
       " '#чтоподарить',\n",
       " 'renamed_tag0',\n",
       " 'renamed_tag1'}"
      ]
     },
     "execution_count": 36,
     "metadata": {},
     "output_type": "execute_result"
    }
   ],
   "source": [
    "df.loc[8]['hashtags']"
   ]
  },
  {
   "cell_type": "code",
   "execution_count": 37,
   "id": "fb9b3e2c",
   "metadata": {},
   "outputs": [],
   "source": [
    "transactions = df['hashtags'].tolist()"
   ]
  },
  {
   "cell_type": "code",
   "execution_count": 38,
   "id": "7b93b866",
   "metadata": {},
   "outputs": [
    {
     "name": "stdout",
     "output_type": "stream",
     "text": [
      "CPU times: user 1min 49s, sys: 8.86 s, total: 1min 57s\n",
      "Wall time: 1min 58s\n"
     ]
    }
   ],
   "source": [
    "%%time\n",
    "result_df2, tags2 = do_apriori(transactions, 0.0027823)"
   ]
  },
  {
   "cell_type": "code",
   "execution_count": 56,
   "id": "a080ace4",
   "metadata": {},
   "outputs": [
    {
     "name": "stdout",
     "output_type": "stream",
     "text": [
      "108216  were renamed to unique names\n"
     ]
    }
   ],
   "source": [
    "df = rename_tags(df, tags2)"
   ]
  },
  {
   "cell_type": "code",
   "execution_count": 57,
   "id": "a0efa1ae",
   "metadata": {},
   "outputs": [],
   "source": [
    "transactions = df['hashtags'].tolist()"
   ]
  },
  {
   "cell_type": "code",
   "execution_count": null,
   "id": "aa49b923",
   "metadata": {},
   "outputs": [],
   "source": [
    "%%time\n",
    "result_df3, tags3 = do_apriori(transactions, 0.0027)"
   ]
  },
  {
   "cell_type": "code",
   "execution_count": 61,
   "id": "20848e67",
   "metadata": {},
   "outputs": [
    {
     "ename": "NameError",
     "evalue": "name 'tags3' is not defined",
     "output_type": "error",
     "traceback": [
      "\u001b[0;31m\u001b[0m",
      "\u001b[0;31mNameError\u001b[0mTraceback (most recent call last)",
      "\u001b[0;32m<ipython-input-61-0761d8df6b87>\u001b[0m in \u001b[0;36m<module>\u001b[0;34m\u001b[0m\n\u001b[0;32m----> 1\u001b[0;31m \u001b[0mtags3\u001b[0m\u001b[0;34m\u001b[0m\u001b[0;34m\u001b[0m\u001b[0m\n\u001b[0m",
      "\u001b[0;31mNameError\u001b[0m: name 'tags3' is not defined"
     ]
    }
   ],
   "source": [
    "tags3"
   ]
  },
  {
   "cell_type": "code",
   "execution_count": 59,
   "id": "e37f029a",
   "metadata": {},
   "outputs": [
    {
     "ename": "NameError",
     "evalue": "name 'tags3' is not defined",
     "output_type": "error",
     "traceback": [
      "\u001b[0;31m\u001b[0m",
      "\u001b[0;31mNameError\u001b[0mTraceback (most recent call last)",
      "\u001b[0;32m<ipython-input-59-8222c81911c8>\u001b[0m in \u001b[0;36m<module>\u001b[0;34m\u001b[0m\n\u001b[0;32m----> 1\u001b[0;31m \u001b[0mdf\u001b[0m \u001b[0;34m=\u001b[0m \u001b[0mrename_tags\u001b[0m\u001b[0;34m(\u001b[0m\u001b[0mdf\u001b[0m\u001b[0;34m,\u001b[0m \u001b[0mtags3\u001b[0m\u001b[0;34m)\u001b[0m\u001b[0;34m\u001b[0m\u001b[0;34m\u001b[0m\u001b[0m\n\u001b[0m",
      "\u001b[0;31mNameError\u001b[0m: name 'tags3' is not defined"
     ]
    }
   ],
   "source": [
    "df = rename_tags(df, tags3)"
   ]
  },
  {
   "cell_type": "code",
   "execution_count": null,
   "id": "57305464",
   "metadata": {},
   "outputs": [],
   "source": [
    "transactions = df['hashtags'].tolist()"
   ]
  },
  {
   "cell_type": "code",
   "execution_count": null,
   "id": "77a480bd",
   "metadata": {},
   "outputs": [],
   "source": [
    "%%time\n",
    "result_df4, tags4 = do_apriori(transactions, 0.001)"
   ]
  },
  {
   "cell_type": "code",
   "execution_count": null,
   "id": "37472f51",
   "metadata": {},
   "outputs": [],
   "source": [
    "df = rename_tags(df, tags4)"
   ]
  },
  {
   "cell_type": "code",
   "execution_count": null,
   "id": "7cb02de0",
   "metadata": {},
   "outputs": [],
   "source": [
    "transactions = df['hashtags'].tolist()"
   ]
  },
  {
   "cell_type": "code",
   "execution_count": null,
   "id": "e3223054",
   "metadata": {},
   "outputs": [],
   "source": [
    "%%time\n",
    "result_df5, tags5 = do_apriori(transactions, 0.0009)"
   ]
  },
  {
   "cell_type": "code",
   "execution_count": null,
   "id": "2a392af1",
   "metadata": {},
   "outputs": [],
   "source": [
    "df = rename_tags(df, tags5)"
   ]
  },
  {
   "cell_type": "code",
   "execution_count": null,
   "id": "4d2d4526",
   "metadata": {},
   "outputs": [],
   "source": [
    "transactions = df['hashtags'].tolist()"
   ]
  },
  {
   "cell_type": "code",
   "execution_count": null,
   "id": "9913dd5c",
   "metadata": {},
   "outputs": [],
   "source": [
    "%%time\n",
    "result_df6, tags6 = do_apriori(transactions, 0.0008)"
   ]
  },
  {
   "cell_type": "code",
   "execution_count": null,
   "id": "6958e57c",
   "metadata": {},
   "outputs": [],
   "source": [
    "df = rename_tags(df, tags6)"
   ]
  },
  {
   "cell_type": "code",
   "execution_count": null,
   "id": "e4895a02",
   "metadata": {},
   "outputs": [],
   "source": [
    "transactions = df['hashtags'].tolist()"
   ]
  },
  {
   "cell_type": "code",
   "execution_count": null,
   "id": "fcab8a9f",
   "metadata": {},
   "outputs": [],
   "source": [
    "%%time\n",
    "result_df7, tags7 = do_apriori(transactions, 0.0006)"
   ]
  },
  {
   "cell_type": "code",
   "execution_count": null,
   "id": "0130dd45",
   "metadata": {},
   "outputs": [],
   "source": [
    "df = rename_tags(df, tags7)"
   ]
  },
  {
   "cell_type": "markdown",
   "id": "de12208c",
   "metadata": {},
   "source": [
    "### LONDON 2019"
   ]
  },
  {
   "cell_type": "code",
   "execution_count": null,
   "id": "55a48e72",
   "metadata": {},
   "outputs": [],
   "source": [
    "df_london = pd.read_csv('../../data/instagram_posts/london_posts_2019.csv', sep=',')\n",
    "df = df_london\n",
    "df"
   ]
  },
  {
   "cell_type": "code",
   "execution_count": null,
   "id": "a368b6ea",
   "metadata": {},
   "outputs": [],
   "source": [
    "df = df.dropna()\n",
    "df['caption'] = df['caption'].apply(change_endline)\n",
    "df['hashtags'] = df['caption'].apply(extract_hashtags)\n",
    "df = df.dropna()"
   ]
  },
  {
   "cell_type": "code",
   "execution_count": null,
   "id": "b509c812",
   "metadata": {},
   "outputs": [],
   "source": [
    "transactions = df['hashtags'].tolist()\n",
    "post_count = df.shape[0]\n",
    "transactions[1:4]"
   ]
  },
  {
   "cell_type": "markdown",
   "id": "de9d9df0",
   "metadata": {},
   "source": [
    "layer 1"
   ]
  },
  {
   "cell_type": "code",
   "execution_count": null,
   "id": "b30388d0",
   "metadata": {},
   "outputs": [],
   "source": [
    "%%time\n",
    "# min support is foind iteratively to prevent large computations\n",
    "result8 = list(apyori.apriori(transactions, min_support = 0.004, min_confidence = 0.75, min_lift = 1.2, min_length = 2))"
   ]
  },
  {
   "cell_type": "code",
   "execution_count": null,
   "id": "06054b1b",
   "metadata": {},
   "outputs": [],
   "source": [
    "temp = []\n",
    "for i in range(len(result8)):\n",
    "  temp.append([list(result8[i][0]), result8[i][1], result8[i][2][0][2], result8[i][2][0][3]])\n",
    "\n",
    "apyori_inst_london = pd.DataFrame(temp, columns = ['items', 'support', 'confidence', 'lift'])\n",
    "apyori_inst_london.sort_values(by=['confidence'], ascending=False)"
   ]
  },
  {
   "cell_type": "code",
   "execution_count": null,
   "id": "021338b8",
   "metadata": {},
   "outputs": [],
   "source": [
    "adv_tags = set(apyori_inst_london['items'].sum())\n",
    "df['hashtags'] = df['hashtags'].apply(delete_adv)\n",
    "adv_tags"
   ]
  },
  {
   "cell_type": "code",
   "execution_count": null,
   "id": "f0d5ecaa",
   "metadata": {},
   "outputs": [],
   "source": [
    "prev_shape = df.shape[0]\n",
    "df = df.dropna()\n",
    "new_shape = df.shape[0]\n",
    "print(prev_shape - new_shape, ' posts were deleted, percentage:', (prev_shape - new_shape)/post_count)"
   ]
  },
  {
   "cell_type": "markdown",
   "id": "d72bed9d",
   "metadata": {},
   "source": [
    "layer 2"
   ]
  },
  {
   "cell_type": "code",
   "execution_count": null,
   "id": "6f929fcf",
   "metadata": {},
   "outputs": [],
   "source": [
    "transactions = df['hashtags'].tolist()"
   ]
  },
  {
   "cell_type": "code",
   "execution_count": null,
   "id": "498b70ba",
   "metadata": {},
   "outputs": [],
   "source": [
    "%%time\n",
    "# min support is foind iteratively to prevent large computations\n",
    "result8 = list(apyori.apriori(transactions, min_support = 0.002, min_confidence = 0.75, min_lift = 1.2, min_length = 2))"
   ]
  },
  {
   "cell_type": "code",
   "execution_count": null,
   "id": "4eec4e0c",
   "metadata": {},
   "outputs": [],
   "source": [
    "temp = []\n",
    "for i in range(len(result8)):\n",
    "  temp.append([list(result8[i][0]), result8[i][1], result8[i][2][0][2], result8[i][2][0][3]])\n",
    "\n",
    "apyori_inst_london = pd.DataFrame(temp, columns = ['items', 'support', 'confidence', 'lift'])\n",
    "apyori_inst_london.sort_values(by=['confidence'], ascending=False)"
   ]
  },
  {
   "cell_type": "code",
   "execution_count": null,
   "id": "efde6bc3",
   "metadata": {},
   "outputs": [],
   "source": [
    "adv_tags = set(apyori_inst_london['items'].sum())\n",
    "df['hashtags'] = df['hashtags'].apply(delete_adv)\n",
    "adv_tags"
   ]
  },
  {
   "cell_type": "code",
   "execution_count": null,
   "id": "30b659e5",
   "metadata": {},
   "outputs": [],
   "source": [
    "prev_shape = df.shape[0]\n",
    "df = df.dropna()\n",
    "new_shape = df.shape[0]\n",
    "print(prev_shape - new_shape, ' posts were deleted, percentage:', (prev_shape - new_shape)/post_count)"
   ]
  },
  {
   "cell_type": "markdown",
   "id": "ef60d1e1",
   "metadata": {},
   "source": [
    "layer 3"
   ]
  },
  {
   "cell_type": "code",
   "execution_count": null,
   "id": "a5f7de33",
   "metadata": {},
   "outputs": [],
   "source": [
    "transactions = df['hashtags'].tolist()"
   ]
  },
  {
   "cell_type": "code",
   "execution_count": null,
   "id": "758b7707",
   "metadata": {},
   "outputs": [],
   "source": [
    "%%time\n",
    "# min support is foind iteratively to prevent large computations\n",
    "result8 = list(apyori.apriori(transactions, min_support = 0.001, min_confidence = 0.75, min_lift = 1.2, min_length = 2))"
   ]
  },
  {
   "cell_type": "code",
   "execution_count": null,
   "id": "8b2d1b9f",
   "metadata": {},
   "outputs": [],
   "source": [
    "temp = []\n",
    "for i in range(len(result8)):\n",
    "  temp.append([list(result8[i][0]), result8[i][1], result8[i][2][0][2], result8[i][2][0][3]])\n",
    "\n",
    "apyori_inst_london = pd.DataFrame(temp, columns = ['items', 'support', 'confidence', 'lift'])\n",
    "apyori_inst_london.sort_values(by=['support'], ascending=False)"
   ]
  },
  {
   "cell_type": "code",
   "execution_count": null,
   "id": "264aa75c",
   "metadata": {},
   "outputs": [],
   "source": [
    "adv_tags = set(apyori_inst_london['items'].sum())\n",
    "df['hashtags'] = df['hashtags'].apply(delete_adv)\n",
    "adv_tags"
   ]
  },
  {
   "cell_type": "code",
   "execution_count": null,
   "id": "94a3a181",
   "metadata": {},
   "outputs": [],
   "source": [
    "prev_shape = df.shape[0]\n",
    "df = df.dropna()\n",
    "new_shape = df.shape[0]\n",
    "print(prev_shape - new_shape, ' posts were deleted, percentage:', (prev_shape - new_shape)/post_count)"
   ]
  },
  {
   "cell_type": "markdown",
   "id": "66bdcc1a",
   "metadata": {},
   "source": [
    "layer 4"
   ]
  },
  {
   "cell_type": "code",
   "execution_count": null,
   "id": "03bc1fcc",
   "metadata": {},
   "outputs": [],
   "source": [
    "transactions = df['hashtags'].tolist()"
   ]
  },
  {
   "cell_type": "code",
   "execution_count": null,
   "id": "e66cf93b",
   "metadata": {},
   "outputs": [],
   "source": [
    "%%time\n",
    "# min support is foind iteratively to prevent large computations\n",
    "result8 = list(apyori.apriori(transactions, min_support = 0.0005, min_confidence = 0.75, min_lift = 1.2, min_length = 2))"
   ]
  },
  {
   "cell_type": "code",
   "execution_count": null,
   "id": "14ff4877",
   "metadata": {},
   "outputs": [],
   "source": [
    "temp = []\n",
    "for i in range(len(result8)):\n",
    "  temp.append([list(result8[i][0]), result8[i][1], result8[i][2][0][2], result8[i][2][0][3]])\n",
    "\n",
    "apyori_inst_london = pd.DataFrame(temp, columns = ['items', 'support', 'confidence', 'lift'])\n",
    "apyori_inst_london.sort_values(by=['confidence'], ascending=False)"
   ]
  },
  {
   "cell_type": "code",
   "execution_count": null,
   "id": "67af55af",
   "metadata": {},
   "outputs": [],
   "source": [
    "adv_tags = set(apyori_inst_london['items'].sum())\n",
    "df['hashtags'] = df['hashtags'].apply(delete_adv)\n",
    "adv_tags"
   ]
  },
  {
   "cell_type": "code",
   "execution_count": null,
   "id": "09d794cb",
   "metadata": {},
   "outputs": [],
   "source": [
    "prev_shape = df.shape[0]\n",
    "df = df.dropna()\n",
    "new_shape = df.shape[0]\n",
    "print(prev_shape - new_shape, ' posts were deleted, percentage:', (prev_shape - new_shape)/post_count)"
   ]
  },
  {
   "cell_type": "markdown",
   "id": "739475b8",
   "metadata": {},
   "source": [
    "# MOSCOW 2019"
   ]
  },
  {
   "cell_type": "code",
   "execution_count": null,
   "id": "3a1b7f49",
   "metadata": {},
   "outputs": [],
   "source": [
    "df_moscow = pd.read_csv('../../data/instagram_posts/moscow_posts_2019.csv', sep=',')\n",
    "df = df_moscow\n",
    "df"
   ]
  },
  {
   "cell_type": "code",
   "execution_count": null,
   "id": "4075cd26",
   "metadata": {},
   "outputs": [],
   "source": [
    "df = df.dropna()\n",
    "df['caption'] = df['caption'].apply(change_endline)\n",
    "df['hashtags'] = df['caption'].apply(extract_hashtags)\n",
    "df = df.dropna()\n",
    "transactions = df['hashtags'].tolist()\n",
    "post_count = df.shape[0]\n",
    "transactions[1:4]"
   ]
  },
  {
   "cell_type": "markdown",
   "id": "76bbf481",
   "metadata": {},
   "source": [
    "layer 1"
   ]
  },
  {
   "cell_type": "code",
   "execution_count": null,
   "id": "d544d317",
   "metadata": {},
   "outputs": [],
   "source": [
    "%%time\n",
    "# min support is foind iteratively to prevent large computations\n",
    "result8 = list(apyori.apriori(transactions, min_support = 0.003, min_confidence = 0.75, min_lift = 1.2, min_length = 2))"
   ]
  },
  {
   "cell_type": "code",
   "execution_count": null,
   "id": "dd460180",
   "metadata": {},
   "outputs": [],
   "source": [
    "temp = []\n",
    "for i in range(len(result8)):\n",
    "  temp.append([list(result8[i][0]), result8[i][1], result8[i][2][0][2], result8[i][2][0][3]])\n",
    "\n",
    "apyori_inst_moscow = pd.DataFrame(temp, columns = ['items', 'support', 'confidence', 'lift'])\n",
    "apyori_inst_moscow.sort_values(by=['confidence'], ascending=False)"
   ]
  },
  {
   "cell_type": "code",
   "execution_count": null,
   "id": "ef60feca",
   "metadata": {},
   "outputs": [],
   "source": [
    "adv_tags = set(apyori_inst_moscow['items'].sum())\n",
    "df['hashtags'] = df['hashtags'].apply(delete_adv)\n",
    "adv_tags"
   ]
  },
  {
   "cell_type": "code",
   "execution_count": null,
   "id": "a6680a35",
   "metadata": {},
   "outputs": [],
   "source": [
    "prev_shape = df.shape[0]\n",
    "df = df.dropna()\n",
    "new_shape = df.shape[0]\n",
    "print(prev_shape - new_shape, ' posts were deleted, percentage:', (prev_shape - new_shape)/post_count)"
   ]
  },
  {
   "cell_type": "markdown",
   "id": "79212ccd",
   "metadata": {},
   "source": [
    "layer 2"
   ]
  },
  {
   "cell_type": "code",
   "execution_count": null,
   "id": "4924ec10",
   "metadata": {},
   "outputs": [],
   "source": [
    "transactions = df['hashtags'].tolist()"
   ]
  },
  {
   "cell_type": "code",
   "execution_count": null,
   "id": "db855bb3",
   "metadata": {},
   "outputs": [],
   "source": [
    "%%time\n",
    "# min support is foind iteratively to prevent large computations\n",
    "result8 = list(apyori.apriori(transactions, min_support = 0.002, min_confidence = 0.75, min_lift = 1.2, min_length = 2))"
   ]
  },
  {
   "cell_type": "code",
   "execution_count": null,
   "id": "e8736499",
   "metadata": {},
   "outputs": [],
   "source": [
    "temp = []\n",
    "for i in range(len(result8)):\n",
    "  temp.append([list(result8[i][0]), result8[i][1], result8[i][2][0][2], result8[i][2][0][3]])\n",
    "\n",
    "apyori_inst_moscow = pd.DataFrame(temp, columns = ['items', 'support', 'confidence', 'lift'])\n",
    "apyori_inst_moscow.sort_values(by=['confidence'], ascending=False)"
   ]
  },
  {
   "cell_type": "code",
   "execution_count": null,
   "id": "5b7ccac0",
   "metadata": {},
   "outputs": [],
   "source": [
    "adv_tags = set(apyori_inst_moscow['items'].sum())\n",
    "df['hashtags'] = df['hashtags'].apply(delete_adv)\n",
    "adv_tags"
   ]
  },
  {
   "cell_type": "code",
   "execution_count": null,
   "id": "a5f98a9d",
   "metadata": {},
   "outputs": [],
   "source": [
    "prev_shape = df.shape[0]\n",
    "df = df.dropna()\n",
    "new_shape = df.shape[0]\n",
    "print(prev_shape - new_shape, ' posts were deleted, percentage:', (prev_shape - new_shape)/post_count)"
   ]
  },
  {
   "cell_type": "markdown",
   "id": "ce0bfb1f",
   "metadata": {},
   "source": [
    "layer 3"
   ]
  },
  {
   "cell_type": "code",
   "execution_count": null,
   "id": "1eae3c64",
   "metadata": {},
   "outputs": [],
   "source": [
    "transactions = df['hashtags'].tolist()"
   ]
  },
  {
   "cell_type": "code",
   "execution_count": null,
   "id": "7134a8c8",
   "metadata": {},
   "outputs": [],
   "source": [
    "%%time\n",
    "# min support is foind iteratively to prevent large computations\n",
    "result8 = list(apyori.apriori(transactions, min_support = 0.001, min_confidence = 0.75, min_lift = 1.2, min_length = 2))"
   ]
  },
  {
   "cell_type": "code",
   "execution_count": null,
   "id": "6e51e154",
   "metadata": {},
   "outputs": [],
   "source": [
    "temp = []\n",
    "for i in range(len(result8)):\n",
    "  temp.append([list(result8[i][0]), result8[i][1], result8[i][2][0][2], result8[i][2][0][3]])\n",
    "\n",
    "apyori_inst_moscow = pd.DataFrame(temp, columns = ['items', 'support', 'confidence', 'lift'])\n",
    "apyori_inst_moscow.sort_values(by=['confidence'], ascending=False)"
   ]
  },
  {
   "cell_type": "code",
   "execution_count": null,
   "id": "6ef65b5a",
   "metadata": {},
   "outputs": [],
   "source": [
    "adv_tags = set(apyori_inst_moscow['items'].sum())\n",
    "df['hashtags'] = df['hashtags'].apply(delete_adv)\n",
    "adv_tags"
   ]
  },
  {
   "cell_type": "code",
   "execution_count": null,
   "id": "192ecac2",
   "metadata": {},
   "outputs": [],
   "source": [
    "prev_shape = df.shape[0]\n",
    "df = df.dropna()\n",
    "new_shape = df.shape[0]\n",
    "print(prev_shape - new_shape, ' posts were deleted, percentage:', (prev_shape - new_shape)/post_count)"
   ]
  },
  {
   "cell_type": "markdown",
   "id": "61f6ac75",
   "metadata": {},
   "source": [
    "layer 4"
   ]
  },
  {
   "cell_type": "code",
   "execution_count": null,
   "id": "76d83a24",
   "metadata": {},
   "outputs": [],
   "source": [
    "transactions = df['hashtags'].tolist()"
   ]
  },
  {
   "cell_type": "code",
   "execution_count": null,
   "id": "0695f623",
   "metadata": {},
   "outputs": [],
   "source": [
    "%%time\n",
    "# min support is foind iteratively to prevent large computations\n",
    "result8 = list(apyori.apriori(transactions, min_support = 0.0009, min_confidence = 0.75, min_lift = 1.2, min_length = 2))"
   ]
  },
  {
   "cell_type": "code",
   "execution_count": null,
   "id": "9e2b5b75",
   "metadata": {},
   "outputs": [],
   "source": [
    "temp = []\n",
    "for i in range(len(result8)):\n",
    "  temp.append([list(result8[i][0]), result8[i][1], result8[i][2][0][2], result8[i][2][0][3]])\n",
    "\n",
    "apyori_inst_moscow = pd.DataFrame(temp, columns = ['items', 'support', 'confidence', 'lift'])\n",
    "apyori_inst_moscow.sort_values(by=['confidence'], ascending=False)"
   ]
  },
  {
   "cell_type": "code",
   "execution_count": null,
   "id": "9f67f1b0",
   "metadata": {},
   "outputs": [],
   "source": [
    "adv_tags = set(apyori_inst_moscow['items'].sum())\n",
    "df['hashtags'] = df['hashtags'].apply(delete_adv)\n",
    "adv_tags"
   ]
  },
  {
   "cell_type": "code",
   "execution_count": null,
   "id": "d34dddd7",
   "metadata": {},
   "outputs": [],
   "source": [
    "prev_shape = df.shape[0]\n",
    "df = df.dropna()\n",
    "new_shape = df.shape[0]\n",
    "print(prev_shape - new_shape, ' posts were deleted, percentage:', (prev_shape - new_shape)/post_count)"
   ]
  },
  {
   "cell_type": "markdown",
   "id": "cad6ffe4",
   "metadata": {},
   "source": [
    "# NYC 2019"
   ]
  },
  {
   "cell_type": "code",
   "execution_count": null,
   "id": "ded1f34b",
   "metadata": {},
   "outputs": [],
   "source": [
    "df_nyc = pd.read_csv('../../data/instagram_posts/nyc_posts_2019.csv', sep=',')\n",
    "df = df_nyc\n",
    "df"
   ]
  },
  {
   "cell_type": "code",
   "execution_count": null,
   "id": "9d2212f9",
   "metadata": {},
   "outputs": [],
   "source": [
    "df = df.dropna()\n",
    "df['caption'] = df['caption'].apply(change_endline)\n",
    "df['hashtags'] = df['caption'].apply(extract_hashtags)\n",
    "df = df.dropna()\n",
    "transactions = df['hashtags'].tolist()\n",
    "post_count = df.shape[0]\n",
    "transactions[1:4]"
   ]
  },
  {
   "cell_type": "markdown",
   "id": "958e8ec1",
   "metadata": {},
   "source": [
    "layer 1"
   ]
  },
  {
   "cell_type": "code",
   "execution_count": null,
   "id": "f88cf1fa",
   "metadata": {},
   "outputs": [],
   "source": [
    "%%time\n",
    "# min support is foind iteratively to prevent large computations\n",
    "result8 = list(apyori.apriori(transactions, min_support = 0.004, min_confidence = 0.75, min_lift = 1.2, min_length = 2))"
   ]
  },
  {
   "cell_type": "code",
   "execution_count": null,
   "id": "aa3d8fab",
   "metadata": {},
   "outputs": [],
   "source": [
    "temp = []\n",
    "for i in range(len(result8)):\n",
    "  temp.append([list(result8[i][0]), result8[i][1], result8[i][2][0][2], result8[i][2][0][3]])\n",
    "\n",
    "apyori_inst_moscow = pd.DataFrame(temp, columns = ['items', 'support', 'confidence', 'lift'])\n",
    "apyori_inst_moscow.sort_values(by=['confidence'], ascending=False)"
   ]
  },
  {
   "cell_type": "code",
   "execution_count": null,
   "id": "9e6afe68",
   "metadata": {},
   "outputs": [],
   "source": [
    "adv_tags = set(apyori_inst_moscow['items'].sum())\n",
    "df['hashtags'] = df['hashtags'].apply(delete_adv)\n",
    "adv_tags"
   ]
  },
  {
   "cell_type": "code",
   "execution_count": null,
   "id": "c4e61f8d",
   "metadata": {},
   "outputs": [],
   "source": [
    "prev_shape = df.shape[0]\n",
    "df = df.dropna()\n",
    "new_shape = df.shape[0]\n",
    "print(prev_shape - new_shape, ' posts were deleted, percentage:', (prev_shape - new_shape)/post_count)"
   ]
  },
  {
   "cell_type": "markdown",
   "id": "668c35f6",
   "metadata": {},
   "source": [
    "layer 2"
   ]
  },
  {
   "cell_type": "code",
   "execution_count": null,
   "id": "20defff6",
   "metadata": {},
   "outputs": [],
   "source": [
    "transactions = df['hashtags'].tolist()"
   ]
  },
  {
   "cell_type": "code",
   "execution_count": null,
   "id": "7c2baeed",
   "metadata": {},
   "outputs": [],
   "source": [
    "%%time\n",
    "# min support is foind iteratively to prevent large computations\n",
    "result8 = list(apyori.apriori(transactions, min_support = 0.002, min_confidence = 0.75, min_lift = 1.2, min_length = 2))"
   ]
  },
  {
   "cell_type": "code",
   "execution_count": null,
   "id": "5c3a77ff",
   "metadata": {},
   "outputs": [],
   "source": [
    "temp = []\n",
    "for i in range(len(result8)):\n",
    "  temp.append([list(result8[i][0]), result8[i][1], result8[i][2][0][2], result8[i][2][0][3]])\n",
    "\n",
    "apyori_inst_moscow = pd.DataFrame(temp, columns = ['items', 'support', 'confidence', 'lift'])\n",
    "apyori_inst_moscow.sort_values(by=['confidence'], ascending=False)"
   ]
  },
  {
   "cell_type": "code",
   "execution_count": null,
   "id": "c8ef2680",
   "metadata": {},
   "outputs": [],
   "source": [
    "adv_tags = set(apyori_inst_moscow['items'].sum())\n",
    "df['hashtags'] = df['hashtags'].apply(delete_adv)\n",
    "adv_tags"
   ]
  },
  {
   "cell_type": "code",
   "execution_count": null,
   "id": "8d98e4c0",
   "metadata": {},
   "outputs": [],
   "source": [
    "prev_shape = df.shape[0]\n",
    "df = df.dropna()\n",
    "new_shape = df.shape[0]\n",
    "print(prev_shape - new_shape, ' posts were deleted, percentage:', (prev_shape - new_shape)/post_count)"
   ]
  },
  {
   "cell_type": "markdown",
   "id": "31bb17cc",
   "metadata": {},
   "source": [
    "layer 3"
   ]
  },
  {
   "cell_type": "code",
   "execution_count": null,
   "id": "44a06e71",
   "metadata": {},
   "outputs": [],
   "source": [
    "transactions = df['hashtags'].tolist()"
   ]
  },
  {
   "cell_type": "code",
   "execution_count": null,
   "id": "a5d1e2c2",
   "metadata": {},
   "outputs": [],
   "source": [
    "%%time\n",
    "# min support is foind iteratively to prevent large computations\n",
    "result8 = list(apyori.apriori(transactions, min_support = 0.001, min_confidence = 0.75, min_lift = 1.2, min_length = 2))"
   ]
  },
  {
   "cell_type": "code",
   "execution_count": null,
   "id": "4402befe",
   "metadata": {},
   "outputs": [],
   "source": [
    "temp = []\n",
    "for i in range(len(result8)):\n",
    "  temp.append([list(result8[i][0]), result8[i][1], result8[i][2][0][2], result8[i][2][0][3]])\n",
    "\n",
    "apyori_inst_moscow = pd.DataFrame(temp, columns = ['items', 'support', 'confidence', 'lift'])\n",
    "apyori_inst_moscow.sort_values(by=['confidence'], ascending=False)"
   ]
  },
  {
   "cell_type": "code",
   "execution_count": null,
   "id": "70dc5699",
   "metadata": {},
   "outputs": [],
   "source": [
    "adv_tags = set(apyori_inst_moscow['items'].sum())\n",
    "df['hashtags'] = df['hashtags'].apply(delete_adv)\n",
    "adv_tags"
   ]
  },
  {
   "cell_type": "code",
   "execution_count": null,
   "id": "a731727d",
   "metadata": {},
   "outputs": [],
   "source": [
    "prev_shape = df.shape[0]\n",
    "df = df.dropna()\n",
    "new_shape = df.shape[0]\n",
    "print(prev_shape - new_shape, ' posts were deleted, percentage:', (prev_shape - new_shape)/post_count)"
   ]
  },
  {
   "cell_type": "markdown",
   "id": "b525fe6c",
   "metadata": {},
   "source": [
    "layer 4"
   ]
  },
  {
   "cell_type": "code",
   "execution_count": null,
   "id": "e7a75fdd",
   "metadata": {},
   "outputs": [],
   "source": [
    "transactions = df['hashtags'].tolist()"
   ]
  },
  {
   "cell_type": "code",
   "execution_count": null,
   "id": "d9ad1b59",
   "metadata": {},
   "outputs": [],
   "source": [
    "%%time\n",
    "# min support is foind iteratively to prevent large computations\n",
    "result8 = list(apyori.apriori(transactions, min_support = 0.0009, min_confidence = 0.75, min_lift = 1.2, min_length = 2))"
   ]
  },
  {
   "cell_type": "code",
   "execution_count": null,
   "id": "17aa5c55",
   "metadata": {},
   "outputs": [],
   "source": [
    "temp = []\n",
    "for i in range(len(result8)):\n",
    "  temp.append([list(result8[i][0]), result8[i][1], result8[i][2][0][2], result8[i][2][0][3]])\n",
    "\n",
    "apyori_inst_moscow = pd.DataFrame(temp, columns = ['items', 'support', 'confidence', 'lift'])\n",
    "apyori_inst_moscow.sort_values(by=['confidence'], ascending=False)"
   ]
  },
  {
   "cell_type": "code",
   "execution_count": null,
   "id": "0af9c098",
   "metadata": {},
   "outputs": [],
   "source": [
    "adv_tags = set(apyori_inst_moscow['items'].sum())\n",
    "df['hashtags'] = df['hashtags'].apply(delete_adv)\n",
    "adv_tags"
   ]
  },
  {
   "cell_type": "code",
   "execution_count": null,
   "id": "f432c6ae",
   "metadata": {},
   "outputs": [],
   "source": [
    "prev_shape = df.shape[0]\n",
    "df = df.dropna()\n",
    "new_shape = df.shape[0]\n",
    "print(prev_shape - new_shape, ' posts were deleted, percentage:', (prev_shape - new_shape)/post_count)"
   ]
  },
  {
   "cell_type": "code",
   "execution_count": null,
   "id": "20091a32",
   "metadata": {},
   "outputs": [],
   "source": []
  },
  {
   "cell_type": "code",
   "execution_count": null,
   "id": "9c4ca48e",
   "metadata": {},
   "outputs": [],
   "source": []
  },
  {
   "cell_type": "code",
   "execution_count": null,
   "id": "b4a20905",
   "metadata": {},
   "outputs": [],
   "source": []
  },
  {
   "cell_type": "code",
   "execution_count": null,
   "id": "55650e5b",
   "metadata": {},
   "outputs": [],
   "source": []
  }
 ],
 "metadata": {
  "kernelspec": {
   "display_name": "Python 3",
   "language": "python",
   "name": "python3"
  },
  "language_info": {
   "codemirror_mode": {
    "name": "ipython",
    "version": 3
   },
   "file_extension": ".py",
   "mimetype": "text/x-python",
   "name": "python",
   "nbconvert_exporter": "python",
   "pygments_lexer": "ipython3",
   "version": "3.8.8"
  }
 },
 "nbformat": 4,
 "nbformat_minor": 5
}
