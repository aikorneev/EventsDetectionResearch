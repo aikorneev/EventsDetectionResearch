{
 "cells": [
  {
   "cell_type": "code",
   "execution_count": 1,
   "id": "1ba9ff4c",
   "metadata": {},
   "outputs": [],
   "source": [
    "import apyori"
   ]
  },
  {
   "cell_type": "code",
   "execution_count": 2,
   "id": "f1cdc05d",
   "metadata": {},
   "outputs": [],
   "source": [
    "import pandas as pd\n",
    "import numpy as np\n",
    "import re"
   ]
  },
  {
   "cell_type": "code",
   "execution_count": 3,
   "id": "3c41f8b9",
   "metadata": {},
   "outputs": [
    {
     "name": "stdout",
     "output_type": "stream",
     "text": [
      "['.Trash-0', '.ipynb_checkpoints', 'Untitled.ipynb', 'InstARL.ipynb']\n",
      "['apyori_inst_spb003092.csv', 'apyori_inst_spb00035.csv', 'apyori_inst_spbf.csv', 'apyori_inst_spb00031.csv', 'apyori_inst_spb0004.csv', 'apyori_inst_spb003095.csv', 'spb_posts_2019.csv', 'kudago_data', 'apyori_inst_spb003091.csv', 'apyori_inst_spb0005.csv', 'apyory']\n"
     ]
    }
   ],
   "source": [
    "#df = pd.read_csv('./events.csv', sep=',')\n",
    "import os\n",
    "import sys\n",
    "print(os.listdir('./'))\n",
    "print(os.listdir('../../data'))"
   ]
  },
  {
   "cell_type": "code",
   "execution_count": 4,
   "id": "6315d7c9",
   "metadata": {},
   "outputs": [],
   "source": [
    "df0 = pd.read_csv('../../data/spb_posts_2019.csv', sep=',')"
   ]
  },
  {
   "cell_type": "code",
   "execution_count": 5,
   "id": "68bade95",
   "metadata": {},
   "outputs": [],
   "source": [
    "df = df0"
   ]
  },
  {
   "cell_type": "code",
   "execution_count": 6,
   "id": "c3e83331",
   "metadata": {},
   "outputs": [],
   "source": [
    "df = df.dropna()"
   ]
  },
  {
   "cell_type": "code",
   "execution_count": 7,
   "id": "2972436a",
   "metadata": {},
   "outputs": [],
   "source": [
    "def change_endline(x):\n",
    "    return x.replace('\\n',' ')"
   ]
  },
  {
   "cell_type": "code",
   "execution_count": 8,
   "id": "41ceae42",
   "metadata": {},
   "outputs": [
    {
     "name": "stderr",
     "output_type": "stream",
     "text": [
      "<ipython-input-8-b35854d849bd>:1: SettingWithCopyWarning: \n",
      "A value is trying to be set on a copy of a slice from a DataFrame.\n",
      "Try using .loc[row_indexer,col_indexer] = value instead\n",
      "\n",
      "See the caveats in the documentation: https://pandas.pydata.org/pandas-docs/stable/user_guide/indexing.html#returning-a-view-versus-a-copy\n",
      "  df['caption'] = df['caption'].apply(change_endline)\n"
     ]
    }
   ],
   "source": [
    "df['caption'] = df['caption'].apply(change_endline)"
   ]
  },
  {
   "cell_type": "code",
   "execution_count": 9,
   "id": "383021d7",
   "metadata": {},
   "outputs": [],
   "source": [
    "def extract_hashtags(x):\n",
    "    x = x.replace('#', ' #')\n",
    "    tags = re.findall(r'(#\\S+?)\\s', x)\n",
    "    #tags = set(re.findall(r'(#\\S+?)\\s', x)) #exclude the same tags\n",
    "    #normalize hashtags\n",
    "    return tags if len(tags) else np.nan"
   ]
  },
  {
   "cell_type": "code",
   "execution_count": 10,
   "id": "f1b71431",
   "metadata": {},
   "outputs": [
    {
     "name": "stderr",
     "output_type": "stream",
     "text": [
      "<ipython-input-10-729f407e40bb>:1: SettingWithCopyWarning: \n",
      "A value is trying to be set on a copy of a slice from a DataFrame.\n",
      "Try using .loc[row_indexer,col_indexer] = value instead\n",
      "\n",
      "See the caveats in the documentation: https://pandas.pydata.org/pandas-docs/stable/user_guide/indexing.html#returning-a-view-versus-a-copy\n",
      "  df['hashtags'] = df['caption'].apply(extract_hashtags)\n"
     ]
    }
   ],
   "source": [
    "df['hashtags'] = df['caption'].apply(extract_hashtags)"
   ]
  },
  {
   "cell_type": "code",
   "execution_count": 11,
   "id": "4c76d852",
   "metadata": {},
   "outputs": [],
   "source": [
    "df = df.dropna()"
   ]
  },
  {
   "cell_type": "code",
   "execution_count": 12,
   "id": "bcb91a65",
   "metadata": {
    "scrolled": true
   },
   "outputs": [
    {
     "data": {
      "text/html": [
       "<div>\n",
       "<style scoped>\n",
       "    .dataframe tbody tr th:only-of-type {\n",
       "        vertical-align: middle;\n",
       "    }\n",
       "\n",
       "    .dataframe tbody tr th {\n",
       "        vertical-align: top;\n",
       "    }\n",
       "\n",
       "    .dataframe thead th {\n",
       "        text-align: right;\n",
       "    }\n",
       "</style>\n",
       "<table border=\"1\" class=\"dataframe\">\n",
       "  <thead>\n",
       "    <tr style=\"text-align: right;\">\n",
       "      <th></th>\n",
       "      <th>id</th>\n",
       "      <th>shortcode</th>\n",
       "      <th>imageurl</th>\n",
       "      <th>isvideo</th>\n",
       "      <th>caption</th>\n",
       "      <th>commentscount</th>\n",
       "      <th>timestamp</th>\n",
       "      <th>likescount</th>\n",
       "      <th>isad</th>\n",
       "      <th>authorid</th>\n",
       "      <th>locationid</th>\n",
       "      <th>lat</th>\n",
       "      <th>lon</th>\n",
       "      <th>hashtags</th>\n",
       "    </tr>\n",
       "  </thead>\n",
       "  <tbody>\n",
       "    <tr>\n",
       "      <th>0</th>\n",
       "      <td>2100487392867125154</td>\n",
       "      <td>B0mbierCAei</td>\n",
       "      <td>https://scontent-dfw5-1.cdninstagram.com/v/t51...</td>\n",
       "      <td>f</td>\n",
       "      <td>DEATH 💀GUITARIST 🎸DANCING 💃 UNIQUE CONTENT 🔥 М...</td>\n",
       "      <td>3</td>\n",
       "      <td>1564617631</td>\n",
       "      <td>50</td>\n",
       "      <td>f</td>\n",
       "      <td>2895837725</td>\n",
       "      <td>409734806</td>\n",
       "      <td>60.002420</td>\n",
       "      <td>30.296490</td>\n",
       "      <td>[#мертвый, #гитарист, #гитара, #прыгун, #death...</td>\n",
       "    </tr>\n",
       "    <tr>\n",
       "      <th>3</th>\n",
       "      <td>2101062776215474217</td>\n",
       "      <td>B0oeXaLHpAp</td>\n",
       "      <td>https://scontent-dfw5-2.cdninstagram.com/v/t51...</td>\n",
       "      <td>f</td>\n",
       "      <td>Мои девочки 💛❤️💜 Такие редкие и долгожданные в...</td>\n",
       "      <td>3</td>\n",
       "      <td>1564686222</td>\n",
       "      <td>74</td>\n",
       "      <td>f</td>\n",
       "      <td>654993988</td>\n",
       "      <td>1020316384</td>\n",
       "      <td>59.957330</td>\n",
       "      <td>30.297810</td>\n",
       "      <td>[#13летвместе]</td>\n",
       "    </tr>\n",
       "    <tr>\n",
       "      <th>5</th>\n",
       "      <td>2100490830881135651</td>\n",
       "      <td>B0mcUgkopwj</td>\n",
       "      <td>https://scontent-dfw5-1.cdninstagram.com/v/t51...</td>\n",
       "      <td>f</td>\n",
       "      <td>Мы с Петром проверяем кто во сколько просыпает...</td>\n",
       "      <td>4</td>\n",
       "      <td>1564618041</td>\n",
       "      <td>144</td>\n",
       "      <td>f</td>\n",
       "      <td>208777983</td>\n",
       "      <td>1991970784229637</td>\n",
       "      <td>59.950163</td>\n",
       "      <td>30.315356</td>\n",
       "      <td>[#ставьлайк]</td>\n",
       "    </tr>\n",
       "    <tr>\n",
       "      <th>7</th>\n",
       "      <td>2100301459588903831</td>\n",
       "      <td>B0lxQy0B_OX</td>\n",
       "      <td>https://scontent-sea1-1.cdninstagram.com/v/t51...</td>\n",
       "      <td>t</td>\n",
       "      <td>MarkHockey - территория вратарей! 👍🏻 По вопрос...</td>\n",
       "      <td>5</td>\n",
       "      <td>1564634856</td>\n",
       "      <td>188</td>\n",
       "      <td>f</td>\n",
       "      <td>1099063802</td>\n",
       "      <td>411430829</td>\n",
       "      <td>59.921501</td>\n",
       "      <td>30.467902</td>\n",
       "      <td>[#markhockey, #mh, #markwear, #hockey, #khl, #...</td>\n",
       "    </tr>\n",
       "    <tr>\n",
       "      <th>8</th>\n",
       "      <td>2100489264618828711</td>\n",
       "      <td>B0mb9t4IHOn</td>\n",
       "      <td>https://scontent-dfw5-2.cdninstagram.com/v/t51...</td>\n",
       "      <td>f</td>\n",
       "      <td>#детали #единорог #единорогпиньята #единорожка...</td>\n",
       "      <td>0</td>\n",
       "      <td>1564617854</td>\n",
       "      <td>7</td>\n",
       "      <td>f</td>\n",
       "      <td>180487090</td>\n",
       "      <td>594287207</td>\n",
       "      <td>59.877330</td>\n",
       "      <td>30.318980</td>\n",
       "      <td>[#детали, #единорог, #единорогпиньята, #единор...</td>\n",
       "    </tr>\n",
       "    <tr>\n",
       "      <th>...</th>\n",
       "      <td>...</td>\n",
       "      <td>...</td>\n",
       "      <td>...</td>\n",
       "      <td>...</td>\n",
       "      <td>...</td>\n",
       "      <td>...</td>\n",
       "      <td>...</td>\n",
       "      <td>...</td>\n",
       "      <td>...</td>\n",
       "      <td>...</td>\n",
       "      <td>...</td>\n",
       "      <td>...</td>\n",
       "      <td>...</td>\n",
       "      <td>...</td>\n",
       "    </tr>\n",
       "    <tr>\n",
       "      <th>7759923</th>\n",
       "      <td>2031253672851326072</td>\n",
       "      <td>BwwdnQTAsR4</td>\n",
       "      <td>https://scontent-dfw5-2.cdninstagram.com/v/t51...</td>\n",
       "      <td>f</td>\n",
       "      <td>💛Питер... как это не странно, но я уже скучаю....</td>\n",
       "      <td>5</td>\n",
       "      <td>1556364328</td>\n",
       "      <td>127</td>\n",
       "      <td>f</td>\n",
       "      <td>641568821</td>\n",
       "      <td>226091755</td>\n",
       "      <td>59.971781</td>\n",
       "      <td>30.259442</td>\n",
       "      <td>[#санктпетербург, #скучаюспб, #питер, #крестов...</td>\n",
       "    </tr>\n",
       "    <tr>\n",
       "      <th>7759926</th>\n",
       "      <td>2031206110870801771</td>\n",
       "      <td>BwwSzIwDo1r</td>\n",
       "      <td>https://scontent-dfw5-2.cdninstagram.com/v/t51...</td>\n",
       "      <td>f</td>\n",
       "      <td>Коротко и ёмко об идеальной субботе. #СанктПет...</td>\n",
       "      <td>2</td>\n",
       "      <td>1556358659</td>\n",
       "      <td>43</td>\n",
       "      <td>f</td>\n",
       "      <td>306906698</td>\n",
       "      <td>226091755</td>\n",
       "      <td>59.971781</td>\n",
       "      <td>30.259442</td>\n",
       "      <td>[#СанктПетербург, #крестовский, #выходные, #су...</td>\n",
       "    </tr>\n",
       "    <tr>\n",
       "      <th>7759927</th>\n",
       "      <td>2031151080009010240</td>\n",
       "      <td>BwwGSVRFoxA</td>\n",
       "      <td>https://scontent-dfw5-2.cdninstagram.com/v/t51...</td>\n",
       "      <td>f</td>\n",
       "      <td>СЦЕНАРИИ МОЕЙ МЕЧТЫ ⭐️ ⭐️ Сегодня на своём онл...</td>\n",
       "      <td>93</td>\n",
       "      <td>1556352098</td>\n",
       "      <td>1758</td>\n",
       "      <td>f</td>\n",
       "      <td>1930430096</td>\n",
       "      <td>226091755</td>\n",
       "      <td>59.971781</td>\n",
       "      <td>30.259442</td>\n",
       "      <td>[#коучспб, #психологонлайн, #софиявеларди, #за...</td>\n",
       "    </tr>\n",
       "    <tr>\n",
       "      <th>7759928</th>\n",
       "      <td>2031118233699991176</td>\n",
       "      <td>Bwv-0Wwgb6I</td>\n",
       "      <td>https://scontent-dfw5-1.cdninstagram.com/v/t51...</td>\n",
       "      <td>f</td>\n",
       "      <td>Доброе субботнее утро 🌞 ,Красотки 👑 ⠀ В прошлы...</td>\n",
       "      <td>91</td>\n",
       "      <td>1556348183</td>\n",
       "      <td>2215</td>\n",
       "      <td>f</td>\n",
       "      <td>5885545914</td>\n",
       "      <td>226091755</td>\n",
       "      <td>59.971781</td>\n",
       "      <td>30.259442</td>\n",
       "      <td>[#dragonmask_enjoli, #enjoli, #маскадлялица, #...</td>\n",
       "    </tr>\n",
       "    <tr>\n",
       "      <th>7759932</th>\n",
       "      <td>2031511031872078611</td>\n",
       "      <td>BwxYIUkBcMT</td>\n",
       "      <td>https://scontent-sea1-1.cdninstagram.com/v/t51...</td>\n",
       "      <td>t</td>\n",
       "      <td>Остаются лишь достойные! ☝🏻 . . . . . . . . . ...</td>\n",
       "      <td>1</td>\n",
       "      <td>1556395204</td>\n",
       "      <td>55</td>\n",
       "      <td>f</td>\n",
       "      <td>1652113598</td>\n",
       "      <td>975640715953353</td>\n",
       "      <td>59.968285</td>\n",
       "      <td>30.246246</td>\n",
       "      <td>[#друзья, #остаютсялишьвоспоминания, #достойны...</td>\n",
       "    </tr>\n",
       "  </tbody>\n",
       "</table>\n",
       "<p>3470297 rows × 14 columns</p>\n",
       "</div>"
      ],
      "text/plain": [
       "                          id    shortcode  \\\n",
       "0        2100487392867125154  B0mbierCAei   \n",
       "3        2101062776215474217  B0oeXaLHpAp   \n",
       "5        2100490830881135651  B0mcUgkopwj   \n",
       "7        2100301459588903831  B0lxQy0B_OX   \n",
       "8        2100489264618828711  B0mb9t4IHOn   \n",
       "...                      ...          ...   \n",
       "7759923  2031253672851326072  BwwdnQTAsR4   \n",
       "7759926  2031206110870801771  BwwSzIwDo1r   \n",
       "7759927  2031151080009010240  BwwGSVRFoxA   \n",
       "7759928  2031118233699991176  Bwv-0Wwgb6I   \n",
       "7759932  2031511031872078611  BwxYIUkBcMT   \n",
       "\n",
       "                                                  imageurl isvideo  \\\n",
       "0        https://scontent-dfw5-1.cdninstagram.com/v/t51...       f   \n",
       "3        https://scontent-dfw5-2.cdninstagram.com/v/t51...       f   \n",
       "5        https://scontent-dfw5-1.cdninstagram.com/v/t51...       f   \n",
       "7        https://scontent-sea1-1.cdninstagram.com/v/t51...       t   \n",
       "8        https://scontent-dfw5-2.cdninstagram.com/v/t51...       f   \n",
       "...                                                    ...     ...   \n",
       "7759923  https://scontent-dfw5-2.cdninstagram.com/v/t51...       f   \n",
       "7759926  https://scontent-dfw5-2.cdninstagram.com/v/t51...       f   \n",
       "7759927  https://scontent-dfw5-2.cdninstagram.com/v/t51...       f   \n",
       "7759928  https://scontent-dfw5-1.cdninstagram.com/v/t51...       f   \n",
       "7759932  https://scontent-sea1-1.cdninstagram.com/v/t51...       t   \n",
       "\n",
       "                                                   caption  commentscount  \\\n",
       "0        DEATH 💀GUITARIST 🎸DANCING 💃 UNIQUE CONTENT 🔥 М...              3   \n",
       "3        Мои девочки 💛❤️💜 Такие редкие и долгожданные в...              3   \n",
       "5        Мы с Петром проверяем кто во сколько просыпает...              4   \n",
       "7        MarkHockey - территория вратарей! 👍🏻 По вопрос...              5   \n",
       "8        #детали #единорог #единорогпиньята #единорожка...              0   \n",
       "...                                                    ...            ...   \n",
       "7759923  💛Питер... как это не странно, но я уже скучаю....              5   \n",
       "7759926  Коротко и ёмко об идеальной субботе. #СанктПет...              2   \n",
       "7759927  СЦЕНАРИИ МОЕЙ МЕЧТЫ ⭐️ ⭐️ Сегодня на своём онл...             93   \n",
       "7759928  Доброе субботнее утро 🌞 ,Красотки 👑 ⠀ В прошлы...             91   \n",
       "7759932  Остаются лишь достойные! ☝🏻 . . . . . . . . . ...              1   \n",
       "\n",
       "          timestamp  likescount isad    authorid        locationid        lat  \\\n",
       "0        1564617631          50    f  2895837725         409734806  60.002420   \n",
       "3        1564686222          74    f   654993988        1020316384  59.957330   \n",
       "5        1564618041         144    f   208777983  1991970784229637  59.950163   \n",
       "7        1564634856         188    f  1099063802         411430829  59.921501   \n",
       "8        1564617854           7    f   180487090         594287207  59.877330   \n",
       "...             ...         ...  ...         ...               ...        ...   \n",
       "7759923  1556364328         127    f   641568821         226091755  59.971781   \n",
       "7759926  1556358659          43    f   306906698         226091755  59.971781   \n",
       "7759927  1556352098        1758    f  1930430096         226091755  59.971781   \n",
       "7759928  1556348183        2215    f  5885545914         226091755  59.971781   \n",
       "7759932  1556395204          55    f  1652113598   975640715953353  59.968285   \n",
       "\n",
       "               lon                                           hashtags  \n",
       "0        30.296490  [#мертвый, #гитарист, #гитара, #прыгун, #death...  \n",
       "3        30.297810                                     [#13летвместе]  \n",
       "5        30.315356                                       [#ставьлайк]  \n",
       "7        30.467902  [#markhockey, #mh, #markwear, #hockey, #khl, #...  \n",
       "8        30.318980  [#детали, #единорог, #единорогпиньята, #единор...  \n",
       "...            ...                                                ...  \n",
       "7759923  30.259442  [#санктпетербург, #скучаюспб, #питер, #крестов...  \n",
       "7759926  30.259442  [#СанктПетербург, #крестовский, #выходные, #су...  \n",
       "7759927  30.259442  [#коучспб, #психологонлайн, #софиявеларди, #за...  \n",
       "7759928  30.259442  [#dragonmask_enjoli, #enjoli, #маскадлялица, #...  \n",
       "7759932  30.246246  [#друзья, #остаютсялишьвоспоминания, #достойны...  \n",
       "\n",
       "[3470297 rows x 14 columns]"
      ]
     },
     "execution_count": 12,
     "metadata": {},
     "output_type": "execute_result"
    }
   ],
   "source": [
    "# we have only posts with hashtags\n",
    "df"
   ]
  },
  {
   "cell_type": "code",
   "execution_count": 13,
   "id": "362d77d1",
   "metadata": {},
   "outputs": [],
   "source": [
    "transactions = df['hashtags'].tolist()"
   ]
  },
  {
   "cell_type": "code",
   "execution_count": 14,
   "id": "c0de2498",
   "metadata": {},
   "outputs": [
    {
     "data": {
      "text/plain": [
       "[['#13летвместе'],\n",
       " ['#ставьлайк'],\n",
       " ['#markhockey',\n",
       "  '#mh',\n",
       "  '#markwear',\n",
       "  '#hockey',\n",
       "  '#khl',\n",
       "  '#vhl',\n",
       "  '#mhl',\n",
       "  '#nhl',\n",
       "  '#goalie',\n",
       "  '#хоккей',\n",
       "  '#кхл',\n",
       "  '#вхл',\n",
       "  '#мхл',\n",
       "  '#нхл',\n",
       "  '#одеждадляхоккеистов',\n",
       "  '#мынастиле',\n",
       "  '#streetwear',\n",
       "  '#urbanwear',\n",
       "  '#customgear',\n",
       "  '#madeincanada',\n",
       "  '#вратарскаяформа']]"
      ]
     },
     "execution_count": 14,
     "metadata": {},
     "output_type": "execute_result"
    }
   ],
   "source": [
    "transactions[1:4]"
   ]
  },
  {
   "cell_type": "code",
   "execution_count": 15,
   "id": "e08c89f9",
   "metadata": {},
   "outputs": [],
   "source": [
    "post_count = df.shape[0]"
   ]
  },
  {
   "cell_type": "code",
   "execution_count": 19,
   "id": "ccb02070",
   "metadata": {},
   "outputs": [
    {
     "name": "stdout",
     "output_type": "stream",
     "text": [
      "CPU times: user 5min 19s, sys: 5.11 s, total: 5min 25s\n",
      "Wall time: 5min 26s\n"
     ]
    }
   ],
   "source": [
    "%%time\n",
    "# min support is foind iteratively to prevent large computations\n",
    "result8 = list(apyori.apriori(transactions, min_support = 0.003092, min_confidence = 0.75, min_lift = 1.2, min_length = 2))"
   ]
  },
  {
   "cell_type": "code",
   "execution_count": 20,
   "id": "12f5b745",
   "metadata": {},
   "outputs": [
    {
     "data": {
      "text/html": [
       "<div>\n",
       "<style scoped>\n",
       "    .dataframe tbody tr th:only-of-type {\n",
       "        vertical-align: middle;\n",
       "    }\n",
       "\n",
       "    .dataframe tbody tr th {\n",
       "        vertical-align: top;\n",
       "    }\n",
       "\n",
       "    .dataframe thead th {\n",
       "        text-align: right;\n",
       "    }\n",
       "</style>\n",
       "<table border=\"1\" class=\"dataframe\">\n",
       "  <thead>\n",
       "    <tr style=\"text-align: right;\">\n",
       "      <th></th>\n",
       "      <th>items</th>\n",
       "      <th>support</th>\n",
       "      <th>confidence</th>\n",
       "      <th>lift</th>\n",
       "    </tr>\n",
       "  </thead>\n",
       "  <tbody>\n",
       "    <tr>\n",
       "      <th>456</th>\n",
       "      <td>[#джинсы, #платье, #педикюр]</td>\n",
       "      <td>0.003163</td>\n",
       "      <td>0.999818</td>\n",
       "      <td>123.797221</td>\n",
       "    </tr>\n",
       "    <tr>\n",
       "      <th>801</th>\n",
       "      <td>[#спб, #пальто, #маникюр]</td>\n",
       "      <td>0.003093</td>\n",
       "      <td>0.999534</td>\n",
       "      <td>10.116106</td>\n",
       "    </tr>\n",
       "    <tr>\n",
       "      <th>800</th>\n",
       "      <td>[#пальто, #платье, #маникюр]</td>\n",
       "      <td>0.003093</td>\n",
       "      <td>0.999534</td>\n",
       "      <td>123.762137</td>\n",
       "    </tr>\n",
       "    <tr>\n",
       "      <th>913</th>\n",
       "      <td>[#прическа, #спб, #платья]</td>\n",
       "      <td>0.003093</td>\n",
       "      <td>0.999441</td>\n",
       "      <td>10.115164</td>\n",
       "    </tr>\n",
       "    <tr>\n",
       "      <th>1799</th>\n",
       "      <td>[#спб, #пальто, #платье, #маникюр]</td>\n",
       "      <td>0.003093</td>\n",
       "      <td>0.999441</td>\n",
       "      <td>234.697407</td>\n",
       "    </tr>\n",
       "    <tr>\n",
       "      <th>...</th>\n",
       "      <td>...</td>\n",
       "      <td>...</td>\n",
       "      <td>...</td>\n",
       "      <td>...</td>\n",
       "    </tr>\n",
       "    <tr>\n",
       "      <th>1148</th>\n",
       "      <td>[#пальто, #брюки, #спортивныйкостюм, #костюм]</td>\n",
       "      <td>0.003092</td>\n",
       "      <td>0.751628</td>\n",
       "      <td>240.181778</td>\n",
       "    </tr>\n",
       "    <tr>\n",
       "      <th>1805</th>\n",
       "      <td>[#педикюр, #ресницы, #спортивныйкостюм, #маникюр]</td>\n",
       "      <td>0.003092</td>\n",
       "      <td>0.751628</td>\n",
       "      <td>234.102864</td>\n",
       "    </tr>\n",
       "    <tr>\n",
       "      <th>622</th>\n",
       "      <td>[#спортивныйкостюм, #костюм, #маникюр]</td>\n",
       "      <td>0.003092</td>\n",
       "      <td>0.751628</td>\n",
       "      <td>242.797552</td>\n",
       "    </tr>\n",
       "    <tr>\n",
       "      <th>81</th>\n",
       "      <td>[#платье, #костюм]</td>\n",
       "      <td>0.003470</td>\n",
       "      <td>0.751310</td>\n",
       "      <td>93.027065</td>\n",
       "    </tr>\n",
       "    <tr>\n",
       "      <th>793</th>\n",
       "      <td>[#маникюрспб, #ногти, #маникюр]</td>\n",
       "      <td>0.004919</td>\n",
       "      <td>0.750671</td>\n",
       "      <td>28.123177</td>\n",
       "    </tr>\n",
       "  </tbody>\n",
       "</table>\n",
       "<p>3040 rows × 4 columns</p>\n",
       "</div>"
      ],
      "text/plain": [
       "                                                  items   support  confidence  \\\n",
       "456                        [#джинсы, #платье, #педикюр]  0.003163    0.999818   \n",
       "801                           [#спб, #пальто, #маникюр]  0.003093    0.999534   \n",
       "800                        [#пальто, #платье, #маникюр]  0.003093    0.999534   \n",
       "913                          [#прическа, #спб, #платья]  0.003093    0.999441   \n",
       "1799                 [#спб, #пальто, #платье, #маникюр]  0.003093    0.999441   \n",
       "...                                                 ...       ...         ...   \n",
       "1148      [#пальто, #брюки, #спортивныйкостюм, #костюм]  0.003092    0.751628   \n",
       "1805  [#педикюр, #ресницы, #спортивныйкостюм, #маникюр]  0.003092    0.751628   \n",
       "622              [#спортивныйкостюм, #костюм, #маникюр]  0.003092    0.751628   \n",
       "81                                   [#платье, #костюм]  0.003470    0.751310   \n",
       "793                     [#маникюрспб, #ногти, #маникюр]  0.004919    0.750671   \n",
       "\n",
       "            lift  \n",
       "456   123.797221  \n",
       "801    10.116106  \n",
       "800   123.762137  \n",
       "913    10.115164  \n",
       "1799  234.697407  \n",
       "...          ...  \n",
       "1148  240.181778  \n",
       "1805  234.102864  \n",
       "622   242.797552  \n",
       "81     93.027065  \n",
       "793    28.123177  \n",
       "\n",
       "[3040 rows x 4 columns]"
      ]
     },
     "execution_count": 20,
     "metadata": {},
     "output_type": "execute_result"
    }
   ],
   "source": [
    "temp = []\n",
    "for i in range(len(result8)):\n",
    "  temp.append([list(result8[i][0]), result8[i][1], result8[i][2][0][2], result8[i][2][0][3]])\n",
    "\n",
    "apyori_inst_spb003092 = pd.DataFrame(temp, columns = ['items', 'support', 'confidence', 'lift'])\n",
    "apyori_inst_spb003092.sort_values(by=['confidence'], ascending=False)"
   ]
  },
  {
   "cell_type": "code",
   "execution_count": 21,
   "id": "45866900",
   "metadata": {},
   "outputs": [],
   "source": [
    "apyori_inst_spb003092.to_csv(\"../../data/apyori_inst_spb003092.csv\")"
   ]
  },
  {
   "cell_type": "markdown",
   "id": "00a970b3",
   "metadata": {},
   "source": [
    "Dataset filtering"
   ]
  },
  {
   "cell_type": "code",
   "execution_count": 22,
   "id": "fb23feb2",
   "metadata": {},
   "outputs": [
    {
     "data": {
      "text/plain": [
       "{'#instagramanet',\n",
       " '#instatag',\n",
       " '#nails',\n",
       " '#piter',\n",
       " '#saintpetersburg',\n",
       " '#spb',\n",
       " '#vsco',\n",
       " '#vscocam',\n",
       " '#боди',\n",
       " '#брюки',\n",
       " '#гельлак',\n",
       " '#гельлакспб',\n",
       " '#джинсы',\n",
       " '#дизайнногтей',\n",
       " '#кардиган',\n",
       " '#комбинезон',\n",
       " '#костюм',\n",
       " '#красивыеплатья',\n",
       " '#купальник',\n",
       " '#купальники',\n",
       " '#куртка',\n",
       " '#макияж',\n",
       " '#маникюр',\n",
       " '#маникюрпитер',\n",
       " '#маникюрспб',\n",
       " '#меховыежилетки',\n",
       " '#микроблейдинг',\n",
       " '#ногти',\n",
       " '#ногтиспб',\n",
       " '#одежда',\n",
       " '#пальто',\n",
       " '#педикюр',\n",
       " '#педикюрспб',\n",
       " '#перманент',\n",
       " '#петербург',\n",
       " '#пиджак',\n",
       " '#питер',\n",
       " '#платье',\n",
       " '#платьевпол',\n",
       " '#платья',\n",
       " '#прическа',\n",
       " '#ресницы',\n",
       " '#рубашка',\n",
       " '#санктпетербург',\n",
       " '#спб',\n",
       " '#спортивныйкостюм',\n",
       " '#фотографпитер',\n",
       " '#фотографспб',\n",
       " '#шеллак',\n",
       " '#шорты',\n",
       " '#юбка'}"
      ]
     },
     "execution_count": 22,
     "metadata": {},
     "output_type": "execute_result"
    }
   ],
   "source": [
    "adv_tags = set(apyori_inst_spb003092['items'].sum())\n",
    "adv_tags"
   ]
  },
  {
   "cell_type": "code",
   "execution_count": 23,
   "id": "9ccec8c1",
   "metadata": {},
   "outputs": [],
   "source": [
    "def delete_adv(x):\n",
    "    # set of post hastags - set of adv hastags\n",
    "    new_x = set(x) - adv_tags\n",
    "    return new_x if len(new_x) else np.nan "
   ]
  },
  {
   "cell_type": "code",
   "execution_count": 24,
   "id": "e251bf07",
   "metadata": {},
   "outputs": [],
   "source": [
    "df['hashtags'] = df['hashtags'].apply(delete_adv)"
   ]
  },
  {
   "cell_type": "code",
   "execution_count": 25,
   "id": "9da3ae8c",
   "metadata": {},
   "outputs": [
    {
     "data": {
      "text/plain": [
       "{'#rollerblade',\n",
       " '#СанктПетербург',\n",
       " '#выходные',\n",
       " '#крестовский',\n",
       " '#ролики',\n",
       " '#самокат',\n",
       " '#семья',\n",
       " '#суббота',\n",
       " '#урбанистика'}"
      ]
     },
     "execution_count": 25,
     "metadata": {},
     "output_type": "execute_result"
    }
   ],
   "source": [
    "df['hashtags'][7759926]"
   ]
  },
  {
   "cell_type": "code",
   "execution_count": 26,
   "id": "345da745",
   "metadata": {},
   "outputs": [],
   "source": [
    "prev_shape = df.shape[0]\n",
    "df = df.dropna()"
   ]
  },
  {
   "cell_type": "code",
   "execution_count": 28,
   "id": "38aa7ea8",
   "metadata": {},
   "outputs": [
    {
     "name": "stdout",
     "output_type": "stream",
     "text": [
      "37915  posts were deleted, percentage: 0.010925577839591251\n"
     ]
    }
   ],
   "source": [
    "new_shape = df.shape[0]\n",
    "print(prev_shape - new_shape, ' posts were deleted, percentage:', (prev_shape - new_shape)/post_count)"
   ]
  },
  {
   "cell_type": "markdown",
   "id": "1b110d87",
   "metadata": {},
   "source": [
    "ARL analysis for filtered df"
   ]
  },
  {
   "cell_type": "code",
   "execution_count": 29,
   "id": "dd62ead8",
   "metadata": {},
   "outputs": [],
   "source": [
    "transactions = df['hashtags'].tolist()"
   ]
  },
  {
   "cell_type": "markdown",
   "id": "93f361c8",
   "metadata": {},
   "source": [
    "Now min_support is less than before, so we can find more sensitive rules"
   ]
  },
  {
   "cell_type": "code",
   "execution_count": 30,
   "id": "a4768be8",
   "metadata": {},
   "outputs": [
    {
     "name": "stdout",
     "output_type": "stream",
     "text": [
      "CPU times: user 4min 23s, sys: 3.84 s, total: 4min 27s\n",
      "Wall time: 4min 28s\n"
     ]
    }
   ],
   "source": [
    "%%time\n",
    "#0.0028 - 1 min\n",
    "#0.002783 - 1 min\n",
    "#0.0027825 - 1.5 min\n",
    "#0.0027823 - 4 mins\n",
    "result8f = list(apyori.apriori(transactions, min_support = 0.0027823, min_confidence = 0.75, min_lift = 1.2, min_length = 2))"
   ]
  },
  {
   "cell_type": "code",
   "execution_count": 31,
   "id": "8161ca6c",
   "metadata": {},
   "outputs": [
    {
     "data": {
      "text/html": [
       "<div>\n",
       "<style scoped>\n",
       "    .dataframe tbody tr th:only-of-type {\n",
       "        vertical-align: middle;\n",
       "    }\n",
       "\n",
       "    .dataframe tbody tr th {\n",
       "        vertical-align: top;\n",
       "    }\n",
       "\n",
       "    .dataframe thead th {\n",
       "        text-align: right;\n",
       "    }\n",
       "</style>\n",
       "<table border=\"1\" class=\"dataframe\">\n",
       "  <thead>\n",
       "    <tr style=\"text-align: right;\">\n",
       "      <th></th>\n",
       "      <th>items</th>\n",
       "      <th>support</th>\n",
       "      <th>confidence</th>\n",
       "      <th>lift</th>\n",
       "    </tr>\n",
       "  </thead>\n",
       "  <tbody>\n",
       "    <tr>\n",
       "      <th>35</th>\n",
       "      <td>[#Новыйдом, #квартираспб]</td>\n",
       "      <td>0.002783</td>\n",
       "      <td>1.000000</td>\n",
       "      <td>314.868544</td>\n",
       "    </tr>\n",
       "    <tr>\n",
       "      <th>43</th>\n",
       "      <td>[#Продажаквартир, #квартираспб]</td>\n",
       "      <td>0.002783</td>\n",
       "      <td>0.999895</td>\n",
       "      <td>314.835587</td>\n",
       "    </tr>\n",
       "    <tr>\n",
       "      <th>27</th>\n",
       "      <td>[#Квартирапитер, #квартираспб]</td>\n",
       "      <td>0.002783</td>\n",
       "      <td>0.999895</td>\n",
       "      <td>314.835587</td>\n",
       "    </tr>\n",
       "    <tr>\n",
       "      <th>222</th>\n",
       "      <td>[#новостройка, #Продажаквартир, #квартираспб]</td>\n",
       "      <td>0.002783</td>\n",
       "      <td>0.999895</td>\n",
       "      <td>356.610842</td>\n",
       "    </tr>\n",
       "    <tr>\n",
       "      <th>46</th>\n",
       "      <td>[#новостройка, #Продажаквартир]</td>\n",
       "      <td>0.002783</td>\n",
       "      <td>0.999895</td>\n",
       "      <td>323.105135</td>\n",
       "    </tr>\n",
       "    <tr>\n",
       "      <th>...</th>\n",
       "      <td>...</td>\n",
       "      <td>...</td>\n",
       "      <td>...</td>\n",
       "      <td>...</td>\n",
       "    </tr>\n",
       "    <tr>\n",
       "      <th>54</th>\n",
       "      <td>[#недвижимостьспб, #впитере]</td>\n",
       "      <td>0.002783</td>\n",
       "      <td>0.755338</td>\n",
       "      <td>205.111343</td>\n",
       "    </tr>\n",
       "    <tr>\n",
       "      <th>237</th>\n",
       "      <td>[#недвижимостьспб, #впитере, #впитережить]</td>\n",
       "      <td>0.002783</td>\n",
       "      <td>0.755259</td>\n",
       "      <td>264.389185</td>\n",
       "    </tr>\n",
       "    <tr>\n",
       "      <th>238</th>\n",
       "      <td>[#новостройка, #впитере, #впитережить]</td>\n",
       "      <td>0.002782</td>\n",
       "      <td>0.755180</td>\n",
       "      <td>270.655167</td>\n",
       "    </tr>\n",
       "    <tr>\n",
       "      <th>564</th>\n",
       "      <td>[#новостройка, #впитере, #квартираспб, #впитер...</td>\n",
       "      <td>0.002782</td>\n",
       "      <td>0.755180</td>\n",
       "      <td>271.249951</td>\n",
       "    </tr>\n",
       "    <tr>\n",
       "      <th>236</th>\n",
       "      <td>[#впитере, #квартираспб, #впитережить]</td>\n",
       "      <td>0.002782</td>\n",
       "      <td>0.755180</td>\n",
       "      <td>268.079898</td>\n",
       "    </tr>\n",
       "  </tbody>\n",
       "</table>\n",
       "<p>1431 rows × 4 columns</p>\n",
       "</div>"
      ],
      "text/plain": [
       "                                                 items   support  confidence  \\\n",
       "35                           [#Новыйдом, #квартираспб]  0.002783    1.000000   \n",
       "43                     [#Продажаквартир, #квартираспб]  0.002783    0.999895   \n",
       "27                      [#Квартирапитер, #квартираспб]  0.002783    0.999895   \n",
       "222      [#новостройка, #Продажаквартир, #квартираспб]  0.002783    0.999895   \n",
       "46                     [#новостройка, #Продажаквартир]  0.002783    0.999895   \n",
       "..                                                 ...       ...         ...   \n",
       "54                        [#недвижимостьспб, #впитере]  0.002783    0.755338   \n",
       "237         [#недвижимостьспб, #впитере, #впитережить]  0.002783    0.755259   \n",
       "238             [#новостройка, #впитере, #впитережить]  0.002782    0.755180   \n",
       "564  [#новостройка, #впитере, #квартираспб, #впитер...  0.002782    0.755180   \n",
       "236             [#впитере, #квартираспб, #впитережить]  0.002782    0.755180   \n",
       "\n",
       "           lift  \n",
       "35   314.868544  \n",
       "43   314.835587  \n",
       "27   314.835587  \n",
       "222  356.610842  \n",
       "46   323.105135  \n",
       "..          ...  \n",
       "54   205.111343  \n",
       "237  264.389185  \n",
       "238  270.655167  \n",
       "564  271.249951  \n",
       "236  268.079898  \n",
       "\n",
       "[1431 rows x 4 columns]"
      ]
     },
     "execution_count": 31,
     "metadata": {},
     "output_type": "execute_result"
    }
   ],
   "source": [
    "temp = []\n",
    "for i in range(len(result8f)):\n",
    "  temp.append([list(result8f[i][0]), result8f[i][1], result8f[i][2][0][2], result8f[i][2][0][3]])\n",
    "\n",
    "apyori_inst_spbf = pd.DataFrame(temp, columns = ['items', 'support', 'confidence', 'lift'])\n",
    "apyori_inst_spbf.sort_values(by=['confidence'], ascending=False)"
   ]
  },
  {
   "cell_type": "code",
   "execution_count": 33,
   "id": "a7bd4939",
   "metadata": {},
   "outputs": [],
   "source": [
    "apyori_inst_spbf.to_csv(\"../../data/apyori_inst_spbf.csv\")"
   ]
  },
  {
   "cell_type": "markdown",
   "id": "dfbefa7e",
   "metadata": {},
   "source": [
    "Filter again and again..."
   ]
  },
  {
   "cell_type": "code",
   "execution_count": 34,
   "id": "20741cd4",
   "metadata": {
    "scrolled": true
   },
   "outputs": [
    {
     "data": {
      "text/plain": [
       "{'#kvartiravpitere',\n",
       " '#Готовоежилье',\n",
       " '#Квартирамечты',\n",
       " '#Квартираотзастройщика',\n",
       " '#Квартирапитер',\n",
       " '#Новыйдом',\n",
       " '#Продажаквартир',\n",
       " '#Стройка',\n",
       " '#впитере',\n",
       " '#впитережить',\n",
       " '#застройщик',\n",
       " '#квартира',\n",
       " '#квартираспб',\n",
       " '#куплюквартиру',\n",
       " '#недвижимостьспб',\n",
       " '#новостройка',\n",
       " '#новостройкиспб',\n",
       " '#экспертпоновостройкам'}"
      ]
     },
     "execution_count": 34,
     "metadata": {},
     "output_type": "execute_result"
    }
   ],
   "source": [
    "adv_tags = set(apyori_inst_spbf['items'].sum())\n",
    "adv_tags"
   ]
  },
  {
   "cell_type": "code",
   "execution_count": 35,
   "id": "af378b19",
   "metadata": {},
   "outputs": [
    {
     "name": "stderr",
     "output_type": "stream",
     "text": [
      "<ipython-input-35-76a14a93ff19>:1: SettingWithCopyWarning: \n",
      "A value is trying to be set on a copy of a slice from a DataFrame.\n",
      "Try using .loc[row_indexer,col_indexer] = value instead\n",
      "\n",
      "See the caveats in the documentation: https://pandas.pydata.org/pandas-docs/stable/user_guide/indexing.html#returning-a-view-versus-a-copy\n",
      "  df['hashtags'] = df['hashtags'].apply(delete_adv)\n"
     ]
    }
   ],
   "source": [
    "df['hashtags'] = df['hashtags'].apply(delete_adv)"
   ]
  },
  {
   "cell_type": "code",
   "execution_count": 36,
   "id": "c2051c9d",
   "metadata": {},
   "outputs": [
    {
     "name": "stdout",
     "output_type": "stream",
     "text": [
      "499  posts were deleted, percentage: 0.0001437917273363058\n"
     ]
    }
   ],
   "source": [
    "prev_shape = df.shape[0]\n",
    "df = df.dropna()\n",
    "new_shape = df.shape[0]\n",
    "print(prev_shape - new_shape, ' posts were deleted, percentage:', (prev_shape - new_shape)/post_count)"
   ]
  },
  {
   "cell_type": "markdown",
   "id": "a7457b4c",
   "metadata": {},
   "source": [
    "Постов, которые содержали только эти хэштеги мало. Возможно, имеет смысл удалять любые, которые содержат хотя бы n штук из перечня, чтоб была возможность контролировать чувствительность."
   ]
  },
  {
   "cell_type": "code",
   "execution_count": 37,
   "id": "2633e58f",
   "metadata": {},
   "outputs": [],
   "source": [
    "transactions = df['hashtags'].tolist()"
   ]
  },
  {
   "cell_type": "code",
   "execution_count": 43,
   "id": "5dc15d0b",
   "metadata": {},
   "outputs": [
    {
     "name": "stdout",
     "output_type": "stream",
     "text": [
      "CPU times: user 1min 2s, sys: 5.17 s, total: 1min 8s\n",
      "Wall time: 1min 8s\n"
     ]
    }
   ],
   "source": [
    "%%time\n",
    "#0.0027823 - 1 min\n",
    "#0.0026 - 1.5 - new 120 entries\n",
    "result8ff = list(apyori.apriori(transactions, min_support = 0.0025, min_confidence = 0.75, min_lift = 1.2, min_length = 2))"
   ]
  },
  {
   "cell_type": "code",
   "execution_count": 45,
   "id": "e75b4d86",
   "metadata": {},
   "outputs": [
    {
     "data": {
      "text/html": [
       "<div>\n",
       "<style scoped>\n",
       "    .dataframe tbody tr th:only-of-type {\n",
       "        vertical-align: middle;\n",
       "    }\n",
       "\n",
       "    .dataframe tbody tr th {\n",
       "        vertical-align: top;\n",
       "    }\n",
       "\n",
       "    .dataframe thead th {\n",
       "        text-align: right;\n",
       "    }\n",
       "</style>\n",
       "<table border=\"1\" class=\"dataframe\">\n",
       "  <thead>\n",
       "    <tr style=\"text-align: right;\">\n",
       "      <th></th>\n",
       "      <th>items</th>\n",
       "      <th>support</th>\n",
       "      <th>confidence</th>\n",
       "      <th>lift</th>\n",
       "    </tr>\n",
       "  </thead>\n",
       "  <tbody>\n",
       "    <tr>\n",
       "      <th>7</th>\n",
       "      <td>[#Квартиравновостройке, #Недорогиеквартиры]</td>\n",
       "      <td>0.002781</td>\n",
       "      <td>1.000000</td>\n",
       "      <td>359.585394</td>\n",
       "    </tr>\n",
       "    <tr>\n",
       "      <th>15</th>\n",
       "      <td>[#Питерновостройка, #Недорогиеквартиры]</td>\n",
       "      <td>0.002780</td>\n",
       "      <td>0.999581</td>\n",
       "      <td>359.096060</td>\n",
       "    </tr>\n",
       "    <tr>\n",
       "      <th>40</th>\n",
       "      <td>[#Квартиравновостройке, #Питерновостройка, #Не...</td>\n",
       "      <td>0.002780</td>\n",
       "      <td>0.999581</td>\n",
       "      <td>359.585394</td>\n",
       "    </tr>\n",
       "    <tr>\n",
       "      <th>8</th>\n",
       "      <td>[#Квартиравновостройке, #Питерновостройка]</td>\n",
       "      <td>0.002780</td>\n",
       "      <td>0.999581</td>\n",
       "      <td>359.096060</td>\n",
       "    </tr>\n",
       "    <tr>\n",
       "      <th>12</th>\n",
       "      <td>[#Купитьквартируспб, #Питерновостройка]</td>\n",
       "      <td>0.002780</td>\n",
       "      <td>0.999476</td>\n",
       "      <td>359.058438</td>\n",
       "    </tr>\n",
       "    <tr>\n",
       "      <th>...</th>\n",
       "      <td>...</td>\n",
       "      <td>...</td>\n",
       "      <td>...</td>\n",
       "      <td>...</td>\n",
       "    </tr>\n",
       "    <tr>\n",
       "      <th>34</th>\n",
       "      <td>[#Инвестиции, #Питерновостройка, #Элитноежилье]</td>\n",
       "      <td>0.002776</td>\n",
       "      <td>0.997070</td>\n",
       "      <td>359.133732</td>\n",
       "    </tr>\n",
       "    <tr>\n",
       "      <th>5</th>\n",
       "      <td>[#Инвестиции, #Элитноежилье]</td>\n",
       "      <td>0.002776</td>\n",
       "      <td>0.997070</td>\n",
       "      <td>358.983026</td>\n",
       "    </tr>\n",
       "    <tr>\n",
       "      <th>93</th>\n",
       "      <td>[#Купитьквартируспб, #Инвестиции, #Недорогиекв...</td>\n",
       "      <td>0.002776</td>\n",
       "      <td>0.997070</td>\n",
       "      <td>359.096044</td>\n",
       "    </tr>\n",
       "    <tr>\n",
       "      <th>95</th>\n",
       "      <td>[#Купитьквартируспб, #Инвестиции, #Питерновост...</td>\n",
       "      <td>0.002776</td>\n",
       "      <td>0.997070</td>\n",
       "      <td>359.133732</td>\n",
       "    </tr>\n",
       "    <tr>\n",
       "      <th>119</th>\n",
       "      <td>[#Купитьквартируспб, #Инвестиции, #Элитнаянедв...</td>\n",
       "      <td>0.002776</td>\n",
       "      <td>0.997070</td>\n",
       "      <td>359.133732</td>\n",
       "    </tr>\n",
       "  </tbody>\n",
       "</table>\n",
       "<p>120 rows × 4 columns</p>\n",
       "</div>"
      ],
      "text/plain": [
       "                                                 items   support  confidence  \\\n",
       "7          [#Квартиравновостройке, #Недорогиеквартиры]  0.002781    1.000000   \n",
       "15             [#Питерновостройка, #Недорогиеквартиры]  0.002780    0.999581   \n",
       "40   [#Квартиравновостройке, #Питерновостройка, #Не...  0.002780    0.999581   \n",
       "8           [#Квартиравновостройке, #Питерновостройка]  0.002780    0.999581   \n",
       "12             [#Купитьквартируспб, #Питерновостройка]  0.002780    0.999476   \n",
       "..                                                 ...       ...         ...   \n",
       "34     [#Инвестиции, #Питерновостройка, #Элитноежилье]  0.002776    0.997070   \n",
       "5                         [#Инвестиции, #Элитноежилье]  0.002776    0.997070   \n",
       "93   [#Купитьквартируспб, #Инвестиции, #Недорогиекв...  0.002776    0.997070   \n",
       "95   [#Купитьквартируспб, #Инвестиции, #Питерновост...  0.002776    0.997070   \n",
       "119  [#Купитьквартируспб, #Инвестиции, #Элитнаянедв...  0.002776    0.997070   \n",
       "\n",
       "           lift  \n",
       "7    359.585394  \n",
       "15   359.096060  \n",
       "40   359.585394  \n",
       "8    359.096060  \n",
       "12   359.058438  \n",
       "..          ...  \n",
       "34   359.133732  \n",
       "5    358.983026  \n",
       "93   359.096044  \n",
       "95   359.133732  \n",
       "119  359.133732  \n",
       "\n",
       "[120 rows x 4 columns]"
      ]
     },
     "execution_count": 45,
     "metadata": {},
     "output_type": "execute_result"
    }
   ],
   "source": [
    "temp = []\n",
    "for i in range(len(result8ff)):\n",
    "  temp.append([list(result8ff[i][0]), result8ff[i][1], result8ff[i][2][0][2], result8ff[i][2][0][3]])\n",
    "\n",
    "apyori_inst_spbf = pd.DataFrame(temp, columns = ['items', 'support', 'confidence', 'lift'])\n",
    "apyori_inst_spbf.sort_values(by=['confidence'], ascending=False)"
   ]
  },
  {
   "cell_type": "code",
   "execution_count": 46,
   "id": "5286ee81",
   "metadata": {},
   "outputs": [
    {
     "data": {
      "text/plain": [
       "{'#Инвестиции',\n",
       " '#Квартиравновостройке',\n",
       " '#Купитьквартируспб',\n",
       " '#Недорогиеквартиры',\n",
       " '#Питерновостройка',\n",
       " '#Элитнаянедвижимость',\n",
       " '#Элитноежилье'}"
      ]
     },
     "execution_count": 46,
     "metadata": {},
     "output_type": "execute_result"
    }
   ],
   "source": [
    "adv_tags = set(apyori_inst_spbf['items'].sum())\n",
    "adv_tags"
   ]
  },
  {
   "cell_type": "code",
   "execution_count": 47,
   "id": "e8a80138",
   "metadata": {},
   "outputs": [],
   "source": [
    "df['hashtags'] = df['hashtags'].apply(delete_adv)"
   ]
  },
  {
   "cell_type": "code",
   "execution_count": 48,
   "id": "fbcc06ae",
   "metadata": {},
   "outputs": [
    {
     "name": "stdout",
     "output_type": "stream",
     "text": [
      "8773  posts were deleted, percentage: 0.0025280256992413043\n"
     ]
    }
   ],
   "source": [
    "prev_shape = df.shape[0]\n",
    "df = df.dropna()\n",
    "new_shape = df.shape[0]\n",
    "print(prev_shape - new_shape, ' posts were deleted, percentage:', (prev_shape - new_shape)/post_count)"
   ]
  },
  {
   "cell_type": "code",
   "execution_count": 49,
   "id": "f93d7b85",
   "metadata": {},
   "outputs": [],
   "source": [
    "transactions = df['hashtags'].tolist()"
   ]
  },
  {
   "cell_type": "code",
   "execution_count": 52,
   "id": "e7c896d4",
   "metadata": {},
   "outputs": [
    {
     "name": "stdout",
     "output_type": "stream",
     "text": [
      "CPU times: user 2min 42s, sys: 5.7 s, total: 2min 47s\n",
      "Wall time: 2min 48s\n"
     ]
    }
   ],
   "source": [
    "%%time\n",
    "#0.001 - 2 min\n",
    "result8ff = list(apyori.apriori(transactions, min_support = 0.001, min_confidence = 0.75, min_lift = 1.2, min_length = 2))"
   ]
  },
  {
   "cell_type": "code",
   "execution_count": 53,
   "id": "5cd24d22",
   "metadata": {},
   "outputs": [
    {
     "data": {
      "text/html": [
       "<div>\n",
       "<style scoped>\n",
       "    .dataframe tbody tr th:only-of-type {\n",
       "        vertical-align: middle;\n",
       "    }\n",
       "\n",
       "    .dataframe tbody tr th {\n",
       "        vertical-align: top;\n",
       "    }\n",
       "\n",
       "    .dataframe thead th {\n",
       "        text-align: right;\n",
       "    }\n",
       "</style>\n",
       "<table border=\"1\" class=\"dataframe\">\n",
       "  <thead>\n",
       "    <tr style=\"text-align: right;\">\n",
       "      <th></th>\n",
       "      <th>items</th>\n",
       "      <th>support</th>\n",
       "      <th>confidence</th>\n",
       "      <th>lift</th>\n",
       "    </tr>\n",
       "  </thead>\n",
       "  <tbody>\n",
       "    <tr>\n",
       "      <th>477</th>\n",
       "      <td>[#instagood, #instadaily, #follow, #beautiful]</td>\n",
       "      <td>0.001003</td>\n",
       "      <td>0.961883</td>\n",
       "      <td>68.510876</td>\n",
       "    </tr>\n",
       "    <tr>\n",
       "      <th>342</th>\n",
       "      <td>[#маникюркудрово, #маникюрдыбенко, #маникюрбол...</td>\n",
       "      <td>0.001293</td>\n",
       "      <td>0.951204</td>\n",
       "      <td>208.535621</td>\n",
       "    </tr>\n",
       "    <tr>\n",
       "      <th>712</th>\n",
       "      <td>[#instagood, #happy, #followme, #picoftheday]</td>\n",
       "      <td>0.001021</td>\n",
       "      <td>0.950245</td>\n",
       "      <td>67.681900</td>\n",
       "    </tr>\n",
       "    <tr>\n",
       "      <th>379</th>\n",
       "      <td>[#instadaily, #amazing, #follow, #instalike]</td>\n",
       "      <td>0.001160</td>\n",
       "      <td>0.947067</td>\n",
       "      <td>133.296959</td>\n",
       "    </tr>\n",
       "    <tr>\n",
       "      <th>233</th>\n",
       "      <td>[#like4like, #follow4follow, #picoftheday]</td>\n",
       "      <td>0.001074</td>\n",
       "      <td>0.946461</td>\n",
       "      <td>146.354034</td>\n",
       "    </tr>\n",
       "    <tr>\n",
       "      <th>...</th>\n",
       "      <td>...</td>\n",
       "      <td>...</td>\n",
       "      <td>...</td>\n",
       "      <td>...</td>\n",
       "    </tr>\n",
       "    <tr>\n",
       "      <th>876</th>\n",
       "      <td>[#bestoftheday, #follow, #picoftheday, #photoo...</td>\n",
       "      <td>0.001035</td>\n",
       "      <td>0.751113</td>\n",
       "      <td>508.130910</td>\n",
       "    </tr>\n",
       "    <tr>\n",
       "      <th>248</th>\n",
       "      <td>[#instagood, #me, #followme]</td>\n",
       "      <td>0.001339</td>\n",
       "      <td>0.750901</td>\n",
       "      <td>53.483476</td>\n",
       "    </tr>\n",
       "    <tr>\n",
       "      <th>675</th>\n",
       "      <td>[#instagood, #love, #photooftheday, #follow]</td>\n",
       "      <td>0.001459</td>\n",
       "      <td>0.750676</td>\n",
       "      <td>68.996791</td>\n",
       "    </tr>\n",
       "    <tr>\n",
       "      <th>894</th>\n",
       "      <td>[#instadaily, #follow, #instagood, #followme, ...</td>\n",
       "      <td>0.001078</td>\n",
       "      <td>0.750458</td>\n",
       "      <td>280.539358</td>\n",
       "    </tr>\n",
       "    <tr>\n",
       "      <th>861</th>\n",
       "      <td>[#happy, #instagood, #love, #followme, #beauti...</td>\n",
       "      <td>0.001004</td>\n",
       "      <td>0.750327</td>\n",
       "      <td>190.538065</td>\n",
       "    </tr>\n",
       "  </tbody>\n",
       "</table>\n",
       "<p>997 rows × 4 columns</p>\n",
       "</div>"
      ],
      "text/plain": [
       "                                                 items   support  confidence  \\\n",
       "477     [#instagood, #instadaily, #follow, #beautiful]  0.001003    0.961883   \n",
       "342  [#маникюркудрово, #маникюрдыбенко, #маникюрбол...  0.001293    0.951204   \n",
       "712      [#instagood, #happy, #followme, #picoftheday]  0.001021    0.950245   \n",
       "379       [#instadaily, #amazing, #follow, #instalike]  0.001160    0.947067   \n",
       "233         [#like4like, #follow4follow, #picoftheday]  0.001074    0.946461   \n",
       "..                                                 ...       ...         ...   \n",
       "876  [#bestoftheday, #follow, #picoftheday, #photoo...  0.001035    0.751113   \n",
       "248                       [#instagood, #me, #followme]  0.001339    0.750901   \n",
       "675       [#instagood, #love, #photooftheday, #follow]  0.001459    0.750676   \n",
       "894  [#instadaily, #follow, #instagood, #followme, ...  0.001078    0.750458   \n",
       "861  [#happy, #instagood, #love, #followme, #beauti...  0.001004    0.750327   \n",
       "\n",
       "           lift  \n",
       "477   68.510876  \n",
       "342  208.535621  \n",
       "712   67.681900  \n",
       "379  133.296959  \n",
       "233  146.354034  \n",
       "..          ...  \n",
       "876  508.130910  \n",
       "248   53.483476  \n",
       "675   68.996791  \n",
       "894  280.539358  \n",
       "861  190.538065  \n",
       "\n",
       "[997 rows x 4 columns]"
      ]
     },
     "execution_count": 53,
     "metadata": {},
     "output_type": "execute_result"
    }
   ],
   "source": [
    "temp = []\n",
    "for i in range(len(result8ff)):\n",
    "  temp.append([list(result8ff[i][0]), result8ff[i][1], result8ff[i][2][0][2], result8ff[i][2][0][3]])\n",
    "\n",
    "apyori_inst_spbf = pd.DataFrame(temp, columns = ['items', 'support', 'confidence', 'lift'])\n",
    "apyori_inst_spbf.sort_values(by=['confidence'], ascending=False)"
   ]
  },
  {
   "cell_type": "code",
   "execution_count": 55,
   "id": "5581720e",
   "metadata": {},
   "outputs": [
    {
     "data": {
      "text/plain": [
       "{'#amazing',\n",
       " '#beautiful',\n",
       " '#bestoftheday',\n",
       " '#cute',\n",
       " '#fashion',\n",
       " '#follow',\n",
       " '#follow4follow',\n",
       " '#followme',\n",
       " '#friends',\n",
       " '#fun',\n",
       " '#happy',\n",
       " '#igers',\n",
       " '#instadaily',\n",
       " '#instagood',\n",
       " '#instalike',\n",
       " '#like4like',\n",
       " '#like4likes',\n",
       " '#likeforfollow',\n",
       " '#likeforlikes',\n",
       " '#liketime',\n",
       " '#love',\n",
       " '#me',\n",
       " '#photooftheday',\n",
       " '#picoftheday',\n",
       " '#selfie',\n",
       " '#smile',\n",
       " '#spbcam',\n",
       " '#spbgram',\n",
       " '#tbt',\n",
       " '#браслет',\n",
       " '#бровипитер',\n",
       " '#бровиспб',\n",
       " '#гельлакдыбенко',\n",
       " '#гельлаккудрово',\n",
       " '#девяткино',\n",
       " '#женскаяодежда',\n",
       " '#инстаграманет',\n",
       " '#инстаманикюр',\n",
       " '#инстаногти',\n",
       " '#инстатаг',\n",
       " '#кольца',\n",
       " '#кудрово',\n",
       " '#кудроволайф',\n",
       " '#макияжпитер',\n",
       " '#макияжспб',\n",
       " '#маникюрбольшевиков',\n",
       " '#маникюрдыбенко',\n",
       " '#маникюркудрово',\n",
       " '#моднаяодежда',\n",
       " '#мурино',\n",
       " '#наращиваниересницпитер',\n",
       " '#наращиваниересницспб',\n",
       " '#новыйоккервиль',\n",
       " '#ногтикудрово',\n",
       " '#педикюрдыбенко',\n",
       " '#педикюркудрово',\n",
       " '#ресницыпитер',\n",
       " '#ресницыспб',\n",
       " '#салонкрасотыпитер',\n",
       " '#салонкрасотыспб',\n",
       " '#серьги',\n",
       " '#украшения',\n",
       " '#шоурумпитер',\n",
       " '#шоурумспб'}"
      ]
     },
     "execution_count": 55,
     "metadata": {},
     "output_type": "execute_result"
    }
   ],
   "source": [
    "adv_tags = set(apyori_inst_spbf['items'].sum())\n",
    "adv_tags"
   ]
  },
  {
   "cell_type": "code",
   "execution_count": 56,
   "id": "7ca2650f",
   "metadata": {},
   "outputs": [],
   "source": [
    "df['hashtags'] = df['hashtags'].apply(delete_adv)"
   ]
  },
  {
   "cell_type": "code",
   "execution_count": 57,
   "id": "9531fcc2",
   "metadata": {},
   "outputs": [
    {
     "name": "stdout",
     "output_type": "stream",
     "text": [
      "3859  posts were deleted, percentage: 0.0011120085687190463\n"
     ]
    }
   ],
   "source": [
    "prev_shape = df.shape[0]\n",
    "df = df.dropna()\n",
    "new_shape = df.shape[0]\n",
    "print(prev_shape - new_shape, ' posts were deleted, percentage:', (prev_shape - new_shape)/post_count)"
   ]
  },
  {
   "cell_type": "code",
   "execution_count": 58,
   "id": "5fef97be",
   "metadata": {},
   "outputs": [],
   "source": [
    "transactions = df['hashtags'].tolist()"
   ]
  },
  {
   "cell_type": "code",
   "execution_count": 60,
   "id": "a0662767",
   "metadata": {},
   "outputs": [
    {
     "name": "stdout",
     "output_type": "stream",
     "text": [
      "CPU times: user 2min 2s, sys: 4.88 s, total: 2min 7s\n",
      "Wall time: 2min 7s\n"
     ]
    }
   ],
   "source": [
    "%%time\n",
    "#0.0009 - 2 min\n",
    "result8ff = list(apyori.apriori(transactions, min_support = 0.0009, min_confidence = 0.75, min_lift = 1.2, min_length = 2))"
   ]
  },
  {
   "cell_type": "code",
   "execution_count": 61,
   "id": "204cdc9c",
   "metadata": {},
   "outputs": [
    {
     "data": {
      "text/html": [
       "<div>\n",
       "<style scoped>\n",
       "    .dataframe tbody tr th:only-of-type {\n",
       "        vertical-align: middle;\n",
       "    }\n",
       "\n",
       "    .dataframe tbody tr th {\n",
       "        vertical-align: top;\n",
       "    }\n",
       "\n",
       "    .dataframe thead th {\n",
       "        text-align: right;\n",
       "    }\n",
       "</style>\n",
       "<table border=\"1\" class=\"dataframe\">\n",
       "  <thead>\n",
       "    <tr style=\"text-align: right;\">\n",
       "      <th></th>\n",
       "      <th>items</th>\n",
       "      <th>support</th>\n",
       "      <th>confidence</th>\n",
       "      <th>lift</th>\n",
       "    </tr>\n",
       "  </thead>\n",
       "  <tbody>\n",
       "    <tr>\n",
       "      <th>7</th>\n",
       "      <td>[#люкс, #стиль, #мода]</td>\n",
       "      <td>0.000905</td>\n",
       "      <td>0.942466</td>\n",
       "      <td>93.220139</td>\n",
       "    </tr>\n",
       "    <tr>\n",
       "      <th>3</th>\n",
       "      <td>[#маникюрдизайн, #маникюрнавыходной]</td>\n",
       "      <td>0.000936</td>\n",
       "      <td>0.932169</td>\n",
       "      <td>403.253957</td>\n",
       "    </tr>\n",
       "    <tr>\n",
       "      <th>1</th>\n",
       "      <td>[#кератинпитер, #кератинспб]</td>\n",
       "      <td>0.000938</td>\n",
       "      <td>0.916810</td>\n",
       "      <td>304.497539</td>\n",
       "    </tr>\n",
       "    <tr>\n",
       "      <th>8</th>\n",
       "      <td>[#стиль, #тренд, #мода]</td>\n",
       "      <td>0.000997</td>\n",
       "      <td>0.870087</td>\n",
       "      <td>86.061069</td>\n",
       "    </tr>\n",
       "    <tr>\n",
       "      <th>9</th>\n",
       "      <td>[#тортспб, #тортназаказспб, #тортназаказ]</td>\n",
       "      <td>0.000946</td>\n",
       "      <td>0.794840</td>\n",
       "      <td>235.487260</td>\n",
       "    </tr>\n",
       "    <tr>\n",
       "      <th>4</th>\n",
       "      <td>[#маникюркупчино, #ногтикупчино]</td>\n",
       "      <td>0.000968</td>\n",
       "      <td>0.793765</td>\n",
       "      <td>237.161983</td>\n",
       "    </tr>\n",
       "    <tr>\n",
       "      <th>6</th>\n",
       "      <td>[#travelphotography, #travel, #travelgram]</td>\n",
       "      <td>0.000981</td>\n",
       "      <td>0.779094</td>\n",
       "      <td>64.972030</td>\n",
       "    </tr>\n",
       "    <tr>\n",
       "      <th>2</th>\n",
       "      <td>[#чисткалицаспб, #косметологспб]</td>\n",
       "      <td>0.000903</td>\n",
       "      <td>0.775295</td>\n",
       "      <td>122.196378</td>\n",
       "    </tr>\n",
       "    <tr>\n",
       "      <th>5</th>\n",
       "      <td>[#шеллакспб, #шеллакпитер]</td>\n",
       "      <td>0.000967</td>\n",
       "      <td>0.756522</td>\n",
       "      <td>117.168896</td>\n",
       "    </tr>\n",
       "    <tr>\n",
       "      <th>0</th>\n",
       "      <td>[#горящиетурыспб, #горящиетуры]</td>\n",
       "      <td>0.000928</td>\n",
       "      <td>0.753324</td>\n",
       "      <td>420.814129</td>\n",
       "    </tr>\n",
       "  </tbody>\n",
       "</table>\n",
       "</div>"
      ],
      "text/plain": [
       "                                        items   support  confidence  \\\n",
       "7                      [#люкс, #стиль, #мода]  0.000905    0.942466   \n",
       "3        [#маникюрдизайн, #маникюрнавыходной]  0.000936    0.932169   \n",
       "1                [#кератинпитер, #кератинспб]  0.000938    0.916810   \n",
       "8                     [#стиль, #тренд, #мода]  0.000997    0.870087   \n",
       "9   [#тортспб, #тортназаказспб, #тортназаказ]  0.000946    0.794840   \n",
       "4            [#маникюркупчино, #ногтикупчино]  0.000968    0.793765   \n",
       "6  [#travelphotography, #travel, #travelgram]  0.000981    0.779094   \n",
       "2            [#чисткалицаспб, #косметологспб]  0.000903    0.775295   \n",
       "5                  [#шеллакспб, #шеллакпитер]  0.000967    0.756522   \n",
       "0             [#горящиетурыспб, #горящиетуры]  0.000928    0.753324   \n",
       "\n",
       "         lift  \n",
       "7   93.220139  \n",
       "3  403.253957  \n",
       "1  304.497539  \n",
       "8   86.061069  \n",
       "9  235.487260  \n",
       "4  237.161983  \n",
       "6   64.972030  \n",
       "2  122.196378  \n",
       "5  117.168896  \n",
       "0  420.814129  "
      ]
     },
     "execution_count": 61,
     "metadata": {},
     "output_type": "execute_result"
    }
   ],
   "source": [
    "temp = []\n",
    "for i in range(len(result8ff)):\n",
    "  temp.append([list(result8ff[i][0]), result8ff[i][1], result8ff[i][2][0][2], result8ff[i][2][0][3]])\n",
    "\n",
    "apyori_inst_spbf = pd.DataFrame(temp, columns = ['items', 'support', 'confidence', 'lift'])\n",
    "apyori_inst_spbf.sort_values(by=['confidence'], ascending=False)"
   ]
  },
  {
   "cell_type": "code",
   "execution_count": 62,
   "id": "4a510a0e",
   "metadata": {},
   "outputs": [
    {
     "data": {
      "text/plain": [
       "{'#travel',\n",
       " '#travelgram',\n",
       " '#travelphotography',\n",
       " '#горящиетуры',\n",
       " '#горящиетурыспб',\n",
       " '#кератинпитер',\n",
       " '#кератинспб',\n",
       " '#косметологспб',\n",
       " '#люкс',\n",
       " '#маникюрдизайн',\n",
       " '#маникюркупчино',\n",
       " '#маникюрнавыходной',\n",
       " '#мода',\n",
       " '#ногтикупчино',\n",
       " '#стиль',\n",
       " '#тортназаказ',\n",
       " '#тортназаказспб',\n",
       " '#тортспб',\n",
       " '#тренд',\n",
       " '#чисткалицаспб',\n",
       " '#шеллакпитер',\n",
       " '#шеллакспб'}"
      ]
     },
     "execution_count": 62,
     "metadata": {},
     "output_type": "execute_result"
    }
   ],
   "source": [
    "adv_tags = set(apyori_inst_spbf['items'].sum())\n",
    "adv_tags"
   ]
  },
  {
   "cell_type": "code",
   "execution_count": 63,
   "id": "59bb5e5b",
   "metadata": {},
   "outputs": [
    {
     "name": "stdout",
     "output_type": "stream",
     "text": [
      "784  posts were deleted, percentage: 0.0002259172629893061\n"
     ]
    }
   ],
   "source": [
    "df['hashtags'] = df['hashtags'].apply(delete_adv)\n",
    "prev_shape = df.shape[0]\n",
    "df = df.dropna()\n",
    "new_shape = df.shape[0]\n",
    "print(prev_shape - new_shape, ' posts were deleted, percentage:', (prev_shape - new_shape)/post_count)"
   ]
  },
  {
   "cell_type": "code",
   "execution_count": 64,
   "id": "8da23cc4",
   "metadata": {},
   "outputs": [],
   "source": [
    "transactions = df['hashtags'].tolist()"
   ]
  },
  {
   "cell_type": "code",
   "execution_count": 66,
   "id": "ea655acc",
   "metadata": {},
   "outputs": [
    {
     "name": "stdout",
     "output_type": "stream",
     "text": [
      "CPU times: user 3min 6s, sys: 5.16 s, total: 3min 11s\n",
      "Wall time: 3min 12s\n"
     ]
    }
   ],
   "source": [
    "%%time\n",
    "#0.0005 - 2 min\n",
    "result8ff = list(apyori.apriori(transactions, min_support = 0.0008, min_confidence = 0.75, min_lift = 1.2, min_length = 2))"
   ]
  },
  {
   "cell_type": "code",
   "execution_count": 67,
   "id": "81d95203",
   "metadata": {},
   "outputs": [
    {
     "data": {
      "text/html": [
       "<div>\n",
       "<style scoped>\n",
       "    .dataframe tbody tr th:only-of-type {\n",
       "        vertical-align: middle;\n",
       "    }\n",
       "\n",
       "    .dataframe tbody tr th {\n",
       "        vertical-align: top;\n",
       "    }\n",
       "\n",
       "    .dataframe thead th {\n",
       "        text-align: right;\n",
       "    }\n",
       "</style>\n",
       "<table border=\"1\" class=\"dataframe\">\n",
       "  <thead>\n",
       "    <tr style=\"text-align: right;\">\n",
       "      <th></th>\n",
       "      <th>items</th>\n",
       "      <th>support</th>\n",
       "      <th>confidence</th>\n",
       "      <th>lift</th>\n",
       "    </tr>\n",
       "  </thead>\n",
       "  <tbody>\n",
       "    <tr>\n",
       "      <th>9</th>\n",
       "      <td>[#балтийскаяжемчужина, #sletat]</td>\n",
       "      <td>0.000861</td>\n",
       "      <td>0.993248</td>\n",
       "      <td>272.590306</td>\n",
       "    </tr>\n",
       "    <tr>\n",
       "      <th>7</th>\n",
       "      <td>[#pegas, #sletat]</td>\n",
       "      <td>0.000861</td>\n",
       "      <td>0.992243</td>\n",
       "      <td>1145.155091</td>\n",
       "    </tr>\n",
       "    <tr>\n",
       "      <th>8</th>\n",
       "      <td>[#pegas, #балтийскаяжемчужина]</td>\n",
       "      <td>0.000861</td>\n",
       "      <td>0.992243</td>\n",
       "      <td>272.314497</td>\n",
       "    </tr>\n",
       "    <tr>\n",
       "      <th>62</th>\n",
       "      <td>[#pegas, #балтийскаяжемчужина, #sletat]</td>\n",
       "      <td>0.000861</td>\n",
       "      <td>0.992243</td>\n",
       "      <td>1152.939966</td>\n",
       "    </tr>\n",
       "    <tr>\n",
       "      <th>45</th>\n",
       "      <td>[#этомодно, #свадьба]</td>\n",
       "      <td>0.000819</td>\n",
       "      <td>0.986953</td>\n",
       "      <td>148.694042</td>\n",
       "    </tr>\n",
       "    <tr>\n",
       "      <th>...</th>\n",
       "      <td>...</td>\n",
       "      <td>...</td>\n",
       "      <td>...</td>\n",
       "      <td>...</td>\n",
       "    </tr>\n",
       "    <tr>\n",
       "      <th>159</th>\n",
       "      <td>[#опт, #этомодно, #украшенияспб]</td>\n",
       "      <td>0.000818</td>\n",
       "      <td>0.775284</td>\n",
       "      <td>947.206151</td>\n",
       "    </tr>\n",
       "    <tr>\n",
       "      <th>158</th>\n",
       "      <td>[#опт, #чтокупить, #украшенияспб]</td>\n",
       "      <td>0.000818</td>\n",
       "      <td>0.775284</td>\n",
       "      <td>947.206151</td>\n",
       "    </tr>\n",
       "    <tr>\n",
       "      <th>157</th>\n",
       "      <td>[#опт, #украшенияспб, #часы]</td>\n",
       "      <td>0.000818</td>\n",
       "      <td>0.775284</td>\n",
       "      <td>943.496907</td>\n",
       "    </tr>\n",
       "    <tr>\n",
       "      <th>156</th>\n",
       "      <td>[#опт, #серебро, #этомодно]</td>\n",
       "      <td>0.000818</td>\n",
       "      <td>0.775284</td>\n",
       "      <td>947.206151</td>\n",
       "    </tr>\n",
       "    <tr>\n",
       "      <th>372</th>\n",
       "      <td>[#опт, #этомодно, #чтокупить, #свадьба]</td>\n",
       "      <td>0.000818</td>\n",
       "      <td>0.775284</td>\n",
       "      <td>947.206151</td>\n",
       "    </tr>\n",
       "  </tbody>\n",
       "</table>\n",
       "<p>1037 rows × 4 columns</p>\n",
       "</div>"
      ],
      "text/plain": [
       "                                       items   support  confidence  \\\n",
       "9            [#балтийскаяжемчужина, #sletat]  0.000861    0.993248   \n",
       "7                          [#pegas, #sletat]  0.000861    0.992243   \n",
       "8             [#pegas, #балтийскаяжемчужина]  0.000861    0.992243   \n",
       "62   [#pegas, #балтийскаяжемчужина, #sletat]  0.000861    0.992243   \n",
       "45                     [#этомодно, #свадьба]  0.000819    0.986953   \n",
       "..                                       ...       ...         ...   \n",
       "159         [#опт, #этомодно, #украшенияспб]  0.000818    0.775284   \n",
       "158        [#опт, #чтокупить, #украшенияспб]  0.000818    0.775284   \n",
       "157             [#опт, #украшенияспб, #часы]  0.000818    0.775284   \n",
       "156              [#опт, #серебро, #этомодно]  0.000818    0.775284   \n",
       "372  [#опт, #этомодно, #чтокупить, #свадьба]  0.000818    0.775284   \n",
       "\n",
       "            lift  \n",
       "9     272.590306  \n",
       "7    1145.155091  \n",
       "8     272.314497  \n",
       "62   1152.939966  \n",
       "45    148.694042  \n",
       "..           ...  \n",
       "159   947.206151  \n",
       "158   947.206151  \n",
       "157   943.496907  \n",
       "156   947.206151  \n",
       "372   947.206151  \n",
       "\n",
       "[1037 rows x 4 columns]"
      ]
     },
     "execution_count": 67,
     "metadata": {},
     "output_type": "execute_result"
    }
   ],
   "source": [
    "temp = []\n",
    "for i in range(len(result8ff)):\n",
    "  temp.append([list(result8ff[i][0]), result8ff[i][1], result8ff[i][2][0][2], result8ff[i][2][0][3]])\n",
    "\n",
    "apyori_inst_spbf = pd.DataFrame(temp, columns = ['items', 'support', 'confidence', 'lift'])\n",
    "apyori_inst_spbf.sort_values(by=['confidence'], ascending=False)"
   ]
  },
  {
   "cell_type": "code",
   "execution_count": 68,
   "id": "b9ccebdd",
   "metadata": {},
   "outputs": [
    {
     "data": {
      "text/plain": [
       "{'#anextour',\n",
       " '#coraltravel',\n",
       " '#pegas',\n",
       " '#sletat',\n",
       " '#tattoo',\n",
       " '#балтийскаяжемчужина',\n",
       " '#богатырский',\n",
       " '#длядевушек',\n",
       " '#люкскачество',\n",
       " '#наподарок',\n",
       " '#опт',\n",
       " '#оптиков',\n",
       " '#свадьба',\n",
       " '#серебро',\n",
       " '#татуировка',\n",
       " '#туристская',\n",
       " '#украшенияспб',\n",
       " '#часы',\n",
       " '#чтокупить',\n",
       " '#этомодно'}"
      ]
     },
     "execution_count": 68,
     "metadata": {},
     "output_type": "execute_result"
    }
   ],
   "source": [
    "adv_tags = set(apyori_inst_spbf['items'].sum())\n",
    "adv_tags"
   ]
  },
  {
   "cell_type": "code",
   "execution_count": null,
   "id": "25ba113d",
   "metadata": {},
   "outputs": [],
   "source": []
  }
 ],
 "metadata": {
  "kernelspec": {
   "display_name": "Python 3",
   "language": "python",
   "name": "python3"
  },
  "language_info": {
   "codemirror_mode": {
    "name": "ipython",
    "version": 3
   },
   "file_extension": ".py",
   "mimetype": "text/x-python",
   "name": "python",
   "nbconvert_exporter": "python",
   "pygments_lexer": "ipython3",
   "version": "3.8.8"
  }
 },
 "nbformat": 4,
 "nbformat_minor": 5
}
