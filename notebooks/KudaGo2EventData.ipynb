{
 "cells": [
  {
   "cell_type": "code",
   "execution_count": 30,
   "metadata": {},
   "outputs": [],
   "source": [
    "import os\n",
    "import time\n",
    "import re\n",
    "from datetime import datetime\n",
    "import json\n",
    "\n",
    "import numpy as np\n",
    "import pandas as pd\n",
    "import plotly.express as px"
   ]
  },
  {
   "cell_type": "code",
   "execution_count": 31,
   "metadata": {},
   "outputs": [],
   "source": [
    "KUDAGO_DATA_PATH = '/mnt/ess_storage/DN_1/storage/home/akorneev/new_kudago'\n",
    "INST_DATA_PATH = '/mnt/ess_storage/DN_1/storage/home/akorneev/instagram_posts'"
   ]
  },
  {
   "cell_type": "code",
   "execution_count": 32,
   "metadata": {},
   "outputs": [
    {
     "data": {
      "text/plain": [
       "(['403-497_clean.csv', '1-402_clean.csv', '497-1653_clean.csv'],\n",
       " ['spb_posts_2018.csv',\n",
       "  'nyc_posts_2018.csv',\n",
       "  'nyc_posts_2019.csv',\n",
       "  'spb_posts_2019.csv',\n",
       "  'nyc_04_02_2019_22-23.csv',\n",
       "  'london_posts_2018.csv',\n",
       "  'moscow_posts_2019.csv',\n",
       "  'nyc_04_02_2019_11-13.csv',\n",
       "  'moscow_posts_2018.csv',\n",
       "  'london_posts_2019.csv'])"
      ]
     },
     "execution_count": 32,
     "metadata": {},
     "output_type": "execute_result"
    }
   ],
   "source": [
    "os.listdir(KUDAGO_DATA_PATH), os.listdir(INST_DATA_PATH)"
   ]
  },
  {
   "cell_type": "markdown",
   "metadata": {},
   "source": [
    "# Data preparation"
   ]
  },
  {
   "cell_type": "markdown",
   "metadata": {},
   "source": [
    "## KudaGo"
   ]
  },
  {
   "cell_type": "code",
   "execution_count": 33,
   "metadata": {},
   "outputs": [],
   "source": [
    "kuda_df = pd.concat([ pd.read_csv(KUDAGO_DATA_PATH + '/' + kuda_table, delimiter=';', encoding='cp1251') for kuda_table in os.listdir(KUDAGO_DATA_PATH)],\n",
    "                    ignore_index=True)"
   ]
  },
  {
   "cell_type": "code",
   "execution_count": 34,
   "metadata": {},
   "outputs": [
    {
     "data": {
      "text/plain": [
       "(165565, 12)"
      ]
     },
     "execution_count": 34,
     "metadata": {},
     "output_type": "execute_result"
    }
   ],
   "source": [
    "kuda_df.shape"
   ]
  },
  {
   "cell_type": "code",
   "execution_count": 35,
   "metadata": {},
   "outputs": [
    {
     "name": "stdout",
     "output_type": "stream",
     "text": [
      "Short name           {'start': 1603645200, 'end': 1603645200}, {'s...\n",
      "Name                                                              msk\n",
      "Description                                                  ['none']\n",
      "Body text                                                    ['none']\n",
      "Dates                                                   entertainment\n",
      "City                интересное,comedy club,free,юмористы,это лето,...\n",
      "Place                                                             NaN\n",
      "Coordinates                                                       NaN\n",
      "Category                                                          NaN\n",
      "Event tag                                                         NaN\n",
      "['description']                                                   NaN\n",
      "['body', 'text']                                                  NaN\n",
      "Name: 12623, dtype: object \n",
      "\n",
      " Short name           {'start': 1576602000, 'end': 1576602000}, {'s...\n",
      "Name                                                              msk\n",
      "Description                                                  ['none']\n",
      "Body text                                                    ['none']\n",
      "Dates                                                   entertainment\n",
      "City                интересное,романтичные места и события,это лет...\n",
      "Place                                                             NaN\n",
      "Coordinates                                                       NaN\n",
      "Category                                                          NaN\n",
      "Event tag                                                         NaN\n",
      "['description']                                                   NaN\n",
      "['body', 'text']                                                  NaN\n",
      "Name: 13653, dtype: object\n"
     ]
    }
   ],
   "source": [
    "# drop incorrect rows\n",
    "print(kuda_df.iloc[12623], '\\n\\n' , kuda_df.iloc[13653])\n",
    "kuda_df = kuda_df.drop(12623)\n",
    "kuda_df = kuda_df.drop(13653)"
   ]
  },
  {
   "cell_type": "code",
   "execution_count": 36,
   "metadata": {},
   "outputs": [],
   "source": [
    "kuda_df.Dates = kuda_df.Dates.apply(lambda x: x if x != '[]' else np.nan)\n",
    "kuda_df.Coordinates = kuda_df.Coordinates.apply(lambda x: x if x != 'None' else np.nan)"
   ]
  },
  {
   "cell_type": "code",
   "execution_count": 37,
   "metadata": {},
   "outputs": [
    {
     "data": {
      "text/plain": [
       "(136478, 12)"
      ]
     },
     "execution_count": 37,
     "metadata": {},
     "output_type": "execute_result"
    }
   ],
   "source": [
    "# drop rows with empty space and date columns\n",
    "kuda_df = kuda_df.dropna(subset = ['Dates', 'Coordinates'])\n",
    "kuda_df.shape"
   ]
  },
  {
   "cell_type": "markdown",
   "metadata": {},
   "source": [
    "Events with multiple dates -> different rows"
   ]
  },
  {
   "cell_type": "code",
   "execution_count": 38,
   "metadata": {},
   "outputs": [],
   "source": [
    "def obj_to_list(x):\n",
    "    if x == \"[]\":\n",
    "        return np.nan\n",
    "    elif isinstance(x, float) and np.isnan(x):\n",
    "        return np.nan\n",
    "    \n",
    "    x = x.replace('[', '').replace(']', '').replace('},', '};')\n",
    "    return x.split(';')"
   ]
  },
  {
   "cell_type": "code",
   "execution_count": 39,
   "metadata": {},
   "outputs": [],
   "source": [
    "kuda_df.Dates = kuda_df.Dates.apply(obj_to_list)"
   ]
  },
  {
   "cell_type": "code",
   "execution_count": 40,
   "metadata": {},
   "outputs": [],
   "source": [
    "kuda_df = kuda_df.explode(\"Dates\").reset_index()"
   ]
  },
  {
   "cell_type": "code",
   "execution_count": 41,
   "metadata": {},
   "outputs": [
    {
     "data": {
      "text/html": [
       "<div>\n",
       "<style scoped>\n",
       "    .dataframe tbody tr th:only-of-type {\n",
       "        vertical-align: middle;\n",
       "    }\n",
       "\n",
       "    .dataframe tbody tr th {\n",
       "        vertical-align: top;\n",
       "    }\n",
       "\n",
       "    .dataframe thead th {\n",
       "        text-align: right;\n",
       "    }\n",
       "</style>\n",
       "<table border=\"1\" class=\"dataframe\">\n",
       "  <thead>\n",
       "    <tr style=\"text-align: right;\">\n",
       "      <th></th>\n",
       "      <th>index</th>\n",
       "      <th>Short name</th>\n",
       "      <th>Name</th>\n",
       "      <th>Description</th>\n",
       "      <th>Body text</th>\n",
       "      <th>Dates</th>\n",
       "      <th>City</th>\n",
       "      <th>Place</th>\n",
       "      <th>Coordinates</th>\n",
       "      <th>Category</th>\n",
       "      <th>Event tag</th>\n",
       "      <th>['description']</th>\n",
       "      <th>['body', 'text']</th>\n",
       "    </tr>\n",
       "  </thead>\n",
       "  <tbody>\n",
       "    <tr>\n",
       "      <th>368779</th>\n",
       "      <td>165563</td>\n",
       "      <td>Евгений Петросян и Елена Степаненко</td>\n",
       "      <td>концерт Евгения Петросяна и Елены Степаненко</td>\n",
       "      <td>NaN</td>\n",
       "      <td>NaN</td>\n",
       "      <td>{'start': 1425819600, 'end': 1425826800}</td>\n",
       "      <td>msk</td>\n",
       "      <td>ул. Лесная,  д. 18</td>\n",
       "      <td>{'lat': 55.77899799999997, 'lon': 37.590300000...</td>\n",
       "      <td>concert,entertainment</td>\n",
       "      <td>шоу,петросян,16+,концерты,новогодние концерты,...</td>\n",
       "      <td>['фееричный', 'юмористический', 'шоу', 'популя...</td>\n",
       "      <td>['один', 'самый', 'востребовать', 'сегодня', '...</td>\n",
       "    </tr>\n",
       "    <tr>\n",
       "      <th>368780</th>\n",
       "      <td>165563</td>\n",
       "      <td>Евгений Петросян и Елена Степаненко</td>\n",
       "      <td>концерт Евгения Петросяна и Елены Степаненко</td>\n",
       "      <td>NaN</td>\n",
       "      <td>NaN</td>\n",
       "      <td>{'start': 1428249600, 'end': 1428256800}</td>\n",
       "      <td>msk</td>\n",
       "      <td>ул. Лесная,  д. 18</td>\n",
       "      <td>{'lat': 55.77899799999997, 'lon': 37.590300000...</td>\n",
       "      <td>concert,entertainment</td>\n",
       "      <td>шоу,петросян,16+,концерты,новогодние концерты,...</td>\n",
       "      <td>['фееричный', 'юмористический', 'шоу', 'популя...</td>\n",
       "      <td>['один', 'самый', 'востребовать', 'сегодня', '...</td>\n",
       "    </tr>\n",
       "    <tr>\n",
       "      <th>368781</th>\n",
       "      <td>165563</td>\n",
       "      <td>Евгений Петросян и Елена Степаненко</td>\n",
       "      <td>концерт Евгения Петросяна и Елены Степаненко</td>\n",
       "      <td>NaN</td>\n",
       "      <td>NaN</td>\n",
       "      <td>{'start': 1451926800, 'end': 1451934000}</td>\n",
       "      <td>msk</td>\n",
       "      <td>ул. Лесная,  д. 18</td>\n",
       "      <td>{'lat': 55.77899799999997, 'lon': 37.590300000...</td>\n",
       "      <td>concert,entertainment</td>\n",
       "      <td>шоу,петросян,16+,концерты,новогодние концерты,...</td>\n",
       "      <td>['фееричный', 'юмористический', 'шоу', 'популя...</td>\n",
       "      <td>['один', 'самый', 'востребовать', 'сегодня', '...</td>\n",
       "    </tr>\n",
       "    <tr>\n",
       "      <th>368782</th>\n",
       "      <td>165563</td>\n",
       "      <td>Евгений Петросян и Елена Степаненко</td>\n",
       "      <td>концерт Евгения Петросяна и Елены Степаненко</td>\n",
       "      <td>NaN</td>\n",
       "      <td>NaN</td>\n",
       "      <td>{'start': 1483804800, 'end': 1483812000}</td>\n",
       "      <td>msk</td>\n",
       "      <td>ул. Лесная,  д. 18</td>\n",
       "      <td>{'lat': 55.77899799999997, 'lon': 37.590300000...</td>\n",
       "      <td>concert,entertainment</td>\n",
       "      <td>шоу,петросян,16+,концерты,новогодние концерты,...</td>\n",
       "      <td>['фееричный', 'юмористический', 'шоу', 'популя...</td>\n",
       "      <td>['один', 'самый', 'востребовать', 'сегодня', '...</td>\n",
       "    </tr>\n",
       "    <tr>\n",
       "      <th>368783</th>\n",
       "      <td>165564</td>\n",
       "      <td>NaN</td>\n",
       "      <td>выставка «Мемориальная мастерская Т.Г. Шевченко»</td>\n",
       "      <td>NaN</td>\n",
       "      <td>NaN</td>\n",
       "      <td>{'start': 1415437200, 'end': 1415901600}</td>\n",
       "      <td>spb</td>\n",
       "      <td>ул. Шамшева, д. 8</td>\n",
       "      <td>{'lat': 59.96041644411368, 'lon': 30.300563867...</td>\n",
       "      <td>exhibition</td>\n",
       "      <td>выставки,история и личности</td>\n",
       "      <td>['единственный', 'место', 'санкт', 'петербург'...</td>\n",
       "      <td>['мастерская', 'представлять', 'себя', 'уютный...</td>\n",
       "    </tr>\n",
       "  </tbody>\n",
       "</table>\n",
       "</div>"
      ],
      "text/plain": [
       "         index                           Short name  \\\n",
       "368779  165563  Евгений Петросян и Елена Степаненко   \n",
       "368780  165563  Евгений Петросян и Елена Степаненко   \n",
       "368781  165563  Евгений Петросян и Елена Степаненко   \n",
       "368782  165563  Евгений Петросян и Елена Степаненко   \n",
       "368783  165564                                  NaN   \n",
       "\n",
       "                                                    Name Description  \\\n",
       "368779      концерт Евгения Петросяна и Елены Степаненко         NaN   \n",
       "368780      концерт Евгения Петросяна и Елены Степаненко         NaN   \n",
       "368781      концерт Евгения Петросяна и Елены Степаненко         NaN   \n",
       "368782      концерт Евгения Петросяна и Елены Степаненко         NaN   \n",
       "368783  выставка «Мемориальная мастерская Т.Г. Шевченко»         NaN   \n",
       "\n",
       "       Body text                                      Dates City  \\\n",
       "368779       NaN   {'start': 1425819600, 'end': 1425826800}  msk   \n",
       "368780       NaN   {'start': 1428249600, 'end': 1428256800}  msk   \n",
       "368781       NaN   {'start': 1451926800, 'end': 1451934000}  msk   \n",
       "368782       NaN   {'start': 1483804800, 'end': 1483812000}  msk   \n",
       "368783       NaN   {'start': 1415437200, 'end': 1415901600}  spb   \n",
       "\n",
       "                     Place                                        Coordinates  \\\n",
       "368779  ул. Лесная,  д. 18  {'lat': 55.77899799999997, 'lon': 37.590300000...   \n",
       "368780  ул. Лесная,  д. 18  {'lat': 55.77899799999997, 'lon': 37.590300000...   \n",
       "368781  ул. Лесная,  д. 18  {'lat': 55.77899799999997, 'lon': 37.590300000...   \n",
       "368782  ул. Лесная,  д. 18  {'lat': 55.77899799999997, 'lon': 37.590300000...   \n",
       "368783   ул. Шамшева, д. 8  {'lat': 59.96041644411368, 'lon': 30.300563867...   \n",
       "\n",
       "                     Category  \\\n",
       "368779  concert,entertainment   \n",
       "368780  concert,entertainment   \n",
       "368781  concert,entertainment   \n",
       "368782  concert,entertainment   \n",
       "368783             exhibition   \n",
       "\n",
       "                                                Event tag  \\\n",
       "368779  шоу,петросян,16+,концерты,новогодние концерты,...   \n",
       "368780  шоу,петросян,16+,концерты,новогодние концерты,...   \n",
       "368781  шоу,петросян,16+,концерты,новогодние концерты,...   \n",
       "368782  шоу,петросян,16+,концерты,новогодние концерты,...   \n",
       "368783                        выставки,история и личности   \n",
       "\n",
       "                                          ['description']  \\\n",
       "368779  ['фееричный', 'юмористический', 'шоу', 'популя...   \n",
       "368780  ['фееричный', 'юмористический', 'шоу', 'популя...   \n",
       "368781  ['фееричный', 'юмористический', 'шоу', 'популя...   \n",
       "368782  ['фееричный', 'юмористический', 'шоу', 'популя...   \n",
       "368783  ['единственный', 'место', 'санкт', 'петербург'...   \n",
       "\n",
       "                                         ['body', 'text']  \n",
       "368779  ['один', 'самый', 'востребовать', 'сегодня', '...  \n",
       "368780  ['один', 'самый', 'востребовать', 'сегодня', '...  \n",
       "368781  ['один', 'самый', 'востребовать', 'сегодня', '...  \n",
       "368782  ['один', 'самый', 'востребовать', 'сегодня', '...  \n",
       "368783  ['мастерская', 'представлять', 'себя', 'уютный...  "
      ]
     },
     "execution_count": 41,
     "metadata": {},
     "output_type": "execute_result"
    }
   ],
   "source": [
    "kuda_df.tail(5)"
   ]
  },
  {
   "cell_type": "markdown",
   "metadata": {},
   "source": [
    "## Instagram"
   ]
  },
  {
   "cell_type": "code",
   "execution_count": 28,
   "metadata": {},
   "outputs": [],
   "source": [
    "inst_spb_2018 = pd.read_csv(INST_DATA_PATH + '/' + 'spb_posts_2018.csv')"
   ]
  },
  {
   "cell_type": "code",
   "execution_count": 15,
   "metadata": {},
   "outputs": [],
   "source": [
    "inst_msk_2018 = pd.read_csv(INST_DATA_PATH + '/' + 'moscow_posts_2018.csv')"
   ]
  },
  {
   "cell_type": "markdown",
   "metadata": {},
   "source": [
    "# Datasets connection"
   ]
  },
  {
   "cell_type": "markdown",
   "metadata": {},
   "source": [
    "## Extracting 'start' and 'end' dates for KudaGo"
   ]
  },
  {
   "cell_type": "code",
   "execution_count": 42,
   "metadata": {},
   "outputs": [],
   "source": [
    "def get_value(x, val, val_type):\n",
    "    if x == \"[]\":\n",
    "        return \"\"\n",
    "    elif isinstance(x, float) and np.isnan(x):\n",
    "        return \"\"\n",
    "    \n",
    "    try:\n",
    "        json_parsed = json.loads(x.replace(\"'\", '\"').replace('None', '\"None\"'))\n",
    "    except:\n",
    "        print(type(x), x)\n",
    "        \n",
    "    try:\n",
    "        answer = val_type( json_parsed[val] )\n",
    "    except:\n",
    "        answer = np.nan\n",
    "        \n",
    "    return answer"
   ]
  },
  {
   "cell_type": "code",
   "execution_count": 43,
   "metadata": {},
   "outputs": [],
   "source": [
    "kuda_df['Start_date'] = kuda_df.Dates.apply(get_value, args = ['start', int])"
   ]
  },
  {
   "cell_type": "code",
   "execution_count": 44,
   "metadata": {},
   "outputs": [],
   "source": [
    "kuda_df['End_date'] = kuda_df.Dates.apply(get_value, args = ['end', int])"
   ]
  },
  {
   "cell_type": "code",
   "execution_count": 45,
   "metadata": {},
   "outputs": [],
   "source": [
    "kuda_df['lat'] = kuda_df.Coordinates.apply(get_value, args = ['lat', float])"
   ]
  },
  {
   "cell_type": "code",
   "execution_count": 46,
   "metadata": {},
   "outputs": [],
   "source": [
    "kuda_df['lon'] = kuda_df.Coordinates.apply(get_value, args = ['lon', float])"
   ]
  },
  {
   "cell_type": "code",
   "execution_count": 47,
   "metadata": {},
   "outputs": [
    {
     "name": "stdout",
     "output_type": "stream",
     "text": [
      "(368784, 17)\n",
      "(368716, 17)\n"
     ]
    }
   ],
   "source": [
    "print(kuda_df.shape)\n",
    "kuda_df = kuda_df.dropna(subset = ['lat', 'lon', 'Start_date', 'End_date'])\n",
    "print(kuda_df.shape)"
   ]
  },
  {
   "cell_type": "markdown",
   "metadata": {},
   "source": [
    "## Instagram and KudaGo connection"
   ]
  },
  {
   "cell_type": "code",
   "execution_count": 48,
   "metadata": {},
   "outputs": [
    {
     "data": {
      "text/plain": [
       "(1514764800, 1588291200)"
      ]
     },
     "execution_count": 48,
     "metadata": {},
     "output_type": "execute_result"
    }
   ],
   "source": [
    "# Inst data exists for 2018 - 2020 (till april) years for spb and msk, cutting the rest\n",
    "begin = int(time.mktime(datetime(2018, 1, 1, 0, 0).timetuple()))\n",
    "finish = int(time.mktime(datetime(2020, 5, 1, 0, 0).timetuple()))\n",
    "begin, finish"
   ]
  },
  {
   "cell_type": "code",
   "execution_count": 49,
   "metadata": {},
   "outputs": [],
   "source": [
    "#ts = int('1514764800')\n",
    "#print(datetime.utcfromtimestamp(ts).strftime('%Y-%m-%d %H:%M:%S'))"
   ]
  },
  {
   "cell_type": "code",
   "execution_count": 50,
   "metadata": {},
   "outputs": [
    {
     "data": {
      "text/plain": [
       "((49540, 17), (37890, 17))"
      ]
     },
     "execution_count": 50,
     "metadata": {},
     "output_type": "execute_result"
    }
   ],
   "source": [
    "kuda_msk = kuda_df[(kuda_df.Start_date > 1514764800) & (kuda_df.End_date < 1588291200) & (kuda_df.City == 'msk')]\n",
    "kuda_spb = kuda_df[(kuda_df.Start_date > 1514764800) & (kuda_df.End_date < 1588291200) & (kuda_df.City == 'spb')]\n",
    "kuda_msk.shape, kuda_spb.shape"
   ]
  },
  {
   "cell_type": "code",
   "execution_count": 51,
   "metadata": {},
   "outputs": [],
   "source": [
    "\"\"\"\n",
    "kuda_row - row of KudaGo data with \"lon\", \"lat\", \"Start_date\", \"End_date\" columns\n",
    "Inst_df - Instagram df with \"timestamp\", \"lat\", \"lon\"\n",
    "time_shift - UNIX timestamp, temporal shift (in seconds)\n",
    "space_shift - Degrees, sparial shift\n",
    "\n",
    "\"\"\"\n",
    "def connect_Kuda2Inst(kuda_row, inst_df, time_shift, space_shift, spatial_type='rectangle'):\n",
    "    # temporal filtering\n",
    "    posts = inst_df[(inst_df.timestamp > ( kuda_row.Start_date - time_shift )) & (inst_df.timestamp < ( kuda_row.End_date + time_shift ))]\n",
    "    \n",
    "    # spatial filtering\n",
    "    if spatial_type == 'rectangle':\n",
    "        posts = posts[(posts.lat > ( kuda_row.lat - space_shift )) & (posts.lat < ( kuda_row.lat + space_shift ))]\n",
    "        posts = posts[(posts.lon > ( kuda_row.lon - space_shift )) & (posts.lon < ( kuda_row.lon + space_shift ))]   \n",
    "    elif spatial_type == 'circle':\n",
    "        raise ValueError('Circle type is not supported for now')\n",
    "    else:\n",
    "        raise ValueError('Unknown spatial type value')\n",
    "                                                                 \n",
    "    return list(posts.shortcode), posts"
   ]
  },
  {
   "cell_type": "markdown",
   "metadata": {},
   "source": [
    "## testing"
   ]
  },
  {
   "cell_type": "code",
   "execution_count": 73,
   "metadata": {},
   "outputs": [
    {
     "data": {
      "text/plain": [
       "index                                                               5\n",
       "Short name                                               Пиковая дама\n",
       "Name                спектакль «Пиковая дама» в постановке «Коляда-...\n",
       "Description         ['оригинальный', 'вариация', 'пиковый', 'дама'...\n",
       "Body text           ['пиковый', 'дама', 'коляда', 'дерзкий', 'авто...\n",
       "Dates                        {'start': 1516204800, 'end': 1516204800}\n",
       "City                                                              msk\n",
       "Place                                            Страстной б-р, д. 8а\n",
       "Coordinates              {'lat': 55.76625299999996, 'lon': 37.610826}\n",
       "Category                                                      theater\n",
       "Event tag           экспериментальный театр,современная драматурги...\n",
       "['description']                                                   NaN\n",
       "['body', 'text']                                                  NaN\n",
       "Start_date                                                 1516204800\n",
       "End_date                                                   1516204800\n",
       "lat                                                         55.766253\n",
       "lon                                                         37.610826\n",
       "Name: 6, dtype: object"
      ]
     },
     "execution_count": 73,
     "metadata": {},
     "output_type": "execute_result"
    }
   ],
   "source": [
    "kuda_msk.iloc[2]"
   ]
  },
  {
   "cell_type": "code",
   "execution_count": 64,
   "metadata": {},
   "outputs": [
    {
     "data": {
      "text/plain": [
       "['BeDtvYmlvll',\n",
       " 'BeDrSSODByU',\n",
       " 'BeDn6e-g7b9',\n",
       " 'BeDnrKaD9pb',\n",
       " 'BeDnQeTDNRP',\n",
       " 'BeDm5j_h7Ms',\n",
       " 'BeDmpujFPYG',\n",
       " 'BeDmhMQFgLh',\n",
       " 'BeDhcRwFsXH']"
      ]
     },
     "execution_count": 64,
     "metadata": {},
     "output_type": "execute_result"
    }
   ],
   "source": [
    "answer = connect_Kuda2Inst(kuda_msk.iloc[2], inst_msk_2018, 60 * 60, 0.005, 'rectangle')\n",
    "answer[0]"
   ]
  },
  {
   "cell_type": "code",
   "execution_count": 66,
   "metadata": {},
   "outputs": [
    {
     "data": {
      "text/html": [
       "<div>\n",
       "<style scoped>\n",
       "    .dataframe tbody tr th:only-of-type {\n",
       "        vertical-align: middle;\n",
       "    }\n",
       "\n",
       "    .dataframe tbody tr th {\n",
       "        vertical-align: top;\n",
       "    }\n",
       "\n",
       "    .dataframe thead th {\n",
       "        text-align: right;\n",
       "    }\n",
       "</style>\n",
       "<table border=\"1\" class=\"dataframe\">\n",
       "  <thead>\n",
       "    <tr style=\"text-align: right;\">\n",
       "      <th></th>\n",
       "      <th>id</th>\n",
       "      <th>shortcode</th>\n",
       "      <th>imageurl</th>\n",
       "      <th>isvideo</th>\n",
       "      <th>caption</th>\n",
       "      <th>commentscount</th>\n",
       "      <th>timestamp</th>\n",
       "      <th>likescount</th>\n",
       "      <th>isad</th>\n",
       "      <th>authorid</th>\n",
       "      <th>locationid</th>\n",
       "      <th>lat</th>\n",
       "      <th>lon</th>\n",
       "    </tr>\n",
       "  </thead>\n",
       "  <tbody>\n",
       "    <tr>\n",
       "      <th>3103671</th>\n",
       "      <td>1694399053147076965</td>\n",
       "      <td>BeDtvYmlvll</td>\n",
       "      <td>https://scontent-iad3-1.cdninstagram.com/v/t51...</td>\n",
       "      <td>f</td>\n",
       "      <td>#юнонаиавось</td>\n",
       "      <td>0</td>\n",
       "      <td>1516208129</td>\n",
       "      <td>29</td>\n",
       "      <td>f</td>\n",
       "      <td>1524847225</td>\n",
       "      <td>500210865</td>\n",
       "      <td>55.767713</td>\n",
       "      <td>37.606409</td>\n",
       "    </tr>\n",
       "    <tr>\n",
       "      <th>3103672</th>\n",
       "      <td>1694388257335024788</td>\n",
       "      <td>BeDrSSODByU</td>\n",
       "      <td>https://scontent-iad3-1.cdninstagram.com/v/t51...</td>\n",
       "      <td>f</td>\n",
       "      <td>Михаил Пуговкин:\\n🔴Когда Станиславского спроси...</td>\n",
       "      <td>50</td>\n",
       "      <td>1516206842</td>\n",
       "      <td>2964</td>\n",
       "      <td>f</td>\n",
       "      <td>3851522673</td>\n",
       "      <td>500210865</td>\n",
       "      <td>55.767713</td>\n",
       "      <td>37.606409</td>\n",
       "    </tr>\n",
       "    <tr>\n",
       "      <th>3103673</th>\n",
       "      <td>1694373427626096381</td>\n",
       "      <td>BeDn6e-g7b9</td>\n",
       "      <td>https://scontent-iad3-1.cdninstagram.com/v/t51...</td>\n",
       "      <td>f</td>\n",
       "      <td>Прямо сейчас в ожидании легендарной рок-оперы ...</td>\n",
       "      <td>0</td>\n",
       "      <td>1516205074</td>\n",
       "      <td>62</td>\n",
       "      <td>f</td>\n",
       "      <td>2242753534</td>\n",
       "      <td>500210865</td>\n",
       "      <td>55.767713</td>\n",
       "      <td>37.606409</td>\n",
       "    </tr>\n",
       "    <tr>\n",
       "      <th>3103674</th>\n",
       "      <td>1694372374747535963</td>\n",
       "      <td>BeDnrKaD9pb</td>\n",
       "      <td>https://scontent-iad3-1.cdninstagram.com/v/t51...</td>\n",
       "      <td>f</td>\n",
       "      <td>Сегодня в программе - культпоход ❤️ #ленком #l...</td>\n",
       "      <td>0</td>\n",
       "      <td>1516204948</td>\n",
       "      <td>10</td>\n",
       "      <td>f</td>\n",
       "      <td>393445001</td>\n",
       "      <td>500210865</td>\n",
       "      <td>55.767713</td>\n",
       "      <td>37.606409</td>\n",
       "    </tr>\n",
       "    <tr>\n",
       "      <th>3103675</th>\n",
       "      <td>1694370540678861903</td>\n",
       "      <td>BeDnQeTDNRP</td>\n",
       "      <td>https://scontent-iad3-1.cdninstagram.com/v/t51...</td>\n",
       "      <td>f</td>\n",
       "      <td>Юнона и авось. Я так давно хотел это увидеть. ...</td>\n",
       "      <td>4</td>\n",
       "      <td>1516204730</td>\n",
       "      <td>72</td>\n",
       "      <td>f</td>\n",
       "      <td>3452123501</td>\n",
       "      <td>500210865</td>\n",
       "      <td>55.767713</td>\n",
       "      <td>37.606409</td>\n",
       "    </tr>\n",
       "    <tr>\n",
       "      <th>3103676</th>\n",
       "      <td>1694368966245856044</td>\n",
       "      <td>BeDm5j_h7Ms</td>\n",
       "      <td>https://scontent-iad3-1.cdninstagram.com/v/t51...</td>\n",
       "      <td>f</td>\n",
       "      <td>С надеждой на окультуривание направились в Лен...</td>\n",
       "      <td>6</td>\n",
       "      <td>1516204542</td>\n",
       "      <td>1175</td>\n",
       "      <td>f</td>\n",
       "      <td>18087245</td>\n",
       "      <td>500210865</td>\n",
       "      <td>55.767713</td>\n",
       "      <td>37.606409</td>\n",
       "    </tr>\n",
       "    <tr>\n",
       "      <th>3103677</th>\n",
       "      <td>1694367878068106758</td>\n",
       "      <td>BeDmpujFPYG</td>\n",
       "      <td>https://scontent-iad3-1.cdninstagram.com/v/t51...</td>\n",
       "      <td>f</td>\n",
       "      <td>Сегодня очень культурная программа *Юнона и Ав...</td>\n",
       "      <td>12</td>\n",
       "      <td>1516204412</td>\n",
       "      <td>44</td>\n",
       "      <td>f</td>\n",
       "      <td>2102947433</td>\n",
       "      <td>500210865</td>\n",
       "      <td>55.767713</td>\n",
       "      <td>37.606409</td>\n",
       "    </tr>\n",
       "    <tr>\n",
       "      <th>3103678</th>\n",
       "      <td>1694367291486372577</td>\n",
       "      <td>BeDmhMQFgLh</td>\n",
       "      <td>https://scontent-iad3-1.cdninstagram.com/v/t51...</td>\n",
       "      <td>f</td>\n",
       "      <td>#юнонаиавось</td>\n",
       "      <td>2</td>\n",
       "      <td>1516204342</td>\n",
       "      <td>68</td>\n",
       "      <td>f</td>\n",
       "      <td>507587846</td>\n",
       "      <td>500210865</td>\n",
       "      <td>55.767713</td>\n",
       "      <td>37.606409</td>\n",
       "    </tr>\n",
       "    <tr>\n",
       "      <th>3107015</th>\n",
       "      <td>1694344963562063303</td>\n",
       "      <td>BeDhcRwFsXH</td>\n",
       "      <td>https://instagram.frix7-1.fna.fbcdn.net/v/t51....</td>\n",
       "      <td>f</td>\n",
       "      <td>Keep going! 🏃🏻‍♀️🏃🏻‍♀️\\nПочему бы не взять за ...</td>\n",
       "      <td>9</td>\n",
       "      <td>1516201681</td>\n",
       "      <td>692</td>\n",
       "      <td>f</td>\n",
       "      <td>460922071</td>\n",
       "      <td>269321222</td>\n",
       "      <td>55.767030</td>\n",
       "      <td>37.607820</td>\n",
       "    </tr>\n",
       "  </tbody>\n",
       "</table>\n",
       "</div>"
      ],
      "text/plain": [
       "                          id    shortcode  \\\n",
       "3103671  1694399053147076965  BeDtvYmlvll   \n",
       "3103672  1694388257335024788  BeDrSSODByU   \n",
       "3103673  1694373427626096381  BeDn6e-g7b9   \n",
       "3103674  1694372374747535963  BeDnrKaD9pb   \n",
       "3103675  1694370540678861903  BeDnQeTDNRP   \n",
       "3103676  1694368966245856044  BeDm5j_h7Ms   \n",
       "3103677  1694367878068106758  BeDmpujFPYG   \n",
       "3103678  1694367291486372577  BeDmhMQFgLh   \n",
       "3107015  1694344963562063303  BeDhcRwFsXH   \n",
       "\n",
       "                                                  imageurl isvideo  \\\n",
       "3103671  https://scontent-iad3-1.cdninstagram.com/v/t51...       f   \n",
       "3103672  https://scontent-iad3-1.cdninstagram.com/v/t51...       f   \n",
       "3103673  https://scontent-iad3-1.cdninstagram.com/v/t51...       f   \n",
       "3103674  https://scontent-iad3-1.cdninstagram.com/v/t51...       f   \n",
       "3103675  https://scontent-iad3-1.cdninstagram.com/v/t51...       f   \n",
       "3103676  https://scontent-iad3-1.cdninstagram.com/v/t51...       f   \n",
       "3103677  https://scontent-iad3-1.cdninstagram.com/v/t51...       f   \n",
       "3103678  https://scontent-iad3-1.cdninstagram.com/v/t51...       f   \n",
       "3107015  https://instagram.frix7-1.fna.fbcdn.net/v/t51....       f   \n",
       "\n",
       "                                                   caption  commentscount  \\\n",
       "3103671                                       #юнонаиавось              0   \n",
       "3103672  Михаил Пуговкин:\\n🔴Когда Станиславского спроси...             50   \n",
       "3103673  Прямо сейчас в ожидании легендарной рок-оперы ...              0   \n",
       "3103674  Сегодня в программе - культпоход ❤️ #ленком #l...              0   \n",
       "3103675  Юнона и авось. Я так давно хотел это увидеть. ...              4   \n",
       "3103676  С надеждой на окультуривание направились в Лен...              6   \n",
       "3103677  Сегодня очень культурная программа *Юнона и Ав...             12   \n",
       "3103678                                       #юнонаиавось              2   \n",
       "3107015  Keep going! 🏃🏻‍♀️🏃🏻‍♀️\\nПочему бы не взять за ...              9   \n",
       "\n",
       "          timestamp  likescount isad    authorid  locationid        lat  \\\n",
       "3103671  1516208129          29    f  1524847225   500210865  55.767713   \n",
       "3103672  1516206842        2964    f  3851522673   500210865  55.767713   \n",
       "3103673  1516205074          62    f  2242753534   500210865  55.767713   \n",
       "3103674  1516204948          10    f   393445001   500210865  55.767713   \n",
       "3103675  1516204730          72    f  3452123501   500210865  55.767713   \n",
       "3103676  1516204542        1175    f    18087245   500210865  55.767713   \n",
       "3103677  1516204412          44    f  2102947433   500210865  55.767713   \n",
       "3103678  1516204342          68    f   507587846   500210865  55.767713   \n",
       "3107015  1516201681         692    f   460922071   269321222  55.767030   \n",
       "\n",
       "               lon  \n",
       "3103671  37.606409  \n",
       "3103672  37.606409  \n",
       "3103673  37.606409  \n",
       "3103674  37.606409  \n",
       "3103675  37.606409  \n",
       "3103676  37.606409  \n",
       "3103677  37.606409  \n",
       "3103678  37.606409  \n",
       "3107015  37.607820  "
      ]
     },
     "execution_count": 66,
     "metadata": {},
     "output_type": "execute_result"
    }
   ],
   "source": [
    "answer[1]"
   ]
  },
  {
   "cell_type": "markdown",
   "metadata": {},
   "source": [
    "## MSK dataset"
   ]
  },
  {
   "cell_type": "code",
   "execution_count": 76,
   "metadata": {},
   "outputs": [
    {
     "name": "stdout",
     "output_type": "stream",
     "text": [
      "1000 / 49540\n"
     ]
    }
   ],
   "source": [
    "msk_connections = dict()\n",
    "counter = 0\n",
    "for index, row in kuda_msk.iterrows():\n",
    "    if counter % 1000 == 0 and counter != 0:\n",
    "        print(counter, '/', kuda_msk.shape[0])\n",
    "        break\n",
    "    counter += 1\n",
    "    answer = connect_Kuda2Inst(row, inst_msk_2018, 60 * 60, 0.01, 'rectangle')[0]\n",
    "    if len(answer) > 0:\n",
    "        msk_connections[row[0]] = answer"
   ]
  },
  {
   "cell_type": "code",
   "execution_count": 78,
   "metadata": {},
   "outputs": [
    {
     "data": {
      "text/plain": [
       "['Bn4DVv_nytn',\n",
       " 'Bn4Fol_jbjR',\n",
       " 'Bn4FWKhjtmK',\n",
       " 'Bn4ALtqnb9K',\n",
       " 'Bn4Dy5Sn-tI',\n",
       " 'Bn4DhpnFCUm',\n",
       " 'Bn4GSiHlZb6',\n",
       " 'Bn4GIvDHlwC',\n",
       " 'Bn4G-kAAOVJ',\n",
       " 'Bn4CD23gSgB',\n",
       " 'Bn4A8JJhIp0',\n",
       " 'Bn4AlslhUrf',\n",
       " 'Bn4C4LkjL3a',\n",
       " 'Bn4BH2bA1iw',\n",
       " 'Bn4AvKEh_WY',\n",
       " 'Bn3-Dw3DOdF']"
      ]
     },
     "execution_count": 78,
     "metadata": {},
     "output_type": "execute_result"
    }
   ],
   "source": [
    "msk_connections[2]"
   ]
  },
  {
   "cell_type": "markdown",
   "metadata": {},
   "source": [
    "### checking"
   ]
  },
  {
   "cell_type": "code",
   "execution_count": 845,
   "metadata": {},
   "outputs": [
    {
     "data": {
      "text/plain": [
       "index                                                              28\n",
       "Short name                             Евгений Онегин. Своими словами\n",
       "Name                спектакль «Евгений Онегин. Своими словами» в Т...\n",
       "Description         ['спектакль', 'ребёнок', 'евгений', 'онегин', ...\n",
       "Body text           ['создатель', 'постановка', 'вовсе', 'намерить...\n",
       "Dates                        {'start': 1560963600, 'end': 1560969000}\n",
       "City                                                              msk\n",
       "Place                                             ул. Сретенка, д. 19\n",
       "Coordinates         {'lat': 55.77019711398269, 'lon': 37.631941461...\n",
       "Category                                                 theater,kids\n",
       "Event tag           евгений онегин,спектакли,драматические постано...\n",
       "['description']                                                   NaN\n",
       "['body', 'text']                                                  NaN\n",
       "Start_date                                                 1560963600\n",
       "End_date                                                   1560969000\n",
       "lat                                                         55.770197\n",
       "lon                                                         37.631941\n",
       "Name: 198, dtype: object"
      ]
     },
     "execution_count": 845,
     "metadata": {},
     "output_type": "execute_result"
    }
   ],
   "source": [
    "kuda_msk.iloc[28]"
   ]
  },
  {
   "cell_type": "code",
   "execution_count": 822,
   "metadata": {},
   "outputs": [
    {
     "data": {
      "text/html": [
       "<div>\n",
       "<style scoped>\n",
       "    .dataframe tbody tr th:only-of-type {\n",
       "        vertical-align: middle;\n",
       "    }\n",
       "\n",
       "    .dataframe tbody tr th {\n",
       "        vertical-align: top;\n",
       "    }\n",
       "\n",
       "    .dataframe thead th {\n",
       "        text-align: right;\n",
       "    }\n",
       "</style>\n",
       "<table border=\"1\" class=\"dataframe\">\n",
       "  <thead>\n",
       "    <tr style=\"text-align: right;\">\n",
       "      <th></th>\n",
       "      <th>id</th>\n",
       "      <th>shortcode</th>\n",
       "      <th>imageurl</th>\n",
       "      <th>isvideo</th>\n",
       "      <th>caption</th>\n",
       "      <th>commentscount</th>\n",
       "      <th>timestamp</th>\n",
       "      <th>likescount</th>\n",
       "      <th>isad</th>\n",
       "      <th>authorid</th>\n",
       "      <th>locationid</th>\n",
       "      <th>lat</th>\n",
       "      <th>lon</th>\n",
       "    </tr>\n",
       "  </thead>\n",
       "  <tbody>\n",
       "    <tr>\n",
       "      <th>2330904</th>\n",
       "      <td>2069822754013664050</td>\n",
       "      <td>By5fNQRAVMy</td>\n",
       "      <td>https://scontent-sea1-1.cdninstagram.com/v/t51...</td>\n",
       "      <td>f</td>\n",
       "      <td>Совсем недавно я давала интервью каналу @78_ch...</td>\n",
       "      <td>0</td>\n",
       "      <td>1560962121</td>\n",
       "      <td>55</td>\n",
       "      <td>f</td>\n",
       "      <td>8974270374</td>\n",
       "      <td>1616111155139848</td>\n",
       "      <td>55.72189</td>\n",
       "      <td>37.63873</td>\n",
       "    </tr>\n",
       "  </tbody>\n",
       "</table>\n",
       "</div>"
      ],
      "text/plain": [
       "                          id    shortcode  \\\n",
       "2330904  2069822754013664050  By5fNQRAVMy   \n",
       "\n",
       "                                                  imageurl isvideo  \\\n",
       "2330904  https://scontent-sea1-1.cdninstagram.com/v/t51...       f   \n",
       "\n",
       "                                                   caption  commentscount  \\\n",
       "2330904  Совсем недавно я давала интервью каналу @78_ch...              0   \n",
       "\n",
       "          timestamp  likescount isad    authorid        locationid       lat  \\\n",
       "2330904  1560962121          55    f  8974270374  1616111155139848  55.72189   \n",
       "\n",
       "              lon  \n",
       "2330904  37.63873  "
      ]
     },
     "execution_count": 822,
     "metadata": {},
     "output_type": "execute_result"
    }
   ],
   "source": [
    "inst_df[inst_df.shortcode == 'By5fNQRAVMy']"
   ]
  },
  {
   "cell_type": "code",
   "execution_count": 868,
   "metadata": {},
   "outputs": [
    {
     "data": {
      "text/plain": [
       "2330904    Совсем недавно я давала интервью каналу @78_ch...\n",
       "Name: caption, dtype: object"
      ]
     },
     "execution_count": 868,
     "metadata": {},
     "output_type": "execute_result"
    }
   ],
   "source": [
    "inst_df[inst_df.shortcode == 'By5fNQRAVMy'].caption"
   ]
  },
  {
   "cell_type": "markdown",
   "metadata": {},
   "source": [
    "## SPB dataset"
   ]
  },
  {
   "cell_type": "code",
   "execution_count": 882,
   "metadata": {},
   "outputs": [
    {
     "name": "stdout",
     "output_type": "stream",
     "text": [
      "100 / 37890\n"
     ]
    }
   ],
   "source": [
    "spb_connections = dict()\n",
    "counter = 0\n",
    "for index, row in kuda_spb.iterrows():\n",
    "    if counter % 100 == 0 and counter != 0:\n",
    "        print(counter, '/', kuda_spb.shape[0])\n",
    "        break\n",
    "    counter += 1\n",
    "    answer = connect_Kuda2Inst(row, inst_spb_2018, 60 * 60, 0.001, 'rectangle')[0]\n",
    "    if len(answer) > 0:\n",
    "        spb_connections[row[0]] = answer"
   ]
  },
  {
   "cell_type": "code",
   "execution_count": 883,
   "metadata": {},
   "outputs": [
    {
     "data": {
      "text/plain": [
       "{21: ['BvhGQ-9jhSR', 'BvhH49gFcuQ', 'BvhY481H4b5'],\n",
       " 39: ['B578c1FD0q0',\n",
       "  'B579yycgTnO',\n",
       "  'B57-gi5JeoJ',\n",
       "  'B58Kc8uoRv5',\n",
       "  'B58LRofAXuD',\n",
       "  'B58MCAegbnd'],\n",
       " 45: ['B2FCE9EhN8J',\n",
       "  'B2E4Zg8HeHq',\n",
       "  'B2E5CLyIeuR',\n",
       "  'B2E-zTpjSJQ',\n",
       "  'B2E_v-UC_iU',\n",
       "  'B2FA1KcA_QA',\n",
       "  'B2FBQhpiTHD',\n",
       "  'B2E6R0JjxtO',\n",
       "  'B2E2OOGibMH',\n",
       "  'B2E-CmbAcFa',\n",
       "  'B2E3Bl7h27I'],\n",
       " 74: ['B2q4xNbjMs_'],\n",
       " 83: ['Bxz5v5WCcIo',\n",
       "  'Bxz6hZHossE',\n",
       "  'Bxz7ajoCUjh',\n",
       "  'Bxz9ovYoE3r',\n",
       "  'Bxz-EGLorG3',\n",
       "  'Bxz-fHgIIqm',\n",
       "  'Bx0AFZHCVZj',\n",
       "  'Bx0COKcIHTm',\n",
       "  'Bx0C3BbB4or',\n",
       "  'Bx0C-NRjAla',\n",
       "  'Bx0DLSEh0Fe',\n",
       "  'Bx0DZE9odGh',\n",
       "  'Bx0EdIYiLeU',\n",
       "  'Bx0EjZxoMcC',\n",
       "  'Bx0EuokiQcx',\n",
       "  'Bx0FcyBJ8bn'],\n",
       " 86: ['B6Ge5E9FALW'],\n",
       " 92: ['BuJjRO-HRPP',\n",
       "  'BuJjaw-nsTn',\n",
       "  'BuJjmlsHxiN',\n",
       "  'BuJlLmGFNTt',\n",
       "  'BuJln_0lAXh',\n",
       "  'BuJmJMaHdAH',\n",
       "  'BuJldUlAep-']}"
      ]
     },
     "execution_count": 883,
     "metadata": {},
     "output_type": "execute_result"
    }
   ],
   "source": [
    "spb_connections"
   ]
  },
  {
   "cell_type": "code",
   "execution_count": 885,
   "metadata": {},
   "outputs": [
    {
     "data": {
      "text/plain": [
       "index                                                              27\n",
       "Short name                                                  Жар-Птица\n",
       "Name                спектакль «Жар-Птица» в Детском драматическом ...\n",
       "Description         ['премьера', 'волшебный', 'спектакль', 'мотив'...\n",
       "Body text           ['начаться', 'спектакль', 'новогодний', 'интер...\n",
       "Dates                        {'start': 1547379000, 'end': 1547379000}\n",
       "City                                                              spb\n",
       "Place                                            пер. Советский, д. 5\n",
       "Coordinates              {'lat': 59.914047, 'lon': 30.30917599999999}\n",
       "Category                                                 theater,kids\n",
       "Event tag           спектакли,драматические постановки,снегурочка,...\n",
       "['description']                                                   NaN\n",
       "['body', 'text']                                                  NaN\n",
       "Start_date                                                 1547379000\n",
       "End_date                                                   1547379000\n",
       "lat                                                         59.914047\n",
       "lon                                                         30.309176\n",
       "Name: 119, dtype: object"
      ]
     },
     "execution_count": 885,
     "metadata": {},
     "output_type": "execute_result"
    }
   ],
   "source": [
    "kuda_spb.iloc[21]"
   ]
  },
  {
   "cell_type": "code",
   "execution_count": 886,
   "metadata": {},
   "outputs": [
    {
     "data": {
      "text/html": [
       "<div>\n",
       "<style scoped>\n",
       "    .dataframe tbody tr th:only-of-type {\n",
       "        vertical-align: middle;\n",
       "    }\n",
       "\n",
       "    .dataframe tbody tr th {\n",
       "        vertical-align: top;\n",
       "    }\n",
       "\n",
       "    .dataframe thead th {\n",
       "        text-align: right;\n",
       "    }\n",
       "</style>\n",
       "<table border=\"1\" class=\"dataframe\">\n",
       "  <thead>\n",
       "    <tr style=\"text-align: right;\">\n",
       "      <th></th>\n",
       "      <th>id</th>\n",
       "      <th>shortcode</th>\n",
       "      <th>imageurl</th>\n",
       "      <th>isvideo</th>\n",
       "      <th>caption</th>\n",
       "      <th>commentscount</th>\n",
       "      <th>timestamp</th>\n",
       "      <th>likescount</th>\n",
       "      <th>isad</th>\n",
       "      <th>authorid</th>\n",
       "      <th>locationid</th>\n",
       "      <th>lat</th>\n",
       "      <th>lon</th>\n",
       "    </tr>\n",
       "  </thead>\n",
       "  <tbody>\n",
       "    <tr>\n",
       "      <th>1103879</th>\n",
       "      <td>2008914464179360913</td>\n",
       "      <td>BvhGQ-9jhSR</td>\n",
       "      <td>https://scontent-frx5-1.cdninstagram.com/v/t51...</td>\n",
       "      <td>f</td>\n",
       "      <td>Честно, не платила ему за это..😂🙈🥰 .\\n\\nЯ похв...</td>\n",
       "      <td>11</td>\n",
       "      <td>1553701287</td>\n",
       "      <td>104</td>\n",
       "      <td>f</td>\n",
       "      <td>3064752718</td>\n",
       "      <td>498774945</td>\n",
       "      <td>59.919957</td>\n",
       "      <td>30.334787</td>\n",
       "    </tr>\n",
       "  </tbody>\n",
       "</table>\n",
       "</div>"
      ],
      "text/plain": [
       "                          id    shortcode  \\\n",
       "1103879  2008914464179360913  BvhGQ-9jhSR   \n",
       "\n",
       "                                                  imageurl isvideo  \\\n",
       "1103879  https://scontent-frx5-1.cdninstagram.com/v/t51...       f   \n",
       "\n",
       "                                                   caption  commentscount  \\\n",
       "1103879  Честно, не платила ему за это..😂🙈🥰 .\\n\\nЯ похв...             11   \n",
       "\n",
       "          timestamp  likescount isad    authorid  locationid        lat  \\\n",
       "1103879  1553701287         104    f  3064752718   498774945  59.919957   \n",
       "\n",
       "               lon  \n",
       "1103879  30.334787  "
      ]
     },
     "execution_count": 886,
     "metadata": {},
     "output_type": "execute_result"
    }
   ],
   "source": [
    "inst_df[inst_df.shortcode == 'BvhGQ-9jhSR']"
   ]
  },
  {
   "cell_type": "code",
   "execution_count": 891,
   "metadata": {},
   "outputs": [
    {
     "data": {
      "text/html": [
       "<div>\n",
       "<style scoped>\n",
       "    .dataframe tbody tr th:only-of-type {\n",
       "        vertical-align: middle;\n",
       "    }\n",
       "\n",
       "    .dataframe tbody tr th {\n",
       "        vertical-align: top;\n",
       "    }\n",
       "\n",
       "    .dataframe thead th {\n",
       "        text-align: right;\n",
       "    }\n",
       "</style>\n",
       "<table border=\"1\" class=\"dataframe\">\n",
       "  <thead>\n",
       "    <tr style=\"text-align: right;\">\n",
       "      <th></th>\n",
       "      <th>id</th>\n",
       "      <th>shortcode</th>\n",
       "      <th>imageurl</th>\n",
       "      <th>isvideo</th>\n",
       "      <th>caption</th>\n",
       "      <th>commentscount</th>\n",
       "      <th>timestamp</th>\n",
       "      <th>likescount</th>\n",
       "      <th>isad</th>\n",
       "      <th>authorid</th>\n",
       "      <th>locationid</th>\n",
       "      <th>lat</th>\n",
       "      <th>lon</th>\n",
       "    </tr>\n",
       "  </thead>\n",
       "  <tbody>\n",
       "    <tr>\n",
       "      <th>1106603</th>\n",
       "      <td>2008996375506683641</td>\n",
       "      <td>BvhY481H4b5</td>\n",
       "      <td>https://scontent-frx5-1.cdninstagram.com/v/t51...</td>\n",
       "      <td>f</td>\n",
       "      <td>NaN</td>\n",
       "      <td>2</td>\n",
       "      <td>1553711052</td>\n",
       "      <td>72</td>\n",
       "      <td>f</td>\n",
       "      <td>10206269736</td>\n",
       "      <td>498774945</td>\n",
       "      <td>59.919957</td>\n",
       "      <td>30.334787</td>\n",
       "    </tr>\n",
       "  </tbody>\n",
       "</table>\n",
       "</div>"
      ],
      "text/plain": [
       "                          id    shortcode  \\\n",
       "1106603  2008996375506683641  BvhY481H4b5   \n",
       "\n",
       "                                                  imageurl isvideo caption  \\\n",
       "1106603  https://scontent-frx5-1.cdninstagram.com/v/t51...       f     NaN   \n",
       "\n",
       "         commentscount   timestamp  likescount isad     authorid  locationid  \\\n",
       "1106603              2  1553711052          72    f  10206269736   498774945   \n",
       "\n",
       "               lat        lon  \n",
       "1106603  59.919957  30.334787  "
      ]
     },
     "execution_count": 891,
     "metadata": {},
     "output_type": "execute_result"
    }
   ],
   "source": [
    "inst_df[inst_df.shortcode == 'BvhY481H4b5']"
   ]
  }
 ],
 "metadata": {
  "kernelspec": {
   "display_name": "Python 3",
   "language": "python",
   "name": "python3"
  },
  "language_info": {
   "codemirror_mode": {
    "name": "ipython",
    "version": 3
   },
   "file_extension": ".py",
   "mimetype": "text/x-python",
   "name": "python",
   "nbconvert_exporter": "python",
   "pygments_lexer": "ipython3",
   "version": "3.8.5"
  }
 },
 "nbformat": 4,
 "nbformat_minor": 4
}
