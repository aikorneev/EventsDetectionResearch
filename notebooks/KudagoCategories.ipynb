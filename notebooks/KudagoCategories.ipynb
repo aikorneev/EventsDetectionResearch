{
  "nbformat": 4,
  "nbformat_minor": 0,
  "metadata": {
    "colab": {
      "name": "KudagoCategories.ipynb",
      "provenance": [],
      "collapsed_sections": [
        "eJqeqBcgikVf"
      ],
      "toc_visible": true
    },
    "kernelspec": {
      "name": "python3",
      "display_name": "Python 3"
    },
    "language_info": {
      "name": "python"
    }
  },
  "cells": [
    {
      "cell_type": "markdown",
      "metadata": {
        "id": "2G-HUlclewMq"
      },
      "source": [
        "**KUDAGO categories relation**\n",
        "\n",
        "Goal - to estimate relations between different kudago categories.\n",
        "\n",
        "to do: adjust delimiter for tags, ARL\n"
      ]
    },
    {
      "cell_type": "code",
      "metadata": {
        "colab": {
          "base_uri": "https://localhost:8080/"
        },
        "id": "zq3nEoQ-fAFt",
        "outputId": "b4301c78-a9ac-42a4-8c5a-83e84f07588a"
      },
      "source": [
        "#connection to google drive\n",
        "from google.colab import drive\n",
        "drive.mount('/content/drive')"
      ],
      "execution_count": 1,
      "outputs": [
        {
          "output_type": "stream",
          "name": "stdout",
          "text": [
            "Mounted at /content/drive\n"
          ]
        }
      ]
    },
    {
      "cell_type": "code",
      "metadata": {
        "id": "0nSPmDAle5x4"
      },
      "source": [
        "#read dataset\n",
        "import pandas as pd\n",
        "DATA0 = pd.read_csv(\"/content/drive/My Drive/Multi-scale events detection/kudago/403-497_clean.csv\", delimiter=';', encoding='cp1251', error_bad_lines=False)\n",
        "DATA1 = pd.read_csv(\"/content/drive/My Drive/Multi-scale events detection/kudago/1-402_clean.csv\", delimiter=';', encoding='cp1251', error_bad_lines=False)\n",
        "DATA2 = pd.read_csv(\"/content/drive/My Drive/Multi-scale events detection/kudago/497-1653_clean.csv\", delimiter=';', encoding='cp1251', error_bad_lines=False)\n",
        "DATA = pd.concat([DATA0,DATA1,DATA2])"
      ],
      "execution_count": 2,
      "outputs": []
    },
    {
      "cell_type": "code",
      "metadata": {
        "colab": {
          "base_uri": "https://localhost:8080/"
        },
        "id": "NrNhw_yi-J7G",
        "outputId": "067d1ca5-4823-4bc1-eef3-c5fb52434994"
      },
      "source": [
        "print('Events amount', DATA.shape[0])"
      ],
      "execution_count": 3,
      "outputs": [
        {
          "output_type": "stream",
          "name": "stdout",
          "text": [
            "Events amount 165565\n"
          ]
        }
      ]
    },
    {
      "cell_type": "markdown",
      "metadata": {
        "id": "eJqeqBcgikVf"
      },
      "source": [
        "#First step: analyzing event tags\n",
        "\n"
      ]
    },
    {
      "cell_type": "markdown",
      "metadata": {
        "id": "w9iFg7VcC16D"
      },
      "source": [
        "# Preprocessing"
      ]
    },
    {
      "cell_type": "code",
      "metadata": {
        "id": "rrvlXly2ibqx"
      },
      "source": [
        "#cut the table\n",
        "df = DATA[['Category', 'Event tag']]"
      ],
      "execution_count": 4,
      "outputs": []
    },
    {
      "cell_type": "code",
      "metadata": {
        "colab": {
          "base_uri": "https://localhost:8080/",
          "height": 447
        },
        "id": "t6YXai5UkY3x",
        "outputId": "399a57fe-861d-43df-f771-c0ab03edc7d9"
      },
      "source": [
        "#checking what kind of categories we have\n",
        "df.groupby(['Category']).count()\n"
      ],
      "execution_count": 5,
      "outputs": [
        {
          "output_type": "execute_result",
          "data": {
            "text/html": [
              "<div>\n",
              "<style scoped>\n",
              "    .dataframe tbody tr th:only-of-type {\n",
              "        vertical-align: middle;\n",
              "    }\n",
              "\n",
              "    .dataframe tbody tr th {\n",
              "        vertical-align: top;\n",
              "    }\n",
              "\n",
              "    .dataframe thead th {\n",
              "        text-align: right;\n",
              "    }\n",
              "</style>\n",
              "<table border=\"1\" class=\"dataframe\">\n",
              "  <thead>\n",
              "    <tr style=\"text-align: right;\">\n",
              "      <th></th>\n",
              "      <th>Event tag</th>\n",
              "    </tr>\n",
              "    <tr>\n",
              "      <th>Category</th>\n",
              "      <th></th>\n",
              "    </tr>\n",
              "  </thead>\n",
              "  <tbody>\n",
              "    <tr>\n",
              "      <th>business-events</th>\n",
              "      <td>476</td>\n",
              "    </tr>\n",
              "    <tr>\n",
              "      <th>business-events,entertainment</th>\n",
              "      <td>6</td>\n",
              "    </tr>\n",
              "    <tr>\n",
              "      <th>business-events,festival</th>\n",
              "      <td>17</td>\n",
              "    </tr>\n",
              "    <tr>\n",
              "      <th>business-events,festival,entertainment</th>\n",
              "      <td>1</td>\n",
              "    </tr>\n",
              "    <tr>\n",
              "      <th>business-events,festival,recreation</th>\n",
              "      <td>1</td>\n",
              "    </tr>\n",
              "    <tr>\n",
              "      <th>...</th>\n",
              "      <td>...</td>\n",
              "    </tr>\n",
              "    <tr>\n",
              "      <th>tour,recreation,entertainment</th>\n",
              "      <td>5</td>\n",
              "    </tr>\n",
              "    <tr>\n",
              "      <th>tour,yarmarki-razvlecheniya-yarmarki,entertainment</th>\n",
              "      <td>3</td>\n",
              "    </tr>\n",
              "    <tr>\n",
              "      <th>yarmarki-razvlecheniya-yarmarki</th>\n",
              "      <td>5</td>\n",
              "    </tr>\n",
              "    <tr>\n",
              "      <th>yarmarki-razvlecheniya-yarmarki,entertainment</th>\n",
              "      <td>763</td>\n",
              "    </tr>\n",
              "    <tr>\n",
              "      <th>yarmarki-razvlecheniya-yarmarki,recreation,entertainment</th>\n",
              "      <td>2</td>\n",
              "    </tr>\n",
              "  </tbody>\n",
              "</table>\n",
              "<p>1431 rows × 1 columns</p>\n",
              "</div>"
            ],
            "text/plain": [
              "                                                    Event tag\n",
              "Category                                                     \n",
              "business-events                                           476\n",
              "business-events,entertainment                               6\n",
              "business-events,festival                                   17\n",
              "business-events,festival,entertainment                      1\n",
              "business-events,festival,recreation                         1\n",
              "...                                                       ...\n",
              "tour,recreation,entertainment                               5\n",
              "tour,yarmarki-razvlecheniya-yarmarki,entertainment          3\n",
              "yarmarki-razvlecheniya-yarmarki                             5\n",
              "yarmarki-razvlecheniya-yarmarki,entertainment             763\n",
              "yarmarki-razvlecheniya-yarmarki,recreation,ente...          2\n",
              "\n",
              "[1431 rows x 1 columns]"
            ]
          },
          "metadata": {},
          "execution_count": 5
        }
      ]
    },
    {
      "cell_type": "markdown",
      "metadata": {
        "id": "DExkwjM0nWLK"
      },
      "source": [
        "Firstly, let's not use events of multiple categories\n"
      ]
    },
    {
      "cell_type": "code",
      "metadata": {
        "colab": {
          "base_uri": "https://localhost:8080/",
          "height": 726
        },
        "id": "Kp7cqSsklhw8",
        "outputId": "36e0e952-6197-4218-b215-55a5ec37aacb"
      },
      "source": [
        "#checking how many events we have for each category\n",
        "df_new = df[~df['Category'].str.contains(',', na=False)]\n",
        "df_new.groupby(['Category']).count()"
      ],
      "execution_count": 6,
      "outputs": [
        {
          "output_type": "execute_result",
          "data": {
            "text/html": [
              "<div>\n",
              "<style scoped>\n",
              "    .dataframe tbody tr th:only-of-type {\n",
              "        vertical-align: middle;\n",
              "    }\n",
              "\n",
              "    .dataframe tbody tr th {\n",
              "        vertical-align: top;\n",
              "    }\n",
              "\n",
              "    .dataframe thead th {\n",
              "        text-align: right;\n",
              "    }\n",
              "</style>\n",
              "<table border=\"1\" class=\"dataframe\">\n",
              "  <thead>\n",
              "    <tr style=\"text-align: right;\">\n",
              "      <th></th>\n",
              "      <th>Event tag</th>\n",
              "    </tr>\n",
              "    <tr>\n",
              "      <th>Category</th>\n",
              "      <th></th>\n",
              "    </tr>\n",
              "  </thead>\n",
              "  <tbody>\n",
              "    <tr>\n",
              "      <th>business-events</th>\n",
              "      <td>476</td>\n",
              "    </tr>\n",
              "    <tr>\n",
              "      <th>cinema</th>\n",
              "      <td>106</td>\n",
              "    </tr>\n",
              "    <tr>\n",
              "      <th>concert</th>\n",
              "      <td>56347</td>\n",
              "    </tr>\n",
              "    <tr>\n",
              "      <th>education</th>\n",
              "      <td>10641</td>\n",
              "    </tr>\n",
              "    <tr>\n",
              "      <th>entertainment</th>\n",
              "      <td>2625</td>\n",
              "    </tr>\n",
              "    <tr>\n",
              "      <th>exhibition</th>\n",
              "      <td>15125</td>\n",
              "    </tr>\n",
              "    <tr>\n",
              "      <th>fashion</th>\n",
              "      <td>125</td>\n",
              "    </tr>\n",
              "    <tr>\n",
              "      <th>festival</th>\n",
              "      <td>4040</td>\n",
              "    </tr>\n",
              "    <tr>\n",
              "      <th>holiday</th>\n",
              "      <td>835</td>\n",
              "    </tr>\n",
              "    <tr>\n",
              "      <th>kids</th>\n",
              "      <td>571</td>\n",
              "    </tr>\n",
              "    <tr>\n",
              "      <th>other</th>\n",
              "      <td>557</td>\n",
              "    </tr>\n",
              "    <tr>\n",
              "      <th>party</th>\n",
              "      <td>4545</td>\n",
              "    </tr>\n",
              "    <tr>\n",
              "      <th>photo</th>\n",
              "      <td>52</td>\n",
              "    </tr>\n",
              "    <tr>\n",
              "      <th>quest</th>\n",
              "      <td>1</td>\n",
              "    </tr>\n",
              "    <tr>\n",
              "      <th>recreation</th>\n",
              "      <td>1754</td>\n",
              "    </tr>\n",
              "    <tr>\n",
              "      <th>shopping</th>\n",
              "      <td>81</td>\n",
              "    </tr>\n",
              "    <tr>\n",
              "      <th>social-activity</th>\n",
              "      <td>142</td>\n",
              "    </tr>\n",
              "    <tr>\n",
              "      <th>stock</th>\n",
              "      <td>9186</td>\n",
              "    </tr>\n",
              "    <tr>\n",
              "      <th>theater</th>\n",
              "      <td>13944</td>\n",
              "    </tr>\n",
              "    <tr>\n",
              "      <th>tour</th>\n",
              "      <td>2718</td>\n",
              "    </tr>\n",
              "    <tr>\n",
              "      <th>yarmarki-razvlecheniya-yarmarki</th>\n",
              "      <td>5</td>\n",
              "    </tr>\n",
              "  </tbody>\n",
              "</table>\n",
              "</div>"
            ],
            "text/plain": [
              "                                 Event tag\n",
              "Category                                  \n",
              "business-events                        476\n",
              "cinema                                 106\n",
              "concert                              56347\n",
              "education                            10641\n",
              "entertainment                         2625\n",
              "exhibition                           15125\n",
              "fashion                                125\n",
              "festival                              4040\n",
              "holiday                                835\n",
              "kids                                   571\n",
              "other                                  557\n",
              "party                                 4545\n",
              "photo                                   52\n",
              "quest                                    1\n",
              "recreation                            1754\n",
              "shopping                                81\n",
              "social-activity                        142\n",
              "stock                                 9186\n",
              "theater                              13944\n",
              "tour                                  2718\n",
              "yarmarki-razvlecheniya-yarmarki          5"
            ]
          },
          "metadata": {},
          "execution_count": 6
        }
      ]
    },
    {
      "cell_type": "code",
      "metadata": {
        "id": "FqOVxaQ1n0Q8"
      },
      "source": [
        "#concatenation of all tags for each category\n",
        "df_grouped_full = df_new.groupby(['Category']).apply(lambda x: ','.join(x['Event tag']))"
      ],
      "execution_count": 7,
      "outputs": []
    },
    {
      "cell_type": "code",
      "metadata": {
        "colab": {
          "base_uri": "https://localhost:8080/"
        },
        "id": "dzsbwmaEVr-s",
        "outputId": "77a1007b-7439-4770-db1a-8f8df3d139af"
      },
      "source": [
        "#here we remove categories of kudago, which we will not use for events detecting task\n",
        "deleted_cats =  ['quest', 'yarmarki-razvlecheniya-yarmarki','other','stock']\n",
        "df_grouped = df_grouped_full.drop(deleted_cats, axis=0)\n",
        "df_grouped"
      ],
      "execution_count": 8,
      "outputs": [
        {
          "output_type": "execute_result",
          "data": {
            "text/plain": [
              "Category\n",
              "business-events    12+,события для бизнеса,события для бизнеса,со...\n",
              "cinema             кинопоказы,12+,кино (развлечения),кино (развле...\n",
              "concert            рэп и хип-хоп,концерты,16+,концерты,альтернати...\n",
              "education          обучение,16+,лучшее,искусство,обучение,12+,рис...\n",
              "entertainment      игры,развлечения,16+,шоу,лучшее в театрах,разв...\n",
              "exhibition         выставки,картины, живопись, графика,выставки,к...\n",
              "fashion            мода и стиль,шоурумы,красота и здоровье,тренин...\n",
              "festival           фестивали,городские,free,культура и искусство,...\n",
              "holiday            животные,тематические праздники,выходные,празд...\n",
              "kids               12+,детские лагеря,лучшее в мае,детям,детские ...\n",
              "party              18+,танцевальная,вечеринки,электронная музыка,...\n",
              "photo              животные,фотография,интересное,всей семьей,fre...\n",
              "recreation         отдых,18+,спорт и фитнес,хоккей,6+,отдых,отдых...\n",
              "shopping           шопинг (магазины),free,шопинг (магазины),книги...\n",
              "social-activity    благотворительность,6+,free,год экологии,благо...\n",
              "theater            экспериментальный театр,современная драматурги...\n",
              "tour               пешеходные,12+,тематические,экскурсии,пешеходн...\n",
              "dtype: object"
            ]
          },
          "metadata": {},
          "execution_count": 8
        }
      ]
    },
    {
      "cell_type": "markdown",
      "metadata": {
        "id": "4YmXMfgXSuYY"
      },
      "source": [
        "#Summary Table Creation"
      ]
    },
    {
      "cell_type": "code",
      "metadata": {
        "colab": {
          "base_uri": "https://localhost:8080/"
        },
        "id": "31-k874XLHEx",
        "outputId": "025dcc01-5256-49f3-ee48-8e747ab23511"
      },
      "source": [
        "#the next cell is very time expensive, we check if we have a file with it\n",
        "import os\n",
        "check_file = False\n",
        "if os.path.exists('/content/drive/My Drive/Colab Notebooks/kudago_tags.pkl'):\n",
        "  check_file = True\n",
        "  df_final = pd.read_pickle('/content/drive/My Drive/Colab Notebooks/kudago_tags.pkl')\n",
        "check_file"
      ],
      "execution_count": 9,
      "outputs": [
        {
          "output_type": "execute_result",
          "data": {
            "text/plain": [
              "True"
            ]
          },
          "metadata": {},
          "execution_count": 9
        }
      ]
    },
    {
      "cell_type": "code",
      "metadata": {
        "id": "y9dFcb_npeTc",
        "colab": {
          "base_uri": "https://localhost:8080/"
        },
        "outputId": "d140ca6f-2015-492f-e39c-0d5fb7b6ab6d"
      },
      "source": [
        "#We want to know which tags (rows) were used for which categories (columns) and how many times (data in cells)\n",
        "#To do it we create DataFrame from the dict of subdicts: one subdict for one category, each subdict maps tag to number of tag's usages \n",
        "if check_file == False:\n",
        "  dict_lists = dict()\n",
        "  for index in df_grouped.index:\n",
        "    temp = df_grouped.get(index).rsplit(',')\n",
        "    one_dict = {i:temp.count(i) for i in temp}\n",
        "    dict_lists[index]=(one_dict)\n",
        "  #final statistics DataFrame\n",
        "  df_final = pd.DataFrame(dict_lists).fillna(0)\n",
        "else:\n",
        "  print('File was found')"
      ],
      "execution_count": 10,
      "outputs": [
        {
          "output_type": "stream",
          "name": "stdout",
          "text": [
            "File was found\n"
          ]
        }
      ]
    },
    {
      "cell_type": "code",
      "metadata": {
        "colab": {
          "base_uri": "https://localhost:8080/",
          "height": 416
        },
        "id": "Ve8DLQov14nK",
        "outputId": "6f6e89a2-d3ff-4de6-a320-0896e449840e"
      },
      "source": [
        "df_final"
      ],
      "execution_count": 11,
      "outputs": [
        {
          "output_type": "execute_result",
          "data": {
            "text/html": [
              "<div>\n",
              "<style scoped>\n",
              "    .dataframe tbody tr th:only-of-type {\n",
              "        vertical-align: middle;\n",
              "    }\n",
              "\n",
              "    .dataframe tbody tr th {\n",
              "        vertical-align: top;\n",
              "    }\n",
              "\n",
              "    .dataframe thead th {\n",
              "        text-align: right;\n",
              "    }\n",
              "</style>\n",
              "<table border=\"1\" class=\"dataframe\">\n",
              "  <thead>\n",
              "    <tr style=\"text-align: right;\">\n",
              "      <th></th>\n",
              "      <th>business-events</th>\n",
              "      <th>cinema</th>\n",
              "      <th>concert</th>\n",
              "      <th>education</th>\n",
              "      <th>entertainment</th>\n",
              "      <th>exhibition</th>\n",
              "      <th>fashion</th>\n",
              "      <th>festival</th>\n",
              "      <th>holiday</th>\n",
              "      <th>kids</th>\n",
              "      <th>party</th>\n",
              "      <th>photo</th>\n",
              "      <th>recreation</th>\n",
              "      <th>shopping</th>\n",
              "      <th>social-activity</th>\n",
              "      <th>theater</th>\n",
              "      <th>tour</th>\n",
              "    </tr>\n",
              "  </thead>\n",
              "  <tbody>\n",
              "    <tr>\n",
              "      <th>12+</th>\n",
              "      <td>12.0</td>\n",
              "      <td>10.0</td>\n",
              "      <td>10786.0</td>\n",
              "      <td>1526.0</td>\n",
              "      <td>207.0</td>\n",
              "      <td>971.0</td>\n",
              "      <td>4.0</td>\n",
              "      <td>283.0</td>\n",
              "      <td>15.0</td>\n",
              "      <td>36.0</td>\n",
              "      <td>22.0</td>\n",
              "      <td>1.0</td>\n",
              "      <td>210.0</td>\n",
              "      <td>0.0</td>\n",
              "      <td>3.0</td>\n",
              "      <td>3661.0</td>\n",
              "      <td>602.0</td>\n",
              "    </tr>\n",
              "    <tr>\n",
              "      <th>события для бизнеса</th>\n",
              "      <td>476.0</td>\n",
              "      <td>0.0</td>\n",
              "      <td>0.0</td>\n",
              "      <td>0.0</td>\n",
              "      <td>0.0</td>\n",
              "      <td>0.0</td>\n",
              "      <td>0.0</td>\n",
              "      <td>0.0</td>\n",
              "      <td>0.0</td>\n",
              "      <td>0.0</td>\n",
              "      <td>0.0</td>\n",
              "      <td>0.0</td>\n",
              "      <td>0.0</td>\n",
              "      <td>0.0</td>\n",
              "      <td>0.0</td>\n",
              "      <td>0.0</td>\n",
              "      <td>0.0</td>\n",
              "    </tr>\n",
              "    <tr>\n",
              "      <th>18+</th>\n",
              "      <td>167.0</td>\n",
              "      <td>67.0</td>\n",
              "      <td>14700.0</td>\n",
              "      <td>1932.0</td>\n",
              "      <td>556.0</td>\n",
              "      <td>401.0</td>\n",
              "      <td>11.0</td>\n",
              "      <td>427.0</td>\n",
              "      <td>39.0</td>\n",
              "      <td>0.0</td>\n",
              "      <td>3527.0</td>\n",
              "      <td>3.0</td>\n",
              "      <td>176.0</td>\n",
              "      <td>0.0</td>\n",
              "      <td>19.0</td>\n",
              "      <td>1978.0</td>\n",
              "      <td>150.0</td>\n",
              "    </tr>\n",
              "    <tr>\n",
              "      <th>free</th>\n",
              "      <td>135.0</td>\n",
              "      <td>29.0</td>\n",
              "      <td>2594.0</td>\n",
              "      <td>2681.0</td>\n",
              "      <td>356.0</td>\n",
              "      <td>4051.0</td>\n",
              "      <td>29.0</td>\n",
              "      <td>1653.0</td>\n",
              "      <td>315.0</td>\n",
              "      <td>122.0</td>\n",
              "      <td>1177.0</td>\n",
              "      <td>12.0</td>\n",
              "      <td>348.0</td>\n",
              "      <td>42.0</td>\n",
              "      <td>81.0</td>\n",
              "      <td>435.0</td>\n",
              "      <td>164.0</td>\n",
              "    </tr>\n",
              "    <tr>\n",
              "      <th>16+</th>\n",
              "      <td>70.0</td>\n",
              "      <td>11.0</td>\n",
              "      <td>11108.0</td>\n",
              "      <td>2094.0</td>\n",
              "      <td>286.0</td>\n",
              "      <td>454.0</td>\n",
              "      <td>14.0</td>\n",
              "      <td>303.0</td>\n",
              "      <td>9.0</td>\n",
              "      <td>0.0</td>\n",
              "      <td>123.0</td>\n",
              "      <td>0.0</td>\n",
              "      <td>128.0</td>\n",
              "      <td>4.0</td>\n",
              "      <td>7.0</td>\n",
              "      <td>5364.0</td>\n",
              "      <td>102.0</td>\n",
              "    </tr>\n",
              "    <tr>\n",
              "      <th>...</th>\n",
              "      <td>...</td>\n",
              "      <td>...</td>\n",
              "      <td>...</td>\n",
              "      <td>...</td>\n",
              "      <td>...</td>\n",
              "      <td>...</td>\n",
              "      <td>...</td>\n",
              "      <td>...</td>\n",
              "      <td>...</td>\n",
              "      <td>...</td>\n",
              "      <td>...</td>\n",
              "      <td>...</td>\n",
              "      <td>...</td>\n",
              "      <td>...</td>\n",
              "      <td>...</td>\n",
              "      <td>...</td>\n",
              "      <td>...</td>\n",
              "    </tr>\n",
              "    <tr>\n",
              "      <th>погода</th>\n",
              "      <td>0.0</td>\n",
              "      <td>0.0</td>\n",
              "      <td>0.0</td>\n",
              "      <td>0.0</td>\n",
              "      <td>0.0</td>\n",
              "      <td>0.0</td>\n",
              "      <td>0.0</td>\n",
              "      <td>0.0</td>\n",
              "      <td>0.0</td>\n",
              "      <td>0.0</td>\n",
              "      <td>0.0</td>\n",
              "      <td>0.0</td>\n",
              "      <td>0.0</td>\n",
              "      <td>0.0</td>\n",
              "      <td>0.0</td>\n",
              "      <td>0.0</td>\n",
              "      <td>1.0</td>\n",
              "    </tr>\n",
              "    <tr>\n",
              "      <th>эзотерика</th>\n",
              "      <td>0.0</td>\n",
              "      <td>0.0</td>\n",
              "      <td>0.0</td>\n",
              "      <td>0.0</td>\n",
              "      <td>0.0</td>\n",
              "      <td>0.0</td>\n",
              "      <td>0.0</td>\n",
              "      <td>0.0</td>\n",
              "      <td>0.0</td>\n",
              "      <td>0.0</td>\n",
              "      <td>0.0</td>\n",
              "      <td>0.0</td>\n",
              "      <td>0.0</td>\n",
              "      <td>0.0</td>\n",
              "      <td>0.0</td>\n",
              "      <td>0.0</td>\n",
              "      <td>1.0</td>\n",
              "    </tr>\n",
              "    <tr>\n",
              "      <th>блошиные рынки</th>\n",
              "      <td>0.0</td>\n",
              "      <td>0.0</td>\n",
              "      <td>0.0</td>\n",
              "      <td>0.0</td>\n",
              "      <td>0.0</td>\n",
              "      <td>0.0</td>\n",
              "      <td>0.0</td>\n",
              "      <td>0.0</td>\n",
              "      <td>0.0</td>\n",
              "      <td>0.0</td>\n",
              "      <td>0.0</td>\n",
              "      <td>0.0</td>\n",
              "      <td>0.0</td>\n",
              "      <td>0.0</td>\n",
              "      <td>0.0</td>\n",
              "      <td>0.0</td>\n",
              "      <td>1.0</td>\n",
              "    </tr>\n",
              "    <tr>\n",
              "      <th>ярмарки (развлечения</th>\n",
              "      <td>0.0</td>\n",
              "      <td>0.0</td>\n",
              "      <td>0.0</td>\n",
              "      <td>0.0</td>\n",
              "      <td>0.0</td>\n",
              "      <td>0.0</td>\n",
              "      <td>0.0</td>\n",
              "      <td>0.0</td>\n",
              "      <td>0.0</td>\n",
              "      <td>0.0</td>\n",
              "      <td>0.0</td>\n",
              "      <td>0.0</td>\n",
              "      <td>0.0</td>\n",
              "      <td>0.0</td>\n",
              "      <td>0.0</td>\n",
              "      <td>0.0</td>\n",
              "      <td>0.0</td>\n",
              "    </tr>\n",
              "    <tr>\n",
              "      <th>ярмарки)</th>\n",
              "      <td>0.0</td>\n",
              "      <td>0.0</td>\n",
              "      <td>0.0</td>\n",
              "      <td>0.0</td>\n",
              "      <td>0.0</td>\n",
              "      <td>0.0</td>\n",
              "      <td>0.0</td>\n",
              "      <td>0.0</td>\n",
              "      <td>0.0</td>\n",
              "      <td>0.0</td>\n",
              "      <td>0.0</td>\n",
              "      <td>0.0</td>\n",
              "      <td>0.0</td>\n",
              "      <td>0.0</td>\n",
              "      <td>0.0</td>\n",
              "      <td>0.0</td>\n",
              "      <td>0.0</td>\n",
              "    </tr>\n",
              "  </tbody>\n",
              "</table>\n",
              "<p>1173 rows × 17 columns</p>\n",
              "</div>"
            ],
            "text/plain": [
              "                      business-events  cinema  ...  theater   tour\n",
              "12+                              12.0    10.0  ...   3661.0  602.0\n",
              "события для бизнеса             476.0     0.0  ...      0.0    0.0\n",
              "18+                             167.0    67.0  ...   1978.0  150.0\n",
              "free                            135.0    29.0  ...    435.0  164.0\n",
              "16+                              70.0    11.0  ...   5364.0  102.0\n",
              "...                               ...     ...  ...      ...    ...\n",
              "погода                            0.0     0.0  ...      0.0    1.0\n",
              "эзотерика                         0.0     0.0  ...      0.0    1.0\n",
              "блошиные рынки                    0.0     0.0  ...      0.0    1.0\n",
              "ярмарки (развлечения              0.0     0.0  ...      0.0    0.0\n",
              " ярмарки)                         0.0     0.0  ...      0.0    0.0\n",
              "\n",
              "[1173 rows x 17 columns]"
            ]
          },
          "metadata": {},
          "execution_count": 11
        }
      ]
    },
    {
      "cell_type": "code",
      "metadata": {
        "colab": {
          "base_uri": "https://localhost:8080/"
        },
        "id": "zrUBAVIFLsRf",
        "outputId": "199ea81a-e03b-4b01-c0b2-fbd5e7e69da7"
      },
      "source": [
        "#save dataframe to file\n",
        "if check_file == False:\n",
        "  df_final.to_pickle(\"/content/drive/My Drive/Colab Notebooks/kudago_tags.pkl\")\n",
        "else:\n",
        "  print('File exists')"
      ],
      "execution_count": 12,
      "outputs": [
        {
          "output_type": "stream",
          "name": "stdout",
          "text": [
            "File exists\n"
          ]
        }
      ]
    },
    {
      "cell_type": "markdown",
      "metadata": {
        "id": "zYu4Z317TGdI"
      },
      "source": [
        "#Supervenn visualisation for non-unique tags\n"
      ]
    },
    {
      "cell_type": "code",
      "metadata": {
        "colab": {
          "base_uri": "https://localhost:8080/"
        },
        "id": "0P6_JPyQJOAB",
        "outputId": "6a7069fa-5295-4f70-ae7b-1520adfe3e2f"
      },
      "source": [
        "#visualize data with method from https://habr.com/ru/company/yandex/blog/501924/\n",
        "!pip install supervenn"
      ],
      "execution_count": 13,
      "outputs": [
        {
          "output_type": "stream",
          "name": "stdout",
          "text": [
            "Collecting supervenn\n",
            "  Downloading supervenn-0.4.1-py3-none-any.whl (16 kB)\n",
            "Requirement already satisfied: numpy in /usr/local/lib/python3.7/dist-packages (from supervenn) (1.19.5)\n",
            "Requirement already satisfied: matplotlib>=2.2.5 in /usr/local/lib/python3.7/dist-packages (from supervenn) (3.2.2)\n",
            "Requirement already satisfied: pyparsing!=2.0.4,!=2.1.2,!=2.1.6,>=2.0.1 in /usr/local/lib/python3.7/dist-packages (from matplotlib>=2.2.5->supervenn) (2.4.7)\n",
            "Requirement already satisfied: cycler>=0.10 in /usr/local/lib/python3.7/dist-packages (from matplotlib>=2.2.5->supervenn) (0.10.0)\n",
            "Requirement already satisfied: python-dateutil>=2.1 in /usr/local/lib/python3.7/dist-packages (from matplotlib>=2.2.5->supervenn) (2.8.2)\n",
            "Requirement already satisfied: kiwisolver>=1.0.1 in /usr/local/lib/python3.7/dist-packages (from matplotlib>=2.2.5->supervenn) (1.3.2)\n",
            "Requirement already satisfied: six in /usr/local/lib/python3.7/dist-packages (from cycler>=0.10->matplotlib>=2.2.5->supervenn) (1.15.0)\n",
            "Installing collected packages: supervenn\n",
            "Successfully installed supervenn-0.4.1\n"
          ]
        }
      ]
    },
    {
      "cell_type": "code",
      "metadata": {
        "id": "oZ7d0cPHx7Lv"
      },
      "source": [
        "#labels are categories\n",
        "labels = list(df_final.columns)\n",
        "#sets are tags\n",
        "sets = []\n",
        "for index in df_grouped.index:\n",
        "  temp = df_grouped.get(index).rsplit(',')\n",
        "  sets.append(set(temp))"
      ],
      "execution_count": 14,
      "outputs": []
    },
    {
      "cell_type": "code",
      "metadata": {
        "id": "Dkh5cpH772nO"
      },
      "source": [
        "#to find intersections of categories we don't consider unique tags\n",
        "new_sets = []\n",
        "for i in range(len(sets)):\n",
        "  temp_list = []\n",
        "  for j in range(len(sets)):\n",
        "    #avoiding comparing with the same set\n",
        "    if i == j:\n",
        "      continue\n",
        "    #we collect not unique tags into list\n",
        "    temp_list.extend(sets[i] & sets[j])\n",
        "  #now we need to convert our collection to set\n",
        "  new_sets.append(set(temp_list))"
      ],
      "execution_count": 15,
      "outputs": []
    },
    {
      "cell_type": "code",
      "metadata": {
        "colab": {
          "base_uri": "https://localhost:8080/",
          "height": 812
        },
        "id": "k8nY5VhPyjVl",
        "outputId": "160277e1-bde6-499a-ce3d-baff375c876f"
      },
      "source": [
        "import matplotlib.pyplot as plt\n",
        "from supervenn import supervenn\n",
        "plt.figure(figsize=(22, 14))\n",
        "visual0 = supervenn(new_sets, labels, side_plots=False, chunks_ordering='size', sets_ordering='size', widths_minmax_ratio=0.05, min_width_for_annotation=4)"
      ],
      "execution_count": 16,
      "outputs": [
        {
          "output_type": "display_data",
          "data": {
            "image/png": "[encoded data removed]",
            "text/plain": [
              "<Figure size 1584x1008 with 1 Axes>"
            ]
          },
          "metadata": {
            "needs_background": "light"
          }
        }
      ]
    },
    {
      "cell_type": "markdown",
      "metadata": {
        "id": "ZRcrKVbqTU3R"
      },
      "source": [
        "# Supervenn visualisation without frequent tags"
      ]
    },
    {
      "cell_type": "markdown",
      "metadata": {
        "id": "97n8NCPrPq4t"
      },
      "source": [
        "Results are good, but not so clean, let's firstly delete very frequent tags (appears more than in 5 categories)"
      ]
    },
    {
      "cell_type": "code",
      "metadata": {
        "id": "lBrdwuRK91jW"
      },
      "source": [
        "#here we check in how many categories the particular tag appears, and delete very frequent tags\n",
        "import copy\n",
        "new_sets_cut = copy.deepcopy(new_sets)\n",
        "\n",
        "#for all sets\n",
        "for i in range(len(new_sets)):\n",
        "  #check all tags\n",
        "  for j in new_sets[i]:\n",
        "    counter = 0\n",
        "    #check for all other sets except the same one\n",
        "    for k in range(len(new_sets)):\n",
        "      if k == i:\n",
        "        continue\n",
        "      if j in new_sets[k]:\n",
        "        counter += 1\n",
        "    if counter > 5:\n",
        "      new_sets_cut[i].remove(j)"
      ],
      "execution_count": 17,
      "outputs": []
    },
    {
      "cell_type": "code",
      "metadata": {
        "colab": {
          "base_uri": "https://localhost:8080/"
        },
        "id": "zDwGsstZaOfO",
        "outputId": "355ada22-1f46-45b0-b2a7-c5abfd8e7cba"
      },
      "source": [
        "#amount of unique/not unique tags\n",
        "print('unique\\t common\\t total')\n",
        "for i in range(len(new_sets_cut)):\n",
        "  print('{}\\t :{}\\t  :{}\\t :{}'.format(len(sets[i])-len(new_sets[i]), len(new_sets[i]), len(sets[i]), labels[i]))"
      ],
      "execution_count": 18,
      "outputs": [
        {
          "output_type": "stream",
          "name": "stdout",
          "text": [
            "unique\t common\t total\n",
            "1\t :62\t  :63\t :business-events\n",
            "2\t :35\t  :37\t :cinema\n",
            "47\t :347\t  :394\t :concert\n",
            "41\t :454\t  :495\t :education\n",
            "21\t :300\t  :321\t :entertainment\n",
            "37\t :404\t  :441\t :exhibition\n",
            "3\t :47\t  :50\t :fashion\n",
            "28\t :443\t  :471\t :festival\n",
            "5\t :240\t  :245\t :holiday\n",
            "11\t :148\t  :159\t :kids\n",
            "16\t :243\t  :259\t :party\n",
            "0\t :30\t  :30\t :photo\n",
            "40\t :182\t  :222\t :recreation\n",
            "2\t :41\t  :43\t :shopping\n",
            "3\t :56\t  :59\t :social-activity\n",
            "50\t :301\t  :351\t :theater\n",
            "20\t :205\t  :225\t :tour\n"
          ]
        }
      ]
    },
    {
      "cell_type": "code",
      "metadata": {
        "colab": {
          "base_uri": "https://localhost:8080/",
          "height": 812
        },
        "id": "JSEIGEFJO7Q9",
        "outputId": "05099eeb-f1a6-4e12-90f4-fa1eb0791bbf"
      },
      "source": [
        "plt.figure(figsize=(22, 14))\n",
        "visual = supervenn(new_sets_cut, labels, side_plots=False, chunks_ordering='size', sets_ordering='size', widths_minmax_ratio=0.05, min_width_for_annotation=4)"
      ],
      "execution_count": 19,
      "outputs": [
        {
          "output_type": "display_data",
          "data": {
            "image/png": "[encoded data removed]",
            "text/plain": [
              "<Figure size 1584x1008 with 1 Axes>"
            ]
          },
          "metadata": {
            "needs_background": "light"
          }
        }
      ]
    },
    {
      "cell_type": "code",
      "metadata": {
        "colab": {
          "base_uri": "https://localhost:8080/"
        },
        "id": "JWN1UpldVHxW",
        "outputId": "341412f4-a73f-46d8-b5df-2a5fa8c614f3"
      },
      "source": [
        "#example of extracting common tags\n",
        "print(visual.chunks[frozenset([labels.index('education'), labels.index('exhibition')])])\n",
        "print(visual.chunks[frozenset([labels.index('party'), labels.index('concert')])])"
      ],
      "execution_count": 20,
      "outputs": [
        {
          "output_type": "stream",
          "name": "stdout",
          "text": [
            "{'эпоха возрождения', 'голландия', 'витражи', 'батик', 'скрапбукинг', 'александр васильев', 'будущее', 'обучение за рубежом', 'абстрактное искусство', 'бижутерия', 'аналоговая фотография', 'гравюра', 'арт-объекты', 'архитектура', 'cобаки', 'изобретения', 'акварель', 'мэрилин монро', 'концептуальное искусство', 'парфюмерия', 'bibliophilia', 'декупаж', 'мозаика'}\n",
            "{'день первокурсника', 'тяжелый рок', 'r&b', 'эмбиент', 'душевно', 'виниловые пластинки', 'диско', 'драм-н-бэйс', 'rnb', 'клубная жизнь', 'witch house', 'майкл джексон', 'glitch', 'дискотека 80х', 'рейв', 'хардкор техно', 'дискотека 90х'}\n"
          ]
        }
      ]
    },
    {
      "cell_type": "markdown",
      "metadata": {
        "id": "kO-HlABNTtdP"
      },
      "source": [
        "#Second step: analyzing events of multiple categories"
      ]
    },
    {
      "cell_type": "markdown",
      "metadata": {
        "id": "zuGiLn8aUZuv"
      },
      "source": [
        "Here we want to analyze which categories have common events (by extracting events with multiple categories)"
      ]
    },
    {
      "cell_type": "code",
      "metadata": {
        "colab": {
          "base_uri": "https://localhost:8080/"
        },
        "id": "Gjr7etXhUX9z",
        "outputId": "31e838d7-af64-4e88-e5fe-700b957a6ff4"
      },
      "source": [
        "df_multiple =  df[df['Category'].str.contains(',', na=False)]\n",
        "print('Amount of events with multiple categories', df_multiple.shape[0])"
      ],
      "execution_count": 21,
      "outputs": [
        {
          "output_type": "stream",
          "name": "stdout",
          "text": [
            "Amount of events with multiple categories 41354\n"
          ]
        }
      ]
    },
    {
      "cell_type": "code",
      "metadata": {
        "id": "FEuySjMSvpbM"
      },
      "source": [
        "#we create an array of two dims and remeber how many times each category was with another one\n",
        "n = len(df_grouped_full.index)\n",
        "group_list = list(df_grouped_full.index)\n",
        "cats_inter = [[0] * n for i in range(n)]\n",
        "for event in df_multiple['Category']:\n",
        "  cats = event.rsplit(',')\n",
        "  for i in range(len(cats)):\n",
        "    for j in range(len(cats)):\n",
        "      if i != j:\n",
        "        cats_inter[group_list.index(cats[j])][group_list.index(cats[i])] += 1"
      ],
      "execution_count": 22,
      "outputs": []
    },
    {
      "cell_type": "code",
      "metadata": {
        "colab": {
          "base_uri": "https://localhost:8080/",
          "height": 572
        },
        "id": "TfkmIC5LzIb2",
        "outputId": "ab8ff203-ee01-4f9b-c5ed-0389eff7c769"
      },
      "source": [
        "df_step2 = pd.DataFrame(cats_inter, columns=group_list, index=group_list).fillna(0)\n",
        "df_step2 = df_step2.drop(labels=deleted_cats, axis=0)\n",
        "df_step2 = df_step2.drop(labels=deleted_cats, axis=1)\n",
        "df_step2"
      ],
      "execution_count": 23,
      "outputs": [
        {
          "output_type": "execute_result",
          "data": {
            "text/html": [
              "<div>\n",
              "<style scoped>\n",
              "    .dataframe tbody tr th:only-of-type {\n",
              "        vertical-align: middle;\n",
              "    }\n",
              "\n",
              "    .dataframe tbody tr th {\n",
              "        vertical-align: top;\n",
              "    }\n",
              "\n",
              "    .dataframe thead th {\n",
              "        text-align: right;\n",
              "    }\n",
              "</style>\n",
              "<table border=\"1\" class=\"dataframe\">\n",
              "  <thead>\n",
              "    <tr style=\"text-align: right;\">\n",
              "      <th></th>\n",
              "      <th>business-events</th>\n",
              "      <th>cinema</th>\n",
              "      <th>concert</th>\n",
              "      <th>education</th>\n",
              "      <th>entertainment</th>\n",
              "      <th>exhibition</th>\n",
              "      <th>fashion</th>\n",
              "      <th>festival</th>\n",
              "      <th>holiday</th>\n",
              "      <th>kids</th>\n",
              "      <th>party</th>\n",
              "      <th>photo</th>\n",
              "      <th>recreation</th>\n",
              "      <th>shopping</th>\n",
              "      <th>social-activity</th>\n",
              "      <th>theater</th>\n",
              "      <th>tour</th>\n",
              "    </tr>\n",
              "  </thead>\n",
              "  <tbody>\n",
              "    <tr>\n",
              "      <th>business-events</th>\n",
              "      <td>0</td>\n",
              "      <td>0</td>\n",
              "      <td>4</td>\n",
              "      <td>682</td>\n",
              "      <td>29</td>\n",
              "      <td>72</td>\n",
              "      <td>6</td>\n",
              "      <td>51</td>\n",
              "      <td>0</td>\n",
              "      <td>9</td>\n",
              "      <td>2</td>\n",
              "      <td>1</td>\n",
              "      <td>6</td>\n",
              "      <td>1</td>\n",
              "      <td>2</td>\n",
              "      <td>0</td>\n",
              "      <td>1</td>\n",
              "    </tr>\n",
              "    <tr>\n",
              "      <th>cinema</th>\n",
              "      <td>0</td>\n",
              "      <td>0</td>\n",
              "      <td>143</td>\n",
              "      <td>683</td>\n",
              "      <td>5634</td>\n",
              "      <td>78</td>\n",
              "      <td>15</td>\n",
              "      <td>1139</td>\n",
              "      <td>60</td>\n",
              "      <td>165</td>\n",
              "      <td>344</td>\n",
              "      <td>3</td>\n",
              "      <td>19</td>\n",
              "      <td>2</td>\n",
              "      <td>26</td>\n",
              "      <td>194</td>\n",
              "      <td>21</td>\n",
              "    </tr>\n",
              "    <tr>\n",
              "      <th>concert</th>\n",
              "      <td>4</td>\n",
              "      <td>143</td>\n",
              "      <td>0</td>\n",
              "      <td>1110</td>\n",
              "      <td>1809</td>\n",
              "      <td>137</td>\n",
              "      <td>13</td>\n",
              "      <td>2488</td>\n",
              "      <td>354</td>\n",
              "      <td>1119</td>\n",
              "      <td>1917</td>\n",
              "      <td>5</td>\n",
              "      <td>166</td>\n",
              "      <td>14</td>\n",
              "      <td>288</td>\n",
              "      <td>1111</td>\n",
              "      <td>57</td>\n",
              "    </tr>\n",
              "    <tr>\n",
              "      <th>education</th>\n",
              "      <td>682</td>\n",
              "      <td>683</td>\n",
              "      <td>1110</td>\n",
              "      <td>0</td>\n",
              "      <td>1943</td>\n",
              "      <td>674</td>\n",
              "      <td>551</td>\n",
              "      <td>1276</td>\n",
              "      <td>434</td>\n",
              "      <td>2233</td>\n",
              "      <td>476</td>\n",
              "      <td>117</td>\n",
              "      <td>697</td>\n",
              "      <td>58</td>\n",
              "      <td>226</td>\n",
              "      <td>540</td>\n",
              "      <td>368</td>\n",
              "    </tr>\n",
              "    <tr>\n",
              "      <th>entertainment</th>\n",
              "      <td>29</td>\n",
              "      <td>5634</td>\n",
              "      <td>1809</td>\n",
              "      <td>1943</td>\n",
              "      <td>0</td>\n",
              "      <td>905</td>\n",
              "      <td>152</td>\n",
              "      <td>3067</td>\n",
              "      <td>977</td>\n",
              "      <td>2147</td>\n",
              "      <td>1229</td>\n",
              "      <td>59</td>\n",
              "      <td>897</td>\n",
              "      <td>272</td>\n",
              "      <td>334</td>\n",
              "      <td>1220</td>\n",
              "      <td>280</td>\n",
              "    </tr>\n",
              "    <tr>\n",
              "      <th>exhibition</th>\n",
              "      <td>72</td>\n",
              "      <td>78</td>\n",
              "      <td>137</td>\n",
              "      <td>674</td>\n",
              "      <td>905</td>\n",
              "      <td>0</td>\n",
              "      <td>173</td>\n",
              "      <td>636</td>\n",
              "      <td>97</td>\n",
              "      <td>744</td>\n",
              "      <td>88</td>\n",
              "      <td>447</td>\n",
              "      <td>45</td>\n",
              "      <td>38</td>\n",
              "      <td>182</td>\n",
              "      <td>67</td>\n",
              "      <td>261</td>\n",
              "    </tr>\n",
              "    <tr>\n",
              "      <th>fashion</th>\n",
              "      <td>6</td>\n",
              "      <td>15</td>\n",
              "      <td>13</td>\n",
              "      <td>551</td>\n",
              "      <td>152</td>\n",
              "      <td>173</td>\n",
              "      <td>0</td>\n",
              "      <td>93</td>\n",
              "      <td>29</td>\n",
              "      <td>21</td>\n",
              "      <td>40</td>\n",
              "      <td>21</td>\n",
              "      <td>13</td>\n",
              "      <td>91</td>\n",
              "      <td>11</td>\n",
              "      <td>8</td>\n",
              "      <td>2</td>\n",
              "    </tr>\n",
              "    <tr>\n",
              "      <th>festival</th>\n",
              "      <td>51</td>\n",
              "      <td>1139</td>\n",
              "      <td>2488</td>\n",
              "      <td>1276</td>\n",
              "      <td>3067</td>\n",
              "      <td>636</td>\n",
              "      <td>93</td>\n",
              "      <td>0</td>\n",
              "      <td>875</td>\n",
              "      <td>1546</td>\n",
              "      <td>674</td>\n",
              "      <td>61</td>\n",
              "      <td>649</td>\n",
              "      <td>44</td>\n",
              "      <td>362</td>\n",
              "      <td>521</td>\n",
              "      <td>174</td>\n",
              "    </tr>\n",
              "    <tr>\n",
              "      <th>holiday</th>\n",
              "      <td>0</td>\n",
              "      <td>60</td>\n",
              "      <td>354</td>\n",
              "      <td>434</td>\n",
              "      <td>977</td>\n",
              "      <td>97</td>\n",
              "      <td>29</td>\n",
              "      <td>875</td>\n",
              "      <td>0</td>\n",
              "      <td>1296</td>\n",
              "      <td>687</td>\n",
              "      <td>19</td>\n",
              "      <td>194</td>\n",
              "      <td>57</td>\n",
              "      <td>75</td>\n",
              "      <td>308</td>\n",
              "      <td>126</td>\n",
              "    </tr>\n",
              "    <tr>\n",
              "      <th>kids</th>\n",
              "      <td>9</td>\n",
              "      <td>165</td>\n",
              "      <td>1119</td>\n",
              "      <td>2233</td>\n",
              "      <td>2147</td>\n",
              "      <td>744</td>\n",
              "      <td>21</td>\n",
              "      <td>1546</td>\n",
              "      <td>1296</td>\n",
              "      <td>0</td>\n",
              "      <td>154</td>\n",
              "      <td>31</td>\n",
              "      <td>375</td>\n",
              "      <td>34</td>\n",
              "      <td>237</td>\n",
              "      <td>4253</td>\n",
              "      <td>498</td>\n",
              "    </tr>\n",
              "    <tr>\n",
              "      <th>party</th>\n",
              "      <td>2</td>\n",
              "      <td>344</td>\n",
              "      <td>1917</td>\n",
              "      <td>476</td>\n",
              "      <td>1229</td>\n",
              "      <td>88</td>\n",
              "      <td>40</td>\n",
              "      <td>674</td>\n",
              "      <td>687</td>\n",
              "      <td>154</td>\n",
              "      <td>0</td>\n",
              "      <td>14</td>\n",
              "      <td>229</td>\n",
              "      <td>15</td>\n",
              "      <td>31</td>\n",
              "      <td>79</td>\n",
              "      <td>102</td>\n",
              "    </tr>\n",
              "    <tr>\n",
              "      <th>photo</th>\n",
              "      <td>1</td>\n",
              "      <td>3</td>\n",
              "      <td>5</td>\n",
              "      <td>117</td>\n",
              "      <td>59</td>\n",
              "      <td>447</td>\n",
              "      <td>21</td>\n",
              "      <td>61</td>\n",
              "      <td>19</td>\n",
              "      <td>31</td>\n",
              "      <td>14</td>\n",
              "      <td>0</td>\n",
              "      <td>11</td>\n",
              "      <td>2</td>\n",
              "      <td>15</td>\n",
              "      <td>4</td>\n",
              "      <td>11</td>\n",
              "    </tr>\n",
              "    <tr>\n",
              "      <th>recreation</th>\n",
              "      <td>6</td>\n",
              "      <td>19</td>\n",
              "      <td>166</td>\n",
              "      <td>697</td>\n",
              "      <td>897</td>\n",
              "      <td>45</td>\n",
              "      <td>13</td>\n",
              "      <td>649</td>\n",
              "      <td>194</td>\n",
              "      <td>375</td>\n",
              "      <td>229</td>\n",
              "      <td>11</td>\n",
              "      <td>0</td>\n",
              "      <td>8</td>\n",
              "      <td>140</td>\n",
              "      <td>85</td>\n",
              "      <td>72</td>\n",
              "    </tr>\n",
              "    <tr>\n",
              "      <th>shopping</th>\n",
              "      <td>1</td>\n",
              "      <td>2</td>\n",
              "      <td>14</td>\n",
              "      <td>58</td>\n",
              "      <td>272</td>\n",
              "      <td>38</td>\n",
              "      <td>91</td>\n",
              "      <td>44</td>\n",
              "      <td>57</td>\n",
              "      <td>34</td>\n",
              "      <td>15</td>\n",
              "      <td>2</td>\n",
              "      <td>8</td>\n",
              "      <td>0</td>\n",
              "      <td>33</td>\n",
              "      <td>1</td>\n",
              "      <td>3</td>\n",
              "    </tr>\n",
              "    <tr>\n",
              "      <th>social-activity</th>\n",
              "      <td>2</td>\n",
              "      <td>26</td>\n",
              "      <td>288</td>\n",
              "      <td>226</td>\n",
              "      <td>334</td>\n",
              "      <td>182</td>\n",
              "      <td>11</td>\n",
              "      <td>362</td>\n",
              "      <td>75</td>\n",
              "      <td>237</td>\n",
              "      <td>31</td>\n",
              "      <td>15</td>\n",
              "      <td>140</td>\n",
              "      <td>33</td>\n",
              "      <td>0</td>\n",
              "      <td>41</td>\n",
              "      <td>9</td>\n",
              "    </tr>\n",
              "    <tr>\n",
              "      <th>theater</th>\n",
              "      <td>0</td>\n",
              "      <td>194</td>\n",
              "      <td>1111</td>\n",
              "      <td>540</td>\n",
              "      <td>1220</td>\n",
              "      <td>67</td>\n",
              "      <td>8</td>\n",
              "      <td>521</td>\n",
              "      <td>308</td>\n",
              "      <td>4253</td>\n",
              "      <td>79</td>\n",
              "      <td>4</td>\n",
              "      <td>85</td>\n",
              "      <td>1</td>\n",
              "      <td>41</td>\n",
              "      <td>0</td>\n",
              "      <td>59</td>\n",
              "    </tr>\n",
              "    <tr>\n",
              "      <th>tour</th>\n",
              "      <td>1</td>\n",
              "      <td>21</td>\n",
              "      <td>57</td>\n",
              "      <td>368</td>\n",
              "      <td>280</td>\n",
              "      <td>261</td>\n",
              "      <td>2</td>\n",
              "      <td>174</td>\n",
              "      <td>126</td>\n",
              "      <td>498</td>\n",
              "      <td>102</td>\n",
              "      <td>11</td>\n",
              "      <td>72</td>\n",
              "      <td>3</td>\n",
              "      <td>9</td>\n",
              "      <td>59</td>\n",
              "      <td>0</td>\n",
              "    </tr>\n",
              "  </tbody>\n",
              "</table>\n",
              "</div>"
            ],
            "text/plain": [
              "                 business-events  cinema  ...  theater  tour\n",
              "business-events                0       0  ...        0     1\n",
              "cinema                         0       0  ...      194    21\n",
              "concert                        4     143  ...     1111    57\n",
              "education                    682     683  ...      540   368\n",
              "entertainment                 29    5634  ...     1220   280\n",
              "exhibition                    72      78  ...       67   261\n",
              "fashion                        6      15  ...        8     2\n",
              "festival                      51    1139  ...      521   174\n",
              "holiday                        0      60  ...      308   126\n",
              "kids                           9     165  ...     4253   498\n",
              "party                          2     344  ...       79   102\n",
              "photo                          1       3  ...        4    11\n",
              "recreation                     6      19  ...       85    72\n",
              "shopping                       1       2  ...        1     3\n",
              "social-activity                2      26  ...       41     9\n",
              "theater                        0     194  ...        0    59\n",
              "tour                           1      21  ...       59     0\n",
              "\n",
              "[17 rows x 17 columns]"
            ]
          },
          "metadata": {},
          "execution_count": 23
        }
      ]
    },
    {
      "cell_type": "markdown",
      "metadata": {
        "id": "jPiDCe7gRDms"
      },
      "source": [
        "We can see a number of events with common categories, but the table does not include total number of events for each category. In other words, if only 1 event of \"shopping\" out of 1000 is also marked as \"business-event\" it shows very weak correlation, however, if we have the same result with 1 event of \"shopping\" out of 2 events it is interesting to know."
      ]
    },
    {
      "cell_type": "code",
      "metadata": {
        "id": "49kUdjg1MIj1"
      },
      "source": [
        "#here we transform our table from 'number' to 'percentege' by taking into account a total number of events for each category\n",
        "#we divide each column by the number of events and multiply 100 to find a percentege\n",
        "for cat in df_step2.index:\n",
        "  count = df[df['Category'].str.contains(cat, na=False)].count()[0]\n",
        "  df_step2[cat] = df_step2[cat].apply(lambda x: x/count*100)"
      ],
      "execution_count": 24,
      "outputs": []
    },
    {
      "cell_type": "code",
      "metadata": {
        "colab": {
          "base_uri": "https://localhost:8080/",
          "height": 378
        },
        "id": "J-t4URNneylL",
        "outputId": "c8d18ca2-b5ae-4254-c08e-e219a38d3ab5"
      },
      "source": [
        "#let's highlight large percentege values to see the results better\n",
        "def style_large_values(v, props=''):\n",
        "    return props if v > 30 else None\n",
        "s2 = df_step2.style.applymap(style_large_values, props='color:red;')\\\n",
        "              .applymap(lambda v: 'opacity: 20%;' if (v < 5) else None)\n",
        "s2"
      ],
      "execution_count": 25,
      "outputs": [
        {
          "output_type": "execute_result",
          "data": {
            "text/html": [
              "<style  type=\"text/css\" >\n",
              "#T_67d378fa_1fcb_11ec_baa6_0242ac1c0002row0_col0,#T_67d378fa_1fcb_11ec_baa6_0242ac1c0002row0_col1,#T_67d378fa_1fcb_11ec_baa6_0242ac1c0002row0_col2,#T_67d378fa_1fcb_11ec_baa6_0242ac1c0002row0_col3,#T_67d378fa_1fcb_11ec_baa6_0242ac1c0002row0_col4,#T_67d378fa_1fcb_11ec_baa6_0242ac1c0002row0_col5,#T_67d378fa_1fcb_11ec_baa6_0242ac1c0002row0_col6,#T_67d378fa_1fcb_11ec_baa6_0242ac1c0002row0_col7,#T_67d378fa_1fcb_11ec_baa6_0242ac1c0002row0_col8,#T_67d378fa_1fcb_11ec_baa6_0242ac1c0002row0_col9,#T_67d378fa_1fcb_11ec_baa6_0242ac1c0002row0_col10,#T_67d378fa_1fcb_11ec_baa6_0242ac1c0002row0_col11,#T_67d378fa_1fcb_11ec_baa6_0242ac1c0002row0_col12,#T_67d378fa_1fcb_11ec_baa6_0242ac1c0002row0_col13,#T_67d378fa_1fcb_11ec_baa6_0242ac1c0002row0_col14,#T_67d378fa_1fcb_11ec_baa6_0242ac1c0002row0_col15,#T_67d378fa_1fcb_11ec_baa6_0242ac1c0002row0_col16,#T_67d378fa_1fcb_11ec_baa6_0242ac1c0002row1_col0,#T_67d378fa_1fcb_11ec_baa6_0242ac1c0002row1_col1,#T_67d378fa_1fcb_11ec_baa6_0242ac1c0002row1_col2,#T_67d378fa_1fcb_11ec_baa6_0242ac1c0002row1_col3,#T_67d378fa_1fcb_11ec_baa6_0242ac1c0002row1_col5,#T_67d378fa_1fcb_11ec_baa6_0242ac1c0002row1_col6,#T_67d378fa_1fcb_11ec_baa6_0242ac1c0002row1_col8,#T_67d378fa_1fcb_11ec_baa6_0242ac1c0002row1_col9,#T_67d378fa_1fcb_11ec_baa6_0242ac1c0002row1_col10,#T_67d378fa_1fcb_11ec_baa6_0242ac1c0002row1_col11,#T_67d378fa_1fcb_11ec_baa6_0242ac1c0002row1_col12,#T_67d378fa_1fcb_11ec_baa6_0242ac1c0002row1_col13,#T_67d378fa_1fcb_11ec_baa6_0242ac1c0002row1_col14,#T_67d378fa_1fcb_11ec_baa6_0242ac1c0002row1_col15,#T_67d378fa_1fcb_11ec_baa6_0242ac1c0002row1_col16,#T_67d378fa_1fcb_11ec_baa6_0242ac1c0002row2_col0,#T_67d378fa_1fcb_11ec_baa6_0242ac1c0002row2_col1,#T_67d378fa_1fcb_11ec_baa6_0242ac1c0002row2_col2,#T_67d378fa_1fcb_11ec_baa6_0242ac1c0002row2_col5,#T_67d378fa_1fcb_11ec_baa6_0242ac1c0002row2_col6,#T_67d378fa_1fcb_11ec_baa6_0242ac1c0002row2_col11,#T_67d378fa_1fcb_11ec_baa6_0242ac1c0002row2_col12,#T_67d378fa_1fcb_11ec_baa6_0242ac1c0002row2_col13,#T_67d378fa_1fcb_11ec_baa6_0242ac1c0002row2_col16,#T_67d378fa_1fcb_11ec_baa6_0242ac1c0002row3_col2,#T_67d378fa_1fcb_11ec_baa6_0242ac1c0002row3_col3,#T_67d378fa_1fcb_11ec_baa6_0242ac1c0002row3_col5,#T_67d378fa_1fcb_11ec_baa6_0242ac1c0002row3_col15,#T_67d378fa_1fcb_11ec_baa6_0242ac1c0002row4_col0,#T_67d378fa_1fcb_11ec_baa6_0242ac1c0002row4_col2,#T_67d378fa_1fcb_11ec_baa6_0242ac1c0002row4_col4,#T_67d378fa_1fcb_11ec_baa6_0242ac1c0002row4_col5,#T_67d378fa_1fcb_11ec_baa6_0242ac1c0002row5_col1,#T_67d378fa_1fcb_11ec_baa6_0242ac1c0002row5_col2,#T_67d378fa_1fcb_11ec_baa6_0242ac1c0002row5_col3,#T_67d378fa_1fcb_11ec_baa6_0242ac1c0002row5_col4,#T_67d378fa_1fcb_11ec_baa6_0242ac1c0002row5_col5,#T_67d378fa_1fcb_11ec_baa6_0242ac1c0002row5_col7,#T_67d378fa_1fcb_11ec_baa6_0242ac1c0002row5_col8,#T_67d378fa_1fcb_11ec_baa6_0242ac1c0002row5_col10,#T_67d378fa_1fcb_11ec_baa6_0242ac1c0002row5_col12,#T_67d378fa_1fcb_11ec_baa6_0242ac1c0002row5_col15,#T_67d378fa_1fcb_11ec_baa6_0242ac1c0002row6_col0,#T_67d378fa_1fcb_11ec_baa6_0242ac1c0002row6_col1,#T_67d378fa_1fcb_11ec_baa6_0242ac1c0002row6_col2,#T_67d378fa_1fcb_11ec_baa6_0242ac1c0002row6_col3,#T_67d378fa_1fcb_11ec_baa6_0242ac1c0002row6_col4,#T_67d378fa_1fcb_11ec_baa6_0242ac1c0002row6_col5,#T_67d378fa_1fcb_11ec_baa6_0242ac1c0002row6_col6,#T_67d378fa_1fcb_11ec_baa6_0242ac1c0002row6_col7,#T_67d378fa_1fcb_11ec_baa6_0242ac1c0002row6_col8,#T_67d378fa_1fcb_11ec_baa6_0242ac1c0002row6_col9,#T_67d378fa_1fcb_11ec_baa6_0242ac1c0002row6_col10,#T_67d378fa_1fcb_11ec_baa6_0242ac1c0002row6_col11,#T_67d378fa_1fcb_11ec_baa6_0242ac1c0002row6_col12,#T_67d378fa_1fcb_11ec_baa6_0242ac1c0002row6_col14,#T_67d378fa_1fcb_11ec_baa6_0242ac1c0002row6_col15,#T_67d378fa_1fcb_11ec_baa6_0242ac1c0002row6_col16,#T_67d378fa_1fcb_11ec_baa6_0242ac1c0002row7_col0,#T_67d378fa_1fcb_11ec_baa6_0242ac1c0002row7_col2,#T_67d378fa_1fcb_11ec_baa6_0242ac1c0002row7_col5,#T_67d378fa_1fcb_11ec_baa6_0242ac1c0002row7_col7,#T_67d378fa_1fcb_11ec_baa6_0242ac1c0002row7_col15,#T_67d378fa_1fcb_11ec_baa6_0242ac1c0002row7_col16,#T_67d378fa_1fcb_11ec_baa6_0242ac1c0002row8_col0,#T_67d378fa_1fcb_11ec_baa6_0242ac1c0002row8_col1,#T_67d378fa_1fcb_11ec_baa6_0242ac1c0002row8_col2,#T_67d378fa_1fcb_11ec_baa6_0242ac1c0002row8_col3,#T_67d378fa_1fcb_11ec_baa6_0242ac1c0002row8_col5,#T_67d378fa_1fcb_11ec_baa6_0242ac1c0002row8_col6,#T_67d378fa_1fcb_11ec_baa6_0242ac1c0002row8_col8,#T_67d378fa_1fcb_11ec_baa6_0242ac1c0002row8_col11,#T_67d378fa_1fcb_11ec_baa6_0242ac1c0002row8_col12,#T_67d378fa_1fcb_11ec_baa6_0242ac1c0002row8_col14,#T_67d378fa_1fcb_11ec_baa6_0242ac1c0002row8_col15,#T_67d378fa_1fcb_11ec_baa6_0242ac1c0002row8_col16,#T_67d378fa_1fcb_11ec_baa6_0242ac1c0002row9_col0,#T_67d378fa_1fcb_11ec_baa6_0242ac1c0002row9_col1,#T_67d378fa_1fcb_11ec_baa6_0242ac1c0002row9_col2,#T_67d378fa_1fcb_11ec_baa6_0242ac1c0002row9_col5,#T_67d378fa_1fcb_11ec_baa6_0242ac1c0002row9_col6,#T_67d378fa_1fcb_11ec_baa6_0242ac1c0002row9_col9,#T_67d378fa_1fcb_11ec_baa6_0242ac1c0002row9_col10,#T_67d378fa_1fcb_11ec_baa6_0242ac1c0002row9_col11,#T_67d378fa_1fcb_11ec_baa6_0242ac1c0002row9_col13,#T_67d378fa_1fcb_11ec_baa6_0242ac1c0002row10_col0,#T_67d378fa_1fcb_11ec_baa6_0242ac1c0002row10_col2,#T_67d378fa_1fcb_11ec_baa6_0242ac1c0002row10_col3,#T_67d378fa_1fcb_11ec_baa6_0242ac1c0002row10_col5,#T_67d378fa_1fcb_11ec_baa6_0242ac1c0002row10_col6,#T_67d378fa_1fcb_11ec_baa6_0242ac1c0002row10_col9,#T_67d378fa_1fcb_11ec_baa6_0242ac1c0002row10_col10,#T_67d378fa_1fcb_11ec_baa6_0242ac1c0002row10_col11,#T_67d378fa_1fcb_11ec_baa6_0242ac1c0002row10_col12,#T_67d378fa_1fcb_11ec_baa6_0242ac1c0002row10_col13,#T_67d378fa_1fcb_11ec_baa6_0242ac1c0002row10_col14,#T_67d378fa_1fcb_11ec_baa6_0242ac1c0002row10_col15,#T_67d378fa_1fcb_11ec_baa6_0242ac1c0002row10_col16,#T_67d378fa_1fcb_11ec_baa6_0242ac1c0002row11_col0,#T_67d378fa_1fcb_11ec_baa6_0242ac1c0002row11_col1,#T_67d378fa_1fcb_11ec_baa6_0242ac1c0002row11_col2,#T_67d378fa_1fcb_11ec_baa6_0242ac1c0002row11_col3,#T_67d378fa_1fcb_11ec_baa6_0242ac1c0002row11_col4,#T_67d378fa_1fcb_11ec_baa6_0242ac1c0002row11_col5,#T_67d378fa_1fcb_11ec_baa6_0242ac1c0002row11_col6,#T_67d378fa_1fcb_11ec_baa6_0242ac1c0002row11_col7,#T_67d378fa_1fcb_11ec_baa6_0242ac1c0002row11_col8,#T_67d378fa_1fcb_11ec_baa6_0242ac1c0002row11_col9,#T_67d378fa_1fcb_11ec_baa6_0242ac1c0002row11_col10,#T_67d378fa_1fcb_11ec_baa6_0242ac1c0002row11_col11,#T_67d378fa_1fcb_11ec_baa6_0242ac1c0002row11_col12,#T_67d378fa_1fcb_11ec_baa6_0242ac1c0002row11_col13,#T_67d378fa_1fcb_11ec_baa6_0242ac1c0002row11_col14,#T_67d378fa_1fcb_11ec_baa6_0242ac1c0002row11_col15,#T_67d378fa_1fcb_11ec_baa6_0242ac1c0002row11_col16,#T_67d378fa_1fcb_11ec_baa6_0242ac1c0002row12_col0,#T_67d378fa_1fcb_11ec_baa6_0242ac1c0002row12_col1,#T_67d378fa_1fcb_11ec_baa6_0242ac1c0002row12_col2,#T_67d378fa_1fcb_11ec_baa6_0242ac1c0002row12_col3,#T_67d378fa_1fcb_11ec_baa6_0242ac1c0002row12_col4,#T_67d378fa_1fcb_11ec_baa6_0242ac1c0002row12_col5,#T_67d378fa_1fcb_11ec_baa6_0242ac1c0002row12_col6,#T_67d378fa_1fcb_11ec_baa6_0242ac1c0002row12_col7,#T_67d378fa_1fcb_11ec_baa6_0242ac1c0002row12_col8,#T_67d378fa_1fcb_11ec_baa6_0242ac1c0002row12_col9,#T_67d378fa_1fcb_11ec_baa6_0242ac1c0002row12_col10,#T_67d378fa_1fcb_11ec_baa6_0242ac1c0002row12_col11,#T_67d378fa_1fcb_11ec_baa6_0242ac1c0002row12_col12,#T_67d378fa_1fcb_11ec_baa6_0242ac1c0002row12_col13,#T_67d378fa_1fcb_11ec_baa6_0242ac1c0002row12_col15,#T_67d378fa_1fcb_11ec_baa6_0242ac1c0002row12_col16,#T_67d378fa_1fcb_11ec_baa6_0242ac1c0002row13_col0,#T_67d378fa_1fcb_11ec_baa6_0242ac1c0002row13_col1,#T_67d378fa_1fcb_11ec_baa6_0242ac1c0002row13_col2,#T_67d378fa_1fcb_11ec_baa6_0242ac1c0002row13_col3,#T_67d378fa_1fcb_11ec_baa6_0242ac1c0002row13_col4,#T_67d378fa_1fcb_11ec_baa6_0242ac1c0002row13_col5,#T_67d378fa_1fcb_11ec_baa6_0242ac1c0002row13_col7,#T_67d378fa_1fcb_11ec_baa6_0242ac1c0002row13_col8,#T_67d378fa_1fcb_11ec_baa6_0242ac1c0002row13_col9,#T_67d378fa_1fcb_11ec_baa6_0242ac1c0002row13_col10,#T_67d378fa_1fcb_11ec_baa6_0242ac1c0002row13_col11,#T_67d378fa_1fcb_11ec_baa6_0242ac1c0002row13_col12,#T_67d378fa_1fcb_11ec_baa6_0242ac1c0002row13_col13,#T_67d378fa_1fcb_11ec_baa6_0242ac1c0002row13_col14,#T_67d378fa_1fcb_11ec_baa6_0242ac1c0002row13_col15,#T_67d378fa_1fcb_11ec_baa6_0242ac1c0002row13_col16,#T_67d378fa_1fcb_11ec_baa6_0242ac1c0002row14_col0,#T_67d378fa_1fcb_11ec_baa6_0242ac1c0002row14_col1,#T_67d378fa_1fcb_11ec_baa6_0242ac1c0002row14_col2,#T_67d378fa_1fcb_11ec_baa6_0242ac1c0002row14_col3,#T_67d378fa_1fcb_11ec_baa6_0242ac1c0002row14_col4,#T_67d378fa_1fcb_11ec_baa6_0242ac1c0002row14_col5,#T_67d378fa_1fcb_11ec_baa6_0242ac1c0002row14_col6,#T_67d378fa_1fcb_11ec_baa6_0242ac1c0002row14_col7,#T_67d378fa_1fcb_11ec_baa6_0242ac1c0002row14_col8,#T_67d378fa_1fcb_11ec_baa6_0242ac1c0002row14_col9,#T_67d378fa_1fcb_11ec_baa6_0242ac1c0002row14_col10,#T_67d378fa_1fcb_11ec_baa6_0242ac1c0002row14_col11,#T_67d378fa_1fcb_11ec_baa6_0242ac1c0002row14_col12,#T_67d378fa_1fcb_11ec_baa6_0242ac1c0002row14_col13,#T_67d378fa_1fcb_11ec_baa6_0242ac1c0002row14_col14,#T_67d378fa_1fcb_11ec_baa6_0242ac1c0002row14_col15,#T_67d378fa_1fcb_11ec_baa6_0242ac1c0002row14_col16,#T_67d378fa_1fcb_11ec_baa6_0242ac1c0002row15_col0,#T_67d378fa_1fcb_11ec_baa6_0242ac1c0002row15_col1,#T_67d378fa_1fcb_11ec_baa6_0242ac1c0002row15_col2,#T_67d378fa_1fcb_11ec_baa6_0242ac1c0002row15_col3,#T_67d378fa_1fcb_11ec_baa6_0242ac1c0002row15_col5,#T_67d378fa_1fcb_11ec_baa6_0242ac1c0002row15_col6,#T_67d378fa_1fcb_11ec_baa6_0242ac1c0002row15_col7,#T_67d378fa_1fcb_11ec_baa6_0242ac1c0002row15_col10,#T_67d378fa_1fcb_11ec_baa6_0242ac1c0002row15_col11,#T_67d378fa_1fcb_11ec_baa6_0242ac1c0002row15_col12,#T_67d378fa_1fcb_11ec_baa6_0242ac1c0002row15_col13,#T_67d378fa_1fcb_11ec_baa6_0242ac1c0002row15_col14,#T_67d378fa_1fcb_11ec_baa6_0242ac1c0002row15_col15,#T_67d378fa_1fcb_11ec_baa6_0242ac1c0002row15_col16,#T_67d378fa_1fcb_11ec_baa6_0242ac1c0002row16_col0,#T_67d378fa_1fcb_11ec_baa6_0242ac1c0002row16_col1,#T_67d378fa_1fcb_11ec_baa6_0242ac1c0002row16_col2,#T_67d378fa_1fcb_11ec_baa6_0242ac1c0002row16_col3,#T_67d378fa_1fcb_11ec_baa6_0242ac1c0002row16_col4,#T_67d378fa_1fcb_11ec_baa6_0242ac1c0002row16_col5,#T_67d378fa_1fcb_11ec_baa6_0242ac1c0002row16_col6,#T_67d378fa_1fcb_11ec_baa6_0242ac1c0002row16_col7,#T_67d378fa_1fcb_11ec_baa6_0242ac1c0002row16_col8,#T_67d378fa_1fcb_11ec_baa6_0242ac1c0002row16_col9,#T_67d378fa_1fcb_11ec_baa6_0242ac1c0002row16_col10,#T_67d378fa_1fcb_11ec_baa6_0242ac1c0002row16_col11,#T_67d378fa_1fcb_11ec_baa6_0242ac1c0002row16_col12,#T_67d378fa_1fcb_11ec_baa6_0242ac1c0002row16_col13,#T_67d378fa_1fcb_11ec_baa6_0242ac1c0002row16_col14,#T_67d378fa_1fcb_11ec_baa6_0242ac1c0002row16_col15,#T_67d378fa_1fcb_11ec_baa6_0242ac1c0002row16_col16{\n",
              "            opacity:  20%;\n",
              "        }#T_67d378fa_1fcb_11ec_baa6_0242ac1c0002row3_col0,#T_67d378fa_1fcb_11ec_baa6_0242ac1c0002row3_col6,#T_67d378fa_1fcb_11ec_baa6_0242ac1c0002row4_col1,#T_67d378fa_1fcb_11ec_baa6_0242ac1c0002row4_col13,#T_67d378fa_1fcb_11ec_baa6_0242ac1c0002row5_col11,#T_67d378fa_1fcb_11ec_baa6_0242ac1c0002row15_col9{\n",
              "            color: red;\n",
              "        }</style><table id=\"T_67d378fa_1fcb_11ec_baa6_0242ac1c0002\" ><thead>    <tr>        <th class=\"blank level0\" ></th>        <th class=\"col_heading level0 col0\" >business-events</th>        <th class=\"col_heading level0 col1\" >cinema</th>        <th class=\"col_heading level0 col2\" >concert</th>        <th class=\"col_heading level0 col3\" >education</th>        <th class=\"col_heading level0 col4\" >entertainment</th>        <th class=\"col_heading level0 col5\" >exhibition</th>        <th class=\"col_heading level0 col6\" >fashion</th>        <th class=\"col_heading level0 col7\" >festival</th>        <th class=\"col_heading level0 col8\" >holiday</th>        <th class=\"col_heading level0 col9\" >kids</th>        <th class=\"col_heading level0 col10\" >party</th>        <th class=\"col_heading level0 col11\" >photo</th>        <th class=\"col_heading level0 col12\" >recreation</th>        <th class=\"col_heading level0 col13\" >shopping</th>        <th class=\"col_heading level0 col14\" >social-activity</th>        <th class=\"col_heading level0 col15\" >theater</th>        <th class=\"col_heading level0 col16\" >tour</th>    </tr></thead><tbody>\n",
              "                <tr>\n",
              "                        <th id=\"T_67d378fa_1fcb_11ec_baa6_0242ac1c0002level0_row0\" class=\"row_heading level0 row0\" >business-events</th>\n",
              "                        <td id=\"T_67d378fa_1fcb_11ec_baa6_0242ac1c0002row0_col0\" class=\"data row0 col0\" >0.000000</td>\n",
              "                        <td id=\"T_67d378fa_1fcb_11ec_baa6_0242ac1c0002row0_col1\" class=\"data row0 col1\" >0.000000</td>\n",
              "                        <td id=\"T_67d378fa_1fcb_11ec_baa6_0242ac1c0002row0_col2\" class=\"data row0 col2\" >0.006132</td>\n",
              "                        <td id=\"T_67d378fa_1fcb_11ec_baa6_0242ac1c0002row0_col3\" class=\"data row0 col3\" >3.461578</td>\n",
              "                        <td id=\"T_67d378fa_1fcb_11ec_baa6_0242ac1c0002row0_col4\" class=\"data row0 col4\" >0.152768</td>\n",
              "                        <td id=\"T_67d378fa_1fcb_11ec_baa6_0242ac1c0002row0_col5\" class=\"data row0 col5\" >0.384656</td>\n",
              "                        <td id=\"T_67d378fa_1fcb_11ec_baa6_0242ac1c0002row0_col6\" class=\"data row0 col6\" >0.561272</td>\n",
              "                        <td id=\"T_67d378fa_1fcb_11ec_baa6_0242ac1c0002row0_col7\" class=\"data row0 col7\" >0.380370</td>\n",
              "                        <td id=\"T_67d378fa_1fcb_11ec_baa6_0242ac1c0002row0_col8\" class=\"data row0 col8\" >0.000000</td>\n",
              "                        <td id=\"T_67d378fa_1fcb_11ec_baa6_0242ac1c0002row0_col9\" class=\"data row0 col9\" >0.074044</td>\n",
              "                        <td id=\"T_67d378fa_1fcb_11ec_baa6_0242ac1c0002row0_col10\" class=\"data row0 col10\" >0.022696</td>\n",
              "                        <td id=\"T_67d378fa_1fcb_11ec_baa6_0242ac1c0002row0_col11\" class=\"data row0 col11\" >0.138504</td>\n",
              "                        <td id=\"T_67d378fa_1fcb_11ec_baa6_0242ac1c0002row0_col12\" class=\"data row0 col12\" >0.127578</td>\n",
              "                        <td id=\"T_67d378fa_1fcb_11ec_baa6_0242ac1c0002row0_col13\" class=\"data row0 col13\" >0.142248</td>\n",
              "                        <td id=\"T_67d378fa_1fcb_11ec_baa6_0242ac1c0002row0_col14\" class=\"data row0 col14\" >0.129702</td>\n",
              "                        <td id=\"T_67d378fa_1fcb_11ec_baa6_0242ac1c0002row0_col15\" class=\"data row0 col15\" >0.000000</td>\n",
              "                        <td id=\"T_67d378fa_1fcb_11ec_baa6_0242ac1c0002row0_col16\" class=\"data row0 col16\" >0.023602</td>\n",
              "            </tr>\n",
              "            <tr>\n",
              "                        <th id=\"T_67d378fa_1fcb_11ec_baa6_0242ac1c0002level0_row1\" class=\"row_heading level0 row1\" >cinema</th>\n",
              "                        <td id=\"T_67d378fa_1fcb_11ec_baa6_0242ac1c0002row1_col0\" class=\"data row1 col0\" >0.000000</td>\n",
              "                        <td id=\"T_67d378fa_1fcb_11ec_baa6_0242ac1c0002row1_col1\" class=\"data row1 col1\" >0.000000</td>\n",
              "                        <td id=\"T_67d378fa_1fcb_11ec_baa6_0242ac1c0002row1_col2\" class=\"data row1 col2\" >0.219214</td>\n",
              "                        <td id=\"T_67d378fa_1fcb_11ec_baa6_0242ac1c0002row1_col3\" class=\"data row1 col3\" >3.466653</td>\n",
              "                        <td id=\"T_67d378fa_1fcb_11ec_baa6_0242ac1c0002row1_col4\" class=\"data row1 col4\" >29.679187</td>\n",
              "                        <td id=\"T_67d378fa_1fcb_11ec_baa6_0242ac1c0002row1_col5\" class=\"data row1 col5\" >0.416711</td>\n",
              "                        <td id=\"T_67d378fa_1fcb_11ec_baa6_0242ac1c0002row1_col6\" class=\"data row1 col6\" >1.403181</td>\n",
              "                        <td id=\"T_67d378fa_1fcb_11ec_baa6_0242ac1c0002row1_col7\" class=\"data row1 col7\" >8.494928</td>\n",
              "                        <td id=\"T_67d378fa_1fcb_11ec_baa6_0242ac1c0002row1_col8\" class=\"data row1 col8\" >1.355932</td>\n",
              "                        <td id=\"T_67d378fa_1fcb_11ec_baa6_0242ac1c0002row1_col9\" class=\"data row1 col9\" >1.357466</td>\n",
              "                        <td id=\"T_67d378fa_1fcb_11ec_baa6_0242ac1c0002row1_col10\" class=\"data row1 col10\" >3.903768</td>\n",
              "                        <td id=\"T_67d378fa_1fcb_11ec_baa6_0242ac1c0002row1_col11\" class=\"data row1 col11\" >0.415512</td>\n",
              "                        <td id=\"T_67d378fa_1fcb_11ec_baa6_0242ac1c0002row1_col12\" class=\"data row1 col12\" >0.403997</td>\n",
              "                        <td id=\"T_67d378fa_1fcb_11ec_baa6_0242ac1c0002row1_col13\" class=\"data row1 col13\" >0.284495</td>\n",
              "                        <td id=\"T_67d378fa_1fcb_11ec_baa6_0242ac1c0002row1_col14\" class=\"data row1 col14\" >1.686122</td>\n",
              "                        <td id=\"T_67d378fa_1fcb_11ec_baa6_0242ac1c0002row1_col15\" class=\"data row1 col15\" >0.931573</td>\n",
              "                        <td id=\"T_67d378fa_1fcb_11ec_baa6_0242ac1c0002row1_col16\" class=\"data row1 col16\" >0.495634</td>\n",
              "            </tr>\n",
              "            <tr>\n",
              "                        <th id=\"T_67d378fa_1fcb_11ec_baa6_0242ac1c0002level0_row2\" class=\"row_heading level0 row2\" >concert</th>\n",
              "                        <td id=\"T_67d378fa_1fcb_11ec_baa6_0242ac1c0002row2_col0\" class=\"data row2 col0\" >0.314713</td>\n",
              "                        <td id=\"T_67d378fa_1fcb_11ec_baa6_0242ac1c0002row2_col1\" class=\"data row2 col1\" >2.473620</td>\n",
              "                        <td id=\"T_67d378fa_1fcb_11ec_baa6_0242ac1c0002row2_col2\" class=\"data row2 col2\" >0.000000</td>\n",
              "                        <td id=\"T_67d378fa_1fcb_11ec_baa6_0242ac1c0002row2_col3\" class=\"data row2 col3\" >5.633946</td>\n",
              "                        <td id=\"T_67d378fa_1fcb_11ec_baa6_0242ac1c0002row2_col4\" class=\"data row2 col4\" >9.529579</td>\n",
              "                        <td id=\"T_67d378fa_1fcb_11ec_baa6_0242ac1c0002row2_col5\" class=\"data row2 col5\" >0.731916</td>\n",
              "                        <td id=\"T_67d378fa_1fcb_11ec_baa6_0242ac1c0002row2_col6\" class=\"data row2 col6\" >1.216090</td>\n",
              "                        <td id=\"T_67d378fa_1fcb_11ec_baa6_0242ac1c0002row2_col7\" class=\"data row2 col7\" >18.556086</td>\n",
              "                        <td id=\"T_67d378fa_1fcb_11ec_baa6_0242ac1c0002row2_col8\" class=\"data row2 col8\" >8.000000</td>\n",
              "                        <td id=\"T_67d378fa_1fcb_11ec_baa6_0242ac1c0002row2_col9\" class=\"data row2 col9\" >9.206088</td>\n",
              "                        <td id=\"T_67d378fa_1fcb_11ec_baa6_0242ac1c0002row2_col10\" class=\"data row2 col10\" >21.754426</td>\n",
              "                        <td id=\"T_67d378fa_1fcb_11ec_baa6_0242ac1c0002row2_col11\" class=\"data row2 col11\" >0.692521</td>\n",
              "                        <td id=\"T_67d378fa_1fcb_11ec_baa6_0242ac1c0002row2_col12\" class=\"data row2 col12\" >3.529662</td>\n",
              "                        <td id=\"T_67d378fa_1fcb_11ec_baa6_0242ac1c0002row2_col13\" class=\"data row2 col13\" >1.991465</td>\n",
              "                        <td id=\"T_67d378fa_1fcb_11ec_baa6_0242ac1c0002row2_col14\" class=\"data row2 col14\" >18.677043</td>\n",
              "                        <td id=\"T_67d378fa_1fcb_11ec_baa6_0242ac1c0002row2_col15\" class=\"data row2 col15\" >5.334934</td>\n",
              "                        <td id=\"T_67d378fa_1fcb_11ec_baa6_0242ac1c0002row2_col16\" class=\"data row2 col16\" >1.345291</td>\n",
              "            </tr>\n",
              "            <tr>\n",
              "                        <th id=\"T_67d378fa_1fcb_11ec_baa6_0242ac1c0002level0_row3\" class=\"row_heading level0 row3\" >education</th>\n",
              "                        <td id=\"T_67d378fa_1fcb_11ec_baa6_0242ac1c0002row3_col0\" class=\"data row3 col0\" >53.658537</td>\n",
              "                        <td id=\"T_67d378fa_1fcb_11ec_baa6_0242ac1c0002row3_col1\" class=\"data row3 col1\" >11.814565</td>\n",
              "                        <td id=\"T_67d378fa_1fcb_11ec_baa6_0242ac1c0002row3_col2\" class=\"data row3 col2\" >1.701593</td>\n",
              "                        <td id=\"T_67d378fa_1fcb_11ec_baa6_0242ac1c0002row3_col3\" class=\"data row3 col3\" >0.000000</td>\n",
              "                        <td id=\"T_67d378fa_1fcb_11ec_baa6_0242ac1c0002row3_col4\" class=\"data row3 col4\" >10.235474</td>\n",
              "                        <td id=\"T_67d378fa_1fcb_11ec_baa6_0242ac1c0002row3_col5\" class=\"data row3 col5\" >3.600812</td>\n",
              "                        <td id=\"T_67d378fa_1fcb_11ec_baa6_0242ac1c0002row3_col6\" class=\"data row3 col6\" >51.543499</td>\n",
              "                        <td id=\"T_67d378fa_1fcb_11ec_baa6_0242ac1c0002row3_col7\" class=\"data row3 col7\" >9.516706</td>\n",
              "                        <td id=\"T_67d378fa_1fcb_11ec_baa6_0242ac1c0002row3_col8\" class=\"data row3 col8\" >9.807910</td>\n",
              "                        <td id=\"T_67d378fa_1fcb_11ec_baa6_0242ac1c0002row3_col9\" class=\"data row3 col9\" >18.371041</td>\n",
              "                        <td id=\"T_67d378fa_1fcb_11ec_baa6_0242ac1c0002row3_col10\" class=\"data row3 col10\" >5.401725</td>\n",
              "                        <td id=\"T_67d378fa_1fcb_11ec_baa6_0242ac1c0002row3_col11\" class=\"data row3 col11\" >16.204986</td>\n",
              "                        <td id=\"T_67d378fa_1fcb_11ec_baa6_0242ac1c0002row3_col12\" class=\"data row3 col12\" >14.820327</td>\n",
              "                        <td id=\"T_67d378fa_1fcb_11ec_baa6_0242ac1c0002row3_col13\" class=\"data row3 col13\" >8.250356</td>\n",
              "                        <td id=\"T_67d378fa_1fcb_11ec_baa6_0242ac1c0002row3_col14\" class=\"data row3 col14\" >14.656291</td>\n",
              "                        <td id=\"T_67d378fa_1fcb_11ec_baa6_0242ac1c0002row3_col15\" class=\"data row3 col15\" >2.593037</td>\n",
              "                        <td id=\"T_67d378fa_1fcb_11ec_baa6_0242ac1c0002row3_col16\" class=\"data row3 col16\" >8.685391</td>\n",
              "            </tr>\n",
              "            <tr>\n",
              "                        <th id=\"T_67d378fa_1fcb_11ec_baa6_0242ac1c0002level0_row4\" class=\"row_heading level0 row4\" >entertainment</th>\n",
              "                        <td id=\"T_67d378fa_1fcb_11ec_baa6_0242ac1c0002row4_col0\" class=\"data row4 col0\" >2.281668</td>\n",
              "                        <td id=\"T_67d378fa_1fcb_11ec_baa6_0242ac1c0002row4_col1\" class=\"data row4 col1\" >97.457187</td>\n",
              "                        <td id=\"T_67d378fa_1fcb_11ec_baa6_0242ac1c0002row4_col2\" class=\"data row4 col2\" >2.773136</td>\n",
              "                        <td id=\"T_67d378fa_1fcb_11ec_baa6_0242ac1c0002row4_col3\" class=\"data row4 col3\" >9.861943</td>\n",
              "                        <td id=\"T_67d378fa_1fcb_11ec_baa6_0242ac1c0002row4_col4\" class=\"data row4 col4\" >0.000000</td>\n",
              "                        <td id=\"T_67d378fa_1fcb_11ec_baa6_0242ac1c0002row4_col5\" class=\"data row4 col5\" >4.834918</td>\n",
              "                        <td id=\"T_67d378fa_1fcb_11ec_baa6_0242ac1c0002row4_col6\" class=\"data row4 col6\" >14.218896</td>\n",
              "                        <td id=\"T_67d378fa_1fcb_11ec_baa6_0242ac1c0002row4_col7\" class=\"data row4 col7\" >22.874403</td>\n",
              "                        <td id=\"T_67d378fa_1fcb_11ec_baa6_0242ac1c0002row4_col8\" class=\"data row4 col8\" >22.079096</td>\n",
              "                        <td id=\"T_67d378fa_1fcb_11ec_baa6_0242ac1c0002row4_col9\" class=\"data row4 col9\" >17.663513</td>\n",
              "                        <td id=\"T_67d378fa_1fcb_11ec_baa6_0242ac1c0002row4_col10\" class=\"data row4 col10\" >13.946891</td>\n",
              "                        <td id=\"T_67d378fa_1fcb_11ec_baa6_0242ac1c0002row4_col11\" class=\"data row4 col11\" >8.171745</td>\n",
              "                        <td id=\"T_67d378fa_1fcb_11ec_baa6_0242ac1c0002row4_col12\" class=\"data row4 col12\" >19.072932</td>\n",
              "                        <td id=\"T_67d378fa_1fcb_11ec_baa6_0242ac1c0002row4_col13\" class=\"data row4 col13\" >38.691323</td>\n",
              "                        <td id=\"T_67d378fa_1fcb_11ec_baa6_0242ac1c0002row4_col14\" class=\"data row4 col14\" >21.660182</td>\n",
              "                        <td id=\"T_67d378fa_1fcb_11ec_baa6_0242ac1c0002row4_col15\" class=\"data row4 col15\" >5.858343</td>\n",
              "                        <td id=\"T_67d378fa_1fcb_11ec_baa6_0242ac1c0002row4_col16\" class=\"data row4 col16\" >6.608449</td>\n",
              "            </tr>\n",
              "            <tr>\n",
              "                        <th id=\"T_67d378fa_1fcb_11ec_baa6_0242ac1c0002level0_row5\" class=\"row_heading level0 row5\" >exhibition</th>\n",
              "                        <td id=\"T_67d378fa_1fcb_11ec_baa6_0242ac1c0002row5_col0\" class=\"data row5 col0\" >5.664831</td>\n",
              "                        <td id=\"T_67d378fa_1fcb_11ec_baa6_0242ac1c0002row5_col1\" class=\"data row5 col1\" >1.349248</td>\n",
              "                        <td id=\"T_67d378fa_1fcb_11ec_baa6_0242ac1c0002row5_col2\" class=\"data row5 col2\" >0.210016</td>\n",
              "                        <td id=\"T_67d378fa_1fcb_11ec_baa6_0242ac1c0002row5_col3\" class=\"data row5 col3\" >3.420972</td>\n",
              "                        <td id=\"T_67d378fa_1fcb_11ec_baa6_0242ac1c0002row5_col4\" class=\"data row5 col4\" >4.767423</td>\n",
              "                        <td id=\"T_67d378fa_1fcb_11ec_baa6_0242ac1c0002row5_col5\" class=\"data row5 col5\" >0.000000</td>\n",
              "                        <td id=\"T_67d378fa_1fcb_11ec_baa6_0242ac1c0002row5_col6\" class=\"data row5 col6\" >16.183349</td>\n",
              "                        <td id=\"T_67d378fa_1fcb_11ec_baa6_0242ac1c0002row5_col7\" class=\"data row5 col7\" >4.743437</td>\n",
              "                        <td id=\"T_67d378fa_1fcb_11ec_baa6_0242ac1c0002row5_col8\" class=\"data row5 col8\" >2.192090</td>\n",
              "                        <td id=\"T_67d378fa_1fcb_11ec_baa6_0242ac1c0002row5_col9\" class=\"data row5 col9\" >6.120938</td>\n",
              "                        <td id=\"T_67d378fa_1fcb_11ec_baa6_0242ac1c0002row5_col10\" class=\"data row5 col10\" >0.998638</td>\n",
              "                        <td id=\"T_67d378fa_1fcb_11ec_baa6_0242ac1c0002row5_col11\" class=\"data row5 col11\" >61.911357</td>\n",
              "                        <td id=\"T_67d378fa_1fcb_11ec_baa6_0242ac1c0002row5_col12\" class=\"data row5 col12\" >0.956836</td>\n",
              "                        <td id=\"T_67d378fa_1fcb_11ec_baa6_0242ac1c0002row5_col13\" class=\"data row5 col13\" >5.405405</td>\n",
              "                        <td id=\"T_67d378fa_1fcb_11ec_baa6_0242ac1c0002row5_col14\" class=\"data row5 col14\" >11.802853</td>\n",
              "                        <td id=\"T_67d378fa_1fcb_11ec_baa6_0242ac1c0002row5_col15\" class=\"data row5 col15\" >0.321729</td>\n",
              "                        <td id=\"T_67d378fa_1fcb_11ec_baa6_0242ac1c0002row5_col16\" class=\"data row5 col16\" >6.160019</td>\n",
              "            </tr>\n",
              "            <tr>\n",
              "                        <th id=\"T_67d378fa_1fcb_11ec_baa6_0242ac1c0002level0_row6\" class=\"row_heading level0 row6\" >fashion</th>\n",
              "                        <td id=\"T_67d378fa_1fcb_11ec_baa6_0242ac1c0002row6_col0\" class=\"data row6 col0\" >0.472069</td>\n",
              "                        <td id=\"T_67d378fa_1fcb_11ec_baa6_0242ac1c0002row6_col1\" class=\"data row6 col1\" >0.259471</td>\n",
              "                        <td id=\"T_67d378fa_1fcb_11ec_baa6_0242ac1c0002row6_col2\" class=\"data row6 col2\" >0.019929</td>\n",
              "                        <td id=\"T_67d378fa_1fcb_11ec_baa6_0242ac1c0002row6_col3\" class=\"data row6 col3\" >2.796670</td>\n",
              "                        <td id=\"T_67d378fa_1fcb_11ec_baa6_0242ac1c0002row6_col4\" class=\"data row6 col4\" >0.800716</td>\n",
              "                        <td id=\"T_67d378fa_1fcb_11ec_baa6_0242ac1c0002row6_col5\" class=\"data row6 col5\" >0.924244</td>\n",
              "                        <td id=\"T_67d378fa_1fcb_11ec_baa6_0242ac1c0002row6_col6\" class=\"data row6 col6\" >0.000000</td>\n",
              "                        <td id=\"T_67d378fa_1fcb_11ec_baa6_0242ac1c0002row6_col7\" class=\"data row6 col7\" >0.693616</td>\n",
              "                        <td id=\"T_67d378fa_1fcb_11ec_baa6_0242ac1c0002row6_col8\" class=\"data row6 col8\" >0.655367</td>\n",
              "                        <td id=\"T_67d378fa_1fcb_11ec_baa6_0242ac1c0002row6_col9\" class=\"data row6 col9\" >0.172768</td>\n",
              "                        <td id=\"T_67d378fa_1fcb_11ec_baa6_0242ac1c0002row6_col10\" class=\"data row6 col10\" >0.453926</td>\n",
              "                        <td id=\"T_67d378fa_1fcb_11ec_baa6_0242ac1c0002row6_col11\" class=\"data row6 col11\" >2.908587</td>\n",
              "                        <td id=\"T_67d378fa_1fcb_11ec_baa6_0242ac1c0002row6_col12\" class=\"data row6 col12\" >0.276419</td>\n",
              "                        <td id=\"T_67d378fa_1fcb_11ec_baa6_0242ac1c0002row6_col13\" class=\"data row6 col13\" >12.944523</td>\n",
              "                        <td id=\"T_67d378fa_1fcb_11ec_baa6_0242ac1c0002row6_col14\" class=\"data row6 col14\" >0.713359</td>\n",
              "                        <td id=\"T_67d378fa_1fcb_11ec_baa6_0242ac1c0002row6_col15\" class=\"data row6 col15\" >0.038415</td>\n",
              "                        <td id=\"T_67d378fa_1fcb_11ec_baa6_0242ac1c0002row6_col16\" class=\"data row6 col16\" >0.047203</td>\n",
              "            </tr>\n",
              "            <tr>\n",
              "                        <th id=\"T_67d378fa_1fcb_11ec_baa6_0242ac1c0002level0_row7\" class=\"row_heading level0 row7\" >festival</th>\n",
              "                        <td id=\"T_67d378fa_1fcb_11ec_baa6_0242ac1c0002row7_col0\" class=\"data row7 col0\" >4.012589</td>\n",
              "                        <td id=\"T_67d378fa_1fcb_11ec_baa6_0242ac1c0002row7_col1\" class=\"data row7 col1\" >19.702474</td>\n",
              "                        <td id=\"T_67d378fa_1fcb_11ec_baa6_0242ac1c0002row7_col2\" class=\"data row7 col2\" >3.814021</td>\n",
              "                        <td id=\"T_67d378fa_1fcb_11ec_baa6_0242ac1c0002row7_col3\" class=\"data row7 col3\" >6.476500</td>\n",
              "                        <td id=\"T_67d378fa_1fcb_11ec_baa6_0242ac1c0002row7_col4\" class=\"data row7 col4\" >16.156561</td>\n",
              "                        <td id=\"T_67d378fa_1fcb_11ec_baa6_0242ac1c0002row7_col5\" class=\"data row7 col5\" >3.397799</td>\n",
              "                        <td id=\"T_67d378fa_1fcb_11ec_baa6_0242ac1c0002row7_col6\" class=\"data row7 col6\" >8.699719</td>\n",
              "                        <td id=\"T_67d378fa_1fcb_11ec_baa6_0242ac1c0002row7_col7\" class=\"data row7 col7\" >0.000000</td>\n",
              "                        <td id=\"T_67d378fa_1fcb_11ec_baa6_0242ac1c0002row7_col8\" class=\"data row7 col8\" >19.774011</td>\n",
              "                        <td id=\"T_67d378fa_1fcb_11ec_baa6_0242ac1c0002row7_col9\" class=\"data row7 col9\" >12.719046</td>\n",
              "                        <td id=\"T_67d378fa_1fcb_11ec_baa6_0242ac1c0002row7_col10\" class=\"data row7 col10\" >7.648661</td>\n",
              "                        <td id=\"T_67d378fa_1fcb_11ec_baa6_0242ac1c0002row7_col11\" class=\"data row7 col11\" >8.448753</td>\n",
              "                        <td id=\"T_67d378fa_1fcb_11ec_baa6_0242ac1c0002row7_col12\" class=\"data row7 col12\" >13.799702</td>\n",
              "                        <td id=\"T_67d378fa_1fcb_11ec_baa6_0242ac1c0002row7_col13\" class=\"data row7 col13\" >6.258890</td>\n",
              "                        <td id=\"T_67d378fa_1fcb_11ec_baa6_0242ac1c0002row7_col14\" class=\"data row7 col14\" >23.476005</td>\n",
              "                        <td id=\"T_67d378fa_1fcb_11ec_baa6_0242ac1c0002row7_col15\" class=\"data row7 col15\" >2.501801</td>\n",
              "                        <td id=\"T_67d378fa_1fcb_11ec_baa6_0242ac1c0002row7_col16\" class=\"data row7 col16\" >4.106679</td>\n",
              "            </tr>\n",
              "            <tr>\n",
              "                        <th id=\"T_67d378fa_1fcb_11ec_baa6_0242ac1c0002level0_row8\" class=\"row_heading level0 row8\" >holiday</th>\n",
              "                        <td id=\"T_67d378fa_1fcb_11ec_baa6_0242ac1c0002row8_col0\" class=\"data row8 col0\" >0.000000</td>\n",
              "                        <td id=\"T_67d378fa_1fcb_11ec_baa6_0242ac1c0002row8_col1\" class=\"data row8 col1\" >1.037883</td>\n",
              "                        <td id=\"T_67d378fa_1fcb_11ec_baa6_0242ac1c0002row8_col2\" class=\"data row8 col2\" >0.542670</td>\n",
              "                        <td id=\"T_67d378fa_1fcb_11ec_baa6_0242ac1c0002row8_col3\" class=\"data row8 col3\" >2.202822</td>\n",
              "                        <td id=\"T_67d378fa_1fcb_11ec_baa6_0242ac1c0002row8_col4\" class=\"data row8 col4\" >5.146710</td>\n",
              "                        <td id=\"T_67d378fa_1fcb_11ec_baa6_0242ac1c0002row8_col5\" class=\"data row8 col5\" >0.518218</td>\n",
              "                        <td id=\"T_67d378fa_1fcb_11ec_baa6_0242ac1c0002row8_col6\" class=\"data row8 col6\" >2.712816</td>\n",
              "                        <td id=\"T_67d378fa_1fcb_11ec_baa6_0242ac1c0002row8_col7\" class=\"data row8 col7\" >6.525955</td>\n",
              "                        <td id=\"T_67d378fa_1fcb_11ec_baa6_0242ac1c0002row8_col8\" class=\"data row8 col8\" >0.000000</td>\n",
              "                        <td id=\"T_67d378fa_1fcb_11ec_baa6_0242ac1c0002row8_col9\" class=\"data row8 col9\" >10.662279</td>\n",
              "                        <td id=\"T_67d378fa_1fcb_11ec_baa6_0242ac1c0002row8_col10\" class=\"data row8 col10\" >7.796187</td>\n",
              "                        <td id=\"T_67d378fa_1fcb_11ec_baa6_0242ac1c0002row8_col11\" class=\"data row8 col11\" >2.631579</td>\n",
              "                        <td id=\"T_67d378fa_1fcb_11ec_baa6_0242ac1c0002row8_col12\" class=\"data row8 col12\" >4.125027</td>\n",
              "                        <td id=\"T_67d378fa_1fcb_11ec_baa6_0242ac1c0002row8_col13\" class=\"data row8 col13\" >8.108108</td>\n",
              "                        <td id=\"T_67d378fa_1fcb_11ec_baa6_0242ac1c0002row8_col14\" class=\"data row8 col14\" >4.863813</td>\n",
              "                        <td id=\"T_67d378fa_1fcb_11ec_baa6_0242ac1c0002row8_col15\" class=\"data row8 col15\" >1.478992</td>\n",
              "                        <td id=\"T_67d378fa_1fcb_11ec_baa6_0242ac1c0002row8_col16\" class=\"data row8 col16\" >2.973802</td>\n",
              "            </tr>\n",
              "            <tr>\n",
              "                        <th id=\"T_67d378fa_1fcb_11ec_baa6_0242ac1c0002level0_row9\" class=\"row_heading level0 row9\" >kids</th>\n",
              "                        <td id=\"T_67d378fa_1fcb_11ec_baa6_0242ac1c0002row9_col0\" class=\"data row9 col0\" >0.708104</td>\n",
              "                        <td id=\"T_67d378fa_1fcb_11ec_baa6_0242ac1c0002row9_col1\" class=\"data row9 col1\" >2.854177</td>\n",
              "                        <td id=\"T_67d378fa_1fcb_11ec_baa6_0242ac1c0002row9_col2\" class=\"data row9 col2\" >1.715389</td>\n",
              "                        <td id=\"T_67d378fa_1fcb_11ec_baa6_0242ac1c0002row9_col3\" class=\"data row9 col3\" >11.333875</td>\n",
              "                        <td id=\"T_67d378fa_1fcb_11ec_baa6_0242ac1c0002row9_col4\" class=\"data row9 col4\" >11.310120</td>\n",
              "                        <td id=\"T_67d378fa_1fcb_11ec_baa6_0242ac1c0002row9_col5\" class=\"data row9 col5\" >3.974784</td>\n",
              "                        <td id=\"T_67d378fa_1fcb_11ec_baa6_0242ac1c0002row9_col6\" class=\"data row9 col6\" >1.964453</td>\n",
              "                        <td id=\"T_67d378fa_1fcb_11ec_baa6_0242ac1c0002row9_col7\" class=\"data row9 col7\" >11.530430</td>\n",
              "                        <td id=\"T_67d378fa_1fcb_11ec_baa6_0242ac1c0002row9_col8\" class=\"data row9 col8\" >29.288136</td>\n",
              "                        <td id=\"T_67d378fa_1fcb_11ec_baa6_0242ac1c0002row9_col9\" class=\"data row9 col9\" >0.000000</td>\n",
              "                        <td id=\"T_67d378fa_1fcb_11ec_baa6_0242ac1c0002row9_col10\" class=\"data row9 col10\" >1.747617</td>\n",
              "                        <td id=\"T_67d378fa_1fcb_11ec_baa6_0242ac1c0002row9_col11\" class=\"data row9 col11\" >4.293629</td>\n",
              "                        <td id=\"T_67d378fa_1fcb_11ec_baa6_0242ac1c0002row9_col12\" class=\"data row9 col12\" >7.973634</td>\n",
              "                        <td id=\"T_67d378fa_1fcb_11ec_baa6_0242ac1c0002row9_col13\" class=\"data row9 col13\" >4.836415</td>\n",
              "                        <td id=\"T_67d378fa_1fcb_11ec_baa6_0242ac1c0002row9_col14\" class=\"data row9 col14\" >15.369650</td>\n",
              "                        <td id=\"T_67d378fa_1fcb_11ec_baa6_0242ac1c0002row9_col15\" class=\"data row9 col15\" >20.422569</td>\n",
              "                        <td id=\"T_67d378fa_1fcb_11ec_baa6_0242ac1c0002row9_col16\" class=\"data row9 col16\" >11.753599</td>\n",
              "            </tr>\n",
              "            <tr>\n",
              "                        <th id=\"T_67d378fa_1fcb_11ec_baa6_0242ac1c0002level0_row10\" class=\"row_heading level0 row10\" >party</th>\n",
              "                        <td id=\"T_67d378fa_1fcb_11ec_baa6_0242ac1c0002row10_col0\" class=\"data row10 col0\" >0.157356</td>\n",
              "                        <td id=\"T_67d378fa_1fcb_11ec_baa6_0242ac1c0002row10_col1\" class=\"data row10 col1\" >5.950528</td>\n",
              "                        <td id=\"T_67d378fa_1fcb_11ec_baa6_0242ac1c0002row10_col2\" class=\"data row10 col2\" >2.938697</td>\n",
              "                        <td id=\"T_67d378fa_1fcb_11ec_baa6_0242ac1c0002row10_col3\" class=\"data row10 col3\" >2.415998</td>\n",
              "                        <td id=\"T_67d378fa_1fcb_11ec_baa6_0242ac1c0002row10_col4\" class=\"data row10 col4\" >6.474214</td>\n",
              "                        <td id=\"T_67d378fa_1fcb_11ec_baa6_0242ac1c0002row10_col5\" class=\"data row10 col5\" >0.470136</td>\n",
              "                        <td id=\"T_67d378fa_1fcb_11ec_baa6_0242ac1c0002row10_col6\" class=\"data row10 col6\" >3.741815</td>\n",
              "                        <td id=\"T_67d378fa_1fcb_11ec_baa6_0242ac1c0002row10_col7\" class=\"data row10 col7\" >5.026850</td>\n",
              "                        <td id=\"T_67d378fa_1fcb_11ec_baa6_0242ac1c0002row10_col8\" class=\"data row10 col8\" >15.525424</td>\n",
              "                        <td id=\"T_67d378fa_1fcb_11ec_baa6_0242ac1c0002row10_col9\" class=\"data row10 col9\" >1.266968</td>\n",
              "                        <td id=\"T_67d378fa_1fcb_11ec_baa6_0242ac1c0002row10_col10\" class=\"data row10 col10\" >0.000000</td>\n",
              "                        <td id=\"T_67d378fa_1fcb_11ec_baa6_0242ac1c0002row10_col11\" class=\"data row10 col11\" >1.939058</td>\n",
              "                        <td id=\"T_67d378fa_1fcb_11ec_baa6_0242ac1c0002row10_col12\" class=\"data row10 col12\" >4.869232</td>\n",
              "                        <td id=\"T_67d378fa_1fcb_11ec_baa6_0242ac1c0002row10_col13\" class=\"data row10 col13\" >2.133713</td>\n",
              "                        <td id=\"T_67d378fa_1fcb_11ec_baa6_0242ac1c0002row10_col14\" class=\"data row10 col14\" >2.010376</td>\n",
              "                        <td id=\"T_67d378fa_1fcb_11ec_baa6_0242ac1c0002row10_col15\" class=\"data row10 col15\" >0.379352</td>\n",
              "                        <td id=\"T_67d378fa_1fcb_11ec_baa6_0242ac1c0002row10_col16\" class=\"data row10 col16\" >2.407364</td>\n",
              "            </tr>\n",
              "            <tr>\n",
              "                        <th id=\"T_67d378fa_1fcb_11ec_baa6_0242ac1c0002level0_row11\" class=\"row_heading level0 row11\" >photo</th>\n",
              "                        <td id=\"T_67d378fa_1fcb_11ec_baa6_0242ac1c0002row11_col0\" class=\"data row11 col0\" >0.078678</td>\n",
              "                        <td id=\"T_67d378fa_1fcb_11ec_baa6_0242ac1c0002row11_col1\" class=\"data row11 col1\" >0.051894</td>\n",
              "                        <td id=\"T_67d378fa_1fcb_11ec_baa6_0242ac1c0002row11_col2\" class=\"data row11 col2\" >0.007665</td>\n",
              "                        <td id=\"T_67d378fa_1fcb_11ec_baa6_0242ac1c0002row11_col3\" class=\"data row11 col3\" >0.593848</td>\n",
              "                        <td id=\"T_67d378fa_1fcb_11ec_baa6_0242ac1c0002row11_col4\" class=\"data row11 col4\" >0.310804</td>\n",
              "                        <td id=\"T_67d378fa_1fcb_11ec_baa6_0242ac1c0002row11_col5\" class=\"data row11 col5\" >2.388076</td>\n",
              "                        <td id=\"T_67d378fa_1fcb_11ec_baa6_0242ac1c0002row11_col6\" class=\"data row11 col6\" >1.964453</td>\n",
              "                        <td id=\"T_67d378fa_1fcb_11ec_baa6_0242ac1c0002row11_col7\" class=\"data row11 col7\" >0.454952</td>\n",
              "                        <td id=\"T_67d378fa_1fcb_11ec_baa6_0242ac1c0002row11_col8\" class=\"data row11 col8\" >0.429379</td>\n",
              "                        <td id=\"T_67d378fa_1fcb_11ec_baa6_0242ac1c0002row11_col9\" class=\"data row11 col9\" >0.255039</td>\n",
              "                        <td id=\"T_67d378fa_1fcb_11ec_baa6_0242ac1c0002row11_col10\" class=\"data row11 col10\" >0.158874</td>\n",
              "                        <td id=\"T_67d378fa_1fcb_11ec_baa6_0242ac1c0002row11_col11\" class=\"data row11 col11\" >0.000000</td>\n",
              "                        <td id=\"T_67d378fa_1fcb_11ec_baa6_0242ac1c0002row11_col12\" class=\"data row11 col12\" >0.233893</td>\n",
              "                        <td id=\"T_67d378fa_1fcb_11ec_baa6_0242ac1c0002row11_col13\" class=\"data row11 col13\" >0.284495</td>\n",
              "                        <td id=\"T_67d378fa_1fcb_11ec_baa6_0242ac1c0002row11_col14\" class=\"data row11 col14\" >0.972763</td>\n",
              "                        <td id=\"T_67d378fa_1fcb_11ec_baa6_0242ac1c0002row11_col15\" class=\"data row11 col15\" >0.019208</td>\n",
              "                        <td id=\"T_67d378fa_1fcb_11ec_baa6_0242ac1c0002row11_col16\" class=\"data row11 col16\" >0.259618</td>\n",
              "            </tr>\n",
              "            <tr>\n",
              "                        <th id=\"T_67d378fa_1fcb_11ec_baa6_0242ac1c0002level0_row12\" class=\"row_heading level0 row12\" >recreation</th>\n",
              "                        <td id=\"T_67d378fa_1fcb_11ec_baa6_0242ac1c0002row12_col0\" class=\"data row12 col0\" >0.472069</td>\n",
              "                        <td id=\"T_67d378fa_1fcb_11ec_baa6_0242ac1c0002row12_col1\" class=\"data row12 col1\" >0.328663</td>\n",
              "                        <td id=\"T_67d378fa_1fcb_11ec_baa6_0242ac1c0002row12_col2\" class=\"data row12 col2\" >0.254472</td>\n",
              "                        <td id=\"T_67d378fa_1fcb_11ec_baa6_0242ac1c0002row12_col3\" class=\"data row12 col3\" >3.537712</td>\n",
              "                        <td id=\"T_67d378fa_1fcb_11ec_baa6_0242ac1c0002row12_col4\" class=\"data row12 col4\" >4.725281</td>\n",
              "                        <td id=\"T_67d378fa_1fcb_11ec_baa6_0242ac1c0002row12_col5\" class=\"data row12 col5\" >0.240410</td>\n",
              "                        <td id=\"T_67d378fa_1fcb_11ec_baa6_0242ac1c0002row12_col6\" class=\"data row12 col6\" >1.216090</td>\n",
              "                        <td id=\"T_67d378fa_1fcb_11ec_baa6_0242ac1c0002row12_col7\" class=\"data row12 col7\" >4.840394</td>\n",
              "                        <td id=\"T_67d378fa_1fcb_11ec_baa6_0242ac1c0002row12_col8\" class=\"data row12 col8\" >4.384181</td>\n",
              "                        <td id=\"T_67d378fa_1fcb_11ec_baa6_0242ac1c0002row12_col9\" class=\"data row12 col9\" >3.085150</td>\n",
              "                        <td id=\"T_67d378fa_1fcb_11ec_baa6_0242ac1c0002row12_col10\" class=\"data row12 col10\" >2.598729</td>\n",
              "                        <td id=\"T_67d378fa_1fcb_11ec_baa6_0242ac1c0002row12_col11\" class=\"data row12 col11\" >1.523546</td>\n",
              "                        <td id=\"T_67d378fa_1fcb_11ec_baa6_0242ac1c0002row12_col12\" class=\"data row12 col12\" >0.000000</td>\n",
              "                        <td id=\"T_67d378fa_1fcb_11ec_baa6_0242ac1c0002row12_col13\" class=\"data row12 col13\" >1.137980</td>\n",
              "                        <td id=\"T_67d378fa_1fcb_11ec_baa6_0242ac1c0002row12_col14\" class=\"data row12 col14\" >9.079118</td>\n",
              "                        <td id=\"T_67d378fa_1fcb_11ec_baa6_0242ac1c0002row12_col15\" class=\"data row12 col15\" >0.408163</td>\n",
              "                        <td id=\"T_67d378fa_1fcb_11ec_baa6_0242ac1c0002row12_col16\" class=\"data row12 col16\" >1.699316</td>\n",
              "            </tr>\n",
              "            <tr>\n",
              "                        <th id=\"T_67d378fa_1fcb_11ec_baa6_0242ac1c0002level0_row13\" class=\"row_heading level0 row13\" >shopping</th>\n",
              "                        <td id=\"T_67d378fa_1fcb_11ec_baa6_0242ac1c0002row13_col0\" class=\"data row13 col0\" >0.078678</td>\n",
              "                        <td id=\"T_67d378fa_1fcb_11ec_baa6_0242ac1c0002row13_col1\" class=\"data row13 col1\" >0.034596</td>\n",
              "                        <td id=\"T_67d378fa_1fcb_11ec_baa6_0242ac1c0002row13_col2\" class=\"data row13 col2\" >0.021462</td>\n",
              "                        <td id=\"T_67d378fa_1fcb_11ec_baa6_0242ac1c0002row13_col3\" class=\"data row13 col3\" >0.294386</td>\n",
              "                        <td id=\"T_67d378fa_1fcb_11ec_baa6_0242ac1c0002row13_col4\" class=\"data row13 col4\" >1.432861</td>\n",
              "                        <td id=\"T_67d378fa_1fcb_11ec_baa6_0242ac1c0002row13_col5\" class=\"data row13 col5\" >0.203013</td>\n",
              "                        <td id=\"T_67d378fa_1fcb_11ec_baa6_0242ac1c0002row13_col6\" class=\"data row13 col6\" >8.512629</td>\n",
              "                        <td id=\"T_67d378fa_1fcb_11ec_baa6_0242ac1c0002row13_col7\" class=\"data row13 col7\" >0.328162</td>\n",
              "                        <td id=\"T_67d378fa_1fcb_11ec_baa6_0242ac1c0002row13_col8\" class=\"data row13 col8\" >1.288136</td>\n",
              "                        <td id=\"T_67d378fa_1fcb_11ec_baa6_0242ac1c0002row13_col9\" class=\"data row13 col9\" >0.279720</td>\n",
              "                        <td id=\"T_67d378fa_1fcb_11ec_baa6_0242ac1c0002row13_col10\" class=\"data row13 col10\" >0.170222</td>\n",
              "                        <td id=\"T_67d378fa_1fcb_11ec_baa6_0242ac1c0002row13_col11\" class=\"data row13 col11\" >0.277008</td>\n",
              "                        <td id=\"T_67d378fa_1fcb_11ec_baa6_0242ac1c0002row13_col12\" class=\"data row13 col12\" >0.170104</td>\n",
              "                        <td id=\"T_67d378fa_1fcb_11ec_baa6_0242ac1c0002row13_col13\" class=\"data row13 col13\" >0.000000</td>\n",
              "                        <td id=\"T_67d378fa_1fcb_11ec_baa6_0242ac1c0002row13_col14\" class=\"data row13 col14\" >2.140078</td>\n",
              "                        <td id=\"T_67d378fa_1fcb_11ec_baa6_0242ac1c0002row13_col15\" class=\"data row13 col15\" >0.004802</td>\n",
              "                        <td id=\"T_67d378fa_1fcb_11ec_baa6_0242ac1c0002row13_col16\" class=\"data row13 col16\" >0.070805</td>\n",
              "            </tr>\n",
              "            <tr>\n",
              "                        <th id=\"T_67d378fa_1fcb_11ec_baa6_0242ac1c0002level0_row14\" class=\"row_heading level0 row14\" >social-activity</th>\n",
              "                        <td id=\"T_67d378fa_1fcb_11ec_baa6_0242ac1c0002row14_col0\" class=\"data row14 col0\" >0.157356</td>\n",
              "                        <td id=\"T_67d378fa_1fcb_11ec_baa6_0242ac1c0002row14_col1\" class=\"data row14 col1\" >0.449749</td>\n",
              "                        <td id=\"T_67d378fa_1fcb_11ec_baa6_0242ac1c0002row14_col2\" class=\"data row14 col2\" >0.441494</td>\n",
              "                        <td id=\"T_67d378fa_1fcb_11ec_baa6_0242ac1c0002row14_col3\" class=\"data row14 col3\" >1.147092</td>\n",
              "                        <td id=\"T_67d378fa_1fcb_11ec_baa6_0242ac1c0002row14_col4\" class=\"data row14 col4\" >1.759469</td>\n",
              "                        <td id=\"T_67d378fa_1fcb_11ec_baa6_0242ac1c0002row14_col5\" class=\"data row14 col5\" >0.972326</td>\n",
              "                        <td id=\"T_67d378fa_1fcb_11ec_baa6_0242ac1c0002row14_col6\" class=\"data row14 col6\" >1.028999</td>\n",
              "                        <td id=\"T_67d378fa_1fcb_11ec_baa6_0242ac1c0002row14_col7\" class=\"data row14 col7\" >2.699881</td>\n",
              "                        <td id=\"T_67d378fa_1fcb_11ec_baa6_0242ac1c0002row14_col8\" class=\"data row14 col8\" >1.694915</td>\n",
              "                        <td id=\"T_67d378fa_1fcb_11ec_baa6_0242ac1c0002row14_col9\" class=\"data row14 col9\" >1.949815</td>\n",
              "                        <td id=\"T_67d378fa_1fcb_11ec_baa6_0242ac1c0002row14_col10\" class=\"data row14 col10\" >0.351793</td>\n",
              "                        <td id=\"T_67d378fa_1fcb_11ec_baa6_0242ac1c0002row14_col11\" class=\"data row14 col11\" >2.077562</td>\n",
              "                        <td id=\"T_67d378fa_1fcb_11ec_baa6_0242ac1c0002row14_col12\" class=\"data row14 col12\" >2.976823</td>\n",
              "                        <td id=\"T_67d378fa_1fcb_11ec_baa6_0242ac1c0002row14_col13\" class=\"data row14 col13\" >4.694168</td>\n",
              "                        <td id=\"T_67d378fa_1fcb_11ec_baa6_0242ac1c0002row14_col14\" class=\"data row14 col14\" >0.000000</td>\n",
              "                        <td id=\"T_67d378fa_1fcb_11ec_baa6_0242ac1c0002row14_col15\" class=\"data row14 col15\" >0.196879</td>\n",
              "                        <td id=\"T_67d378fa_1fcb_11ec_baa6_0242ac1c0002row14_col16\" class=\"data row14 col16\" >0.212414</td>\n",
              "            </tr>\n",
              "            <tr>\n",
              "                        <th id=\"T_67d378fa_1fcb_11ec_baa6_0242ac1c0002level0_row15\" class=\"row_heading level0 row15\" >theater</th>\n",
              "                        <td id=\"T_67d378fa_1fcb_11ec_baa6_0242ac1c0002row15_col0\" class=\"data row15 col0\" >0.000000</td>\n",
              "                        <td id=\"T_67d378fa_1fcb_11ec_baa6_0242ac1c0002row15_col1\" class=\"data row15 col1\" >3.355821</td>\n",
              "                        <td id=\"T_67d378fa_1fcb_11ec_baa6_0242ac1c0002row15_col2\" class=\"data row15 col2\" >1.703126</td>\n",
              "                        <td id=\"T_67d378fa_1fcb_11ec_baa6_0242ac1c0002row15_col3\" class=\"data row15 col3\" >2.740838</td>\n",
              "                        <td id=\"T_67d378fa_1fcb_11ec_baa6_0242ac1c0002row15_col4\" class=\"data row15 col4\" >6.426803</td>\n",
              "                        <td id=\"T_67d378fa_1fcb_11ec_baa6_0242ac1c0002row15_col5\" class=\"data row15 col5\" >0.357944</td>\n",
              "                        <td id=\"T_67d378fa_1fcb_11ec_baa6_0242ac1c0002row15_col6\" class=\"data row15 col6\" >0.748363</td>\n",
              "                        <td id=\"T_67d378fa_1fcb_11ec_baa6_0242ac1c0002row15_col7\" class=\"data row15 col7\" >3.885740</td>\n",
              "                        <td id=\"T_67d378fa_1fcb_11ec_baa6_0242ac1c0002row15_col8\" class=\"data row15 col8\" >6.960452</td>\n",
              "                        <td id=\"T_67d378fa_1fcb_11ec_baa6_0242ac1c0002row15_col9\" class=\"data row15 col9\" >34.989716</td>\n",
              "                        <td id=\"T_67d378fa_1fcb_11ec_baa6_0242ac1c0002row15_col10\" class=\"data row15 col10\" >0.896505</td>\n",
              "                        <td id=\"T_67d378fa_1fcb_11ec_baa6_0242ac1c0002row15_col11\" class=\"data row15 col11\" >0.554017</td>\n",
              "                        <td id=\"T_67d378fa_1fcb_11ec_baa6_0242ac1c0002row15_col12\" class=\"data row15 col12\" >1.807357</td>\n",
              "                        <td id=\"T_67d378fa_1fcb_11ec_baa6_0242ac1c0002row15_col13\" class=\"data row15 col13\" >0.142248</td>\n",
              "                        <td id=\"T_67d378fa_1fcb_11ec_baa6_0242ac1c0002row15_col14\" class=\"data row15 col14\" >2.658885</td>\n",
              "                        <td id=\"T_67d378fa_1fcb_11ec_baa6_0242ac1c0002row15_col15\" class=\"data row15 col15\" >0.000000</td>\n",
              "                        <td id=\"T_67d378fa_1fcb_11ec_baa6_0242ac1c0002row15_col16\" class=\"data row15 col16\" >1.392495</td>\n",
              "            </tr>\n",
              "            <tr>\n",
              "                        <th id=\"T_67d378fa_1fcb_11ec_baa6_0242ac1c0002level0_row16\" class=\"row_heading level0 row16\" >tour</th>\n",
              "                        <td id=\"T_67d378fa_1fcb_11ec_baa6_0242ac1c0002row16_col0\" class=\"data row16 col0\" >0.078678</td>\n",
              "                        <td id=\"T_67d378fa_1fcb_11ec_baa6_0242ac1c0002row16_col1\" class=\"data row16 col1\" >0.363259</td>\n",
              "                        <td id=\"T_67d378fa_1fcb_11ec_baa6_0242ac1c0002row16_col2\" class=\"data row16 col2\" >0.087379</td>\n",
              "                        <td id=\"T_67d378fa_1fcb_11ec_baa6_0242ac1c0002row16_col3\" class=\"data row16 col3\" >1.867831</td>\n",
              "                        <td id=\"T_67d378fa_1fcb_11ec_baa6_0242ac1c0002row16_col4\" class=\"data row16 col4\" >1.475004</td>\n",
              "                        <td id=\"T_67d378fa_1fcb_11ec_baa6_0242ac1c0002row16_col5\" class=\"data row16 col5\" >1.394380</td>\n",
              "                        <td id=\"T_67d378fa_1fcb_11ec_baa6_0242ac1c0002row16_col6\" class=\"data row16 col6\" >0.187091</td>\n",
              "                        <td id=\"T_67d378fa_1fcb_11ec_baa6_0242ac1c0002row16_col7\" class=\"data row16 col7\" >1.297733</td>\n",
              "                        <td id=\"T_67d378fa_1fcb_11ec_baa6_0242ac1c0002row16_col8\" class=\"data row16 col8\" >2.847458</td>\n",
              "                        <td id=\"T_67d378fa_1fcb_11ec_baa6_0242ac1c0002row16_col9\" class=\"data row16 col9\" >4.097079</td>\n",
              "                        <td id=\"T_67d378fa_1fcb_11ec_baa6_0242ac1c0002row16_col10\" class=\"data row16 col10\" >1.157512</td>\n",
              "                        <td id=\"T_67d378fa_1fcb_11ec_baa6_0242ac1c0002row16_col11\" class=\"data row16 col11\" >1.523546</td>\n",
              "                        <td id=\"T_67d378fa_1fcb_11ec_baa6_0242ac1c0002row16_col12\" class=\"data row16 col12\" >1.530938</td>\n",
              "                        <td id=\"T_67d378fa_1fcb_11ec_baa6_0242ac1c0002row16_col13\" class=\"data row16 col13\" >0.426743</td>\n",
              "                        <td id=\"T_67d378fa_1fcb_11ec_baa6_0242ac1c0002row16_col14\" class=\"data row16 col14\" >0.583658</td>\n",
              "                        <td id=\"T_67d378fa_1fcb_11ec_baa6_0242ac1c0002row16_col15\" class=\"data row16 col15\" >0.283313</td>\n",
              "                        <td id=\"T_67d378fa_1fcb_11ec_baa6_0242ac1c0002row16_col16\" class=\"data row16 col16\" >0.000000</td>\n",
              "            </tr>\n",
              "    </tbody></table>"
            ],
            "text/plain": [
              "<pandas.io.formats.style.Styler at 0x7f2354f7b710>"
            ]
          },
          "metadata": {},
          "execution_count": 25
        }
      ]
    },
    {
      "cell_type": "markdown",
      "metadata": {
        "id": "dHIxGOotfoEZ"
      },
      "source": [
        "Now we can easily find some trends:\n",
        "*   53% events of 'business-events' are also 'education'\n",
        "*   97% events of 'cinema' are also 'entertainment'\n",
        "*   61% events of 'photos' are also 'exhibition'\n",
        "*   and so on.. "
      ]
    },
    {
      "cell_type": "markdown",
      "metadata": {
        "id": "pz1UDZ_uyIZP"
      },
      "source": [
        "# Third step: Associations rules learning analyzes"
      ]
    },
    {
      "cell_type": "markdown",
      "metadata": {
        "id": "CaJKeLX106Dn"
      },
      "source": [
        "ARL basics: one have a collection D = [d_{1}, d_{2}, ..., d_{n}], where d_{i} is a unique transaction-itemset. There are items inside of the each d_{i}, which are represented in binary view. Usually each d_{i} is described with non-zero values (k-itemset). As a result of ARL algorithm applying one can have a rules that represents information about corelation between different items."
      ]
    },
    {
      "cell_type": "markdown",
      "metadata": {
        "id": "_Uu_Ww2cgm8h"
      },
      "source": [
        "Install and prepare algorithms"
      ]
    },
    {
      "cell_type": "code",
      "metadata": {
        "id": "orh1guRHkPha"
      },
      "source": [
        "#using ECLAT algorithm \n",
        "import numpy as np\n",
        "\"\"\"\n",
        "Класс инициируется 3мя параметрами:\n",
        "- min_supp - минимальный support  который мы рассматриваем для ItemSet. Рассчитывается как % от количества транзакций\n",
        "- max_items - максимальное количество елементов в нашем ItemSet\n",
        "- min_items - минимальное количество элементов ItemSet\n",
        "\"\"\"\n",
        "class Eclat:\n",
        "    #инициализация объекта класса\n",
        "    def __init__(self, min_support = 0.01, max_items = 5, min_items = 2):\n",
        "        self.min_support = min_support\n",
        "        self.max_items = max_items\n",
        "        self.min_items = min_items\n",
        "        self.item_lst = list()\n",
        "        self.item_len = 0\n",
        "        self.item_dict = dict()\n",
        "        self.final_dict = dict()\n",
        "        self.data_size = 0\n",
        "    \n",
        "    #создание словаря из ненулевых объектов из всех транзакций (вертикальный датасет)\n",
        "    def read_data(self, dataset):\n",
        "        for index, row in dataset.iterrows():\n",
        "            #print('row = ', row[0])\n",
        "            row_wo_na = set(row[0])\n",
        "            #print('row = ', row_wo_na)\n",
        "            for item in row_wo_na:\n",
        "                #print('item =', item, 'item strip =', item.strip())\n",
        "                item = str(item)\n",
        "                item = item.strip()\n",
        "                #print(item)\n",
        "                if item in self.item_dict:\n",
        "                    self.item_dict[item][0] += 1\n",
        "                else:\n",
        "                    self.item_dict.setdefault(item, []).append(1)\n",
        "                self.item_dict[item].append(index)\n",
        "        #задаем переменные экземпляра (instance variables)\n",
        "        self.data_size = dataset.shape[0]\n",
        "        print('data size = ', self.data_size)\n",
        "        self.item_lst = list(self.item_dict.keys())\n",
        "        self.item_len = len(self.item_lst)\n",
        "        self.min_support = self.min_support * self.data_size\n",
        "        #print (\"min_supp\", self.min_support)\n",
        "        \n",
        "    #рекурсивный метод для поиска всех ItemSet по алгоритму Eclat\n",
        "    #структура данных: {Item: [Supp number, tid1, tid2, tid3, ...]}\n",
        "    def recur_eclat(self, item_name, tids_array, minsupp, num_items, k_start):\n",
        "        if tids_array[0] >= minsupp and num_items <= self.max_items:\n",
        "            for k in range(k_start+1, self.item_len):\n",
        "                if self.item_dict[self.item_lst[k]][0] >= minsupp:\n",
        "                    new_item = item_name + \" | \" + self.item_lst[k]\n",
        "                    new_tids = np.intersect1d(tids_array[1:], self.item_dict[self.item_lst[k]][1:])\n",
        "                    new_tids_size = new_tids.size\n",
        "                    new_tids = np.insert(new_tids, 0, new_tids_size)\n",
        "                    if new_tids_size >= minsupp:\n",
        "                        if num_items >= self.min_items: self.final_dict.update({new_item: new_tids})\n",
        "                        self.recur_eclat(new_item, new_tids, minsupp, num_items+1, k)\n",
        "    \n",
        "    #последовательный вызов функций определенных выше\n",
        "    def fit(self, dataset):\n",
        "        i = 0\n",
        "        self.read_data(dataset)\n",
        "        for w in self.item_lst:\n",
        "            self.recur_eclat(w, self.item_dict[w], self.min_support, 2, i)\n",
        "            if not i%100:\n",
        "              print(i,'/', len(self.item_lst))\n",
        "            i+=1\n",
        "        return self\n",
        "        \n",
        "    #вывод в форме словаря {ItemSet: support(ItemSet)}\n",
        "    def transform(self):\n",
        "        #return {k: \"{0:.4f}%\".format((v[0]+0.0)/self.data_size*100) for k, v in self.final_dict.items()}\n",
        "        return {k: \"{0:.4f}\".format((v[0]+0.0)/self.data_size) for k, v in self.final_dict.items()}\n",
        "      \n",
        "    def to_file(self, path_to_file):\n",
        "      np.save(path_to_file, self.final_dict)\n",
        "\n",
        "    #we use dataset to get other fields except final_dict\n",
        "    def from_file(self, path_to_file, dataset):\n",
        "      self.read_data(dataset)\n",
        "      self.final_dict = np.load(path_to_file, allow_pickle = True).item()\n",
        "\n"
      ],
      "execution_count": 26,
      "outputs": []
    },
    {
      "cell_type": "markdown",
      "metadata": {
        "id": "QTxvJI90gwgy"
      },
      "source": [
        "Data preparation"
      ]
    },
    {
      "cell_type": "code",
      "metadata": {
        "id": "87kIROyVd7aG"
      },
      "source": [
        "#define function to build tuples with label of category\\tag\n",
        "def isNaN(string):\n",
        "    return string != string\n",
        "\n",
        "def make_tuples(event_cats, key):\n",
        "  new_list = list()\n",
        "  if isNaN(event_cats):\n",
        "    return new_list\n",
        "  for cat in event_cats.split(','):\n",
        "    new_list.append((cat, key))\n",
        "  return new_list\n",
        "  #print(event_cats.split(','), key)\n"
      ],
      "execution_count": 27,
      "outputs": []
    },
    {
      "cell_type": "code",
      "metadata": {
        "colab": {
          "base_uri": "https://localhost:8080/"
        },
        "id": "ZYX0QM4zczEK",
        "outputId": "aea53f69-520d-4362-91a2-291bcf1cb23d"
      },
      "source": [
        "#tags and tags are items\n",
        "df['Category'] = df['Category'].apply(make_tuples, args = [1])\n",
        "df['Category']"
      ],
      "execution_count": 28,
      "outputs": [
        {
          "output_type": "stream",
          "name": "stderr",
          "text": [
            "/usr/local/lib/python3.7/dist-packages/ipykernel_launcher.py:2: SettingWithCopyWarning: \n",
            "A value is trying to be set on a copy of a slice from a DataFrame.\n",
            "Try using .loc[row_indexer,col_indexer] = value instead\n",
            "\n",
            "See the caveats in the documentation: https://pandas.pydata.org/pandas-docs/stable/user_guide/indexing.html#returning-a-view-versus-a-copy\n",
            "  \n"
          ]
        },
        {
          "output_type": "execute_result",
          "data": {
            "text/plain": [
              "0                             [(concert, 1)]\n",
              "1                               [(stock, 1)]\n",
              "2                             [(concert, 1)]\n",
              "3                             [(concert, 1)]\n",
              "4                             [(concert, 1)]\n",
              "                         ...                \n",
              "115695                     [(exhibition, 1)]\n",
              "115696                     [(exhibition, 1)]\n",
              "115697                     [(exhibition, 1)]\n",
              "115698    [(concert, 1), (entertainment, 1)]\n",
              "115699                     [(exhibition, 1)]\n",
              "Name: Category, Length: 165565, dtype: object"
            ]
          },
          "metadata": {},
          "execution_count": 28
        }
      ]
    },
    {
      "cell_type": "code",
      "metadata": {
        "colab": {
          "base_uri": "https://localhost:8080/"
        },
        "id": "oXUgG7inhcM0",
        "outputId": "fba0ac22-095a-41f3-9f51-6246f58e606b"
      },
      "source": [
        "df['Event tag'] = df['Event tag'].apply(make_tuples, args = [0])\n",
        "df['Event tag']"
      ],
      "execution_count": 29,
      "outputs": [
        {
          "output_type": "stream",
          "name": "stderr",
          "text": [
            "/usr/local/lib/python3.7/dist-packages/ipykernel_launcher.py:1: SettingWithCopyWarning: \n",
            "A value is trying to be set on a copy of a slice from a DataFrame.\n",
            "Try using .loc[row_indexer,col_indexer] = value instead\n",
            "\n",
            "See the caveats in the documentation: https://pandas.pydata.org/pandas-docs/stable/user_guide/indexing.html#returning-a-view-versus-a-copy\n",
            "  \"\"\"Entry point for launching an IPython kernel.\n"
          ]
        },
        {
          "output_type": "execute_result",
          "data": {
            "text/plain": [
              "0             [(рэп и хип-хоп, 0), (концерты, 0), (16+, 0)]\n",
              "1              [(лучшее, 0), (акции и скидки, 0), (16+, 0)]\n",
              "2         [(концерты, 0), (альтернатива, 0), (инди, 0), ...\n",
              "3                 [(концерты, 0), (авторская, 0), (18+, 0)]\n",
              "4         [(12+, 0), (романтичные места и события, 0), (...\n",
              "                                ...                        \n",
              "115695             [(выставки, 0), (история и личности, 0)]\n",
              "115696             [(выставки, 0), (история и личности, 0)]\n",
              "115697    [(выставки, 0), (архитектура и дизайн, 0), (12...\n",
              "115698    [(шоу, 0), (петросян, 0), (16+, 0), (концерты,...\n",
              "115699             [(выставки, 0), (история и личности, 0)]\n",
              "Name: Event tag, Length: 165565, dtype: object"
            ]
          },
          "metadata": {},
          "execution_count": 29
        }
      ]
    },
    {
      "cell_type": "code",
      "metadata": {
        "colab": {
          "base_uri": "https://localhost:8080/"
        },
        "id": "g2Yl5dv6hrVI",
        "outputId": "c6df552c-fe68-48f5-9d17-3260de3feb80"
      },
      "source": [
        "df['item'] = df.apply(lambda r: r['Category'] + r['Event tag'], axis=1)"
      ],
      "execution_count": 30,
      "outputs": [
        {
          "output_type": "stream",
          "name": "stderr",
          "text": [
            "/usr/local/lib/python3.7/dist-packages/ipykernel_launcher.py:1: SettingWithCopyWarning: \n",
            "A value is trying to be set on a copy of a slice from a DataFrame.\n",
            "Try using .loc[row_indexer,col_indexer] = value instead\n",
            "\n",
            "See the caveats in the documentation: https://pandas.pydata.org/pandas-docs/stable/user_guide/indexing.html#returning-a-view-versus-a-copy\n",
            "  \"\"\"Entry point for launching an IPython kernel.\n"
          ]
        }
      ]
    },
    {
      "cell_type": "markdown",
      "metadata": {
        "id": "h60dOLp2g0iv"
      },
      "source": [
        "Tags and categories analysis"
      ]
    },
    {
      "cell_type": "code",
      "metadata": {
        "colab": {
          "base_uri": "https://localhost:8080/",
          "height": 416
        },
        "id": "SzS32wwpihXz",
        "outputId": "745e747a-4be7-4173-d5c9-68de825bd26d"
      },
      "source": [
        "df_tags_and_cats = df.drop(df.columns[[0, 1]], axis=1)\n",
        "df_tags_and_cats"
      ],
      "execution_count": 31,
      "outputs": [
        {
          "output_type": "execute_result",
          "data": {
            "text/html": [
              "<div>\n",
              "<style scoped>\n",
              "    .dataframe tbody tr th:only-of-type {\n",
              "        vertical-align: middle;\n",
              "    }\n",
              "\n",
              "    .dataframe tbody tr th {\n",
              "        vertical-align: top;\n",
              "    }\n",
              "\n",
              "    .dataframe thead th {\n",
              "        text-align: right;\n",
              "    }\n",
              "</style>\n",
              "<table border=\"1\" class=\"dataframe\">\n",
              "  <thead>\n",
              "    <tr style=\"text-align: right;\">\n",
              "      <th></th>\n",
              "      <th>item</th>\n",
              "    </tr>\n",
              "  </thead>\n",
              "  <tbody>\n",
              "    <tr>\n",
              "      <th>0</th>\n",
              "      <td>[(concert, 1), (рэп и хип-хоп, 0), (концерты, ...</td>\n",
              "    </tr>\n",
              "    <tr>\n",
              "      <th>1</th>\n",
              "      <td>[(stock, 1), (лучшее, 0), (акции и скидки, 0),...</td>\n",
              "    </tr>\n",
              "    <tr>\n",
              "      <th>2</th>\n",
              "      <td>[(concert, 1), (концерты, 0), (альтернатива, 0...</td>\n",
              "    </tr>\n",
              "    <tr>\n",
              "      <th>3</th>\n",
              "      <td>[(concert, 1), (концерты, 0), (авторская, 0), ...</td>\n",
              "    </tr>\n",
              "    <tr>\n",
              "      <th>4</th>\n",
              "      <td>[(concert, 1), (12+, 0), (романтичные места и ...</td>\n",
              "    </tr>\n",
              "    <tr>\n",
              "      <th>...</th>\n",
              "      <td>...</td>\n",
              "    </tr>\n",
              "    <tr>\n",
              "      <th>115695</th>\n",
              "      <td>[(exhibition, 1), (выставки, 0), (история и ли...</td>\n",
              "    </tr>\n",
              "    <tr>\n",
              "      <th>115696</th>\n",
              "      <td>[(exhibition, 1), (выставки, 0), (история и ли...</td>\n",
              "    </tr>\n",
              "    <tr>\n",
              "      <th>115697</th>\n",
              "      <td>[(exhibition, 1), (выставки, 0), (архитектура ...</td>\n",
              "    </tr>\n",
              "    <tr>\n",
              "      <th>115698</th>\n",
              "      <td>[(concert, 1), (entertainment, 1), (шоу, 0), (...</td>\n",
              "    </tr>\n",
              "    <tr>\n",
              "      <th>115699</th>\n",
              "      <td>[(exhibition, 1), (выставки, 0), (история и ли...</td>\n",
              "    </tr>\n",
              "  </tbody>\n",
              "</table>\n",
              "<p>165565 rows × 1 columns</p>\n",
              "</div>"
            ],
            "text/plain": [
              "                                                     item\n",
              "0       [(concert, 1), (рэп и хип-хоп, 0), (концерты, ...\n",
              "1       [(stock, 1), (лучшее, 0), (акции и скидки, 0),...\n",
              "2       [(concert, 1), (концерты, 0), (альтернатива, 0...\n",
              "3       [(concert, 1), (концерты, 0), (авторская, 0), ...\n",
              "4       [(concert, 1), (12+, 0), (романтичные места и ...\n",
              "...                                                   ...\n",
              "115695  [(exhibition, 1), (выставки, 0), (история и ли...\n",
              "115696  [(exhibition, 1), (выставки, 0), (история и ли...\n",
              "115697  [(exhibition, 1), (выставки, 0), (архитектура ...\n",
              "115698  [(concert, 1), (entertainment, 1), (шоу, 0), (...\n",
              "115699  [(exhibition, 1), (выставки, 0), (история и ли...\n",
              "\n",
              "[165565 rows x 1 columns]"
            ]
          },
          "metadata": {},
          "execution_count": 31
        }
      ]
    },
    {
      "cell_type": "code",
      "metadata": {
        "id": "tigs_ZU4kfwo"
      },
      "source": [
        "model = Eclat(min_support = 0.05, max_items = 3, min_items = 2)"
      ],
      "execution_count": 32,
      "outputs": []
    },
    {
      "cell_type": "code",
      "metadata": {
        "colab": {
          "base_uri": "https://localhost:8080/"
        },
        "id": "-_6T5XvNklmq",
        "outputId": "fffaea5f-ef51-4701-e6a8-6a10e7b71b4b"
      },
      "source": [
        "#~1 mins to calculate\n",
        "model.fit(df_tags_and_cats)"
      ],
      "execution_count": 33,
      "outputs": [
        {
          "output_type": "stream",
          "name": "stdout",
          "text": [
            "data size =  165565\n",
            "0 / 1304\n",
            "100 / 1304\n",
            "200 / 1304\n",
            "300 / 1304\n",
            "400 / 1304\n",
            "500 / 1304\n",
            "600 / 1304\n",
            "700 / 1304\n",
            "800 / 1304\n",
            "900 / 1304\n",
            "1000 / 1304\n",
            "1100 / 1304\n",
            "1200 / 1304\n",
            "1300 / 1304\n"
          ]
        },
        {
          "output_type": "execute_result",
          "data": {
            "text/plain": [
              "<__main__.Eclat at 0x7f234745f0d0>"
            ]
          },
          "metadata": {},
          "execution_count": 33
        }
      ]
    },
    {
      "cell_type": "code",
      "metadata": {
        "colab": {
          "base_uri": "https://localhost:8080/"
        },
        "id": "gK874VtIlp_c",
        "outputId": "48ec2175-0517-4e5d-e959-d740b7b48ff1"
      },
      "source": [
        "res = model.transform()\n",
        "sorted_res = sorted(res.items(), key = lambda x: x[1], reverse=True)\n",
        "sorted_res"
      ],
      "execution_count": 34,
      "outputs": [
        {
          "output_type": "execute_result",
          "data": {
            "text/plain": [
              "[(\"('concert', 1) | ('концерты', 0)\", '0.3474'),\n",
              " (\"('concert', 1) | ('концерты', 0) | ('18+', 0)\", '0.1219'),\n",
              " (\"('concert', 1) | ('18+', 0)\", '0.1219'),\n",
              " (\"('концерты', 0) | ('18+', 0)\", '0.1219'),\n",
              " (\"('спектакли', 0) | ('theater', 1)\", '0.1199'),\n",
              " (\"('обучение', 0) | ('education', 1)\", '0.1147'),\n",
              " (\"('спектакли', 0) | ('theater', 1) | ('лучшее в театрах', 0)\", '0.1111'),\n",
              " (\"('спектакли', 0) | ('лучшее в театрах', 0)\", '0.1111'),\n",
              " (\"('theater', 1) | ('лучшее в театрах', 0)\", '0.1111'),\n",
              " (\"('развлечения', 0) | ('entertainment', 1)\", '0.1091'),\n",
              " (\"('exhibition', 1) | ('выставки', 0)\", '0.1085'),\n",
              " (\"('concert', 1) | ('концерты', 0) | ('классическая', 0)\", '0.1022'),\n",
              " (\"('concert', 1) | ('классическая', 0)\", '0.1022'),\n",
              " (\"('концерты', 0) | ('классическая', 0)\", '0.1022'),\n",
              " (\"('concert', 1) | ('концерты', 0) | ('6+', 0)\", '0.0953'),\n",
              " (\"('concert', 1) | ('6+', 0)\", '0.0953'),\n",
              " (\"('концерты', 0) | ('6+', 0)\", '0.0953'),\n",
              " (\"('concert', 1) | ('концерты', 0) | ('рок и рок-н-ролл', 0)\", '0.0950'),\n",
              " (\"('concert', 1) | ('рок и рок-н-ролл', 0)\", '0.0950'),\n",
              " (\"('концерты', 0) | ('рок и рок-н-ролл', 0)\", '0.0950'),\n",
              " (\"('concert', 1) | ('концерты', 0) | ('16+', 0)\", '0.0897'),\n",
              " (\"('concert', 1) | ('16+', 0)\", '0.0897'),\n",
              " (\"('концерты', 0) | ('16+', 0)\", '0.0897'),\n",
              " (\"('concert', 1) | ('концерты', 0) | ('12+', 0)\", '0.0873'),\n",
              " (\"('concert', 1) | ('12+', 0)\", '0.0873'),\n",
              " (\"('концерты', 0) | ('12+', 0)\", '0.0873'),\n",
              " (\"('festival', 1) | ('фестивали', 0)\", '0.0782'),\n",
              " (\"('лучшее', 0) | ('обучение', 0)\", '0.0719'),\n",
              " (\"('лучшее', 0) | ('обучение', 0) | ('education', 1)\", '0.0719'),\n",
              " (\"('лучшее', 0) | ('education', 1)\", '0.0719'),\n",
              " (\"('детям', 0) | ('kids', 1)\", '0.0714'),\n",
              " (\"('акции и скидки', 0) | ('stock', 1)\", '0.0661'),\n",
              " (\"('классическая', 0) | ('6+', 0)\", '0.0622'),\n",
              " (\"('concert', 1) | ('классическая', 0) | ('6+', 0)\", '0.0620'),\n",
              " (\"('концерты', 0) | ('классическая', 0) | ('6+', 0)\", '0.0620'),\n",
              " (\"('concert', 1) | ('концерты', 0) | ('поп-музыка', 0)\", '0.0587'),\n",
              " (\"('concert', 1) | ('поп-музыка', 0)\", '0.0587'),\n",
              " (\"('концерты', 0) | ('поп-музыка', 0)\", '0.0587'),\n",
              " (\"('concert', 1) | ('концерты', 0) | ('джаз и блюз', 0)\", '0.0572'),\n",
              " (\"('concert', 1) | ('джаз и блюз', 0)\", '0.0572'),\n",
              " (\"('концерты', 0) | ('джаз и блюз', 0)\", '0.0572'),\n",
              " (\"('concert', 1) | ('концерты', 0) | ('free', 0)\", '0.0537'),\n",
              " (\"('concert', 1) | ('free', 0)\", '0.0537'),\n",
              " (\"('концерты', 0) | ('free', 0)\", '0.0537'),\n",
              " (\"('party', 1) | ('вечеринки', 0)\", '0.0527'),\n",
              " (\"('18+', 0) | ('рок и рок-н-ролл', 0)\", '0.0525'),\n",
              " (\"('concert', 1) | ('18+', 0) | ('рок и рок-н-ролл', 0)\", '0.0516'),\n",
              " (\"('концерты', 0) | ('18+', 0) | ('рок и рок-н-ролл', 0)\", '0.0516')]"
            ]
          },
          "metadata": {},
          "execution_count": 34
        }
      ]
    },
    {
      "cell_type": "markdown",
      "metadata": {
        "id": "c-qsxshveihj"
      },
      "source": [
        "Analysis for categories separately"
      ]
    },
    {
      "cell_type": "code",
      "metadata": {
        "colab": {
          "base_uri": "https://localhost:8080/",
          "height": 416
        },
        "id": "xXTL6sSUeiGl",
        "outputId": "eb44e8bf-bf4f-4b39-940a-e8fb702ddc7b"
      },
      "source": [
        "df_only_cats = df.drop(df.columns[[1, 2]], axis=1)\n",
        "df_only_cats"
      ],
      "execution_count": 35,
      "outputs": [
        {
          "output_type": "execute_result",
          "data": {
            "text/html": [
              "<div>\n",
              "<style scoped>\n",
              "    .dataframe tbody tr th:only-of-type {\n",
              "        vertical-align: middle;\n",
              "    }\n",
              "\n",
              "    .dataframe tbody tr th {\n",
              "        vertical-align: top;\n",
              "    }\n",
              "\n",
              "    .dataframe thead th {\n",
              "        text-align: right;\n",
              "    }\n",
              "</style>\n",
              "<table border=\"1\" class=\"dataframe\">\n",
              "  <thead>\n",
              "    <tr style=\"text-align: right;\">\n",
              "      <th></th>\n",
              "      <th>Category</th>\n",
              "    </tr>\n",
              "  </thead>\n",
              "  <tbody>\n",
              "    <tr>\n",
              "      <th>0</th>\n",
              "      <td>[(concert, 1)]</td>\n",
              "    </tr>\n",
              "    <tr>\n",
              "      <th>1</th>\n",
              "      <td>[(stock, 1)]</td>\n",
              "    </tr>\n",
              "    <tr>\n",
              "      <th>2</th>\n",
              "      <td>[(concert, 1)]</td>\n",
              "    </tr>\n",
              "    <tr>\n",
              "      <th>3</th>\n",
              "      <td>[(concert, 1)]</td>\n",
              "    </tr>\n",
              "    <tr>\n",
              "      <th>4</th>\n",
              "      <td>[(concert, 1)]</td>\n",
              "    </tr>\n",
              "    <tr>\n",
              "      <th>...</th>\n",
              "      <td>...</td>\n",
              "    </tr>\n",
              "    <tr>\n",
              "      <th>115695</th>\n",
              "      <td>[(exhibition, 1)]</td>\n",
              "    </tr>\n",
              "    <tr>\n",
              "      <th>115696</th>\n",
              "      <td>[(exhibition, 1)]</td>\n",
              "    </tr>\n",
              "    <tr>\n",
              "      <th>115697</th>\n",
              "      <td>[(exhibition, 1)]</td>\n",
              "    </tr>\n",
              "    <tr>\n",
              "      <th>115698</th>\n",
              "      <td>[(concert, 1), (entertainment, 1)]</td>\n",
              "    </tr>\n",
              "    <tr>\n",
              "      <th>115699</th>\n",
              "      <td>[(exhibition, 1)]</td>\n",
              "    </tr>\n",
              "  </tbody>\n",
              "</table>\n",
              "<p>165565 rows × 1 columns</p>\n",
              "</div>"
            ],
            "text/plain": [
              "                                  Category\n",
              "0                           [(concert, 1)]\n",
              "1                             [(stock, 1)]\n",
              "2                           [(concert, 1)]\n",
              "3                           [(concert, 1)]\n",
              "4                           [(concert, 1)]\n",
              "...                                    ...\n",
              "115695                   [(exhibition, 1)]\n",
              "115696                   [(exhibition, 1)]\n",
              "115697                   [(exhibition, 1)]\n",
              "115698  [(concert, 1), (entertainment, 1)]\n",
              "115699                   [(exhibition, 1)]\n",
              "\n",
              "[165565 rows x 1 columns]"
            ]
          },
          "metadata": {},
          "execution_count": 35
        }
      ]
    },
    {
      "cell_type": "code",
      "metadata": {
        "colab": {
          "base_uri": "https://localhost:8080/"
        },
        "id": "aY6Mb_MAfBFG",
        "outputId": "a4ba5bf4-d152-4046-bfe4-004ddf50d902"
      },
      "source": [
        "model_cats = Eclat(min_support = 0.01, max_items = 3, min_items = 2)\n",
        "model_cats.fit(df_only_cats)"
      ],
      "execution_count": 36,
      "outputs": [
        {
          "output_type": "stream",
          "name": "stdout",
          "text": [
            "data size =  165565\n",
            "0 / 21\n"
          ]
        },
        {
          "output_type": "execute_result",
          "data": {
            "text/plain": [
              "<__main__.Eclat at 0x7f2346a47a50>"
            ]
          },
          "metadata": {},
          "execution_count": 36
        }
      ]
    },
    {
      "cell_type": "code",
      "metadata": {
        "colab": {
          "base_uri": "https://localhost:8080/"
        },
        "id": "CHxKw9KYfXyF",
        "outputId": "01b706a4-7908-441c-8455-9b56a18ca99a"
      },
      "source": [
        "res_cats = model_cats.transform()\n",
        "sorted_res_cats = sorted(res_cats.items(), key = lambda x: x[1], reverse=True)\n",
        "sorted_res_cats"
      ],
      "execution_count": 37,
      "outputs": [
        {
          "output_type": "execute_result",
          "data": {
            "text/plain": [
              "[(\"('concert', 1) | ('theater', 1)\", '0.0378'),\n",
              " (\"('concert', 1) | ('entertainment', 1)\", '0.0364'),\n",
              " (\"('cinema', 1) | ('entertainment', 1)\", '0.0337'),\n",
              " (\"('concert', 1) | ('festival', 1)\", '0.0325'),\n",
              " (\"('concert', 1) | ('education', 1)\", '0.0313'),\n",
              " (\"('theater', 1) | ('kids', 1)\", '0.0295'),\n",
              " (\"('concert', 1) | ('exhibition', 1)\", '0.0269'),\n",
              " (\"('entertainment', 1) | ('festival', 1)\", '0.0233'),\n",
              " (\"('concert', 1) | ('kids', 1)\", '0.0222'),\n",
              " (\"('concert', 1) | ('stock', 1)\", '0.0213'),\n",
              " (\"('education', 1) | ('entertainment', 1)\", '0.0202'),\n",
              " (\"('theater', 1) | ('entertainment', 1)\", '0.0192'),\n",
              " (\"('concert', 1) | ('party', 1)\", '0.0183'),\n",
              " (\"('entertainment', 1) | ('kids', 1)\", '0.0179'),\n",
              " (\"('education', 1) | ('kids', 1)\", '0.0177'),\n",
              " (\"('entertainment', 1) | ('yarmarki-razvlecheniya-yarmarki', 1)\", '0.0161'),\n",
              " (\"('entertainment', 1) | ('exhibition', 1)\", '0.0147'),\n",
              " (\"('education', 1) | ('festival', 1)\", '0.0144'),\n",
              " (\"('theater', 1) | ('festival', 1)\", '0.0136'),\n",
              " (\"('kids', 1) | ('festival', 1)\", '0.0136'),\n",
              " (\"('theater', 1) | ('education', 1)\", '0.0130'),\n",
              " (\"('education', 1) | ('exhibition', 1)\", '0.0125'),\n",
              " (\"('theater', 1) | ('exhibition', 1)\", '0.0121'),\n",
              " (\"('stock', 1) | ('entertainment', 1)\", '0.0118'),\n",
              " (\"('exhibition', 1) | ('festival', 1)\", '0.0111'),\n",
              " (\"('entertainment', 1) | ('party', 1)\", '0.0107'),\n",
              " (\"('exhibition', 1) | ('kids', 1)\", '0.0104')]"
            ]
          },
          "metadata": {},
          "execution_count": 37
        }
      ]
    },
    {
      "cell_type": "markdown",
      "metadata": {
        "id": "9EpUjsm0fuFy"
      },
      "source": [
        "Analysis for tags separately"
      ]
    },
    {
      "cell_type": "code",
      "metadata": {
        "colab": {
          "base_uri": "https://localhost:8080/",
          "height": 416
        },
        "id": "TfXKTDiHgEpQ",
        "outputId": "91155f7e-861b-4795-dd46-ba0d3f43a2fb"
      },
      "source": [
        "df_only_tags = df.drop(df.columns[[0, 2]], axis=1)\n",
        "df_only_tags"
      ],
      "execution_count": 38,
      "outputs": [
        {
          "output_type": "execute_result",
          "data": {
            "text/html": [
              "<div>\n",
              "<style scoped>\n",
              "    .dataframe tbody tr th:only-of-type {\n",
              "        vertical-align: middle;\n",
              "    }\n",
              "\n",
              "    .dataframe tbody tr th {\n",
              "        vertical-align: top;\n",
              "    }\n",
              "\n",
              "    .dataframe thead th {\n",
              "        text-align: right;\n",
              "    }\n",
              "</style>\n",
              "<table border=\"1\" class=\"dataframe\">\n",
              "  <thead>\n",
              "    <tr style=\"text-align: right;\">\n",
              "      <th></th>\n",
              "      <th>Event tag</th>\n",
              "    </tr>\n",
              "  </thead>\n",
              "  <tbody>\n",
              "    <tr>\n",
              "      <th>0</th>\n",
              "      <td>[(рэп и хип-хоп, 0), (концерты, 0), (16+, 0)]</td>\n",
              "    </tr>\n",
              "    <tr>\n",
              "      <th>1</th>\n",
              "      <td>[(лучшее, 0), (акции и скидки, 0), (16+, 0)]</td>\n",
              "    </tr>\n",
              "    <tr>\n",
              "      <th>2</th>\n",
              "      <td>[(концерты, 0), (альтернатива, 0), (инди, 0), ...</td>\n",
              "    </tr>\n",
              "    <tr>\n",
              "      <th>3</th>\n",
              "      <td>[(концерты, 0), (авторская, 0), (18+, 0)]</td>\n",
              "    </tr>\n",
              "    <tr>\n",
              "      <th>4</th>\n",
              "      <td>[(12+, 0), (романтичные места и события, 0), (...</td>\n",
              "    </tr>\n",
              "    <tr>\n",
              "      <th>...</th>\n",
              "      <td>...</td>\n",
              "    </tr>\n",
              "    <tr>\n",
              "      <th>115695</th>\n",
              "      <td>[(выставки, 0), (история и личности, 0)]</td>\n",
              "    </tr>\n",
              "    <tr>\n",
              "      <th>115696</th>\n",
              "      <td>[(выставки, 0), (история и личности, 0)]</td>\n",
              "    </tr>\n",
              "    <tr>\n",
              "      <th>115697</th>\n",
              "      <td>[(выставки, 0), (архитектура и дизайн, 0), (12...</td>\n",
              "    </tr>\n",
              "    <tr>\n",
              "      <th>115698</th>\n",
              "      <td>[(шоу, 0), (петросян, 0), (16+, 0), (концерты,...</td>\n",
              "    </tr>\n",
              "    <tr>\n",
              "      <th>115699</th>\n",
              "      <td>[(выставки, 0), (история и личности, 0)]</td>\n",
              "    </tr>\n",
              "  </tbody>\n",
              "</table>\n",
              "<p>165565 rows × 1 columns</p>\n",
              "</div>"
            ],
            "text/plain": [
              "                                                Event tag\n",
              "0           [(рэп и хип-хоп, 0), (концерты, 0), (16+, 0)]\n",
              "1            [(лучшее, 0), (акции и скидки, 0), (16+, 0)]\n",
              "2       [(концерты, 0), (альтернатива, 0), (инди, 0), ...\n",
              "3               [(концерты, 0), (авторская, 0), (18+, 0)]\n",
              "4       [(12+, 0), (романтичные места и события, 0), (...\n",
              "...                                                   ...\n",
              "115695           [(выставки, 0), (история и личности, 0)]\n",
              "115696           [(выставки, 0), (история и личности, 0)]\n",
              "115697  [(выставки, 0), (архитектура и дизайн, 0), (12...\n",
              "115698  [(шоу, 0), (петросян, 0), (16+, 0), (концерты,...\n",
              "115699           [(выставки, 0), (история и личности, 0)]\n",
              "\n",
              "[165565 rows x 1 columns]"
            ]
          },
          "metadata": {},
          "execution_count": 38
        }
      ]
    },
    {
      "cell_type": "code",
      "metadata": {
        "colab": {
          "base_uri": "https://localhost:8080/"
        },
        "id": "iyPkeFjufwGo",
        "outputId": "b156556c-d8ae-4b6f-fd58-ae86f39351d7"
      },
      "source": [
        "model_tags = Eclat(min_support = 0.01, max_items = 3, min_items = 2)\n",
        "model_tags.fit(df_only_tags)"
      ],
      "execution_count": 39,
      "outputs": [
        {
          "output_type": "stream",
          "name": "stdout",
          "text": [
            "data size =  165565\n",
            "0 / 1283\n",
            "100 / 1283\n",
            "200 / 1283\n",
            "300 / 1283\n",
            "400 / 1283\n",
            "500 / 1283\n",
            "600 / 1283\n",
            "700 / 1283\n",
            "800 / 1283\n",
            "900 / 1283\n",
            "1000 / 1283\n",
            "1100 / 1283\n",
            "1200 / 1283\n"
          ]
        },
        {
          "output_type": "execute_result",
          "data": {
            "text/plain": [
              "<__main__.Eclat at 0x7f2347bede10>"
            ]
          },
          "metadata": {},
          "execution_count": 39
        }
      ]
    },
    {
      "cell_type": "code",
      "metadata": {
        "colab": {
          "base_uri": "https://localhost:8080/"
        },
        "id": "KYIKMaCbf6-7",
        "outputId": "d1742730-5e6f-484f-c750-597e6aed5eaa"
      },
      "source": [
        "res_tags = model_tags.transform()\n",
        "sorted_res_tags = sorted(res_tags.items(), key = lambda x: x[1], reverse=True)\n",
        "sorted_res_tags"
      ],
      "execution_count": 40,
      "outputs": [
        {
          "output_type": "execute_result",
          "data": {
            "text/plain": [
              "[(\"('концерты', 0) | ('18+', 0)\", '0.1219'),\n",
              " (\"('спектакли', 0) | ('лучшее в театрах', 0)\", '0.1111'),\n",
              " (\"('концерты', 0) | ('классическая', 0)\", '0.1022'),\n",
              " (\"('концерты', 0) | ('6+', 0)\", '0.0953'),\n",
              " (\"('концерты', 0) | ('рок и рок-н-ролл', 0)\", '0.0950'),\n",
              " (\"('концерты', 0) | ('16+', 0)\", '0.0897'),\n",
              " (\"('концерты', 0) | ('12+', 0)\", '0.0873'),\n",
              " (\"('лучшее', 0) | ('обучение', 0)\", '0.0719'),\n",
              " (\"('классическая', 0) | ('6+', 0)\", '0.0622'),\n",
              " (\"('концерты', 0) | ('классическая', 0) | ('6+', 0)\", '0.0620'),\n",
              " (\"('концерты', 0) | ('поп-музыка', 0)\", '0.0587'),\n",
              " (\"('концерты', 0) | ('джаз и блюз', 0)\", '0.0572'),\n",
              " (\"('концерты', 0) | ('free', 0)\", '0.0537'),\n",
              " (\"('18+', 0) | ('рок и рок-н-ролл', 0)\", '0.0525'),\n",
              " (\"('концерты', 0) | ('18+', 0) | ('рок и рок-н-ролл', 0)\", '0.0516'),\n",
              " (\"('16+', 0) | ('спектакли', 0)\", '0.0435'),\n",
              " (\"('обучение', 0) | ('free', 0)\", '0.0421'),\n",
              " (\"('16+', 0) | ('лучшее в театрах', 0)\", '0.0420'),\n",
              " (\"('18+', 0) | ('free', 0)\", '0.0414'),\n",
              " (\"('16+', 0) | ('спектакли', 0) | ('лучшее в театрах', 0)\", '0.0395'),\n",
              " (\"('выставки', 0) | ('free', 0)\", '0.0389'),\n",
              " (\"('концерты', 0) | ('лучшее в театрах', 0)\", '0.0382'),\n",
              " (\"('16+', 0) | ('рок и рок-н-ролл', 0)\", '0.0380'),\n",
              " (\"('концерты', 0) | ('16+', 0) | ('рок и рок-н-ролл', 0)\", '0.0378'),\n",
              " (\"('концерты', 0) | ('спектакли', 0)\", '0.0378'),\n",
              " (\"('развлечения', 0) | ('free', 0)\", '0.0377'),\n",
              " (\"('18+', 0) | ('вечеринки', 0)\", '0.0373'),\n",
              " (\"('12+', 0) | ('спектакли', 0)\", '0.0367'),\n",
              " (\"(' графика', 0) | ('картины', 0)\", '0.0366'),\n",
              " (\"(' графика', 0) | ('картины', 0) | (' живопись', 0)\", '0.0366'),\n",
              " (\"(' графика', 0) | (' живопись', 0)\", '0.0366'),\n",
              " (\"('картины', 0) | (' живопись', 0)\", '0.0366'),\n",
              " (\"('концерты', 0) | ('развлечения', 0)\", '0.0365'),\n",
              " (\"(' графика', 0) | ('выставки', 0)\", '0.0364'),\n",
              " (\"(' графика', 0) | ('выставки', 0) | ('картины', 0)\", '0.0364'),\n",
              " (\"(' графика', 0) | ('выставки', 0) | (' живопись', 0)\", '0.0364'),\n",
              " (\"('выставки', 0) | ('картины', 0)\", '0.0364'),\n",
              " (\"('выставки', 0) | ('картины', 0) | (' живопись', 0)\", '0.0364'),\n",
              " (\"('выставки', 0) | (' живопись', 0)\", '0.0364'),\n",
              " (\"('классическая', 0) | ('12+', 0)\", '0.0362'),\n",
              " (\"('12+', 0) | ('лучшее в театрах', 0)\", '0.0362'),\n",
              " (\"('концерты', 0) | ('классическая', 0) | ('12+', 0)\", '0.0361'),\n",
              " (\"('free', 0) | ('фестивали', 0)\", '0.0352'),\n",
              " (\"('развлечения', 0) | ('кино (развлечения)', 0)\", '0.0337'),\n",
              " (\"('12+', 0) | ('спектакли', 0) | ('лучшее в театрах', 0)\", '0.0335'),\n",
              " (\"('18+', 0) | ('развлечения', 0)\", '0.0331'),\n",
              " (\"('концерты', 0) | ('спектакли', 0) | ('лучшее в театрах', 0)\", '0.0329'),\n",
              " (\"('городские', 0) | ('фестивали', 0)\", '0.0329'),\n",
              " (\"('концерты', 0) | ('фестивали', 0)\", '0.0325'),\n",
              " (\"('концерты', 0) | ('обучение', 0)\", '0.0314'),\n",
              " (\"('акции и скидки', 0) | ('18+', 0)\", '0.0310'),\n",
              " (\"('лучшее в театрах', 0) | ('детям', 0)\", '0.0309'),\n",
              " (\"('16+', 0) | ('free', 0)\", '0.0307'),\n",
              " (\"('лучшее в театрах', 0) | ('6+', 0)\", '0.0299'),\n",
              " (\"('18+', 0) | ('обучение', 0)\", '0.0298'),\n",
              " (\"('18+', 0) | ('джаз и блюз', 0)\", '0.0298'),\n",
              " (\"('спектакли', 0) | ('6+', 0)\", '0.0298'),\n",
              " (\"('спектакли', 0) | ('детям', 0)\", '0.0297'),\n",
              " (\"('6+', 0) | ('детям', 0)\", '0.0297'),\n",
              " (\"('18+', 0) | ('лучшее в театрах', 0)\", '0.0296'),\n",
              " (\"('концерты', 0) | ('18+', 0) | ('джаз и блюз', 0)\", '0.0295'),\n",
              " (\"('18+', 0) | ('спектакли', 0)\", '0.0295'),\n",
              " (\"('концерты', 0) | ('этническая и фолк', 0)\", '0.0294'),\n",
              " (\"('16+', 0) | ('обучение', 0)\", '0.0292'),\n",
              " (\"('6+', 0) | ('free', 0)\", '0.0286'),\n",
              " (\"('12+', 0) | ('free', 0)\", '0.0285'),\n",
              " (\"('драматические постановки', 0) | ('спектакли', 0)\", '0.0284'),\n",
              " (\"('спектакли', 0) | ('лучшее в театрах', 0) | ('детям', 0)\", '0.0280'),\n",
              " (\"('спектакли', 0) | ('лучшее в театрах', 0) | ('6+', 0)\", '0.0270'),\n",
              " (\"('концерты', 0) | ('выставки', 0)\", '0.0269'),\n",
              " (\"('лучшее в театрах', 0) | ('развлечения', 0)\", '0.0266'),\n",
              " (\"('16+', 0) | ('развлечения', 0)\", '0.0264'),\n",
              " (\"('16+', 0) | ('18+', 0)\", '0.0261'),\n",
              " (\"('18+', 0) | ('спектакли', 0) | ('лучшее в театрах', 0)\", '0.0255'),\n",
              " (\"('лучшее', 0) | ('free', 0)\", '0.0251'),\n",
              " (\"('12+', 0) | ('обучение', 0)\", '0.0251'),\n",
              " (\"('лучшее', 0) | ('обучение', 0) | ('free', 0)\", '0.0244'),\n",
              " (\"('драматические постановки', 0) | ('спектакли', 0) | ('лучшее в театрах', 0)\",\n",
              "  '0.0240'),\n",
              " (\"('драматические постановки', 0) | ('лучшее в театрах', 0)\", '0.0240'),\n",
              " (\"('12+', 0) | ('развлечения', 0)\", '0.0239'),\n",
              " (\"('концерты', 0) | ('детям', 0)\", '0.0236'),\n",
              " (\"('18+', 0) | ('фестивали', 0)\", '0.0234'),\n",
              " (\"('развлечения', 0) | ('фестивали', 0)\", '0.0233'),\n",
              " (\"('18+', 0) | ('6+', 0)\", '0.0231'),\n",
              " (\"('18+', 0) | ('12+', 0)\", '0.0227'),\n",
              " (\"('концерты', 0) | ('18+', 0) | ('free', 0)\", '0.0222'),\n",
              " (\"('концерты', 0) | ('электронная музыка', 0)\", '0.0221'),\n",
              " (\"('free', 0) | ('городские', 0)\", '0.0220'),\n",
              " (\"('6+', 0) | ('развлечения', 0)\", '0.0214'),\n",
              " (\"('концерты', 0) | ('акции и скидки', 0)\", '0.0213'),\n",
              " (\"('free', 0) | ('городские', 0) | ('фестивали', 0)\", '0.0210'),\n",
              " (\"('обучение', 0) | ('6+', 0)\", '0.0207'),\n",
              " (\"('6+', 0) | ('выставки', 0)\", '0.0206'),\n",
              " (\"('18+', 0) | ('поп-музыка', 0)\", '0.0205'),\n",
              " (\"('детям', 0) | ('free', 0)\", '0.0205'),\n",
              " (\"('16+', 0) | ('6+', 0)\", '0.0203'),\n",
              " (\"('лучшее', 0) | ('18+', 0)\", '0.0203'),\n",
              " (\"('обучение', 0) | ('развлечения', 0)\", '0.0202'),\n",
              " (\"('концерты', 0) | ('инди', 0)\", '0.0200'),\n",
              " (\"('концерты', 0) | ('новое на сайте', 0)\", '0.0199'),\n",
              " (\"('выставки', 0) | ('современное искусство', 0)\", '0.0199'),\n",
              " (\"('концерты', 0) | ('18+', 0) | ('поп-музыка', 0)\", '0.0198'),\n",
              " (\"('концерты', 0) | ('рэп и хип-хоп', 0)\", '0.0196'),\n",
              " (\"('лучшее в театрах', 0) | ('free', 0)\", '0.0195'),\n",
              " (\"('спектакли', 0) | ('free', 0)\", '0.0194'),\n",
              " (\"('12+', 0) | ('рок и рок-н-ролл', 0)\", '0.0193'),\n",
              " (\"('концерты', 0) | ('16+', 0) | ('18+', 0)\", '0.0192'),\n",
              " (\"('концерты', 0) | ('12+', 0) | ('рок и рок-н-ролл', 0)\", '0.0192'),\n",
              " (\"('16+', 0) | ('лучшее', 0)\", '0.0192'),\n",
              " (\"('спектакли', 0) | ('развлечения', 0)\", '0.0192'),\n",
              " (\"('лучшее', 0) | ('18+', 0) | ('обучение', 0)\", '0.0191'),\n",
              " (\"('18+', 0) | ('выставки', 0)\", '0.0191'),\n",
              " (\"('обучение', 0) | ('искусство', 0)\", '0.0191'),\n",
              " (\"('16+', 0) | ('12+', 0)\", '0.0189'),\n",
              " (\"('16+', 0) | ('фестивали', 0)\", '0.0189'),\n",
              " (\"('12+', 0) | ('поп-музыка', 0)\", '0.0187'),\n",
              " (\"('16+', 0) | ('поп-музыка', 0)\", '0.0186'),\n",
              " (\"('концерты', 0) | ('16+', 0) | ('поп-музыка', 0)\", '0.0185'),\n",
              " (\"('концерты', 0) | ('12+', 0) | ('поп-музыка', 0)\", '0.0185'),\n",
              " (\"('16+', 0) | ('лучшее', 0) | ('обучение', 0)\", '0.0185'),\n",
              " (\"('18+', 0) | ('электронная музыка', 0)\", '0.0184'),\n",
              " (\"('концерты', 0) | ('вечеринки', 0)\", '0.0183'),\n",
              " (\"('12+', 0) | ('6+', 0)\", '0.0183'),\n",
              " (\"('развлечения', 0) | ('детям', 0)\", '0.0183'),\n",
              " (\"('12+', 0) | ('выставки', 0)\", '0.0182'),\n",
              " (\"('обучение', 0) | ('детям', 0)\", '0.0181'),\n",
              " (\"('концерты', 0) | ('18+', 0) | ('6+', 0)\", '0.0175'),\n",
              " (\"('концерты', 0) | ('16+', 0) | ('спектакли', 0)\", '0.0174'),\n",
              " (\"('концерты', 0) | ('лучшее', 0)\", '0.0174'),\n",
              " (\"('спектакли', 0) | ('лучшее в театрах', 0) | ('развлечения', 0)\", '0.0173'),\n",
              " (\"('спектакли', 0) | ('детские спектакли', 0)\", '0.0173'),\n",
              " (\"('16+', 0) | ('выставки', 0)\", '0.0172'),\n",
              " (\"('6+', 0) | ('поп-музыка', 0)\", '0.0172'),\n",
              " (\"('детям', 0) | ('детские', 0)\", '0.0172'),\n",
              " (\"('концерты', 0) | ('6+', 0) | ('поп-музыка', 0)\", '0.0171'),\n",
              " (\"('6+', 0) | ('фестивали', 0)\", '0.0171'),\n",
              " (\"('концерты', 0) | ('русский рок', 0)\", '0.0170'),\n",
              " (\"('16+', 0) | ('драматические постановки', 0)\", '0.0169'),\n",
              " (\"('16+', 0) | ('драматические постановки', 0) | ('спектакли', 0)\", '0.0169'),\n",
              " (\"('детям', 0) | ('детские спектакли', 0)\", '0.0169'),\n",
              " (\"('лучшее в театрах', 0) | ('детские спектакли', 0)\", '0.0167'),\n",
              " (\"('концерты', 0) | ('16+', 0) | ('лучшее в театрах', 0)\", '0.0166'),\n",
              " (\"('концерты', 0) | ('16+', 0) | ('free', 0)\", '0.0166'),\n",
              " (\"('концерты', 0) | ('18+', 0) | ('12+', 0)\", '0.0165'),\n",
              " (\"('спектакли', 0) | ('лучшее в театрах', 0) | ('детские спектакли', 0)\",\n",
              "  '0.0164'),\n",
              " (\"('спектакли', 0) | ('детям', 0) | ('детские спектакли', 0)\", '0.0164'),\n",
              " (\"('концерты', 0) | ('лучшее', 0) | ('обучение', 0)\", '0.0163'),\n",
              " (\"('концерты', 0) | ('6+', 0) | ('free', 0)\", '0.0163'),\n",
              " (\"('акции и скидки', 0) | ('6+', 0)\", '0.0163'),\n",
              " (\"('18+', 0) | ('новое на сайте', 0)\", '0.0163'),\n",
              " (\"('12+', 0) | ('фестивали', 0)\", '0.0163'),\n",
              " (\"('спектакли', 0) | ('лучшее в театрах', 0) | ('free', 0)\", '0.0162'),\n",
              " (\"('ярмарки (развлечения', 0) | (' ярмарки)', 0)\", '0.0162'),\n",
              " (\"('концерты', 0) | ('18+', 0) | ('развлечения', 0)\", '0.0161'),\n",
              " (\"('12+', 0) | ('джаз и блюз', 0)\", '0.0161'),\n",
              " (\"('развлечения', 0) | ('ярмарки (развлечения', 0)\", '0.0161'),\n",
              " (\"('развлечения', 0) | ('ярмарки (развлечения', 0) | (' ярмарки)', 0)\",\n",
              "  '0.0161'),\n",
              " (\"('развлечения', 0) | (' ярмарки)', 0)\", '0.0161'),\n",
              " (\"('концерты', 0) | ('12+', 0) | ('джаз и блюз', 0)\", '0.0160'),\n",
              " (\"('лучшее', 0) | ('12+', 0)\", '0.0159'),\n",
              " (\"('выставки', 0) | ('фото', 0)\", '0.0159'),\n",
              " (\"('фестивали', 0) | ('open air', 0)\", '0.0159'),\n",
              " (\"('лучшее в театрах', 0) | ('детям', 0) | ('детские спектакли', 0)\",\n",
              "  '0.0158'),\n",
              " (\"('рок и рок-н-ролл', 0) | ('free', 0)\", '0.0158'),\n",
              " (\"('спектакли', 0) | ('комедии', 0)\", '0.0157'),\n",
              " (\"('концерты', 0) | ('16+', 0) | ('6+', 0)\", '0.0156'),\n",
              " (\"('концерты', 0) | ('рок и рок-н-ролл', 0) | ('free', 0)\", '0.0156'),\n",
              " (\"('16+', 0) | ('акции и скидки', 0)\", '0.0156'),\n",
              " (\"('16+', 0) | ('джаз и блюз', 0)\", '0.0155'),\n",
              " (\"('спектакли', 0) | ('экспериментальный театр', 0)\", '0.0155'),\n",
              " (\"('концерты', 0) | ('16+', 0) | ('джаз и блюз', 0)\", '0.0154'),\n",
              " (\"('free', 0) | ('вечеринки', 0)\", '0.0154'),\n",
              " (\"('концерты', 0) | ('12+', 0) | ('спектакли', 0)\", '0.0151'),\n",
              " (\"('лучшее', 0) | ('искусство', 0)\", '0.0151'),\n",
              " (\"('лучшее', 0) | ('обучение', 0) | ('искусство', 0)\", '0.0150'),\n",
              " (\"('лучшее в театрах', 0) | ('шоу', 0)\", '0.0150'),\n",
              " (\"('концерты', 0) | ('12+', 0) | ('лучшее в театрах', 0)\", '0.0149'),\n",
              " (\"('акции и скидки', 0) | ('free', 0)\", '0.0149'),\n",
              " (\"('фестивали', 0) | ('музыка', 0)\", '0.0149'),\n",
              " (\"('концерты', 0) | ('спектакли', 0) | ('6+', 0)\", '0.0148'),\n",
              " (\"('лучшее', 0) | ('12+', 0) | ('обучение', 0)\", '0.0148'),\n",
              " (\"('развлечения', 0) | ('выставки', 0)\", '0.0148'),\n",
              " (\"('концерты', 0) | ('лучшее в театрах', 0) | ('6+', 0)\", '0.0147'),\n",
              " (\"('спектакли', 0) | ('лучшее в театрах', 0) | ('комедии', 0)\", '0.0147'),\n",
              " (\"('лучшее в театрах', 0) | ('комедии', 0)\", '0.0147'),\n",
              " (\"('рок и рок-н-ролл', 0) | ('поп-музыка', 0)\", '0.0147'),\n",
              " (\"('free', 0) | ('новое на сайте', 0)\", '0.0147'),\n",
              " (\"('концерты', 0) | ('18+', 0) | ('вечеринки', 0)\", '0.0146'),\n",
              " (\"('концерты', 0) | ('12+', 0) | ('free', 0)\", '0.0145'),\n",
              " (\"('концерты', 0) | ('рок и рок-н-ролл', 0) | ('поп-музыка', 0)\", '0.0145'),\n",
              " (\"('16+', 0) | ('драматические постановки', 0) | ('лучшее в театрах', 0)\",\n",
              "  '0.0144'),\n",
              " (\"('спектакли', 0) | ('лучшее в театрах', 0) | ('экспериментальный театр', 0)\",\n",
              "  '0.0144'),\n",
              " (\"('лучшее в театрах', 0) | ('экспериментальный театр', 0)\", '0.0144'),\n",
              " (\"('обучение', 0) | ('фестивали', 0)\", '0.0144'),\n",
              " (\"('лучшее в театрах', 0) | ('фестивали', 0)\", '0.0143'),\n",
              " (\"('развлечения', 0) | ('шоу', 0)\", '0.0143'),\n",
              " (\"('концерты', 0) | ('16+', 0) | ('12+', 0)\", '0.0142'),\n",
              " (\"('концерты', 0) | ('альтернатива', 0)\", '0.0142'),\n",
              " (\"('концерты', 0) | ('12+', 0) | ('6+', 0)\", '0.0142'),\n",
              " (\"('18+', 0) | ('классическая', 0)\", '0.0142'),\n",
              " (\"('концерты', 0) | ('18+', 0) | ('классическая', 0)\", '0.0141'),\n",
              " (\"('18+', 0) | ('танцевальная', 0)\", '0.0141'),\n",
              " (\"('классическая', 0) | ('free', 0)\", '0.0141'),\n",
              " (\"('концерты', 0) | ('классическая', 0) | ('free', 0)\", '0.0140'),\n",
              " (\"(' графика', 0) | ('картины', 0) | ('free', 0)\", '0.0140'),\n",
              " (\"(' графика', 0) | (' живопись', 0) | ('free', 0)\", '0.0140'),\n",
              " (\"(' графика', 0) | ('free', 0)\", '0.0140'),\n",
              " (\"('картины', 0) | (' живопись', 0) | ('free', 0)\", '0.0140'),\n",
              " (\"('картины', 0) | ('free', 0)\", '0.0140'),\n",
              " (\"(' живопись', 0) | ('free', 0)\", '0.0140'),\n",
              " (\"('детям', 0) | ('фестивали', 0)\", '0.0140'),\n",
              " (\"('16+', 0) | ('классическая', 0)\", '0.0139'),\n",
              " (\"('лучшее в театрах', 0) | ('обучение', 0)\", '0.0139'),\n",
              " (\"('концерты', 0) | ('16+', 0) | ('классическая', 0)\", '0.0138'),\n",
              " (\"('концерты', 0) | ('панк', 0)\", '0.0138'),\n",
              " (\"('концерты', 0) | ('метал', 0)\", '0.0138'),\n",
              " (\"('развлечения', 0) | ('новое на сайте', 0)\", '0.0138'),\n",
              " (\"(' графика', 0) | ('выставки', 0) | ('free', 0)\", '0.0138'),\n",
              " (\"('выставки', 0) | ('картины', 0) | ('free', 0)\", '0.0138'),\n",
              " (\"('выставки', 0) | (' живопись', 0) | ('free', 0)\", '0.0138'),\n",
              " (\"('концерты', 0) | ('18+', 0) | ('спектакли', 0)\", '0.0137'),\n",
              " (\"('спектакли', 0) | ('премьеры', 0)\", '0.0137'),\n",
              " (\"('концерты', 0) | ('18+', 0) | ('лучшее в театрах', 0)\", '0.0136'),\n",
              " (\"('лучшее', 0) | ('6+', 0)\", '0.0136'),\n",
              " (\"('спектакли', 0) | ('фестивали', 0)\", '0.0136'),\n",
              " (\"('лучшее в театрах', 0) | ('6+', 0) | ('детям', 0)\", '0.0135'),\n",
              " (\"('16+', 0) | ('новое на сайте', 0)\", '0.0134'),\n",
              " (\"('спектакли', 0) | ('6+', 0) | ('детям', 0)\", '0.0134'),\n",
              " (\"('лучшее в театрах', 0) | ('развлечения', 0) | ('шоу', 0)\", '0.0134'),\n",
              " (\"('6+', 0) | ('рок и рок-н-ролл', 0)\", '0.0134'),\n",
              " (\"('концерты', 0) | ('6+', 0) | ('рок и рок-н-ролл', 0)\", '0.0133'),\n",
              " (\"('акции и скидки', 0) | ('12+', 0)\", '0.0133'),\n",
              " (\"('лучшее', 0) | ('детям', 0)\", '0.0133'),\n",
              " (\"('концерты', 0) | ('18+', 0) | ('обучение', 0)\", '0.0132'),\n",
              " (\"('концерты', 0) | ('18+', 0) | ('электронная музыка', 0)\", '0.0132'),\n",
              " (\"('концерты', 0) | ('6+', 0) | ('детям', 0)\", '0.0132'),\n",
              " (\"('концерты', 0) | ('free', 0) | ('фестивали', 0)\", '0.0132'),\n",
              " (\"('спектакли', 0) | ('обучение', 0)\", '0.0131'),\n",
              " (\"('концерты', 0) | ('18+', 0) | ('фестивали', 0)\", '0.0130'),\n",
              " (\"('концерты', 0) | ('рок и рок-н-ролл', 0) | ('джаз и блюз', 0)\", '0.0130'),\n",
              " (\"('18+', 0) | ('кино (развлечения)', 0)\", '0.0130'),\n",
              " (\"('рок и рок-н-ролл', 0) | ('джаз и блюз', 0)\", '0.0130'),\n",
              " (\"('12+', 0) | ('детям', 0)\", '0.0129'),\n",
              " (\"('концерты', 0) | ('16+', 0) | ('развлечения', 0)\", '0.0128'),\n",
              " (\"('лучшее', 0) | ('обучение', 0) | ('детям', 0)\", '0.0128'),\n",
              " (\"('концерты', 0) | ('драматические постановки', 0)\", '0.0127'),\n",
              " (\"('концерты', 0) | ('драматические постановки', 0) | ('спектакли', 0)\",\n",
              "  '0.0127'),\n",
              " (\"('концерты', 0) | ('городские', 0)\", '0.0127'),\n",
              " (\"('6+', 0) | ('новое на сайте', 0)\", '0.0127'),\n",
              " (\"('лучшее', 0) | ('обучение', 0) | ('6+', 0)\", '0.0126'),\n",
              " (\"('обучение', 0) | ('выставки', 0)\", '0.0126'),\n",
              " (\"('выставки', 0) | ('история и личности', 0)\", '0.0126'),\n",
              " (\"('тематические', 0) | ('экскурсии', 0)\", '0.0126'),\n",
              " (\"('концерты', 0) | ('развлечения', 0) | ('free', 0)\", '0.0124'),\n",
              " (\"('18+', 0) | ('развлечения', 0) | ('кино (развлечения)', 0)\", '0.0124'),\n",
              " (\"('концерты', 0) | ('городские', 0) | ('фестивали', 0)\", '0.0123'),\n",
              " (\"('концерты', 0) | ('16+', 0) | ('обучение', 0)\", '0.0122'),\n",
              " (\"('концерты', 0) | ('12+', 0) | ('развлечения', 0)\", '0.0122'),\n",
              " (\"('16+', 0) | ('обучение', 0) | ('free', 0)\", '0.0122'),\n",
              " (\"('концерты', 0) | ('обучение', 0) | ('free', 0)\", '0.0121'),\n",
              " (\"('спектакли', 0) | ('выставки', 0)\", '0.0121'),\n",
              " (\"('развлечения', 0) | ('городские', 0)\", '0.0120'),\n",
              " (\"('акции и скидки', 0) | ('развлечения', 0)\", '0.0119'),\n",
              " (\"('12+', 0) | ('новое на сайте', 0)\", '0.0119'),\n",
              " (\"('спектакли', 0) | ('лучшее в театрах', 0) | ('обучение', 0)\", '0.0118'),\n",
              " (\"('лучшее в театрах', 0) | ('выставки', 0)\", '0.0118'),\n",
              " (\"('концерты', 0) | ('танцевальная', 0)\", '0.0117'),\n",
              " (\"('18+', 0) | ('обучение', 0) | ('free', 0)\", '0.0117'),\n",
              " (\"('18+', 0) | ('детям', 0)\", '0.0117'),\n",
              " (\"('спектакли', 0) | ('лучшее в театрах', 0) | ('фестивали', 0)\", '0.0117'),\n",
              " (\"('обучение', 0) | ('новое на сайте', 0)\", '0.0117'),\n",
              " (\"('концерты', 0) | ('6+', 0) | ('развлечения', 0)\", '0.0116'),\n",
              " (\"('инди', 0) | ('рок и рок-н-ролл', 0)\", '0.0116'),\n",
              " (\"('развлечения', 0) | ('free', 0) | ('фестивали', 0)\", '0.0116'),\n",
              " (\"('концерты', 0) | ('инди', 0) | ('рок и рок-н-ролл', 0)\", '0.0115'),\n",
              " (\"('детские', 0) | ('фестивали', 0)\", '0.0115'),\n",
              " (\"('концерты', 0) | ('акции и скидки', 0) | ('18+', 0)\", '0.0114'),\n",
              " (\"('концерты', 0) | ('авторская', 0)\", '0.0114'),\n",
              " (\"('18+', 0) | ('драматические постановки', 0)\", '0.0114'),\n",
              " (\"('18+', 0) | ('драматические постановки', 0) | ('спектакли', 0)\", '0.0114'),\n",
              " (\"('18+', 0) | ('free', 0) | ('вечеринки', 0)\", '0.0114'),\n",
              " (\"('развлечения', 0) | ('городские', 0) | ('фестивали', 0)\", '0.0114'),\n",
              " (\"('free', 0) | ('праздники', 0)\", '0.0114'),\n",
              " (\"('концерты', 0) | ('12+', 0) | ('обучение', 0)\", '0.0113'),\n",
              " (\"('концерты', 0) | (' графика', 0)\", '0.0113'),\n",
              " (\"('концерты', 0) | (' графика', 0) | ('картины', 0)\", '0.0113'),\n",
              " (\"('концерты', 0) | (' графика', 0) | (' живопись', 0)\", '0.0113'),\n",
              " (\"('концерты', 0) | ('картины', 0)\", '0.0113'),\n",
              " (\"('концерты', 0) | ('картины', 0) | (' живопись', 0)\", '0.0113'),\n",
              " (\"('концерты', 0) | (' живопись', 0)\", '0.0113'),\n",
              " (\"('русский рок', 0) | ('рок и рок-н-ролл', 0)\", '0.0113'),\n",
              " (\"('концерты', 0) | ('русский рок', 0) | ('рок и рок-н-ролл', 0)\", '0.0112'),\n",
              " (\"('концерты', 0) | (' графика', 0) | ('выставки', 0)\", '0.0112'),\n",
              " (\"('концерты', 0) | ('выставки', 0) | ('картины', 0)\", '0.0112'),\n",
              " (\"('концерты', 0) | ('выставки', 0) | (' живопись', 0)\", '0.0112'),\n",
              " (\"('18+', 0) | ('развлечения', 0) | ('free', 0)\", '0.0112'),\n",
              " (\"('вечеринки', 0) | ('танцевальная', 0)\", '0.0112'),\n",
              " (\"('классическая', 0) | ('спектакли', 0)\", '0.0111'),\n",
              " (\"('выставки', 0) | ('фестивали', 0)\", '0.0111'),\n",
              " (\"('спектакли', 0) | ('новое на сайте', 0)\", '0.0110'),\n",
              " (\"('кино (развлечения)', 0) | ('free', 0)\", '0.0110'),\n",
              " (\"('free', 0) | ('ярмарки (развлечения', 0)\", '0.0110'),\n",
              " (\"('free', 0) | ('ярмарки (развлечения', 0) | (' ярмарки)', 0)\", '0.0110'),\n",
              " (\"('free', 0) | (' ярмарки)', 0)\", '0.0110'),\n",
              " (\"('классическая', 0) | ('лучшее в театрах', 0)\", '0.0109'),\n",
              " (\"('развлечения', 0) | ('free', 0) | ('ярмарки (развлечения', 0)\", '0.0109'),\n",
              " (\"('развлечения', 0) | ('free', 0) | (' ярмарки)', 0)\", '0.0109'),\n",
              " (\"('выставки', 0) | ('детям', 0)\", '0.0109'),\n",
              " (\"('free', 0) | ('open air', 0)\", '0.0109'),\n",
              " (\"('концерты', 0) | ('классическая', 0) | ('спектакли', 0)\", '0.0108'),\n",
              " (\"('лучшее', 0) | ('развлечения', 0)\", '0.0108'),\n",
              " (\"('18+', 0) | ('этническая и фолк', 0)\", '0.0108'),\n",
              " (\"('18+', 0) | ('вечеринки', 0) | ('танцевальная', 0)\", '0.0108'),\n",
              " (\"('спектакли', 0) | ('балет', 0)\", '0.0108'),\n",
              " (\"('концерты', 0) | ('18+', 0) | ('этническая и фолк', 0)\", '0.0107'),\n",
              " (\"('развлечения', 0) | ('вечеринки', 0)\", '0.0107'),\n",
              " (\"('концерты', 0) | ('16+', 0) | ('фестивали', 0)\", '0.0106'),\n",
              " (\"('концерты', 0) | ('18+', 0) | ('новое на сайте', 0)\", '0.0106'),\n",
              " (\"('концерты', 0) | ('6+', 0) | ('джаз и блюз', 0)\", '0.0106'),\n",
              " (\"('концерты', 0) | ('музыка', 0)\", '0.0106'),\n",
              " (\"('18+', 0) | ('инди', 0)\", '0.0106'),\n",
              " (\"('6+', 0) | ('джаз и блюз', 0)\", '0.0106'),\n",
              " (\"('развлечения', 0) | ('кино (развлечения)', 0) | ('free', 0)\", '0.0106'),\n",
              " (\"('free', 0) | ('детские', 0)\", '0.0106'),\n",
              " (\"('концерты', 0) | ('классическая', 0) | ('лучшее в театрах', 0)\", '0.0105'),\n",
              " (\"('концерты', 0) | ('обучение', 0) | ('6+', 0)\", '0.0105'),\n",
              " (\"('12+', 0) | ('обучение', 0) | ('free', 0)\", '0.0105'),\n",
              " (\"('free', 0) | ('фестивали', 0) | ('open air', 0)\", '0.0105'),\n",
              " (\"('концерты', 0) | ('18+', 0) | ('инди', 0)\", '0.0104'),\n",
              " (\"('16+', 0) | ('кино (развлечения)', 0)\", '0.0104'),\n",
              " (\"('лучшее', 0) | ('обучение', 0) | ('развлечения', 0)\", '0.0104'),\n",
              " (\"('спектакли', 0) | ('премьеры', 0) | ('лучшее в театрах', 0)\", '0.0104'),\n",
              " (\"('премьеры', 0) | ('лучшее в театрах', 0)\", '0.0104'),\n",
              " (\"('рок и рок-н-ролл', 0) | ('панк', 0)\", '0.0104'),\n",
              " (\"('концерты', 0) | ('драматические постановки', 0) | ('лучшее в театрах', 0)\",\n",
              "  '0.0103'),\n",
              " (\"('концерты', 0) | ('рок и рок-н-ролл', 0) | ('панк', 0)\", '0.0103'),\n",
              " (\"('концерты', 0) | ('выставки', 0) | ('free', 0)\", '0.0103'),\n",
              " (\"('спектакли', 0) | ('лучшее в театрах', 0) | ('выставки', 0)\", '0.0103'),\n",
              " (\"('отдых', 0) | ('free', 0)\", '0.0103'),\n",
              " (\"('альтернатива', 0) | ('рок и рок-н-ролл', 0)\", '0.0102'),\n",
              " (\"('концерты', 0) | ('альтернатива', 0) | ('рок и рок-н-ролл', 0)\", '0.0101'),\n",
              " (\"('16+', 0) | ('развлечения', 0) | ('кино (развлечения)', 0)\", '0.0101'),\n",
              " (\"('спектакли', 0) | ('рок и рок-н-ролл', 0)\", '0.0101'),\n",
              " (\"('лучшее в театрах', 0) | ('новое на сайте', 0)\", '0.0101'),\n",
              " (\"('развлечения', 0) | ('игры', 0)\", '0.0101'),\n",
              " (\"('развлечения', 0) | ('кино', 0)\", '0.0101'),\n",
              " (\"('городские', 0) | ('open air', 0)\", '0.0101')]"
            ]
          },
          "metadata": {},
          "execution_count": 40
        }
      ]
    },
    {
      "cell_type": "markdown",
      "metadata": {
        "id": "NnPoSk0vYNbX"
      },
      "source": [
        "ARL analyzes with 'apyori' package"
      ]
    },
    {
      "cell_type": "markdown",
      "metadata": {
        "id": "_IZqxAAxaFbn"
      },
      "source": [
        "Data preparation and package installation"
      ]
    },
    {
      "cell_type": "code",
      "metadata": {
        "id": "nitB7aDgCiwQ",
        "colab": {
          "base_uri": "https://localhost:8080/"
        },
        "outputId": "c06d171a-8936-4577-ab0d-e8d146fc154c"
      },
      "source": [
        "#ARL analysis https://habr.com/ru/company/ods/blog/353502/\n",
        "!pip install apyori \n",
        "#- does not work. Out of memory for our data...\n",
        "import apyori"
      ],
      "execution_count": 41,
      "outputs": [
        {
          "output_type": "stream",
          "name": "stdout",
          "text": [
            "Collecting apyori\n",
            "  Downloading apyori-1.1.2.tar.gz (8.6 kB)\n",
            "Building wheels for collected packages: apyori\n",
            "  Building wheel for apyori (setup.py) ... \u001b[?25l\u001b[?25hdone\n",
            "  Created wheel for apyori: filename=apyori-1.1.2-py3-none-any.whl size=5974 sha256=a8f6e1afac58bae8bbe670ecf57def4ef014ae73b8d2a29f9169feffb68d18c5\n",
            "  Stored in directory: /root/.cache/pip/wheels/cb/f6/e1/57973c631d27efd1a2f375bd6a83b2a616c4021f24aab84080\n",
            "Successfully built apyori\n",
            "Installing collected packages: apyori\n",
            "Successfully installed apyori-1.1.2\n"
          ]
        }
      ]
    },
    {
      "cell_type": "code",
      "metadata": {
        "id": "-mW-TGxRYi73"
      },
      "source": [
        "trans_tags_and_cats = []\n",
        "for i in range(0, df_tags_and_cats.shape[0]): \n",
        "    trans_tags_and_cats.append(df_tags_and_cats.values[i,0])"
      ],
      "execution_count": 42,
      "outputs": []
    },
    {
      "cell_type": "code",
      "metadata": {
        "id": "531b_Ax7b-wI"
      },
      "source": [
        "trans_tags = []\n",
        "for i in range(0, df_only_tags.shape[0]): \n",
        "    trans_tags.append(df_only_tags.values[i,0])"
      ],
      "execution_count": 43,
      "outputs": []
    },
    {
      "cell_type": "code",
      "metadata": {
        "id": "r_VMaT9ucGj5"
      },
      "source": [
        "trans_cats = []\n",
        "for i in range(0, df_only_cats.shape[0]): \n",
        "    trans_cats.append(df_only_cats.values[i,0])"
      ],
      "execution_count": 44,
      "outputs": []
    },
    {
      "cell_type": "markdown",
      "metadata": {
        "id": "RDaGNHmYcLaQ"
      },
      "source": [
        "Tags and categories analysis"
      ]
    },
    {
      "cell_type": "code",
      "metadata": {
        "id": "JPYvNkEAbpcl",
        "colab": {
          "base_uri": "https://localhost:8080/"
        },
        "outputId": "62affd95-1a53-4328-d68a-e08226254678"
      },
      "source": [
        "# min_support -- минимальный support для правил (dtype = float).\n",
        "# min_confidence -- минимальное значение confidence для правил (dtype = float)\n",
        "# min_lift -- минимальный lift (dtype = float)\n",
        "# max_length -- максимальная длина itemset (вспоминаем про k-itemset)  (dtype = integer)\n",
        "\n",
        "result_cats = list(apyori.apriori(trans_cats, min_support = 0.003, min_confidence = 0.75, min_lift = 1.2, min_length = 2))\n",
        "result_cats"
      ],
      "execution_count": 46,
      "outputs": [
        {
          "output_type": "execute_result",
          "data": {
            "text/plain": [
              "[RelationRecord(items=frozenset({('entertainment', 1), ('cinema', 1)}), support=0.034028931235466436, ordered_statistics=[OrderedStatistic(items_base=frozenset({('cinema', 1)}), items_add=frozenset({('entertainment', 1)}), confidence=0.9745718733783084, lift=8.499973250586294)]),\n",
              " RelationRecord(items=frozenset({('quest', 1), ('entertainment', 1)}), support=0.005858726180050132, ordered_statistics=[OrderedStatistic(items_base=frozenset({('quest', 1)}), items_add=frozenset({('entertainment', 1)}), confidence=0.9969167523124358, lift=8.694859721677734)]),\n",
              " RelationRecord(items=frozenset({('entertainment', 1), ('yarmarki-razvlecheniya-yarmarki', 1)}), support=0.01621719566333464, ordered_statistics=[OrderedStatistic(items_base=frozenset({('yarmarki-razvlecheniya-yarmarki', 1)}), items_add=frozenset({('entertainment', 1)}), confidence=0.9933407325194229, lift=8.663670567327516)]),\n",
              " RelationRecord(items=frozenset({('entertainment', 1), ('education', 1), ('cinema', 1)}), support=0.004064868782653339, ordered_statistics=[OrderedStatistic(items_base=frozenset({('education', 1), ('cinema', 1)}), items_add=frozenset({('entertainment', 1)}), confidence=0.9853587115666179, lift=8.594053367777859)]),\n",
              " RelationRecord(items=frozenset({('festival', 1), ('entertainment', 1), ('cinema', 1)}), support=0.006734515145109172, ordered_statistics=[OrderedStatistic(items_base=frozenset({('festival', 1), ('cinema', 1)}), items_add=frozenset({('entertainment', 1)}), confidence=0.9789288849868306, lift=8.537974021115978)]),\n",
              " RelationRecord(items=frozenset({('exhibition', 1), ('entertainment', 1), ('yarmarki-razvlecheniya-yarmarki', 1)}), support=0.0034608763929574486, ordered_statistics=[OrderedStatistic(items_base=frozenset({('exhibition', 1), ('yarmarki-razvlecheniya-yarmarki', 1)}), items_add=frozenset({('entertainment', 1)}), confidence=0.9947916666666665, lift=8.676325253735797)]),\n",
              " RelationRecord(items=frozenset({('festival', 1), ('entertainment', 1), ('yarmarki-razvlecheniya-yarmarki', 1)}), support=0.004741340259112735, ordered_statistics=[OrderedStatistic(items_base=frozenset({('festival', 1), ('yarmarki-razvlecheniya-yarmarki', 1)}), items_add=frozenset({('entertainment', 1)}), confidence=0.9911616161616161, lift=8.644664856966653)])]"
            ]
          },
          "metadata": {},
          "execution_count": 46
        }
      ]
    },
    {
      "cell_type": "code",
      "metadata": {
        "colab": {
          "base_uri": "https://localhost:8080/",
          "height": 264
        },
        "id": "FJrEp1LzzAt_",
        "outputId": "01d21c20-264c-450e-e949-e248c8672e3c"
      },
      "source": [
        "temp = []\n",
        "for i in range(len(result_cats)):\n",
        "  temp.append([str(list(result_cats[i][0])), result_cats[i][1], result_cats[i][2][0][2], result_cats[i][2][0][3]])\n",
        "\n",
        "apyori_cats_df = pd.DataFrame(temp, columns = ['items', 'support', 'confidence', 'lift'])\n",
        "apyori_cats_df.sort_values(by=['confidence'], ascending=False)\n"
      ],
      "execution_count": 121,
      "outputs": [
        {
          "output_type": "execute_result",
          "data": {
            "text/html": [
              "<div>\n",
              "<style scoped>\n",
              "    .dataframe tbody tr th:only-of-type {\n",
              "        vertical-align: middle;\n",
              "    }\n",
              "\n",
              "    .dataframe tbody tr th {\n",
              "        vertical-align: top;\n",
              "    }\n",
              "\n",
              "    .dataframe thead th {\n",
              "        text-align: right;\n",
              "    }\n",
              "</style>\n",
              "<table border=\"1\" class=\"dataframe\">\n",
              "  <thead>\n",
              "    <tr style=\"text-align: right;\">\n",
              "      <th></th>\n",
              "      <th>items</th>\n",
              "      <th>support</th>\n",
              "      <th>confidence</th>\n",
              "      <th>lift</th>\n",
              "    </tr>\n",
              "  </thead>\n",
              "  <tbody>\n",
              "    <tr>\n",
              "      <th>1</th>\n",
              "      <td>[('quest', 1), ('entertainment', 1)]</td>\n",
              "      <td>0.005859</td>\n",
              "      <td>0.996917</td>\n",
              "      <td>8.694860</td>\n",
              "    </tr>\n",
              "    <tr>\n",
              "      <th>5</th>\n",
              "      <td>[('exhibition', 1), ('entertainment', 1), ('ya...</td>\n",
              "      <td>0.003461</td>\n",
              "      <td>0.994792</td>\n",
              "      <td>8.676325</td>\n",
              "    </tr>\n",
              "    <tr>\n",
              "      <th>2</th>\n",
              "      <td>[('entertainment', 1), ('yarmarki-razvlecheniy...</td>\n",
              "      <td>0.016217</td>\n",
              "      <td>0.993341</td>\n",
              "      <td>8.663671</td>\n",
              "    </tr>\n",
              "    <tr>\n",
              "      <th>6</th>\n",
              "      <td>[('festival', 1), ('entertainment', 1), ('yarm...</td>\n",
              "      <td>0.004741</td>\n",
              "      <td>0.991162</td>\n",
              "      <td>8.644665</td>\n",
              "    </tr>\n",
              "    <tr>\n",
              "      <th>3</th>\n",
              "      <td>[('entertainment', 1), ('education', 1), ('cin...</td>\n",
              "      <td>0.004065</td>\n",
              "      <td>0.985359</td>\n",
              "      <td>8.594053</td>\n",
              "    </tr>\n",
              "    <tr>\n",
              "      <th>4</th>\n",
              "      <td>[('festival', 1), ('entertainment', 1), ('cine...</td>\n",
              "      <td>0.006735</td>\n",
              "      <td>0.978929</td>\n",
              "      <td>8.537974</td>\n",
              "    </tr>\n",
              "    <tr>\n",
              "      <th>0</th>\n",
              "      <td>[('entertainment', 1), ('cinema', 1)]</td>\n",
              "      <td>0.034029</td>\n",
              "      <td>0.974572</td>\n",
              "      <td>8.499973</td>\n",
              "    </tr>\n",
              "  </tbody>\n",
              "</table>\n",
              "</div>"
            ],
            "text/plain": [
              "                                               items  ...      lift\n",
              "1               [('quest', 1), ('entertainment', 1)]  ...  8.694860\n",
              "5  [('exhibition', 1), ('entertainment', 1), ('ya...  ...  8.676325\n",
              "2  [('entertainment', 1), ('yarmarki-razvlecheniy...  ...  8.663671\n",
              "6  [('festival', 1), ('entertainment', 1), ('yarm...  ...  8.644665\n",
              "3  [('entertainment', 1), ('education', 1), ('cin...  ...  8.594053\n",
              "4  [('festival', 1), ('entertainment', 1), ('cine...  ...  8.537974\n",
              "0              [('entertainment', 1), ('cinema', 1)]  ...  8.499973\n",
              "\n",
              "[7 rows x 4 columns]"
            ]
          },
          "metadata": {},
          "execution_count": 121
        }
      ]
    },
    {
      "cell_type": "code",
      "metadata": {
        "colab": {
          "base_uri": "https://localhost:8080/",
          "height": 34
        },
        "id": "shrYuGXc_lCm",
        "outputId": "d179d411-f7cb-4bcd-842a-86676e94ca0a"
      },
      "source": [
        "apyori_cats_df.loc[3][0]"
      ],
      "execution_count": 127,
      "outputs": [
        {
          "output_type": "execute_result",
          "data": {
            "application/vnd.google.colaboratory.intrinsic+json": {
              "type": "string"
            },
            "text/plain": [
              "\"[('entertainment', 1), ('education', 1), ('cinema', 1)]\""
            ]
          },
          "metadata": {},
          "execution_count": 127
        }
      ]
    },
    {
      "cell_type": "markdown",
      "metadata": {
        "id": "3ePM0zT5_UsD"
      },
      "source": [
        "We have already obtained that 97% events of 'cinema' are also 'entertainment' with another analysis, here we got the same result (index = 0) and extended result: cinema + entertaiment + education with 0.985 confidence."
      ]
    },
    {
      "cell_type": "code",
      "metadata": {
        "id": "Ki9EFf-mEpt8"
      },
      "source": [
        "result_tags = list(apyori.apriori(trans_tags, min_support = 0.003, min_confidence = 0.75, min_lift = 1.2, min_length = 2))"
      ],
      "execution_count": 110,
      "outputs": []
    },
    {
      "cell_type": "code",
      "metadata": {
        "colab": {
          "base_uri": "https://localhost:8080/",
          "height": 416
        },
        "id": "N0chjr3I8HTH",
        "outputId": "9ef9e6fc-b757-4947-9776-b5d1f8a62b17"
      },
      "source": [
        "temp = []\n",
        "for i in range(len(result_tags)):\n",
        "  temp.append([str(list(result_tags[i][0])), result_tags[i][1], result_tags[i][2][0][2], result_tags[i][2][0][3]])\n",
        "\n",
        "apyori_tags_df = pd.DataFrame(temp, columns = ['items', 'support', 'confidence', 'lift'])\n",
        "apyori_tags_df.sort_values(by=['confidence'], ascending=False)"
      ],
      "execution_count": 119,
      "outputs": [
        {
          "output_type": "execute_result",
          "data": {
            "text/html": [
              "<div>\n",
              "<style scoped>\n",
              "    .dataframe tbody tr th:only-of-type {\n",
              "        vertical-align: middle;\n",
              "    }\n",
              "\n",
              "    .dataframe tbody tr th {\n",
              "        vertical-align: top;\n",
              "    }\n",
              "\n",
              "    .dataframe thead th {\n",
              "        text-align: right;\n",
              "    }\n",
              "</style>\n",
              "<table border=\"1\" class=\"dataframe\">\n",
              "  <thead>\n",
              "    <tr style=\"text-align: right;\">\n",
              "      <th></th>\n",
              "      <th>items</th>\n",
              "      <th>support</th>\n",
              "      <th>confidence</th>\n",
              "      <th>lift</th>\n",
              "    </tr>\n",
              "  </thead>\n",
              "  <tbody>\n",
              "    <tr>\n",
              "      <th>0</th>\n",
              "      <td>[(' графика', 0), (' живопись', 0)]</td>\n",
              "      <td>0.037230</td>\n",
              "      <td>1.000000</td>\n",
              "      <td>26.859994</td>\n",
              "    </tr>\n",
              "    <tr>\n",
              "      <th>392</th>\n",
              "      <td>[('лучшее в театрах', 0), ('спектакли', 0), ('...</td>\n",
              "      <td>0.003715</td>\n",
              "      <td>1.000000</td>\n",
              "      <td>7.950300</td>\n",
              "    </tr>\n",
              "    <tr>\n",
              "      <th>364</th>\n",
              "      <td>[(' графика', 0), ('картины', 0), ('современно...</td>\n",
              "      <td>0.005333</td>\n",
              "      <td>1.000000</td>\n",
              "      <td>26.859994</td>\n",
              "    </tr>\n",
              "    <tr>\n",
              "      <th>361</th>\n",
              "      <td>[(' графика', 0), ('free', 0), (' живопись', 0...</td>\n",
              "      <td>0.010449</td>\n",
              "      <td>1.000000</td>\n",
              "      <td>26.859994</td>\n",
              "    </tr>\n",
              "    <tr>\n",
              "      <th>359</th>\n",
              "      <td>[(' графика', 0), ('картины', 0), ('6+', 0), (...</td>\n",
              "      <td>0.003515</td>\n",
              "      <td>1.000000</td>\n",
              "      <td>26.859994</td>\n",
              "    </tr>\n",
              "    <tr>\n",
              "      <th>...</th>\n",
              "      <td>...</td>\n",
              "      <td>...</td>\n",
              "      <td>...</td>\n",
              "      <td>...</td>\n",
              "    </tr>\n",
              "    <tr>\n",
              "      <th>400</th>\n",
              "      <td>[('18+', 0), ('лучшее в театрах', 0), ('драмат...</td>\n",
              "      <td>0.004083</td>\n",
              "      <td>0.751947</td>\n",
              "      <td>6.512321</td>\n",
              "    </tr>\n",
              "    <tr>\n",
              "      <th>78</th>\n",
              "      <td>[('повышение квалификации', 0), ('лучшее', 0)]</td>\n",
              "      <td>0.005212</td>\n",
              "      <td>0.751742</td>\n",
              "      <td>9.845135</td>\n",
              "    </tr>\n",
              "    <tr>\n",
              "      <th>338</th>\n",
              "      <td>[('повышение квалификации', 0), ('лучшее', 0),...</td>\n",
              "      <td>0.005212</td>\n",
              "      <td>0.751742</td>\n",
              "      <td>10.258155</td>\n",
              "    </tr>\n",
              "    <tr>\n",
              "      <th>406</th>\n",
              "      <td>[('18+', 0), ('концерты', 0), ('рок и рок-н-ро...</td>\n",
              "      <td>0.005243</td>\n",
              "      <td>0.750865</td>\n",
              "      <td>7.547627</td>\n",
              "    </tr>\n",
              "    <tr>\n",
              "      <th>211</th>\n",
              "      <td>[('18+', 0), ('рок и рок-н-ролл', 0), ('панк',...</td>\n",
              "      <td>0.005351</td>\n",
              "      <td>0.750212</td>\n",
              "      <td>7.541060</td>\n",
              "    </tr>\n",
              "  </tbody>\n",
              "</table>\n",
              "<p>449 rows × 4 columns</p>\n",
              "</div>"
            ],
            "text/plain": [
              "                                                 items  ...       lift\n",
              "0                  [(' графика', 0), (' живопись', 0)]  ...  26.859994\n",
              "392  [('лучшее в театрах', 0), ('спектакли', 0), ('...  ...   7.950300\n",
              "364  [(' графика', 0), ('картины', 0), ('современно...  ...  26.859994\n",
              "361  [(' графика', 0), ('free', 0), (' живопись', 0...  ...  26.859994\n",
              "359  [(' графика', 0), ('картины', 0), ('6+', 0), (...  ...  26.859994\n",
              "..                                                 ...  ...        ...\n",
              "400  [('18+', 0), ('лучшее в театрах', 0), ('драмат...  ...   6.512321\n",
              "78      [('повышение квалификации', 0), ('лучшее', 0)]  ...   9.845135\n",
              "338  [('повышение квалификации', 0), ('лучшее', 0),...  ...  10.258155\n",
              "406  [('18+', 0), ('концерты', 0), ('рок и рок-н-ро...  ...   7.547627\n",
              "211  [('18+', 0), ('рок и рок-н-ролл', 0), ('панк',...  ...   7.541060\n",
              "\n",
              "[449 rows x 4 columns]"
            ]
          },
          "metadata": {},
          "execution_count": 119
        }
      ]
    },
    {
      "cell_type": "code",
      "metadata": {
        "id": "wLECtmUgE05h"
      },
      "source": [
        "result_tags_and_cats = list(apyori.apriori(trans_tags_and_cats, min_support = 0.003, min_confidence = 0.75, min_lift = 1.2, min_length = 2))"
      ],
      "execution_count": 116,
      "outputs": []
    },
    {
      "cell_type": "code",
      "metadata": {
        "colab": {
          "base_uri": "https://localhost:8080/",
          "height": 416
        },
        "id": "dpNjTuP2-hXu",
        "outputId": "d7cd2f58-5a24-47db-f483-a08d6cd11f55"
      },
      "source": [
        "temp = []\n",
        "for i in range(len(result_tags_and_cats)):\n",
        "  temp.append([str(list(result_tags_and_cats[i][0])), result_tags_and_cats[i][1], result_tags_and_cats[i][2][0][2], result_tags_and_cats[i][2][0][3]])\n",
        "\n",
        "apyori_tags_and_cats_df = pd.DataFrame(temp, columns = ['items', 'support', 'confidence', 'lift'])\n",
        "apyori_tags_and_cats_df.sort_values(by=['confidence'], ascending=False)"
      ],
      "execution_count": 120,
      "outputs": [
        {
          "output_type": "execute_result",
          "data": {
            "text/html": [
              "<div>\n",
              "<style scoped>\n",
              "    .dataframe tbody tr th:only-of-type {\n",
              "        vertical-align: middle;\n",
              "    }\n",
              "\n",
              "    .dataframe tbody tr th {\n",
              "        vertical-align: top;\n",
              "    }\n",
              "\n",
              "    .dataframe thead th {\n",
              "        text-align: right;\n",
              "    }\n",
              "</style>\n",
              "<table border=\"1\" class=\"dataframe\">\n",
              "  <thead>\n",
              "    <tr style=\"text-align: right;\">\n",
              "      <th></th>\n",
              "      <th>items</th>\n",
              "      <th>support</th>\n",
              "      <th>confidence</th>\n",
              "      <th>lift</th>\n",
              "    </tr>\n",
              "  </thead>\n",
              "  <tbody>\n",
              "    <tr>\n",
              "      <th>0</th>\n",
              "      <td>[(' графика', 0), (' живопись', 0)]</td>\n",
              "      <td>0.037230</td>\n",
              "      <td>1.000000</td>\n",
              "      <td>26.859994</td>\n",
              "    </tr>\n",
              "    <tr>\n",
              "      <th>1007</th>\n",
              "      <td>[('обучение', 0), ('спектакли', 0), ('theater'...</td>\n",
              "      <td>0.003262</td>\n",
              "      <td>1.000000</td>\n",
              "      <td>7.950300</td>\n",
              "    </tr>\n",
              "    <tr>\n",
              "      <th>543</th>\n",
              "      <td>[('kids', 1), ('concert', 1), ('детям', 0)]</td>\n",
              "      <td>0.006759</td>\n",
              "      <td>1.000000</td>\n",
              "      <td>13.077804</td>\n",
              "    </tr>\n",
              "    <tr>\n",
              "      <th>545</th>\n",
              "      <td>[('kids', 1), ('concert', 1), ('концерты', 0)]</td>\n",
              "      <td>0.006759</td>\n",
              "      <td>1.000000</td>\n",
              "      <td>2.538056</td>\n",
              "    </tr>\n",
              "    <tr>\n",
              "      <th>546</th>\n",
              "      <td>[('concert', 1), ('вечеринки', 0), ('party', 1)]</td>\n",
              "      <td>0.011579</td>\n",
              "      <td>1.000000</td>\n",
              "      <td>18.788584</td>\n",
              "    </tr>\n",
              "    <tr>\n",
              "      <th>...</th>\n",
              "      <td>...</td>\n",
              "      <td>...</td>\n",
              "      <td>...</td>\n",
              "      <td>...</td>\n",
              "    </tr>\n",
              "    <tr>\n",
              "      <th>1116</th>\n",
              "      <td>[('повышение квалификации', 0), ('лучшее', 0),...</td>\n",
              "      <td>0.005212</td>\n",
              "      <td>0.751742</td>\n",
              "      <td>10.258155</td>\n",
              "    </tr>\n",
              "    <tr>\n",
              "      <th>1347</th>\n",
              "      <td>[('18+', 0), ('concert', 1), ('рок и рок-н-рол...</td>\n",
              "      <td>0.005243</td>\n",
              "      <td>0.750865</td>\n",
              "      <td>7.547627</td>\n",
              "    </tr>\n",
              "    <tr>\n",
              "      <th>1395</th>\n",
              "      <td>[('18+', 0), ('концерты', 0), ('рок и рок-н-ро...</td>\n",
              "      <td>0.005243</td>\n",
              "      <td>0.750865</td>\n",
              "      <td>7.547627</td>\n",
              "    </tr>\n",
              "    <tr>\n",
              "      <th>2001</th>\n",
              "      <td>[('18+', 0), ('concert', 1), ('панк', 0), ('ро...</td>\n",
              "      <td>0.005243</td>\n",
              "      <td>0.750865</td>\n",
              "      <td>7.639932</td>\n",
              "    </tr>\n",
              "    <tr>\n",
              "      <th>456</th>\n",
              "      <td>[('18+', 0), ('рок и рок-н-ролл', 0), ('панк',...</td>\n",
              "      <td>0.005351</td>\n",
              "      <td>0.750212</td>\n",
              "      <td>7.541060</td>\n",
              "    </tr>\n",
              "  </tbody>\n",
              "</table>\n",
              "<p>2307 rows × 4 columns</p>\n",
              "</div>"
            ],
            "text/plain": [
              "                                                  items  ...       lift\n",
              "0                   [(' графика', 0), (' живопись', 0)]  ...  26.859994\n",
              "1007  [('обучение', 0), ('спектакли', 0), ('theater'...  ...   7.950300\n",
              "543         [('kids', 1), ('concert', 1), ('детям', 0)]  ...  13.077804\n",
              "545      [('kids', 1), ('concert', 1), ('концерты', 0)]  ...   2.538056\n",
              "546    [('concert', 1), ('вечеринки', 0), ('party', 1)]  ...  18.788584\n",
              "...                                                 ...  ...        ...\n",
              "1116  [('повышение квалификации', 0), ('лучшее', 0),...  ...  10.258155\n",
              "1347  [('18+', 0), ('concert', 1), ('рок и рок-н-рол...  ...   7.547627\n",
              "1395  [('18+', 0), ('концерты', 0), ('рок и рок-н-ро...  ...   7.547627\n",
              "2001  [('18+', 0), ('concert', 1), ('панк', 0), ('ро...  ...   7.639932\n",
              "456   [('18+', 0), ('рок и рок-н-ролл', 0), ('панк',...  ...   7.541060\n",
              "\n",
              "[2307 rows x 4 columns]"
            ]
          },
          "metadata": {},
          "execution_count": 120
        }
      ]
    },
    {
      "cell_type": "code",
      "metadata": {
        "id": "p833c8VqAwKW"
      },
      "source": [
        "apyori_cats_df.to_pickle(\"/content/drive/My Drive/Colab Notebooks/apyori_cats_df.pkl\")\n",
        "apyori_tags_df.to_pickle(\"/content/drive/My Drive/Colab Notebooks/apyori_tags_df.pkl\")\n",
        "apyori_tags_and_cats_df.to_pickle(\"/content/drive/My Drive/Colab Notebooks/apyori_tags_and_cats_df.pkl\")"
      ],
      "execution_count": 128,
      "outputs": []
    }
  ]
}