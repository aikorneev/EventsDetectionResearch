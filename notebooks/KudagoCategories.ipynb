{
  "nbformat": 4,
  "nbformat_minor": 0,
  "metadata": {
    "colab": {
      "name": "KudagoCategories.ipynb",
      "provenance": [],
      "collapsed_sections": []
    },
    "kernelspec": {
      "name": "python3",
      "display_name": "Python 3"
    },
    "language_info": {
      "name": "python"
    }
  },
  "cells": [
    {
      "cell_type": "markdown",
      "metadata": {
        "id": "2G-HUlclewMq"
      },
      "source": [
        "## KUDAGO categories relation\n",
        "Goal - to estimate relations between different kudago categories.\n",
        "\n",
        "to do: \n"
      ]
    },
    {
      "cell_type": "code",
      "metadata": {
        "colab": {
          "base_uri": "https://localhost:8080/"
        },
        "id": "zq3nEoQ-fAFt",
        "outputId": "26cde540-e8d2-49cb-9b63-e642f3b38e8f"
      },
      "source": [
        "#connection to google drive\n",
        "from google.colab import drive\n",
        "drive.mount('/content/drive')"
      ],
      "execution_count": 1,
      "outputs": [
        {
          "output_type": "stream",
          "text": [
            "Mounted at /content/drive\n"
          ],
          "name": "stdout"
        }
      ]
    },
    {
      "cell_type": "code",
      "metadata": {
        "id": "0nSPmDAle5x4"
      },
      "source": [
        "#read dataset\n",
        "import pandas as pd\n",
        "DATA0 = pd.read_csv(\"/content/drive/My Drive/Multi-scale events detection/kudago/403-497_clean.csv\", delimiter=';', encoding='cp1251', error_bad_lines=False)\n",
        "DATA1 = pd.read_csv(\"/content/drive/My Drive/Multi-scale events detection/kudago/1-402_clean.csv\", delimiter=';', encoding='cp1251', error_bad_lines=False)\n",
        "DATA2 = pd.read_csv(\"/content/drive/My Drive/Multi-scale events detection/kudago/497-1653_clean.csv\", delimiter=';', encoding='cp1251', error_bad_lines=False)\n",
        "DATA = pd.concat([DATA0,DATA1,DATA2])"
      ],
      "execution_count": 3,
      "outputs": []
    },
    {
      "cell_type": "markdown",
      "metadata": {
        "id": "eJqeqBcgikVf"
      },
      "source": [
        "# First step: analyzing event tags"
      ]
    },
    {
      "cell_type": "code",
      "metadata": {
        "id": "rrvlXly2ibqx"
      },
      "source": [
        "#cut the table\n",
        "df = DATA[['Category', 'Event tag']]"
      ],
      "execution_count": 17,
      "outputs": []
    },
    {
      "cell_type": "code",
      "metadata": {
        "colab": {
          "base_uri": "https://localhost:8080/",
          "height": 447
        },
        "id": "t6YXai5UkY3x",
        "outputId": "4b280285-914c-4527-b01c-054ac5a3e5a2"
      },
      "source": [
        "#checking what kind of categories we have\n",
        "df.groupby(['Category']).count()\n"
      ],
      "execution_count": 18,
      "outputs": [
        {
          "output_type": "execute_result",
          "data": {
            "text/html": [
              "<div>\n",
              "<style scoped>\n",
              "    .dataframe tbody tr th:only-of-type {\n",
              "        vertical-align: middle;\n",
              "    }\n",
              "\n",
              "    .dataframe tbody tr th {\n",
              "        vertical-align: top;\n",
              "    }\n",
              "\n",
              "    .dataframe thead th {\n",
              "        text-align: right;\n",
              "    }\n",
              "</style>\n",
              "<table border=\"1\" class=\"dataframe\">\n",
              "  <thead>\n",
              "    <tr style=\"text-align: right;\">\n",
              "      <th></th>\n",
              "      <th>Event tag</th>\n",
              "    </tr>\n",
              "    <tr>\n",
              "      <th>Category</th>\n",
              "      <th></th>\n",
              "    </tr>\n",
              "  </thead>\n",
              "  <tbody>\n",
              "    <tr>\n",
              "      <th>business-events</th>\n",
              "      <td>476</td>\n",
              "    </tr>\n",
              "    <tr>\n",
              "      <th>business-events,entertainment</th>\n",
              "      <td>6</td>\n",
              "    </tr>\n",
              "    <tr>\n",
              "      <th>business-events,festival</th>\n",
              "      <td>17</td>\n",
              "    </tr>\n",
              "    <tr>\n",
              "      <th>business-events,festival,entertainment</th>\n",
              "      <td>1</td>\n",
              "    </tr>\n",
              "    <tr>\n",
              "      <th>business-events,festival,recreation</th>\n",
              "      <td>1</td>\n",
              "    </tr>\n",
              "    <tr>\n",
              "      <th>...</th>\n",
              "      <td>...</td>\n",
              "    </tr>\n",
              "    <tr>\n",
              "      <th>tour,recreation,entertainment</th>\n",
              "      <td>5</td>\n",
              "    </tr>\n",
              "    <tr>\n",
              "      <th>tour,yarmarki-razvlecheniya-yarmarki,entertainment</th>\n",
              "      <td>3</td>\n",
              "    </tr>\n",
              "    <tr>\n",
              "      <th>yarmarki-razvlecheniya-yarmarki</th>\n",
              "      <td>5</td>\n",
              "    </tr>\n",
              "    <tr>\n",
              "      <th>yarmarki-razvlecheniya-yarmarki,entertainment</th>\n",
              "      <td>763</td>\n",
              "    </tr>\n",
              "    <tr>\n",
              "      <th>yarmarki-razvlecheniya-yarmarki,recreation,entertainment</th>\n",
              "      <td>2</td>\n",
              "    </tr>\n",
              "  </tbody>\n",
              "</table>\n",
              "<p>1431 rows × 1 columns</p>\n",
              "</div>"
            ],
            "text/plain": [
              "                                                    Event tag\n",
              "Category                                                     \n",
              "business-events                                           476\n",
              "business-events,entertainment                               6\n",
              "business-events,festival                                   17\n",
              "business-events,festival,entertainment                      1\n",
              "business-events,festival,recreation                         1\n",
              "...                                                       ...\n",
              "tour,recreation,entertainment                               5\n",
              "tour,yarmarki-razvlecheniya-yarmarki,entertainment          3\n",
              "yarmarki-razvlecheniya-yarmarki                             5\n",
              "yarmarki-razvlecheniya-yarmarki,entertainment             763\n",
              "yarmarki-razvlecheniya-yarmarki,recreation,ente...          2\n",
              "\n",
              "[1431 rows x 1 columns]"
            ]
          },
          "metadata": {
            "tags": []
          },
          "execution_count": 18
        }
      ]
    },
    {
      "cell_type": "markdown",
      "metadata": {
        "id": "DExkwjM0nWLK"
      },
      "source": [
        "Firstly, let's not use events of multiple categories\n"
      ]
    },
    {
      "cell_type": "code",
      "metadata": {
        "colab": {
          "base_uri": "https://localhost:8080/",
          "height": 726
        },
        "id": "Kp7cqSsklhw8",
        "outputId": "ab97c879-ef30-4875-fc68-83048f98b7db"
      },
      "source": [
        "#checking how many events we have for each category\n",
        "df_new = df[~df['Category'].str.contains(',', na=False)]\n",
        "df_new.groupby(['Category']).count()"
      ],
      "execution_count": 19,
      "outputs": [
        {
          "output_type": "execute_result",
          "data": {
            "text/html": [
              "<div>\n",
              "<style scoped>\n",
              "    .dataframe tbody tr th:only-of-type {\n",
              "        vertical-align: middle;\n",
              "    }\n",
              "\n",
              "    .dataframe tbody tr th {\n",
              "        vertical-align: top;\n",
              "    }\n",
              "\n",
              "    .dataframe thead th {\n",
              "        text-align: right;\n",
              "    }\n",
              "</style>\n",
              "<table border=\"1\" class=\"dataframe\">\n",
              "  <thead>\n",
              "    <tr style=\"text-align: right;\">\n",
              "      <th></th>\n",
              "      <th>Event tag</th>\n",
              "    </tr>\n",
              "    <tr>\n",
              "      <th>Category</th>\n",
              "      <th></th>\n",
              "    </tr>\n",
              "  </thead>\n",
              "  <tbody>\n",
              "    <tr>\n",
              "      <th>business-events</th>\n",
              "      <td>476</td>\n",
              "    </tr>\n",
              "    <tr>\n",
              "      <th>cinema</th>\n",
              "      <td>106</td>\n",
              "    </tr>\n",
              "    <tr>\n",
              "      <th>concert</th>\n",
              "      <td>56347</td>\n",
              "    </tr>\n",
              "    <tr>\n",
              "      <th>education</th>\n",
              "      <td>10641</td>\n",
              "    </tr>\n",
              "    <tr>\n",
              "      <th>entertainment</th>\n",
              "      <td>2625</td>\n",
              "    </tr>\n",
              "    <tr>\n",
              "      <th>exhibition</th>\n",
              "      <td>15125</td>\n",
              "    </tr>\n",
              "    <tr>\n",
              "      <th>fashion</th>\n",
              "      <td>125</td>\n",
              "    </tr>\n",
              "    <tr>\n",
              "      <th>festival</th>\n",
              "      <td>4040</td>\n",
              "    </tr>\n",
              "    <tr>\n",
              "      <th>holiday</th>\n",
              "      <td>835</td>\n",
              "    </tr>\n",
              "    <tr>\n",
              "      <th>kids</th>\n",
              "      <td>571</td>\n",
              "    </tr>\n",
              "    <tr>\n",
              "      <th>other</th>\n",
              "      <td>557</td>\n",
              "    </tr>\n",
              "    <tr>\n",
              "      <th>party</th>\n",
              "      <td>4545</td>\n",
              "    </tr>\n",
              "    <tr>\n",
              "      <th>photo</th>\n",
              "      <td>52</td>\n",
              "    </tr>\n",
              "    <tr>\n",
              "      <th>quest</th>\n",
              "      <td>1</td>\n",
              "    </tr>\n",
              "    <tr>\n",
              "      <th>recreation</th>\n",
              "      <td>1754</td>\n",
              "    </tr>\n",
              "    <tr>\n",
              "      <th>shopping</th>\n",
              "      <td>81</td>\n",
              "    </tr>\n",
              "    <tr>\n",
              "      <th>social-activity</th>\n",
              "      <td>142</td>\n",
              "    </tr>\n",
              "    <tr>\n",
              "      <th>stock</th>\n",
              "      <td>9186</td>\n",
              "    </tr>\n",
              "    <tr>\n",
              "      <th>theater</th>\n",
              "      <td>13944</td>\n",
              "    </tr>\n",
              "    <tr>\n",
              "      <th>tour</th>\n",
              "      <td>2718</td>\n",
              "    </tr>\n",
              "    <tr>\n",
              "      <th>yarmarki-razvlecheniya-yarmarki</th>\n",
              "      <td>5</td>\n",
              "    </tr>\n",
              "  </tbody>\n",
              "</table>\n",
              "</div>"
            ],
            "text/plain": [
              "                                 Event tag\n",
              "Category                                  \n",
              "business-events                        476\n",
              "cinema                                 106\n",
              "concert                              56347\n",
              "education                            10641\n",
              "entertainment                         2625\n",
              "exhibition                           15125\n",
              "fashion                                125\n",
              "festival                              4040\n",
              "holiday                                835\n",
              "kids                                   571\n",
              "other                                  557\n",
              "party                                 4545\n",
              "photo                                   52\n",
              "quest                                    1\n",
              "recreation                            1754\n",
              "shopping                                81\n",
              "social-activity                        142\n",
              "stock                                 9186\n",
              "theater                              13944\n",
              "tour                                  2718\n",
              "yarmarki-razvlecheniya-yarmarki          5"
            ]
          },
          "metadata": {
            "tags": []
          },
          "execution_count": 19
        }
      ]
    },
    {
      "cell_type": "code",
      "metadata": {
        "colab": {
          "base_uri": "https://localhost:8080/"
        },
        "id": "FqOVxaQ1n0Q8",
        "outputId": "7faf6720-f915-4ebb-9510-55fbfbfd1e3c"
      },
      "source": [
        "#concatenation of all tags for each category\n",
        "df_grouped = df_new.groupby(['Category']).apply(lambda x: ','.join(x['Event tag']))\n",
        "df_grouped.head()"
      ],
      "execution_count": 20,
      "outputs": [
        {
          "output_type": "execute_result",
          "data": {
            "text/plain": [
              "Category\n",
              "business-events    12+,события для бизнеса,события для бизнеса,со...\n",
              "cinema             кинопоказы,12+,кино (развлечения),кино (развле...\n",
              "concert            рэп и хип-хоп,концерты,16+,концерты,альтернати...\n",
              "education          обучение,16+,лучшее,искусство,обучение,12+,рис...\n",
              "entertainment      игры,развлечения,16+,шоу,лучшее в театрах,разв...\n",
              "dtype: object"
            ]
          },
          "metadata": {
            "tags": []
          },
          "execution_count": 20
        }
      ]
    },
    {
      "cell_type": "code",
      "metadata": {
        "id": "y9dFcb_npeTc"
      },
      "source": [
        "#We want to know which tags (rows) were used for which categories (columns) and how many times (data in cells)\n",
        "#To do it we create DataFrame from the dict of subdicts: one subdict for one category, each subdict maps tag to number of tag's usages \n",
        "dict_lists = dict()\n",
        "for index in df_grouped.index:\n",
        "  temp = df_grouped.get(index).rsplit(',')\n",
        "  one_dict = {i:temp.count(i) for i in temp}\n",
        "  dict_lists[index]=(one_dict)\n"
      ],
      "execution_count": 21,
      "outputs": []
    },
    {
      "cell_type": "code",
      "metadata": {
        "id": "Ve8DLQov14nK"
      },
      "source": [
        "#final statistics DataFrame\n",
        "df_final = pd.DataFrame(dict_lists).fillna(0)"
      ],
      "execution_count": 28,
      "outputs": []
    },
    {
      "cell_type": "code",
      "metadata": {
        "colab": {
          "base_uri": "https://localhost:8080/"
        },
        "id": "0P6_JPyQJOAB",
        "outputId": "ffa4ded0-f1b4-4572-983c-dd83d75dd059"
      },
      "source": [
        "!pip install supervenn"
      ],
      "execution_count": 29,
      "outputs": [
        {
          "output_type": "stream",
          "text": [
            "Collecting supervenn\n",
            "  Downloading supervenn-0.4.1-py3-none-any.whl (16 kB)\n",
            "Requirement already satisfied: numpy in /usr/local/lib/python3.7/dist-packages (from supervenn) (1.19.5)\n",
            "Requirement already satisfied: matplotlib>=2.2.5 in /usr/local/lib/python3.7/dist-packages (from supervenn) (3.2.2)\n",
            "Requirement already satisfied: pyparsing!=2.0.4,!=2.1.2,!=2.1.6,>=2.0.1 in /usr/local/lib/python3.7/dist-packages (from matplotlib>=2.2.5->supervenn) (2.4.7)\n",
            "Requirement already satisfied: kiwisolver>=1.0.1 in /usr/local/lib/python3.7/dist-packages (from matplotlib>=2.2.5->supervenn) (1.3.1)\n",
            "Requirement already satisfied: cycler>=0.10 in /usr/local/lib/python3.7/dist-packages (from matplotlib>=2.2.5->supervenn) (0.10.0)\n",
            "Requirement already satisfied: python-dateutil>=2.1 in /usr/local/lib/python3.7/dist-packages (from matplotlib>=2.2.5->supervenn) (2.8.1)\n",
            "Requirement already satisfied: six in /usr/local/lib/python3.7/dist-packages (from cycler>=0.10->matplotlib>=2.2.5->supervenn) (1.15.0)\n",
            "Installing collected packages: supervenn\n",
            "Successfully installed supervenn-0.4.1\n"
          ],
          "name": "stdout"
        }
      ]
    },
    {
      "cell_type": "code",
      "metadata": {
        "id": "EUMQeMctxcnd"
      },
      "source": [
        "from supervenn import supervenn"
      ],
      "execution_count": 30,
      "outputs": []
    },
    {
      "cell_type": "code",
      "metadata": {
        "id": "oZ7d0cPHx7Lv"
      },
      "source": [
        "#labels are categories\n",
        "labels = list(df_final.columns)\n",
        "#sets are tags\n",
        "sets = []\n",
        "for index in df_grouped.index:\n",
        "  temp = df_grouped.get(index).rsplit(',')\n",
        "  sets.append(set(temp))"
      ],
      "execution_count": 31,
      "outputs": []
    },
    {
      "cell_type": "code",
      "metadata": {
        "id": "Dkh5cpH772nO"
      },
      "source": [
        "#to find intersections of categories we don't consider unique tags\n",
        "new_sets = []\n",
        "for i in range(len(sets)):\n",
        "  temp_list = []\n",
        "  for j in range(len(sets)):\n",
        "    #avoiding comparing with the same set\n",
        "    if i == j:\n",
        "      continue\n",
        "    #we collect not unique tags into list\n",
        "    temp_list.extend(sets[i] & sets[j])\n",
        "  #now we need to convert our collection to set\n",
        "  new_sets.append(set(temp_list))"
      ],
      "execution_count": 32,
      "outputs": []
    },
    {
      "cell_type": "code",
      "metadata": {
        "colab": {
          "base_uri": "https://localhost:8080/",
          "height": 829
        },
        "id": "k8nY5VhPyjVl",
        "outputId": "4e37772e-5482-4f31-a374-1584bbe55c4d"
      },
      "source": [
        "#visualize data with method from https://habr.com/ru/company/yandex/blog/501924/\n",
        "import matplotlib.pyplot as plt\n",
        "plt.figure(figsize=(22, 14))\n",
        "plt.xlabel('Event tags')\n",
        "plt.ylabel('Categories')\n",
        "supervenn(sets, labels, side_plots=False, chunks_ordering='minimize gaps', sets_ordering='minimize gaps', widths_minmax_ratio=0.05, min_width_for_annotation=4)"
      ],
      "execution_count": 37,
      "outputs": [
        {
          "output_type": "execute_result",
          "data": {
            "text/plain": [
              "<supervenn._plots.SupervennPlot at 0x7f68e9b450d0>"
            ]
          },
          "metadata": {
            "tags": []
          },
          "execution_count": 37
        },
        {
          "output_type": "display_data",
          "data": {
            "image/png": "[encoded data removed]",
            "text/plain": [
              "<Figure size 1584x1008 with 1 Axes>"
            ]
          },
          "metadata": {
            "tags": [],
            "needs_background": "light"
          }
        }
      ]
    }
  ]
}