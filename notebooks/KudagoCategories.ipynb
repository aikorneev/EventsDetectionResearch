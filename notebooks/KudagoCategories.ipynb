{
  "nbformat": 4,
  "nbformat_minor": 0,
  "metadata": {
    "colab": {
      "name": "KudagoCategories.ipynb",
      "provenance": [],
      "collapsed_sections": [],
      "toc_visible": true
    },
    "kernelspec": {
      "name": "python3",
      "display_name": "Python 3"
    },
    "language_info": {
      "name": "python"
    }
  },
  "cells": [
    {
      "cell_type": "markdown",
      "metadata": {
        "id": "2G-HUlclewMq"
      },
      "source": [
        "### KUDAGO categories relation\n",
        "Goal - to estimate relations between different kudago categories.\n",
        "\n",
        "to do: \n"
      ]
    },
    {
      "cell_type": "code",
      "metadata": {
        "colab": {
          "base_uri": "https://localhost:8080/"
        },
        "id": "zq3nEoQ-fAFt",
        "outputId": "3f5df85d-e98b-42fd-b925-a425eb14a6fa"
      },
      "source": [
        "#connection to google drive\n",
        "from google.colab import drive\n",
        "drive.mount('/content/drive')"
      ],
      "execution_count": 1,
      "outputs": [
        {
          "output_type": "stream",
          "text": [
            "Drive already mounted at /content/drive; to attempt to forcibly remount, call drive.mount(\"/content/drive\", force_remount=True).\n"
          ],
          "name": "stdout"
        }
      ]
    },
    {
      "cell_type": "code",
      "metadata": {
        "id": "0nSPmDAle5x4"
      },
      "source": [
        "#read dataset\n",
        "import pandas as pd\n",
        "DATA0 = pd.read_csv(\"/content/drive/My Drive/Multi-scale events detection/kudago/403-497_clean.csv\", delimiter=';', encoding='cp1251', error_bad_lines=False)\n",
        "DATA1 = pd.read_csv(\"/content/drive/My Drive/Multi-scale events detection/kudago/1-402_clean.csv\", delimiter=';', encoding='cp1251', error_bad_lines=False)\n",
        "DATA2 = pd.read_csv(\"/content/drive/My Drive/Multi-scale events detection/kudago/497-1653_clean.csv\", delimiter=';', encoding='cp1251', error_bad_lines=False)\n",
        "DATA = pd.concat([DATA0,DATA1,DATA2])"
      ],
      "execution_count": 2,
      "outputs": []
    },
    {
      "cell_type": "code",
      "metadata": {
        "colab": {
          "base_uri": "https://localhost:8080/"
        },
        "id": "NrNhw_yi-J7G",
        "outputId": "3ea0a48f-318e-432c-9403-6f358b4aa322"
      },
      "source": [
        "print('Event amount', DATA.shape[0])"
      ],
      "execution_count": 3,
      "outputs": [
        {
          "output_type": "stream",
          "text": [
            "Event amount 165565\n"
          ],
          "name": "stdout"
        }
      ]
    },
    {
      "cell_type": "markdown",
      "metadata": {
        "id": "eJqeqBcgikVf"
      },
      "source": [
        "## First step: analyzing event tags"
      ]
    },
    {
      "cell_type": "markdown",
      "metadata": {
        "id": "w9iFg7VcC16D"
      },
      "source": [
        "# Preprocessing"
      ]
    },
    {
      "cell_type": "code",
      "metadata": {
        "id": "rrvlXly2ibqx"
      },
      "source": [
        "#cut the table\n",
        "df = DATA[['Category', 'Event tag']]"
      ],
      "execution_count": 4,
      "outputs": []
    },
    {
      "cell_type": "code",
      "metadata": {
        "colab": {
          "base_uri": "https://localhost:8080/",
          "height": 447
        },
        "id": "t6YXai5UkY3x",
        "outputId": "1aa069eb-9654-4c6e-82ce-f7f7a0a1183a"
      },
      "source": [
        "#checking what kind of categories we have\n",
        "df.groupby(['Category']).count()\n"
      ],
      "execution_count": 5,
      "outputs": [
        {
          "output_type": "execute_result",
          "data": {
            "text/html": [
              "<div>\n",
              "<style scoped>\n",
              "    .dataframe tbody tr th:only-of-type {\n",
              "        vertical-align: middle;\n",
              "    }\n",
              "\n",
              "    .dataframe tbody tr th {\n",
              "        vertical-align: top;\n",
              "    }\n",
              "\n",
              "    .dataframe thead th {\n",
              "        text-align: right;\n",
              "    }\n",
              "</style>\n",
              "<table border=\"1\" class=\"dataframe\">\n",
              "  <thead>\n",
              "    <tr style=\"text-align: right;\">\n",
              "      <th></th>\n",
              "      <th>Event tag</th>\n",
              "    </tr>\n",
              "    <tr>\n",
              "      <th>Category</th>\n",
              "      <th></th>\n",
              "    </tr>\n",
              "  </thead>\n",
              "  <tbody>\n",
              "    <tr>\n",
              "      <th>business-events</th>\n",
              "      <td>476</td>\n",
              "    </tr>\n",
              "    <tr>\n",
              "      <th>business-events,entertainment</th>\n",
              "      <td>6</td>\n",
              "    </tr>\n",
              "    <tr>\n",
              "      <th>business-events,festival</th>\n",
              "      <td>17</td>\n",
              "    </tr>\n",
              "    <tr>\n",
              "      <th>business-events,festival,entertainment</th>\n",
              "      <td>1</td>\n",
              "    </tr>\n",
              "    <tr>\n",
              "      <th>business-events,festival,recreation</th>\n",
              "      <td>1</td>\n",
              "    </tr>\n",
              "    <tr>\n",
              "      <th>...</th>\n",
              "      <td>...</td>\n",
              "    </tr>\n",
              "    <tr>\n",
              "      <th>tour,recreation,entertainment</th>\n",
              "      <td>5</td>\n",
              "    </tr>\n",
              "    <tr>\n",
              "      <th>tour,yarmarki-razvlecheniya-yarmarki,entertainment</th>\n",
              "      <td>3</td>\n",
              "    </tr>\n",
              "    <tr>\n",
              "      <th>yarmarki-razvlecheniya-yarmarki</th>\n",
              "      <td>5</td>\n",
              "    </tr>\n",
              "    <tr>\n",
              "      <th>yarmarki-razvlecheniya-yarmarki,entertainment</th>\n",
              "      <td>763</td>\n",
              "    </tr>\n",
              "    <tr>\n",
              "      <th>yarmarki-razvlecheniya-yarmarki,recreation,entertainment</th>\n",
              "      <td>2</td>\n",
              "    </tr>\n",
              "  </tbody>\n",
              "</table>\n",
              "<p>1431 rows × 1 columns</p>\n",
              "</div>"
            ],
            "text/plain": [
              "                                                    Event tag\n",
              "Category                                                     \n",
              "business-events                                           476\n",
              "business-events,entertainment                               6\n",
              "business-events,festival                                   17\n",
              "business-events,festival,entertainment                      1\n",
              "business-events,festival,recreation                         1\n",
              "...                                                       ...\n",
              "tour,recreation,entertainment                               5\n",
              "tour,yarmarki-razvlecheniya-yarmarki,entertainment          3\n",
              "yarmarki-razvlecheniya-yarmarki                             5\n",
              "yarmarki-razvlecheniya-yarmarki,entertainment             763\n",
              "yarmarki-razvlecheniya-yarmarki,recreation,ente...          2\n",
              "\n",
              "[1431 rows x 1 columns]"
            ]
          },
          "metadata": {
            "tags": []
          },
          "execution_count": 5
        }
      ]
    },
    {
      "cell_type": "markdown",
      "metadata": {
        "id": "DExkwjM0nWLK"
      },
      "source": [
        "Firstly, let's not use events of multiple categories\n"
      ]
    },
    {
      "cell_type": "code",
      "metadata": {
        "colab": {
          "base_uri": "https://localhost:8080/",
          "height": 726
        },
        "id": "Kp7cqSsklhw8",
        "outputId": "3b529da7-e8dd-4d9c-cd0c-8b2ea915eeea"
      },
      "source": [
        "#checking how many events we have for each category\n",
        "df_new = df[~df['Category'].str.contains(',', na=False)]\n",
        "df_new.groupby(['Category']).count()"
      ],
      "execution_count": 6,
      "outputs": [
        {
          "output_type": "execute_result",
          "data": {
            "text/html": [
              "<div>\n",
              "<style scoped>\n",
              "    .dataframe tbody tr th:only-of-type {\n",
              "        vertical-align: middle;\n",
              "    }\n",
              "\n",
              "    .dataframe tbody tr th {\n",
              "        vertical-align: top;\n",
              "    }\n",
              "\n",
              "    .dataframe thead th {\n",
              "        text-align: right;\n",
              "    }\n",
              "</style>\n",
              "<table border=\"1\" class=\"dataframe\">\n",
              "  <thead>\n",
              "    <tr style=\"text-align: right;\">\n",
              "      <th></th>\n",
              "      <th>Event tag</th>\n",
              "    </tr>\n",
              "    <tr>\n",
              "      <th>Category</th>\n",
              "      <th></th>\n",
              "    </tr>\n",
              "  </thead>\n",
              "  <tbody>\n",
              "    <tr>\n",
              "      <th>business-events</th>\n",
              "      <td>476</td>\n",
              "    </tr>\n",
              "    <tr>\n",
              "      <th>cinema</th>\n",
              "      <td>106</td>\n",
              "    </tr>\n",
              "    <tr>\n",
              "      <th>concert</th>\n",
              "      <td>56347</td>\n",
              "    </tr>\n",
              "    <tr>\n",
              "      <th>education</th>\n",
              "      <td>10641</td>\n",
              "    </tr>\n",
              "    <tr>\n",
              "      <th>entertainment</th>\n",
              "      <td>2625</td>\n",
              "    </tr>\n",
              "    <tr>\n",
              "      <th>exhibition</th>\n",
              "      <td>15125</td>\n",
              "    </tr>\n",
              "    <tr>\n",
              "      <th>fashion</th>\n",
              "      <td>125</td>\n",
              "    </tr>\n",
              "    <tr>\n",
              "      <th>festival</th>\n",
              "      <td>4040</td>\n",
              "    </tr>\n",
              "    <tr>\n",
              "      <th>holiday</th>\n",
              "      <td>835</td>\n",
              "    </tr>\n",
              "    <tr>\n",
              "      <th>kids</th>\n",
              "      <td>571</td>\n",
              "    </tr>\n",
              "    <tr>\n",
              "      <th>other</th>\n",
              "      <td>557</td>\n",
              "    </tr>\n",
              "    <tr>\n",
              "      <th>party</th>\n",
              "      <td>4545</td>\n",
              "    </tr>\n",
              "    <tr>\n",
              "      <th>photo</th>\n",
              "      <td>52</td>\n",
              "    </tr>\n",
              "    <tr>\n",
              "      <th>quest</th>\n",
              "      <td>1</td>\n",
              "    </tr>\n",
              "    <tr>\n",
              "      <th>recreation</th>\n",
              "      <td>1754</td>\n",
              "    </tr>\n",
              "    <tr>\n",
              "      <th>shopping</th>\n",
              "      <td>81</td>\n",
              "    </tr>\n",
              "    <tr>\n",
              "      <th>social-activity</th>\n",
              "      <td>142</td>\n",
              "    </tr>\n",
              "    <tr>\n",
              "      <th>stock</th>\n",
              "      <td>9186</td>\n",
              "    </tr>\n",
              "    <tr>\n",
              "      <th>theater</th>\n",
              "      <td>13944</td>\n",
              "    </tr>\n",
              "    <tr>\n",
              "      <th>tour</th>\n",
              "      <td>2718</td>\n",
              "    </tr>\n",
              "    <tr>\n",
              "      <th>yarmarki-razvlecheniya-yarmarki</th>\n",
              "      <td>5</td>\n",
              "    </tr>\n",
              "  </tbody>\n",
              "</table>\n",
              "</div>"
            ],
            "text/plain": [
              "                                 Event tag\n",
              "Category                                  \n",
              "business-events                        476\n",
              "cinema                                 106\n",
              "concert                              56347\n",
              "education                            10641\n",
              "entertainment                         2625\n",
              "exhibition                           15125\n",
              "fashion                                125\n",
              "festival                              4040\n",
              "holiday                                835\n",
              "kids                                   571\n",
              "other                                  557\n",
              "party                                 4545\n",
              "photo                                   52\n",
              "quest                                    1\n",
              "recreation                            1754\n",
              "shopping                                81\n",
              "social-activity                        142\n",
              "stock                                 9186\n",
              "theater                              13944\n",
              "tour                                  2718\n",
              "yarmarki-razvlecheniya-yarmarki          5"
            ]
          },
          "metadata": {
            "tags": []
          },
          "execution_count": 6
        }
      ]
    },
    {
      "cell_type": "code",
      "metadata": {
        "id": "FqOVxaQ1n0Q8"
      },
      "source": [
        "#concatenation of all tags for each category\n",
        "df_grouped = df_new.groupby(['Category']).apply(lambda x: ','.join(x['Event tag']))"
      ],
      "execution_count": 30,
      "outputs": []
    },
    {
      "cell_type": "code",
      "metadata": {
        "colab": {
          "base_uri": "https://localhost:8080/"
        },
        "id": "dzsbwmaEVr-s",
        "outputId": "68eea4b7-8eb5-4b8a-e132-450761764f50"
      },
      "source": [
        "#here we remove categories of kudago, which we will not use for events detecting task \n",
        "df_grouped = df_grouped.drop(['quest', 'yarmarki-razvlecheniya-yarmarki','other'], axis=0)\n",
        "df_grouped"
      ],
      "execution_count": 31,
      "outputs": [
        {
          "output_type": "execute_result",
          "data": {
            "text/plain": [
              "Category\n",
              "business-events    12+,события для бизнеса,события для бизнеса,со...\n",
              "cinema             кинопоказы,12+,кино (развлечения),кино (развле...\n",
              "concert            рэп и хип-хоп,концерты,16+,концерты,альтернати...\n",
              "education          обучение,16+,лучшее,искусство,обучение,12+,рис...\n",
              "entertainment      игры,развлечения,16+,шоу,лучшее в театрах,разв...\n",
              "exhibition         выставки,картины, живопись, графика,выставки,к...\n",
              "fashion            мода и стиль,шоурумы,красота и здоровье,тренин...\n",
              "festival           фестивали,городские,free,культура и искусство,...\n",
              "holiday            животные,тематические праздники,выходные,празд...\n",
              "kids               12+,детские лагеря,лучшее в мае,детям,детские ...\n",
              "party              18+,танцевальная,вечеринки,электронная музыка,...\n",
              "photo              животные,фотография,интересное,всей семьей,fre...\n",
              "recreation         отдых,18+,спорт и фитнес,хоккей,6+,отдых,отдых...\n",
              "shopping           шопинг (магазины),free,шопинг (магазины),книги...\n",
              "social-activity    благотворительность,6+,free,год экологии,благо...\n",
              "stock              лучшее,акции и скидки,16+,акции и скидки,акции...\n",
              "theater            экспериментальный театр,современная драматурги...\n",
              "tour               пешеходные,12+,тематические,экскурсии,пешеходн...\n",
              "dtype: object"
            ]
          },
          "metadata": {
            "tags": []
          },
          "execution_count": 31
        }
      ]
    },
    {
      "cell_type": "code",
      "metadata": {
        "colab": {
          "base_uri": "https://localhost:8080/"
        },
        "id": "31-k874XLHEx",
        "outputId": "49cf8605-2b24-4f43-90e0-6b3ce3e81790"
      },
      "source": [
        "#the next cell is very time expensive, we check if we have a file with it\n",
        "import os\n",
        "check_file = False\n",
        "if os.path.exists('/content/drive/My Drive/Colab Notebooks/kudago_tags.pkl'):\n",
        "  check_file = True\n",
        "  df_final = pd.read_pickle('/content/drive/My Drive/Colab Notebooks/kudago_tags.pkl')\n",
        "check_file"
      ],
      "execution_count": 33,
      "outputs": [
        {
          "output_type": "execute_result",
          "data": {
            "text/plain": [
              "True"
            ]
          },
          "metadata": {
            "tags": []
          },
          "execution_count": 33
        }
      ]
    },
    {
      "cell_type": "code",
      "metadata": {
        "id": "y9dFcb_npeTc",
        "colab": {
          "base_uri": "https://localhost:8080/"
        },
        "outputId": "ce1cd93f-d88b-4993-fce9-ef0541beadae"
      },
      "source": [
        "#We want to know which tags (rows) were used for which categories (columns) and how many times (data in cells)\n",
        "#To do it we create DataFrame from the dict of subdicts: one subdict for one category, each subdict maps tag to number of tag's usages \n",
        "if check_file == False:\n",
        "  dict_lists = dict()\n",
        "  for index in df_grouped.index:\n",
        "    temp = df_grouped.get(index).rsplit(',')\n",
        "    one_dict = {i:temp.count(i) for i in temp}\n",
        "    dict_lists[index]=(one_dict)\n",
        "  #final statistics DataFrame\n",
        "  df_final = pd.DataFrame(dict_lists).fillna(0)\n",
        "else:\n",
        "  print('File was found')"
      ],
      "execution_count": 38,
      "outputs": [
        {
          "output_type": "stream",
          "text": [
            "File was found\n"
          ],
          "name": "stdout"
        }
      ]
    },
    {
      "cell_type": "code",
      "metadata": {
        "colab": {
          "base_uri": "https://localhost:8080/",
          "height": 504
        },
        "id": "Ve8DLQov14nK",
        "outputId": "6c8f747e-bb43-461b-a91f-eba6bda7a9e2"
      },
      "source": [
        "df_final"
      ],
      "execution_count": 39,
      "outputs": [
        {
          "output_type": "execute_result",
          "data": {
            "text/html": [
              "<div>\n",
              "<style scoped>\n",
              "    .dataframe tbody tr th:only-of-type {\n",
              "        vertical-align: middle;\n",
              "    }\n",
              "\n",
              "    .dataframe tbody tr th {\n",
              "        vertical-align: top;\n",
              "    }\n",
              "\n",
              "    .dataframe thead th {\n",
              "        text-align: right;\n",
              "    }\n",
              "</style>\n",
              "<table border=\"1\" class=\"dataframe\">\n",
              "  <thead>\n",
              "    <tr style=\"text-align: right;\">\n",
              "      <th></th>\n",
              "      <th>business-events</th>\n",
              "      <th>cinema</th>\n",
              "      <th>concert</th>\n",
              "      <th>education</th>\n",
              "      <th>entertainment</th>\n",
              "      <th>exhibition</th>\n",
              "      <th>fashion</th>\n",
              "      <th>festival</th>\n",
              "      <th>holiday</th>\n",
              "      <th>kids</th>\n",
              "      <th>party</th>\n",
              "      <th>photo</th>\n",
              "      <th>recreation</th>\n",
              "      <th>shopping</th>\n",
              "      <th>social-activity</th>\n",
              "      <th>stock</th>\n",
              "      <th>theater</th>\n",
              "      <th>tour</th>\n",
              "    </tr>\n",
              "  </thead>\n",
              "  <tbody>\n",
              "    <tr>\n",
              "      <th>12+</th>\n",
              "      <td>12.0</td>\n",
              "      <td>10.0</td>\n",
              "      <td>10786.0</td>\n",
              "      <td>1526.0</td>\n",
              "      <td>207.0</td>\n",
              "      <td>971.0</td>\n",
              "      <td>4.0</td>\n",
              "      <td>283.0</td>\n",
              "      <td>15.0</td>\n",
              "      <td>36.0</td>\n",
              "      <td>22.0</td>\n",
              "      <td>1.0</td>\n",
              "      <td>210.0</td>\n",
              "      <td>0.0</td>\n",
              "      <td>3.0</td>\n",
              "      <td>663.0</td>\n",
              "      <td>3661.0</td>\n",
              "      <td>602.0</td>\n",
              "    </tr>\n",
              "    <tr>\n",
              "      <th>события для бизнеса</th>\n",
              "      <td>476.0</td>\n",
              "      <td>0.0</td>\n",
              "      <td>0.0</td>\n",
              "      <td>0.0</td>\n",
              "      <td>0.0</td>\n",
              "      <td>0.0</td>\n",
              "      <td>0.0</td>\n",
              "      <td>0.0</td>\n",
              "      <td>0.0</td>\n",
              "      <td>0.0</td>\n",
              "      <td>0.0</td>\n",
              "      <td>0.0</td>\n",
              "      <td>0.0</td>\n",
              "      <td>0.0</td>\n",
              "      <td>0.0</td>\n",
              "      <td>0.0</td>\n",
              "      <td>0.0</td>\n",
              "      <td>0.0</td>\n",
              "    </tr>\n",
              "    <tr>\n",
              "      <th>18+</th>\n",
              "      <td>167.0</td>\n",
              "      <td>67.0</td>\n",
              "      <td>14700.0</td>\n",
              "      <td>1932.0</td>\n",
              "      <td>556.0</td>\n",
              "      <td>401.0</td>\n",
              "      <td>11.0</td>\n",
              "      <td>427.0</td>\n",
              "      <td>39.0</td>\n",
              "      <td>0.0</td>\n",
              "      <td>3527.0</td>\n",
              "      <td>3.0</td>\n",
              "      <td>176.0</td>\n",
              "      <td>0.0</td>\n",
              "      <td>19.0</td>\n",
              "      <td>3497.0</td>\n",
              "      <td>1978.0</td>\n",
              "      <td>150.0</td>\n",
              "    </tr>\n",
              "    <tr>\n",
              "      <th>free</th>\n",
              "      <td>135.0</td>\n",
              "      <td>29.0</td>\n",
              "      <td>2594.0</td>\n",
              "      <td>2681.0</td>\n",
              "      <td>356.0</td>\n",
              "      <td>4051.0</td>\n",
              "      <td>29.0</td>\n",
              "      <td>1653.0</td>\n",
              "      <td>315.0</td>\n",
              "      <td>122.0</td>\n",
              "      <td>1177.0</td>\n",
              "      <td>12.0</td>\n",
              "      <td>348.0</td>\n",
              "      <td>42.0</td>\n",
              "      <td>81.0</td>\n",
              "      <td>168.0</td>\n",
              "      <td>435.0</td>\n",
              "      <td>164.0</td>\n",
              "    </tr>\n",
              "    <tr>\n",
              "      <th>16+</th>\n",
              "      <td>70.0</td>\n",
              "      <td>11.0</td>\n",
              "      <td>11108.0</td>\n",
              "      <td>2094.0</td>\n",
              "      <td>286.0</td>\n",
              "      <td>454.0</td>\n",
              "      <td>14.0</td>\n",
              "      <td>303.0</td>\n",
              "      <td>9.0</td>\n",
              "      <td>0.0</td>\n",
              "      <td>123.0</td>\n",
              "      <td>0.0</td>\n",
              "      <td>128.0</td>\n",
              "      <td>4.0</td>\n",
              "      <td>7.0</td>\n",
              "      <td>908.0</td>\n",
              "      <td>5364.0</td>\n",
              "      <td>102.0</td>\n",
              "    </tr>\n",
              "    <tr>\n",
              "      <th>...</th>\n",
              "      <td>...</td>\n",
              "      <td>...</td>\n",
              "      <td>...</td>\n",
              "      <td>...</td>\n",
              "      <td>...</td>\n",
              "      <td>...</td>\n",
              "      <td>...</td>\n",
              "      <td>...</td>\n",
              "      <td>...</td>\n",
              "      <td>...</td>\n",
              "      <td>...</td>\n",
              "      <td>...</td>\n",
              "      <td>...</td>\n",
              "      <td>...</td>\n",
              "      <td>...</td>\n",
              "      <td>...</td>\n",
              "      <td>...</td>\n",
              "      <td>...</td>\n",
              "    </tr>\n",
              "    <tr>\n",
              "      <th>погода</th>\n",
              "      <td>0.0</td>\n",
              "      <td>0.0</td>\n",
              "      <td>0.0</td>\n",
              "      <td>0.0</td>\n",
              "      <td>0.0</td>\n",
              "      <td>0.0</td>\n",
              "      <td>0.0</td>\n",
              "      <td>0.0</td>\n",
              "      <td>0.0</td>\n",
              "      <td>0.0</td>\n",
              "      <td>0.0</td>\n",
              "      <td>0.0</td>\n",
              "      <td>0.0</td>\n",
              "      <td>0.0</td>\n",
              "      <td>0.0</td>\n",
              "      <td>0.0</td>\n",
              "      <td>0.0</td>\n",
              "      <td>1.0</td>\n",
              "    </tr>\n",
              "    <tr>\n",
              "      <th>эзотерика</th>\n",
              "      <td>0.0</td>\n",
              "      <td>0.0</td>\n",
              "      <td>0.0</td>\n",
              "      <td>0.0</td>\n",
              "      <td>0.0</td>\n",
              "      <td>0.0</td>\n",
              "      <td>0.0</td>\n",
              "      <td>0.0</td>\n",
              "      <td>0.0</td>\n",
              "      <td>0.0</td>\n",
              "      <td>0.0</td>\n",
              "      <td>0.0</td>\n",
              "      <td>0.0</td>\n",
              "      <td>0.0</td>\n",
              "      <td>0.0</td>\n",
              "      <td>0.0</td>\n",
              "      <td>0.0</td>\n",
              "      <td>1.0</td>\n",
              "    </tr>\n",
              "    <tr>\n",
              "      <th>блошиные рынки</th>\n",
              "      <td>0.0</td>\n",
              "      <td>0.0</td>\n",
              "      <td>0.0</td>\n",
              "      <td>0.0</td>\n",
              "      <td>0.0</td>\n",
              "      <td>0.0</td>\n",
              "      <td>0.0</td>\n",
              "      <td>0.0</td>\n",
              "      <td>0.0</td>\n",
              "      <td>0.0</td>\n",
              "      <td>0.0</td>\n",
              "      <td>0.0</td>\n",
              "      <td>0.0</td>\n",
              "      <td>0.0</td>\n",
              "      <td>0.0</td>\n",
              "      <td>0.0</td>\n",
              "      <td>0.0</td>\n",
              "      <td>1.0</td>\n",
              "    </tr>\n",
              "    <tr>\n",
              "      <th>ярмарки (развлечения</th>\n",
              "      <td>0.0</td>\n",
              "      <td>0.0</td>\n",
              "      <td>0.0</td>\n",
              "      <td>0.0</td>\n",
              "      <td>0.0</td>\n",
              "      <td>0.0</td>\n",
              "      <td>0.0</td>\n",
              "      <td>0.0</td>\n",
              "      <td>0.0</td>\n",
              "      <td>0.0</td>\n",
              "      <td>0.0</td>\n",
              "      <td>0.0</td>\n",
              "      <td>0.0</td>\n",
              "      <td>0.0</td>\n",
              "      <td>0.0</td>\n",
              "      <td>0.0</td>\n",
              "      <td>0.0</td>\n",
              "      <td>0.0</td>\n",
              "    </tr>\n",
              "    <tr>\n",
              "      <th>ярмарки)</th>\n",
              "      <td>0.0</td>\n",
              "      <td>0.0</td>\n",
              "      <td>0.0</td>\n",
              "      <td>0.0</td>\n",
              "      <td>0.0</td>\n",
              "      <td>0.0</td>\n",
              "      <td>0.0</td>\n",
              "      <td>0.0</td>\n",
              "      <td>0.0</td>\n",
              "      <td>0.0</td>\n",
              "      <td>0.0</td>\n",
              "      <td>0.0</td>\n",
              "      <td>0.0</td>\n",
              "      <td>0.0</td>\n",
              "      <td>0.0</td>\n",
              "      <td>0.0</td>\n",
              "      <td>0.0</td>\n",
              "      <td>0.0</td>\n",
              "    </tr>\n",
              "  </tbody>\n",
              "</table>\n",
              "<p>1173 rows × 18 columns</p>\n",
              "</div>"
            ],
            "text/plain": [
              "                      business-events  cinema  concert  ...   stock  theater   tour\n",
              "12+                              12.0    10.0  10786.0  ...   663.0   3661.0  602.0\n",
              "события для бизнеса             476.0     0.0      0.0  ...     0.0      0.0    0.0\n",
              "18+                             167.0    67.0  14700.0  ...  3497.0   1978.0  150.0\n",
              "free                            135.0    29.0   2594.0  ...   168.0    435.0  164.0\n",
              "16+                              70.0    11.0  11108.0  ...   908.0   5364.0  102.0\n",
              "...                               ...     ...      ...  ...     ...      ...    ...\n",
              "погода                            0.0     0.0      0.0  ...     0.0      0.0    1.0\n",
              "эзотерика                         0.0     0.0      0.0  ...     0.0      0.0    1.0\n",
              "блошиные рынки                    0.0     0.0      0.0  ...     0.0      0.0    1.0\n",
              "ярмарки (развлечения              0.0     0.0      0.0  ...     0.0      0.0    0.0\n",
              " ярмарки)                         0.0     0.0      0.0  ...     0.0      0.0    0.0\n",
              "\n",
              "[1173 rows x 18 columns]"
            ]
          },
          "metadata": {
            "tags": []
          },
          "execution_count": 39
        }
      ]
    },
    {
      "cell_type": "code",
      "metadata": {
        "colab": {
          "base_uri": "https://localhost:8080/"
        },
        "id": "zrUBAVIFLsRf",
        "outputId": "db457384-70d8-4d94-cbfa-ec9b28c5945f"
      },
      "source": [
        "#save dataframe to file\n",
        "if check_file == False:\n",
        "  df_final.to_pickle(\"/content/drive/My Drive/Colab Notebooks/kudago_tags.pkl\")\n",
        "else:\n",
        "  print('File exists')"
      ],
      "execution_count": 40,
      "outputs": [
        {
          "output_type": "stream",
          "text": [
            "File exists\n"
          ],
          "name": "stdout"
        }
      ]
    },
    {
      "cell_type": "code",
      "metadata": {
        "colab": {
          "base_uri": "https://localhost:8080/"
        },
        "id": "0P6_JPyQJOAB",
        "outputId": "8fad5340-6f79-46de-b55c-4f4c14d12ffc"
      },
      "source": [
        "!pip install supervenn"
      ],
      "execution_count": 23,
      "outputs": [
        {
          "output_type": "stream",
          "text": [
            "Requirement already satisfied: supervenn in /usr/local/lib/python3.7/dist-packages (0.4.1)\n",
            "Requirement already satisfied: numpy in /usr/local/lib/python3.7/dist-packages (from supervenn) (1.19.5)\n",
            "Requirement already satisfied: matplotlib>=2.2.5 in /usr/local/lib/python3.7/dist-packages (from supervenn) (3.2.2)\n",
            "Requirement already satisfied: python-dateutil>=2.1 in /usr/local/lib/python3.7/dist-packages (from matplotlib>=2.2.5->supervenn) (2.8.1)\n",
            "Requirement already satisfied: cycler>=0.10 in /usr/local/lib/python3.7/dist-packages (from matplotlib>=2.2.5->supervenn) (0.10.0)\n",
            "Requirement already satisfied: kiwisolver>=1.0.1 in /usr/local/lib/python3.7/dist-packages (from matplotlib>=2.2.5->supervenn) (1.3.1)\n",
            "Requirement already satisfied: pyparsing!=2.0.4,!=2.1.2,!=2.1.6,>=2.0.1 in /usr/local/lib/python3.7/dist-packages (from matplotlib>=2.2.5->supervenn) (2.4.7)\n",
            "Requirement already satisfied: six in /usr/local/lib/python3.7/dist-packages (from cycler>=0.10->matplotlib>=2.2.5->supervenn) (1.15.0)\n"
          ],
          "name": "stdout"
        }
      ]
    },
    {
      "cell_type": "code",
      "metadata": {
        "id": "oZ7d0cPHx7Lv"
      },
      "source": [
        "#labels are categories\n",
        "labels = list(df_final.columns)\n",
        "#sets are tags\n",
        "sets = []\n",
        "for index in df_grouped.index:\n",
        "  temp = df_grouped.get(index).rsplit(',')\n",
        "  sets.append(set(temp))"
      ],
      "execution_count": 41,
      "outputs": []
    },
    {
      "cell_type": "code",
      "metadata": {
        "id": "Dkh5cpH772nO"
      },
      "source": [
        "#to find intersections of categories we don't consider unique tags\n",
        "new_sets = []\n",
        "for i in range(len(sets)):\n",
        "  temp_list = []\n",
        "  for j in range(len(sets)):\n",
        "    #avoiding comparing with the same set\n",
        "    if i == j:\n",
        "      continue\n",
        "    #we collect not unique tags into list\n",
        "    temp_list.extend(sets[i] & sets[j])\n",
        "  #now we need to convert our collection to set\n",
        "  new_sets.append(set(temp_list))"
      ],
      "execution_count": 42,
      "outputs": []
    },
    {
      "cell_type": "code",
      "metadata": {
        "colab": {
          "base_uri": "https://localhost:8080/",
          "height": 735
        },
        "id": "k8nY5VhPyjVl",
        "outputId": "01b1063c-d89f-440c-f193-a816513405cf"
      },
      "source": [
        "#visualize data with method from https://habr.com/ru/company/yandex/blog/501924/\n",
        "import matplotlib.pyplot as plt\n",
        "from supervenn import supervenn\n",
        "plt.figure(figsize=(22, 14))\n",
        "supervenn(new_sets, labels, side_plots=False, chunks_ordering='size', sets_ordering='size', widths_minmax_ratio=0.05, min_width_for_annotation=4)"
      ],
      "execution_count": 43,
      "outputs": [
        {
          "output_type": "execute_result",
          "data": {
            "text/plain": [
              "<supervenn._plots.SupervennPlot at 0x7f8b05edae90>"
            ]
          },
          "metadata": {
            "tags": []
          },
          "execution_count": 43
        },
        {
          "output_type": "display_data",
          "data": {
            "image/png": "[encoded data removed]",
            "text/plain": [
              "<Figure size 1584x1008 with 1 Axes>"
            ]
          },
          "metadata": {
            "tags": [],
            "needs_background": "light"
          }
        }
      ]
    },
    {
      "cell_type": "markdown",
      "metadata": {
        "id": "97n8NCPrPq4t"
      },
      "source": [
        "Results are good, but not so clean, let's delete very frequent tags"
      ]
    },
    {
      "cell_type": "code",
      "metadata": {
        "id": "lBrdwuRK91jW"
      },
      "source": [
        "#here we check in how many categories the particular tag appears, and delete very frequent tags\n",
        "import copy\n",
        "new_sets_cut = copy.deepcopy(new_sets)\n",
        "\n",
        "#for all sets\n",
        "for i in range(len(new_sets)):\n",
        "  #check all tags\n",
        "  for j in new_sets[i]:\n",
        "    counter = 0\n",
        "    #check for all other sets except the same one\n",
        "    for k in range(len(new_sets)):\n",
        "      if k == i:\n",
        "        continue\n",
        "      if j in new_sets[k]:\n",
        "        counter += 1\n",
        "    if counter > 5:\n",
        "      new_sets_cut[i].remove(j)"
      ],
      "execution_count": 44,
      "outputs": []
    },
    {
      "cell_type": "code",
      "metadata": {
        "colab": {
          "base_uri": "https://localhost:8080/",
          "height": 735
        },
        "id": "JSEIGEFJO7Q9",
        "outputId": "537f5e58-9ef2-42f5-8f81-45015607bc7d"
      },
      "source": [
        "plt.figure(figsize=(22, 14))\n",
        "supervenn(new_sets_cut, labels, side_plots=False, chunks_ordering='size', sets_ordering='size', widths_minmax_ratio=0.05, min_width_for_annotation=4)"
      ],
      "execution_count": 45,
      "outputs": [
        {
          "output_type": "execute_result",
          "data": {
            "text/plain": [
              "<supervenn._plots.SupervennPlot at 0x7f8b04a2f290>"
            ]
          },
          "metadata": {
            "tags": []
          },
          "execution_count": 45
        },
        {
          "output_type": "display_data",
          "data": {
            "image/png": "[encoded data removed]",
            "text/plain": [
              "<Figure size 1584x1008 with 1 Axes>"
            ]
          },
          "metadata": {
            "tags": [],
            "needs_background": "light"
          }
        }
      ]
    }
  ]
}