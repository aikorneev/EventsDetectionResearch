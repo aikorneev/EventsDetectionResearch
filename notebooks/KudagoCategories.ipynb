{
  "nbformat": 4,
  "nbformat_minor": 0,
  "metadata": {
    "colab": {
      "name": "KudagoCategories.ipynb",
      "provenance": [],
      "collapsed_sections": [
        "ZRcrKVbqTU3R"
      ],
      "toc_visible": true
    },
    "kernelspec": {
      "name": "python3",
      "display_name": "Python 3"
    },
    "language_info": {
      "name": "python"
    }
  },
  "cells": [
    {
      "cell_type": "markdown",
      "metadata": {
        "id": "2G-HUlclewMq"
      },
      "source": [
        "**KUDAGO categories relation**\n",
        "\n",
        "Goal - to estimate relations between different kudago categories.\n",
        "\n",
        "to do: adjust delimiter for tags, analyze multiple categories events\n"
      ]
    },
    {
      "cell_type": "code",
      "metadata": {
        "colab": {
          "base_uri": "https://localhost:8080/"
        },
        "id": "zq3nEoQ-fAFt",
        "outputId": "b0a81787-c570-4ee4-e15e-4b7e9ae02e51"
      },
      "source": [
        "#connection to google drive\n",
        "from google.colab import drive\n",
        "drive.mount('/content/drive')"
      ],
      "execution_count": 1,
      "outputs": [
        {
          "output_type": "stream",
          "text": [
            "Drive already mounted at /content/drive; to attempt to forcibly remount, call drive.mount(\"/content/drive\", force_remount=True).\n"
          ],
          "name": "stdout"
        }
      ]
    },
    {
      "cell_type": "code",
      "metadata": {
        "id": "0nSPmDAle5x4"
      },
      "source": [
        "#read dataset\n",
        "import pandas as pd\n",
        "DATA0 = pd.read_csv(\"/content/drive/My Drive/Multi-scale events detection/kudago/403-497_clean.csv\", delimiter=';', encoding='cp1251', error_bad_lines=False)\n",
        "DATA1 = pd.read_csv(\"/content/drive/My Drive/Multi-scale events detection/kudago/1-402_clean.csv\", delimiter=';', encoding='cp1251', error_bad_lines=False)\n",
        "DATA2 = pd.read_csv(\"/content/drive/My Drive/Multi-scale events detection/kudago/497-1653_clean.csv\", delimiter=';', encoding='cp1251', error_bad_lines=False)\n",
        "DATA = pd.concat([DATA0,DATA1,DATA2])"
      ],
      "execution_count": 2,
      "outputs": []
    },
    {
      "cell_type": "code",
      "metadata": {
        "colab": {
          "base_uri": "https://localhost:8080/"
        },
        "id": "NrNhw_yi-J7G",
        "outputId": "48d2c8d2-ed23-4ef9-93c3-f6dbb5a9965d"
      },
      "source": [
        "print('Events amount', DATA.shape[0])"
      ],
      "execution_count": 3,
      "outputs": [
        {
          "output_type": "stream",
          "text": [
            "Events amount 165565\n"
          ],
          "name": "stdout"
        }
      ]
    },
    {
      "cell_type": "markdown",
      "metadata": {
        "id": "eJqeqBcgikVf"
      },
      "source": [
        "#First step: analyzing event tags\n",
        "\n"
      ]
    },
    {
      "cell_type": "markdown",
      "metadata": {
        "id": "w9iFg7VcC16D"
      },
      "source": [
        "# Preprocessing"
      ]
    },
    {
      "cell_type": "code",
      "metadata": {
        "id": "rrvlXly2ibqx"
      },
      "source": [
        "#cut the table\n",
        "df = DATA[['Category', 'Event tag']]"
      ],
      "execution_count": 4,
      "outputs": []
    },
    {
      "cell_type": "code",
      "metadata": {
        "colab": {
          "base_uri": "https://localhost:8080/",
          "height": 447
        },
        "id": "t6YXai5UkY3x",
        "outputId": "df54bb13-e2d6-4a26-a007-8019a87352f5"
      },
      "source": [
        "#checking what kind of categories we have\n",
        "df.groupby(['Category']).count()\n"
      ],
      "execution_count": 5,
      "outputs": [
        {
          "output_type": "execute_result",
          "data": {
            "text/html": [
              "<div>\n",
              "<style scoped>\n",
              "    .dataframe tbody tr th:only-of-type {\n",
              "        vertical-align: middle;\n",
              "    }\n",
              "\n",
              "    .dataframe tbody tr th {\n",
              "        vertical-align: top;\n",
              "    }\n",
              "\n",
              "    .dataframe thead th {\n",
              "        text-align: right;\n",
              "    }\n",
              "</style>\n",
              "<table border=\"1\" class=\"dataframe\">\n",
              "  <thead>\n",
              "    <tr style=\"text-align: right;\">\n",
              "      <th></th>\n",
              "      <th>Event tag</th>\n",
              "    </tr>\n",
              "    <tr>\n",
              "      <th>Category</th>\n",
              "      <th></th>\n",
              "    </tr>\n",
              "  </thead>\n",
              "  <tbody>\n",
              "    <tr>\n",
              "      <th>business-events</th>\n",
              "      <td>476</td>\n",
              "    </tr>\n",
              "    <tr>\n",
              "      <th>business-events,entertainment</th>\n",
              "      <td>6</td>\n",
              "    </tr>\n",
              "    <tr>\n",
              "      <th>business-events,festival</th>\n",
              "      <td>17</td>\n",
              "    </tr>\n",
              "    <tr>\n",
              "      <th>business-events,festival,entertainment</th>\n",
              "      <td>1</td>\n",
              "    </tr>\n",
              "    <tr>\n",
              "      <th>business-events,festival,recreation</th>\n",
              "      <td>1</td>\n",
              "    </tr>\n",
              "    <tr>\n",
              "      <th>...</th>\n",
              "      <td>...</td>\n",
              "    </tr>\n",
              "    <tr>\n",
              "      <th>tour,recreation,entertainment</th>\n",
              "      <td>5</td>\n",
              "    </tr>\n",
              "    <tr>\n",
              "      <th>tour,yarmarki-razvlecheniya-yarmarki,entertainment</th>\n",
              "      <td>3</td>\n",
              "    </tr>\n",
              "    <tr>\n",
              "      <th>yarmarki-razvlecheniya-yarmarki</th>\n",
              "      <td>5</td>\n",
              "    </tr>\n",
              "    <tr>\n",
              "      <th>yarmarki-razvlecheniya-yarmarki,entertainment</th>\n",
              "      <td>763</td>\n",
              "    </tr>\n",
              "    <tr>\n",
              "      <th>yarmarki-razvlecheniya-yarmarki,recreation,entertainment</th>\n",
              "      <td>2</td>\n",
              "    </tr>\n",
              "  </tbody>\n",
              "</table>\n",
              "<p>1431 rows × 1 columns</p>\n",
              "</div>"
            ],
            "text/plain": [
              "                                                    Event tag\n",
              "Category                                                     \n",
              "business-events                                           476\n",
              "business-events,entertainment                               6\n",
              "business-events,festival                                   17\n",
              "business-events,festival,entertainment                      1\n",
              "business-events,festival,recreation                         1\n",
              "...                                                       ...\n",
              "tour,recreation,entertainment                               5\n",
              "tour,yarmarki-razvlecheniya-yarmarki,entertainment          3\n",
              "yarmarki-razvlecheniya-yarmarki                             5\n",
              "yarmarki-razvlecheniya-yarmarki,entertainment             763\n",
              "yarmarki-razvlecheniya-yarmarki,recreation,ente...          2\n",
              "\n",
              "[1431 rows x 1 columns]"
            ]
          },
          "metadata": {
            "tags": []
          },
          "execution_count": 5
        }
      ]
    },
    {
      "cell_type": "markdown",
      "metadata": {
        "id": "DExkwjM0nWLK"
      },
      "source": [
        "Firstly, let's not use events of multiple categories\n"
      ]
    },
    {
      "cell_type": "code",
      "metadata": {
        "colab": {
          "base_uri": "https://localhost:8080/",
          "height": 726
        },
        "id": "Kp7cqSsklhw8",
        "outputId": "d0d621da-4039-4ed5-a07c-2120c41c6e28"
      },
      "source": [
        "#checking how many events we have for each category\n",
        "df_new = df[~df['Category'].str.contains(',', na=False)]\n",
        "df_new.groupby(['Category']).count()"
      ],
      "execution_count": 6,
      "outputs": [
        {
          "output_type": "execute_result",
          "data": {
            "text/html": [
              "<div>\n",
              "<style scoped>\n",
              "    .dataframe tbody tr th:only-of-type {\n",
              "        vertical-align: middle;\n",
              "    }\n",
              "\n",
              "    .dataframe tbody tr th {\n",
              "        vertical-align: top;\n",
              "    }\n",
              "\n",
              "    .dataframe thead th {\n",
              "        text-align: right;\n",
              "    }\n",
              "</style>\n",
              "<table border=\"1\" class=\"dataframe\">\n",
              "  <thead>\n",
              "    <tr style=\"text-align: right;\">\n",
              "      <th></th>\n",
              "      <th>Event tag</th>\n",
              "    </tr>\n",
              "    <tr>\n",
              "      <th>Category</th>\n",
              "      <th></th>\n",
              "    </tr>\n",
              "  </thead>\n",
              "  <tbody>\n",
              "    <tr>\n",
              "      <th>business-events</th>\n",
              "      <td>476</td>\n",
              "    </tr>\n",
              "    <tr>\n",
              "      <th>cinema</th>\n",
              "      <td>106</td>\n",
              "    </tr>\n",
              "    <tr>\n",
              "      <th>concert</th>\n",
              "      <td>56347</td>\n",
              "    </tr>\n",
              "    <tr>\n",
              "      <th>education</th>\n",
              "      <td>10641</td>\n",
              "    </tr>\n",
              "    <tr>\n",
              "      <th>entertainment</th>\n",
              "      <td>2625</td>\n",
              "    </tr>\n",
              "    <tr>\n",
              "      <th>exhibition</th>\n",
              "      <td>15125</td>\n",
              "    </tr>\n",
              "    <tr>\n",
              "      <th>fashion</th>\n",
              "      <td>125</td>\n",
              "    </tr>\n",
              "    <tr>\n",
              "      <th>festival</th>\n",
              "      <td>4040</td>\n",
              "    </tr>\n",
              "    <tr>\n",
              "      <th>holiday</th>\n",
              "      <td>835</td>\n",
              "    </tr>\n",
              "    <tr>\n",
              "      <th>kids</th>\n",
              "      <td>571</td>\n",
              "    </tr>\n",
              "    <tr>\n",
              "      <th>other</th>\n",
              "      <td>557</td>\n",
              "    </tr>\n",
              "    <tr>\n",
              "      <th>party</th>\n",
              "      <td>4545</td>\n",
              "    </tr>\n",
              "    <tr>\n",
              "      <th>photo</th>\n",
              "      <td>52</td>\n",
              "    </tr>\n",
              "    <tr>\n",
              "      <th>quest</th>\n",
              "      <td>1</td>\n",
              "    </tr>\n",
              "    <tr>\n",
              "      <th>recreation</th>\n",
              "      <td>1754</td>\n",
              "    </tr>\n",
              "    <tr>\n",
              "      <th>shopping</th>\n",
              "      <td>81</td>\n",
              "    </tr>\n",
              "    <tr>\n",
              "      <th>social-activity</th>\n",
              "      <td>142</td>\n",
              "    </tr>\n",
              "    <tr>\n",
              "      <th>stock</th>\n",
              "      <td>9186</td>\n",
              "    </tr>\n",
              "    <tr>\n",
              "      <th>theater</th>\n",
              "      <td>13944</td>\n",
              "    </tr>\n",
              "    <tr>\n",
              "      <th>tour</th>\n",
              "      <td>2718</td>\n",
              "    </tr>\n",
              "    <tr>\n",
              "      <th>yarmarki-razvlecheniya-yarmarki</th>\n",
              "      <td>5</td>\n",
              "    </tr>\n",
              "  </tbody>\n",
              "</table>\n",
              "</div>"
            ],
            "text/plain": [
              "                                 Event tag\n",
              "Category                                  \n",
              "business-events                        476\n",
              "cinema                                 106\n",
              "concert                              56347\n",
              "education                            10641\n",
              "entertainment                         2625\n",
              "exhibition                           15125\n",
              "fashion                                125\n",
              "festival                              4040\n",
              "holiday                                835\n",
              "kids                                   571\n",
              "other                                  557\n",
              "party                                 4545\n",
              "photo                                   52\n",
              "quest                                    1\n",
              "recreation                            1754\n",
              "shopping                                81\n",
              "social-activity                        142\n",
              "stock                                 9186\n",
              "theater                              13944\n",
              "tour                                  2718\n",
              "yarmarki-razvlecheniya-yarmarki          5"
            ]
          },
          "metadata": {
            "tags": []
          },
          "execution_count": 6
        }
      ]
    },
    {
      "cell_type": "code",
      "metadata": {
        "id": "FqOVxaQ1n0Q8"
      },
      "source": [
        "#concatenation of all tags for each category\n",
        "df_grouped_full = df_new.groupby(['Category']).apply(lambda x: ','.join(x['Event tag']))"
      ],
      "execution_count": 7,
      "outputs": []
    },
    {
      "cell_type": "code",
      "metadata": {
        "colab": {
          "base_uri": "https://localhost:8080/"
        },
        "id": "dzsbwmaEVr-s",
        "outputId": "74f2dba6-b6be-488a-881f-1e2adca5be38"
      },
      "source": [
        "#here we remove categories of kudago, which we will not use for events detecting task\n",
        "deleted_cats =  ['quest', 'yarmarki-razvlecheniya-yarmarki','other','stock']\n",
        "df_grouped = df_grouped_full.drop(deleted_cats, axis=0)\n",
        "df_grouped"
      ],
      "execution_count": 8,
      "outputs": [
        {
          "output_type": "execute_result",
          "data": {
            "text/plain": [
              "Category\n",
              "business-events    12+,события для бизнеса,события для бизнеса,со...\n",
              "cinema             кинопоказы,12+,кино (развлечения),кино (развле...\n",
              "concert            рэп и хип-хоп,концерты,16+,концерты,альтернати...\n",
              "education          обучение,16+,лучшее,искусство,обучение,12+,рис...\n",
              "entertainment      игры,развлечения,16+,шоу,лучшее в театрах,разв...\n",
              "exhibition         выставки,картины, живопись, графика,выставки,к...\n",
              "fashion            мода и стиль,шоурумы,красота и здоровье,тренин...\n",
              "festival           фестивали,городские,free,культура и искусство,...\n",
              "holiday            животные,тематические праздники,выходные,празд...\n",
              "kids               12+,детские лагеря,лучшее в мае,детям,детские ...\n",
              "party              18+,танцевальная,вечеринки,электронная музыка,...\n",
              "photo              животные,фотография,интересное,всей семьей,fre...\n",
              "recreation         отдых,18+,спорт и фитнес,хоккей,6+,отдых,отдых...\n",
              "shopping           шопинг (магазины),free,шопинг (магазины),книги...\n",
              "social-activity    благотворительность,6+,free,год экологии,благо...\n",
              "theater            экспериментальный театр,современная драматурги...\n",
              "tour               пешеходные,12+,тематические,экскурсии,пешеходн...\n",
              "dtype: object"
            ]
          },
          "metadata": {
            "tags": []
          },
          "execution_count": 8
        }
      ]
    },
    {
      "cell_type": "markdown",
      "metadata": {
        "id": "4YmXMfgXSuYY"
      },
      "source": [
        "#Summary Table Creation"
      ]
    },
    {
      "cell_type": "code",
      "metadata": {
        "colab": {
          "base_uri": "https://localhost:8080/"
        },
        "id": "31-k874XLHEx",
        "outputId": "e660aa2b-cf29-47bc-dfb0-ffde8faf55be"
      },
      "source": [
        "#the next cell is very time expensive, we check if we have a file with it\n",
        "import os\n",
        "check_file = False\n",
        "if os.path.exists('/content/drive/My Drive/Colab Notebooks/kudago_tags.pkl'):\n",
        "  check_file = True\n",
        "  df_final = pd.read_pickle('/content/drive/My Drive/Colab Notebooks/kudago_tags.pkl')\n",
        "check_file"
      ],
      "execution_count": 9,
      "outputs": [
        {
          "output_type": "execute_result",
          "data": {
            "text/plain": [
              "True"
            ]
          },
          "metadata": {
            "tags": []
          },
          "execution_count": 9
        }
      ]
    },
    {
      "cell_type": "code",
      "metadata": {
        "id": "y9dFcb_npeTc",
        "colab": {
          "base_uri": "https://localhost:8080/"
        },
        "outputId": "9543ab5e-904e-4945-ee3c-a089a1d40206"
      },
      "source": [
        "#We want to know which tags (rows) were used for which categories (columns) and how many times (data in cells)\n",
        "#To do it we create DataFrame from the dict of subdicts: one subdict for one category, each subdict maps tag to number of tag's usages \n",
        "if check_file == False:\n",
        "  dict_lists = dict()\n",
        "  for index in df_grouped.index:\n",
        "    temp = df_grouped.get(index).rsplit(',')\n",
        "    one_dict = {i:temp.count(i) for i in temp}\n",
        "    dict_lists[index]=(one_dict)\n",
        "  #final statistics DataFrame\n",
        "  df_final = pd.DataFrame(dict_lists).fillna(0)\n",
        "else:\n",
        "  print('File was found')"
      ],
      "execution_count": 10,
      "outputs": [
        {
          "output_type": "stream",
          "text": [
            "File was found\n"
          ],
          "name": "stdout"
        }
      ]
    },
    {
      "cell_type": "code",
      "metadata": {
        "colab": {
          "base_uri": "https://localhost:8080/",
          "height": 0
        },
        "id": "Ve8DLQov14nK",
        "outputId": "f3a72c75-596f-4e7a-e230-186edfa9f5a1"
      },
      "source": [
        "df_final"
      ],
      "execution_count": 11,
      "outputs": [
        {
          "output_type": "execute_result",
          "data": {
            "text/html": [
              "<div>\n",
              "<style scoped>\n",
              "    .dataframe tbody tr th:only-of-type {\n",
              "        vertical-align: middle;\n",
              "    }\n",
              "\n",
              "    .dataframe tbody tr th {\n",
              "        vertical-align: top;\n",
              "    }\n",
              "\n",
              "    .dataframe thead th {\n",
              "        text-align: right;\n",
              "    }\n",
              "</style>\n",
              "<table border=\"1\" class=\"dataframe\">\n",
              "  <thead>\n",
              "    <tr style=\"text-align: right;\">\n",
              "      <th></th>\n",
              "      <th>business-events</th>\n",
              "      <th>cinema</th>\n",
              "      <th>concert</th>\n",
              "      <th>education</th>\n",
              "      <th>entertainment</th>\n",
              "      <th>exhibition</th>\n",
              "      <th>fashion</th>\n",
              "      <th>festival</th>\n",
              "      <th>holiday</th>\n",
              "      <th>kids</th>\n",
              "      <th>party</th>\n",
              "      <th>photo</th>\n",
              "      <th>recreation</th>\n",
              "      <th>shopping</th>\n",
              "      <th>social-activity</th>\n",
              "      <th>theater</th>\n",
              "      <th>tour</th>\n",
              "    </tr>\n",
              "  </thead>\n",
              "  <tbody>\n",
              "    <tr>\n",
              "      <th>12+</th>\n",
              "      <td>12.0</td>\n",
              "      <td>10.0</td>\n",
              "      <td>10786.0</td>\n",
              "      <td>1526.0</td>\n",
              "      <td>207.0</td>\n",
              "      <td>971.0</td>\n",
              "      <td>4.0</td>\n",
              "      <td>283.0</td>\n",
              "      <td>15.0</td>\n",
              "      <td>36.0</td>\n",
              "      <td>22.0</td>\n",
              "      <td>1.0</td>\n",
              "      <td>210.0</td>\n",
              "      <td>0.0</td>\n",
              "      <td>3.0</td>\n",
              "      <td>3661.0</td>\n",
              "      <td>602.0</td>\n",
              "    </tr>\n",
              "    <tr>\n",
              "      <th>события для бизнеса</th>\n",
              "      <td>476.0</td>\n",
              "      <td>0.0</td>\n",
              "      <td>0.0</td>\n",
              "      <td>0.0</td>\n",
              "      <td>0.0</td>\n",
              "      <td>0.0</td>\n",
              "      <td>0.0</td>\n",
              "      <td>0.0</td>\n",
              "      <td>0.0</td>\n",
              "      <td>0.0</td>\n",
              "      <td>0.0</td>\n",
              "      <td>0.0</td>\n",
              "      <td>0.0</td>\n",
              "      <td>0.0</td>\n",
              "      <td>0.0</td>\n",
              "      <td>0.0</td>\n",
              "      <td>0.0</td>\n",
              "    </tr>\n",
              "    <tr>\n",
              "      <th>18+</th>\n",
              "      <td>167.0</td>\n",
              "      <td>67.0</td>\n",
              "      <td>14700.0</td>\n",
              "      <td>1932.0</td>\n",
              "      <td>556.0</td>\n",
              "      <td>401.0</td>\n",
              "      <td>11.0</td>\n",
              "      <td>427.0</td>\n",
              "      <td>39.0</td>\n",
              "      <td>0.0</td>\n",
              "      <td>3527.0</td>\n",
              "      <td>3.0</td>\n",
              "      <td>176.0</td>\n",
              "      <td>0.0</td>\n",
              "      <td>19.0</td>\n",
              "      <td>1978.0</td>\n",
              "      <td>150.0</td>\n",
              "    </tr>\n",
              "    <tr>\n",
              "      <th>free</th>\n",
              "      <td>135.0</td>\n",
              "      <td>29.0</td>\n",
              "      <td>2594.0</td>\n",
              "      <td>2681.0</td>\n",
              "      <td>356.0</td>\n",
              "      <td>4051.0</td>\n",
              "      <td>29.0</td>\n",
              "      <td>1653.0</td>\n",
              "      <td>315.0</td>\n",
              "      <td>122.0</td>\n",
              "      <td>1177.0</td>\n",
              "      <td>12.0</td>\n",
              "      <td>348.0</td>\n",
              "      <td>42.0</td>\n",
              "      <td>81.0</td>\n",
              "      <td>435.0</td>\n",
              "      <td>164.0</td>\n",
              "    </tr>\n",
              "    <tr>\n",
              "      <th>16+</th>\n",
              "      <td>70.0</td>\n",
              "      <td>11.0</td>\n",
              "      <td>11108.0</td>\n",
              "      <td>2094.0</td>\n",
              "      <td>286.0</td>\n",
              "      <td>454.0</td>\n",
              "      <td>14.0</td>\n",
              "      <td>303.0</td>\n",
              "      <td>9.0</td>\n",
              "      <td>0.0</td>\n",
              "      <td>123.0</td>\n",
              "      <td>0.0</td>\n",
              "      <td>128.0</td>\n",
              "      <td>4.0</td>\n",
              "      <td>7.0</td>\n",
              "      <td>5364.0</td>\n",
              "      <td>102.0</td>\n",
              "    </tr>\n",
              "    <tr>\n",
              "      <th>...</th>\n",
              "      <td>...</td>\n",
              "      <td>...</td>\n",
              "      <td>...</td>\n",
              "      <td>...</td>\n",
              "      <td>...</td>\n",
              "      <td>...</td>\n",
              "      <td>...</td>\n",
              "      <td>...</td>\n",
              "      <td>...</td>\n",
              "      <td>...</td>\n",
              "      <td>...</td>\n",
              "      <td>...</td>\n",
              "      <td>...</td>\n",
              "      <td>...</td>\n",
              "      <td>...</td>\n",
              "      <td>...</td>\n",
              "      <td>...</td>\n",
              "    </tr>\n",
              "    <tr>\n",
              "      <th>погода</th>\n",
              "      <td>0.0</td>\n",
              "      <td>0.0</td>\n",
              "      <td>0.0</td>\n",
              "      <td>0.0</td>\n",
              "      <td>0.0</td>\n",
              "      <td>0.0</td>\n",
              "      <td>0.0</td>\n",
              "      <td>0.0</td>\n",
              "      <td>0.0</td>\n",
              "      <td>0.0</td>\n",
              "      <td>0.0</td>\n",
              "      <td>0.0</td>\n",
              "      <td>0.0</td>\n",
              "      <td>0.0</td>\n",
              "      <td>0.0</td>\n",
              "      <td>0.0</td>\n",
              "      <td>1.0</td>\n",
              "    </tr>\n",
              "    <tr>\n",
              "      <th>эзотерика</th>\n",
              "      <td>0.0</td>\n",
              "      <td>0.0</td>\n",
              "      <td>0.0</td>\n",
              "      <td>0.0</td>\n",
              "      <td>0.0</td>\n",
              "      <td>0.0</td>\n",
              "      <td>0.0</td>\n",
              "      <td>0.0</td>\n",
              "      <td>0.0</td>\n",
              "      <td>0.0</td>\n",
              "      <td>0.0</td>\n",
              "      <td>0.0</td>\n",
              "      <td>0.0</td>\n",
              "      <td>0.0</td>\n",
              "      <td>0.0</td>\n",
              "      <td>0.0</td>\n",
              "      <td>1.0</td>\n",
              "    </tr>\n",
              "    <tr>\n",
              "      <th>блошиные рынки</th>\n",
              "      <td>0.0</td>\n",
              "      <td>0.0</td>\n",
              "      <td>0.0</td>\n",
              "      <td>0.0</td>\n",
              "      <td>0.0</td>\n",
              "      <td>0.0</td>\n",
              "      <td>0.0</td>\n",
              "      <td>0.0</td>\n",
              "      <td>0.0</td>\n",
              "      <td>0.0</td>\n",
              "      <td>0.0</td>\n",
              "      <td>0.0</td>\n",
              "      <td>0.0</td>\n",
              "      <td>0.0</td>\n",
              "      <td>0.0</td>\n",
              "      <td>0.0</td>\n",
              "      <td>1.0</td>\n",
              "    </tr>\n",
              "    <tr>\n",
              "      <th>ярмарки (развлечения</th>\n",
              "      <td>0.0</td>\n",
              "      <td>0.0</td>\n",
              "      <td>0.0</td>\n",
              "      <td>0.0</td>\n",
              "      <td>0.0</td>\n",
              "      <td>0.0</td>\n",
              "      <td>0.0</td>\n",
              "      <td>0.0</td>\n",
              "      <td>0.0</td>\n",
              "      <td>0.0</td>\n",
              "      <td>0.0</td>\n",
              "      <td>0.0</td>\n",
              "      <td>0.0</td>\n",
              "      <td>0.0</td>\n",
              "      <td>0.0</td>\n",
              "      <td>0.0</td>\n",
              "      <td>0.0</td>\n",
              "    </tr>\n",
              "    <tr>\n",
              "      <th>ярмарки)</th>\n",
              "      <td>0.0</td>\n",
              "      <td>0.0</td>\n",
              "      <td>0.0</td>\n",
              "      <td>0.0</td>\n",
              "      <td>0.0</td>\n",
              "      <td>0.0</td>\n",
              "      <td>0.0</td>\n",
              "      <td>0.0</td>\n",
              "      <td>0.0</td>\n",
              "      <td>0.0</td>\n",
              "      <td>0.0</td>\n",
              "      <td>0.0</td>\n",
              "      <td>0.0</td>\n",
              "      <td>0.0</td>\n",
              "      <td>0.0</td>\n",
              "      <td>0.0</td>\n",
              "      <td>0.0</td>\n",
              "    </tr>\n",
              "  </tbody>\n",
              "</table>\n",
              "<p>1173 rows × 17 columns</p>\n",
              "</div>"
            ],
            "text/plain": [
              "                      business-events  cinema  ...  theater   tour\n",
              "12+                              12.0    10.0  ...   3661.0  602.0\n",
              "события для бизнеса             476.0     0.0  ...      0.0    0.0\n",
              "18+                             167.0    67.0  ...   1978.0  150.0\n",
              "free                            135.0    29.0  ...    435.0  164.0\n",
              "16+                              70.0    11.0  ...   5364.0  102.0\n",
              "...                               ...     ...  ...      ...    ...\n",
              "погода                            0.0     0.0  ...      0.0    1.0\n",
              "эзотерика                         0.0     0.0  ...      0.0    1.0\n",
              "блошиные рынки                    0.0     0.0  ...      0.0    1.0\n",
              "ярмарки (развлечения              0.0     0.0  ...      0.0    0.0\n",
              " ярмарки)                         0.0     0.0  ...      0.0    0.0\n",
              "\n",
              "[1173 rows x 17 columns]"
            ]
          },
          "metadata": {
            "tags": []
          },
          "execution_count": 11
        }
      ]
    },
    {
      "cell_type": "code",
      "metadata": {
        "colab": {
          "base_uri": "https://localhost:8080/"
        },
        "id": "zrUBAVIFLsRf",
        "outputId": "2f70327c-9b01-47cb-ac51-db5962beabe2"
      },
      "source": [
        "#save dataframe to file\n",
        "if check_file == False:\n",
        "  df_final.to_pickle(\"/content/drive/My Drive/Colab Notebooks/kudago_tags.pkl\")\n",
        "else:\n",
        "  print('File exists')"
      ],
      "execution_count": 12,
      "outputs": [
        {
          "output_type": "stream",
          "text": [
            "File exists\n"
          ],
          "name": "stdout"
        }
      ]
    },
    {
      "cell_type": "markdown",
      "metadata": {
        "id": "zYu4Z317TGdI"
      },
      "source": [
        "#Visualisation with supervenn\n"
      ]
    },
    {
      "cell_type": "code",
      "metadata": {
        "colab": {
          "base_uri": "https://localhost:8080/"
        },
        "id": "0P6_JPyQJOAB",
        "outputId": "a9cf36ed-b790-4549-8cac-bea010954e67"
      },
      "source": [
        "#visualize data with method from https://habr.com/ru/company/yandex/blog/501924/\n",
        "!pip install supervenn"
      ],
      "execution_count": 13,
      "outputs": [
        {
          "output_type": "stream",
          "text": [
            "Requirement already satisfied: supervenn in /usr/local/lib/python3.7/dist-packages (0.4.1)\n",
            "Requirement already satisfied: numpy in /usr/local/lib/python3.7/dist-packages (from supervenn) (1.19.5)\n",
            "Requirement already satisfied: matplotlib>=2.2.5 in /usr/local/lib/python3.7/dist-packages (from supervenn) (3.2.2)\n",
            "Requirement already satisfied: kiwisolver>=1.0.1 in /usr/local/lib/python3.7/dist-packages (from matplotlib>=2.2.5->supervenn) (1.3.1)\n",
            "Requirement already satisfied: python-dateutil>=2.1 in /usr/local/lib/python3.7/dist-packages (from matplotlib>=2.2.5->supervenn) (2.8.1)\n",
            "Requirement already satisfied: pyparsing!=2.0.4,!=2.1.2,!=2.1.6,>=2.0.1 in /usr/local/lib/python3.7/dist-packages (from matplotlib>=2.2.5->supervenn) (2.4.7)\n",
            "Requirement already satisfied: cycler>=0.10 in /usr/local/lib/python3.7/dist-packages (from matplotlib>=2.2.5->supervenn) (0.10.0)\n",
            "Requirement already satisfied: six in /usr/local/lib/python3.7/dist-packages (from cycler>=0.10->matplotlib>=2.2.5->supervenn) (1.15.0)\n"
          ],
          "name": "stdout"
        }
      ]
    },
    {
      "cell_type": "code",
      "metadata": {
        "id": "oZ7d0cPHx7Lv"
      },
      "source": [
        "#labels are categories\n",
        "labels = list(df_final.columns)\n",
        "#sets are tags\n",
        "sets = []\n",
        "for index in df_grouped.index:\n",
        "  temp = df_grouped.get(index).rsplit(',')\n",
        "  sets.append(set(temp))"
      ],
      "execution_count": 14,
      "outputs": []
    },
    {
      "cell_type": "code",
      "metadata": {
        "id": "Dkh5cpH772nO"
      },
      "source": [
        "#to find intersections of categories we don't consider unique tags\n",
        "new_sets = []\n",
        "for i in range(len(sets)):\n",
        "  temp_list = []\n",
        "  for j in range(len(sets)):\n",
        "    #avoiding comparing with the same set\n",
        "    if i == j:\n",
        "      continue\n",
        "    #we collect not unique tags into list\n",
        "    temp_list.extend(sets[i] & sets[j])\n",
        "  #now we need to convert our collection to set\n",
        "  new_sets.append(set(temp_list))"
      ],
      "execution_count": 15,
      "outputs": []
    },
    {
      "cell_type": "code",
      "metadata": {
        "colab": {
          "base_uri": "https://localhost:8080/",
          "height": 718
        },
        "id": "k8nY5VhPyjVl",
        "outputId": "cc216ae7-9ed3-4b8e-b22e-9091cea908f5"
      },
      "source": [
        "import matplotlib.pyplot as plt\n",
        "from supervenn import supervenn\n",
        "plt.figure(figsize=(22, 14))\n",
        "visual0 = supervenn(new_sets, labels, side_plots=False, chunks_ordering='size', sets_ordering='size', widths_minmax_ratio=0.05, min_width_for_annotation=4)"
      ],
      "execution_count": 16,
      "outputs": [
        {
          "output_type": "display_data",
          "data": {
            "image/png": "[encoded data removed]",
            "text/plain": [
              "<Figure size 1584x1008 with 1 Axes>"
            ]
          },
          "metadata": {
            "tags": [],
            "needs_background": "light"
          }
        }
      ]
    },
    {
      "cell_type": "markdown",
      "metadata": {
        "id": "ZRcrKVbqTU3R"
      },
      "source": [
        "# Visualisation for unique tags"
      ]
    },
    {
      "cell_type": "markdown",
      "metadata": {
        "id": "97n8NCPrPq4t"
      },
      "source": [
        "Results are good, but not so clean, let's firstly delete very frequent tags (appears more than in 5 categories)"
      ]
    },
    {
      "cell_type": "code",
      "metadata": {
        "id": "lBrdwuRK91jW"
      },
      "source": [
        "#here we check in how many categories the particular tag appears, and delete very frequent tags\n",
        "import copy\n",
        "new_sets_cut = copy.deepcopy(new_sets)\n",
        "\n",
        "#for all sets\n",
        "for i in range(len(new_sets)):\n",
        "  #check all tags\n",
        "  for j in new_sets[i]:\n",
        "    counter = 0\n",
        "    #check for all other sets except the same one\n",
        "    for k in range(len(new_sets)):\n",
        "      if k == i:\n",
        "        continue\n",
        "      if j in new_sets[k]:\n",
        "        counter += 1\n",
        "    if counter > 5:\n",
        "      new_sets_cut[i].remove(j)"
      ],
      "execution_count": 17,
      "outputs": []
    },
    {
      "cell_type": "code",
      "metadata": {
        "colab": {
          "base_uri": "https://localhost:8080/"
        },
        "id": "zDwGsstZaOfO",
        "outputId": "5de4b39e-2c8c-4d71-be78-d6a5a4b2150d"
      },
      "source": [
        "#amount of unique/not unique tags\n",
        "print('unique\\t common\\t total')\n",
        "for i in range(len(new_sets_cut)):\n",
        "  print('{}\\t :{}\\t  :{}\\t :{}'.format(len(sets[i])-len(new_sets_cut[i]), len(new_sets_cut[i]), len(sets[i]), labels[i]))"
      ],
      "execution_count": 18,
      "outputs": [
        {
          "output_type": "stream",
          "text": [
            "unique\t common\t total\n",
            "27\t :36\t  :63\t :business-events\n",
            "29\t :8\t  :37\t :cinema\n",
            "153\t :241\t  :394\t :concert\n",
            "179\t :316\t  :495\t :education\n",
            "143\t :178\t  :321\t :entertainment\n",
            "170\t :271\t  :441\t :exhibition\n",
            "32\t :18\t  :50\t :fashion\n",
            "162\t :309\t  :471\t :festival\n",
            "114\t :131\t  :245\t :holiday\n",
            "74\t :85\t  :159\t :kids\n",
            "106\t :153\t  :259\t :party\n",
            "19\t :11\t  :30\t :photo\n",
            "122\t :100\t  :222\t :recreation\n",
            "24\t :19\t  :43\t :shopping\n",
            "41\t :18\t  :59\t :social-activity\n",
            "150\t :201\t  :351\t :theater\n",
            "116\t :109\t  :225\t :tour\n"
          ],
          "name": "stdout"
        }
      ]
    },
    {
      "cell_type": "code",
      "metadata": {
        "colab": {
          "base_uri": "https://localhost:8080/",
          "height": 718
        },
        "id": "JSEIGEFJO7Q9",
        "outputId": "a193d457-162e-4730-8f42-b195fcc3c3af"
      },
      "source": [
        "plt.figure(figsize=(22, 14))\n",
        "visual = supervenn(new_sets_cut, labels, side_plots=False, chunks_ordering='size', sets_ordering='size', widths_minmax_ratio=0.05, min_width_for_annotation=4)"
      ],
      "execution_count": 19,
      "outputs": [
        {
          "output_type": "display_data",
          "data": {
            "image/png": "[encoded data removed]",
            "text/plain": [
              "<Figure size 1584x1008 with 1 Axes>"
            ]
          },
          "metadata": {
            "tags": [],
            "needs_background": "light"
          }
        }
      ]
    },
    {
      "cell_type": "code",
      "metadata": {
        "colab": {
          "base_uri": "https://localhost:8080/"
        },
        "id": "JWN1UpldVHxW",
        "outputId": "1f7ecb67-a24e-4a2e-f0d1-a47beb2603f8"
      },
      "source": [
        "#example of extracting common tags\n",
        "print(visual.chunks[frozenset([labels.index('education'), labels.index('exhibition')])])\n",
        "print(visual.chunks[frozenset([labels.index('party'), labels.index('concert')])])"
      ],
      "execution_count": 20,
      "outputs": [
        {
          "output_type": "stream",
          "text": [
            "{'витражи', 'cобаки', 'концептуальное искусство', 'аналоговая фотография', 'bibliophilia', 'акварель', 'арт-объекты', 'гравюра', 'эпоха возрождения', 'бижутерия', 'мэрилин монро', 'батик', 'мозаика', 'скрапбукинг', 'изобретения', 'голландия', 'александр васильев', 'декупаж', 'обучение за рубежом', 'парфюмерия', 'архитектура', 'будущее', 'абстрактное искусство'}\n",
            "{'rnb', 'душевно', 'диско', 'тяжелый рок', 'майкл джексон', 'witch house', 'клубная жизнь', 'эмбиент', 'дискотека 90х', 'дискотека 80х', 'драм-н-бэйс', 'день первокурсника', 'r&b', 'рейв', 'glitch', 'хардкор техно', 'виниловые пластинки'}\n"
          ],
          "name": "stdout"
        }
      ]
    },
    {
      "cell_type": "markdown",
      "metadata": {
        "id": "kO-HlABNTtdP"
      },
      "source": [
        "#Second step: analyzing events of multiple categories"
      ]
    },
    {
      "cell_type": "markdown",
      "metadata": {
        "id": "zuGiLn8aUZuv"
      },
      "source": [
        "Here we want to analyze which categories have common events (by extracting events with multiple categories)"
      ]
    },
    {
      "cell_type": "code",
      "metadata": {
        "colab": {
          "base_uri": "https://localhost:8080/"
        },
        "id": "Gjr7etXhUX9z",
        "outputId": "df3f33d0-c7a8-4d2c-d93a-454190877c24"
      },
      "source": [
        "df_multiple =  df[df['Category'].str.contains(',', na=False)]\n",
        "print('Amount of events with multiple categories', df_multiple.shape[0])"
      ],
      "execution_count": 21,
      "outputs": [
        {
          "output_type": "stream",
          "text": [
            "Amount of events with multiple categories 41354\n"
          ],
          "name": "stdout"
        }
      ]
    },
    {
      "cell_type": "code",
      "metadata": {
        "id": "FEuySjMSvpbM"
      },
      "source": [
        "#we create an array of two dims and remeber how many times each category was with another one\n",
        "n = len(df_grouped_full.index)\n",
        "group_list = list(df_grouped_full.index)\n",
        "cats_inter = [[0] * n for i in range(n)]\n",
        "for event in df_multiple['Category']:\n",
        "  cats = event.rsplit(',')\n",
        "  for i in range(len(cats)):\n",
        "    for j in range(len(cats)):\n",
        "      if i != j:\n",
        "        cats_inter[group_list.index(cats[j])][group_list.index(cats[i])] += 1"
      ],
      "execution_count": 22,
      "outputs": []
    },
    {
      "cell_type": "code",
      "metadata": {
        "colab": {
          "base_uri": "https://localhost:8080/",
          "height": 643
        },
        "id": "TfkmIC5LzIb2",
        "outputId": "6760862a-8cce-42af-ed58-f07fbc14b265"
      },
      "source": [
        "df_step2 = pd.DataFrame(cats_inter, columns=group_list, index=group_list).fillna(0)\n",
        "df_step2 = df_step2.drop(labels=deleted_cats, axis=0)\n",
        "df_step2 = df_step2.drop(labels=deleted_cats, axis=1)\n",
        "df_step2"
      ],
      "execution_count": 23,
      "outputs": [
        {
          "output_type": "execute_result",
          "data": {
            "text/html": [
              "<div>\n",
              "<style scoped>\n",
              "    .dataframe tbody tr th:only-of-type {\n",
              "        vertical-align: middle;\n",
              "    }\n",
              "\n",
              "    .dataframe tbody tr th {\n",
              "        vertical-align: top;\n",
              "    }\n",
              "\n",
              "    .dataframe thead th {\n",
              "        text-align: right;\n",
              "    }\n",
              "</style>\n",
              "<table border=\"1\" class=\"dataframe\">\n",
              "  <thead>\n",
              "    <tr style=\"text-align: right;\">\n",
              "      <th></th>\n",
              "      <th>business-events</th>\n",
              "      <th>cinema</th>\n",
              "      <th>concert</th>\n",
              "      <th>education</th>\n",
              "      <th>entertainment</th>\n",
              "      <th>exhibition</th>\n",
              "      <th>fashion</th>\n",
              "      <th>festival</th>\n",
              "      <th>holiday</th>\n",
              "      <th>kids</th>\n",
              "      <th>party</th>\n",
              "      <th>photo</th>\n",
              "      <th>recreation</th>\n",
              "      <th>shopping</th>\n",
              "      <th>social-activity</th>\n",
              "      <th>theater</th>\n",
              "      <th>tour</th>\n",
              "    </tr>\n",
              "  </thead>\n",
              "  <tbody>\n",
              "    <tr>\n",
              "      <th>business-events</th>\n",
              "      <td>0</td>\n",
              "      <td>0</td>\n",
              "      <td>4</td>\n",
              "      <td>682</td>\n",
              "      <td>29</td>\n",
              "      <td>72</td>\n",
              "      <td>6</td>\n",
              "      <td>51</td>\n",
              "      <td>0</td>\n",
              "      <td>9</td>\n",
              "      <td>2</td>\n",
              "      <td>1</td>\n",
              "      <td>6</td>\n",
              "      <td>1</td>\n",
              "      <td>2</td>\n",
              "      <td>0</td>\n",
              "      <td>1</td>\n",
              "    </tr>\n",
              "    <tr>\n",
              "      <th>cinema</th>\n",
              "      <td>0</td>\n",
              "      <td>0</td>\n",
              "      <td>143</td>\n",
              "      <td>683</td>\n",
              "      <td>5634</td>\n",
              "      <td>78</td>\n",
              "      <td>15</td>\n",
              "      <td>1139</td>\n",
              "      <td>60</td>\n",
              "      <td>165</td>\n",
              "      <td>344</td>\n",
              "      <td>3</td>\n",
              "      <td>19</td>\n",
              "      <td>2</td>\n",
              "      <td>26</td>\n",
              "      <td>194</td>\n",
              "      <td>21</td>\n",
              "    </tr>\n",
              "    <tr>\n",
              "      <th>concert</th>\n",
              "      <td>4</td>\n",
              "      <td>143</td>\n",
              "      <td>0</td>\n",
              "      <td>1110</td>\n",
              "      <td>1809</td>\n",
              "      <td>137</td>\n",
              "      <td>13</td>\n",
              "      <td>2488</td>\n",
              "      <td>354</td>\n",
              "      <td>1119</td>\n",
              "      <td>1917</td>\n",
              "      <td>5</td>\n",
              "      <td>166</td>\n",
              "      <td>14</td>\n",
              "      <td>288</td>\n",
              "      <td>1111</td>\n",
              "      <td>57</td>\n",
              "    </tr>\n",
              "    <tr>\n",
              "      <th>education</th>\n",
              "      <td>682</td>\n",
              "      <td>683</td>\n",
              "      <td>1110</td>\n",
              "      <td>0</td>\n",
              "      <td>1943</td>\n",
              "      <td>674</td>\n",
              "      <td>551</td>\n",
              "      <td>1276</td>\n",
              "      <td>434</td>\n",
              "      <td>2233</td>\n",
              "      <td>476</td>\n",
              "      <td>117</td>\n",
              "      <td>697</td>\n",
              "      <td>58</td>\n",
              "      <td>226</td>\n",
              "      <td>540</td>\n",
              "      <td>368</td>\n",
              "    </tr>\n",
              "    <tr>\n",
              "      <th>entertainment</th>\n",
              "      <td>29</td>\n",
              "      <td>5634</td>\n",
              "      <td>1809</td>\n",
              "      <td>1943</td>\n",
              "      <td>0</td>\n",
              "      <td>905</td>\n",
              "      <td>152</td>\n",
              "      <td>3067</td>\n",
              "      <td>977</td>\n",
              "      <td>2147</td>\n",
              "      <td>1229</td>\n",
              "      <td>59</td>\n",
              "      <td>897</td>\n",
              "      <td>272</td>\n",
              "      <td>334</td>\n",
              "      <td>1220</td>\n",
              "      <td>280</td>\n",
              "    </tr>\n",
              "    <tr>\n",
              "      <th>exhibition</th>\n",
              "      <td>72</td>\n",
              "      <td>78</td>\n",
              "      <td>137</td>\n",
              "      <td>674</td>\n",
              "      <td>905</td>\n",
              "      <td>0</td>\n",
              "      <td>173</td>\n",
              "      <td>636</td>\n",
              "      <td>97</td>\n",
              "      <td>744</td>\n",
              "      <td>88</td>\n",
              "      <td>447</td>\n",
              "      <td>45</td>\n",
              "      <td>38</td>\n",
              "      <td>182</td>\n",
              "      <td>67</td>\n",
              "      <td>261</td>\n",
              "    </tr>\n",
              "    <tr>\n",
              "      <th>fashion</th>\n",
              "      <td>6</td>\n",
              "      <td>15</td>\n",
              "      <td>13</td>\n",
              "      <td>551</td>\n",
              "      <td>152</td>\n",
              "      <td>173</td>\n",
              "      <td>0</td>\n",
              "      <td>93</td>\n",
              "      <td>29</td>\n",
              "      <td>21</td>\n",
              "      <td>40</td>\n",
              "      <td>21</td>\n",
              "      <td>13</td>\n",
              "      <td>91</td>\n",
              "      <td>11</td>\n",
              "      <td>8</td>\n",
              "      <td>2</td>\n",
              "    </tr>\n",
              "    <tr>\n",
              "      <th>festival</th>\n",
              "      <td>51</td>\n",
              "      <td>1139</td>\n",
              "      <td>2488</td>\n",
              "      <td>1276</td>\n",
              "      <td>3067</td>\n",
              "      <td>636</td>\n",
              "      <td>93</td>\n",
              "      <td>0</td>\n",
              "      <td>875</td>\n",
              "      <td>1546</td>\n",
              "      <td>674</td>\n",
              "      <td>61</td>\n",
              "      <td>649</td>\n",
              "      <td>44</td>\n",
              "      <td>362</td>\n",
              "      <td>521</td>\n",
              "      <td>174</td>\n",
              "    </tr>\n",
              "    <tr>\n",
              "      <th>holiday</th>\n",
              "      <td>0</td>\n",
              "      <td>60</td>\n",
              "      <td>354</td>\n",
              "      <td>434</td>\n",
              "      <td>977</td>\n",
              "      <td>97</td>\n",
              "      <td>29</td>\n",
              "      <td>875</td>\n",
              "      <td>0</td>\n",
              "      <td>1296</td>\n",
              "      <td>687</td>\n",
              "      <td>19</td>\n",
              "      <td>194</td>\n",
              "      <td>57</td>\n",
              "      <td>75</td>\n",
              "      <td>308</td>\n",
              "      <td>126</td>\n",
              "    </tr>\n",
              "    <tr>\n",
              "      <th>kids</th>\n",
              "      <td>9</td>\n",
              "      <td>165</td>\n",
              "      <td>1119</td>\n",
              "      <td>2233</td>\n",
              "      <td>2147</td>\n",
              "      <td>744</td>\n",
              "      <td>21</td>\n",
              "      <td>1546</td>\n",
              "      <td>1296</td>\n",
              "      <td>0</td>\n",
              "      <td>154</td>\n",
              "      <td>31</td>\n",
              "      <td>375</td>\n",
              "      <td>34</td>\n",
              "      <td>237</td>\n",
              "      <td>4253</td>\n",
              "      <td>498</td>\n",
              "    </tr>\n",
              "    <tr>\n",
              "      <th>party</th>\n",
              "      <td>2</td>\n",
              "      <td>344</td>\n",
              "      <td>1917</td>\n",
              "      <td>476</td>\n",
              "      <td>1229</td>\n",
              "      <td>88</td>\n",
              "      <td>40</td>\n",
              "      <td>674</td>\n",
              "      <td>687</td>\n",
              "      <td>154</td>\n",
              "      <td>0</td>\n",
              "      <td>14</td>\n",
              "      <td>229</td>\n",
              "      <td>15</td>\n",
              "      <td>31</td>\n",
              "      <td>79</td>\n",
              "      <td>102</td>\n",
              "    </tr>\n",
              "    <tr>\n",
              "      <th>photo</th>\n",
              "      <td>1</td>\n",
              "      <td>3</td>\n",
              "      <td>5</td>\n",
              "      <td>117</td>\n",
              "      <td>59</td>\n",
              "      <td>447</td>\n",
              "      <td>21</td>\n",
              "      <td>61</td>\n",
              "      <td>19</td>\n",
              "      <td>31</td>\n",
              "      <td>14</td>\n",
              "      <td>0</td>\n",
              "      <td>11</td>\n",
              "      <td>2</td>\n",
              "      <td>15</td>\n",
              "      <td>4</td>\n",
              "      <td>11</td>\n",
              "    </tr>\n",
              "    <tr>\n",
              "      <th>recreation</th>\n",
              "      <td>6</td>\n",
              "      <td>19</td>\n",
              "      <td>166</td>\n",
              "      <td>697</td>\n",
              "      <td>897</td>\n",
              "      <td>45</td>\n",
              "      <td>13</td>\n",
              "      <td>649</td>\n",
              "      <td>194</td>\n",
              "      <td>375</td>\n",
              "      <td>229</td>\n",
              "      <td>11</td>\n",
              "      <td>0</td>\n",
              "      <td>8</td>\n",
              "      <td>140</td>\n",
              "      <td>85</td>\n",
              "      <td>72</td>\n",
              "    </tr>\n",
              "    <tr>\n",
              "      <th>shopping</th>\n",
              "      <td>1</td>\n",
              "      <td>2</td>\n",
              "      <td>14</td>\n",
              "      <td>58</td>\n",
              "      <td>272</td>\n",
              "      <td>38</td>\n",
              "      <td>91</td>\n",
              "      <td>44</td>\n",
              "      <td>57</td>\n",
              "      <td>34</td>\n",
              "      <td>15</td>\n",
              "      <td>2</td>\n",
              "      <td>8</td>\n",
              "      <td>0</td>\n",
              "      <td>33</td>\n",
              "      <td>1</td>\n",
              "      <td>3</td>\n",
              "    </tr>\n",
              "    <tr>\n",
              "      <th>social-activity</th>\n",
              "      <td>2</td>\n",
              "      <td>26</td>\n",
              "      <td>288</td>\n",
              "      <td>226</td>\n",
              "      <td>334</td>\n",
              "      <td>182</td>\n",
              "      <td>11</td>\n",
              "      <td>362</td>\n",
              "      <td>75</td>\n",
              "      <td>237</td>\n",
              "      <td>31</td>\n",
              "      <td>15</td>\n",
              "      <td>140</td>\n",
              "      <td>33</td>\n",
              "      <td>0</td>\n",
              "      <td>41</td>\n",
              "      <td>9</td>\n",
              "    </tr>\n",
              "    <tr>\n",
              "      <th>theater</th>\n",
              "      <td>0</td>\n",
              "      <td>194</td>\n",
              "      <td>1111</td>\n",
              "      <td>540</td>\n",
              "      <td>1220</td>\n",
              "      <td>67</td>\n",
              "      <td>8</td>\n",
              "      <td>521</td>\n",
              "      <td>308</td>\n",
              "      <td>4253</td>\n",
              "      <td>79</td>\n",
              "      <td>4</td>\n",
              "      <td>85</td>\n",
              "      <td>1</td>\n",
              "      <td>41</td>\n",
              "      <td>0</td>\n",
              "      <td>59</td>\n",
              "    </tr>\n",
              "    <tr>\n",
              "      <th>tour</th>\n",
              "      <td>1</td>\n",
              "      <td>21</td>\n",
              "      <td>57</td>\n",
              "      <td>368</td>\n",
              "      <td>280</td>\n",
              "      <td>261</td>\n",
              "      <td>2</td>\n",
              "      <td>174</td>\n",
              "      <td>126</td>\n",
              "      <td>498</td>\n",
              "      <td>102</td>\n",
              "      <td>11</td>\n",
              "      <td>72</td>\n",
              "      <td>3</td>\n",
              "      <td>9</td>\n",
              "      <td>59</td>\n",
              "      <td>0</td>\n",
              "    </tr>\n",
              "  </tbody>\n",
              "</table>\n",
              "</div>"
            ],
            "text/plain": [
              "                 business-events  cinema  ...  theater  tour\n",
              "business-events                0       0  ...        0     1\n",
              "cinema                         0       0  ...      194    21\n",
              "concert                        4     143  ...     1111    57\n",
              "education                    682     683  ...      540   368\n",
              "entertainment                 29    5634  ...     1220   280\n",
              "exhibition                    72      78  ...       67   261\n",
              "fashion                        6      15  ...        8     2\n",
              "festival                      51    1139  ...      521   174\n",
              "holiday                        0      60  ...      308   126\n",
              "kids                           9     165  ...     4253   498\n",
              "party                          2     344  ...       79   102\n",
              "photo                          1       3  ...        4    11\n",
              "recreation                     6      19  ...       85    72\n",
              "shopping                       1       2  ...        1     3\n",
              "social-activity                2      26  ...       41     9\n",
              "theater                        0     194  ...        0    59\n",
              "tour                           1      21  ...       59     0\n",
              "\n",
              "[17 rows x 17 columns]"
            ]
          },
          "metadata": {
            "tags": []
          },
          "execution_count": 23
        }
      ]
    },
    {
      "cell_type": "markdown",
      "metadata": {
        "id": "jPiDCe7gRDms"
      },
      "source": [
        "We can see a number of events with common categories, but the table does not include total number of events for each category. In other words, if only 1 event of \"shopping\" out of 1000 is also marked as \"business-event\" it shows very weak correlation, however, if we have the same result with 1 event of \"shopping\" out of 2 events it is interesting to know."
      ]
    },
    {
      "cell_type": "code",
      "metadata": {
        "id": "49kUdjg1MIj1"
      },
      "source": [
        "#here we transform our table from 'number' to 'percentege' by taking into account a total number of events for each category\n",
        "#we divide each column by the number of events and multiply 100 to find a percentege\n",
        "for cat in df_step2.index:\n",
        "  count = df[df['Category'].str.contains(cat, na=False)].count()[0]\n",
        "  df_step2[cat] = df_step2[cat].apply(lambda x: x/count*100)"
      ],
      "execution_count": 24,
      "outputs": []
    },
    {
      "cell_type": "code",
      "metadata": {
        "colab": {
          "base_uri": "https://localhost:8080/",
          "height": 456
        },
        "id": "J-t4URNneylL",
        "outputId": "f2c2983b-2f1c-4751-c55a-b0ea1da007f9"
      },
      "source": [
        "#let's highlight large percentege values to see the results better\n",
        "def style_large_values(v, props=''):\n",
        "    return props if v > 30 else None\n",
        "s2 = df_step2.style.applymap(style_large_values, props='color:red;')\\\n",
        "              .applymap(lambda v: 'opacity: 20%;' if (v < 5) else None)\n",
        "s2"
      ],
      "execution_count": 25,
      "outputs": [
        {
          "output_type": "execute_result",
          "data": {
            "text/html": [
              "<style  type=\"text/css\" >\n",
              "#T_61ef80fe_f862_11eb_9594_0242ac1c0002row0_col0,#T_61ef80fe_f862_11eb_9594_0242ac1c0002row0_col1,#T_61ef80fe_f862_11eb_9594_0242ac1c0002row0_col2,#T_61ef80fe_f862_11eb_9594_0242ac1c0002row0_col3,#T_61ef80fe_f862_11eb_9594_0242ac1c0002row0_col4,#T_61ef80fe_f862_11eb_9594_0242ac1c0002row0_col5,#T_61ef80fe_f862_11eb_9594_0242ac1c0002row0_col6,#T_61ef80fe_f862_11eb_9594_0242ac1c0002row0_col7,#T_61ef80fe_f862_11eb_9594_0242ac1c0002row0_col8,#T_61ef80fe_f862_11eb_9594_0242ac1c0002row0_col9,#T_61ef80fe_f862_11eb_9594_0242ac1c0002row0_col10,#T_61ef80fe_f862_11eb_9594_0242ac1c0002row0_col11,#T_61ef80fe_f862_11eb_9594_0242ac1c0002row0_col12,#T_61ef80fe_f862_11eb_9594_0242ac1c0002row0_col13,#T_61ef80fe_f862_11eb_9594_0242ac1c0002row0_col14,#T_61ef80fe_f862_11eb_9594_0242ac1c0002row0_col15,#T_61ef80fe_f862_11eb_9594_0242ac1c0002row0_col16,#T_61ef80fe_f862_11eb_9594_0242ac1c0002row1_col0,#T_61ef80fe_f862_11eb_9594_0242ac1c0002row1_col1,#T_61ef80fe_f862_11eb_9594_0242ac1c0002row1_col2,#T_61ef80fe_f862_11eb_9594_0242ac1c0002row1_col3,#T_61ef80fe_f862_11eb_9594_0242ac1c0002row1_col5,#T_61ef80fe_f862_11eb_9594_0242ac1c0002row1_col6,#T_61ef80fe_f862_11eb_9594_0242ac1c0002row1_col8,#T_61ef80fe_f862_11eb_9594_0242ac1c0002row1_col9,#T_61ef80fe_f862_11eb_9594_0242ac1c0002row1_col10,#T_61ef80fe_f862_11eb_9594_0242ac1c0002row1_col11,#T_61ef80fe_f862_11eb_9594_0242ac1c0002row1_col12,#T_61ef80fe_f862_11eb_9594_0242ac1c0002row1_col13,#T_61ef80fe_f862_11eb_9594_0242ac1c0002row1_col14,#T_61ef80fe_f862_11eb_9594_0242ac1c0002row1_col15,#T_61ef80fe_f862_11eb_9594_0242ac1c0002row1_col16,#T_61ef80fe_f862_11eb_9594_0242ac1c0002row2_col0,#T_61ef80fe_f862_11eb_9594_0242ac1c0002row2_col1,#T_61ef80fe_f862_11eb_9594_0242ac1c0002row2_col2,#T_61ef80fe_f862_11eb_9594_0242ac1c0002row2_col5,#T_61ef80fe_f862_11eb_9594_0242ac1c0002row2_col6,#T_61ef80fe_f862_11eb_9594_0242ac1c0002row2_col11,#T_61ef80fe_f862_11eb_9594_0242ac1c0002row2_col12,#T_61ef80fe_f862_11eb_9594_0242ac1c0002row2_col13,#T_61ef80fe_f862_11eb_9594_0242ac1c0002row2_col16,#T_61ef80fe_f862_11eb_9594_0242ac1c0002row3_col2,#T_61ef80fe_f862_11eb_9594_0242ac1c0002row3_col3,#T_61ef80fe_f862_11eb_9594_0242ac1c0002row3_col5,#T_61ef80fe_f862_11eb_9594_0242ac1c0002row3_col15,#T_61ef80fe_f862_11eb_9594_0242ac1c0002row4_col0,#T_61ef80fe_f862_11eb_9594_0242ac1c0002row4_col2,#T_61ef80fe_f862_11eb_9594_0242ac1c0002row4_col4,#T_61ef80fe_f862_11eb_9594_0242ac1c0002row4_col5,#T_61ef80fe_f862_11eb_9594_0242ac1c0002row5_col1,#T_61ef80fe_f862_11eb_9594_0242ac1c0002row5_col2,#T_61ef80fe_f862_11eb_9594_0242ac1c0002row5_col3,#T_61ef80fe_f862_11eb_9594_0242ac1c0002row5_col4,#T_61ef80fe_f862_11eb_9594_0242ac1c0002row5_col5,#T_61ef80fe_f862_11eb_9594_0242ac1c0002row5_col7,#T_61ef80fe_f862_11eb_9594_0242ac1c0002row5_col8,#T_61ef80fe_f862_11eb_9594_0242ac1c0002row5_col10,#T_61ef80fe_f862_11eb_9594_0242ac1c0002row5_col12,#T_61ef80fe_f862_11eb_9594_0242ac1c0002row5_col15,#T_61ef80fe_f862_11eb_9594_0242ac1c0002row6_col0,#T_61ef80fe_f862_11eb_9594_0242ac1c0002row6_col1,#T_61ef80fe_f862_11eb_9594_0242ac1c0002row6_col2,#T_61ef80fe_f862_11eb_9594_0242ac1c0002row6_col3,#T_61ef80fe_f862_11eb_9594_0242ac1c0002row6_col4,#T_61ef80fe_f862_11eb_9594_0242ac1c0002row6_col5,#T_61ef80fe_f862_11eb_9594_0242ac1c0002row6_col6,#T_61ef80fe_f862_11eb_9594_0242ac1c0002row6_col7,#T_61ef80fe_f862_11eb_9594_0242ac1c0002row6_col8,#T_61ef80fe_f862_11eb_9594_0242ac1c0002row6_col9,#T_61ef80fe_f862_11eb_9594_0242ac1c0002row6_col10,#T_61ef80fe_f862_11eb_9594_0242ac1c0002row6_col11,#T_61ef80fe_f862_11eb_9594_0242ac1c0002row6_col12,#T_61ef80fe_f862_11eb_9594_0242ac1c0002row6_col14,#T_61ef80fe_f862_11eb_9594_0242ac1c0002row6_col15,#T_61ef80fe_f862_11eb_9594_0242ac1c0002row6_col16,#T_61ef80fe_f862_11eb_9594_0242ac1c0002row7_col0,#T_61ef80fe_f862_11eb_9594_0242ac1c0002row7_col2,#T_61ef80fe_f862_11eb_9594_0242ac1c0002row7_col5,#T_61ef80fe_f862_11eb_9594_0242ac1c0002row7_col7,#T_61ef80fe_f862_11eb_9594_0242ac1c0002row7_col15,#T_61ef80fe_f862_11eb_9594_0242ac1c0002row7_col16,#T_61ef80fe_f862_11eb_9594_0242ac1c0002row8_col0,#T_61ef80fe_f862_11eb_9594_0242ac1c0002row8_col1,#T_61ef80fe_f862_11eb_9594_0242ac1c0002row8_col2,#T_61ef80fe_f862_11eb_9594_0242ac1c0002row8_col3,#T_61ef80fe_f862_11eb_9594_0242ac1c0002row8_col5,#T_61ef80fe_f862_11eb_9594_0242ac1c0002row8_col6,#T_61ef80fe_f862_11eb_9594_0242ac1c0002row8_col8,#T_61ef80fe_f862_11eb_9594_0242ac1c0002row8_col11,#T_61ef80fe_f862_11eb_9594_0242ac1c0002row8_col12,#T_61ef80fe_f862_11eb_9594_0242ac1c0002row8_col14,#T_61ef80fe_f862_11eb_9594_0242ac1c0002row8_col15,#T_61ef80fe_f862_11eb_9594_0242ac1c0002row8_col16,#T_61ef80fe_f862_11eb_9594_0242ac1c0002row9_col0,#T_61ef80fe_f862_11eb_9594_0242ac1c0002row9_col1,#T_61ef80fe_f862_11eb_9594_0242ac1c0002row9_col2,#T_61ef80fe_f862_11eb_9594_0242ac1c0002row9_col5,#T_61ef80fe_f862_11eb_9594_0242ac1c0002row9_col6,#T_61ef80fe_f862_11eb_9594_0242ac1c0002row9_col9,#T_61ef80fe_f862_11eb_9594_0242ac1c0002row9_col10,#T_61ef80fe_f862_11eb_9594_0242ac1c0002row9_col11,#T_61ef80fe_f862_11eb_9594_0242ac1c0002row9_col13,#T_61ef80fe_f862_11eb_9594_0242ac1c0002row10_col0,#T_61ef80fe_f862_11eb_9594_0242ac1c0002row10_col2,#T_61ef80fe_f862_11eb_9594_0242ac1c0002row10_col3,#T_61ef80fe_f862_11eb_9594_0242ac1c0002row10_col5,#T_61ef80fe_f862_11eb_9594_0242ac1c0002row10_col6,#T_61ef80fe_f862_11eb_9594_0242ac1c0002row10_col9,#T_61ef80fe_f862_11eb_9594_0242ac1c0002row10_col10,#T_61ef80fe_f862_11eb_9594_0242ac1c0002row10_col11,#T_61ef80fe_f862_11eb_9594_0242ac1c0002row10_col12,#T_61ef80fe_f862_11eb_9594_0242ac1c0002row10_col13,#T_61ef80fe_f862_11eb_9594_0242ac1c0002row10_col14,#T_61ef80fe_f862_11eb_9594_0242ac1c0002row10_col15,#T_61ef80fe_f862_11eb_9594_0242ac1c0002row10_col16,#T_61ef80fe_f862_11eb_9594_0242ac1c0002row11_col0,#T_61ef80fe_f862_11eb_9594_0242ac1c0002row11_col1,#T_61ef80fe_f862_11eb_9594_0242ac1c0002row11_col2,#T_61ef80fe_f862_11eb_9594_0242ac1c0002row11_col3,#T_61ef80fe_f862_11eb_9594_0242ac1c0002row11_col4,#T_61ef80fe_f862_11eb_9594_0242ac1c0002row11_col5,#T_61ef80fe_f862_11eb_9594_0242ac1c0002row11_col6,#T_61ef80fe_f862_11eb_9594_0242ac1c0002row11_col7,#T_61ef80fe_f862_11eb_9594_0242ac1c0002row11_col8,#T_61ef80fe_f862_11eb_9594_0242ac1c0002row11_col9,#T_61ef80fe_f862_11eb_9594_0242ac1c0002row11_col10,#T_61ef80fe_f862_11eb_9594_0242ac1c0002row11_col11,#T_61ef80fe_f862_11eb_9594_0242ac1c0002row11_col12,#T_61ef80fe_f862_11eb_9594_0242ac1c0002row11_col13,#T_61ef80fe_f862_11eb_9594_0242ac1c0002row11_col14,#T_61ef80fe_f862_11eb_9594_0242ac1c0002row11_col15,#T_61ef80fe_f862_11eb_9594_0242ac1c0002row11_col16,#T_61ef80fe_f862_11eb_9594_0242ac1c0002row12_col0,#T_61ef80fe_f862_11eb_9594_0242ac1c0002row12_col1,#T_61ef80fe_f862_11eb_9594_0242ac1c0002row12_col2,#T_61ef80fe_f862_11eb_9594_0242ac1c0002row12_col3,#T_61ef80fe_f862_11eb_9594_0242ac1c0002row12_col4,#T_61ef80fe_f862_11eb_9594_0242ac1c0002row12_col5,#T_61ef80fe_f862_11eb_9594_0242ac1c0002row12_col6,#T_61ef80fe_f862_11eb_9594_0242ac1c0002row12_col7,#T_61ef80fe_f862_11eb_9594_0242ac1c0002row12_col8,#T_61ef80fe_f862_11eb_9594_0242ac1c0002row12_col9,#T_61ef80fe_f862_11eb_9594_0242ac1c0002row12_col10,#T_61ef80fe_f862_11eb_9594_0242ac1c0002row12_col11,#T_61ef80fe_f862_11eb_9594_0242ac1c0002row12_col12,#T_61ef80fe_f862_11eb_9594_0242ac1c0002row12_col13,#T_61ef80fe_f862_11eb_9594_0242ac1c0002row12_col15,#T_61ef80fe_f862_11eb_9594_0242ac1c0002row12_col16,#T_61ef80fe_f862_11eb_9594_0242ac1c0002row13_col0,#T_61ef80fe_f862_11eb_9594_0242ac1c0002row13_col1,#T_61ef80fe_f862_11eb_9594_0242ac1c0002row13_col2,#T_61ef80fe_f862_11eb_9594_0242ac1c0002row13_col3,#T_61ef80fe_f862_11eb_9594_0242ac1c0002row13_col4,#T_61ef80fe_f862_11eb_9594_0242ac1c0002row13_col5,#T_61ef80fe_f862_11eb_9594_0242ac1c0002row13_col7,#T_61ef80fe_f862_11eb_9594_0242ac1c0002row13_col8,#T_61ef80fe_f862_11eb_9594_0242ac1c0002row13_col9,#T_61ef80fe_f862_11eb_9594_0242ac1c0002row13_col10,#T_61ef80fe_f862_11eb_9594_0242ac1c0002row13_col11,#T_61ef80fe_f862_11eb_9594_0242ac1c0002row13_col12,#T_61ef80fe_f862_11eb_9594_0242ac1c0002row13_col13,#T_61ef80fe_f862_11eb_9594_0242ac1c0002row13_col14,#T_61ef80fe_f862_11eb_9594_0242ac1c0002row13_col15,#T_61ef80fe_f862_11eb_9594_0242ac1c0002row13_col16,#T_61ef80fe_f862_11eb_9594_0242ac1c0002row14_col0,#T_61ef80fe_f862_11eb_9594_0242ac1c0002row14_col1,#T_61ef80fe_f862_11eb_9594_0242ac1c0002row14_col2,#T_61ef80fe_f862_11eb_9594_0242ac1c0002row14_col3,#T_61ef80fe_f862_11eb_9594_0242ac1c0002row14_col4,#T_61ef80fe_f862_11eb_9594_0242ac1c0002row14_col5,#T_61ef80fe_f862_11eb_9594_0242ac1c0002row14_col6,#T_61ef80fe_f862_11eb_9594_0242ac1c0002row14_col7,#T_61ef80fe_f862_11eb_9594_0242ac1c0002row14_col8,#T_61ef80fe_f862_11eb_9594_0242ac1c0002row14_col9,#T_61ef80fe_f862_11eb_9594_0242ac1c0002row14_col10,#T_61ef80fe_f862_11eb_9594_0242ac1c0002row14_col11,#T_61ef80fe_f862_11eb_9594_0242ac1c0002row14_col12,#T_61ef80fe_f862_11eb_9594_0242ac1c0002row14_col13,#T_61ef80fe_f862_11eb_9594_0242ac1c0002row14_col14,#T_61ef80fe_f862_11eb_9594_0242ac1c0002row14_col15,#T_61ef80fe_f862_11eb_9594_0242ac1c0002row14_col16,#T_61ef80fe_f862_11eb_9594_0242ac1c0002row15_col0,#T_61ef80fe_f862_11eb_9594_0242ac1c0002row15_col1,#T_61ef80fe_f862_11eb_9594_0242ac1c0002row15_col2,#T_61ef80fe_f862_11eb_9594_0242ac1c0002row15_col3,#T_61ef80fe_f862_11eb_9594_0242ac1c0002row15_col5,#T_61ef80fe_f862_11eb_9594_0242ac1c0002row15_col6,#T_61ef80fe_f862_11eb_9594_0242ac1c0002row15_col7,#T_61ef80fe_f862_11eb_9594_0242ac1c0002row15_col10,#T_61ef80fe_f862_11eb_9594_0242ac1c0002row15_col11,#T_61ef80fe_f862_11eb_9594_0242ac1c0002row15_col12,#T_61ef80fe_f862_11eb_9594_0242ac1c0002row15_col13,#T_61ef80fe_f862_11eb_9594_0242ac1c0002row15_col14,#T_61ef80fe_f862_11eb_9594_0242ac1c0002row15_col15,#T_61ef80fe_f862_11eb_9594_0242ac1c0002row15_col16,#T_61ef80fe_f862_11eb_9594_0242ac1c0002row16_col0,#T_61ef80fe_f862_11eb_9594_0242ac1c0002row16_col1,#T_61ef80fe_f862_11eb_9594_0242ac1c0002row16_col2,#T_61ef80fe_f862_11eb_9594_0242ac1c0002row16_col3,#T_61ef80fe_f862_11eb_9594_0242ac1c0002row16_col4,#T_61ef80fe_f862_11eb_9594_0242ac1c0002row16_col5,#T_61ef80fe_f862_11eb_9594_0242ac1c0002row16_col6,#T_61ef80fe_f862_11eb_9594_0242ac1c0002row16_col7,#T_61ef80fe_f862_11eb_9594_0242ac1c0002row16_col8,#T_61ef80fe_f862_11eb_9594_0242ac1c0002row16_col9,#T_61ef80fe_f862_11eb_9594_0242ac1c0002row16_col10,#T_61ef80fe_f862_11eb_9594_0242ac1c0002row16_col11,#T_61ef80fe_f862_11eb_9594_0242ac1c0002row16_col12,#T_61ef80fe_f862_11eb_9594_0242ac1c0002row16_col13,#T_61ef80fe_f862_11eb_9594_0242ac1c0002row16_col14,#T_61ef80fe_f862_11eb_9594_0242ac1c0002row16_col15,#T_61ef80fe_f862_11eb_9594_0242ac1c0002row16_col16{\n",
              "            opacity:  20%;\n",
              "        }#T_61ef80fe_f862_11eb_9594_0242ac1c0002row3_col0,#T_61ef80fe_f862_11eb_9594_0242ac1c0002row3_col6,#T_61ef80fe_f862_11eb_9594_0242ac1c0002row4_col1,#T_61ef80fe_f862_11eb_9594_0242ac1c0002row4_col13,#T_61ef80fe_f862_11eb_9594_0242ac1c0002row5_col11,#T_61ef80fe_f862_11eb_9594_0242ac1c0002row15_col9{\n",
              "            color: red;\n",
              "        }</style><table id=\"T_61ef80fe_f862_11eb_9594_0242ac1c0002\" ><thead>    <tr>        <th class=\"blank level0\" ></th>        <th class=\"col_heading level0 col0\" >business-events</th>        <th class=\"col_heading level0 col1\" >cinema</th>        <th class=\"col_heading level0 col2\" >concert</th>        <th class=\"col_heading level0 col3\" >education</th>        <th class=\"col_heading level0 col4\" >entertainment</th>        <th class=\"col_heading level0 col5\" >exhibition</th>        <th class=\"col_heading level0 col6\" >fashion</th>        <th class=\"col_heading level0 col7\" >festival</th>        <th class=\"col_heading level0 col8\" >holiday</th>        <th class=\"col_heading level0 col9\" >kids</th>        <th class=\"col_heading level0 col10\" >party</th>        <th class=\"col_heading level0 col11\" >photo</th>        <th class=\"col_heading level0 col12\" >recreation</th>        <th class=\"col_heading level0 col13\" >shopping</th>        <th class=\"col_heading level0 col14\" >social-activity</th>        <th class=\"col_heading level0 col15\" >theater</th>        <th class=\"col_heading level0 col16\" >tour</th>    </tr></thead><tbody>\n",
              "                <tr>\n",
              "                        <th id=\"T_61ef80fe_f862_11eb_9594_0242ac1c0002level0_row0\" class=\"row_heading level0 row0\" >business-events</th>\n",
              "                        <td id=\"T_61ef80fe_f862_11eb_9594_0242ac1c0002row0_col0\" class=\"data row0 col0\" >0.000000</td>\n",
              "                        <td id=\"T_61ef80fe_f862_11eb_9594_0242ac1c0002row0_col1\" class=\"data row0 col1\" >0.000000</td>\n",
              "                        <td id=\"T_61ef80fe_f862_11eb_9594_0242ac1c0002row0_col2\" class=\"data row0 col2\" >0.006132</td>\n",
              "                        <td id=\"T_61ef80fe_f862_11eb_9594_0242ac1c0002row0_col3\" class=\"data row0 col3\" >3.461578</td>\n",
              "                        <td id=\"T_61ef80fe_f862_11eb_9594_0242ac1c0002row0_col4\" class=\"data row0 col4\" >0.152768</td>\n",
              "                        <td id=\"T_61ef80fe_f862_11eb_9594_0242ac1c0002row0_col5\" class=\"data row0 col5\" >0.384656</td>\n",
              "                        <td id=\"T_61ef80fe_f862_11eb_9594_0242ac1c0002row0_col6\" class=\"data row0 col6\" >0.561272</td>\n",
              "                        <td id=\"T_61ef80fe_f862_11eb_9594_0242ac1c0002row0_col7\" class=\"data row0 col7\" >0.380370</td>\n",
              "                        <td id=\"T_61ef80fe_f862_11eb_9594_0242ac1c0002row0_col8\" class=\"data row0 col8\" >0.000000</td>\n",
              "                        <td id=\"T_61ef80fe_f862_11eb_9594_0242ac1c0002row0_col9\" class=\"data row0 col9\" >0.074044</td>\n",
              "                        <td id=\"T_61ef80fe_f862_11eb_9594_0242ac1c0002row0_col10\" class=\"data row0 col10\" >0.022696</td>\n",
              "                        <td id=\"T_61ef80fe_f862_11eb_9594_0242ac1c0002row0_col11\" class=\"data row0 col11\" >0.138504</td>\n",
              "                        <td id=\"T_61ef80fe_f862_11eb_9594_0242ac1c0002row0_col12\" class=\"data row0 col12\" >0.127578</td>\n",
              "                        <td id=\"T_61ef80fe_f862_11eb_9594_0242ac1c0002row0_col13\" class=\"data row0 col13\" >0.142248</td>\n",
              "                        <td id=\"T_61ef80fe_f862_11eb_9594_0242ac1c0002row0_col14\" class=\"data row0 col14\" >0.129702</td>\n",
              "                        <td id=\"T_61ef80fe_f862_11eb_9594_0242ac1c0002row0_col15\" class=\"data row0 col15\" >0.000000</td>\n",
              "                        <td id=\"T_61ef80fe_f862_11eb_9594_0242ac1c0002row0_col16\" class=\"data row0 col16\" >0.023602</td>\n",
              "            </tr>\n",
              "            <tr>\n",
              "                        <th id=\"T_61ef80fe_f862_11eb_9594_0242ac1c0002level0_row1\" class=\"row_heading level0 row1\" >cinema</th>\n",
              "                        <td id=\"T_61ef80fe_f862_11eb_9594_0242ac1c0002row1_col0\" class=\"data row1 col0\" >0.000000</td>\n",
              "                        <td id=\"T_61ef80fe_f862_11eb_9594_0242ac1c0002row1_col1\" class=\"data row1 col1\" >0.000000</td>\n",
              "                        <td id=\"T_61ef80fe_f862_11eb_9594_0242ac1c0002row1_col2\" class=\"data row1 col2\" >0.219214</td>\n",
              "                        <td id=\"T_61ef80fe_f862_11eb_9594_0242ac1c0002row1_col3\" class=\"data row1 col3\" >3.466653</td>\n",
              "                        <td id=\"T_61ef80fe_f862_11eb_9594_0242ac1c0002row1_col4\" class=\"data row1 col4\" >29.679187</td>\n",
              "                        <td id=\"T_61ef80fe_f862_11eb_9594_0242ac1c0002row1_col5\" class=\"data row1 col5\" >0.416711</td>\n",
              "                        <td id=\"T_61ef80fe_f862_11eb_9594_0242ac1c0002row1_col6\" class=\"data row1 col6\" >1.403181</td>\n",
              "                        <td id=\"T_61ef80fe_f862_11eb_9594_0242ac1c0002row1_col7\" class=\"data row1 col7\" >8.494928</td>\n",
              "                        <td id=\"T_61ef80fe_f862_11eb_9594_0242ac1c0002row1_col8\" class=\"data row1 col8\" >1.355932</td>\n",
              "                        <td id=\"T_61ef80fe_f862_11eb_9594_0242ac1c0002row1_col9\" class=\"data row1 col9\" >1.357466</td>\n",
              "                        <td id=\"T_61ef80fe_f862_11eb_9594_0242ac1c0002row1_col10\" class=\"data row1 col10\" >3.903768</td>\n",
              "                        <td id=\"T_61ef80fe_f862_11eb_9594_0242ac1c0002row1_col11\" class=\"data row1 col11\" >0.415512</td>\n",
              "                        <td id=\"T_61ef80fe_f862_11eb_9594_0242ac1c0002row1_col12\" class=\"data row1 col12\" >0.403997</td>\n",
              "                        <td id=\"T_61ef80fe_f862_11eb_9594_0242ac1c0002row1_col13\" class=\"data row1 col13\" >0.284495</td>\n",
              "                        <td id=\"T_61ef80fe_f862_11eb_9594_0242ac1c0002row1_col14\" class=\"data row1 col14\" >1.686122</td>\n",
              "                        <td id=\"T_61ef80fe_f862_11eb_9594_0242ac1c0002row1_col15\" class=\"data row1 col15\" >0.931573</td>\n",
              "                        <td id=\"T_61ef80fe_f862_11eb_9594_0242ac1c0002row1_col16\" class=\"data row1 col16\" >0.495634</td>\n",
              "            </tr>\n",
              "            <tr>\n",
              "                        <th id=\"T_61ef80fe_f862_11eb_9594_0242ac1c0002level0_row2\" class=\"row_heading level0 row2\" >concert</th>\n",
              "                        <td id=\"T_61ef80fe_f862_11eb_9594_0242ac1c0002row2_col0\" class=\"data row2 col0\" >0.314713</td>\n",
              "                        <td id=\"T_61ef80fe_f862_11eb_9594_0242ac1c0002row2_col1\" class=\"data row2 col1\" >2.473620</td>\n",
              "                        <td id=\"T_61ef80fe_f862_11eb_9594_0242ac1c0002row2_col2\" class=\"data row2 col2\" >0.000000</td>\n",
              "                        <td id=\"T_61ef80fe_f862_11eb_9594_0242ac1c0002row2_col3\" class=\"data row2 col3\" >5.633946</td>\n",
              "                        <td id=\"T_61ef80fe_f862_11eb_9594_0242ac1c0002row2_col4\" class=\"data row2 col4\" >9.529579</td>\n",
              "                        <td id=\"T_61ef80fe_f862_11eb_9594_0242ac1c0002row2_col5\" class=\"data row2 col5\" >0.731916</td>\n",
              "                        <td id=\"T_61ef80fe_f862_11eb_9594_0242ac1c0002row2_col6\" class=\"data row2 col6\" >1.216090</td>\n",
              "                        <td id=\"T_61ef80fe_f862_11eb_9594_0242ac1c0002row2_col7\" class=\"data row2 col7\" >18.556086</td>\n",
              "                        <td id=\"T_61ef80fe_f862_11eb_9594_0242ac1c0002row2_col8\" class=\"data row2 col8\" >8.000000</td>\n",
              "                        <td id=\"T_61ef80fe_f862_11eb_9594_0242ac1c0002row2_col9\" class=\"data row2 col9\" >9.206088</td>\n",
              "                        <td id=\"T_61ef80fe_f862_11eb_9594_0242ac1c0002row2_col10\" class=\"data row2 col10\" >21.754426</td>\n",
              "                        <td id=\"T_61ef80fe_f862_11eb_9594_0242ac1c0002row2_col11\" class=\"data row2 col11\" >0.692521</td>\n",
              "                        <td id=\"T_61ef80fe_f862_11eb_9594_0242ac1c0002row2_col12\" class=\"data row2 col12\" >3.529662</td>\n",
              "                        <td id=\"T_61ef80fe_f862_11eb_9594_0242ac1c0002row2_col13\" class=\"data row2 col13\" >1.991465</td>\n",
              "                        <td id=\"T_61ef80fe_f862_11eb_9594_0242ac1c0002row2_col14\" class=\"data row2 col14\" >18.677043</td>\n",
              "                        <td id=\"T_61ef80fe_f862_11eb_9594_0242ac1c0002row2_col15\" class=\"data row2 col15\" >5.334934</td>\n",
              "                        <td id=\"T_61ef80fe_f862_11eb_9594_0242ac1c0002row2_col16\" class=\"data row2 col16\" >1.345291</td>\n",
              "            </tr>\n",
              "            <tr>\n",
              "                        <th id=\"T_61ef80fe_f862_11eb_9594_0242ac1c0002level0_row3\" class=\"row_heading level0 row3\" >education</th>\n",
              "                        <td id=\"T_61ef80fe_f862_11eb_9594_0242ac1c0002row3_col0\" class=\"data row3 col0\" >53.658537</td>\n",
              "                        <td id=\"T_61ef80fe_f862_11eb_9594_0242ac1c0002row3_col1\" class=\"data row3 col1\" >11.814565</td>\n",
              "                        <td id=\"T_61ef80fe_f862_11eb_9594_0242ac1c0002row3_col2\" class=\"data row3 col2\" >1.701593</td>\n",
              "                        <td id=\"T_61ef80fe_f862_11eb_9594_0242ac1c0002row3_col3\" class=\"data row3 col3\" >0.000000</td>\n",
              "                        <td id=\"T_61ef80fe_f862_11eb_9594_0242ac1c0002row3_col4\" class=\"data row3 col4\" >10.235474</td>\n",
              "                        <td id=\"T_61ef80fe_f862_11eb_9594_0242ac1c0002row3_col5\" class=\"data row3 col5\" >3.600812</td>\n",
              "                        <td id=\"T_61ef80fe_f862_11eb_9594_0242ac1c0002row3_col6\" class=\"data row3 col6\" >51.543499</td>\n",
              "                        <td id=\"T_61ef80fe_f862_11eb_9594_0242ac1c0002row3_col7\" class=\"data row3 col7\" >9.516706</td>\n",
              "                        <td id=\"T_61ef80fe_f862_11eb_9594_0242ac1c0002row3_col8\" class=\"data row3 col8\" >9.807910</td>\n",
              "                        <td id=\"T_61ef80fe_f862_11eb_9594_0242ac1c0002row3_col9\" class=\"data row3 col9\" >18.371041</td>\n",
              "                        <td id=\"T_61ef80fe_f862_11eb_9594_0242ac1c0002row3_col10\" class=\"data row3 col10\" >5.401725</td>\n",
              "                        <td id=\"T_61ef80fe_f862_11eb_9594_0242ac1c0002row3_col11\" class=\"data row3 col11\" >16.204986</td>\n",
              "                        <td id=\"T_61ef80fe_f862_11eb_9594_0242ac1c0002row3_col12\" class=\"data row3 col12\" >14.820327</td>\n",
              "                        <td id=\"T_61ef80fe_f862_11eb_9594_0242ac1c0002row3_col13\" class=\"data row3 col13\" >8.250356</td>\n",
              "                        <td id=\"T_61ef80fe_f862_11eb_9594_0242ac1c0002row3_col14\" class=\"data row3 col14\" >14.656291</td>\n",
              "                        <td id=\"T_61ef80fe_f862_11eb_9594_0242ac1c0002row3_col15\" class=\"data row3 col15\" >2.593037</td>\n",
              "                        <td id=\"T_61ef80fe_f862_11eb_9594_0242ac1c0002row3_col16\" class=\"data row3 col16\" >8.685391</td>\n",
              "            </tr>\n",
              "            <tr>\n",
              "                        <th id=\"T_61ef80fe_f862_11eb_9594_0242ac1c0002level0_row4\" class=\"row_heading level0 row4\" >entertainment</th>\n",
              "                        <td id=\"T_61ef80fe_f862_11eb_9594_0242ac1c0002row4_col0\" class=\"data row4 col0\" >2.281668</td>\n",
              "                        <td id=\"T_61ef80fe_f862_11eb_9594_0242ac1c0002row4_col1\" class=\"data row4 col1\" >97.457187</td>\n",
              "                        <td id=\"T_61ef80fe_f862_11eb_9594_0242ac1c0002row4_col2\" class=\"data row4 col2\" >2.773136</td>\n",
              "                        <td id=\"T_61ef80fe_f862_11eb_9594_0242ac1c0002row4_col3\" class=\"data row4 col3\" >9.861943</td>\n",
              "                        <td id=\"T_61ef80fe_f862_11eb_9594_0242ac1c0002row4_col4\" class=\"data row4 col4\" >0.000000</td>\n",
              "                        <td id=\"T_61ef80fe_f862_11eb_9594_0242ac1c0002row4_col5\" class=\"data row4 col5\" >4.834918</td>\n",
              "                        <td id=\"T_61ef80fe_f862_11eb_9594_0242ac1c0002row4_col6\" class=\"data row4 col6\" >14.218896</td>\n",
              "                        <td id=\"T_61ef80fe_f862_11eb_9594_0242ac1c0002row4_col7\" class=\"data row4 col7\" >22.874403</td>\n",
              "                        <td id=\"T_61ef80fe_f862_11eb_9594_0242ac1c0002row4_col8\" class=\"data row4 col8\" >22.079096</td>\n",
              "                        <td id=\"T_61ef80fe_f862_11eb_9594_0242ac1c0002row4_col9\" class=\"data row4 col9\" >17.663513</td>\n",
              "                        <td id=\"T_61ef80fe_f862_11eb_9594_0242ac1c0002row4_col10\" class=\"data row4 col10\" >13.946891</td>\n",
              "                        <td id=\"T_61ef80fe_f862_11eb_9594_0242ac1c0002row4_col11\" class=\"data row4 col11\" >8.171745</td>\n",
              "                        <td id=\"T_61ef80fe_f862_11eb_9594_0242ac1c0002row4_col12\" class=\"data row4 col12\" >19.072932</td>\n",
              "                        <td id=\"T_61ef80fe_f862_11eb_9594_0242ac1c0002row4_col13\" class=\"data row4 col13\" >38.691323</td>\n",
              "                        <td id=\"T_61ef80fe_f862_11eb_9594_0242ac1c0002row4_col14\" class=\"data row4 col14\" >21.660182</td>\n",
              "                        <td id=\"T_61ef80fe_f862_11eb_9594_0242ac1c0002row4_col15\" class=\"data row4 col15\" >5.858343</td>\n",
              "                        <td id=\"T_61ef80fe_f862_11eb_9594_0242ac1c0002row4_col16\" class=\"data row4 col16\" >6.608449</td>\n",
              "            </tr>\n",
              "            <tr>\n",
              "                        <th id=\"T_61ef80fe_f862_11eb_9594_0242ac1c0002level0_row5\" class=\"row_heading level0 row5\" >exhibition</th>\n",
              "                        <td id=\"T_61ef80fe_f862_11eb_9594_0242ac1c0002row5_col0\" class=\"data row5 col0\" >5.664831</td>\n",
              "                        <td id=\"T_61ef80fe_f862_11eb_9594_0242ac1c0002row5_col1\" class=\"data row5 col1\" >1.349248</td>\n",
              "                        <td id=\"T_61ef80fe_f862_11eb_9594_0242ac1c0002row5_col2\" class=\"data row5 col2\" >0.210016</td>\n",
              "                        <td id=\"T_61ef80fe_f862_11eb_9594_0242ac1c0002row5_col3\" class=\"data row5 col3\" >3.420972</td>\n",
              "                        <td id=\"T_61ef80fe_f862_11eb_9594_0242ac1c0002row5_col4\" class=\"data row5 col4\" >4.767423</td>\n",
              "                        <td id=\"T_61ef80fe_f862_11eb_9594_0242ac1c0002row5_col5\" class=\"data row5 col5\" >0.000000</td>\n",
              "                        <td id=\"T_61ef80fe_f862_11eb_9594_0242ac1c0002row5_col6\" class=\"data row5 col6\" >16.183349</td>\n",
              "                        <td id=\"T_61ef80fe_f862_11eb_9594_0242ac1c0002row5_col7\" class=\"data row5 col7\" >4.743437</td>\n",
              "                        <td id=\"T_61ef80fe_f862_11eb_9594_0242ac1c0002row5_col8\" class=\"data row5 col8\" >2.192090</td>\n",
              "                        <td id=\"T_61ef80fe_f862_11eb_9594_0242ac1c0002row5_col9\" class=\"data row5 col9\" >6.120938</td>\n",
              "                        <td id=\"T_61ef80fe_f862_11eb_9594_0242ac1c0002row5_col10\" class=\"data row5 col10\" >0.998638</td>\n",
              "                        <td id=\"T_61ef80fe_f862_11eb_9594_0242ac1c0002row5_col11\" class=\"data row5 col11\" >61.911357</td>\n",
              "                        <td id=\"T_61ef80fe_f862_11eb_9594_0242ac1c0002row5_col12\" class=\"data row5 col12\" >0.956836</td>\n",
              "                        <td id=\"T_61ef80fe_f862_11eb_9594_0242ac1c0002row5_col13\" class=\"data row5 col13\" >5.405405</td>\n",
              "                        <td id=\"T_61ef80fe_f862_11eb_9594_0242ac1c0002row5_col14\" class=\"data row5 col14\" >11.802853</td>\n",
              "                        <td id=\"T_61ef80fe_f862_11eb_9594_0242ac1c0002row5_col15\" class=\"data row5 col15\" >0.321729</td>\n",
              "                        <td id=\"T_61ef80fe_f862_11eb_9594_0242ac1c0002row5_col16\" class=\"data row5 col16\" >6.160019</td>\n",
              "            </tr>\n",
              "            <tr>\n",
              "                        <th id=\"T_61ef80fe_f862_11eb_9594_0242ac1c0002level0_row6\" class=\"row_heading level0 row6\" >fashion</th>\n",
              "                        <td id=\"T_61ef80fe_f862_11eb_9594_0242ac1c0002row6_col0\" class=\"data row6 col0\" >0.472069</td>\n",
              "                        <td id=\"T_61ef80fe_f862_11eb_9594_0242ac1c0002row6_col1\" class=\"data row6 col1\" >0.259471</td>\n",
              "                        <td id=\"T_61ef80fe_f862_11eb_9594_0242ac1c0002row6_col2\" class=\"data row6 col2\" >0.019929</td>\n",
              "                        <td id=\"T_61ef80fe_f862_11eb_9594_0242ac1c0002row6_col3\" class=\"data row6 col3\" >2.796670</td>\n",
              "                        <td id=\"T_61ef80fe_f862_11eb_9594_0242ac1c0002row6_col4\" class=\"data row6 col4\" >0.800716</td>\n",
              "                        <td id=\"T_61ef80fe_f862_11eb_9594_0242ac1c0002row6_col5\" class=\"data row6 col5\" >0.924244</td>\n",
              "                        <td id=\"T_61ef80fe_f862_11eb_9594_0242ac1c0002row6_col6\" class=\"data row6 col6\" >0.000000</td>\n",
              "                        <td id=\"T_61ef80fe_f862_11eb_9594_0242ac1c0002row6_col7\" class=\"data row6 col7\" >0.693616</td>\n",
              "                        <td id=\"T_61ef80fe_f862_11eb_9594_0242ac1c0002row6_col8\" class=\"data row6 col8\" >0.655367</td>\n",
              "                        <td id=\"T_61ef80fe_f862_11eb_9594_0242ac1c0002row6_col9\" class=\"data row6 col9\" >0.172768</td>\n",
              "                        <td id=\"T_61ef80fe_f862_11eb_9594_0242ac1c0002row6_col10\" class=\"data row6 col10\" >0.453926</td>\n",
              "                        <td id=\"T_61ef80fe_f862_11eb_9594_0242ac1c0002row6_col11\" class=\"data row6 col11\" >2.908587</td>\n",
              "                        <td id=\"T_61ef80fe_f862_11eb_9594_0242ac1c0002row6_col12\" class=\"data row6 col12\" >0.276419</td>\n",
              "                        <td id=\"T_61ef80fe_f862_11eb_9594_0242ac1c0002row6_col13\" class=\"data row6 col13\" >12.944523</td>\n",
              "                        <td id=\"T_61ef80fe_f862_11eb_9594_0242ac1c0002row6_col14\" class=\"data row6 col14\" >0.713359</td>\n",
              "                        <td id=\"T_61ef80fe_f862_11eb_9594_0242ac1c0002row6_col15\" class=\"data row6 col15\" >0.038415</td>\n",
              "                        <td id=\"T_61ef80fe_f862_11eb_9594_0242ac1c0002row6_col16\" class=\"data row6 col16\" >0.047203</td>\n",
              "            </tr>\n",
              "            <tr>\n",
              "                        <th id=\"T_61ef80fe_f862_11eb_9594_0242ac1c0002level0_row7\" class=\"row_heading level0 row7\" >festival</th>\n",
              "                        <td id=\"T_61ef80fe_f862_11eb_9594_0242ac1c0002row7_col0\" class=\"data row7 col0\" >4.012589</td>\n",
              "                        <td id=\"T_61ef80fe_f862_11eb_9594_0242ac1c0002row7_col1\" class=\"data row7 col1\" >19.702474</td>\n",
              "                        <td id=\"T_61ef80fe_f862_11eb_9594_0242ac1c0002row7_col2\" class=\"data row7 col2\" >3.814021</td>\n",
              "                        <td id=\"T_61ef80fe_f862_11eb_9594_0242ac1c0002row7_col3\" class=\"data row7 col3\" >6.476500</td>\n",
              "                        <td id=\"T_61ef80fe_f862_11eb_9594_0242ac1c0002row7_col4\" class=\"data row7 col4\" >16.156561</td>\n",
              "                        <td id=\"T_61ef80fe_f862_11eb_9594_0242ac1c0002row7_col5\" class=\"data row7 col5\" >3.397799</td>\n",
              "                        <td id=\"T_61ef80fe_f862_11eb_9594_0242ac1c0002row7_col6\" class=\"data row7 col6\" >8.699719</td>\n",
              "                        <td id=\"T_61ef80fe_f862_11eb_9594_0242ac1c0002row7_col7\" class=\"data row7 col7\" >0.000000</td>\n",
              "                        <td id=\"T_61ef80fe_f862_11eb_9594_0242ac1c0002row7_col8\" class=\"data row7 col8\" >19.774011</td>\n",
              "                        <td id=\"T_61ef80fe_f862_11eb_9594_0242ac1c0002row7_col9\" class=\"data row7 col9\" >12.719046</td>\n",
              "                        <td id=\"T_61ef80fe_f862_11eb_9594_0242ac1c0002row7_col10\" class=\"data row7 col10\" >7.648661</td>\n",
              "                        <td id=\"T_61ef80fe_f862_11eb_9594_0242ac1c0002row7_col11\" class=\"data row7 col11\" >8.448753</td>\n",
              "                        <td id=\"T_61ef80fe_f862_11eb_9594_0242ac1c0002row7_col12\" class=\"data row7 col12\" >13.799702</td>\n",
              "                        <td id=\"T_61ef80fe_f862_11eb_9594_0242ac1c0002row7_col13\" class=\"data row7 col13\" >6.258890</td>\n",
              "                        <td id=\"T_61ef80fe_f862_11eb_9594_0242ac1c0002row7_col14\" class=\"data row7 col14\" >23.476005</td>\n",
              "                        <td id=\"T_61ef80fe_f862_11eb_9594_0242ac1c0002row7_col15\" class=\"data row7 col15\" >2.501801</td>\n",
              "                        <td id=\"T_61ef80fe_f862_11eb_9594_0242ac1c0002row7_col16\" class=\"data row7 col16\" >4.106679</td>\n",
              "            </tr>\n",
              "            <tr>\n",
              "                        <th id=\"T_61ef80fe_f862_11eb_9594_0242ac1c0002level0_row8\" class=\"row_heading level0 row8\" >holiday</th>\n",
              "                        <td id=\"T_61ef80fe_f862_11eb_9594_0242ac1c0002row8_col0\" class=\"data row8 col0\" >0.000000</td>\n",
              "                        <td id=\"T_61ef80fe_f862_11eb_9594_0242ac1c0002row8_col1\" class=\"data row8 col1\" >1.037883</td>\n",
              "                        <td id=\"T_61ef80fe_f862_11eb_9594_0242ac1c0002row8_col2\" class=\"data row8 col2\" >0.542670</td>\n",
              "                        <td id=\"T_61ef80fe_f862_11eb_9594_0242ac1c0002row8_col3\" class=\"data row8 col3\" >2.202822</td>\n",
              "                        <td id=\"T_61ef80fe_f862_11eb_9594_0242ac1c0002row8_col4\" class=\"data row8 col4\" >5.146710</td>\n",
              "                        <td id=\"T_61ef80fe_f862_11eb_9594_0242ac1c0002row8_col5\" class=\"data row8 col5\" >0.518218</td>\n",
              "                        <td id=\"T_61ef80fe_f862_11eb_9594_0242ac1c0002row8_col6\" class=\"data row8 col6\" >2.712816</td>\n",
              "                        <td id=\"T_61ef80fe_f862_11eb_9594_0242ac1c0002row8_col7\" class=\"data row8 col7\" >6.525955</td>\n",
              "                        <td id=\"T_61ef80fe_f862_11eb_9594_0242ac1c0002row8_col8\" class=\"data row8 col8\" >0.000000</td>\n",
              "                        <td id=\"T_61ef80fe_f862_11eb_9594_0242ac1c0002row8_col9\" class=\"data row8 col9\" >10.662279</td>\n",
              "                        <td id=\"T_61ef80fe_f862_11eb_9594_0242ac1c0002row8_col10\" class=\"data row8 col10\" >7.796187</td>\n",
              "                        <td id=\"T_61ef80fe_f862_11eb_9594_0242ac1c0002row8_col11\" class=\"data row8 col11\" >2.631579</td>\n",
              "                        <td id=\"T_61ef80fe_f862_11eb_9594_0242ac1c0002row8_col12\" class=\"data row8 col12\" >4.125027</td>\n",
              "                        <td id=\"T_61ef80fe_f862_11eb_9594_0242ac1c0002row8_col13\" class=\"data row8 col13\" >8.108108</td>\n",
              "                        <td id=\"T_61ef80fe_f862_11eb_9594_0242ac1c0002row8_col14\" class=\"data row8 col14\" >4.863813</td>\n",
              "                        <td id=\"T_61ef80fe_f862_11eb_9594_0242ac1c0002row8_col15\" class=\"data row8 col15\" >1.478992</td>\n",
              "                        <td id=\"T_61ef80fe_f862_11eb_9594_0242ac1c0002row8_col16\" class=\"data row8 col16\" >2.973802</td>\n",
              "            </tr>\n",
              "            <tr>\n",
              "                        <th id=\"T_61ef80fe_f862_11eb_9594_0242ac1c0002level0_row9\" class=\"row_heading level0 row9\" >kids</th>\n",
              "                        <td id=\"T_61ef80fe_f862_11eb_9594_0242ac1c0002row9_col0\" class=\"data row9 col0\" >0.708104</td>\n",
              "                        <td id=\"T_61ef80fe_f862_11eb_9594_0242ac1c0002row9_col1\" class=\"data row9 col1\" >2.854177</td>\n",
              "                        <td id=\"T_61ef80fe_f862_11eb_9594_0242ac1c0002row9_col2\" class=\"data row9 col2\" >1.715389</td>\n",
              "                        <td id=\"T_61ef80fe_f862_11eb_9594_0242ac1c0002row9_col3\" class=\"data row9 col3\" >11.333875</td>\n",
              "                        <td id=\"T_61ef80fe_f862_11eb_9594_0242ac1c0002row9_col4\" class=\"data row9 col4\" >11.310120</td>\n",
              "                        <td id=\"T_61ef80fe_f862_11eb_9594_0242ac1c0002row9_col5\" class=\"data row9 col5\" >3.974784</td>\n",
              "                        <td id=\"T_61ef80fe_f862_11eb_9594_0242ac1c0002row9_col6\" class=\"data row9 col6\" >1.964453</td>\n",
              "                        <td id=\"T_61ef80fe_f862_11eb_9594_0242ac1c0002row9_col7\" class=\"data row9 col7\" >11.530430</td>\n",
              "                        <td id=\"T_61ef80fe_f862_11eb_9594_0242ac1c0002row9_col8\" class=\"data row9 col8\" >29.288136</td>\n",
              "                        <td id=\"T_61ef80fe_f862_11eb_9594_0242ac1c0002row9_col9\" class=\"data row9 col9\" >0.000000</td>\n",
              "                        <td id=\"T_61ef80fe_f862_11eb_9594_0242ac1c0002row9_col10\" class=\"data row9 col10\" >1.747617</td>\n",
              "                        <td id=\"T_61ef80fe_f862_11eb_9594_0242ac1c0002row9_col11\" class=\"data row9 col11\" >4.293629</td>\n",
              "                        <td id=\"T_61ef80fe_f862_11eb_9594_0242ac1c0002row9_col12\" class=\"data row9 col12\" >7.973634</td>\n",
              "                        <td id=\"T_61ef80fe_f862_11eb_9594_0242ac1c0002row9_col13\" class=\"data row9 col13\" >4.836415</td>\n",
              "                        <td id=\"T_61ef80fe_f862_11eb_9594_0242ac1c0002row9_col14\" class=\"data row9 col14\" >15.369650</td>\n",
              "                        <td id=\"T_61ef80fe_f862_11eb_9594_0242ac1c0002row9_col15\" class=\"data row9 col15\" >20.422569</td>\n",
              "                        <td id=\"T_61ef80fe_f862_11eb_9594_0242ac1c0002row9_col16\" class=\"data row9 col16\" >11.753599</td>\n",
              "            </tr>\n",
              "            <tr>\n",
              "                        <th id=\"T_61ef80fe_f862_11eb_9594_0242ac1c0002level0_row10\" class=\"row_heading level0 row10\" >party</th>\n",
              "                        <td id=\"T_61ef80fe_f862_11eb_9594_0242ac1c0002row10_col0\" class=\"data row10 col0\" >0.157356</td>\n",
              "                        <td id=\"T_61ef80fe_f862_11eb_9594_0242ac1c0002row10_col1\" class=\"data row10 col1\" >5.950528</td>\n",
              "                        <td id=\"T_61ef80fe_f862_11eb_9594_0242ac1c0002row10_col2\" class=\"data row10 col2\" >2.938697</td>\n",
              "                        <td id=\"T_61ef80fe_f862_11eb_9594_0242ac1c0002row10_col3\" class=\"data row10 col3\" >2.415998</td>\n",
              "                        <td id=\"T_61ef80fe_f862_11eb_9594_0242ac1c0002row10_col4\" class=\"data row10 col4\" >6.474214</td>\n",
              "                        <td id=\"T_61ef80fe_f862_11eb_9594_0242ac1c0002row10_col5\" class=\"data row10 col5\" >0.470136</td>\n",
              "                        <td id=\"T_61ef80fe_f862_11eb_9594_0242ac1c0002row10_col6\" class=\"data row10 col6\" >3.741815</td>\n",
              "                        <td id=\"T_61ef80fe_f862_11eb_9594_0242ac1c0002row10_col7\" class=\"data row10 col7\" >5.026850</td>\n",
              "                        <td id=\"T_61ef80fe_f862_11eb_9594_0242ac1c0002row10_col8\" class=\"data row10 col8\" >15.525424</td>\n",
              "                        <td id=\"T_61ef80fe_f862_11eb_9594_0242ac1c0002row10_col9\" class=\"data row10 col9\" >1.266968</td>\n",
              "                        <td id=\"T_61ef80fe_f862_11eb_9594_0242ac1c0002row10_col10\" class=\"data row10 col10\" >0.000000</td>\n",
              "                        <td id=\"T_61ef80fe_f862_11eb_9594_0242ac1c0002row10_col11\" class=\"data row10 col11\" >1.939058</td>\n",
              "                        <td id=\"T_61ef80fe_f862_11eb_9594_0242ac1c0002row10_col12\" class=\"data row10 col12\" >4.869232</td>\n",
              "                        <td id=\"T_61ef80fe_f862_11eb_9594_0242ac1c0002row10_col13\" class=\"data row10 col13\" >2.133713</td>\n",
              "                        <td id=\"T_61ef80fe_f862_11eb_9594_0242ac1c0002row10_col14\" class=\"data row10 col14\" >2.010376</td>\n",
              "                        <td id=\"T_61ef80fe_f862_11eb_9594_0242ac1c0002row10_col15\" class=\"data row10 col15\" >0.379352</td>\n",
              "                        <td id=\"T_61ef80fe_f862_11eb_9594_0242ac1c0002row10_col16\" class=\"data row10 col16\" >2.407364</td>\n",
              "            </tr>\n",
              "            <tr>\n",
              "                        <th id=\"T_61ef80fe_f862_11eb_9594_0242ac1c0002level0_row11\" class=\"row_heading level0 row11\" >photo</th>\n",
              "                        <td id=\"T_61ef80fe_f862_11eb_9594_0242ac1c0002row11_col0\" class=\"data row11 col0\" >0.078678</td>\n",
              "                        <td id=\"T_61ef80fe_f862_11eb_9594_0242ac1c0002row11_col1\" class=\"data row11 col1\" >0.051894</td>\n",
              "                        <td id=\"T_61ef80fe_f862_11eb_9594_0242ac1c0002row11_col2\" class=\"data row11 col2\" >0.007665</td>\n",
              "                        <td id=\"T_61ef80fe_f862_11eb_9594_0242ac1c0002row11_col3\" class=\"data row11 col3\" >0.593848</td>\n",
              "                        <td id=\"T_61ef80fe_f862_11eb_9594_0242ac1c0002row11_col4\" class=\"data row11 col4\" >0.310804</td>\n",
              "                        <td id=\"T_61ef80fe_f862_11eb_9594_0242ac1c0002row11_col5\" class=\"data row11 col5\" >2.388076</td>\n",
              "                        <td id=\"T_61ef80fe_f862_11eb_9594_0242ac1c0002row11_col6\" class=\"data row11 col6\" >1.964453</td>\n",
              "                        <td id=\"T_61ef80fe_f862_11eb_9594_0242ac1c0002row11_col7\" class=\"data row11 col7\" >0.454952</td>\n",
              "                        <td id=\"T_61ef80fe_f862_11eb_9594_0242ac1c0002row11_col8\" class=\"data row11 col8\" >0.429379</td>\n",
              "                        <td id=\"T_61ef80fe_f862_11eb_9594_0242ac1c0002row11_col9\" class=\"data row11 col9\" >0.255039</td>\n",
              "                        <td id=\"T_61ef80fe_f862_11eb_9594_0242ac1c0002row11_col10\" class=\"data row11 col10\" >0.158874</td>\n",
              "                        <td id=\"T_61ef80fe_f862_11eb_9594_0242ac1c0002row11_col11\" class=\"data row11 col11\" >0.000000</td>\n",
              "                        <td id=\"T_61ef80fe_f862_11eb_9594_0242ac1c0002row11_col12\" class=\"data row11 col12\" >0.233893</td>\n",
              "                        <td id=\"T_61ef80fe_f862_11eb_9594_0242ac1c0002row11_col13\" class=\"data row11 col13\" >0.284495</td>\n",
              "                        <td id=\"T_61ef80fe_f862_11eb_9594_0242ac1c0002row11_col14\" class=\"data row11 col14\" >0.972763</td>\n",
              "                        <td id=\"T_61ef80fe_f862_11eb_9594_0242ac1c0002row11_col15\" class=\"data row11 col15\" >0.019208</td>\n",
              "                        <td id=\"T_61ef80fe_f862_11eb_9594_0242ac1c0002row11_col16\" class=\"data row11 col16\" >0.259618</td>\n",
              "            </tr>\n",
              "            <tr>\n",
              "                        <th id=\"T_61ef80fe_f862_11eb_9594_0242ac1c0002level0_row12\" class=\"row_heading level0 row12\" >recreation</th>\n",
              "                        <td id=\"T_61ef80fe_f862_11eb_9594_0242ac1c0002row12_col0\" class=\"data row12 col0\" >0.472069</td>\n",
              "                        <td id=\"T_61ef80fe_f862_11eb_9594_0242ac1c0002row12_col1\" class=\"data row12 col1\" >0.328663</td>\n",
              "                        <td id=\"T_61ef80fe_f862_11eb_9594_0242ac1c0002row12_col2\" class=\"data row12 col2\" >0.254472</td>\n",
              "                        <td id=\"T_61ef80fe_f862_11eb_9594_0242ac1c0002row12_col3\" class=\"data row12 col3\" >3.537712</td>\n",
              "                        <td id=\"T_61ef80fe_f862_11eb_9594_0242ac1c0002row12_col4\" class=\"data row12 col4\" >4.725281</td>\n",
              "                        <td id=\"T_61ef80fe_f862_11eb_9594_0242ac1c0002row12_col5\" class=\"data row12 col5\" >0.240410</td>\n",
              "                        <td id=\"T_61ef80fe_f862_11eb_9594_0242ac1c0002row12_col6\" class=\"data row12 col6\" >1.216090</td>\n",
              "                        <td id=\"T_61ef80fe_f862_11eb_9594_0242ac1c0002row12_col7\" class=\"data row12 col7\" >4.840394</td>\n",
              "                        <td id=\"T_61ef80fe_f862_11eb_9594_0242ac1c0002row12_col8\" class=\"data row12 col8\" >4.384181</td>\n",
              "                        <td id=\"T_61ef80fe_f862_11eb_9594_0242ac1c0002row12_col9\" class=\"data row12 col9\" >3.085150</td>\n",
              "                        <td id=\"T_61ef80fe_f862_11eb_9594_0242ac1c0002row12_col10\" class=\"data row12 col10\" >2.598729</td>\n",
              "                        <td id=\"T_61ef80fe_f862_11eb_9594_0242ac1c0002row12_col11\" class=\"data row12 col11\" >1.523546</td>\n",
              "                        <td id=\"T_61ef80fe_f862_11eb_9594_0242ac1c0002row12_col12\" class=\"data row12 col12\" >0.000000</td>\n",
              "                        <td id=\"T_61ef80fe_f862_11eb_9594_0242ac1c0002row12_col13\" class=\"data row12 col13\" >1.137980</td>\n",
              "                        <td id=\"T_61ef80fe_f862_11eb_9594_0242ac1c0002row12_col14\" class=\"data row12 col14\" >9.079118</td>\n",
              "                        <td id=\"T_61ef80fe_f862_11eb_9594_0242ac1c0002row12_col15\" class=\"data row12 col15\" >0.408163</td>\n",
              "                        <td id=\"T_61ef80fe_f862_11eb_9594_0242ac1c0002row12_col16\" class=\"data row12 col16\" >1.699316</td>\n",
              "            </tr>\n",
              "            <tr>\n",
              "                        <th id=\"T_61ef80fe_f862_11eb_9594_0242ac1c0002level0_row13\" class=\"row_heading level0 row13\" >shopping</th>\n",
              "                        <td id=\"T_61ef80fe_f862_11eb_9594_0242ac1c0002row13_col0\" class=\"data row13 col0\" >0.078678</td>\n",
              "                        <td id=\"T_61ef80fe_f862_11eb_9594_0242ac1c0002row13_col1\" class=\"data row13 col1\" >0.034596</td>\n",
              "                        <td id=\"T_61ef80fe_f862_11eb_9594_0242ac1c0002row13_col2\" class=\"data row13 col2\" >0.021462</td>\n",
              "                        <td id=\"T_61ef80fe_f862_11eb_9594_0242ac1c0002row13_col3\" class=\"data row13 col3\" >0.294386</td>\n",
              "                        <td id=\"T_61ef80fe_f862_11eb_9594_0242ac1c0002row13_col4\" class=\"data row13 col4\" >1.432861</td>\n",
              "                        <td id=\"T_61ef80fe_f862_11eb_9594_0242ac1c0002row13_col5\" class=\"data row13 col5\" >0.203013</td>\n",
              "                        <td id=\"T_61ef80fe_f862_11eb_9594_0242ac1c0002row13_col6\" class=\"data row13 col6\" >8.512629</td>\n",
              "                        <td id=\"T_61ef80fe_f862_11eb_9594_0242ac1c0002row13_col7\" class=\"data row13 col7\" >0.328162</td>\n",
              "                        <td id=\"T_61ef80fe_f862_11eb_9594_0242ac1c0002row13_col8\" class=\"data row13 col8\" >1.288136</td>\n",
              "                        <td id=\"T_61ef80fe_f862_11eb_9594_0242ac1c0002row13_col9\" class=\"data row13 col9\" >0.279720</td>\n",
              "                        <td id=\"T_61ef80fe_f862_11eb_9594_0242ac1c0002row13_col10\" class=\"data row13 col10\" >0.170222</td>\n",
              "                        <td id=\"T_61ef80fe_f862_11eb_9594_0242ac1c0002row13_col11\" class=\"data row13 col11\" >0.277008</td>\n",
              "                        <td id=\"T_61ef80fe_f862_11eb_9594_0242ac1c0002row13_col12\" class=\"data row13 col12\" >0.170104</td>\n",
              "                        <td id=\"T_61ef80fe_f862_11eb_9594_0242ac1c0002row13_col13\" class=\"data row13 col13\" >0.000000</td>\n",
              "                        <td id=\"T_61ef80fe_f862_11eb_9594_0242ac1c0002row13_col14\" class=\"data row13 col14\" >2.140078</td>\n",
              "                        <td id=\"T_61ef80fe_f862_11eb_9594_0242ac1c0002row13_col15\" class=\"data row13 col15\" >0.004802</td>\n",
              "                        <td id=\"T_61ef80fe_f862_11eb_9594_0242ac1c0002row13_col16\" class=\"data row13 col16\" >0.070805</td>\n",
              "            </tr>\n",
              "            <tr>\n",
              "                        <th id=\"T_61ef80fe_f862_11eb_9594_0242ac1c0002level0_row14\" class=\"row_heading level0 row14\" >social-activity</th>\n",
              "                        <td id=\"T_61ef80fe_f862_11eb_9594_0242ac1c0002row14_col0\" class=\"data row14 col0\" >0.157356</td>\n",
              "                        <td id=\"T_61ef80fe_f862_11eb_9594_0242ac1c0002row14_col1\" class=\"data row14 col1\" >0.449749</td>\n",
              "                        <td id=\"T_61ef80fe_f862_11eb_9594_0242ac1c0002row14_col2\" class=\"data row14 col2\" >0.441494</td>\n",
              "                        <td id=\"T_61ef80fe_f862_11eb_9594_0242ac1c0002row14_col3\" class=\"data row14 col3\" >1.147092</td>\n",
              "                        <td id=\"T_61ef80fe_f862_11eb_9594_0242ac1c0002row14_col4\" class=\"data row14 col4\" >1.759469</td>\n",
              "                        <td id=\"T_61ef80fe_f862_11eb_9594_0242ac1c0002row14_col5\" class=\"data row14 col5\" >0.972326</td>\n",
              "                        <td id=\"T_61ef80fe_f862_11eb_9594_0242ac1c0002row14_col6\" class=\"data row14 col6\" >1.028999</td>\n",
              "                        <td id=\"T_61ef80fe_f862_11eb_9594_0242ac1c0002row14_col7\" class=\"data row14 col7\" >2.699881</td>\n",
              "                        <td id=\"T_61ef80fe_f862_11eb_9594_0242ac1c0002row14_col8\" class=\"data row14 col8\" >1.694915</td>\n",
              "                        <td id=\"T_61ef80fe_f862_11eb_9594_0242ac1c0002row14_col9\" class=\"data row14 col9\" >1.949815</td>\n",
              "                        <td id=\"T_61ef80fe_f862_11eb_9594_0242ac1c0002row14_col10\" class=\"data row14 col10\" >0.351793</td>\n",
              "                        <td id=\"T_61ef80fe_f862_11eb_9594_0242ac1c0002row14_col11\" class=\"data row14 col11\" >2.077562</td>\n",
              "                        <td id=\"T_61ef80fe_f862_11eb_9594_0242ac1c0002row14_col12\" class=\"data row14 col12\" >2.976823</td>\n",
              "                        <td id=\"T_61ef80fe_f862_11eb_9594_0242ac1c0002row14_col13\" class=\"data row14 col13\" >4.694168</td>\n",
              "                        <td id=\"T_61ef80fe_f862_11eb_9594_0242ac1c0002row14_col14\" class=\"data row14 col14\" >0.000000</td>\n",
              "                        <td id=\"T_61ef80fe_f862_11eb_9594_0242ac1c0002row14_col15\" class=\"data row14 col15\" >0.196879</td>\n",
              "                        <td id=\"T_61ef80fe_f862_11eb_9594_0242ac1c0002row14_col16\" class=\"data row14 col16\" >0.212414</td>\n",
              "            </tr>\n",
              "            <tr>\n",
              "                        <th id=\"T_61ef80fe_f862_11eb_9594_0242ac1c0002level0_row15\" class=\"row_heading level0 row15\" >theater</th>\n",
              "                        <td id=\"T_61ef80fe_f862_11eb_9594_0242ac1c0002row15_col0\" class=\"data row15 col0\" >0.000000</td>\n",
              "                        <td id=\"T_61ef80fe_f862_11eb_9594_0242ac1c0002row15_col1\" class=\"data row15 col1\" >3.355821</td>\n",
              "                        <td id=\"T_61ef80fe_f862_11eb_9594_0242ac1c0002row15_col2\" class=\"data row15 col2\" >1.703126</td>\n",
              "                        <td id=\"T_61ef80fe_f862_11eb_9594_0242ac1c0002row15_col3\" class=\"data row15 col3\" >2.740838</td>\n",
              "                        <td id=\"T_61ef80fe_f862_11eb_9594_0242ac1c0002row15_col4\" class=\"data row15 col4\" >6.426803</td>\n",
              "                        <td id=\"T_61ef80fe_f862_11eb_9594_0242ac1c0002row15_col5\" class=\"data row15 col5\" >0.357944</td>\n",
              "                        <td id=\"T_61ef80fe_f862_11eb_9594_0242ac1c0002row15_col6\" class=\"data row15 col6\" >0.748363</td>\n",
              "                        <td id=\"T_61ef80fe_f862_11eb_9594_0242ac1c0002row15_col7\" class=\"data row15 col7\" >3.885740</td>\n",
              "                        <td id=\"T_61ef80fe_f862_11eb_9594_0242ac1c0002row15_col8\" class=\"data row15 col8\" >6.960452</td>\n",
              "                        <td id=\"T_61ef80fe_f862_11eb_9594_0242ac1c0002row15_col9\" class=\"data row15 col9\" >34.989716</td>\n",
              "                        <td id=\"T_61ef80fe_f862_11eb_9594_0242ac1c0002row15_col10\" class=\"data row15 col10\" >0.896505</td>\n",
              "                        <td id=\"T_61ef80fe_f862_11eb_9594_0242ac1c0002row15_col11\" class=\"data row15 col11\" >0.554017</td>\n",
              "                        <td id=\"T_61ef80fe_f862_11eb_9594_0242ac1c0002row15_col12\" class=\"data row15 col12\" >1.807357</td>\n",
              "                        <td id=\"T_61ef80fe_f862_11eb_9594_0242ac1c0002row15_col13\" class=\"data row15 col13\" >0.142248</td>\n",
              "                        <td id=\"T_61ef80fe_f862_11eb_9594_0242ac1c0002row15_col14\" class=\"data row15 col14\" >2.658885</td>\n",
              "                        <td id=\"T_61ef80fe_f862_11eb_9594_0242ac1c0002row15_col15\" class=\"data row15 col15\" >0.000000</td>\n",
              "                        <td id=\"T_61ef80fe_f862_11eb_9594_0242ac1c0002row15_col16\" class=\"data row15 col16\" >1.392495</td>\n",
              "            </tr>\n",
              "            <tr>\n",
              "                        <th id=\"T_61ef80fe_f862_11eb_9594_0242ac1c0002level0_row16\" class=\"row_heading level0 row16\" >tour</th>\n",
              "                        <td id=\"T_61ef80fe_f862_11eb_9594_0242ac1c0002row16_col0\" class=\"data row16 col0\" >0.078678</td>\n",
              "                        <td id=\"T_61ef80fe_f862_11eb_9594_0242ac1c0002row16_col1\" class=\"data row16 col1\" >0.363259</td>\n",
              "                        <td id=\"T_61ef80fe_f862_11eb_9594_0242ac1c0002row16_col2\" class=\"data row16 col2\" >0.087379</td>\n",
              "                        <td id=\"T_61ef80fe_f862_11eb_9594_0242ac1c0002row16_col3\" class=\"data row16 col3\" >1.867831</td>\n",
              "                        <td id=\"T_61ef80fe_f862_11eb_9594_0242ac1c0002row16_col4\" class=\"data row16 col4\" >1.475004</td>\n",
              "                        <td id=\"T_61ef80fe_f862_11eb_9594_0242ac1c0002row16_col5\" class=\"data row16 col5\" >1.394380</td>\n",
              "                        <td id=\"T_61ef80fe_f862_11eb_9594_0242ac1c0002row16_col6\" class=\"data row16 col6\" >0.187091</td>\n",
              "                        <td id=\"T_61ef80fe_f862_11eb_9594_0242ac1c0002row16_col7\" class=\"data row16 col7\" >1.297733</td>\n",
              "                        <td id=\"T_61ef80fe_f862_11eb_9594_0242ac1c0002row16_col8\" class=\"data row16 col8\" >2.847458</td>\n",
              "                        <td id=\"T_61ef80fe_f862_11eb_9594_0242ac1c0002row16_col9\" class=\"data row16 col9\" >4.097079</td>\n",
              "                        <td id=\"T_61ef80fe_f862_11eb_9594_0242ac1c0002row16_col10\" class=\"data row16 col10\" >1.157512</td>\n",
              "                        <td id=\"T_61ef80fe_f862_11eb_9594_0242ac1c0002row16_col11\" class=\"data row16 col11\" >1.523546</td>\n",
              "                        <td id=\"T_61ef80fe_f862_11eb_9594_0242ac1c0002row16_col12\" class=\"data row16 col12\" >1.530938</td>\n",
              "                        <td id=\"T_61ef80fe_f862_11eb_9594_0242ac1c0002row16_col13\" class=\"data row16 col13\" >0.426743</td>\n",
              "                        <td id=\"T_61ef80fe_f862_11eb_9594_0242ac1c0002row16_col14\" class=\"data row16 col14\" >0.583658</td>\n",
              "                        <td id=\"T_61ef80fe_f862_11eb_9594_0242ac1c0002row16_col15\" class=\"data row16 col15\" >0.283313</td>\n",
              "                        <td id=\"T_61ef80fe_f862_11eb_9594_0242ac1c0002row16_col16\" class=\"data row16 col16\" >0.000000</td>\n",
              "            </tr>\n",
              "    </tbody></table>"
            ],
            "text/plain": [
              "<pandas.io.formats.style.Styler at 0x7f51e24a6790>"
            ]
          },
          "metadata": {
            "tags": []
          },
          "execution_count": 25
        }
      ]
    },
    {
      "cell_type": "markdown",
      "metadata": {
        "id": "dHIxGOotfoEZ"
      },
      "source": [
        "Now we can easily find some trends:\n",
        "*   53% events of 'business-events' are also 'education'\n",
        "*   97% events of 'cinema' are also 'entertainment'\n",
        "*   61% events of 'photos' are also 'exhibition'\n",
        "*   and so on.. "
      ]
    }
  ]
}