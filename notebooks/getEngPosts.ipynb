{
 "cells": [
  {
   "cell_type": "markdown",
   "metadata": {},
   "source": [
    "# Get English Posts"
   ]
  },
  {
   "cell_type": "markdown",
   "metadata": {},
   "source": [
    "This notebook aims to extract posts in English language for particular time period.\n",
    "\n",
    "It uses https://huggingface.co/papluca/xlm-roberta-base-language-detection in oder to determine the language."
   ]
  },
  {
   "cell_type": "code",
   "execution_count": null,
   "metadata": {},
   "outputs": [],
   "source": [
    "DATA_PATH = os.environ['STORAGE'] + 'instagram/'\n",
    "CAPTIONS_PATH = f\"{DATA_PATH}/captions/raw/\"\n",
    "FILES = [\"nyc_posts_2019.csv\", \"nyc_posts_2018.csv\", \"nyc_posts_2020.csv\"]\n"
   ]
  },
  {
   "cell_type": "code",
   "execution_count": 14,
   "metadata": {},
   "outputs": [],
   "source": [
    "import datetime\n",
    "import time"
   ]
  },
  {
   "cell_type": "code",
   "execution_count": 7,
   "metadata": {},
   "outputs": [],
   "source": [
    "import pandas as pd"
   ]
  },
  {
   "cell_type": "code",
   "execution_count": 13,
   "metadata": {},
   "outputs": [],
   "source": [
    "df_nyc = pd.read_csv(CAPTIONS_PATH + FILES[0], sep=',')"
   ]
  },
  {
   "cell_type": "markdown",
   "metadata": {},
   "source": [
    "Data slicing process. Timestamp column is shifted to +8 hours."
   ]
  },
  {
   "cell_type": "code",
   "execution_count": null,
   "metadata": {},
   "outputs": [],
   "source": [
    "# '8 июня, 10-11 часов, 16-17 часов, 22-23 часа', '12 октября, также 10-11 часов, 16-17 часов, 22-23 часа', '4 февраля 11-13 и 22-23  часов'"
   ]
  },
  {
   "cell_type": "code",
   "execution_count": 291,
   "metadata": {},
   "outputs": [],
   "source": [
    "year = 2019\n",
    "month = 2\n",
    "day = 4"
   ]
  },
  {
   "cell_type": "code",
   "execution_count": 292,
   "metadata": {},
   "outputs": [
    {
     "name": "stdout",
     "output_type": "stream",
     "text": [
      "2019-02-04 03:00:00\n",
      "2019-02-04 03:30:00\n"
     ]
    },
    {
     "data": {
      "text/plain": [
       "(544, 2)"
      ]
     },
     "execution_count": 292,
     "metadata": {},
     "output_type": "execute_result"
    }
   ],
   "source": [
    "hour_st = 11\n",
    "hour_en = 11\n",
    "date_time = datetime.datetime(year, month, day, hour_st+8, 0)\n",
    "print(date_time)\n",
    "start = time.mktime(date_time.timetuple())\n",
    "date_time = datetime.datetime(year, month, day, hour_en+8, 30)\n",
    "print(date_time)\n",
    "end = time.mktime(date_time.timetuple())\n",
    "data1 = df_nyc[(end > df_nyc.timestamp) &  ( df_nyc.timestamp > start)][['code', 'caption']]\n",
    "data1.shape"
   ]
  },
  {
   "cell_type": "code",
   "execution_count": 293,
   "metadata": {},
   "outputs": [
    {
     "name": "stdout",
     "output_type": "stream",
     "text": [
      "2019-02-04 08:00:00\n",
      "2019-02-04 08:30:00\n"
     ]
    },
    {
     "data": {
      "text/plain": [
       "(78, 2)"
      ]
     },
     "execution_count": 293,
     "metadata": {},
     "output_type": "execute_result"
    }
   ],
   "source": [
    "# 16-17 часов это 00-01  следующего дня\n",
    "hour_st = 16\n",
    "hour_en = 16\n",
    "date_time = datetime.datetime(year, month, day, hour_st-8, 0)\n",
    "print(date_time)\n",
    "start = time.mktime(date_time.timetuple())\n",
    "date_time = datetime.datetime(year, month, day, hour_en-8, 30)\n",
    "print(date_time)\n",
    "end = time.mktime(date_time.timetuple())\n",
    "data2 = df_nyc[(end > df_nyc.timestamp) &  ( df_nyc.timestamp > start)][['code', 'caption']]\n",
    "data2.shape"
   ]
  },
  {
   "cell_type": "code",
   "execution_count": 294,
   "metadata": {},
   "outputs": [
    {
     "name": "stdout",
     "output_type": "stream",
     "text": [
      "2019-02-04 14:00:00\n",
      "2019-02-04 14:30:00\n"
     ]
    },
    {
     "data": {
      "text/plain": [
       "(569, 2)"
      ]
     },
     "execution_count": 294,
     "metadata": {},
     "output_type": "execute_result"
    }
   ],
   "source": [
    "hour_st = ( 22 + 8 ) % 24\n",
    "hour_en = ( 22 + 8 ) % 24\n",
    "#hour_st = 22\n",
    "#hour_en = 22\n",
    "date_time = datetime.datetime(year, month, day, hour_st, 0)\n",
    "print(date_time)\n",
    "start = time.mktime(date_time.timetuple())\n",
    "date_time = datetime.datetime(year, month, day, hour_en, 30)\n",
    "print(date_time)\n",
    "end = time.mktime(date_time.timetuple())\n",
    "data3 = df_nyc[(end > df_nyc.timestamp) &  ( df_nyc.timestamp > start)][['code', 'caption']]\n",
    "data3.shape"
   ]
  },
  {
   "cell_type": "code",
   "execution_count": 295,
   "metadata": {},
   "outputs": [],
   "source": [
    "new_data = pd.concat([data1, data2, data3])"
   ]
  },
  {
   "cell_type": "code",
   "execution_count": 296,
   "metadata": {},
   "outputs": [
    {
     "data": {
      "text/plain": [
       "(1118, 2)"
      ]
     },
     "execution_count": 296,
     "metadata": {},
     "output_type": "execute_result"
    }
   ],
   "source": [
    "new_data = new_data.dropna(subset=['caption'])\n",
    "new_data.shape"
   ]
  },
  {
   "cell_type": "markdown",
   "metadata": {},
   "source": [
    "Data is ready, applying model to determine language"
   ]
  },
  {
   "cell_type": "code",
   "execution_count": 273,
   "metadata": {},
   "outputs": [],
   "source": [
    "from transformers import AutoTokenizer, AutoModelForSequenceClassification, pipeline"
   ]
  },
  {
   "cell_type": "code",
   "execution_count": 159,
   "metadata": {},
   "outputs": [],
   "source": [
    "tokenizer = AutoTokenizer.from_pretrained(\"papluca/xlm-roberta-base-language-detection\")\n",
    "model = AutoModelForSequenceClassification.from_pretrained(\"papluca/xlm-roberta-base-language-detection\")"
   ]
  },
  {
   "cell_type": "code",
   "execution_count": 160,
   "metadata": {},
   "outputs": [],
   "source": [
    "classifier = pipeline(\"text-classification\", model=model, tokenizer=tokenizer)"
   ]
  },
  {
   "cell_type": "code",
   "execution_count": 178,
   "metadata": {},
   "outputs": [],
   "source": [
    "import re"
   ]
  },
  {
   "cell_type": "markdown",
   "metadata": {},
   "source": [
    "Threshold is set to 0.1, if the confidence of a model is lower, we set 'unk' as a mark."
   ]
  },
  {
   "cell_type": "code",
   "execution_count": 207,
   "metadata": {},
   "outputs": [],
   "source": [
    "def detect_modified(x):\n",
    "    try:\n",
    "        x = сlean_tags(x)\n",
    "        if classifier(x)[0]['score'] < 0.1:\n",
    "            return 'en'\n",
    "        return classifier(x)[0]['label']\n",
    "    except:\n",
    "        return 'unk'"
   ]
  },
  {
   "cell_type": "code",
   "execution_count": 208,
   "metadata": {},
   "outputs": [],
   "source": [
    "# deleting hashtags and mentions, uses only Latin letters (in order to delete emoji and other non-alphabetic symbols\n",
    "# probably should be fixed to more clever way) and digits\n",
    "def сlean_tags(x):\n",
    "    x = re.sub(r'#[\\S]*\\s', ' ', x+' ')\n",
    "    x = re.sub(r'@[\\S]*\\s', ' ', x)\n",
    "    x = re.sub(r'[^A-Za-z0-9’]+', ' ', x)\n",
    "    return x"
   ]
  },
  {
   "cell_type": "markdown",
   "metadata": {},
   "source": [
    "Some weird examples found by testing"
   ]
  },
  {
   "cell_type": "code",
   "execution_count": 209,
   "metadata": {},
   "outputs": [
    {
     "data": {
      "text/plain": [
       "([{'label': 'hi', 'score': 0.39989757537841797}],\n",
       " [{'label': 'en', 'score': 0.7795630693435669}])"
      ]
     },
     "execution_count": 209,
     "metadata": {},
     "output_type": "execute_result"
    }
   ],
   "source": [
    "classifier('Happy Birthday Little Girl! 🎠'), classifier('Happy Birthday Little Girl!')"
   ]
  },
  {
   "cell_type": "code",
   "execution_count": 210,
   "metadata": {},
   "outputs": [
    {
     "data": {
      "text/plain": [
       "([{'label': 'es', 'score': 0.8983380794525146}],\n",
       " [{'label': 'pt', 'score': 0.9497151374816895}])"
      ]
     },
     "execution_count": 210,
     "metadata": {},
     "output_type": "execute_result"
    }
   ],
   "source": [
    "classifier('Cheers y’all'), classifier('Monday mood with these Capoeira beauties Outfit')"
   ]
  },
  {
   "cell_type": "code",
   "execution_count": 297,
   "metadata": {},
   "outputs": [],
   "source": [
    "new_data['lang'] = new_data['caption'].apply(detect_modified)"
   ]
  },
  {
   "cell_type": "code",
   "execution_count": 298,
   "metadata": {},
   "outputs": [],
   "source": [
    "new_data['no_tags'] = new_data['caption'].apply(сlean_tags)"
   ]
  },
  {
   "cell_type": "code",
   "execution_count": 299,
   "metadata": {},
   "outputs": [
    {
     "data": {
      "text/plain": [
       "((164, 4), (954, 4))"
      ]
     },
     "execution_count": 299,
     "metadata": {},
     "output_type": "execute_result"
    }
   ],
   "source": [
    "new_data[new_data.lang != 'en'].shape, new_data[new_data.lang == 'en'].shape"
   ]
  },
  {
   "cell_type": "markdown",
   "metadata": {},
   "source": [
    "Examples of found non-english text to check quality by quick observation"
   ]
  },
  {
   "cell_type": "code",
   "execution_count": 300,
   "metadata": {},
   "outputs": [
    {
     "data": {
      "text/html": [
       "<div>\n",
       "<style scoped>\n",
       "    .dataframe tbody tr th:only-of-type {\n",
       "        vertical-align: middle;\n",
       "    }\n",
       "\n",
       "    .dataframe tbody tr th {\n",
       "        vertical-align: top;\n",
       "    }\n",
       "\n",
       "    .dataframe thead th {\n",
       "        text-align: right;\n",
       "    }\n",
       "</style>\n",
       "<table border=\"1\" class=\"dataframe\">\n",
       "  <thead>\n",
       "    <tr style=\"text-align: right;\">\n",
       "      <th></th>\n",
       "      <th>lang</th>\n",
       "      <th>no_tags</th>\n",
       "      <th>caption</th>\n",
       "    </tr>\n",
       "  </thead>\n",
       "  <tbody>\n",
       "    <tr>\n",
       "      <th>5743274</th>\n",
       "      <td>es</td>\n",
       "      <td>Los mejores momentos</td>\n",
       "      <td>Los mejores momentos</td>\n",
       "    </tr>\n",
       "    <tr>\n",
       "      <th>5743407</th>\n",
       "      <td>pt</td>\n",
       "      <td>Segunda parada junto a mi colega at dale ya</td>\n",
       "      <td>Segunda parada junto a mi colega @djcholo_elgr...</td>\n",
       "    </tr>\n",
       "    <tr>\n",
       "      <th>5743528</th>\n",
       "      <td>es</td>\n",
       "      <td>Nuevo ciclo 2019 en Aqui es donde nacen las pe...</td>\n",
       "      <td>Nuevo ciclo 2019 en @latintalentacademy 🏅🤸‍♀️ ...</td>\n",
       "    </tr>\n",
       "    <tr>\n",
       "      <th>5744859</th>\n",
       "      <td>nl</td>\n",
       "      <td>JCJ Vanderheyden Opening</td>\n",
       "      <td>JCJ Vanderheyden Opening @boersli_gallery #abo...</td>\n",
       "    </tr>\n",
       "    <tr>\n",
       "      <th>5745044</th>\n",
       "      <td>ur</td>\n",
       "      <td>PATRIOTS BABY</td>\n",
       "      <td>PATRIOTS BABY !!!🏈🏆🏈🏆🏈</td>\n",
       "    </tr>\n",
       "    <tr>\n",
       "      <th>5745101</th>\n",
       "      <td>fr</td>\n",
       "      <td>Saint Joseph Roman Catholic</td>\n",
       "      <td>Saint Joseph\\nRoman Catholic</td>\n",
       "    </tr>\n",
       "    <tr>\n",
       "      <th>5745268</th>\n",
       "      <td>hi</td>\n",
       "      <td>party shmarty</td>\n",
       "      <td>party shmarty 🎉🍾</td>\n",
       "    </tr>\n",
       "    <tr>\n",
       "      <th>5745602</th>\n",
       "      <td>it</td>\n",
       "      <td>A mi me fascinan</td>\n",
       "      <td>A mi me fascinan 🥰</td>\n",
       "    </tr>\n",
       "    <tr>\n",
       "      <th>5745604</th>\n",
       "      <td>es</td>\n",
       "      <td>Moda color autenticidad y comodidad</td>\n",
       "      <td>Moda, color, autenticidad y comodidad</td>\n",
       "    </tr>\n",
       "    <tr>\n",
       "      <th>5745605</th>\n",
       "      <td>es</td>\n",
       "      <td>Me encantan comodidad moda cl sico talla 35 ha...</td>\n",
       "      <td>Me encantan comodidad, moda, clásico.... talla...</td>\n",
       "    </tr>\n",
       "    <tr>\n",
       "      <th>5746017</th>\n",
       "      <td>pt</td>\n",
       "      <td>1 captain Morgan drinks</td>\n",
       "      <td>1$ captain Morgan drinks 🍹</td>\n",
       "    </tr>\n",
       "    <tr>\n",
       "      <th>5746789</th>\n",
       "      <td>it</td>\n",
       "      <td>Nest m chess tournament 3rd place in Primary d...</td>\n",
       "      <td>Nest+m chess tournament, 3rd place in Primary ...</td>\n",
       "    </tr>\n",
       "    <tr>\n",
       "      <th>5747199</th>\n",
       "      <td>tr</td>\n",
       "      <td>lou york vlogs</td>\n",
       "      <td>lou york vlogs?</td>\n",
       "    </tr>\n",
       "    <tr>\n",
       "      <th>5747204</th>\n",
       "      <td>ur</td>\n",
       "      <td>2014344080</td>\n",
       "      <td>#houseoflocs #locssocks #232westsideavejcnj073...</td>\n",
       "    </tr>\n",
       "    <tr>\n",
       "      <th>5747205</th>\n",
       "      <td>ur</td>\n",
       "      <td>2014344080</td>\n",
       "      <td>#houseoflocs #starterlocs #232westsideavejcnj0...</td>\n",
       "    </tr>\n",
       "    <tr>\n",
       "      <th>5747206</th>\n",
       "      <td>ur</td>\n",
       "      <td>2014344080</td>\n",
       "      <td>#houseoflocs #allhairtypes #232westsideavejcnj...</td>\n",
       "    </tr>\n",
       "    <tr>\n",
       "      <th>5747207</th>\n",
       "      <td>ur</td>\n",
       "      <td>2014344080</td>\n",
       "      <td>#locs #locssocks #locsprotectivecover# #houseo...</td>\n",
       "    </tr>\n",
       "    <tr>\n",
       "      <th>5747612</th>\n",
       "      <td>sw</td>\n",
       "      <td>Finnegan s thoughts on tonight s game</td>\n",
       "      <td>Finnegan's thoughts on tonight's game 😒😴</td>\n",
       "    </tr>\n",
       "    <tr>\n",
       "      <th>5747677</th>\n",
       "      <td>ur</td>\n",
       "      <td>happy birthday dk</td>\n",
       "      <td>happy birthday dk</td>\n",
       "    </tr>\n",
       "    <tr>\n",
       "      <th>5747729</th>\n",
       "      <td>es</td>\n",
       "      <td>Mazal Tov Eliana</td>\n",
       "      <td>Mazal Tov Eliana!</td>\n",
       "    </tr>\n",
       "    <tr>\n",
       "      <th>5748160</th>\n",
       "      <td>th</td>\n",
       "      <td>Chef</td>\n",
       "      <td>Chef @jacknyi \\n#mystory #japanese #delicious ...</td>\n",
       "    </tr>\n",
       "    <tr>\n",
       "      <th>5748240</th>\n",
       "      <td>ur</td>\n",
       "      <td>Euro release</td>\n",
       "      <td>Euro release 💨</td>\n",
       "    </tr>\n",
       "    <tr>\n",
       "      <th>5749316</th>\n",
       "      <td>es</td>\n",
       "      <td>El imponente y siempre elegante</td>\n",
       "      <td>El imponente y siempre elegante #jumbo 💪🇨🇷🔝\\n....</td>\n",
       "    </tr>\n",
       "    <tr>\n",
       "      <th>5750541</th>\n",
       "      <td>hi</td>\n",
       "      <td>Bar Mitzvah</td>\n",
       "      <td>Bar Mitzvah</td>\n",
       "    </tr>\n",
       "    <tr>\n",
       "      <th>5750571</th>\n",
       "      <td>sw</td>\n",
       "      <td>Black crowned night heron Immature Nycticorax ...</td>\n",
       "      <td>Black crowned night heron, Immature (Nycticora...</td>\n",
       "    </tr>\n",
       "    <tr>\n",
       "      <th>5750870</th>\n",
       "      <td>es</td>\n",
       "      <td>salsa merengue bachata y mas</td>\n",
       "      <td>salsa , merengue,bachata y mas</td>\n",
       "    </tr>\n",
       "    <tr>\n",
       "      <th>5751135</th>\n",
       "      <td>ur</td>\n",
       "      <td>Darth Vader Lucy</td>\n",
       "      <td>Darth Vader Lucy #jackrussellterrier 😆</td>\n",
       "    </tr>\n",
       "    <tr>\n",
       "      <th>5751173</th>\n",
       "      <td>es</td>\n",
       "      <td>Nuevo restaurante favorito en para desayunar</td>\n",
       "      <td>Nuevo restaurante favorito en #NYC para desayu...</td>\n",
       "    </tr>\n",
       "    <tr>\n",
       "      <th>5751210</th>\n",
       "      <td>ur</td>\n",
       "      <td>Viva Ruiz</td>\n",
       "      <td>Viva Ruiz</td>\n",
       "    </tr>\n",
       "    <tr>\n",
       "      <th>5752074</th>\n",
       "      <td>es</td>\n",
       "      <td>Vacaciones modo on en</td>\n",
       "      <td>Vacaciones modo on en #ecuador #familia #felic...</td>\n",
       "    </tr>\n",
       "    <tr>\n",
       "      <th>5752247</th>\n",
       "      <td>ur</td>\n",
       "      <td>More Klementines</td>\n",
       "      <td>More Klementines</td>\n",
       "    </tr>\n",
       "    <tr>\n",
       "      <th>5752525</th>\n",
       "      <td>sw</td>\n",
       "      <td>Sumisi n voluntaria</td>\n",
       "      <td>Sumisión voluntaria</td>\n",
       "    </tr>\n",
       "    <tr>\n",
       "      <th>5752652</th>\n",
       "      <td>sw</td>\n",
       "      <td>we be brunchin</td>\n",
       "      <td>we be brunchin .\\n.\\n.\\n#foodporn #foodie #foo...</td>\n",
       "    </tr>\n",
       "    <tr>\n",
       "      <th>5754425</th>\n",
       "      <td>pl</td>\n",
       "      <td>2 JoanneTrattoria supertasty w 2 1</td>\n",
       "      <td>2度目のニューヨーク。\\nJoanneTrattoria🍴🍝ガガパパの店はすごく素敵な店で想...</td>\n",
       "    </tr>\n",
       "    <tr>\n",
       "      <th>5754878</th>\n",
       "      <td>hi</td>\n",
       "      <td>30 DIY</td>\n",
       "      <td>.\\nここのカフェでは、さまざまな種類のシリアル、ミルク、そして30種類のトッピングからDI...</td>\n",
       "    </tr>\n",
       "    <tr>\n",
       "      <th>5754941</th>\n",
       "      <td>it</td>\n",
       "      <td>cheers</td>\n",
       "      <td>cheers</td>\n",
       "    </tr>\n",
       "    <tr>\n",
       "      <th>5755274</th>\n",
       "      <td>ur</td>\n",
       "      <td>Mexico avocado</td>\n",
       "      <td>Mexico avocado那\\n广告在每天看的韩剧中间也播。。。都快背下来广告词了\\n\\n...</td>\n",
       "    </tr>\n",
       "    <tr>\n",
       "      <th>5755366</th>\n",
       "      <td>pt</td>\n",
       "      <td>Domingo 9 10 hrs Lista para nuestro primer d a...</td>\n",
       "      <td>Domingo 9.10 hrs. Lista para nuestro primer dí...</td>\n",
       "    </tr>\n",
       "    <tr>\n",
       "      <th>5755621</th>\n",
       "      <td>es</td>\n",
       "      <td>FELICIDADES A</td>\n",
       "      <td>FELICIDADES A @luisbeato76 🎂🎂</td>\n",
       "    </tr>\n",
       "    <tr>\n",
       "      <th>5755663</th>\n",
       "      <td>pt</td>\n",
       "      <td>Huevos rancheros</td>\n",
       "      <td>Huevos rancheros</td>\n",
       "    </tr>\n",
       "    <tr>\n",
       "      <th>5756529</th>\n",
       "      <td>hi</td>\n",
       "      <td>TOM BRADY TEAM</td>\n",
       "      <td>TOM BRADY TEAM!!! 🏈🥇🏆🗽. #usa #superbowl #ameri...</td>\n",
       "    </tr>\n",
       "    <tr>\n",
       "      <th>5757081</th>\n",
       "      <td>sw</td>\n",
       "      <td>The goat tom fuking brady</td>\n",
       "      <td>The goat tom fuking brady #tombrady #patsnatio...</td>\n",
       "    </tr>\n",
       "    <tr>\n",
       "      <th>5757162</th>\n",
       "      <td>ur</td>\n",
       "      <td>6</td>\n",
       "      <td>6💍💍💍💍💍💍❤️ #patsnation</td>\n",
       "    </tr>\n",
       "    <tr>\n",
       "      <th>5757320</th>\n",
       "      <td>de</td>\n",
       "      <td>Her A Vort</td>\n",
       "      <td>Her A Vort</td>\n",
       "    </tr>\n",
       "    <tr>\n",
       "      <th>5757905</th>\n",
       "      <td>sw</td>\n",
       "      <td>You my nigga I fck wit Yu We Gonna Thug it Out...</td>\n",
       "      <td>You my nigga I fck wit Yu We Gonna Thug it Out...</td>\n",
       "    </tr>\n",
       "    <tr>\n",
       "      <th>5758269</th>\n",
       "      <td>hi</td>\n",
       "      <td>Escapism</td>\n",
       "      <td>Escapism ❤️</td>\n",
       "    </tr>\n",
       "    <tr>\n",
       "      <th>5758584</th>\n",
       "      <td>es</td>\n",
       "      <td>Quiero perderme en tus ojos</td>\n",
       "      <td>Quiero perderme en tus ojos</td>\n",
       "    </tr>\n",
       "    <tr>\n",
       "      <th>5759024</th>\n",
       "      <td>es</td>\n",
       "      <td>Diossss el mejor de la historia</td>\n",
       "      <td>Diossss el mejor de la historia @tombrady #let...</td>\n",
       "    </tr>\n",
       "    <tr>\n",
       "      <th>5759097</th>\n",
       "      <td>pt</td>\n",
       "      <td>Mmmm mmmm Salidita dominguera feliz noche</td>\n",
       "      <td>Mmmm mmmm 🤤🥰 Salidita dominguera , feliz noche...</td>\n",
       "    </tr>\n",
       "    <tr>\n",
       "      <th>5759770</th>\n",
       "      <td>hi</td>\n",
       "      <td>Lifetime friends HBD</td>\n",
       "      <td>Lifetime friends! HBD</td>\n",
       "    </tr>\n",
       "  </tbody>\n",
       "</table>\n",
       "</div>"
      ],
      "text/plain": [
       "        lang                                            no_tags  \\\n",
       "5743274   es                              Los mejores momentos    \n",
       "5743407   pt       Segunda parada junto a mi colega at dale ya    \n",
       "5743528   es  Nuevo ciclo 2019 en Aqui es donde nacen las pe...   \n",
       "5744859   nl                          JCJ Vanderheyden Opening    \n",
       "5745044   ur                                     PATRIOTS BABY    \n",
       "5745101   fr                       Saint Joseph Roman Catholic    \n",
       "5745268   hi                                     party shmarty    \n",
       "5745602   it                                  A mi me fascinan    \n",
       "5745604   es               Moda color autenticidad y comodidad    \n",
       "5745605   es  Me encantan comodidad moda cl sico talla 35 ha...   \n",
       "5746017   pt                           1 captain Morgan drinks    \n",
       "5746789   it  Nest m chess tournament 3rd place in Primary d...   \n",
       "5747199   tr                                    lou york vlogs    \n",
       "5747204   ur                                        2014344080    \n",
       "5747205   ur                                        2014344080    \n",
       "5747206   ur                                        2014344080    \n",
       "5747207   ur                                        2014344080    \n",
       "5747612   sw             Finnegan s thoughts on tonight s game    \n",
       "5747677   ur                                 happy birthday dk    \n",
       "5747729   es                                  Mazal Tov Eliana    \n",
       "5748160   th                                              Chef    \n",
       "5748240   ur                                      Euro release    \n",
       "5749316   es                   El imponente y siempre elegante    \n",
       "5750541   hi                                       Bar Mitzvah    \n",
       "5750571   sw  Black crowned night heron Immature Nycticorax ...   \n",
       "5750870   es                      salsa merengue bachata y mas    \n",
       "5751135   ur                                  Darth Vader Lucy    \n",
       "5751173   es      Nuevo restaurante favorito en para desayunar    \n",
       "5751210   ur                                         Viva Ruiz    \n",
       "5752074   es                             Vacaciones modo on en    \n",
       "5752247   ur                                  More Klementines    \n",
       "5752525   sw                               Sumisi n voluntaria    \n",
       "5752652   sw                                    we be brunchin    \n",
       "5754425   pl                2 JoanneTrattoria supertasty w 2 1    \n",
       "5754878   hi                                            30 DIY    \n",
       "5754941   it                                            cheers    \n",
       "5755274   ur                                    Mexico avocado    \n",
       "5755366   pt  Domingo 9 10 hrs Lista para nuestro primer d a...   \n",
       "5755621   es                                     FELICIDADES A    \n",
       "5755663   pt                                  Huevos rancheros    \n",
       "5756529   hi                                    TOM BRADY TEAM    \n",
       "5757081   sw                         The goat tom fuking brady    \n",
       "5757162   ur                                                 6    \n",
       "5757320   de                                        Her A Vort    \n",
       "5757905   sw  You my nigga I fck wit Yu We Gonna Thug it Out...   \n",
       "5758269   hi                                          Escapism    \n",
       "5758584   es                       Quiero perderme en tus ojos    \n",
       "5759024   es                   Diossss el mejor de la historia    \n",
       "5759097   pt         Mmmm mmmm Salidita dominguera feliz noche    \n",
       "5759770   hi                              Lifetime friends HBD    \n",
       "\n",
       "                                                   caption  \n",
       "5743274                               Los mejores momentos  \n",
       "5743407  Segunda parada junto a mi colega @djcholo_elgr...  \n",
       "5743528  Nuevo ciclo 2019 en @latintalentacademy 🏅🤸‍♀️ ...  \n",
       "5744859  JCJ Vanderheyden Opening @boersli_gallery #abo...  \n",
       "5745044                             PATRIOTS BABY !!!🏈🏆🏈🏆🏈  \n",
       "5745101                       Saint Joseph\\nRoman Catholic  \n",
       "5745268                                   party shmarty 🎉🍾  \n",
       "5745602                                 A mi me fascinan 🥰  \n",
       "5745604              Moda, color, autenticidad y comodidad  \n",
       "5745605  Me encantan comodidad, moda, clásico.... talla...  \n",
       "5746017                         1$ captain Morgan drinks 🍹  \n",
       "5746789  Nest+m chess tournament, 3rd place in Primary ...  \n",
       "5747199                                    lou york vlogs?  \n",
       "5747204  #houseoflocs #locssocks #232westsideavejcnj073...  \n",
       "5747205  #houseoflocs #starterlocs #232westsideavejcnj0...  \n",
       "5747206  #houseoflocs #allhairtypes #232westsideavejcnj...  \n",
       "5747207  #locs #locssocks #locsprotectivecover# #houseo...  \n",
       "5747612           Finnegan's thoughts on tonight's game 😒😴  \n",
       "5747677                                  happy birthday dk  \n",
       "5747729                                  Mazal Tov Eliana!  \n",
       "5748160  Chef @jacknyi \\n#mystory #japanese #delicious ...  \n",
       "5748240                                     Euro release 💨  \n",
       "5749316  El imponente y siempre elegante #jumbo 💪🇨🇷🔝\\n....  \n",
       "5750541                                        Bar Mitzvah  \n",
       "5750571  Black crowned night heron, Immature (Nycticora...  \n",
       "5750870                     salsa , merengue,bachata y mas  \n",
       "5751135             Darth Vader Lucy #jackrussellterrier 😆  \n",
       "5751173  Nuevo restaurante favorito en #NYC para desayu...  \n",
       "5751210                                          Viva Ruiz  \n",
       "5752074  Vacaciones modo on en #ecuador #familia #felic...  \n",
       "5752247                                   More Klementines  \n",
       "5752525                                Sumisión voluntaria  \n",
       "5752652  we be brunchin .\\n.\\n.\\n#foodporn #foodie #foo...  \n",
       "5754425  2度目のニューヨーク。\\nJoanneTrattoria🍴🍝ガガパパの店はすごく素敵な店で想...  \n",
       "5754878  .\\nここのカフェでは、さまざまな種類のシリアル、ミルク、そして30種類のトッピングからDI...  \n",
       "5754941                                             cheers  \n",
       "5755274  Mexico avocado那\\n广告在每天看的韩剧中间也播。。。都快背下来广告词了\\n\\n...  \n",
       "5755366  Domingo 9.10 hrs. Lista para nuestro primer dí...  \n",
       "5755621                      FELICIDADES A @luisbeato76 🎂🎂  \n",
       "5755663                                   Huevos rancheros  \n",
       "5756529  TOM BRADY TEAM!!! 🏈🥇🏆🗽. #usa #superbowl #ameri...  \n",
       "5757081  The goat tom fuking brady #tombrady #patsnatio...  \n",
       "5757162                              6💍💍💍💍💍💍❤️ #patsnation  \n",
       "5757320                                         Her A Vort  \n",
       "5757905  You my nigga I fck wit Yu We Gonna Thug it Out...  \n",
       "5758269                                        Escapism ❤️  \n",
       "5758584                        Quiero perderme en tus ojos  \n",
       "5759024  Diossss el mejor de la historia @tombrady #let...  \n",
       "5759097  Mmmm mmmm 🤤🥰 Salidita dominguera , feliz noche...  \n",
       "5759770                              Lifetime friends! HBD  "
      ]
     },
     "execution_count": 300,
     "metadata": {},
     "output_type": "execute_result"
    }
   ],
   "source": [
    "new_data[new_data.lang != 'en'].head(50)[['lang', 'no_tags', 'caption']]"
   ]
  },
  {
   "cell_type": "code",
   "execution_count": 301,
   "metadata": {},
   "outputs": [],
   "source": [
    "final_data = new_data[new_data.lang == 'en'][['code', 'caption']]"
   ]
  },
  {
   "cell_type": "code",
   "execution_count": 302,
   "metadata": {},
   "outputs": [],
   "source": [
    "final_data.to_csv(f'nyc_{day}_{month}_2019_30min.csv')"
   ]
  },
  {
   "cell_type": "markdown",
   "metadata": {},
   "source": [
    "As a result, mostly filtered data is non-English indeed, there are some exeptions but they do not affect a big role in event detection tasks. Thus, it was decided to not take them into account."
   ]
  }
 ],
 "metadata": {
  "kernelspec": {
   "display_name": "Python 3",
   "language": "python",
   "name": "python3"
  },
  "language_info": {
   "codemirror_mode": {
    "name": "ipython",
    "version": 3
   },
   "file_extension": ".py",
   "mimetype": "text/x-python",
   "name": "python",
   "nbconvert_exporter": "python",
   "pygments_lexer": "ipython3",
   "version": "3.8.5"
  }
 },
 "nbformat": 4,
 "nbformat_minor": 4
}
